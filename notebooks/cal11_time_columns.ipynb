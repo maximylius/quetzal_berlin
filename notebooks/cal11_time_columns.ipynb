{
 "cells": [
  {
   "cell_type": "code",
   "execution_count": 1,
   "metadata": {},
   "outputs": [
    {
     "name": "stderr",
     "output_type": "stream",
     "text": [
      "In C:\\Users\\marlin.arnz\\AppData\\Local\\Continuum\\miniconda3\\envs\\quetzal\\lib\\site-packages\\matplotlib\\mpl-data\\stylelib\\_classic_test.mplstyle: \n",
      "The text.latex.preview rcparam was deprecated in Matplotlib 3.3 and will be removed two minor releases later.\n",
      "In C:\\Users\\marlin.arnz\\AppData\\Local\\Continuum\\miniconda3\\envs\\quetzal\\lib\\site-packages\\matplotlib\\mpl-data\\stylelib\\_classic_test.mplstyle: \n",
      "The mathtext.fallback_to_cm rcparam was deprecated in Matplotlib 3.3 and will be removed two minor releases later.\n",
      "In C:\\Users\\marlin.arnz\\AppData\\Local\\Continuum\\miniconda3\\envs\\quetzal\\lib\\site-packages\\matplotlib\\mpl-data\\stylelib\\_classic_test.mplstyle: Support for setting the 'mathtext.fallback_to_cm' rcParam is deprecated since 3.3 and will be removed two minor releases later; use 'mathtext.fallback : 'cm' instead.\n",
      "In C:\\Users\\marlin.arnz\\AppData\\Local\\Continuum\\miniconda3\\envs\\quetzal\\lib\\site-packages\\matplotlib\\mpl-data\\stylelib\\_classic_test.mplstyle: \n",
      "The validate_bool_maybe_none function was deprecated in Matplotlib 3.3 and will be removed two minor releases later.\n",
      "In C:\\Users\\marlin.arnz\\AppData\\Local\\Continuum\\miniconda3\\envs\\quetzal\\lib\\site-packages\\matplotlib\\mpl-data\\stylelib\\_classic_test.mplstyle: \n",
      "The savefig.jpeg_quality rcparam was deprecated in Matplotlib 3.3 and will be removed two minor releases later.\n",
      "In C:\\Users\\marlin.arnz\\AppData\\Local\\Continuum\\miniconda3\\envs\\quetzal\\lib\\site-packages\\matplotlib\\mpl-data\\stylelib\\_classic_test.mplstyle: \n",
      "The keymap.all_axes rcparam was deprecated in Matplotlib 3.3 and will be removed two minor releases later.\n",
      "In C:\\Users\\marlin.arnz\\AppData\\Local\\Continuum\\miniconda3\\envs\\quetzal\\lib\\site-packages\\matplotlib\\mpl-data\\stylelib\\_classic_test.mplstyle: \n",
      "The animation.avconv_path rcparam was deprecated in Matplotlib 3.3 and will be removed two minor releases later.\n",
      "In C:\\Users\\marlin.arnz\\AppData\\Local\\Continuum\\miniconda3\\envs\\quetzal\\lib\\site-packages\\matplotlib\\mpl-data\\stylelib\\_classic_test.mplstyle: \n",
      "The animation.avconv_args rcparam was deprecated in Matplotlib 3.3 and will be removed two minor releases later.\n"
     ]
    }
   ],
   "source": [
    "import pandas as pd\n",
    "import numpy as np\n",
    "from quetzal.model import stepmodel"
   ]
  },
  {
   "cell_type": "markdown",
   "metadata": {},
   "source": [
    "# Calibration\n",
    "## Preparation of input data\n",
    "Synthesise travel time columns with optimal paths from the model"
   ]
  },
  {
   "cell_type": "code",
   "execution_count": 2,
   "metadata": {},
   "outputs": [],
   "source": [
    "input_path = '../input/transport_demand/'\n",
    "model_path = '../model/'"
   ]
  },
  {
   "cell_type": "code",
   "execution_count": 3,
   "metadata": {},
   "outputs": [],
   "source": [
    "# Load StepModel with LOS table...\n",
    "sm = stepmodel.read_json(model_path + 'de_pt_access_egress')\n",
    "pt = stepmodel.read_json(model_path + 'de_pt_los')\n",
    "car = stepmodel.read_json(model_path + 'de_road_los')"
   ]
  },
  {
   "cell_type": "code",
   "execution_count": 4,
   "metadata": {},
   "outputs": [],
   "source": [
    "sm.pt_los = pt.pt_los\n",
    "sm.car_los = car.car_los"
   ]
  },
  {
   "cell_type": "code",
   "execution_count": 5,
   "metadata": {},
   "outputs": [
    {
     "name": "stdout",
     "output_type": "stream",
     "text": [
      "102986\n"
     ]
    }
   ],
   "source": [
    "# Load calibration dataset\n",
    "trips = pd.read_csv(input_path + 'calibration_inter-cellular_trips_MiD2017.csv')\n",
    "print(len(trips.index))"
   ]
  },
  {
   "cell_type": "code",
   "execution_count": 6,
   "metadata": {},
   "outputs": [],
   "source": [
    "trips = trips.drop(columns='Unnamed: 0')\n",
    "trips.reset_index(drop=True, inplace=True)\n",
    "#trips.head()"
   ]
  },
  {
   "cell_type": "code",
   "execution_count": 9,
   "metadata": {},
   "outputs": [],
   "source": [
    "# Replace LAU codes with NUTS IDs\n",
    "if not str(trips.loc[0, 'origin']).startswith('DE'):\n",
    "    z = stepmodel.read_json(model_path + 'de_zones')\n",
    "    lau_nuts_dict = z.zones.groupby('NUTS_ID').first().set_index('lau_id')['FID'].to_dict()\n",
    "    lau_nuts_dict.update({'3241': 'DE929_city'}) # Hannover\n",
    "    trips['origin'] = trips['origin'].astype(str).map(lau_nuts_dict)\n",
    "    trips['destination'] = trips['destination'].astype(str).map(lau_nuts_dict)\n",
    "\n",
    "    # Drop all other trips\n",
    "    trips = trips.loc[(trips['origin'].notna()) & (trips['destination'].notna())]\n",
    "    len(trips.index)"
   ]
  },
  {
   "cell_type": "code",
   "execution_count": 11,
   "metadata": {},
   "outputs": [
    {
     "data": {
      "text/plain": [
       "102097"
      ]
     },
     "execution_count": 11,
     "metadata": {},
     "output_type": "execute_result"
    }
   ],
   "source": [
    "len(trips)"
   ]
  },
  {
   "cell_type": "markdown",
   "metadata": {},
   "source": [
    "All imputated time columns are needed for the MLE model. They do not replace duration statements in the survey but complement each trip with alternative travel times in modes that were not used for this trip."
   ]
  },
  {
   "cell_type": "code",
   "execution_count": 12,
   "metadata": {},
   "outputs": [],
   "source": [
    "# Create dictionaries from LoS tables\n",
    "# Take the fastest trips\n",
    "car_dict = sm.car_los.sort_values('time').groupby(\n",
    "    ['origin', 'destination']).first()['time'].to_dict()\n",
    "pt_dict = sm.pt_los.sort_values('time').groupby(\n",
    "    ['origin', 'destination', 'route_type']).first()['time'].to_dict()"
   ]
  },
  {
   "cell_type": "code",
   "execution_count": 13,
   "metadata": {},
   "outputs": [],
   "source": [
    "# Car\n",
    "# Directly from car LoS table, converted to minutes\n",
    "trips['time_car'] = [car_dict[a]/60\n",
    "                     if a in car_dict.keys() else np.nan\n",
    "                     for a in tuple(zip(trips['origin'], trips['destination']))]"
   ]
  },
  {
   "cell_type": "code",
   "execution_count": 14,
   "metadata": {},
   "outputs": [
    {
     "name": "stdout",
     "output_type": "stream",
     "text": [
      "0\n",
      "0.0\n"
     ]
    }
   ],
   "source": [
    "# Some OD pairs might not be in the volumes table\n",
    "# which results in missing values for the calibration dataset\n",
    "k = len(trips.loc[trips['time_car'].isna()])\n",
    "print(k)\n",
    "print(k / len(trips.loc[trips['mode_model']==6]))"
   ]
  },
  {
   "cell_type": "code",
   "execution_count": 15,
   "metadata": {},
   "outputs": [],
   "source": [
    "# Drop trips without time reference if its share is insignificant\n",
    "trips = trips.loc[trips['time_car'].notna()]"
   ]
  },
  {
   "cell_type": "code",
   "execution_count": 16,
   "metadata": {},
   "outputs": [],
   "source": [
    "# PT\n",
    "for t in sm.pt_los['route_type'].unique():\n",
    "    trips['route_type'] = t\n",
    "    trips['time_' + t] = [pt_dict[a]/60\n",
    "        if a in pt_dict.keys() else np.inf\n",
    "        for a in tuple(zip(trips['origin'], trips['destination'], trips['route_type']))]\n",
    "trips.drop('route_type', axis=1, inplace=True)"
   ]
  },
  {
   "cell_type": "code",
   "execution_count": 17,
   "metadata": {},
   "outputs": [],
   "source": [
    "# Replace time for the mode of choice\n",
    "mode_col_map = {1: 'time_rail_short_distance', 2: 'time_rail_long_distance',\n",
    "                3: 'time_coach', 4: 'time_bus', 5: 'time_air',\n",
    "                6: 'time_car', 7: 'time_walk'}\n",
    "for index, row in trips.iterrows():\n",
    "    trips.loc[index, mode_col_map[row['mode_model']]] = row['duration']"
   ]
  },
  {
   "cell_type": "code",
   "execution_count": 18,
   "metadata": {},
   "outputs": [],
   "source": [
    "# The fastest route determines time of rail service\n",
    "trips['time_rail'] = [min(t_s, t_l)\n",
    "                      for t_s, t_l in zip(trips['time_rail_short_distance'],\n",
    "                                          trips['time_rail_long_distance'])]\n",
    "trips.loc[trips['mode_model']==1, 'time_rail'] = \\\n",
    "    trips.loc[trips['mode_model']==1, 'time_rail_short_distance']\n",
    "trips.loc[trips['mode_model']==2, 'time_rail'] = \\\n",
    "    trips.loc[trips['mode_model']==2, 'time_rail_long_distance']"
   ]
  },
  {
   "cell_type": "code",
   "execution_count": 19,
   "metadata": {},
   "outputs": [
    {
     "data": {
      "text/html": [
       "<div>\n",
       "<style scoped>\n",
       "    .dataframe tbody tr th:only-of-type {\n",
       "        vertical-align: middle;\n",
       "    }\n",
       "\n",
       "    .dataframe tbody tr th {\n",
       "        vertical-align: top;\n",
       "    }\n",
       "\n",
       "    .dataframe thead th {\n",
       "        text-align: right;\n",
       "    }\n",
       "</style>\n",
       "<table border=\"1\" class=\"dataframe\">\n",
       "  <thead>\n",
       "    <tr style=\"text-align: right;\">\n",
       "      <th></th>\n",
       "      <th>time_rail_long_distance</th>\n",
       "      <th>time_rail_short_distance</th>\n",
       "      <th>time_rail</th>\n",
       "      <th>time_coach</th>\n",
       "      <th>time_bus</th>\n",
       "      <th>time_air</th>\n",
       "      <th>time_car</th>\n",
       "      <th>time_walk</th>\n",
       "    </tr>\n",
       "    <tr>\n",
       "      <th>mode_model</th>\n",
       "      <th></th>\n",
       "      <th></th>\n",
       "      <th></th>\n",
       "      <th></th>\n",
       "      <th></th>\n",
       "      <th></th>\n",
       "      <th></th>\n",
       "      <th></th>\n",
       "    </tr>\n",
       "  </thead>\n",
       "  <tbody>\n",
       "    <tr>\n",
       "      <th>1</th>\n",
       "      <td>inf</td>\n",
       "      <td>65.807225</td>\n",
       "      <td>65.807225</td>\n",
       "      <td>inf</td>\n",
       "      <td>inf</td>\n",
       "      <td>inf</td>\n",
       "      <td>55.136587</td>\n",
       "      <td>inf</td>\n",
       "    </tr>\n",
       "    <tr>\n",
       "      <th>2</th>\n",
       "      <td>167.595982</td>\n",
       "      <td>inf</td>\n",
       "      <td>167.595982</td>\n",
       "      <td>inf</td>\n",
       "      <td>inf</td>\n",
       "      <td>inf</td>\n",
       "      <td>163.510249</td>\n",
       "      <td>inf</td>\n",
       "    </tr>\n",
       "    <tr>\n",
       "      <th>3</th>\n",
       "      <td>inf</td>\n",
       "      <td>inf</td>\n",
       "      <td>inf</td>\n",
       "      <td>103.633333</td>\n",
       "      <td>inf</td>\n",
       "      <td>inf</td>\n",
       "      <td>105.756389</td>\n",
       "      <td>inf</td>\n",
       "    </tr>\n",
       "    <tr>\n",
       "      <th>4</th>\n",
       "      <td>inf</td>\n",
       "      <td>inf</td>\n",
       "      <td>inf</td>\n",
       "      <td>inf</td>\n",
       "      <td>45.13493</td>\n",
       "      <td>inf</td>\n",
       "      <td>74.710987</td>\n",
       "      <td>inf</td>\n",
       "    </tr>\n",
       "    <tr>\n",
       "      <th>5</th>\n",
       "      <td>inf</td>\n",
       "      <td>inf</td>\n",
       "      <td>inf</td>\n",
       "      <td>inf</td>\n",
       "      <td>inf</td>\n",
       "      <td>122.5</td>\n",
       "      <td>332.960897</td>\n",
       "      <td>inf</td>\n",
       "    </tr>\n",
       "    <tr>\n",
       "      <th>6</th>\n",
       "      <td>inf</td>\n",
       "      <td>inf</td>\n",
       "      <td>inf</td>\n",
       "      <td>inf</td>\n",
       "      <td>inf</td>\n",
       "      <td>inf</td>\n",
       "      <td>40.479926</td>\n",
       "      <td>inf</td>\n",
       "    </tr>\n",
       "    <tr>\n",
       "      <th>7</th>\n",
       "      <td>inf</td>\n",
       "      <td>inf</td>\n",
       "      <td>inf</td>\n",
       "      <td>inf</td>\n",
       "      <td>inf</td>\n",
       "      <td>inf</td>\n",
       "      <td>117.140852</td>\n",
       "      <td>27.127867</td>\n",
       "    </tr>\n",
       "  </tbody>\n",
       "</table>\n",
       "</div>"
      ],
      "text/plain": [
       "            time_rail_long_distance  time_rail_short_distance   time_rail  \\\n",
       "mode_model                                                                  \n",
       "1                               inf                 65.807225   65.807225   \n",
       "2                        167.595982                       inf  167.595982   \n",
       "3                               inf                       inf         inf   \n",
       "4                               inf                       inf         inf   \n",
       "5                               inf                       inf         inf   \n",
       "6                               inf                       inf         inf   \n",
       "7                               inf                       inf         inf   \n",
       "\n",
       "            time_coach  time_bus  time_air    time_car  time_walk  \n",
       "mode_model                                                         \n",
       "1                  inf       inf       inf   55.136587        inf  \n",
       "2                  inf       inf       inf  163.510249        inf  \n",
       "3           103.633333       inf       inf  105.756389        inf  \n",
       "4                  inf  45.13493       inf   74.710987        inf  \n",
       "5                  inf       inf     122.5  332.960897        inf  \n",
       "6                  inf       inf       inf   40.479926        inf  \n",
       "7                  inf       inf       inf  117.140852  27.127867  "
      ]
     },
     "execution_count": 19,
     "metadata": {},
     "output_type": "execute_result"
    }
   ],
   "source": [
    "trips.groupby('mode_model').agg(\n",
    "    {'time_rail_long_distance': 'mean', 'time_rail_short_distance': 'mean',\n",
    "     'time_rail': 'mean', 'time_coach': 'mean', 'time_bus': 'mean',\n",
    "     'time_air': 'mean', 'time_car': 'mean', 'time_walk': 'mean'})"
   ]
  },
  {
   "cell_type": "code",
   "execution_count": 20,
   "metadata": {},
   "outputs": [
    {
     "data": {
      "text/html": [
       "<div>\n",
       "<style scoped>\n",
       "    .dataframe tbody tr th:only-of-type {\n",
       "        vertical-align: middle;\n",
       "    }\n",
       "\n",
       "    .dataframe tbody tr th {\n",
       "        vertical-align: top;\n",
       "    }\n",
       "\n",
       "    .dataframe thead th {\n",
       "        text-align: right;\n",
       "    }\n",
       "</style>\n",
       "<table border=\"1\" class=\"dataframe\">\n",
       "  <thead>\n",
       "    <tr style=\"text-align: right;\">\n",
       "      <th></th>\n",
       "      <th>time_rail_long_distance</th>\n",
       "      <th>time_rail_short_distance</th>\n",
       "      <th>time_rail</th>\n",
       "      <th>time_coach</th>\n",
       "      <th>time_bus</th>\n",
       "      <th>time_air</th>\n",
       "      <th>time_car</th>\n",
       "      <th>time_walk</th>\n",
       "    </tr>\n",
       "    <tr>\n",
       "      <th>mode_model</th>\n",
       "      <th></th>\n",
       "      <th></th>\n",
       "      <th></th>\n",
       "      <th></th>\n",
       "      <th></th>\n",
       "      <th></th>\n",
       "      <th></th>\n",
       "      <th></th>\n",
       "    </tr>\n",
       "  </thead>\n",
       "  <tbody>\n",
       "    <tr>\n",
       "      <th>1</th>\n",
       "      <td>138.607459</td>\n",
       "      <td>65.807225</td>\n",
       "      <td>65.807225</td>\n",
       "      <td>130.854784</td>\n",
       "      <td>91.461127</td>\n",
       "      <td>262.869401</td>\n",
       "      <td>55.136587</td>\n",
       "      <td>60.943709</td>\n",
       "    </tr>\n",
       "    <tr>\n",
       "      <th>2</th>\n",
       "      <td>167.595982</td>\n",
       "      <td>176.388048</td>\n",
       "      <td>167.595982</td>\n",
       "      <td>236.523342</td>\n",
       "      <td>110.773077</td>\n",
       "      <td>245.190580</td>\n",
       "      <td>163.510249</td>\n",
       "      <td>67.583333</td>\n",
       "    </tr>\n",
       "    <tr>\n",
       "      <th>3</th>\n",
       "      <td>196.675610</td>\n",
       "      <td>140.352222</td>\n",
       "      <td>136.795043</td>\n",
       "      <td>103.633333</td>\n",
       "      <td>94.706497</td>\n",
       "      <td>294.730667</td>\n",
       "      <td>105.756389</td>\n",
       "      <td>62.648649</td>\n",
       "    </tr>\n",
       "    <tr>\n",
       "      <th>4</th>\n",
       "      <td>198.357045</td>\n",
       "      <td>118.169193</td>\n",
       "      <td>118.339126</td>\n",
       "      <td>204.902042</td>\n",
       "      <td>45.134930</td>\n",
       "      <td>261.304746</td>\n",
       "      <td>74.710987</td>\n",
       "      <td>62.785609</td>\n",
       "    </tr>\n",
       "    <tr>\n",
       "      <th>5</th>\n",
       "      <td>286.573485</td>\n",
       "      <td>435.658889</td>\n",
       "      <td>286.555072</td>\n",
       "      <td>418.374561</td>\n",
       "      <td>NaN</td>\n",
       "      <td>122.500000</td>\n",
       "      <td>332.960897</td>\n",
       "      <td>71.433333</td>\n",
       "    </tr>\n",
       "    <tr>\n",
       "      <th>6</th>\n",
       "      <td>183.010193</td>\n",
       "      <td>112.177033</td>\n",
       "      <td>111.115197</td>\n",
       "      <td>179.404866</td>\n",
       "      <td>95.407455</td>\n",
       "      <td>294.388113</td>\n",
       "      <td>40.479926</td>\n",
       "      <td>65.206251</td>\n",
       "    </tr>\n",
       "    <tr>\n",
       "      <th>7</th>\n",
       "      <td>233.338101</td>\n",
       "      <td>163.385860</td>\n",
       "      <td>160.071780</td>\n",
       "      <td>267.362791</td>\n",
       "      <td>94.249672</td>\n",
       "      <td>288.837081</td>\n",
       "      <td>117.140852</td>\n",
       "      <td>27.127867</td>\n",
       "    </tr>\n",
       "  </tbody>\n",
       "</table>\n",
       "</div>"
      ],
      "text/plain": [
       "            time_rail_long_distance  time_rail_short_distance   time_rail  \\\n",
       "mode_model                                                                  \n",
       "1                        138.607459                 65.807225   65.807225   \n",
       "2                        167.595982                176.388048  167.595982   \n",
       "3                        196.675610                140.352222  136.795043   \n",
       "4                        198.357045                118.169193  118.339126   \n",
       "5                        286.573485                435.658889  286.555072   \n",
       "6                        183.010193                112.177033  111.115197   \n",
       "7                        233.338101                163.385860  160.071780   \n",
       "\n",
       "            time_coach    time_bus    time_air    time_car  time_walk  \n",
       "mode_model                                                             \n",
       "1           130.854784   91.461127  262.869401   55.136587  60.943709  \n",
       "2           236.523342  110.773077  245.190580  163.510249  67.583333  \n",
       "3           103.633333   94.706497  294.730667  105.756389  62.648649  \n",
       "4           204.902042   45.134930  261.304746   74.710987  62.785609  \n",
       "5           418.374561         NaN  122.500000  332.960897  71.433333  \n",
       "6           179.404866   95.407455  294.388113   40.479926  65.206251  \n",
       "7           267.362791   94.249672  288.837081  117.140852  27.127867  "
      ]
     },
     "execution_count": 20,
     "metadata": {},
     "output_type": "execute_result"
    }
   ],
   "source": [
    "trips.replace({np.inf:np.nan}).groupby('mode_model').agg(\n",
    "    {'time_rail_long_distance': 'mean', 'time_rail_short_distance': 'mean',\n",
    "     'time_rail': 'mean', 'time_coach': 'mean', 'time_bus': 'mean',\n",
    "     'time_air': 'mean', 'time_car': 'mean', 'time_walk': 'mean'})"
   ]
  },
  {
   "cell_type": "code",
   "execution_count": 21,
   "metadata": {},
   "outputs": [
    {
     "name": "stdout",
     "output_type": "stream",
     "text": [
      "rail_short_distance: 0 observations have no model connection (0.0 percent)\n",
      "rail_long_distance: 0 observations have no model connection (0.0 percent)\n",
      "coach: 0 observations have no model connection (0.0 percent)\n",
      "bus: 0 observations have no model connection (0.0 percent)\n",
      "air: 0 observations have no model connection (0.0 percent)\n",
      "car: 0 observations have no model connection (0.0 percent)\n",
      "walk: 0 observations have no model connection (0.0 percent)\n"
     ]
    }
   ],
   "source": [
    "# How many observations must be dropped later and what are their shares?\n",
    "mode_dict = {1: 'rail_short_distance', 2: 'rail_long_distance',\n",
    "             3: 'coach', 4: 'bus', 5: 'air', 6: 'car', 7: 'walk'}\n",
    "mode_dict = {v:k for k,v in mode_dict.items()}\n",
    "for t in mode_dict.keys():\n",
    "    k = len(trips.loc[((trips['mode_model']==mode_dict[t]) & (trips['time_'+t]==np.inf))])\n",
    "    print('{}: {} observations have no model connection ({} percent)'.format(\n",
    "        t, k, k/len(trips.loc[trips['mode_model']==mode_dict[t]])*100))"
   ]
  },
  {
   "cell_type": "markdown",
   "metadata": {},
   "source": [
    "### Save calibration dataset"
   ]
  },
  {
   "cell_type": "code",
   "execution_count": 22,
   "metadata": {},
   "outputs": [],
   "source": [
    "trips.to_csv(input_path + 'calibration_inter-cellular_trips_MiD2017.csv')"
   ]
  }
 ],
 "metadata": {
  "kernelspec": {
   "display_name": "Python 3",
   "language": "python",
   "name": "python3"
  },
  "language_info": {
   "codemirror_mode": {
    "name": "ipython",
    "version": 3
   },
   "file_extension": ".py",
   "mimetype": "text/x-python",
   "name": "python",
   "nbconvert_exporter": "python",
   "pygments_lexer": "ipython3",
   "version": "3.8.1"
  }
 },
 "nbformat": 4,
 "nbformat_minor": 4
}
