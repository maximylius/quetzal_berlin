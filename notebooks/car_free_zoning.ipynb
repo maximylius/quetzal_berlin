{
 "cells": [
  {
   "cell_type": "code",
   "execution_count": null,
   "metadata": {
    "collapsed": true,
    "pycharm": {
     "name": "#%%\n"
    }
   },
   "outputs": [],
   "source": [
    "import sys # for automation and parallelization\n",
    "manual, scenario = (True, 'base') if 'ipykernel' in sys.argv[0] else (False, sys.argv[1])\n",
    "if manual:\n",
    "    %matplotlib inline"
   ]
  },
  {
   "cell_type": "code",
   "execution_count": null,
   "outputs": [],
   "source": [
    "import pandas as pd\n",
    "import geopandas as gpd\n",
    "from shapely.geometry import Point, LineString\n",
    "from quetzal.model import stepmodel\n",
    "import matplotlib.pyplot as plt\n",
    "import numpy as np\n",
    "import time"
   ],
   "metadata": {
    "collapsed": false,
    "pycharm": {
     "name": "#%%\n"
    }
   }
  },
  {
   "cell_type": "code",
   "execution_count": null,
   "outputs": [],
   "source": [
    "# import helper functions\n",
    "# imports all helper functions stored in class \"helpers\"\n",
    "%run -i helperFunctions.py"
   ],
   "metadata": {
    "collapsed": false,
    "pycharm": {
     "name": "#%%\n"
    }
   }
  },
  {
   "cell_type": "markdown",
   "source": [
    "# Create zones and add basic information\n",
    "## Zones Berliner Ortsteile, number of inhabitants\n",
    "Uses Berliner Ortsteile (n=98), source: https://fbinter.stadt-berlin.de/fb/wfs/data/senstadt/s_wfs_alkis_ortsteile\n",
    "\n",
    "Population data on bulding block level 2020, source: https://fbinter.stadt-berlin.de/fb/wfs/data/senstadt/s06_06ewdichte2020"
   ],
   "metadata": {
    "collapsed": false,
    "pycharm": {
     "name": "#%% md\n"
    }
   }
  },
  {
   "cell_type": "code",
   "execution_count": null,
   "outputs": [],
   "source": [
    "input_path = '../input/zones/'\n",
    "output_path = '../output/'\n",
    "model_path = '../model/'"
   ],
   "metadata": {
    "collapsed": false,
    "pycharm": {
     "name": "#%%\n"
    }
   }
  },
  {
   "cell_type": "code",
   "execution_count": null,
   "outputs": [],
   "source": [
    "input_path = '../input/zones/'\n",
    "output_path = '../output/'\n",
    "model_path = '../model/'\n"
   ],
   "metadata": {
    "collapsed": false,
    "pycharm": {
     "name": "#%%\n"
    }
   }
  },
  {
   "cell_type": "code",
   "execution_count": null,
   "outputs": [],
   "source": [
    "# Initialising StepModel...\n",
    "sm = stepmodel.StepModel(debug=False,\n",
    "                         walk_on_road=False,\n",
    "                         epsg=4326,\n",
    "                         coordinates_unit=None)"
   ],
   "metadata": {
    "collapsed": false,
    "pycharm": {
     "name": "#%%\n"
    }
   }
  },
  {
   "cell_type": "markdown",
   "source": [
    "### read in Berliner Ortsteile shapefile"
   ],
   "metadata": {
    "collapsed": false,
    "pycharm": {
     "name": "#%% md\n"
    }
   }
  },
  {
   "cell_type": "code",
   "execution_count": null,
   "outputs": [],
   "source": [
    "# Adding zones...\n",
    "zones = gpd.read_file(input_path + \"Berliner_Ortsteile.shp\")\n",
    "# remove duplicate zone (Buch)\n",
    "zones = zones[list(map(lambda x: x not in zones[zones[\"nam\"]==\"Buch\"][1:].index, zones.index))]\n",
    "zones = zones.reset_index()\n",
    "zones[\"zoneIndex\"] = zones.index\n",
    "sm.zones = zones\n",
    "zones.plot()"
   ],
   "metadata": {
    "collapsed": false,
    "pycharm": {
     "name": "#%%\n"
    }
   }
  },
  {
   "cell_type": "markdown",
   "source": [
    "### read car free zone border"
   ],
   "metadata": {
    "collapsed": false,
    "pycharm": {
     "name": "#%% md\n"
    }
   }
  },
  {
   "cell_type": "code",
   "execution_count": null,
   "outputs": [],
   "source": [
    "# adding border\n",
    "car_border = gpd.read_file(input_path + \"Umweltzone.shp\")\n",
    "\n",
    "#plot\n",
    "fig, ax = plt.subplots(figsize = (16,16))\n",
    "zones.plot(ax=ax, color = \"#ffffff33\", edgecolor=\"#999999\")\n",
    "car_border.plot(ax=ax,color='#ffffff33',  edgecolor = \"red\")"
   ],
   "metadata": {
    "collapsed": false,
    "pycharm": {
     "name": "#%%\n"
    }
   }
  },
  {
   "cell_type": "code",
   "execution_count": null,
   "outputs": [],
   "source": [
    "zones_union = zones.unary_union\n",
    "#zones_union.plot()\n",
    "\n",
    "middle = gpd.GeoSeries(zones.geometry.intersection(car_border.unary_union))\n",
    "outter = gpd.GeoSeries(zones.geometry.difference(car_border.unary_union))\n",
    "whole_with_car_border = middle.geometry.append(outter.geometry)\n",
    "\n",
    "fig, ax = plt.subplots(figsize = (16,16))\n",
    "outter.plot(ax=ax, color = '#dc8f8f')\n",
    "middle.plot(ax=ax, color='#3DC76D')\n",
    "\n",
    "whole_with_car_border.plot( ax=ax, color = \"#ffffff33\", edgecolor=\"#999999\")"
   ],
   "metadata": {
    "collapsed": false,
    "pycharm": {
     "name": "#%%\n"
    }
   }
  },
  {
   "cell_type": "markdown",
   "source": [
    "### Open Questions:\n",
    "- Join smaller bits into bigger zones?\n",
    "- Use only for car-free or also for 'before' (Anja: for both)"
   ],
   "metadata": {
    "collapsed": false,
    "pycharm": {
     "name": "#%% md\n"
    }
   }
  },
  {
   "cell_type": "code",
   "execution_count": null,
   "outputs": [],
   "source": [],
   "metadata": {
    "collapsed": false,
    "pycharm": {
     "name": "#%%\n"
    }
   }
  }
 ],
 "metadata": {
  "kernelspec": {
   "display_name": "Python 3",
   "language": "python",
   "name": "python3"
  },
  "language_info": {
   "codemirror_mode": {
    "name": "ipython",
    "version": 2
   },
   "file_extension": ".py",
   "mimetype": "text/x-python",
   "name": "python",
   "nbconvert_exporter": "python",
   "pygments_lexer": "ipython2",
   "version": "2.7.6"
  }
 },
 "nbformat": 4,
 "nbformat_minor": 0
}