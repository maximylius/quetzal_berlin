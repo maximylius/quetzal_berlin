{
 "cells": [
  {
   "cell_type": "code",
   "execution_count": 1,
   "metadata": {},
   "outputs": [
    {
     "name": "stderr",
     "output_type": "stream",
     "text": [
      "In C:\\Users\\marlin.arnz\\AppData\\Local\\Continuum\\miniconda3\\envs\\quetzal\\lib\\site-packages\\matplotlib\\mpl-data\\stylelib\\_classic_test.mplstyle: \n",
      "The text.latex.preview rcparam was deprecated in Matplotlib 3.3 and will be removed two minor releases later.\n",
      "In C:\\Users\\marlin.arnz\\AppData\\Local\\Continuum\\miniconda3\\envs\\quetzal\\lib\\site-packages\\matplotlib\\mpl-data\\stylelib\\_classic_test.mplstyle: \n",
      "The mathtext.fallback_to_cm rcparam was deprecated in Matplotlib 3.3 and will be removed two minor releases later.\n",
      "In C:\\Users\\marlin.arnz\\AppData\\Local\\Continuum\\miniconda3\\envs\\quetzal\\lib\\site-packages\\matplotlib\\mpl-data\\stylelib\\_classic_test.mplstyle: Support for setting the 'mathtext.fallback_to_cm' rcParam is deprecated since 3.3 and will be removed two minor releases later; use 'mathtext.fallback : 'cm' instead.\n",
      "In C:\\Users\\marlin.arnz\\AppData\\Local\\Continuum\\miniconda3\\envs\\quetzal\\lib\\site-packages\\matplotlib\\mpl-data\\stylelib\\_classic_test.mplstyle: \n",
      "The validate_bool_maybe_none function was deprecated in Matplotlib 3.3 and will be removed two minor releases later.\n",
      "In C:\\Users\\marlin.arnz\\AppData\\Local\\Continuum\\miniconda3\\envs\\quetzal\\lib\\site-packages\\matplotlib\\mpl-data\\stylelib\\_classic_test.mplstyle: \n",
      "The savefig.jpeg_quality rcparam was deprecated in Matplotlib 3.3 and will be removed two minor releases later.\n",
      "In C:\\Users\\marlin.arnz\\AppData\\Local\\Continuum\\miniconda3\\envs\\quetzal\\lib\\site-packages\\matplotlib\\mpl-data\\stylelib\\_classic_test.mplstyle: \n",
      "The keymap.all_axes rcparam was deprecated in Matplotlib 3.3 and will be removed two minor releases later.\n",
      "In C:\\Users\\marlin.arnz\\AppData\\Local\\Continuum\\miniconda3\\envs\\quetzal\\lib\\site-packages\\matplotlib\\mpl-data\\stylelib\\_classic_test.mplstyle: \n",
      "The animation.avconv_path rcparam was deprecated in Matplotlib 3.3 and will be removed two minor releases later.\n",
      "In C:\\Users\\marlin.arnz\\AppData\\Local\\Continuum\\miniconda3\\envs\\quetzal\\lib\\site-packages\\matplotlib\\mpl-data\\stylelib\\_classic_test.mplstyle: \n",
      "The animation.avconv_args rcparam was deprecated in Matplotlib 3.3 and will be removed two minor releases later.\n"
     ]
    }
   ],
   "source": [
    "import math\n",
    "import pandas as pd\n",
    "import numpy as np\n",
    "from geopy.distance import geodesic\n",
    "from quetzal.model import stepmodel"
   ]
  },
  {
   "cell_type": "markdown",
   "metadata": {},
   "source": [
    "# Preparation of the LoS tables\n",
    "## Saves price and accessibility attribute to PT LoS table\n",
    "## Needs PT LoS table and links"
   ]
  },
  {
   "cell_type": "code",
   "execution_count": 2,
   "metadata": {},
   "outputs": [],
   "source": [
    "input_path = '../input_static/'\n",
    "output_path = '../output/'\n",
    "model_path = '../model/'"
   ]
  },
  {
   "cell_type": "code",
   "execution_count": 3,
   "metadata": {},
   "outputs": [],
   "source": [
    "sm = stepmodel.read_json(model_path + 'de_pt_network_agg')\n",
    "los = stepmodel.read_json(model_path + 'de_pt_los')"
   ]
  },
  {
   "cell_type": "code",
   "execution_count": 4,
   "metadata": {},
   "outputs": [],
   "source": [
    "sm.pt_los = los.pt_los"
   ]
  },
  {
   "cell_type": "markdown",
   "metadata": {},
   "source": [
    "## Prices"
   ]
  },
  {
   "cell_type": "code",
   "execution_count": 5,
   "metadata": {},
   "outputs": [],
   "source": [
    "# Cost function\n",
    "def monetary_cost(length, rf, vc, ac, al, ec, el, sf):\n",
    "    \"\"\" calculate monetary cost of travelling one O-D realtion within the LoS table\n",
    "    :param length: length of main leg in meter\n",
    "    :param df: regression factor for length (to be calibrated beforehand)\n",
    "    :param vc: distance-specific transport cost\n",
    "    :param ac: access cost\n",
    "    :param al: access link length (m)\n",
    "    :param ec: egress cost\n",
    "    :param el: egress link length (m)\n",
    "    :param sf: sharing factor (e.g. occupancy factor of a car)\n",
    "    :return: monetary cost\"\"\"\n",
    "    return (math.pow(length, rf) * vc + ac * al + ec * el) / sf"
   ]
  },
  {
   "cell_type": "code",
   "execution_count": 6,
   "metadata": {},
   "outputs": [
    {
     "data": {
      "text/html": [
       "<div>\n",
       "<style scoped>\n",
       "    .dataframe tbody tr th:only-of-type {\n",
       "        vertical-align: middle;\n",
       "    }\n",
       "\n",
       "    .dataframe tbody tr th {\n",
       "        vertical-align: top;\n",
       "    }\n",
       "\n",
       "    .dataframe thead th {\n",
       "        text-align: right;\n",
       "    }\n",
       "</style>\n",
       "<table border=\"1\" class=\"dataframe\">\n",
       "  <thead>\n",
       "    <tr style=\"text-align: right;\">\n",
       "      <th></th>\n",
       "      <th>km</th>\n",
       "      <th>single_trip_second_class</th>\n",
       "      <th>single_trip_first_class</th>\n",
       "      <th>return_trip_second_class</th>\n",
       "      <th>return_trip_first_class</th>\n",
       "    </tr>\n",
       "  </thead>\n",
       "  <tbody>\n",
       "    <tr>\n",
       "      <th>0</th>\n",
       "      <td>37.0</td>\n",
       "      <td>10.1</td>\n",
       "      <td>16.2</td>\n",
       "      <td>20.2</td>\n",
       "      <td>32.4</td>\n",
       "    </tr>\n",
       "    <tr>\n",
       "      <th>1</th>\n",
       "      <td>38.0</td>\n",
       "      <td>10.3</td>\n",
       "      <td>16.5</td>\n",
       "      <td>20.6</td>\n",
       "      <td>33.0</td>\n",
       "    </tr>\n",
       "    <tr>\n",
       "      <th>2</th>\n",
       "      <td>39.0</td>\n",
       "      <td>10.4</td>\n",
       "      <td>16.6</td>\n",
       "      <td>20.8</td>\n",
       "      <td>33.2</td>\n",
       "    </tr>\n",
       "  </tbody>\n",
       "</table>\n",
       "</div>"
      ],
      "text/plain": [
       "     km  single_trip_second_class  single_trip_first_class  \\\n",
       "0  37.0                      10.1                     16.2   \n",
       "1  38.0                      10.3                     16.5   \n",
       "2  39.0                      10.4                     16.6   \n",
       "\n",
       "   return_trip_second_class  return_trip_first_class  \n",
       "0                      20.2                     32.4  \n",
       "1                      20.6                     33.0  \n",
       "2                      20.8                     33.2  "
      ]
     },
     "execution_count": 6,
     "metadata": {},
     "output_type": "execute_result"
    }
   ],
   "source": [
    "# Load list of distance-related cost\n",
    "c = pd.read_csv(input_path + 'level_of_service_DB_2020_preisliste_fahrplanjahr_2020.csv')\n",
    "c.head(3)"
   ]
  },
  {
   "cell_type": "code",
   "execution_count": 7,
   "metadata": {},
   "outputs": [
    {
     "data": {
      "text/plain": [
       "<AxesSubplot:xlabel='km'>"
      ]
     },
     "execution_count": 7,
     "metadata": {},
     "output_type": "execute_result"
    },
    {
     "data": {
      "image/png": "[encoded data removed]",
      "text/plain": [
       "<Figure size 432x288 with 1 Axes>"
      ]
     },
     "metadata": {
      "needs_background": "light"
     },
     "output_type": "display_data"
    }
   ],
   "source": [
    "# Use second class single trip prices\n",
    "# Choose a fit for a distance range up to 1000 km (longer trips are rare)\n",
    "rf_rail = 0.7\n",
    "c['regression'] = c['km'].apply(lambda km: math.pow(km, rf_rail))\n",
    "c.loc[0:500, ['km', 'single_trip_second_class', 'regression']].set_index('km').plot()"
   ]
  },
  {
   "cell_type": "code",
   "execution_count": 8,
   "metadata": {},
   "outputs": [],
   "source": [
    "# Bus trips are free but get a fare assigned in LOS table\n",
    "sm.links['price'] = 0"
   ]
  },
  {
   "cell_type": "code",
   "execution_count": 9,
   "metadata": {},
   "outputs": [],
   "source": [
    "# Generate length for PT links as the crow flies\n",
    "if 'length' not in sm.links.columns:\n",
    "    sm.links['length'] = sm.links['geometry'].apply(\n",
    "        lambda l: geodesic(l.coords[0], l.coords[-1]).m)"
   ]
  },
  {
   "cell_type": "code",
   "execution_count": 10,
   "metadata": {},
   "outputs": [],
   "source": [
    "# Long distance rail links\n",
    "# Will be revised later\n",
    "sm.links.loc[sm.links['route_type']=='rail_long', 'price'] = \\\n",
    "    sm.links['length'].apply(lambda l: monetary_cost(l/1000, rf_rail, 1,\n",
    "                                                     0, 0, 0, 0, 1))"
   ]
  },
  {
   "cell_type": "code",
   "execution_count": 11,
   "metadata": {},
   "outputs": [],
   "source": [
    "# Short distance rail links\n",
    "sm.links.loc[sm.links['route_type']=='rail_short', 'price'] = \\\n",
    "    sm.links['length'].apply(lambda l: monetary_cost(l/1000, rf_rail, 1,\n",
    "                                                     0, 0, 0, 0, 1))"
   ]
  },
  {
   "cell_type": "code",
   "execution_count": 12,
   "metadata": {},
   "outputs": [],
   "source": [
    "# Coach links\n",
    "# Average cost in Germany: https://de.statista.com/statistik/daten/studie/380601/umfrage/kilometerpreise-fernbuslinien-in-deutschland/\n",
    "sm.links.loc[sm.links['route_type']=='coach', 'price'] = \\\n",
    "    sm.links['length'].apply(lambda l: monetary_cost(l/1000, 1, 0.107,\n",
    "                                                     0, 0, 0, 0, 1))"
   ]
  },
  {
   "cell_type": "code",
   "execution_count": 13,
   "metadata": {},
   "outputs": [
    {
     "name": "stdout",
     "output_type": "stream",
     "text": [
      "Average economy price: 94.22058823529412 EUR\n",
      "Average business price: 277.8235294117647 EUR\n"
     ]
    },
    {
     "data": {
      "text/plain": [
       "<AxesSubplot:xlabel='time'>"
      ]
     },
     "execution_count": 13,
     "metadata": {},
     "output_type": "execute_result"
    },
    {
     "data": {
      "image/png": "[encoded data removed]",
      "text/plain": [
       "<Figure size 432x288 with 1 Axes>"
      ]
     },
     "metadata": {
      "needs_background": "light"
     },
     "output_type": "display_data"
    }
   ],
   "source": [
    "# Air links: Match them with prices from Sept. 2020\n",
    "# Load connection list\n",
    "air = pd.read_excel(input_path + 'public_transport_air_connections_germany.xlsx', engine='xlrd')\n",
    "air = air.loc[air['direct']==True]\n",
    "air['a'] = air['origin'].str[:3]\n",
    "air['b'] = air['destination'].str[:3]\n",
    "print('Average economy price: {} EUR'.format(air['price_economy'].mean()))\n",
    "print('Average business price: {} EUR'.format(air['price_business'].mean()))\n",
    "air[['price_business', 'price_economy', 'time']].set_index('time').plot(linestyle=' ', marker='o')"
   ]
  },
  {
   "cell_type": "code",
   "execution_count": 14,
   "metadata": {},
   "outputs": [],
   "source": [
    "# Correct air time if neccessary\n",
    "if sm.links.loc[sm.links['route_type']=='air', 'time'].mean() < 5*60:\n",
    "    # Convert time to seconds\n",
    "    sm.links.loc[sm.links['route_type']=='air', 'time'] = \\\n",
    "        sm.links.loc[sm.links['route_type']=='air', 'time'] * 60"
   ]
  },
  {
   "cell_type": "code",
   "execution_count": 15,
   "metadata": {},
   "outputs": [
    {
     "name": "stdout",
     "output_type": "stream",
     "text": [
      "0\n"
     ]
    },
    {
     "data": {
      "text/html": [
       "<div>\n",
       "<style scoped>\n",
       "    .dataframe tbody tr th:only-of-type {\n",
       "        vertical-align: middle;\n",
       "    }\n",
       "\n",
       "    .dataframe tbody tr th {\n",
       "        vertical-align: top;\n",
       "    }\n",
       "\n",
       "    .dataframe thead th {\n",
       "        text-align: right;\n",
       "    }\n",
       "</style>\n",
       "<table border=\"1\" class=\"dataframe\">\n",
       "  <thead>\n",
       "    <tr style=\"text-align: right;\">\n",
       "      <th></th>\n",
       "      <th>a</th>\n",
       "      <th>b</th>\n",
       "      <th>route_type</th>\n",
       "      <th>geometry</th>\n",
       "      <th>link_sequence</th>\n",
       "      <th>route_id</th>\n",
       "      <th>time</th>\n",
       "      <th>trip_id</th>\n",
       "      <th>length</th>\n",
       "      <th>headway</th>\n",
       "      <th>price</th>\n",
       "    </tr>\n",
       "    <tr>\n",
       "      <th>index</th>\n",
       "      <th></th>\n",
       "      <th></th>\n",
       "      <th></th>\n",
       "      <th></th>\n",
       "      <th></th>\n",
       "      <th></th>\n",
       "      <th></th>\n",
       "      <th></th>\n",
       "      <th></th>\n",
       "      <th></th>\n",
       "      <th></th>\n",
       "    </tr>\n",
       "  </thead>\n",
       "  <tbody>\n",
       "    <tr>\n",
       "      <th>air_0</th>\n",
       "      <td>HAM</td>\n",
       "      <td>DUS</td>\n",
       "      <td>air</td>\n",
       "      <td>LINESTRING (9.98823 53.63040, 6.76678 51.28950)</td>\n",
       "      <td>1</td>\n",
       "      <td>air_0</td>\n",
       "      <td>3600</td>\n",
       "      <td>HAM-DUS</td>\n",
       "      <td>439767</td>\n",
       "      <td>5400</td>\n",
       "      <td>65.0</td>\n",
       "    </tr>\n",
       "    <tr>\n",
       "      <th>air_1</th>\n",
       "      <td>HAM</td>\n",
       "      <td>CGN</td>\n",
       "      <td>air</td>\n",
       "      <td>LINESTRING (9.98823 53.63040, 7.14274 50.86590)</td>\n",
       "      <td>1</td>\n",
       "      <td>air_1</td>\n",
       "      <td>3600</td>\n",
       "      <td>HAM-CGN</td>\n",
       "      <td>437766</td>\n",
       "      <td>5400</td>\n",
       "      <td>72.0</td>\n",
       "    </tr>\n",
       "    <tr>\n",
       "      <th>air_2</th>\n",
       "      <td>HAM</td>\n",
       "      <td>FRA</td>\n",
       "      <td>air</td>\n",
       "      <td>LINESTRING (9.98823 53.63040, 8.57056 50.03333)</td>\n",
       "      <td>1</td>\n",
       "      <td>air_2</td>\n",
       "      <td>4200</td>\n",
       "      <td>HAM-FRA</td>\n",
       "      <td>425174</td>\n",
       "      <td>5400</td>\n",
       "      <td>145.0</td>\n",
       "    </tr>\n",
       "  </tbody>\n",
       "</table>\n",
       "</div>"
      ],
      "text/plain": [
       "         a    b route_type                                         geometry  \\\n",
       "index                                                                         \n",
       "air_0  HAM  DUS        air  LINESTRING (9.98823 53.63040, 6.76678 51.28950)   \n",
       "air_1  HAM  CGN        air  LINESTRING (9.98823 53.63040, 7.14274 50.86590)   \n",
       "air_2  HAM  FRA        air  LINESTRING (9.98823 53.63040, 8.57056 50.03333)   \n",
       "\n",
       "       link_sequence route_id  time  trip_id  length  headway  price  \n",
       "index                                                                 \n",
       "air_0              1    air_0  3600  HAM-DUS  439767     5400   65.0  \n",
       "air_1              1    air_1  3600  HAM-CGN  437766     5400   72.0  \n",
       "air_2              1    air_2  4200  HAM-FRA  425174     5400  145.0  "
      ]
     },
     "execution_count": 15,
     "metadata": {},
     "output_type": "execute_result"
    }
   ],
   "source": [
    "# Air trips\n",
    "# Take the economy price because its share is higher\n",
    "# than 90% within Germany\n",
    "air['trip'] = air['a'] + '-' + air['b']\n",
    "price_dict = air.set_index('trip', drop=True)['price_economy'].to_dict()\n",
    "sm.links.loc[sm.links['route_type']=='air', 'price'] = \\\n",
    "    sm.links.loc[sm.links['route_type']=='air', 'trip_id'].map(price_dict)\n",
    "print(len(sm.links.loc[(sm.links['route_type']=='air') & (sm.links['price'].isna())]))\n",
    "sm.links.loc[sm.links['route_type']=='air'].head(3)"
   ]
  },
  {
   "cell_type": "code",
   "execution_count": 16,
   "metadata": {},
   "outputs": [],
   "source": [
    "# Sum up prices in LoS table based on link fares\n",
    "price_dict = sm.links['price'].to_dict()\n",
    "sm.pt_los['price'] = sm.pt_los['link_path'].apply(\n",
    "    lambda l: sum([price_dict[link] for link in l]))"
   ]
  },
  {
   "cell_type": "code",
   "execution_count": 17,
   "metadata": {},
   "outputs": [],
   "source": [
    "# Add a fare for local transport services\n",
    "# Average value from ADAC: https://www.adac.de/reise-freizeit/ratgeber/tests/oepnv-preise-vergleich/\n",
    "sm.pt_los.loc[sm.pt_los['route_types'].apply(\n",
    "    lambda t: 'bus' in t), 'price'] = \\\n",
    "    sm.pt_los['price'] + 2.74"
   ]
  },
  {
   "cell_type": "code",
   "execution_count": 18,
   "metadata": {},
   "outputs": [
    {
     "data": {
      "text/html": [
       "<div>\n",
       "<style scoped>\n",
       "    .dataframe tbody tr th:only-of-type {\n",
       "        vertical-align: middle;\n",
       "    }\n",
       "\n",
       "    .dataframe tbody tr th {\n",
       "        vertical-align: top;\n",
       "    }\n",
       "\n",
       "    .dataframe thead th {\n",
       "        text-align: right;\n",
       "    }\n",
       "</style>\n",
       "<table border=\"1\" class=\"dataframe\">\n",
       "  <thead>\n",
       "    <tr style=\"text-align: right;\">\n",
       "      <th></th>\n",
       "      <th>time</th>\n",
       "      <th>price</th>\n",
       "      <th>length</th>\n",
       "      <th>ntransfers</th>\n",
       "    </tr>\n",
       "    <tr>\n",
       "      <th>route_type</th>\n",
       "      <th></th>\n",
       "      <th></th>\n",
       "      <th></th>\n",
       "      <th></th>\n",
       "    </tr>\n",
       "  </thead>\n",
       "  <tbody>\n",
       "    <tr>\n",
       "      <th>air</th>\n",
       "      <td>16558.170795</td>\n",
       "      <td>148.161411</td>\n",
       "      <td>727123.572684</td>\n",
       "      <td>2.697005</td>\n",
       "    </tr>\n",
       "    <tr>\n",
       "      <th>bus</th>\n",
       "      <td>6522.873737</td>\n",
       "      <td>2.740000</td>\n",
       "      <td>356889.750398</td>\n",
       "      <td>6.534587</td>\n",
       "    </tr>\n",
       "    <tr>\n",
       "      <th>coach</th>\n",
       "      <td>16448.554187</td>\n",
       "      <td>28.245195</td>\n",
       "      <td>299287.671730</td>\n",
       "      <td>1.517720</td>\n",
       "    </tr>\n",
       "    <tr>\n",
       "      <th>rail_long</th>\n",
       "      <td>15960.010627</td>\n",
       "      <td>149.748902</td>\n",
       "      <td>524888.683809</td>\n",
       "      <td>2.776904</td>\n",
       "    </tr>\n",
       "    <tr>\n",
       "      <th>rail_short</th>\n",
       "      <td>12415.782910</td>\n",
       "      <td>145.557242</td>\n",
       "      <td>457746.453195</td>\n",
       "      <td>5.255289</td>\n",
       "    </tr>\n",
       "    <tr>\n",
       "      <th>walk</th>\n",
       "      <td>970.338521</td>\n",
       "      <td>0.000000</td>\n",
       "      <td>0.000000</td>\n",
       "      <td>0.000000</td>\n",
       "    </tr>\n",
       "  </tbody>\n",
       "</table>\n",
       "</div>"
      ],
      "text/plain": [
       "                    time       price         length  ntransfers\n",
       "route_type                                                     \n",
       "air         16558.170795  148.161411  727123.572684    2.697005\n",
       "bus          6522.873737    2.740000  356889.750398    6.534587\n",
       "coach       16448.554187   28.245195  299287.671730    1.517720\n",
       "rail_long   15960.010627  149.748902  524888.683809    2.776904\n",
       "rail_short  12415.782910  145.557242  457746.453195    5.255289\n",
       "walk          970.338521    0.000000       0.000000    0.000000"
      ]
     },
     "execution_count": 18,
     "metadata": {},
     "output_type": "execute_result"
    }
   ],
   "source": [
    "sm.pt_los.groupby('route_type').agg(\n",
    "    {'time': 'mean', 'price': 'mean', 'length': 'mean', 'ntransfers': 'mean'})"
   ]
  },
  {
   "cell_type": "markdown",
   "metadata": {},
   "source": [
    "## Accessibility"
   ]
  },
  {
   "cell_type": "code",
   "execution_count": 19,
   "metadata": {},
   "outputs": [],
   "source": [
    "def accessibility(dist_origin, dist_destination, weight=20):\n",
    "    '''calculate an accessibility metric based on distances\n",
    "    :param dist_origin: distance to the next mean of transport from origin in km\n",
    "    :param dist_destination: distance from the used mean of transport to destination in km\n",
    "    :param weight: (optional) weight of distance values\n",
    "    :return: accessibility factor on a range from 0 to 1'''\n",
    "    return max(0, 1 - dist_origin/weight - dist_destination/weight)"
   ]
  },
  {
   "cell_type": "code",
   "execution_count": 20,
   "metadata": {},
   "outputs": [],
   "source": [
    "# Take average weighted distances to the next PT stop\n",
    "# They were computed in prep16 from census data\n",
    "clusters = pd.read_csv('../input/spatial_census_refined_FID.csv')\n",
    "dist_col = 'weighted_dist'\n",
    "mean_dist_col = 'mean_weighted_dist'\n",
    "cent_col = 'cluster_center'\n",
    "#pop_col = 'population'\n",
    "# Convert to km\n",
    "clusters[mean_dist_col] = clusters[mean_dist_col] / 1000"
   ]
  },
  {
   "cell_type": "code",
   "execution_count": 21,
   "metadata": {},
   "outputs": [],
   "source": [
    "type_dict = {'rail_short_distance': 'rail_short', 'rail_long_distance': 'rail_long'}\n",
    "clusters['route_type'].replace(type_dict, inplace=True)\n",
    "mean_w_dist_dict = clusters.groupby(\n",
    "    ['FID', 'route_type']).agg(\n",
    "    {mean_dist_col: 'mean'}).to_dict()[mean_dist_col]"
   ]
  },
  {
   "cell_type": "code",
   "execution_count": 22,
   "metadata": {},
   "outputs": [],
   "source": [
    "# The accessibility is a metric from the mean weighted distance in km\n",
    "sm.pt_los['accessibility'] = 1"
   ]
  },
  {
   "cell_type": "code",
   "execution_count": 23,
   "metadata": {},
   "outputs": [],
   "source": [
    "# Divide into PT and all walk\n",
    "walk = sm.pt_los.loc[sm.pt_los['link_path'].apply(lambda l: len(l)==0)]\n",
    "pt = sm.pt_los.loc[sm.pt_los['link_path'].apply(lambda l: len(l)>0)]"
   ]
  },
  {
   "cell_type": "code",
   "execution_count": 24,
   "metadata": {},
   "outputs": [],
   "source": [
    "link_type = sm.links['route_type'].to_dict()\n",
    "def get_accessibility(o, d, l_path, weight=20):\n",
    "    try:\n",
    "        return accessibility(mean_w_dist_dict[o, link_type[l_path[0]]],\n",
    "                             mean_w_dist_dict[d, link_type[l_path[-1]]],\n",
    "                             weight)\n",
    "    except KeyError:\n",
    "        # No such type in this region\n",
    "        return 0"
   ]
  },
  {
   "cell_type": "code",
   "execution_count": 25,
   "metadata": {},
   "outputs": [],
   "source": [
    "pt['accessibility'] = [get_accessibility(*a) for a in tuple(\n",
    "    zip(pt['origin'], pt['destination'], pt['link_path'])#, [30 for _ in range(len(pt))])\n",
    ")]"
   ]
  },
  {
   "cell_type": "code",
   "execution_count": 26,
   "metadata": {},
   "outputs": [
    {
     "data": {
      "text/html": [
       "<div>\n",
       "<style scoped>\n",
       "    .dataframe tbody tr th:only-of-type {\n",
       "        vertical-align: middle;\n",
       "    }\n",
       "\n",
       "    .dataframe tbody tr th {\n",
       "        vertical-align: top;\n",
       "    }\n",
       "\n",
       "    .dataframe thead th {\n",
       "        text-align: right;\n",
       "    }\n",
       "</style>\n",
       "<table border=\"1\" class=\"dataframe\">\n",
       "  <thead>\n",
       "    <tr style=\"text-align: right;\">\n",
       "      <th></th>\n",
       "      <th>accessibility</th>\n",
       "      <th>origin</th>\n",
       "    </tr>\n",
       "    <tr>\n",
       "      <th>route_type</th>\n",
       "      <th></th>\n",
       "      <th></th>\n",
       "    </tr>\n",
       "  </thead>\n",
       "  <tbody>\n",
       "    <tr>\n",
       "      <th>air</th>\n",
       "      <td>0.035453</td>\n",
       "      <td>48608</td>\n",
       "    </tr>\n",
       "    <tr>\n",
       "      <th>bus</th>\n",
       "      <td>0.067864</td>\n",
       "      <td>225054</td>\n",
       "    </tr>\n",
       "    <tr>\n",
       "      <th>coach</th>\n",
       "      <td>0.063267</td>\n",
       "      <td>92494</td>\n",
       "    </tr>\n",
       "    <tr>\n",
       "      <th>rail_long</th>\n",
       "      <td>0.053604</td>\n",
       "      <td>260090</td>\n",
       "    </tr>\n",
       "    <tr>\n",
       "      <th>rail_short</th>\n",
       "      <td>0.085994</td>\n",
       "      <td>439252</td>\n",
       "    </tr>\n",
       "  </tbody>\n",
       "</table>\n",
       "</div>"
      ],
      "text/plain": [
       "            accessibility  origin\n",
       "route_type                       \n",
       "air              0.035453   48608\n",
       "bus              0.067864  225054\n",
       "coach            0.063267   92494\n",
       "rail_long        0.053604  260090\n",
       "rail_short       0.085994  439252"
      ]
     },
     "execution_count": 26,
     "metadata": {},
     "output_type": "execute_result"
    }
   ],
   "source": [
    "pt.groupby('route_type').agg(\n",
    "    {'accessibility': 'mean', 'origin': 'count'})"
   ]
  },
  {
   "cell_type": "code",
   "execution_count": 27,
   "metadata": {},
   "outputs": [
    {
     "data": {
      "text/plain": [
       "route_type\n",
       "air           [[AxesSubplot(0.125,0.125;0.775x0.755)]]\n",
       "bus           [[AxesSubplot(0.125,0.125;0.775x0.755)]]\n",
       "coach         [[AxesSubplot(0.125,0.125;0.775x0.755)]]\n",
       "rail_long     [[AxesSubplot(0.125,0.125;0.775x0.755)]]\n",
       "rail_short    [[AxesSubplot(0.125,0.125;0.775x0.755)]]\n",
       "dtype: object"
      ]
     },
     "execution_count": 27,
     "metadata": {},
     "output_type": "execute_result"
    },
    {
     "data": {
      "image/png": "[encoded data removed]",
      "text/plain": [
       "<Figure size 288x288 with 1 Axes>"
      ]
     },
     "metadata": {
      "needs_background": "light"
     },
     "output_type": "display_data"
    },
    {
     "data": {
      "image/png": "[encoded data removed]",
      "text/plain": [
       "<Figure size 288x288 with 1 Axes>"
      ]
     },
     "metadata": {
      "needs_background": "light"
     },
     "output_type": "display_data"
    },
    {
     "data": {
      "image/png": "[encoded data removed]",
      "text/plain": [
       "<Figure size 288x288 with 1 Axes>"
      ]
     },
     "metadata": {
      "needs_background": "light"
     },
     "output_type": "display_data"
    },
    {
     "data": {
      "image/png": "[encoded data removed]",
      "text/plain": [
       "<Figure size 288x288 with 1 Axes>"
      ]
     },
     "metadata": {
      "needs_background": "light"
     },
     "output_type": "display_data"
    },
    {
     "data": {
      "image/png": "[encoded data removed]",
      "text/plain": [
       "<Figure size 288x288 with 1 Axes>"
      ]
     },
     "metadata": {
      "needs_background": "light"
     },
     "output_type": "display_data"
    }
   ],
   "source": [
    "# The accessibility does not depend on the\n",
    "# route_type columns of pt_los, but on the link path\n",
    "pt.loc[pt['accessibility']>0].groupby('route_type').hist(\n",
    "    column='accessibility', bins=100, figsize=(4,4), log=False)"
   ]
  },
  {
   "cell_type": "code",
   "execution_count": 28,
   "metadata": {},
   "outputs": [],
   "source": [
    "sm.pt_los = pt.append(walk)"
   ]
  },
  {
   "cell_type": "markdown",
   "metadata": {},
   "source": [
    "## Save"
   ]
  },
  {
   "cell_type": "code",
   "execution_count": 29,
   "metadata": {},
   "outputs": [
    {
     "name": "stdout",
     "output_type": "stream",
     "text": [
      "Index(['origin', 'destination', 'route_types', 'link_path', 'ntransfers',\n",
      "       'access_time', 'footpath_time', 'in_vehicle_time', 'waiting_time',\n",
      "       'time', 'price', 'length', 'route_type', 'accessibility'],\n",
      "      dtype='object')\n",
      "(1067297, 14)\n"
     ]
    },
    {
     "data": {
      "text/html": [
       "<div>\n",
       "<style scoped>\n",
       "    .dataframe tbody tr th:only-of-type {\n",
       "        vertical-align: middle;\n",
       "    }\n",
       "\n",
       "    .dataframe tbody tr th {\n",
       "        vertical-align: top;\n",
       "    }\n",
       "\n",
       "    .dataframe thead th {\n",
       "        text-align: right;\n",
       "    }\n",
       "</style>\n",
       "<table border=\"1\" class=\"dataframe\">\n",
       "  <thead>\n",
       "    <tr style=\"text-align: right;\">\n",
       "      <th></th>\n",
       "      <th>origin</th>\n",
       "      <th>destination</th>\n",
       "      <th>route_types</th>\n",
       "      <th>link_path</th>\n",
       "      <th>ntransfers</th>\n",
       "      <th>access_time</th>\n",
       "      <th>footpath_time</th>\n",
       "      <th>in_vehicle_time</th>\n",
       "      <th>waiting_time</th>\n",
       "      <th>time</th>\n",
       "      <th>price</th>\n",
       "      <th>length</th>\n",
       "      <th>route_type</th>\n",
       "      <th>accessibility</th>\n",
       "    </tr>\n",
       "    <tr>\n",
       "      <th>index</th>\n",
       "      <th></th>\n",
       "      <th></th>\n",
       "      <th></th>\n",
       "      <th></th>\n",
       "      <th></th>\n",
       "      <th></th>\n",
       "      <th></th>\n",
       "      <th></th>\n",
       "      <th></th>\n",
       "      <th></th>\n",
       "      <th></th>\n",
       "      <th></th>\n",
       "      <th></th>\n",
       "      <th></th>\n",
       "    </tr>\n",
       "  </thead>\n",
       "  <tbody>\n",
       "    <tr>\n",
       "      <th>1176340</th>\n",
       "      <td>DEB3D</td>\n",
       "      <td>DEA5B</td>\n",
       "      <td>[rail_short]</td>\n",
       "      <td>[r_s_25176, r_s_25184, r_s_25186, r_s_25188, r...</td>\n",
       "      <td>5</td>\n",
       "      <td>2190</td>\n",
       "      <td>0</td>\n",
       "      <td>5220</td>\n",
       "      <td>5400</td>\n",
       "      <td>12810</td>\n",
       "      <td>148.653577</td>\n",
       "      <td>403400</td>\n",
       "      <td>rail_short</td>\n",
       "      <td>0.0</td>\n",
       "    </tr>\n",
       "    <tr>\n",
       "      <th>421483</th>\n",
       "      <td>DE259</td>\n",
       "      <td>DE123_2</td>\n",
       "      <td>[rail_long]</td>\n",
       "      <td>[r_l_5648, r_l_9298, r_l_4641, r_l_4642, r_l_4...</td>\n",
       "      <td>2</td>\n",
       "      <td>2682</td>\n",
       "      <td>399</td>\n",
       "      <td>8100</td>\n",
       "      <td>2700</td>\n",
       "      <td>13881</td>\n",
       "      <td>105.631032</td>\n",
       "      <td>405260</td>\n",
       "      <td>rail_long</td>\n",
       "      <td>0.0</td>\n",
       "    </tr>\n",
       "    <tr>\n",
       "      <th>1368660</th>\n",
       "      <td>DEF0B</td>\n",
       "      <td>DEA51</td>\n",
       "      <td>[rail_long]</td>\n",
       "      <td>[r_l_7010, r_l_7011, r_l_7012, r_l_7013, r_l_7...</td>\n",
       "      <td>1</td>\n",
       "      <td>1874</td>\n",
       "      <td>0</td>\n",
       "      <td>14820</td>\n",
       "      <td>1800</td>\n",
       "      <td>18494</td>\n",
       "      <td>169.307783</td>\n",
       "      <td>604608</td>\n",
       "      <td>rail_long</td>\n",
       "      <td>0.0</td>\n",
       "    </tr>\n",
       "  </tbody>\n",
       "</table>\n",
       "</div>"
      ],
      "text/plain": [
       "        origin destination   route_types  \\\n",
       "index                                      \n",
       "1176340  DEB3D       DEA5B  [rail_short]   \n",
       "421483   DE259     DE123_2   [rail_long]   \n",
       "1368660  DEF0B       DEA51   [rail_long]   \n",
       "\n",
       "                                                 link_path  ntransfers  \\\n",
       "index                                                                    \n",
       "1176340  [r_s_25176, r_s_25184, r_s_25186, r_s_25188, r...           5   \n",
       "421483   [r_l_5648, r_l_9298, r_l_4641, r_l_4642, r_l_4...           2   \n",
       "1368660  [r_l_7010, r_l_7011, r_l_7012, r_l_7013, r_l_7...           1   \n",
       "\n",
       "         access_time  footpath_time  in_vehicle_time  waiting_time   time  \\\n",
       "index                                                                       \n",
       "1176340         2190              0             5220          5400  12810   \n",
       "421483          2682            399             8100          2700  13881   \n",
       "1368660         1874              0            14820          1800  18494   \n",
       "\n",
       "              price  length  route_type  accessibility  \n",
       "index                                                   \n",
       "1176340  148.653577  403400  rail_short            0.0  \n",
       "421483   105.631032  405260   rail_long            0.0  \n",
       "1368660  169.307783  604608   rail_long            0.0  "
      ]
     },
     "execution_count": 29,
     "metadata": {},
     "output_type": "execute_result"
    }
   ],
   "source": [
    "print(sm.pt_los.columns)\n",
    "print(sm.pt_los.shape)\n",
    "sm.pt_los.sample(3)"
   ]
  },
  {
   "cell_type": "code",
   "execution_count": 30,
   "metadata": {},
   "outputs": [
    {
     "name": "stderr",
     "output_type": "stream",
     "text": [
      "to_hdf(overwriting): 100%|█████████████████████████████████████████████████████████████| 35/35 [00:14<00:00,  2.40it/s]\n"
     ]
    }
   ],
   "source": [
    "sm.to_json(model_path + 'de_pt_los',\n",
    "           only_attributes=['pt_los'],\n",
    "           encoding='utf-8')"
   ]
  },
  {
   "cell_type": "code",
   "execution_count": 31,
   "metadata": {},
   "outputs": [],
   "source": [
    "# Split links in graph and auxiliary information\n",
    "# for file sizes being compatible with github's size limit\n",
    "cols = ['link_sequence', 'route_id', 'time', 'trip_id', 'length', 'headway', 'price']\n",
    "auxiliary = sm.links[cols]\n",
    "sm.links.drop(cols, axis=1, inplace=True)"
   ]
  },
  {
   "cell_type": "code",
   "execution_count": 32,
   "metadata": {},
   "outputs": [
    {
     "name": "stderr",
     "output_type": "stream",
     "text": [
      "to_hdf(overwriting): 100%|█████████████████████████████████████████████████████████████| 35/35 [00:30<00:00,  1.16it/s]\n"
     ]
    }
   ],
   "source": [
    "sm.to_json(model_path + 'de_pt_network_agg', only_attributes=[\n",
    "    'zones', 'links', 'nodes', 'pt_route_types'],\n",
    "           encoding='utf-8')"
   ]
  },
  {
   "cell_type": "code",
   "execution_count": 33,
   "metadata": {},
   "outputs": [],
   "source": [
    "# Save auxiliary information seperately\n",
    "auxiliary['index'] = auxiliary.index\n",
    "auxiliary.reset_index(drop=True, inplace=True)\n",
    "auxiliary.to_json(model_path + 'de_pt_network_agg/links_quetzaldata.json')"
   ]
  }
 ],
 "metadata": {
  "kernelspec": {
   "display_name": "Python 3",
   "language": "python",
   "name": "python3"
  },
  "language_info": {
   "codemirror_mode": {
    "name": "ipython",
    "version": 3
   },
   "file_extension": ".py",
   "mimetype": "text/x-python",
   "name": "python",
   "nbconvert_exporter": "python",
   "pygments_lexer": "ipython3",
   "version": "3.8.1"
  }
 },
 "nbformat": 4,
 "nbformat_minor": 4
}
