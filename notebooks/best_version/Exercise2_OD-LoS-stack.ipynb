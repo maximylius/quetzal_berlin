{
 "cells": [
  {
   "cell_type": "code",
   "execution_count": 46,
   "metadata": {},
   "outputs": [],
   "source": [
    "import pandas as pd\n",
    "import geopandas as gpd\n",
    "import numpy as np\n",
    "from geopy.distance import geodesic\n",
    "from quetzal.model import stepmodel\n",
    "from quetzal.io.display import all_pt_paths, path, pt_path\n",
    "%matplotlib inline"
   ]
  },
  {
   "cell_type": "code",
   "execution_count": 47,
   "metadata": {},
   "outputs": [],
   "source": [
    "# Load the network model from the last exercise\n",
    "model_path = '../../model/'\n",
    "sm = stepmodel.read_json(model_path + 'network')"
   ]
  },
  {
   "cell_type": "code",
   "execution_count": 48,
   "metadata": {},
   "outputs": [
    {
     "name": "stdout",
     "output_type": "stream",
     "text": [
      "Fixing: ['checkpoint_links', 'loaded_links', 'links', 'road_links', 'footpaths', 'lines', 'networkcaster_neighbors', 'networkcaster_road_access', 'node_parenthood', 'road_to_transit', 'zone_to_transit', 'zone_to_road', 'checkpoint_nodes', 'loaded_nodes', 'nodes', 'road_nodes', 'centroids', 'disaggregated_nodes', 'micro_zones', 'zones', 'node_clusters']\n",
      "Successfully fixed.\n"
     ]
    }
   ],
   "source": [
    "# check for broken GeoDataFrames\n",
    "broken_gdf_keys = [key for key in sm.__dict__.keys() if type(sm.__dict__[key]) == pd.core.frame.DataFrame and 'geometry' in sm.__dict__[key].columns]\n",
    "print(\"Fixing:\", broken_gdf_keys)\n",
    "# fix broken GeoDataFrames\n",
    "for key in broken_gdf_keys:\n",
    "    sm.__dict__[key] = gpd.GeoDataFrame(sm.__dict__[key], crs=sm.epsg)\n",
    "broken_gdf_keys = [key for key in sm.__dict__.keys() if type(sm.__dict__[key]) == pd.core.frame.DataFrame and 'geometry' in sm.__dict__[key].columns]\n",
    "if len(broken_gdf_keys)>0:\n",
    "    print(\"Broken GeoDataFrames:\",broken_gdf_keys)\n",
    "else:\n",
    "    print(\"Successfully fixed.\")"
   ]
  },
  {
   "cell_type": "code",
   "execution_count": 49,
   "metadata": {},
   "outputs": [
    {
     "data": {
      "text/plain": [
       "97"
      ]
     },
     "execution_count": 49,
     "metadata": {},
     "output_type": "execute_result"
    }
   ],
   "source": [
    "# How many zones do we have?\n",
    "len(sm.zones)"
   ]
  },
  {
   "cell_type": "markdown",
   "metadata": {},
   "source": [
    "## Preparation of OD-times\n",
    "\n",
    "The pathfinders need a column \"time\" in the links or road_links tables to find the shortest paths. The PT pathfinder also applies a generalized boarding time (can be interpreted as a penalty for interchanging between transport carriers) and a waiting time, which is computed from the headway of PT carriers (waiting time equals half the headway (in seconds) assuming a randomly and evenly distributed arrival pattern of passengers on every PT stop)."
   ]
  },
  {
   "cell_type": "code",
   "execution_count": 50,
   "metadata": {},
   "outputs": [
    {
     "data": {
      "text/html": [
       "<div>\n",
       "<style scoped>\n",
       "    .dataframe tbody tr th:only-of-type {\n",
       "        vertical-align: middle;\n",
       "    }\n",
       "\n",
       "    .dataframe tbody tr th {\n",
       "        vertical-align: top;\n",
       "    }\n",
       "\n",
       "    .dataframe thead th {\n",
       "        text-align: right;\n",
       "    }\n",
       "</style>\n",
       "<table border=\"1\" class=\"dataframe\">\n",
       "  <thead>\n",
       "    <tr style=\"text-align: right;\">\n",
       "      <th></th>\n",
       "      <th>a</th>\n",
       "      <th>b</th>\n",
       "      <th>length</th>\n",
       "      <th>geometry</th>\n",
       "      <th>highway</th>\n",
       "      <th>maxspeed</th>\n",
       "    </tr>\n",
       "    <tr>\n",
       "      <th>index</th>\n",
       "      <th></th>\n",
       "      <th></th>\n",
       "      <th></th>\n",
       "      <th></th>\n",
       "      <th></th>\n",
       "      <th></th>\n",
       "    </tr>\n",
       "  </thead>\n",
       "  <tbody>\n",
       "    <tr>\n",
       "      <th>131769</th>\n",
       "      <td>1215285208</td>\n",
       "      <td>3451433729</td>\n",
       "      <td>156.038</td>\n",
       "      <td>LINESTRING (13.45106 52.45429, 13.45011 52.45557)</td>\n",
       "      <td>secondary</td>\n",
       "      <td>50</td>\n",
       "    </tr>\n",
       "  </tbody>\n",
       "</table>\n",
       "</div>"
      ],
      "text/plain": [
       "                 a           b   length  \\\n",
       "index                                     \n",
       "131769  1215285208  3451433729  156.038   \n",
       "\n",
       "                                                 geometry    highway maxspeed  \n",
       "index                                                                          \n",
       "131769  LINESTRING (13.45106 52.45429, 13.45011 52.45557)  secondary       50  "
      ]
     },
     "execution_count": 50,
     "metadata": {},
     "output_type": "execute_result"
    }
   ],
   "source": [
    "sm.road_links.sample(1)"
   ]
  },
  {
   "cell_type": "code",
   "execution_count": 51,
   "metadata": {},
   "outputs": [
    {
     "data": {
      "text/html": [
       "<div>\n",
       "<style scoped>\n",
       "    .dataframe tbody tr th:only-of-type {\n",
       "        vertical-align: middle;\n",
       "    }\n",
       "\n",
       "    .dataframe tbody tr th {\n",
       "        vertical-align: top;\n",
       "    }\n",
       "\n",
       "    .dataframe thead th {\n",
       "        text-align: right;\n",
       "    }\n",
       "</style>\n",
       "<table border=\"1\" class=\"dataframe\">\n",
       "  <thead>\n",
       "    <tr style=\"text-align: right;\">\n",
       "      <th></th>\n",
       "      <th>trip_id</th>\n",
       "      <th>a</th>\n",
       "      <th>b</th>\n",
       "      <th>link_sequence</th>\n",
       "      <th>time</th>\n",
       "      <th>headway</th>\n",
       "      <th>pattern_id</th>\n",
       "      <th>route_id</th>\n",
       "      <th>service_id</th>\n",
       "      <th>direction_id</th>\n",
       "      <th>...</th>\n",
       "      <th>route_type</th>\n",
       "      <th>route_color</th>\n",
       "      <th>disaggregated_a</th>\n",
       "      <th>disaggregated_b</th>\n",
       "      <th>road_a</th>\n",
       "      <th>road_b</th>\n",
       "      <th>road_length</th>\n",
       "      <th>geometry</th>\n",
       "      <th>road_node_list</th>\n",
       "      <th>road_link_list</th>\n",
       "    </tr>\n",
       "    <tr>\n",
       "      <th>index</th>\n",
       "      <th></th>\n",
       "      <th></th>\n",
       "      <th></th>\n",
       "      <th></th>\n",
       "      <th></th>\n",
       "      <th></th>\n",
       "      <th></th>\n",
       "      <th></th>\n",
       "      <th></th>\n",
       "      <th></th>\n",
       "      <th></th>\n",
       "      <th></th>\n",
       "      <th></th>\n",
       "      <th></th>\n",
       "      <th></th>\n",
       "      <th></th>\n",
       "      <th></th>\n",
       "      <th></th>\n",
       "      <th></th>\n",
       "      <th></th>\n",
       "      <th></th>\n",
       "    </tr>\n",
       "  </thead>\n",
       "  <tbody>\n",
       "    <tr>\n",
       "      <th>link_12110</th>\n",
       "      <td>17523_400_1</td>\n",
       "      <td>n_230</td>\n",
       "      <td>n_720</td>\n",
       "      <td>20</td>\n",
       "      <td>60.0</td>\n",
       "      <td>300</td>\n",
       "      <td>17523_400_1</td>\n",
       "      <td>17523_400</td>\n",
       "      <td>176</td>\n",
       "      <td>0</td>\n",
       "      <td>...</td>\n",
       "      <td>subway</td>\n",
       "      <td>None</td>\n",
       "      <td>node_de:11000:900055102::3</td>\n",
       "      <td>node_de:11000:900054103::1</td>\n",
       "      <td>28982003</td>\n",
       "      <td>27786223</td>\n",
       "      <td>NaN</td>\n",
       "      <td>LINESTRING (13.34179 52.48738, 13.35104 52.48960)</td>\n",
       "      <td>[]</td>\n",
       "      <td>[]</td>\n",
       "    </tr>\n",
       "  </tbody>\n",
       "</table>\n",
       "<p>1 rows × 21 columns</p>\n",
       "</div>"
      ],
      "text/plain": [
       "                trip_id      a      b  link_sequence  time  headway  \\\n",
       "index                                                                 \n",
       "link_12110  17523_400_1  n_230  n_720             20  60.0      300   \n",
       "\n",
       "             pattern_id   route_id service_id  direction_id  ... route_type  \\\n",
       "index                                                        ...              \n",
       "link_12110  17523_400_1  17523_400        176             0  ...     subway   \n",
       "\n",
       "           route_color             disaggregated_a  \\\n",
       "index                                                \n",
       "link_12110        None  node_de:11000:900055102::3   \n",
       "\n",
       "                       disaggregated_b    road_a    road_b road_length  \\\n",
       "index                                                                    \n",
       "link_12110  node_de:11000:900054103::1  28982003  27786223         NaN   \n",
       "\n",
       "                                                     geometry road_node_list  \\\n",
       "index                                                                          \n",
       "link_12110  LINESTRING (13.34179 52.48738, 13.35104 52.48960)             []   \n",
       "\n",
       "           road_link_list  \n",
       "index                      \n",
       "link_12110             []  \n",
       "\n",
       "[1 rows x 21 columns]"
      ]
     },
     "execution_count": 51,
     "metadata": {},
     "output_type": "execute_result"
    }
   ],
   "source": [
    "sm.links.sample(1)"
   ]
  },
  {
   "cell_type": "code",
   "execution_count": 52,
   "metadata": {},
   "outputs": [
    {
     "name": "stderr",
     "output_type": "stream",
     "text": [
      "nearest_link: 100%|██████████| 3770/3770 [00:00<00:00, 73966.00it/s]\n",
      "17536_700_1: 100%|██████████| 351/351 [01:23<00:00,  4.20it/s]\n"
     ]
    }
   ],
   "source": [
    "# We don't see any length column in our links,\n",
    "# but it is nice for calculating speeds and for later steps.\n",
    "# We can cast the PT network onto the road network (as in A40)\n",
    "# Start with the bus links\n",
    "bus = sm.copy() # copy the whole model\n",
    "bus.links = bus.links.loc[bus.links['route_type'].isin(['bus'])] # Filter\n",
    "# Apply quetzal's casting function\n",
    "bus.preparation_cast_network(\n",
    "    nearest_method='nodes',\n",
    "    n_neighbors_centroid=5, \n",
    "    n_neighbors=5, \n",
    "    penalty_factor=2,\n",
    "    replace_nodes=False\n",
    ")"
   ]
  },
  {
   "cell_type": "code",
   "execution_count": 53,
   "metadata": {},
   "outputs": [
    {
     "data": {
      "text/html": [
       "<div>\n",
       "<style scoped>\n",
       "    .dataframe tbody tr th:only-of-type {\n",
       "        vertical-align: middle;\n",
       "    }\n",
       "\n",
       "    .dataframe tbody tr th {\n",
       "        vertical-align: top;\n",
       "    }\n",
       "\n",
       "    .dataframe thead th {\n",
       "        text-align: right;\n",
       "    }\n",
       "</style>\n",
       "<table border=\"1\" class=\"dataframe\">\n",
       "  <thead>\n",
       "    <tr style=\"text-align: right;\">\n",
       "      <th></th>\n",
       "      <th>trip_id</th>\n",
       "      <th>a</th>\n",
       "      <th>b</th>\n",
       "      <th>link_sequence</th>\n",
       "      <th>time</th>\n",
       "      <th>headway</th>\n",
       "      <th>pattern_id</th>\n",
       "      <th>route_id</th>\n",
       "      <th>service_id</th>\n",
       "      <th>direction_id</th>\n",
       "      <th>...</th>\n",
       "      <th>route_type</th>\n",
       "      <th>route_color</th>\n",
       "      <th>disaggregated_a</th>\n",
       "      <th>disaggregated_b</th>\n",
       "      <th>road_a</th>\n",
       "      <th>road_b</th>\n",
       "      <th>road_node_list</th>\n",
       "      <th>road_link_list</th>\n",
       "      <th>road_length</th>\n",
       "      <th>geometry</th>\n",
       "    </tr>\n",
       "    <tr>\n",
       "      <th>index</th>\n",
       "      <th></th>\n",
       "      <th></th>\n",
       "      <th></th>\n",
       "      <th></th>\n",
       "      <th></th>\n",
       "      <th></th>\n",
       "      <th></th>\n",
       "      <th></th>\n",
       "      <th></th>\n",
       "      <th></th>\n",
       "      <th></th>\n",
       "      <th></th>\n",
       "      <th></th>\n",
       "      <th></th>\n",
       "      <th></th>\n",
       "      <th></th>\n",
       "      <th></th>\n",
       "      <th></th>\n",
       "      <th></th>\n",
       "      <th></th>\n",
       "      <th></th>\n",
       "    </tr>\n",
       "  </thead>\n",
       "  <tbody>\n",
       "    <tr>\n",
       "      <th>link_12573</th>\n",
       "      <td>17533_700_7</td>\n",
       "      <td>n_628</td>\n",
       "      <td>n_169</td>\n",
       "      <td>10</td>\n",
       "      <td>420.0</td>\n",
       "      <td>1200</td>\n",
       "      <td>17533_700_7</td>\n",
       "      <td>17533_700</td>\n",
       "      <td>176</td>\n",
       "      <td>1</td>\n",
       "      <td>...</td>\n",
       "      <td>bus</td>\n",
       "      <td>None</td>\n",
       "      <td>node_de:11000:900032302::1</td>\n",
       "      <td>node_de:11000:900032402::1</td>\n",
       "      <td>26759804</td>\n",
       "      <td>26759827</td>\n",
       "      <td>[26759804, 598804072, 29845133, 273445087, 444...</td>\n",
       "      <td>[120500, 89781, 114841, 132561, 106463, 128943...</td>\n",
       "      <td>1602.192</td>\n",
       "      <td>LINESTRING (13.21818 52.50876, 13.21644 52.509...</td>\n",
       "    </tr>\n",
       "  </tbody>\n",
       "</table>\n",
       "<p>1 rows × 21 columns</p>\n",
       "</div>"
      ],
      "text/plain": [
       "                trip_id      a      b  link_sequence   time  headway  \\\n",
       "index                                                                  \n",
       "link_12573  17533_700_7  n_628  n_169             10  420.0     1200   \n",
       "\n",
       "             pattern_id   route_id service_id  direction_id  ... route_type  \\\n",
       "index                                                        ...              \n",
       "link_12573  17533_700_7  17533_700        176             1  ...        bus   \n",
       "\n",
       "           route_color             disaggregated_a  \\\n",
       "index                                                \n",
       "link_12573        None  node_de:11000:900032302::1   \n",
       "\n",
       "                       disaggregated_b    road_a    road_b  \\\n",
       "index                                                        \n",
       "link_12573  node_de:11000:900032402::1  26759804  26759827   \n",
       "\n",
       "                                               road_node_list  \\\n",
       "index                                                           \n",
       "link_12573  [26759804, 598804072, 29845133, 273445087, 444...   \n",
       "\n",
       "                                               road_link_list road_length  \\\n",
       "index                                                                       \n",
       "link_12573  [120500, 89781, 114841, 132561, 106463, 128943...    1602.192   \n",
       "\n",
       "                                                     geometry  \n",
       "index                                                          \n",
       "link_12573  LINESTRING (13.21818 52.50876, 13.21644 52.509...  \n",
       "\n",
       "[1 rows x 21 columns]"
      ]
     },
     "execution_count": 53,
     "metadata": {},
     "output_type": "execute_result"
    }
   ],
   "source": [
    "bus.links.sample()"
   ]
  },
  {
   "cell_type": "code",
   "execution_count": 54,
   "metadata": {},
   "outputs": [],
   "source": [
    "# Now take the road_length of casted model as the length of our genuine model\n",
    "sm.links['length'] = np.nan # create a new column with default values\n",
    "sm.links.loc[sm.links['route_type'].isin(['bus']),\n",
    "             'length'] = bus.links['road_length']"
   ]
  },
  {
   "cell_type": "code",
   "execution_count": 55,
   "metadata": {},
   "outputs": [],
   "source": [
    "# For rail links, we can assign the geometric distance\n",
    "sm.links.loc[sm.links['length'].isna(), 'length'] = \\\n",
    "    sm.links.loc[sm.links['length'].isna(), 'geometry'].apply(\n",
    "        lambda l: int(geodesic(l.coords[0], l.coords[-1]).m))\n",
    "# Take the geometric line and from it the start and end points, then calculate the meter distance in between"
   ]
  },
  {
   "cell_type": "code",
   "execution_count": 56,
   "metadata": {},
   "outputs": [
    {
     "name": "stdout",
     "output_type": "stream",
     "text": [
      "bus_speed = 10.678528616362312 m / s\n"
     ]
    }
   ],
   "source": [
    "# You can calculate the average bus operation speed\n",
    "bus = sm.links.loc[sm.links['route_type'] == 'bus'] # filter\n",
    "bus_lines = bus.groupby('route_id')[['time', 'length']].sum() # sum up time and length for each route\n",
    "bus_speed = bus['length'].sum() / bus['time'].sum() # operation speed\n",
    "print('bus_speed =', bus_speed, 'm / s')"
   ]
  },
  {
   "cell_type": "code",
   "execution_count": 57,
   "metadata": {},
   "outputs": [],
   "source": [
    "# Create the time LoS column for cars (it's already there for PT from the GTFS feeds)\n",
    "car_speed = bus_speed * 1.25\n",
    "sm.road_links['time'] = sm.road_links['length'] / car_speed # m/s"
   ]
  },
  {
   "cell_type": "code",
   "execution_count": 58,
   "metadata": {},
   "outputs": [],
   "source": [
    "# If we want to compute walking paths on road links, we need a time for that to\n",
    "sm.road_links['walk_time'] = sm.road_links['time'] * 3 # walk three times slower than car"
   ]
  },
  {
   "cell_type": "markdown",
   "metadata": {},
   "source": [
    "## Pathfinding\n",
    "\n",
    "Next, we want to create a table of OD-relations for different modes, each, being representative for the performance of a specific mode on a specific OD pair.\n",
    "\n",
    "Quetzal has multiple options for path finding, seperated into one function wrapper for road and one for PT. They create the `car_los` and `pt_los tables`, respectively.\n",
    "\n",
    "For road transport, quetzal can simply compute one shortest path per OD pair or multiple ones if you had the capacities and volumes already saved in the model (comes from the assignment step at the very end). So, we just compute one path for now (`all_or_nothing=True`)\n",
    "\n",
    "The PT pathfinder has two relevant attributes: `broken_modes` and `broken_routes`. If both are `False`, the pathfinder just searches for the shortest path between every OD pair, considering all PT modes and routes. If `broken_modes=True`, the pathfinder searches shortest paths for every possible mode combination. If `broken_routes=True`, the pathfinder searches shortest paths for every possible route combination. \n",
    "Additionally you can decide whether walking connections shall be done on roadsides or not with the `walk_on_road` parameter (question of computation time)."
   ]
  },
  {
   "cell_type": "markdown",
   "metadata": {},
   "source": [
    "### Car"
   ]
  },
  {
   "cell_type": "code",
   "execution_count": 59,
   "metadata": {},
   "outputs": [],
   "source": [
    "# Simple road pathfinder\n",
    "sm.step_road_pathfinder(all_or_nothing=True)"
   ]
  },
  {
   "cell_type": "code",
   "execution_count": 60,
   "metadata": {},
   "outputs": [
    {
     "data": {
      "text/plain": [
       "9409"
      ]
     },
     "execution_count": 60,
     "metadata": {},
     "output_type": "execute_result"
    }
   ],
   "source": [
    "len(sm.car_los)"
   ]
  },
  {
   "cell_type": "code",
   "execution_count": 61,
   "metadata": {},
   "outputs": [
    {
     "data": {
      "text/html": [
       "<div>\n",
       "<style scoped>\n",
       "    .dataframe tbody tr th:only-of-type {\n",
       "        vertical-align: middle;\n",
       "    }\n",
       "\n",
       "    .dataframe tbody tr th {\n",
       "        vertical-align: top;\n",
       "    }\n",
       "\n",
       "    .dataframe thead th {\n",
       "        text-align: right;\n",
       "    }\n",
       "</style>\n",
       "<table border=\"1\" class=\"dataframe\">\n",
       "  <thead>\n",
       "    <tr style=\"text-align: right;\">\n",
       "      <th></th>\n",
       "      <th>origin</th>\n",
       "      <th>destination</th>\n",
       "      <th>time</th>\n",
       "      <th>path</th>\n",
       "      <th>node_path</th>\n",
       "      <th>link_path</th>\n",
       "      <th>ntlegs</th>\n",
       "    </tr>\n",
       "  </thead>\n",
       "  <tbody>\n",
       "    <tr>\n",
       "      <th>9180</th>\n",
       "      <td>zone_94</td>\n",
       "      <td>zone_65</td>\n",
       "      <td>2900.983811</td>\n",
       "      <td>[zone_94, 434110613, 260454848, 1986163222, 25...</td>\n",
       "      <td>[434110613, 260454848, 1986163222, 2520792820,...</td>\n",
       "      <td>[112153, 129729, 130742, 133931, 112142, 80766...</td>\n",
       "      <td>[(zone_94, 434110613), (249070467, zone_65)]</td>\n",
       "    </tr>\n",
       "  </tbody>\n",
       "</table>\n",
       "</div>"
      ],
      "text/plain": [
       "       origin destination         time  \\\n",
       "9180  zone_94     zone_65  2900.983811   \n",
       "\n",
       "                                                   path  \\\n",
       "9180  [zone_94, 434110613, 260454848, 1986163222, 25...   \n",
       "\n",
       "                                              node_path  \\\n",
       "9180  [434110613, 260454848, 1986163222, 2520792820,...   \n",
       "\n",
       "                                              link_path  \\\n",
       "9180  [112153, 129729, 130742, 133931, 112142, 80766...   \n",
       "\n",
       "                                            ntlegs  \n",
       "9180  [(zone_94, 434110613), (249070467, zone_65)]  "
      ]
     },
     "execution_count": 61,
     "metadata": {},
     "output_type": "execute_result"
    }
   ],
   "source": [
    "sm.car_los.sample()"
   ]
  },
  {
   "cell_type": "code",
   "execution_count": 62,
   "metadata": {},
   "outputs": [],
   "source": [
    "# Assign a length to LoS table\n",
    "# Create a dictionary of road link lengths\n",
    "len_dict = sm.road_links['length'].to_dict()\n",
    "# Apply it to the link path column (sum up all links for each path)\n",
    "sm.car_los['length'] = sm.car_los['link_path'].apply(\n",
    "    lambda l: sum([len_dict[i] for i in l]))"
   ]
  },
  {
   "cell_type": "code",
   "execution_count": 63,
   "metadata": {},
   "outputs": [],
   "source": [
    "# add the route type for sake of consistency\n",
    "sm.analysis_car_route_type()"
   ]
  },
  {
   "cell_type": "code",
   "execution_count": 64,
   "metadata": {},
   "outputs": [
    {
     "data": {
      "text/html": [
       "<div>\n",
       "<style scoped>\n",
       "    .dataframe tbody tr th:only-of-type {\n",
       "        vertical-align: middle;\n",
       "    }\n",
       "\n",
       "    .dataframe tbody tr th {\n",
       "        vertical-align: top;\n",
       "    }\n",
       "\n",
       "    .dataframe thead th {\n",
       "        text-align: right;\n",
       "    }\n",
       "</style>\n",
       "<table border=\"1\" class=\"dataframe\">\n",
       "  <thead>\n",
       "    <tr style=\"text-align: right;\">\n",
       "      <th></th>\n",
       "      <th>origin</th>\n",
       "      <th>destination</th>\n",
       "      <th>time</th>\n",
       "      <th>path</th>\n",
       "      <th>node_path</th>\n",
       "      <th>link_path</th>\n",
       "      <th>ntlegs</th>\n",
       "      <th>length</th>\n",
       "      <th>route_types</th>\n",
       "      <th>route_type</th>\n",
       "    </tr>\n",
       "  </thead>\n",
       "  <tbody>\n",
       "    <tr>\n",
       "      <th>7495</th>\n",
       "      <td>zone_79</td>\n",
       "      <td>zone_32</td>\n",
       "      <td>933.393132</td>\n",
       "      <td>[zone_79, 254446515, 414217024, 292131975, 308...</td>\n",
       "      <td>[254446515, 414217024, 292131975, 30821366, 30...</td>\n",
       "      <td>[118806, 116499, 94099, 94100, 26400, 57210, 2...</td>\n",
       "      <td>[(zone_79, 254446515), (1380883161, zone_32)]</td>\n",
       "      <td>7901.036</td>\n",
       "      <td>(car,)</td>\n",
       "      <td>car</td>\n",
       "    </tr>\n",
       "  </tbody>\n",
       "</table>\n",
       "</div>"
      ],
      "text/plain": [
       "       origin destination        time  \\\n",
       "7495  zone_79     zone_32  933.393132   \n",
       "\n",
       "                                                   path  \\\n",
       "7495  [zone_79, 254446515, 414217024, 292131975, 308...   \n",
       "\n",
       "                                              node_path  \\\n",
       "7495  [254446515, 414217024, 292131975, 30821366, 30...   \n",
       "\n",
       "                                              link_path  \\\n",
       "7495  [118806, 116499, 94099, 94100, 26400, 57210, 2...   \n",
       "\n",
       "                                             ntlegs    length route_types  \\\n",
       "7495  [(zone_79, 254446515), (1380883161, zone_32)]  7901.036      (car,)   \n",
       "\n",
       "     route_type  \n",
       "7495        car  "
      ]
     },
     "execution_count": 64,
     "metadata": {},
     "output_type": "execute_result"
    }
   ],
   "source": [
    "sm.car_los.sample()"
   ]
  },
  {
   "cell_type": "markdown",
   "metadata": {},
   "source": [
    "### PT"
   ]
  },
  {
   "cell_type": "code",
   "execution_count": 65,
   "metadata": {},
   "outputs": [
    {
     "name": "stderr",
     "output_type": "stream",
     "text": [
      "path_analysis: 100%|██████████| 9409/9409 [00:00<00:00, 14700.15it/s]\n"
     ]
    }
   ],
   "source": [
    "# Simple PT\n",
    "sm.step_pt_pathfinder(broken_modes=False, broken_routes=False, walk_on_road=False)"
   ]
  },
  {
   "cell_type": "code",
   "execution_count": 66,
   "metadata": {},
   "outputs": [
    {
     "data": {
      "text/plain": [
       "9409"
      ]
     },
     "execution_count": 66,
     "metadata": {},
     "output_type": "execute_result"
    }
   ],
   "source": [
    "len(sm.pt_los)"
   ]
  },
  {
   "cell_type": "code",
   "execution_count": 67,
   "metadata": {},
   "outputs": [
    {
     "data": {
      "text/html": [
       "<div>\n",
       "<style scoped>\n",
       "    .dataframe tbody tr th:only-of-type {\n",
       "        vertical-align: middle;\n",
       "    }\n",
       "\n",
       "    .dataframe tbody tr th {\n",
       "        vertical-align: top;\n",
       "    }\n",
       "\n",
       "    .dataframe thead th {\n",
       "        text-align: right;\n",
       "    }\n",
       "</style>\n",
       "<table border=\"1\" class=\"dataframe\">\n",
       "  <thead>\n",
       "    <tr style=\"text-align: right;\">\n",
       "      <th></th>\n",
       "      <th>origin</th>\n",
       "      <th>destination</th>\n",
       "      <th>gtime</th>\n",
       "      <th>path</th>\n",
       "      <th>pathfinder_session</th>\n",
       "      <th>reversed</th>\n",
       "      <th>boardings</th>\n",
       "      <th>alightings</th>\n",
       "      <th>node_path</th>\n",
       "      <th>link_path</th>\n",
       "      <th>footpaths</th>\n",
       "      <th>ntlegs</th>\n",
       "      <th>transfers</th>\n",
       "      <th>boarding_links</th>\n",
       "      <th>alighting_links</th>\n",
       "      <th>all_walk</th>\n",
       "      <th>ntransfers</th>\n",
       "      <th>time_link_path</th>\n",
       "      <th>length_link_path</th>\n",
       "    </tr>\n",
       "  </thead>\n",
       "  <tbody>\n",
       "    <tr>\n",
       "      <th>8539</th>\n",
       "      <td>zone_89</td>\n",
       "      <td>zone_11</td>\n",
       "      <td>1700.871078</td>\n",
       "      <td>(zone_89, n_128, link_3061, link_3064, link_30...</td>\n",
       "      <td>best_path</td>\n",
       "      <td>False</td>\n",
       "      <td>[n_128, n_591]</td>\n",
       "      <td>[n_591, n_109]</td>\n",
       "      <td>[n_128, n_591, n_109]</td>\n",
       "      <td>[link_3061, link_3064, link_3066, link_3069, l...</td>\n",
       "      <td>[]</td>\n",
       "      <td>[(zone_89, n_128), (n_109, zone_11)]</td>\n",
       "      <td>[n_591]</td>\n",
       "      <td>[link_3061, link_12091]</td>\n",
       "      <td>[link_3069, link_12093]</td>\n",
       "      <td>False</td>\n",
       "      <td>1</td>\n",
       "      <td>570.0</td>\n",
       "      <td>7379.706</td>\n",
       "    </tr>\n",
       "  </tbody>\n",
       "</table>\n",
       "</div>"
      ],
      "text/plain": [
       "       origin destination        gtime  \\\n",
       "8539  zone_89     zone_11  1700.871078   \n",
       "\n",
       "                                                   path pathfinder_session  \\\n",
       "8539  (zone_89, n_128, link_3061, link_3064, link_30...          best_path   \n",
       "\n",
       "      reversed       boardings      alightings              node_path  \\\n",
       "8539     False  [n_128, n_591]  [n_591, n_109]  [n_128, n_591, n_109]   \n",
       "\n",
       "                                              link_path footpaths  \\\n",
       "8539  [link_3061, link_3064, link_3066, link_3069, l...        []   \n",
       "\n",
       "                                    ntlegs transfers           boarding_links  \\\n",
       "8539  [(zone_89, n_128), (n_109, zone_11)]   [n_591]  [link_3061, link_12091]   \n",
       "\n",
       "              alighting_links  all_walk  ntransfers  time_link_path  \\\n",
       "8539  [link_3069, link_12093]     False           1           570.0   \n",
       "\n",
       "      length_link_path  \n",
       "8539          7379.706  "
      ]
     },
     "execution_count": 67,
     "metadata": {},
     "output_type": "execute_result"
    }
   ],
   "source": [
    "sm.pt_los.sample()"
   ]
  },
  {
   "cell_type": "code",
   "execution_count": 68,
   "metadata": {},
   "outputs": [
    {
     "data": {
      "text/plain": [
       "Index(['origin', 'destination', 'gtime', 'path', 'pathfinder_session',\n",
       "       'reversed', 'boardings', 'alightings', 'node_path', 'link_path',\n",
       "       'footpaths', 'ntlegs', 'transfers', 'boarding_links', 'alighting_links',\n",
       "       'all_walk', 'ntransfers', 'time_link_path', 'length_link_path'],\n",
       "      dtype='object')"
      ]
     },
     "execution_count": 68,
     "metadata": {},
     "output_type": "execute_result"
    }
   ],
   "source": [
    "sm.pt_los.columns"
   ]
  },
  {
   "cell_type": "code",
   "execution_count": 69,
   "metadata": {},
   "outputs": [
    {
     "data": {
      "text/plain": [
       "array(['bus', 'rail', 'tram', 'subway'], dtype=object)"
      ]
     },
     "execution_count": 69,
     "metadata": {},
     "output_type": "execute_result"
    }
   ],
   "source": [
    "sm.links['route_type'].unique()"
   ]
  },
  {
   "cell_type": "code",
   "execution_count": 70,
   "metadata": {},
   "outputs": [],
   "source": [
    "# Add route types to the paths\n",
    "# The mode that appears first in the hierarchy is assigned as\n",
    "# main mode, if there is more than one route_type used on the path\n",
    "hierarchy = ['rail', 'subway', 'funicular', 'tram', 'bus']\n",
    "sm.analysis_pt_route_type(hierarchy)"
   ]
  },
  {
   "cell_type": "code",
   "execution_count": 71,
   "metadata": {},
   "outputs": [
    {
     "data": {
      "text/plain": [
       "array([[<AxesSubplot:title={'center':'ntransfers'}>]], dtype=object)"
      ]
     },
     "execution_count": 71,
     "metadata": {},
     "output_type": "execute_result"
    },
    {
     "data": {
      "image/png": "[encoded data removed]",
      "text/plain": [
       "<Figure size 216x216 with 1 Axes>"
      ]
     },
     "metadata": {
      "needs_background": "light"
     },
     "output_type": "display_data"
    }
   ],
   "source": [
    "# How many transfers do we have?\n",
    "sm.pt_los.hist(column='ntransfers', bins=6, figsize=(3,3))"
   ]
  },
  {
   "cell_type": "code",
   "execution_count": 72,
   "metadata": {},
   "outputs": [
    {
     "data": {
      "text/plain": [
       "<AxesSubplot:xlabel='route_types'>"
      ]
     },
     "execution_count": 72,
     "metadata": {},
     "output_type": "execute_result"
    },
    {
     "data": {
      "image/png": "[encoded data removed]",
      "text/plain": [
       "<Figure size 432x288 with 1 Axes>"
      ]
     },
     "metadata": {
      "needs_background": "light"
     },
     "output_type": "display_data"
    }
   ],
   "source": [
    "# How many connections do we have per mode combination in the shortest paths?\n",
    "sm.pt_los['route_types'] = sm.pt_los['route_types'].apply(tuple) # bugfix\n",
    "sm.pt_los.groupby('route_types').count()['route_type'].plot(kind='bar')"
   ]
  },
  {
   "cell_type": "code",
   "execution_count": 73,
   "metadata": {},
   "outputs": [
    {
     "name": "stderr",
     "output_type": "stream",
     "text": [
      "breaking modes: set() : 100%|██████████| 16/16 [00:08<00:00,  1.82it/s]                           \n",
      "path_analysis: 100%|██████████| 64701/64701 [00:02<00:00, 25380.85it/s]\n"
     ]
    }
   ],
   "source": [
    "# Now, let's look at the results when we disaggregate paths by route_type\n",
    "sm.step_pt_pathfinder(broken_modes=True, broken_routes=False, walk_on_road=False)"
   ]
  },
  {
   "cell_type": "code",
   "execution_count": 74,
   "metadata": {},
   "outputs": [
    {
     "data": {
      "text/plain": [
       "64701"
      ]
     },
     "execution_count": 74,
     "metadata": {},
     "output_type": "execute_result"
    }
   ],
   "source": [
    "# How many paths do we have now compared to 12,100 before?\n",
    "len(sm.pt_los)"
   ]
  },
  {
   "cell_type": "code",
   "execution_count": 75,
   "metadata": {},
   "outputs": [
    {
     "data": {
      "text/html": [
       "<div>\n",
       "<style scoped>\n",
       "    .dataframe tbody tr th:only-of-type {\n",
       "        vertical-align: middle;\n",
       "    }\n",
       "\n",
       "    .dataframe tbody tr th {\n",
       "        vertical-align: top;\n",
       "    }\n",
       "\n",
       "    .dataframe thead th {\n",
       "        text-align: right;\n",
       "    }\n",
       "</style>\n",
       "<table border=\"1\" class=\"dataframe\">\n",
       "  <thead>\n",
       "    <tr style=\"text-align: right;\">\n",
       "      <th></th>\n",
       "      <th>origin</th>\n",
       "      <th>destination</th>\n",
       "      <th>gtime</th>\n",
       "      <th>path</th>\n",
       "      <th>reversed</th>\n",
       "      <th>pathfinder_session</th>\n",
       "      <th>broken_modes</th>\n",
       "      <th>boardings</th>\n",
       "      <th>alightings</th>\n",
       "      <th>node_path</th>\n",
       "      <th>...</th>\n",
       "      <th>ntlegs</th>\n",
       "      <th>transfers</th>\n",
       "      <th>boarding_links</th>\n",
       "      <th>alighting_links</th>\n",
       "      <th>all_walk</th>\n",
       "      <th>ntransfers</th>\n",
       "      <th>time_link_path</th>\n",
       "      <th>length_link_path</th>\n",
       "      <th>route_types</th>\n",
       "      <th>route_type</th>\n",
       "    </tr>\n",
       "  </thead>\n",
       "  <tbody>\n",
       "    <tr>\n",
       "      <th>2216</th>\n",
       "      <td>zone_29</td>\n",
       "      <td>zone_83</td>\n",
       "      <td>4614.24802</td>\n",
       "      <td>(zone_29, n_495, link_91, link_92, link_93, li...</td>\n",
       "      <td>False</td>\n",
       "      <td>mode_breaker</td>\n",
       "      <td>{subway, tram}</td>\n",
       "      <td>[n_495, n_83]</td>\n",
       "      <td>[n_83, n_107]</td>\n",
       "      <td>[n_495, n_83, n_107]</td>\n",
       "      <td>...</td>\n",
       "      <td>[(zone_29, n_495), (n_107, zone_83)]</td>\n",
       "      <td>[n_83]</td>\n",
       "      <td>[link_91, link_405]</td>\n",
       "      <td>[link_103, link_416]</td>\n",
       "      <td>False</td>\n",
       "      <td>1</td>\n",
       "      <td>2376.0</td>\n",
       "      <td>42665.0</td>\n",
       "      <td>(rail,)</td>\n",
       "      <td>rail</td>\n",
       "    </tr>\n",
       "  </tbody>\n",
       "</table>\n",
       "<p>1 rows × 22 columns</p>\n",
       "</div>"
      ],
      "text/plain": [
       "       origin destination       gtime  \\\n",
       "2216  zone_29     zone_83  4614.24802   \n",
       "\n",
       "                                                   path  reversed  \\\n",
       "2216  (zone_29, n_495, link_91, link_92, link_93, li...     False   \n",
       "\n",
       "     pathfinder_session    broken_modes      boardings     alightings  \\\n",
       "2216       mode_breaker  {subway, tram}  [n_495, n_83]  [n_83, n_107]   \n",
       "\n",
       "                 node_path  ...                                ntlegs  \\\n",
       "2216  [n_495, n_83, n_107]  ...  [(zone_29, n_495), (n_107, zone_83)]   \n",
       "\n",
       "     transfers       boarding_links       alighting_links all_walk ntransfers  \\\n",
       "2216    [n_83]  [link_91, link_405]  [link_103, link_416]    False          1   \n",
       "\n",
       "      time_link_path  length_link_path  route_types  route_type  \n",
       "2216          2376.0           42665.0      (rail,)        rail  \n",
       "\n",
       "[1 rows x 22 columns]"
      ]
     },
     "execution_count": 75,
     "metadata": {},
     "output_type": "execute_result"
    }
   ],
   "source": [
    "sm.analysis_pt_route_type(hierarchy)\n",
    "sm.pt_los.sample()"
   ]
  },
  {
   "cell_type": "code",
   "execution_count": 76,
   "metadata": {},
   "outputs": [
    {
     "data": {
      "text/plain": [
       "<AxesSubplot:xlabel='route_types'>"
      ]
     },
     "execution_count": 76,
     "metadata": {},
     "output_type": "execute_result"
    },
    {
     "data": {
      "image/png": "[encoded data removed]",
      "text/plain": [
       "<Figure size 432x288 with 1 Axes>"
      ]
     },
     "metadata": {
      "needs_background": "light"
     },
     "output_type": "display_data"
    }
   ],
   "source": [
    "sm.pt_los['route_types'] = sm.pt_los['route_types'].apply(tuple) # bugfix\n",
    "sm.pt_los.groupby('route_types').count()['route_type'].plot(kind='bar')"
   ]
  },
  {
   "cell_type": "code",
   "execution_count": 77,
   "metadata": {},
   "outputs": [
    {
     "data": {
      "text/plain": [
       "array([[<AxesSubplot:title={'center':'ntransfers'}>]], dtype=object)"
      ]
     },
     "execution_count": 77,
     "metadata": {},
     "output_type": "execute_result"
    },
    {
     "data": {
      "image/png": "[encoded data removed]",
      "text/plain": [
       "<Figure size 216x216 with 1 Axes>"
      ]
     },
     "metadata": {
      "needs_background": "light"
     },
     "output_type": "display_data"
    }
   ],
   "source": [
    "# How many transfers do we have?\n",
    "sm.pt_los.hist(column='ntransfers', bins=6, figsize=(3,3))"
   ]
  },
  {
   "cell_type": "code",
   "execution_count": 78,
   "metadata": {},
   "outputs": [],
   "source": [
    "# Compute time attribute (from link path and footpaths and access links)\n",
    "sm.analysis_pt_time()"
   ]
  },
  {
   "cell_type": "code",
   "execution_count": 79,
   "metadata": {},
   "outputs": [
    {
     "data": {
      "text/html": [
       "<div>\n",
       "<style scoped>\n",
       "    .dataframe tbody tr th:only-of-type {\n",
       "        vertical-align: middle;\n",
       "    }\n",
       "\n",
       "    .dataframe tbody tr th {\n",
       "        vertical-align: top;\n",
       "    }\n",
       "\n",
       "    .dataframe thead th {\n",
       "        text-align: right;\n",
       "    }\n",
       "</style>\n",
       "<table border=\"1\" class=\"dataframe\">\n",
       "  <thead>\n",
       "    <tr style=\"text-align: right;\">\n",
       "      <th></th>\n",
       "      <th>route_types</th>\n",
       "      <th>time</th>\n",
       "      <th>ntransfers</th>\n",
       "    </tr>\n",
       "  </thead>\n",
       "  <tbody>\n",
       "  </tbody>\n",
       "</table>\n",
       "</div>"
      ],
      "text/plain": [
       "Empty DataFrame\n",
       "Columns: [route_types, time, ntransfers]\n",
       "Index: []"
      ]
     },
     "execution_count": 79,
     "metadata": {},
     "output_type": "execute_result"
    }
   ],
   "source": [
    "# Closer look at one OD pair\n",
    "sm.pt_los.loc[(sm.pt_los['origin']=='zone_11') & (sm.pt_los['destination']=='zone_99')][\n",
    "    ['route_types', 'time', 'ntransfers']]"
   ]
  },
  {
   "cell_type": "code",
   "execution_count": 80,
   "metadata": {},
   "outputs": [
    {
     "name": "stderr",
     "output_type": "stream",
     "text": [
      "Reprojecting model from epsg 4326 to epsg 3857: 100%|██████████| 38/38 [00:02<00:00, 13.42it/s]\n",
      "100%|██████████| 8/8 [00:20<00:00,  2.51s/it]\n"
     ]
    },
    {
     "data": {
      "image/png": "[encoded data removed]",
      "text/plain": [
       "<Figure size 1026.13x153.832 with 8 Axes>"
      ]
     },
     "metadata": {},
     "output_type": "display_data"
    }
   ],
   "source": [
    "# Plot\n",
    "plot = sm.change_epsg(3857, coordinates_unit=sm.coordinates_unit)\n",
    "plot.links['color'] = '#' + plot.links['route_color']\n",
    "fig, axes = plot.plot_separated_paths(\n",
    "    'zone_77', 'zone_67', rows=1, figsize=[16, 16],\n",
    "    title=None, constrained_layout=True, zoom=13, resize=True,\n",
    "    basemap_url='http://a.basemaps.cartocdn.com/light_nolabels/tileZ/tileX/tileY.png', \n",
    ")"
   ]
  },
  {
   "cell_type": "code",
   "execution_count": 81,
   "metadata": {},
   "outputs": [],
   "source": [
    "# Assign a length to LoS table\n",
    "sm.analysis_pt_length()"
   ]
  },
  {
   "cell_type": "code",
   "execution_count": 82,
   "metadata": {},
   "outputs": [
    {
     "data": {
      "text/plain": [
       "<AxesSubplot:>"
      ]
     },
     "execution_count": 82,
     "metadata": {},
     "output_type": "execute_result"
    },
    {
     "data": {
      "image/png": "[encoded data removed]",
      "text/plain": [
       "<Figure size 216x216 with 1 Axes>"
      ]
     },
     "metadata": {
      "needs_background": "light"
     },
     "output_type": "display_data"
    }
   ],
   "source": [
    "# Length distribution\n",
    "sm.pt_los['length'].hist(bins=20, figsize=(3,3))"
   ]
  },
  {
   "cell_type": "code",
   "execution_count": 83,
   "metadata": {},
   "outputs": [
    {
     "data": {
      "image/png": "[encoded data removed]",
      "text/plain": [
       "<Figure size 360x360 with 1 Axes>"
      ]
     },
     "metadata": {
      "needs_background": "light"
     },
     "output_type": "display_data"
    }
   ],
   "source": [
    "# Dependency between distance and time\n",
    "mask = sm.pt_los['origin']!=sm.pt_los['destination'] # Filter statement\n",
    "color_dict = {'bus': '#129eac', 'subway': '#0e5899', 'tram': '#5ea8e8', 'rail': '#1F85DE', 'walk': '#adb3b4'}\n",
    "color_list = [color_dict[t] for t in sm.pt_los.loc[mask, 'route_type']]\n",
    "ax = sm.pt_los.loc[mask].plot(\n",
    "    kind='scatter', x='length', y='time', figsize=[5, 5], s=1, c=color_list)"
   ]
  },
  {
   "cell_type": "code",
   "execution_count": 84,
   "metadata": {},
   "outputs": [
    {
     "data": {
      "text/html": [
       "<div>\n",
       "<style scoped>\n",
       "    .dataframe tbody tr th:only-of-type {\n",
       "        vertical-align: middle;\n",
       "    }\n",
       "\n",
       "    .dataframe tbody tr th {\n",
       "        vertical-align: top;\n",
       "    }\n",
       "\n",
       "    .dataframe thead th {\n",
       "        text-align: right;\n",
       "    }\n",
       "</style>\n",
       "<table border=\"1\" class=\"dataframe\">\n",
       "  <thead>\n",
       "    <tr style=\"text-align: right;\">\n",
       "      <th></th>\n",
       "      <th>uuid</th>\n",
       "      <th>sch</th>\n",
       "      <th>nam</th>\n",
       "      <th>gdf</th>\n",
       "      <th>bezeich</th>\n",
       "      <th>pop</th>\n",
       "      <th>popCentroidLat</th>\n",
       "      <th>popCentroidLon</th>\n",
       "      <th>emp</th>\n",
       "      <th>pois</th>\n",
       "      <th>...</th>\n",
       "      <th>aquarium</th>\n",
       "      <th>attraction</th>\n",
       "      <th>camp_site</th>\n",
       "      <th>caravan_site</th>\n",
       "      <th>hostel</th>\n",
       "      <th>hotel</th>\n",
       "      <th>theme_park</th>\n",
       "      <th>zoo</th>\n",
       "      <th>lake</th>\n",
       "      <th>geometry</th>\n",
       "    </tr>\n",
       "    <tr>\n",
       "      <th>index</th>\n",
       "      <th></th>\n",
       "      <th></th>\n",
       "      <th></th>\n",
       "      <th></th>\n",
       "      <th></th>\n",
       "      <th></th>\n",
       "      <th></th>\n",
       "      <th></th>\n",
       "      <th></th>\n",
       "      <th></th>\n",
       "      <th></th>\n",
       "      <th></th>\n",
       "      <th></th>\n",
       "      <th></th>\n",
       "      <th></th>\n",
       "      <th></th>\n",
       "      <th></th>\n",
       "      <th></th>\n",
       "      <th></th>\n",
       "      <th></th>\n",
       "      <th></th>\n",
       "    </tr>\n",
       "  </thead>\n",
       "  <tbody>\n",
       "    <tr>\n",
       "      <th>zone_77</th>\n",
       "      <td>DEBE02YY20000001</td>\n",
       "      <td>110000020202</td>\n",
       "      <td>Kreuzberg</td>\n",
       "      <td>10377495.0</td>\n",
       "      <td>AX_KommunalesGebiet</td>\n",
       "      <td>153132</td>\n",
       "      <td>52.496581</td>\n",
       "      <td>13.408629</td>\n",
       "      <td>94829.812699</td>\n",
       "      <td>2283</td>\n",
       "      <td>...</td>\n",
       "      <td>0</td>\n",
       "      <td>12</td>\n",
       "      <td>0</td>\n",
       "      <td>0</td>\n",
       "      <td>16</td>\n",
       "      <td>34</td>\n",
       "      <td>0</td>\n",
       "      <td>3</td>\n",
       "      <td>0</td>\n",
       "      <td>POLYGON ((13.40363 52.50818, 13.40382 52.50809...</td>\n",
       "    </tr>\n",
       "  </tbody>\n",
       "</table>\n",
       "<p>1 rows × 75 columns</p>\n",
       "</div>"
      ],
      "text/plain": [
       "                     uuid           sch        nam         gdf  \\\n",
       "index                                                            \n",
       "zone_77  DEBE02YY20000001  110000020202  Kreuzberg  10377495.0   \n",
       "\n",
       "                     bezeich     pop  popCentroidLat  popCentroidLon  \\\n",
       "index                                                                  \n",
       "zone_77  AX_KommunalesGebiet  153132       52.496581       13.408629   \n",
       "\n",
       "                  emp  pois  ...  aquarium  attraction  camp_site  \\\n",
       "index                        ...                                    \n",
       "zone_77  94829.812699  2283  ...         0          12          0   \n",
       "\n",
       "         caravan_site  hostel  hotel  theme_park  zoo  lake  \\\n",
       "index                                                         \n",
       "zone_77             0      16     34           0    3     0   \n",
       "\n",
       "                                                  geometry  \n",
       "index                                                       \n",
       "zone_77  POLYGON ((13.40363 52.50818, 13.40382 52.50809...  \n",
       "\n",
       "[1 rows x 75 columns]"
      ]
     },
     "execution_count": 84,
     "metadata": {},
     "output_type": "execute_result"
    }
   ],
   "source": [
    "sm.zones[sm.zones['nam']=='Kreuzberg']"
   ]
  },
  {
   "cell_type": "code",
   "execution_count": 85,
   "metadata": {},
   "outputs": [
    {
     "data": {
      "text/html": [
       "<div style=\"width:100%;\"><div style=\"position:relative;width:100%;height:0;padding-bottom:60%;\"><span style=\"color:#565656\">Make this Notebook Trusted to load map: File -> Trust Notebook</span><iframe src=\"about:blank\" style=\"position:absolute;width:100%;height:100%;left:0;top:0;border:none !important;\" data-html=%3C%21DOCTYPE%20html%3E%0A%3Chead%3E%20%20%20%20%0A%20%20%20%20%3Cmeta%20http-equiv%3D%22content-type%22%20content%3D%22text/html%3B%20charset%3DUTF-8%22%20/%3E%0A%20%20%20%20%0A%20%20%20%20%20%20%20%20%3Cscript%3E%0A%20%20%20%20%20%20%20%20%20%20%20%20L_NO_TOUCH%20%3D%20false%3B%0A%20%20%20%20%20%20%20%20%20%20%20%20L_DISABLE_3D%20%3D%20false%3B%0A%20%20%20%20%20%20%20%20%3C/script%3E%0A%20%20%20%20%0A%20%20%20%20%3Cstyle%3Ehtml%2C%20body%20%7Bwidth%3A%20100%25%3Bheight%3A%20100%25%3Bmargin%3A%200%3Bpadding%3A%200%3B%7D%3C/style%3E%0A%20%20%20%20%3Cstyle%3E%23map%20%7Bposition%3Aabsolute%3Btop%3A0%3Bbottom%3A0%3Bright%3A0%3Bleft%3A0%3B%7D%3C/style%3E%0A%20%20%20%20%3Cscript%20src%3D%22https%3A//cdn.jsdelivr.net/npm/leaflet%401.6.0/dist/leaflet.js%22%3E%3C/script%3E%0A%20%20%20%20%3Cscript%20src%3D%22https%3A//code.jquery.com/jquery-1.12.4.min.js%22%3E%3C/script%3E%0A%20%20%20%20%3Cscript%20src%3D%22https%3A//maxcdn.bootstrapcdn.com/bootstrap/3.2.0/js/bootstrap.min.js%22%3E%3C/script%3E%0A%20%20%20%20%3Cscript%20src%3D%22https%3A//cdnjs.cloudflare.com/ajax/libs/Leaflet.awesome-markers/2.0.2/leaflet.awesome-markers.js%22%3E%3C/script%3E%0A%20%20%20%20%3Clink%20rel%3D%22stylesheet%22%20href%3D%22https%3A//cdn.jsdelivr.net/npm/leaflet%401.6.0/dist/leaflet.css%22/%3E%0A%20%20%20%20%3Clink%20rel%3D%22stylesheet%22%20href%3D%22https%3A//maxcdn.bootstrapcdn.com/bootstrap/3.2.0/css/bootstrap.min.css%22/%3E%0A%20%20%20%20%3Clink%20rel%3D%22stylesheet%22%20href%3D%22https%3A//maxcdn.bootstrapcdn.com/bootstrap/3.2.0/css/bootstrap-theme.min.css%22/%3E%0A%20%20%20%20%3Clink%20rel%3D%22stylesheet%22%20href%3D%22https%3A//maxcdn.bootstrapcdn.com/font-awesome/4.6.3/css/font-awesome.min.css%22/%3E%0A%20%20%20%20%3Clink%20rel%3D%22stylesheet%22%20href%3D%22https%3A//cdnjs.cloudflare.com/ajax/libs/Leaflet.awesome-markers/2.0.2/leaflet.awesome-markers.css%22/%3E%0A%20%20%20%20%3Clink%20rel%3D%22stylesheet%22%20href%3D%22https%3A//cdn.jsdelivr.net/gh/python-visualization/folium/folium/templates/leaflet.awesome.rotate.min.css%22/%3E%0A%20%20%20%20%0A%20%20%20%20%20%20%20%20%20%20%20%20%3Cmeta%20name%3D%22viewport%22%20content%3D%22width%3Ddevice-width%2C%0A%20%20%20%20%20%20%20%20%20%20%20%20%20%20%20%20initial-scale%3D1.0%2C%20maximum-scale%3D1.0%2C%20user-scalable%3Dno%22%20/%3E%0A%20%20%20%20%20%20%20%20%20%20%20%20%3Cstyle%3E%0A%20%20%20%20%20%20%20%20%20%20%20%20%20%20%20%20%23map_4ce4955f22174bb8a4ca78b05c3d5c2a%20%7B%0A%20%20%20%20%20%20%20%20%20%20%20%20%20%20%20%20%20%20%20%20position%3A%20relative%3B%0A%20%20%20%20%20%20%20%20%20%20%20%20%20%20%20%20%20%20%20%20width%3A%20100.0%25%3B%0A%20%20%20%20%20%20%20%20%20%20%20%20%20%20%20%20%20%20%20%20height%3A%20100.0%25%3B%0A%20%20%20%20%20%20%20%20%20%20%20%20%20%20%20%20%20%20%20%20left%3A%200.0%25%3B%0A%20%20%20%20%20%20%20%20%20%20%20%20%20%20%20%20%20%20%20%20top%3A%200.0%25%3B%0A%20%20%20%20%20%20%20%20%20%20%20%20%20%20%20%20%7D%0A%20%20%20%20%20%20%20%20%20%20%20%20%3C/style%3E%0A%20%20%20%20%20%20%20%20%0A%3C/head%3E%0A%3Cbody%3E%20%20%20%20%0A%20%20%20%20%0A%20%20%20%20%20%20%20%20%20%20%20%20%3Cdiv%20class%3D%22folium-map%22%20id%3D%22map_4ce4955f22174bb8a4ca78b05c3d5c2a%22%20%3E%3C/div%3E%0A%20%20%20%20%20%20%20%20%0A%3C/body%3E%0A%3Cscript%3E%20%20%20%20%0A%20%20%20%20%0A%20%20%20%20%20%20%20%20%20%20%20%20var%20map_4ce4955f22174bb8a4ca78b05c3d5c2a%20%3D%20L.map%28%0A%20%20%20%20%20%20%20%20%20%20%20%20%20%20%20%20%22map_4ce4955f22174bb8a4ca78b05c3d5c2a%22%2C%0A%20%20%20%20%20%20%20%20%20%20%20%20%20%20%20%20%7B%0A%20%20%20%20%20%20%20%20%20%20%20%20%20%20%20%20%20%20%20%20center%3A%20%5B52.51827010079438%2C%2013.417864865833872%5D%2C%0A%20%20%20%20%20%20%20%20%20%20%20%20%20%20%20%20%20%20%20%20crs%3A%20L.CRS.EPSG3857%2C%0A%20%20%20%20%20%20%20%20%20%20%20%20%20%20%20%20%20%20%20%20zoom%3A%2013%2C%0A%20%20%20%20%20%20%20%20%20%20%20%20%20%20%20%20%20%20%20%20zoomControl%3A%20true%2C%0A%20%20%20%20%20%20%20%20%20%20%20%20%20%20%20%20%20%20%20%20preferCanvas%3A%20false%2C%0A%20%20%20%20%20%20%20%20%20%20%20%20%20%20%20%20%7D%0A%20%20%20%20%20%20%20%20%20%20%20%20%29%3B%0A%0A%20%20%20%20%20%20%20%20%20%20%20%20%0A%0A%20%20%20%20%20%20%20%20%0A%20%20%20%20%0A%20%20%20%20%20%20%20%20%20%20%20%20var%20tile_layer_04324357113940d1a7a7bb695dbbba0d%20%3D%20L.tileLayer%28%0A%20%20%20%20%20%20%20%20%20%20%20%20%20%20%20%20%22https%3A//%7Bs%7D.tile.openstreetmap.org/%7Bz%7D/%7Bx%7D/%7By%7D.png%22%2C%0A%20%20%20%20%20%20%20%20%20%20%20%20%20%20%20%20%7B%22attribution%22%3A%20%22Data%20by%20%5Cu0026copy%3B%20%5Cu003ca%20href%3D%5C%22http%3A//openstreetmap.org%5C%22%5Cu003eOpenStreetMap%5Cu003c/a%5Cu003e%2C%20under%20%5Cu003ca%20href%3D%5C%22http%3A//www.openstreetmap.org/copyright%5C%22%5Cu003eODbL%5Cu003c/a%5Cu003e.%22%2C%20%22detectRetina%22%3A%20false%2C%20%22maxNativeZoom%22%3A%2018%2C%20%22maxZoom%22%3A%2018%2C%20%22minZoom%22%3A%200%2C%20%22noWrap%22%3A%20false%2C%20%22opacity%22%3A%201%2C%20%22subdomains%22%3A%20%22abc%22%2C%20%22tms%22%3A%20false%7D%0A%20%20%20%20%20%20%20%20%20%20%20%20%29.addTo%28map_4ce4955f22174bb8a4ca78b05c3d5c2a%29%3B%0A%20%20%20%20%20%20%20%20%0A%20%20%20%20%0A%20%20%20%20%20%20%20%20%20%20%20%20var%20poly_line_c55829379aee48f099f41ba9542af95a%20%3D%20L.polyline%28%0A%20%20%20%20%20%20%20%20%20%20%20%20%20%20%20%20%5B%5B52.524069%2C%2013.412359%5D%2C%20%5B52.5332042%2C%2013.4186285%5D%2C%20%5B52.5407899%2C%2013.4143754%5D%5D%2C%0A%20%20%20%20%20%20%20%20%20%20%20%20%20%20%20%20%7B%22bubblingMouseEvents%22%3A%20true%2C%20%22color%22%3A%20%22blue%22%2C%20%22dashArray%22%3A%20null%2C%20%22dashOffset%22%3A%20null%2C%20%22fill%22%3A%20false%2C%20%22fillColor%22%3A%20%22blue%22%2C%20%22fillOpacity%22%3A%200.2%2C%20%22fillRule%22%3A%20%22evenodd%22%2C%20%22lineCap%22%3A%20%22round%22%2C%20%22lineJoin%22%3A%20%22round%22%2C%20%22noClip%22%3A%20false%2C%20%22opacity%22%3A%201.0%2C%20%22smoothFactor%22%3A%201.0%2C%20%22stroke%22%3A%20true%2C%20%22weight%22%3A%205%7D%0A%20%20%20%20%20%20%20%20%20%20%20%20%29.addTo%28map_4ce4955f22174bb8a4ca78b05c3d5c2a%29%3B%0A%20%20%20%20%20%20%20%20%0A%20%20%20%20%0A%20%20%20%20%20%20%20%20var%20popup_76c5b6c05ce24e799d5cb970528cc6e5%20%3D%20L.popup%28%7B%22maxWidth%22%3A%20%22100%25%22%7D%29%3B%0A%0A%20%20%20%20%20%20%20%20%0A%20%20%20%20%20%20%20%20%20%20%20%20var%20html_bf5ab38862824449bee6e3279dd40a33%20%3D%20%24%28%60%3Cdiv%20id%3D%22html_bf5ab38862824449bee6e3279dd40a33%22%20style%3D%22width%3A%20100.0%25%3B%20height%3A%20100.0%25%3B%22%3E17514_400_0%3C/div%3E%60%29%5B0%5D%3B%0A%20%20%20%20%20%20%20%20%20%20%20%20popup_76c5b6c05ce24e799d5cb970528cc6e5.setContent%28html_bf5ab38862824449bee6e3279dd40a33%29%3B%0A%20%20%20%20%20%20%20%20%0A%0A%20%20%20%20%20%20%20%20poly_line_c55829379aee48f099f41ba9542af95a.bindPopup%28popup_76c5b6c05ce24e799d5cb970528cc6e5%29%0A%20%20%20%20%20%20%20%20%3B%0A%0A%20%20%20%20%20%20%20%20%0A%20%20%20%20%0A%20%20%20%20%0A%20%20%20%20%20%20%20%20%20%20%20%20var%20poly_line_4d0c1617d8ab4ae1b1a41e8b2c71d3a4%20%3D%20L.polyline%28%0A%20%20%20%20%20%20%20%20%20%20%20%20%20%20%20%20%5B%5B52.5025533%2C%2013.4064521%5D%2C%20%5B52.5138131%2C%2013.4177692%5D%2C%20%5B52.524069%2C%2013.412359%5D%5D%2C%0A%20%20%20%20%20%20%20%20%20%20%20%20%20%20%20%20%7B%22bubblingMouseEvents%22%3A%20true%2C%20%22color%22%3A%20%22blue%22%2C%20%22dashArray%22%3A%20null%2C%20%22dashOffset%22%3A%20null%2C%20%22fill%22%3A%20false%2C%20%22fillColor%22%3A%20%22blue%22%2C%20%22fillOpacity%22%3A%200.2%2C%20%22fillRule%22%3A%20%22evenodd%22%2C%20%22lineCap%22%3A%20%22round%22%2C%20%22lineJoin%22%3A%20%22round%22%2C%20%22noClip%22%3A%20false%2C%20%22opacity%22%3A%201.0%2C%20%22smoothFactor%22%3A%201.0%2C%20%22stroke%22%3A%20true%2C%20%22weight%22%3A%205%7D%0A%20%20%20%20%20%20%20%20%20%20%20%20%29.addTo%28map_4ce4955f22174bb8a4ca78b05c3d5c2a%29%3B%0A%20%20%20%20%20%20%20%20%0A%20%20%20%20%0A%20%20%20%20%20%20%20%20var%20popup_02edf05cf5874948a865a9be4d3aaba4%20%3D%20L.popup%28%7B%22maxWidth%22%3A%20%22100%25%22%7D%29%3B%0A%0A%20%20%20%20%20%20%20%20%0A%20%20%20%20%20%20%20%20%20%20%20%20var%20html_db6d0109c4be4a61bb60980c0f0dabb6%20%3D%20%24%28%60%3Cdiv%20id%3D%22html_db6d0109c4be4a61bb60980c0f0dabb6%22%20style%3D%22width%3A%20100.0%25%3B%20height%3A%20100.0%25%3B%22%3E17525_400_0%3C/div%3E%60%29%5B0%5D%3B%0A%20%20%20%20%20%20%20%20%20%20%20%20popup_02edf05cf5874948a865a9be4d3aaba4.setContent%28html_db6d0109c4be4a61bb60980c0f0dabb6%29%3B%0A%20%20%20%20%20%20%20%20%0A%0A%20%20%20%20%20%20%20%20poly_line_4d0c1617d8ab4ae1b1a41e8b2c71d3a4.bindPopup%28popup_02edf05cf5874948a865a9be4d3aaba4%29%0A%20%20%20%20%20%20%20%20%3B%0A%0A%20%20%20%20%20%20%20%20%0A%20%20%20%20%0A%20%20%20%20%0A%20%20%20%20%20%20%20%20%20%20%20%20var%20poly_line_babc4ad9f69643cb96600837011b56a1%20%3D%20L.polyline%28%0A%20%20%20%20%20%20%20%20%20%20%20%20%20%20%20%20%5B%5B52.54228537894571%2C%2013.414355979380812%5D%2C%20%5B52.54081537188661%2C%2013.424320814619302%5D%5D%2C%0A%20%20%20%20%20%20%20%20%20%20%20%20%20%20%20%20%7B%22bubblingMouseEvents%22%3A%20true%2C%20%22color%22%3A%20%22gray%22%2C%20%22dashArray%22%3A%20null%2C%20%22dashOffset%22%3A%20null%2C%20%22fill%22%3A%20false%2C%20%22fillColor%22%3A%20%22gray%22%2C%20%22fillOpacity%22%3A%200.2%2C%20%22fillRule%22%3A%20%22evenodd%22%2C%20%22lineCap%22%3A%20%22round%22%2C%20%22lineJoin%22%3A%20%22round%22%2C%20%22noClip%22%3A%20false%2C%20%22opacity%22%3A%201.0%2C%20%22smoothFactor%22%3A%201.0%2C%20%22stroke%22%3A%20true%2C%20%22weight%22%3A%203%7D%0A%20%20%20%20%20%20%20%20%20%20%20%20%29.addTo%28map_4ce4955f22174bb8a4ca78b05c3d5c2a%29%3B%0A%20%20%20%20%20%20%20%20%0A%20%20%20%20%0A%20%20%20%20%20%20%20%20%20%20%20%20var%20poly_line_374ca10a2c1640d29b93f2f113189271%20%3D%20L.polyline%28%0A%20%20%20%20%20%20%20%20%20%20%20%20%20%20%20%20%5B%5B52.49676682831433%2C%2013.405207024527755%5D%2C%20%5B52.502439273450825%2C%2013.407603927933485%5D%5D%2C%0A%20%20%20%20%20%20%20%20%20%20%20%20%20%20%20%20%7B%22bubblingMouseEvents%22%3A%20true%2C%20%22color%22%3A%20%22black%22%2C%20%22dashArray%22%3A%20null%2C%20%22dashOffset%22%3A%20null%2C%20%22fill%22%3A%20false%2C%20%22fillColor%22%3A%20%22black%22%2C%20%22fillOpacity%22%3A%200.2%2C%20%22fillRule%22%3A%20%22evenodd%22%2C%20%22lineCap%22%3A%20%22round%22%2C%20%22lineJoin%22%3A%20%22round%22%2C%20%22noClip%22%3A%20false%2C%20%22opacity%22%3A%201.0%2C%20%22smoothFactor%22%3A%201.0%2C%20%22stroke%22%3A%20true%2C%20%22weight%22%3A%203%7D%0A%20%20%20%20%20%20%20%20%20%20%20%20%29.addTo%28map_4ce4955f22174bb8a4ca78b05c3d5c2a%29%3B%0A%20%20%20%20%20%20%20%20%0A%20%20%20%20%0A%20%20%20%20%20%20%20%20%20%20%20%20var%20poly_line_93f1c6ea9ab440e78d1d088b3220a49d%20%3D%20L.polyline%28%0A%20%20%20%20%20%20%20%20%20%20%20%20%20%20%20%20%5B%5B52.53977337327443%2C%2013.430522707139989%5D%2C%20%5B52.54081537188661%2C%2013.424320814619302%5D%5D%2C%0A%20%20%20%20%20%20%20%20%20%20%20%20%20%20%20%20%7B%22bubblingMouseEvents%22%3A%20true%2C%20%22color%22%3A%20%22black%22%2C%20%22dashArray%22%3A%20null%2C%20%22dashOffset%22%3A%20null%2C%20%22fill%22%3A%20false%2C%20%22fillColor%22%3A%20%22black%22%2C%20%22fillOpacity%22%3A%200.2%2C%20%22fillRule%22%3A%20%22evenodd%22%2C%20%22lineCap%22%3A%20%22round%22%2C%20%22lineJoin%22%3A%20%22round%22%2C%20%22noClip%22%3A%20false%2C%20%22opacity%22%3A%201.0%2C%20%22smoothFactor%22%3A%201.0%2C%20%22stroke%22%3A%20true%2C%20%22weight%22%3A%203%7D%0A%20%20%20%20%20%20%20%20%20%20%20%20%29.addTo%28map_4ce4955f22174bb8a4ca78b05c3d5c2a%29%3B%0A%20%20%20%20%20%20%20%20%0A%20%20%20%20%0A%20%20%20%20%20%20%20%20%20%20%20%20var%20circle_marker_2280dd536ce348e0ad87c46542bc2afc%20%3D%20L.circleMarker%28%0A%20%20%20%20%20%20%20%20%20%20%20%20%20%20%20%20%5B52.502439273450825%2C%2013.407603927933485%5D%2C%0A%20%20%20%20%20%20%20%20%20%20%20%20%20%20%20%20%7B%22bubblingMouseEvents%22%3A%20true%2C%20%22color%22%3A%20%22gray%22%2C%20%22dashArray%22%3A%20null%2C%20%22dashOffset%22%3A%20null%2C%20%22fill%22%3A%20true%2C%20%22fillColor%22%3A%20%22gray%22%2C%20%22fillOpacity%22%3A%201%2C%20%22fillRule%22%3A%20%22evenodd%22%2C%20%22lineCap%22%3A%20%22round%22%2C%20%22lineJoin%22%3A%20%22round%22%2C%20%22opacity%22%3A%201.0%2C%20%22radius%22%3A%203%2C%20%22stroke%22%3A%20true%2C%20%22weight%22%3A%203%7D%0A%20%20%20%20%20%20%20%20%20%20%20%20%29.addTo%28map_4ce4955f22174bb8a4ca78b05c3d5c2a%29%3B%0A%20%20%20%20%20%20%20%20%0A%20%20%20%20%0A%20%20%20%20%20%20%20%20var%20popup_e5e4a73df5904e4cacc6094de0300158%20%3D%20L.popup%28%7B%22maxWidth%22%3A%20%22100%25%22%7D%29%3B%0A%0A%20%20%20%20%20%20%20%20%0A%20%20%20%20%20%20%20%20%20%20%20%20var%20html_c7b7e48259ee42288941e019c26367de%20%3D%20%24%28%60%3Cdiv%20id%3D%22html_c7b7e48259ee42288941e019c26367de%22%20style%3D%22width%3A%20100.0%25%3B%20height%3A%20100.0%25%3B%22%3En_549%3C/div%3E%60%29%5B0%5D%3B%0A%20%20%20%20%20%20%20%20%20%20%20%20popup_e5e4a73df5904e4cacc6094de0300158.setContent%28html_c7b7e48259ee42288941e019c26367de%29%3B%0A%20%20%20%20%20%20%20%20%0A%0A%20%20%20%20%20%20%20%20circle_marker_2280dd536ce348e0ad87c46542bc2afc.bindPopup%28popup_e5e4a73df5904e4cacc6094de0300158%29%0A%20%20%20%20%20%20%20%20%3B%0A%0A%20%20%20%20%20%20%20%20%0A%20%20%20%20%0A%20%20%20%20%0A%20%20%20%20%20%20%20%20%20%20%20%20var%20circle_marker_6258b7c30a504b4583fc2214e70bc6ee%20%3D%20L.circleMarker%28%0A%20%20%20%20%20%20%20%20%20%20%20%20%20%20%20%20%5B52.52410816011152%2C%2013.4121522102594%5D%2C%0A%20%20%20%20%20%20%20%20%20%20%20%20%20%20%20%20%7B%22bubblingMouseEvents%22%3A%20true%2C%20%22color%22%3A%20%22gray%22%2C%20%22dashArray%22%3A%20null%2C%20%22dashOffset%22%3A%20null%2C%20%22fill%22%3A%20true%2C%20%22fillColor%22%3A%20%22gray%22%2C%20%22fillOpacity%22%3A%201%2C%20%22fillRule%22%3A%20%22evenodd%22%2C%20%22lineCap%22%3A%20%22round%22%2C%20%22lineJoin%22%3A%20%22round%22%2C%20%22opacity%22%3A%201.0%2C%20%22radius%22%3A%203%2C%20%22stroke%22%3A%20true%2C%20%22weight%22%3A%203%7D%0A%20%20%20%20%20%20%20%20%20%20%20%20%29.addTo%28map_4ce4955f22174bb8a4ca78b05c3d5c2a%29%3B%0A%20%20%20%20%20%20%20%20%0A%20%20%20%20%0A%20%20%20%20%20%20%20%20var%20popup_2afdf2fd3e03498eb40ab99177011924%20%3D%20L.popup%28%7B%22maxWidth%22%3A%20%22100%25%22%7D%29%3B%0A%0A%20%20%20%20%20%20%20%20%0A%20%20%20%20%20%20%20%20%20%20%20%20var%20html_9571f8e25f334d03ac9307eae6339ae5%20%3D%20%24%28%60%3Cdiv%20id%3D%22html_9571f8e25f334d03ac9307eae6339ae5%22%20style%3D%22width%3A%20100.0%25%3B%20height%3A%20100.0%25%3B%22%3En_284%3C/div%3E%60%29%5B0%5D%3B%0A%20%20%20%20%20%20%20%20%20%20%20%20popup_2afdf2fd3e03498eb40ab99177011924.setContent%28html_9571f8e25f334d03ac9307eae6339ae5%29%3B%0A%20%20%20%20%20%20%20%20%0A%0A%20%20%20%20%20%20%20%20circle_marker_6258b7c30a504b4583fc2214e70bc6ee.bindPopup%28popup_2afdf2fd3e03498eb40ab99177011924%29%0A%20%20%20%20%20%20%20%20%3B%0A%0A%20%20%20%20%20%20%20%20%0A%20%20%20%20%0A%20%20%20%20%0A%20%20%20%20%20%20%20%20%20%20%20%20var%20circle_marker_cd41b42959fe4204a5f655be239f660e%20%3D%20L.circleMarker%28%0A%20%20%20%20%20%20%20%20%20%20%20%20%20%20%20%20%5B52.54228537894571%2C%2013.414355979380812%5D%2C%0A%20%20%20%20%20%20%20%20%20%20%20%20%20%20%20%20%7B%22bubblingMouseEvents%22%3A%20true%2C%20%22color%22%3A%20%22gray%22%2C%20%22dashArray%22%3A%20null%2C%20%22dashOffset%22%3A%20null%2C%20%22fill%22%3A%20true%2C%20%22fillColor%22%3A%20%22gray%22%2C%20%22fillOpacity%22%3A%201%2C%20%22fillRule%22%3A%20%22evenodd%22%2C%20%22lineCap%22%3A%20%22round%22%2C%20%22lineJoin%22%3A%20%22round%22%2C%20%22opacity%22%3A%201.0%2C%20%22radius%22%3A%203%2C%20%22stroke%22%3A%20true%2C%20%22weight%22%3A%203%7D%0A%20%20%20%20%20%20%20%20%20%20%20%20%29.addTo%28map_4ce4955f22174bb8a4ca78b05c3d5c2a%29%3B%0A%20%20%20%20%20%20%20%20%0A%20%20%20%20%0A%20%20%20%20%20%20%20%20var%20popup_0b99d223245c4747bd9c8509f4264254%20%3D%20L.popup%28%7B%22maxWidth%22%3A%20%22100%25%22%7D%29%3B%0A%0A%20%20%20%20%20%20%20%20%0A%20%20%20%20%20%20%20%20%20%20%20%20var%20html_1dc33b8e3fd24df39415e0225f0ce6bb%20%3D%20%24%28%60%3Cdiv%20id%3D%22html_1dc33b8e3fd24df39415e0225f0ce6bb%22%20style%3D%22width%3A%20100.0%25%3B%20height%3A%20100.0%25%3B%22%3En_360%3C/div%3E%60%29%5B0%5D%3B%0A%20%20%20%20%20%20%20%20%20%20%20%20popup_0b99d223245c4747bd9c8509f4264254.setContent%28html_1dc33b8e3fd24df39415e0225f0ce6bb%29%3B%0A%20%20%20%20%20%20%20%20%0A%0A%20%20%20%20%20%20%20%20circle_marker_cd41b42959fe4204a5f655be239f660e.bindPopup%28popup_0b99d223245c4747bd9c8509f4264254%29%0A%20%20%20%20%20%20%20%20%3B%0A%0A%20%20%20%20%20%20%20%20%0A%20%20%20%20%0A%20%20%20%20%0A%20%20%20%20%20%20%20%20%20%20%20%20var%20circle_marker_0864529e46944913aa5cdb3f67a785e4%20%3D%20L.circleMarker%28%0A%20%20%20%20%20%20%20%20%20%20%20%20%20%20%20%20%5B52.49676682831433%2C%2013.405207024527755%5D%2C%0A%20%20%20%20%20%20%20%20%20%20%20%20%20%20%20%20%7B%22bubblingMouseEvents%22%3A%20true%2C%20%22color%22%3A%20%22green%22%2C%20%22dashArray%22%3A%20null%2C%20%22dashOffset%22%3A%20null%2C%20%22fill%22%3A%20true%2C%20%22fillColor%22%3A%20%22green%22%2C%20%22fillOpacity%22%3A%201%2C%20%22fillRule%22%3A%20%22evenodd%22%2C%20%22lineCap%22%3A%20%22round%22%2C%20%22lineJoin%22%3A%20%22round%22%2C%20%22opacity%22%3A%201.0%2C%20%22radius%22%3A%205%2C%20%22stroke%22%3A%20true%2C%20%22weight%22%3A%203%7D%0A%20%20%20%20%20%20%20%20%20%20%20%20%29.addTo%28map_4ce4955f22174bb8a4ca78b05c3d5c2a%29%3B%0A%20%20%20%20%20%20%20%20%0A%20%20%20%20%0A%20%20%20%20%20%20%20%20var%20popup_5e9b0e1e13f944ed931eba6e6c6364ab%20%3D%20L.popup%28%7B%22maxWidth%22%3A%20%22100%25%22%7D%29%3B%0A%0A%20%20%20%20%20%20%20%20%0A%20%20%20%20%20%20%20%20%20%20%20%20var%20html_c83cae271b804121a186de675c9b41cb%20%3D%20%24%28%60%3Cdiv%20id%3D%22html_c83cae271b804121a186de675c9b41cb%22%20style%3D%22width%3A%20100.0%25%3B%20height%3A%20100.0%25%3B%22%3Ezone_77%3C/div%3E%60%29%5B0%5D%3B%0A%20%20%20%20%20%20%20%20%20%20%20%20popup_5e9b0e1e13f944ed931eba6e6c6364ab.setContent%28html_c83cae271b804121a186de675c9b41cb%29%3B%0A%20%20%20%20%20%20%20%20%0A%0A%20%20%20%20%20%20%20%20circle_marker_0864529e46944913aa5cdb3f67a785e4.bindPopup%28popup_5e9b0e1e13f944ed931eba6e6c6364ab%29%0A%20%20%20%20%20%20%20%20%3B%0A%0A%20%20%20%20%20%20%20%20%0A%20%20%20%20%0A%20%20%20%20%0A%20%20%20%20%20%20%20%20%20%20%20%20var%20circle_marker_16a7928861914feb990b8c4868eb8d26%20%3D%20L.circleMarker%28%0A%20%20%20%20%20%20%20%20%20%20%20%20%20%20%20%20%5B52.53977337327443%2C%2013.430522707139989%5D%2C%0A%20%20%20%20%20%20%20%20%20%20%20%20%20%20%20%20%7B%22bubblingMouseEvents%22%3A%20true%2C%20%22color%22%3A%20%22red%22%2C%20%22dashArray%22%3A%20null%2C%20%22dashOffset%22%3A%20null%2C%20%22fill%22%3A%20true%2C%20%22fillColor%22%3A%20%22red%22%2C%20%22fillOpacity%22%3A%201%2C%20%22fillRule%22%3A%20%22evenodd%22%2C%20%22lineCap%22%3A%20%22round%22%2C%20%22lineJoin%22%3A%20%22round%22%2C%20%22opacity%22%3A%201.0%2C%20%22radius%22%3A%205%2C%20%22stroke%22%3A%20true%2C%20%22weight%22%3A%203%7D%0A%20%20%20%20%20%20%20%20%20%20%20%20%29.addTo%28map_4ce4955f22174bb8a4ca78b05c3d5c2a%29%3B%0A%20%20%20%20%20%20%20%20%0A%20%20%20%20%0A%20%20%20%20%20%20%20%20var%20popup_e10cfcf5141d4703b92a33b0bfa8b869%20%3D%20L.popup%28%7B%22maxWidth%22%3A%20%22100%25%22%7D%29%3B%0A%0A%20%20%20%20%20%20%20%20%0A%20%20%20%20%20%20%20%20%20%20%20%20var%20html_70f75c0a66d24a13b1e323f22570fca0%20%3D%20%24%28%60%3Cdiv%20id%3D%22html_70f75c0a66d24a13b1e323f22570fca0%22%20style%3D%22width%3A%20100.0%25%3B%20height%3A%20100.0%25%3B%22%3Ezone_67%3C/div%3E%60%29%5B0%5D%3B%0A%20%20%20%20%20%20%20%20%20%20%20%20popup_e10cfcf5141d4703b92a33b0bfa8b869.setContent%28html_70f75c0a66d24a13b1e323f22570fca0%29%3B%0A%20%20%20%20%20%20%20%20%0A%0A%20%20%20%20%20%20%20%20circle_marker_16a7928861914feb990b8c4868eb8d26.bindPopup%28popup_e10cfcf5141d4703b92a33b0bfa8b869%29%0A%20%20%20%20%20%20%20%20%3B%0A%0A%20%20%20%20%20%20%20%20%0A%20%20%20%20%0A%20%20%20%20%0A%20%20%20%20%20%20%20%20%20%20%20%20var%20poly_line_e9b0b297d79445f5a1bccb16ed2bb508%20%3D%20L.polyline%28%0A%20%20%20%20%20%20%20%20%20%20%20%20%20%20%20%20%5B%5B52.4963942%2C%2013.4050714%5D%2C%20%5B52.498323%2C%2013.4065561%5D%2C%20%5B52.498469%2C%2013.4066695%5D%2C%20%5B52.4989314%2C%2013.4070285%5D%2C%20%5B52.5000132%2C%2013.4078369%5D%2C%20%5B52.5017536%2C%2013.4092205%5D%2C%20%5B52.5034317%2C%2013.4105485%5D%2C%20%5B52.5035343%2C%2013.4110997%5D%2C%20%5B52.5037927%2C%2013.411022%5D%2C%20%5B52.5040332%2C%2013.4110464%5D%2C%20%5B52.5049088%2C%2013.4117198%5D%2C%20%5B52.5069078%2C%2013.4132846%5D%2C%20%5B52.5079919%2C%2013.4141489%5D%2C%20%5B52.511006%2C%2013.4164546%5D%2C%20%5B52.5124412%2C%2013.4171834%5D%2C%20%5B52.5135299%2C%2013.4176839%5D%2C%20%5B52.5138131%2C%2013.4177692%5D%2C%20%5B52.5154139%2C%2013.4181699%5D%2C%20%5B52.5156046%2C%2013.4182237%5D%2C%20%5B52.5164935%2C%2013.4182874%5D%2C%20%5B52.5174101%2C%2013.4182077%5D%2C%20%5B52.5180641%2C%2013.4179714%5D%2C%20%5B52.5200223%2C%2013.4162736%5D%2C%20%5B52.5207929%2C%2013.4153671%5D%2C%20%5B52.5216563%2C%2013.4162844%5D%2C%20%5B52.5218939%2C%2013.4165351%5D%2C%20%5B52.5220587%2C%2013.4167149%5D%2C%20%5B52.5238894%2C%2013.4186666%5D%2C%20%5B52.5249934%2C%2013.4199586%5D%2C%20%5B52.5252177%2C%2013.4202393%5D%2C%20%5B52.526498%2C%2013.4217874%5D%2C%20%5B52.5281364%2C%2013.423868%5D%2C%20%5B52.5282294%2C%2013.4239889%5D%2C%20%5B52.5319645%2C%2013.4283665%5D%2C%20%5B52.5329862%2C%2013.4295586%5D%2C%20%5B52.5331263%2C%2013.4292698%5D%2C%20%5B52.5343366%2C%2013.4257519%5D%2C%20%5B52.535784%2C%2013.4270704%5D%2C%20%5B52.5364091%2C%2013.4276692%5D%2C%20%5B52.5369429%2C%2013.4281696%5D%2C%20%5B52.5375413%2C%2013.4287152%5D%2C%20%5B52.5377249%2C%2013.4288954%5D%2C%20%5B52.5378608%2C%2013.4284983%5D%2C%20%5B52.5393461%2C%2013.4298779%5D%2C%20%5B52.5391821%2C%2013.4304309%5D%2C%20%5B52.5391665%2C%2013.430481%5D%2C%20%5B52.5396729%2C%2013.4309426%5D%5D%2C%0A%20%20%20%20%20%20%20%20%20%20%20%20%20%20%20%20%7B%22bubblingMouseEvents%22%3A%20true%2C%20%22color%22%3A%20%22%233388ff%22%2C%20%22dashArray%22%3A%20null%2C%20%22dashOffset%22%3A%20null%2C%20%22fill%22%3A%20false%2C%20%22fillColor%22%3A%20%22%233388ff%22%2C%20%22fillOpacity%22%3A%200.2%2C%20%22fillRule%22%3A%20%22evenodd%22%2C%20%22lineCap%22%3A%20%22round%22%2C%20%22lineJoin%22%3A%20%22round%22%2C%20%22noClip%22%3A%20false%2C%20%22opacity%22%3A%201.0%2C%20%22smoothFactor%22%3A%201.0%2C%20%22stroke%22%3A%20true%2C%20%22weight%22%3A%205%7D%0A%20%20%20%20%20%20%20%20%20%20%20%20%29.addTo%28map_4ce4955f22174bb8a4ca78b05c3d5c2a%29%3B%0A%20%20%20%20%20%20%20%20%0A%20%20%20%20%0A%20%20%20%20%20%20%20%20var%20popup_5b419cfd415d4961b79355e79cf24798%20%3D%20L.popup%28%7B%22maxWidth%22%3A%20%22100%25%22%7D%29%3B%0A%0A%20%20%20%20%20%20%20%20%0A%20%20%20%20%20%20%20%20%20%20%20%20var%20html_fcd6be9389524092a6ba90931b1798d2%20%3D%20%24%28%60%3Cdiv%20id%3D%22html_fcd6be9389524092a6ba90931b1798d2%22%20style%3D%22width%3A%20100.0%25%3B%20height%3A%20100.0%25%3B%22%3Eall%3C/div%3E%60%29%5B0%5D%3B%0A%20%20%20%20%20%20%20%20%20%20%20%20popup_5b419cfd415d4961b79355e79cf24798.setContent%28html_fcd6be9389524092a6ba90931b1798d2%29%3B%0A%20%20%20%20%20%20%20%20%0A%0A%20%20%20%20%20%20%20%20poly_line_e9b0b297d79445f5a1bccb16ed2bb508.bindPopup%28popup_5b419cfd415d4961b79355e79cf24798%29%0A%20%20%20%20%20%20%20%20%3B%0A%0A%20%20%20%20%20%20%20%20%0A%20%20%20%20%0A%20%20%20%20%0A%20%20%20%20%20%20%20%20%20%20%20%20var%20circle_marker_908f9ec05e75403ebe8f7b910013af34%20%3D%20L.circleMarker%28%0A%20%20%20%20%20%20%20%20%20%20%20%20%20%20%20%20%5B52.49676682831433%2C%2013.405207024527755%5D%2C%0A%20%20%20%20%20%20%20%20%20%20%20%20%20%20%20%20%7B%22bubblingMouseEvents%22%3A%20true%2C%20%22color%22%3A%20%22green%22%2C%20%22dashArray%22%3A%20null%2C%20%22dashOffset%22%3A%20null%2C%20%22fill%22%3A%20true%2C%20%22fillColor%22%3A%20%22green%22%2C%20%22fillOpacity%22%3A%201%2C%20%22fillRule%22%3A%20%22evenodd%22%2C%20%22lineCap%22%3A%20%22round%22%2C%20%22lineJoin%22%3A%20%22round%22%2C%20%22opacity%22%3A%201.0%2C%20%22radius%22%3A%205%2C%20%22stroke%22%3A%20true%2C%20%22weight%22%3A%203%7D%0A%20%20%20%20%20%20%20%20%20%20%20%20%29.addTo%28map_4ce4955f22174bb8a4ca78b05c3d5c2a%29%3B%0A%20%20%20%20%20%20%20%20%0A%20%20%20%20%0A%20%20%20%20%20%20%20%20var%20popup_fbd7481c47054aea8beecf2acb176fb0%20%3D%20L.popup%28%7B%22maxWidth%22%3A%20%22100%25%22%7D%29%3B%0A%0A%20%20%20%20%20%20%20%20%0A%20%20%20%20%20%20%20%20%20%20%20%20var%20html_b236f879379b408c83d0044d2024274e%20%3D%20%24%28%60%3Cdiv%20id%3D%22html_b236f879379b408c83d0044d2024274e%22%20style%3D%22width%3A%20100.0%25%3B%20height%3A%20100.0%25%3B%22%3Ezone_77%3C/div%3E%60%29%5B0%5D%3B%0A%20%20%20%20%20%20%20%20%20%20%20%20popup_fbd7481c47054aea8beecf2acb176fb0.setContent%28html_b236f879379b408c83d0044d2024274e%29%3B%0A%20%20%20%20%20%20%20%20%0A%0A%20%20%20%20%20%20%20%20circle_marker_908f9ec05e75403ebe8f7b910013af34.bindPopup%28popup_fbd7481c47054aea8beecf2acb176fb0%29%0A%20%20%20%20%20%20%20%20%3B%0A%0A%20%20%20%20%20%20%20%20%0A%20%20%20%20%0A%20%20%20%20%0A%20%20%20%20%20%20%20%20%20%20%20%20var%20circle_marker_0dbab8fbdfc34d50b08da62c5c0c68ac%20%3D%20L.circleMarker%28%0A%20%20%20%20%20%20%20%20%20%20%20%20%20%20%20%20%5B52.53977337327443%2C%2013.430522707139989%5D%2C%0A%20%20%20%20%20%20%20%20%20%20%20%20%20%20%20%20%7B%22bubblingMouseEvents%22%3A%20true%2C%20%22color%22%3A%20%22red%22%2C%20%22dashArray%22%3A%20null%2C%20%22dashOffset%22%3A%20null%2C%20%22fill%22%3A%20true%2C%20%22fillColor%22%3A%20%22red%22%2C%20%22fillOpacity%22%3A%201%2C%20%22fillRule%22%3A%20%22evenodd%22%2C%20%22lineCap%22%3A%20%22round%22%2C%20%22lineJoin%22%3A%20%22round%22%2C%20%22opacity%22%3A%201.0%2C%20%22radius%22%3A%205%2C%20%22stroke%22%3A%20true%2C%20%22weight%22%3A%203%7D%0A%20%20%20%20%20%20%20%20%20%20%20%20%29.addTo%28map_4ce4955f22174bb8a4ca78b05c3d5c2a%29%3B%0A%20%20%20%20%20%20%20%20%0A%20%20%20%20%0A%20%20%20%20%20%20%20%20var%20popup_9f8d0ad2dc4247b6972ab842d9dbf066%20%3D%20L.popup%28%7B%22maxWidth%22%3A%20%22100%25%22%7D%29%3B%0A%0A%20%20%20%20%20%20%20%20%0A%20%20%20%20%20%20%20%20%20%20%20%20var%20html_ee22198dca2347f0b7ef925a691736f9%20%3D%20%24%28%60%3Cdiv%20id%3D%22html_ee22198dca2347f0b7ef925a691736f9%22%20style%3D%22width%3A%20100.0%25%3B%20height%3A%20100.0%25%3B%22%3Ezone_67%3C/div%3E%60%29%5B0%5D%3B%0A%20%20%20%20%20%20%20%20%20%20%20%20popup_9f8d0ad2dc4247b6972ab842d9dbf066.setContent%28html_ee22198dca2347f0b7ef925a691736f9%29%3B%0A%20%20%20%20%20%20%20%20%0A%0A%20%20%20%20%20%20%20%20circle_marker_0dbab8fbdfc34d50b08da62c5c0c68ac.bindPopup%28popup_9f8d0ad2dc4247b6972ab842d9dbf066%29%0A%20%20%20%20%20%20%20%20%3B%0A%0A%20%20%20%20%20%20%20%20%0A%20%20%20%20%0A%3C/script%3E onload=\"this.contentDocument.open();this.contentDocument.write(    decodeURIComponent(this.getAttribute('data-html')));this.contentDocument.close();\" allowfullscreen webkitallowfullscreen mozallowfullscreen></iframe></div></div>"
      ],
      "text/plain": [
       "<folium.folium.Map at 0x1baa2c85880>"
      ]
     },
     "execution_count": 85,
     "metadata": {},
     "output_type": "execute_result"
    }
   ],
   "source": [
    "# Plot all paths between zones including car\n",
    "path(sm, 'zone_77', 'zone_67', public=True, private=True)"
   ]
  },
  {
   "cell_type": "markdown",
   "metadata": {},
   "source": [
    "## Prices\n",
    "\n",
    "Add price LoS attribute to LoS tables"
   ]
  },
  {
   "cell_type": "code",
   "execution_count": 86,
   "metadata": {},
   "outputs": [],
   "source": [
    "# Car usage has operating cost of 12ct/km in average\n",
    "# Note: we don't apply sunk cost like maintenance or purchase cost\n",
    "sm.car_los['price'] = sm.car_los['length'] * 0.12 / 1000"
   ]
  },
  {
   "cell_type": "code",
   "execution_count": 87,
   "metadata": {},
   "outputs": [],
   "source": [
    "# For PT, we have a look at the PT operators price structure.\n",
    "# For this toy model we simplify it to day tickets:\n",
    "# https://www.ratp.fr/en/titres-et-tarifs/mobilis\n",
    "# Assume that a passenger makes two trips per day with a day ticket\n",
    "sm.pt_los['price'] = 7.5 / 2\n",
    "# We don't re-build the exact price structure, but make longer trips more expensive\n",
    "sm.pt_los.loc[sm.pt_los['length']>10000, 'price'] = 10 / 2"
   ]
  },
  {
   "cell_type": "code",
   "execution_count": 88,
   "metadata": {},
   "outputs": [
    {
     "data": {
      "text/html": [
       "<div>\n",
       "<style scoped>\n",
       "    .dataframe tbody tr th:only-of-type {\n",
       "        vertical-align: middle;\n",
       "    }\n",
       "\n",
       "    .dataframe tbody tr th {\n",
       "        vertical-align: top;\n",
       "    }\n",
       "\n",
       "    .dataframe thead th {\n",
       "        text-align: right;\n",
       "    }\n",
       "</style>\n",
       "<table border=\"1\" class=\"dataframe\">\n",
       "  <thead>\n",
       "    <tr style=\"text-align: right;\">\n",
       "      <th></th>\n",
       "      <th>origin</th>\n",
       "      <th>destination</th>\n",
       "      <th>gtime</th>\n",
       "      <th>path</th>\n",
       "      <th>reversed</th>\n",
       "      <th>pathfinder_session</th>\n",
       "      <th>broken_modes</th>\n",
       "      <th>boardings</th>\n",
       "      <th>alightings</th>\n",
       "      <th>node_path</th>\n",
       "      <th>...</th>\n",
       "      <th>footpath_time</th>\n",
       "      <th>in_vehicle_time</th>\n",
       "      <th>waiting_time</th>\n",
       "      <th>boarding_time</th>\n",
       "      <th>time</th>\n",
       "      <th>access_length</th>\n",
       "      <th>footpath_length</th>\n",
       "      <th>in_vehicle_length</th>\n",
       "      <th>length</th>\n",
       "      <th>price</th>\n",
       "    </tr>\n",
       "  </thead>\n",
       "  <tbody>\n",
       "    <tr>\n",
       "      <th>8384</th>\n",
       "      <td>zone_87</td>\n",
       "      <td>zone_47</td>\n",
       "      <td>4013.881495</td>\n",
       "      <td>(zone_87, n_741, link_1822, link_1825, link_18...</td>\n",
       "      <td>False</td>\n",
       "      <td>mode_breaker</td>\n",
       "      <td>{subway, tram, rail}</td>\n",
       "      <td>[n_741, n_582, n_673]</td>\n",
       "      <td>[n_582, n_673, n_377]</td>\n",
       "      <td>[n_741, n_582, n_673, n_377]</td>\n",
       "      <td>...</td>\n",
       "      <td>0.0</td>\n",
       "      <td>1740.0</td>\n",
       "      <td>1500.0</td>\n",
       "      <td>0</td>\n",
       "      <td>4013.881495</td>\n",
       "      <td>1279.226951</td>\n",
       "      <td>0.0</td>\n",
       "      <td>21183.745</td>\n",
       "      <td>22462.971951</td>\n",
       "      <td>5.0</td>\n",
       "    </tr>\n",
       "  </tbody>\n",
       "</table>\n",
       "<p>1 rows × 33 columns</p>\n",
       "</div>"
      ],
      "text/plain": [
       "       origin destination        gtime  \\\n",
       "8384  zone_87     zone_47  4013.881495   \n",
       "\n",
       "                                                   path  reversed  \\\n",
       "8384  (zone_87, n_741, link_1822, link_1825, link_18...     False   \n",
       "\n",
       "     pathfinder_session          broken_modes              boardings  \\\n",
       "8384       mode_breaker  {subway, tram, rail}  [n_741, n_582, n_673]   \n",
       "\n",
       "                 alightings                     node_path  ... footpath_time  \\\n",
       "8384  [n_582, n_673, n_377]  [n_741, n_582, n_673, n_377]  ...           0.0   \n",
       "\n",
       "     in_vehicle_time waiting_time boarding_time         time access_length  \\\n",
       "8384          1740.0       1500.0             0  4013.881495   1279.226951   \n",
       "\n",
       "      footpath_length  in_vehicle_length        length  price  \n",
       "8384              0.0          21183.745  22462.971951    5.0  \n",
       "\n",
       "[1 rows x 33 columns]"
      ]
     },
     "execution_count": 88,
     "metadata": {},
     "output_type": "execute_result"
    }
   ],
   "source": [
    "sm.pt_los.sample()"
   ]
  },
  {
   "cell_type": "markdown",
   "metadata": {},
   "source": [
    "## Save model"
   ]
  },
  {
   "cell_type": "code",
   "execution_count": 89,
   "metadata": {},
   "outputs": [],
   "source": [
    "sm.pt_los.reset_index(drop=True, inplace=True)"
   ]
  },
  {
   "cell_type": "code",
   "execution_count": 90,
   "metadata": {},
   "outputs": [
    {
     "name": "stderr",
     "output_type": "stream",
     "text": [
      "to_hdf(overwriting):  71%|███████   | 27/38 [01:01<00:12,  1.17s/it]"
     ]
    },
    {
     "name": "stdout",
     "output_type": "stream",
     "text": [
      "could not save geometry from table fare_rules\n",
      "could not save geometry from table fare_attributes\n",
      "could not save geometry from table mode_nests\n",
      "could not save geometry from table logit_scales\n",
      "could not save geometry from table utility_values\n"
     ]
    },
    {
     "name": "stderr",
     "output_type": "stream",
     "text": [
      "to_hdf(overwriting): 100%|██████████| 38/38 [01:04<00:00,  1.70s/it]\n"
     ]
    }
   ],
   "source": [
    "sm.to_json(model_path + 'los_tables')"
   ]
  }
 ],
 "metadata": {
  "kernelspec": {
   "display_name": "Python 3.8.12 ('quetzal_env')",
   "language": "python",
   "name": "python3"
  },
  "language_info": {
   "codemirror_mode": {
    "name": "ipython",
    "version": 3
   },
   "file_extension": ".py",
   "mimetype": "text/x-python",
   "name": "python",
   "nbconvert_exporter": "python",
   "pygments_lexer": "ipython3",
   "version": "3.8.12"
  },
  "vscode": {
   "interpreter": {
    "hash": "3cc4bcfe731f2ee019f386507748d81bde603c38f633cd56cfe2936f38177aa1"
   }
  }
 },
 "nbformat": 4,
 "nbformat_minor": 4
}
