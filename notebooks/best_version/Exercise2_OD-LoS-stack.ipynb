{
 "cells": [
  {
   "cell_type": "code",
   "execution_count": 1,
   "metadata": {},
   "outputs": [
    {
     "name": "stdout",
     "output_type": "stream",
     "text": [
      "SQLalchemy is not installed. No support for SQL output.\n"
     ]
    }
   ],
   "source": [
    "import pandas as pd\n",
    "import geopandas as gpd\n",
    "import numpy as np\n",
    "from geopy.distance import geodesic\n",
    "from quetzal.model import stepmodel\n",
    "from quetzal.io.display import all_pt_paths, path, pt_path\n",
    "%matplotlib inline"
   ]
  },
  {
   "cell_type": "code",
   "execution_count": 2,
   "metadata": {},
   "outputs": [],
   "source": [
    "# Load the network model from the last exercise\n",
    "model_path = '../../model/'\n",
    "sm = stepmodel.read_json(model_path + 'network')"
   ]
  },
  {
   "cell_type": "code",
   "execution_count": 3,
   "metadata": {},
   "outputs": [
    {
     "name": "stdout",
     "output_type": "stream",
     "text": [
      "Fixing: ['checkpoint_links', 'loaded_links', 'links', 'road_links', 'footpaths', 'lines', 'networkcaster_neighbors', 'networkcaster_road_access', 'node_parenthood', 'road_to_transit', 'zone_to_transit', 'zone_to_road', 'checkpoint_nodes', 'loaded_nodes', 'nodes', 'road_nodes', 'centroids', 'disaggregated_nodes', 'micro_zones', 'zones', 'node_clusters']\n",
      "Successfully fixed.\n"
     ]
    }
   ],
   "source": [
    "# check for broken GeoDataFrames\n",
    "broken_gdf_keys = [key for key in sm.__dict__.keys() if type(sm.__dict__[key]) == pd.core.frame.DataFrame and 'geometry' in sm.__dict__[key].columns]\n",
    "print(\"Fixing:\", broken_gdf_keys)\n",
    "# fix broken GeoDataFrames\n",
    "for key in broken_gdf_keys:\n",
    "    sm.__dict__[key] = gpd.GeoDataFrame(sm.__dict__[key], crs=sm.epsg)\n",
    "broken_gdf_keys = [key for key in sm.__dict__.keys() if type(sm.__dict__[key]) == pd.core.frame.DataFrame and 'geometry' in sm.__dict__[key].columns]\n",
    "if len(broken_gdf_keys)>0:\n",
    "    print(\"Broken GeoDataFrames:\",broken_gdf_keys)\n",
    "else:\n",
    "    print(\"Successfully fixed.\")"
   ]
  },
  {
   "cell_type": "code",
   "execution_count": 4,
   "metadata": {},
   "outputs": [
    {
     "data": {
      "text/plain": [
       "97"
      ]
     },
     "execution_count": 4,
     "metadata": {},
     "output_type": "execute_result"
    }
   ],
   "source": [
    "# How many zones do we have?\n",
    "len(sm.zones)"
   ]
  },
  {
   "cell_type": "markdown",
   "metadata": {},
   "source": [
    "## Preparation of OD-times\n",
    "\n",
    "The pathfinders need a column \"time\" in the links or road_links tables to find the shortest paths. The PT pathfinder also applies a generalized boarding time (can be interpreted as a penalty for interchanging between transport carriers) and a waiting time, which is computed from the headway of PT carriers (waiting time equals half the headway (in seconds) assuming a randomly and evenly distributed arrival pattern of passengers on every PT stop)."
   ]
  },
  {
   "cell_type": "code",
   "execution_count": 5,
   "metadata": {},
   "outputs": [
    {
     "data": {
      "text/html": [
       "<div>\n",
       "<style scoped>\n",
       "    .dataframe tbody tr th:only-of-type {\n",
       "        vertical-align: middle;\n",
       "    }\n",
       "\n",
       "    .dataframe tbody tr th {\n",
       "        vertical-align: top;\n",
       "    }\n",
       "\n",
       "    .dataframe thead th {\n",
       "        text-align: right;\n",
       "    }\n",
       "</style>\n",
       "<table border=\"1\" class=\"dataframe\">\n",
       "  <thead>\n",
       "    <tr style=\"text-align: right;\">\n",
       "      <th></th>\n",
       "      <th>a</th>\n",
       "      <th>b</th>\n",
       "      <th>length</th>\n",
       "      <th>geometry</th>\n",
       "      <th>highway</th>\n",
       "      <th>maxspeed</th>\n",
       "    </tr>\n",
       "    <tr>\n",
       "      <th>index</th>\n",
       "      <th></th>\n",
       "      <th></th>\n",
       "      <th></th>\n",
       "      <th></th>\n",
       "      <th></th>\n",
       "      <th></th>\n",
       "    </tr>\n",
       "  </thead>\n",
       "  <tbody>\n",
       "    <tr>\n",
       "      <th>60681</th>\n",
       "      <td>1591359135</td>\n",
       "      <td>1591359137</td>\n",
       "      <td>90.125</td>\n",
       "      <td>LINESTRING (13.49413 52.46596, 13.49477 52.46667)</td>\n",
       "      <td>residential</td>\n",
       "      <td>30</td>\n",
       "    </tr>\n",
       "  </tbody>\n",
       "</table>\n",
       "</div>"
      ],
      "text/plain": [
       "                a           b  length  \\\n",
       "index                                   \n",
       "60681  1591359135  1591359137  90.125   \n",
       "\n",
       "                                                geometry      highway maxspeed  \n",
       "index                                                                           \n",
       "60681  LINESTRING (13.49413 52.46596, 13.49477 52.46667)  residential       30  "
      ]
     },
     "execution_count": 5,
     "metadata": {},
     "output_type": "execute_result"
    }
   ],
   "source": [
    "sm.road_links.sample(1)"
   ]
  },
  {
   "cell_type": "code",
   "execution_count": 6,
   "metadata": {},
   "outputs": [
    {
     "data": {
      "text/html": [
       "<div>\n",
       "<style scoped>\n",
       "    .dataframe tbody tr th:only-of-type {\n",
       "        vertical-align: middle;\n",
       "    }\n",
       "\n",
       "    .dataframe tbody tr th {\n",
       "        vertical-align: top;\n",
       "    }\n",
       "\n",
       "    .dataframe thead th {\n",
       "        text-align: right;\n",
       "    }\n",
       "</style>\n",
       "<table border=\"1\" class=\"dataframe\">\n",
       "  <thead>\n",
       "    <tr style=\"text-align: right;\">\n",
       "      <th></th>\n",
       "      <th>trip_id</th>\n",
       "      <th>a</th>\n",
       "      <th>b</th>\n",
       "      <th>link_sequence</th>\n",
       "      <th>time</th>\n",
       "      <th>headway</th>\n",
       "      <th>pattern_id</th>\n",
       "      <th>route_id</th>\n",
       "      <th>service_id</th>\n",
       "      <th>direction_id</th>\n",
       "      <th>...</th>\n",
       "      <th>route_type</th>\n",
       "      <th>route_color</th>\n",
       "      <th>disaggregated_a</th>\n",
       "      <th>disaggregated_b</th>\n",
       "      <th>road_a</th>\n",
       "      <th>road_b</th>\n",
       "      <th>road_length</th>\n",
       "      <th>geometry</th>\n",
       "      <th>road_node_list</th>\n",
       "      <th>road_link_list</th>\n",
       "    </tr>\n",
       "    <tr>\n",
       "      <th>index</th>\n",
       "      <th></th>\n",
       "      <th></th>\n",
       "      <th></th>\n",
       "      <th></th>\n",
       "      <th></th>\n",
       "      <th></th>\n",
       "      <th></th>\n",
       "      <th></th>\n",
       "      <th></th>\n",
       "      <th></th>\n",
       "      <th></th>\n",
       "      <th></th>\n",
       "      <th></th>\n",
       "      <th></th>\n",
       "      <th></th>\n",
       "      <th></th>\n",
       "      <th></th>\n",
       "      <th></th>\n",
       "      <th></th>\n",
       "      <th></th>\n",
       "      <th></th>\n",
       "    </tr>\n",
       "  </thead>\n",
       "  <tbody>\n",
       "    <tr>\n",
       "      <th>link_2867</th>\n",
       "      <td>17311_700_3</td>\n",
       "      <td>n_691</td>\n",
       "      <td>n_588</td>\n",
       "      <td>3</td>\n",
       "      <td>60.0</td>\n",
       "      <td>1200</td>\n",
       "      <td>17311_700_3</td>\n",
       "      <td>17311_700</td>\n",
       "      <td>153</td>\n",
       "      <td>0</td>\n",
       "      <td>...</td>\n",
       "      <td>bus</td>\n",
       "      <td>None</td>\n",
       "      <td>node_de:11000:900027455::1</td>\n",
       "      <td>node_de:11000:900029204::1</td>\n",
       "      <td>33017716</td>\n",
       "      <td>275688841</td>\n",
       "      <td>1105.474</td>\n",
       "      <td>LINESTRING (13.18572 52.55198, 13.18545 52.551...</td>\n",
       "      <td>[33017716, 33017639, 33017642, 33017644, 33017...</td>\n",
       "      <td>[29836, 97175, 97178, 97180, 133641, 116294, 9...</td>\n",
       "    </tr>\n",
       "  </tbody>\n",
       "</table>\n",
       "<p>1 rows × 21 columns</p>\n",
       "</div>"
      ],
      "text/plain": [
       "               trip_id      a      b  link_sequence  time  headway  \\\n",
       "index                                                                \n",
       "link_2867  17311_700_3  n_691  n_588              3  60.0     1200   \n",
       "\n",
       "            pattern_id   route_id service_id  direction_id  ... route_type  \\\n",
       "index                                                       ...              \n",
       "link_2867  17311_700_3  17311_700        153             0  ...        bus   \n",
       "\n",
       "          route_color             disaggregated_a             disaggregated_b  \\\n",
       "index                                                                           \n",
       "link_2867        None  node_de:11000:900027455::1  node_de:11000:900029204::1   \n",
       "\n",
       "             road_a     road_b road_length  \\\n",
       "index                                        \n",
       "link_2867  33017716  275688841    1105.474   \n",
       "\n",
       "                                                    geometry  \\\n",
       "index                                                          \n",
       "link_2867  LINESTRING (13.18572 52.55198, 13.18545 52.551...   \n",
       "\n",
       "                                              road_node_list  \\\n",
       "index                                                          \n",
       "link_2867  [33017716, 33017639, 33017642, 33017644, 33017...   \n",
       "\n",
       "                                              road_link_list  \n",
       "index                                                         \n",
       "link_2867  [29836, 97175, 97178, 97180, 133641, 116294, 9...  \n",
       "\n",
       "[1 rows x 21 columns]"
      ]
     },
     "execution_count": 6,
     "metadata": {},
     "output_type": "execute_result"
    }
   ],
   "source": [
    "sm.links.sample(1)"
   ]
  },
  {
   "cell_type": "code",
   "execution_count": 7,
   "metadata": {},
   "outputs": [
    {
     "name": "stderr",
     "output_type": "stream",
     "text": [
      "nearest_link: 100%|██████████| 3845/3845 [00:00<00:00, 73988.38it/s]\n",
      "17329_700_3: 100%|██████████| 360/360 [01:23<00:00,  4.33it/s]\n"
     ]
    }
   ],
   "source": [
    "# We don't see any length column in our links,\n",
    "# but it is nice for calculating speeds and for later steps.\n",
    "# We can cast the PT network onto the road network (as in A40)\n",
    "# Start with the bus links\n",
    "bus = sm.copy() # copy the whole model\n",
    "bus.links = bus.links.loc[bus.links['route_type'].isin(['bus'])] # Filter\n",
    "# Apply quetzal's casting function\n",
    "bus.preparation_cast_network(\n",
    "    nearest_method='nodes',\n",
    "    n_neighbors_centroid=5, \n",
    "    n_neighbors=5, \n",
    "    penalty_factor=2,\n",
    "    replace_nodes=False\n",
    ")"
   ]
  },
  {
   "cell_type": "code",
   "execution_count": 8,
   "metadata": {},
   "outputs": [
    {
     "data": {
      "text/html": [
       "<div>\n",
       "<style scoped>\n",
       "    .dataframe tbody tr th:only-of-type {\n",
       "        vertical-align: middle;\n",
       "    }\n",
       "\n",
       "    .dataframe tbody tr th {\n",
       "        vertical-align: top;\n",
       "    }\n",
       "\n",
       "    .dataframe thead th {\n",
       "        text-align: right;\n",
       "    }\n",
       "</style>\n",
       "<table border=\"1\" class=\"dataframe\">\n",
       "  <thead>\n",
       "    <tr style=\"text-align: right;\">\n",
       "      <th></th>\n",
       "      <th>trip_id</th>\n",
       "      <th>a</th>\n",
       "      <th>b</th>\n",
       "      <th>link_sequence</th>\n",
       "      <th>time</th>\n",
       "      <th>headway</th>\n",
       "      <th>pattern_id</th>\n",
       "      <th>route_id</th>\n",
       "      <th>service_id</th>\n",
       "      <th>direction_id</th>\n",
       "      <th>...</th>\n",
       "      <th>route_type</th>\n",
       "      <th>route_color</th>\n",
       "      <th>disaggregated_a</th>\n",
       "      <th>disaggregated_b</th>\n",
       "      <th>road_a</th>\n",
       "      <th>road_b</th>\n",
       "      <th>road_node_list</th>\n",
       "      <th>road_link_list</th>\n",
       "      <th>road_length</th>\n",
       "      <th>geometry</th>\n",
       "    </tr>\n",
       "    <tr>\n",
       "      <th>index</th>\n",
       "      <th></th>\n",
       "      <th></th>\n",
       "      <th></th>\n",
       "      <th></th>\n",
       "      <th></th>\n",
       "      <th></th>\n",
       "      <th></th>\n",
       "      <th></th>\n",
       "      <th></th>\n",
       "      <th></th>\n",
       "      <th></th>\n",
       "      <th></th>\n",
       "      <th></th>\n",
       "      <th></th>\n",
       "      <th></th>\n",
       "      <th></th>\n",
       "      <th></th>\n",
       "      <th></th>\n",
       "      <th></th>\n",
       "      <th></th>\n",
       "      <th></th>\n",
       "    </tr>\n",
       "  </thead>\n",
       "  <tbody>\n",
       "    <tr>\n",
       "      <th>link_12582</th>\n",
       "      <td>17533_700_7</td>\n",
       "      <td>n_34</td>\n",
       "      <td>n_464</td>\n",
       "      <td>14</td>\n",
       "      <td>120.0</td>\n",
       "      <td>1200</td>\n",
       "      <td>17533_700_7</td>\n",
       "      <td>17533_700</td>\n",
       "      <td>153</td>\n",
       "      <td>1</td>\n",
       "      <td>...</td>\n",
       "      <td>bus</td>\n",
       "      <td>None</td>\n",
       "      <td>node_de:11000:900038104::1</td>\n",
       "      <td>node_de:11000:900038251::1</td>\n",
       "      <td>27324684</td>\n",
       "      <td>266779227</td>\n",
       "      <td>[27324684, 27324692, 9552107236, 266779227]</td>\n",
       "      <td>[80775, 135156, 113837]</td>\n",
       "      <td>1684.81</td>\n",
       "      <td>LINESTRING (13.18267 52.48314, 13.17466 52.474...</td>\n",
       "    </tr>\n",
       "  </tbody>\n",
       "</table>\n",
       "<p>1 rows × 21 columns</p>\n",
       "</div>"
      ],
      "text/plain": [
       "                trip_id     a      b  link_sequence   time  headway  \\\n",
       "index                                                                 \n",
       "link_12582  17533_700_7  n_34  n_464             14  120.0     1200   \n",
       "\n",
       "             pattern_id   route_id service_id  direction_id  ... route_type  \\\n",
       "index                                                        ...              \n",
       "link_12582  17533_700_7  17533_700        153             1  ...        bus   \n",
       "\n",
       "           route_color             disaggregated_a  \\\n",
       "index                                                \n",
       "link_12582        None  node_de:11000:900038104::1   \n",
       "\n",
       "                       disaggregated_b    road_a     road_b  \\\n",
       "index                                                         \n",
       "link_12582  node_de:11000:900038251::1  27324684  266779227   \n",
       "\n",
       "                                         road_node_list  \\\n",
       "index                                                     \n",
       "link_12582  [27324684, 27324692, 9552107236, 266779227]   \n",
       "\n",
       "                     road_link_list road_length  \\\n",
       "index                                             \n",
       "link_12582  [80775, 135156, 113837]     1684.81   \n",
       "\n",
       "                                                     geometry  \n",
       "index                                                          \n",
       "link_12582  LINESTRING (13.18267 52.48314, 13.17466 52.474...  \n",
       "\n",
       "[1 rows x 21 columns]"
      ]
     },
     "execution_count": 8,
     "metadata": {},
     "output_type": "execute_result"
    }
   ],
   "source": [
    "bus.links.sample()"
   ]
  },
  {
   "cell_type": "code",
   "execution_count": 9,
   "metadata": {},
   "outputs": [],
   "source": [
    "# Now take the road_length of casted model as the length of our genuine model\n",
    "sm.links['length'] = np.nan # create a new column with default values\n",
    "sm.links.loc[sm.links['route_type'].isin(['bus']),\n",
    "             'length'] = bus.links['road_length']"
   ]
  },
  {
   "cell_type": "code",
   "execution_count": 10,
   "metadata": {},
   "outputs": [],
   "source": [
    "# For rail links, we can assign the geometric distance\n",
    "sm.links.loc[sm.links['length'].isna(), 'length'] = \\\n",
    "    sm.links.loc[sm.links['length'].isna(), 'geometry'].apply(\n",
    "        lambda l: int(geodesic(l.coords[0], l.coords[-1]).m))\n",
    "# Take the geometric line and from it the start and end points, then calculate the meter distance in between"
   ]
  },
  {
   "cell_type": "code",
   "execution_count": 11,
   "metadata": {},
   "outputs": [
    {
     "name": "stdout",
     "output_type": "stream",
     "text": [
      "bus_speed = 10.724335748261982 m / s\n"
     ]
    }
   ],
   "source": [
    "# You can calculate the average bus operation speed\n",
    "bus = sm.links.loc[sm.links['route_type'] == 'bus'] # filter\n",
    "bus_lines = bus.groupby('route_id')[['time', 'length']].sum() # sum up time and length for each route\n",
    "bus_speed = bus['length'].sum() / bus['time'].sum() # operation speed\n",
    "print('bus_speed =', bus_speed, 'm / s')"
   ]
  },
  {
   "cell_type": "code",
   "execution_count": 12,
   "metadata": {},
   "outputs": [],
   "source": [
    "# Create the time LoS column for cars (it's already there for PT from the GTFS feeds)\n",
    "car_speed = bus_speed * 1.25\n",
    "sm.road_links['time'] = sm.road_links['length'] / car_speed # m/s"
   ]
  },
  {
   "cell_type": "code",
   "execution_count": 13,
   "metadata": {},
   "outputs": [],
   "source": [
    "# If we want to compute walking paths on road links, we need a time for that to\n",
    "sm.road_links['walk_time'] = sm.road_links['time'] * 3 # walk three times slower than car"
   ]
  },
  {
   "cell_type": "markdown",
   "metadata": {},
   "source": [
    "## Pathfinding\n",
    "\n",
    "Next, we want to create a table of OD-relations for different modes, each, being representative for the performance of a specific mode on a specific OD pair.\n",
    "\n",
    "Quetzal has multiple options for path finding, seperated into one function wrapper for road and one for PT. They create the `car_los` and `pt_los tables`, respectively.\n",
    "\n",
    "For road transport, quetzal can simply compute one shortest path per OD pair or multiple ones if you had the capacities and volumes already saved in the model (comes from the assignment step at the very end). So, we just compute one path for now (`all_or_nothing=True`)\n",
    "\n",
    "The PT pathfinder has two relevant attributes: `broken_modes` and `broken_routes`. If both are `False`, the pathfinder just searches for the shortest path between every OD pair, considering all PT modes and routes. If `broken_modes=True`, the pathfinder searches shortest paths for every possible mode combination. If `broken_routes=True`, the pathfinder searches shortest paths for every possible route combination. \n",
    "Additionally you can decide whether walking connections shall be done on roadsides or not with the `walk_on_road` parameter (question of computation time)."
   ]
  },
  {
   "cell_type": "markdown",
   "metadata": {},
   "source": [
    "### Car"
   ]
  },
  {
   "cell_type": "code",
   "execution_count": 14,
   "metadata": {},
   "outputs": [],
   "source": [
    "# Simple road pathfinder\n",
    "sm.step_road_pathfinder(all_or_nothing=True)"
   ]
  },
  {
   "cell_type": "code",
   "execution_count": 15,
   "metadata": {},
   "outputs": [
    {
     "data": {
      "text/plain": [
       "9409"
      ]
     },
     "execution_count": 15,
     "metadata": {},
     "output_type": "execute_result"
    }
   ],
   "source": [
    "len(sm.car_los)"
   ]
  },
  {
   "cell_type": "code",
   "execution_count": 16,
   "metadata": {},
   "outputs": [
    {
     "data": {
      "text/html": [
       "<div>\n",
       "<style scoped>\n",
       "    .dataframe tbody tr th:only-of-type {\n",
       "        vertical-align: middle;\n",
       "    }\n",
       "\n",
       "    .dataframe tbody tr th {\n",
       "        vertical-align: top;\n",
       "    }\n",
       "\n",
       "    .dataframe thead th {\n",
       "        text-align: right;\n",
       "    }\n",
       "</style>\n",
       "<table border=\"1\" class=\"dataframe\">\n",
       "  <thead>\n",
       "    <tr style=\"text-align: right;\">\n",
       "      <th></th>\n",
       "      <th>origin</th>\n",
       "      <th>destination</th>\n",
       "      <th>time</th>\n",
       "      <th>path</th>\n",
       "      <th>node_path</th>\n",
       "      <th>link_path</th>\n",
       "      <th>ntlegs</th>\n",
       "    </tr>\n",
       "  </thead>\n",
       "  <tbody>\n",
       "    <tr>\n",
       "      <th>6110</th>\n",
       "      <td>zone_65</td>\n",
       "      <td>zone_96</td>\n",
       "      <td>1014.154421</td>\n",
       "      <td>[zone_65, 1651782173, 1651782156, 1651782147, ...</td>\n",
       "      <td>[1651782173, 1651782156, 1651782147, 138346619...</td>\n",
       "      <td>[126885, 126862, 122973, 125055, 127085, 12612...</td>\n",
       "      <td>[(zone_65, 1651782173), (27378712, zone_96)]</td>\n",
       "    </tr>\n",
       "  </tbody>\n",
       "</table>\n",
       "</div>"
      ],
      "text/plain": [
       "       origin destination         time  \\\n",
       "6110  zone_65     zone_96  1014.154421   \n",
       "\n",
       "                                                   path  \\\n",
       "6110  [zone_65, 1651782173, 1651782156, 1651782147, ...   \n",
       "\n",
       "                                              node_path  \\\n",
       "6110  [1651782173, 1651782156, 1651782147, 138346619...   \n",
       "\n",
       "                                              link_path  \\\n",
       "6110  [126885, 126862, 122973, 125055, 127085, 12612...   \n",
       "\n",
       "                                            ntlegs  \n",
       "6110  [(zone_65, 1651782173), (27378712, zone_96)]  "
      ]
     },
     "execution_count": 16,
     "metadata": {},
     "output_type": "execute_result"
    }
   ],
   "source": [
    "sm.car_los.sample()"
   ]
  },
  {
   "cell_type": "code",
   "execution_count": 17,
   "metadata": {},
   "outputs": [],
   "source": [
    "# Assign a length to LoS table\n",
    "# Create a dictionary of road link lengths\n",
    "len_dict = sm.road_links['length'].to_dict()\n",
    "# Apply it to the link path column (sum up all links for each path)\n",
    "sm.car_los['length'] = sm.car_los['link_path'].apply(\n",
    "    lambda l: sum([len_dict[i] for i in l]))"
   ]
  },
  {
   "cell_type": "code",
   "execution_count": 18,
   "metadata": {},
   "outputs": [],
   "source": [
    "# add the route type for sake of consistency\n",
    "sm.analysis_car_route_type()"
   ]
  },
  {
   "cell_type": "code",
   "execution_count": 19,
   "metadata": {},
   "outputs": [
    {
     "data": {
      "text/html": [
       "<div>\n",
       "<style scoped>\n",
       "    .dataframe tbody tr th:only-of-type {\n",
       "        vertical-align: middle;\n",
       "    }\n",
       "\n",
       "    .dataframe tbody tr th {\n",
       "        vertical-align: top;\n",
       "    }\n",
       "\n",
       "    .dataframe thead th {\n",
       "        text-align: right;\n",
       "    }\n",
       "</style>\n",
       "<table border=\"1\" class=\"dataframe\">\n",
       "  <thead>\n",
       "    <tr style=\"text-align: right;\">\n",
       "      <th></th>\n",
       "      <th>origin</th>\n",
       "      <th>destination</th>\n",
       "      <th>time</th>\n",
       "      <th>path</th>\n",
       "      <th>node_path</th>\n",
       "      <th>link_path</th>\n",
       "      <th>ntlegs</th>\n",
       "      <th>length</th>\n",
       "      <th>route_types</th>\n",
       "      <th>route_type</th>\n",
       "    </tr>\n",
       "  </thead>\n",
       "  <tbody>\n",
       "    <tr>\n",
       "      <th>1036</th>\n",
       "      <td>zone_18</td>\n",
       "      <td>zone_69</td>\n",
       "      <td>1417.363053</td>\n",
       "      <td>[zone_18, 1600833448, 1600833456, 122341681, 1...</td>\n",
       "      <td>[1600833448, 1600833456, 122341681, 1600833478...</td>\n",
       "      <td>[124656, 104727, 124666, 102858, 36061, 402, 4...</td>\n",
       "      <td>[(zone_18, 1600833448), (30432556, zone_69)]</td>\n",
       "      <td>16482.3</td>\n",
       "      <td>(car,)</td>\n",
       "      <td>car</td>\n",
       "    </tr>\n",
       "  </tbody>\n",
       "</table>\n",
       "</div>"
      ],
      "text/plain": [
       "       origin destination         time  \\\n",
       "1036  zone_18     zone_69  1417.363053   \n",
       "\n",
       "                                                   path  \\\n",
       "1036  [zone_18, 1600833448, 1600833456, 122341681, 1...   \n",
       "\n",
       "                                              node_path  \\\n",
       "1036  [1600833448, 1600833456, 122341681, 1600833478...   \n",
       "\n",
       "                                              link_path  \\\n",
       "1036  [124656, 104727, 124666, 102858, 36061, 402, 4...   \n",
       "\n",
       "                                            ntlegs   length route_types  \\\n",
       "1036  [(zone_18, 1600833448), (30432556, zone_69)]  16482.3      (car,)   \n",
       "\n",
       "     route_type  \n",
       "1036        car  "
      ]
     },
     "execution_count": 19,
     "metadata": {},
     "output_type": "execute_result"
    }
   ],
   "source": [
    "sm.car_los.sample()"
   ]
  },
  {
   "cell_type": "markdown",
   "metadata": {},
   "source": [
    "### PT"
   ]
  },
  {
   "cell_type": "code",
   "execution_count": 20,
   "metadata": {},
   "outputs": [
    {
     "name": "stderr",
     "output_type": "stream",
     "text": [
      "path_analysis: 100%|██████████| 9409/9409 [00:00<00:00, 23303.81it/s]\n"
     ]
    }
   ],
   "source": [
    "# Simple PT\n",
    "sm.step_pt_pathfinder(broken_modes=False, broken_routes=False, walk_on_road=False)"
   ]
  },
  {
   "cell_type": "code",
   "execution_count": 21,
   "metadata": {},
   "outputs": [
    {
     "data": {
      "text/plain": [
       "9409"
      ]
     },
     "execution_count": 21,
     "metadata": {},
     "output_type": "execute_result"
    }
   ],
   "source": [
    "len(sm.pt_los)"
   ]
  },
  {
   "cell_type": "code",
   "execution_count": 22,
   "metadata": {},
   "outputs": [
    {
     "data": {
      "text/html": [
       "<div>\n",
       "<style scoped>\n",
       "    .dataframe tbody tr th:only-of-type {\n",
       "        vertical-align: middle;\n",
       "    }\n",
       "\n",
       "    .dataframe tbody tr th {\n",
       "        vertical-align: top;\n",
       "    }\n",
       "\n",
       "    .dataframe thead th {\n",
       "        text-align: right;\n",
       "    }\n",
       "</style>\n",
       "<table border=\"1\" class=\"dataframe\">\n",
       "  <thead>\n",
       "    <tr style=\"text-align: right;\">\n",
       "      <th></th>\n",
       "      <th>origin</th>\n",
       "      <th>destination</th>\n",
       "      <th>gtime</th>\n",
       "      <th>path</th>\n",
       "      <th>pathfinder_session</th>\n",
       "      <th>reversed</th>\n",
       "      <th>boardings</th>\n",
       "      <th>alightings</th>\n",
       "      <th>node_path</th>\n",
       "      <th>link_path</th>\n",
       "      <th>footpaths</th>\n",
       "      <th>ntlegs</th>\n",
       "      <th>transfers</th>\n",
       "      <th>boarding_links</th>\n",
       "      <th>alighting_links</th>\n",
       "      <th>all_walk</th>\n",
       "      <th>ntransfers</th>\n",
       "      <th>time_link_path</th>\n",
       "      <th>length_link_path</th>\n",
       "    </tr>\n",
       "  </thead>\n",
       "  <tbody>\n",
       "    <tr>\n",
       "      <th>2196</th>\n",
       "      <td>zone_29</td>\n",
       "      <td>zone_65</td>\n",
       "      <td>4247.515736</td>\n",
       "      <td>(zone_29, n_382, link_11102, link_11104, link_...</td>\n",
       "      <td>best_path</td>\n",
       "      <td>False</td>\n",
       "      <td>[n_382, n_356, n_728]</td>\n",
       "      <td>[n_356, n_728, n_371]</td>\n",
       "      <td>[n_382, n_356, n_728, n_371]</td>\n",
       "      <td>[link_11102, link_11104, link_11106, link_1110...</td>\n",
       "      <td>[]</td>\n",
       "      <td>[(zone_29, n_382), (n_371, zone_65)]</td>\n",
       "      <td>[n_356, n_728]</td>\n",
       "      <td>[link_11102, link_780, link_302]</td>\n",
       "      <td>[link_11120, link_781, link_310]</td>\n",
       "      <td>False</td>\n",
       "      <td>2</td>\n",
       "      <td>2418.0</td>\n",
       "      <td>38116.449</td>\n",
       "    </tr>\n",
       "  </tbody>\n",
       "</table>\n",
       "</div>"
      ],
      "text/plain": [
       "       origin destination        gtime  \\\n",
       "2196  zone_29     zone_65  4247.515736   \n",
       "\n",
       "                                                   path pathfinder_session  \\\n",
       "2196  (zone_29, n_382, link_11102, link_11104, link_...          best_path   \n",
       "\n",
       "      reversed              boardings             alightings  \\\n",
       "2196     False  [n_382, n_356, n_728]  [n_356, n_728, n_371]   \n",
       "\n",
       "                         node_path  \\\n",
       "2196  [n_382, n_356, n_728, n_371]   \n",
       "\n",
       "                                              link_path footpaths  \\\n",
       "2196  [link_11102, link_11104, link_11106, link_1110...        []   \n",
       "\n",
       "                                    ntlegs       transfers  \\\n",
       "2196  [(zone_29, n_382), (n_371, zone_65)]  [n_356, n_728]   \n",
       "\n",
       "                        boarding_links                   alighting_links  \\\n",
       "2196  [link_11102, link_780, link_302]  [link_11120, link_781, link_310]   \n",
       "\n",
       "      all_walk  ntransfers  time_link_path  length_link_path  \n",
       "2196     False           2          2418.0         38116.449  "
      ]
     },
     "execution_count": 22,
     "metadata": {},
     "output_type": "execute_result"
    }
   ],
   "source": [
    "sm.pt_los.sample()"
   ]
  },
  {
   "cell_type": "code",
   "execution_count": 23,
   "metadata": {},
   "outputs": [
    {
     "data": {
      "text/plain": [
       "Index(['origin', 'destination', 'gtime', 'path', 'pathfinder_session',\n",
       "       'reversed', 'boardings', 'alightings', 'node_path', 'link_path',\n",
       "       'footpaths', 'ntlegs', 'transfers', 'boarding_links', 'alighting_links',\n",
       "       'all_walk', 'ntransfers', 'time_link_path', 'length_link_path'],\n",
       "      dtype='object')"
      ]
     },
     "execution_count": 23,
     "metadata": {},
     "output_type": "execute_result"
    }
   ],
   "source": [
    "sm.pt_los.columns"
   ]
  },
  {
   "cell_type": "code",
   "execution_count": 24,
   "metadata": {},
   "outputs": [
    {
     "data": {
      "text/plain": [
       "array(['bus', 'rail', 'tram', 'subway'], dtype=object)"
      ]
     },
     "execution_count": 24,
     "metadata": {},
     "output_type": "execute_result"
    }
   ],
   "source": [
    "sm.links['route_type'].unique()"
   ]
  },
  {
   "cell_type": "code",
   "execution_count": 25,
   "metadata": {},
   "outputs": [],
   "source": [
    "# Add route types to the paths\n",
    "# The mode that appears first in the hierarchy is assigned as\n",
    "# main mode, if there is more than one route_type used on the path\n",
    "hierarchy = ['rail', 'subway', 'funicular', 'tram', 'bus']\n",
    "sm.analysis_pt_route_type(hierarchy)"
   ]
  },
  {
   "cell_type": "code",
   "execution_count": 26,
   "metadata": {},
   "outputs": [
    {
     "data": {
      "text/plain": [
       "array([[<AxesSubplot:title={'center':'ntransfers'}>]], dtype=object)"
      ]
     },
     "execution_count": 26,
     "metadata": {},
     "output_type": "execute_result"
    },
    {
     "data": {
      "image/png": "[encoded data removed]",
      "text/plain": [
       "<Figure size 216x216 with 1 Axes>"
      ]
     },
     "metadata": {
      "needs_background": "light"
     },
     "output_type": "display_data"
    }
   ],
   "source": [
    "# How many transfers do we have?\n",
    "sm.pt_los.hist(column='ntransfers', bins=6, figsize=(3,3))"
   ]
  },
  {
   "cell_type": "code",
   "execution_count": 27,
   "metadata": {},
   "outputs": [
    {
     "data": {
      "text/plain": [
       "<AxesSubplot:xlabel='route_types'>"
      ]
     },
     "execution_count": 27,
     "metadata": {},
     "output_type": "execute_result"
    },
    {
     "data": {
      "image/png": "[encoded data removed]",
      "text/plain": [
       "<Figure size 432x288 with 1 Axes>"
      ]
     },
     "metadata": {
      "needs_background": "light"
     },
     "output_type": "display_data"
    }
   ],
   "source": [
    "# How many connections do we have per mode combination in the shortest paths?\n",
    "sm.pt_los['route_types'] = sm.pt_los['route_types'].apply(tuple) # bugfix\n",
    "sm.pt_los.groupby('route_types').count()['route_type'].plot(kind='bar')"
   ]
  },
  {
   "cell_type": "code",
   "execution_count": 28,
   "metadata": {},
   "outputs": [
    {
     "name": "stderr",
     "output_type": "stream",
     "text": [
      "breaking modes: set() : 100%|██████████| 16/16 [00:08<00:00,  1.94it/s]                    \n",
      "path_analysis: 100%|██████████| 63614/63614 [00:03<00:00, 17189.14it/s]\n"
     ]
    }
   ],
   "source": [
    "# Now, let's look at the results when we disaggregate paths by route_type\n",
    "sm.step_pt_pathfinder(broken_modes=True, broken_routes=False, walk_on_road=False)"
   ]
  },
  {
   "cell_type": "code",
   "execution_count": 29,
   "metadata": {},
   "outputs": [
    {
     "data": {
      "text/plain": [
       "63614"
      ]
     },
     "execution_count": 29,
     "metadata": {},
     "output_type": "execute_result"
    }
   ],
   "source": [
    "# How many paths do we have now compared to 12,100 before?\n",
    "len(sm.pt_los)"
   ]
  },
  {
   "cell_type": "code",
   "execution_count": 30,
   "metadata": {},
   "outputs": [
    {
     "data": {
      "text/html": [
       "<div>\n",
       "<style scoped>\n",
       "    .dataframe tbody tr th:only-of-type {\n",
       "        vertical-align: middle;\n",
       "    }\n",
       "\n",
       "    .dataframe tbody tr th {\n",
       "        vertical-align: top;\n",
       "    }\n",
       "\n",
       "    .dataframe thead th {\n",
       "        text-align: right;\n",
       "    }\n",
       "</style>\n",
       "<table border=\"1\" class=\"dataframe\">\n",
       "  <thead>\n",
       "    <tr style=\"text-align: right;\">\n",
       "      <th></th>\n",
       "      <th>origin</th>\n",
       "      <th>destination</th>\n",
       "      <th>gtime</th>\n",
       "      <th>path</th>\n",
       "      <th>reversed</th>\n",
       "      <th>pathfinder_session</th>\n",
       "      <th>broken_modes</th>\n",
       "      <th>boardings</th>\n",
       "      <th>alightings</th>\n",
       "      <th>node_path</th>\n",
       "      <th>...</th>\n",
       "      <th>ntlegs</th>\n",
       "      <th>transfers</th>\n",
       "      <th>boarding_links</th>\n",
       "      <th>alighting_links</th>\n",
       "      <th>all_walk</th>\n",
       "      <th>ntransfers</th>\n",
       "      <th>time_link_path</th>\n",
       "      <th>length_link_path</th>\n",
       "      <th>route_types</th>\n",
       "      <th>route_type</th>\n",
       "    </tr>\n",
       "  </thead>\n",
       "  <tbody>\n",
       "    <tr>\n",
       "      <th>8465</th>\n",
       "      <td>zone_88</td>\n",
       "      <td>zone_32</td>\n",
       "      <td>4766.702842</td>\n",
       "      <td>(zone_88, n_761, link_2313, link_2317, link_23...</td>\n",
       "      <td>False</td>\n",
       "      <td>mode_breaker</td>\n",
       "      <td>{rail, tram, subway}</td>\n",
       "      <td>[n_761, n_155, n_299]</td>\n",
       "      <td>[n_155, n_299, n_579]</td>\n",
       "      <td>[n_761, n_155, n_299, n_579]</td>\n",
       "      <td>...</td>\n",
       "      <td>[(zone_88, n_761), (n_579, zone_32)]</td>\n",
       "      <td>[n_155, n_299]</td>\n",
       "      <td>[link_2313, link_3508, link_7055]</td>\n",
       "      <td>[link_2359, link_3513, link_7057]</td>\n",
       "      <td>False</td>\n",
       "      <td>2</td>\n",
       "      <td>2250.0</td>\n",
       "      <td>25235.383</td>\n",
       "      <td>(bus,)</td>\n",
       "      <td>bus</td>\n",
       "    </tr>\n",
       "  </tbody>\n",
       "</table>\n",
       "<p>1 rows × 22 columns</p>\n",
       "</div>"
      ],
      "text/plain": [
       "       origin destination        gtime  \\\n",
       "8465  zone_88     zone_32  4766.702842   \n",
       "\n",
       "                                                   path  reversed  \\\n",
       "8465  (zone_88, n_761, link_2313, link_2317, link_23...     False   \n",
       "\n",
       "     pathfinder_session          broken_modes              boardings  \\\n",
       "8465       mode_breaker  {rail, tram, subway}  [n_761, n_155, n_299]   \n",
       "\n",
       "                 alightings                     node_path  ...  \\\n",
       "8465  [n_155, n_299, n_579]  [n_761, n_155, n_299, n_579]  ...   \n",
       "\n",
       "                                    ntlegs       transfers  \\\n",
       "8465  [(zone_88, n_761), (n_579, zone_32)]  [n_155, n_299]   \n",
       "\n",
       "                         boarding_links                    alighting_links  \\\n",
       "8465  [link_2313, link_3508, link_7055]  [link_2359, link_3513, link_7057]   \n",
       "\n",
       "     all_walk ntransfers  time_link_path  length_link_path  route_types  \\\n",
       "8465    False          2          2250.0         25235.383       (bus,)   \n",
       "\n",
       "      route_type  \n",
       "8465         bus  \n",
       "\n",
       "[1 rows x 22 columns]"
      ]
     },
     "execution_count": 30,
     "metadata": {},
     "output_type": "execute_result"
    }
   ],
   "source": [
    "sm.analysis_pt_route_type(hierarchy)\n",
    "sm.pt_los.sample()"
   ]
  },
  {
   "cell_type": "code",
   "execution_count": 31,
   "metadata": {},
   "outputs": [
    {
     "data": {
      "text/plain": [
       "<AxesSubplot:xlabel='route_types'>"
      ]
     },
     "execution_count": 31,
     "metadata": {},
     "output_type": "execute_result"
    },
    {
     "data": {
      "image/png": "[encoded data removed]",
      "text/plain": [
       "<Figure size 432x288 with 1 Axes>"
      ]
     },
     "metadata": {
      "needs_background": "light"
     },
     "output_type": "display_data"
    }
   ],
   "source": [
    "sm.pt_los['route_types'] = sm.pt_los['route_types'].apply(tuple) # bugfix\n",
    "sm.pt_los.groupby('route_types').count()['route_type'].plot(kind='bar')"
   ]
  },
  {
   "cell_type": "code",
   "execution_count": 32,
   "metadata": {},
   "outputs": [
    {
     "data": {
      "text/plain": [
       "array([[<AxesSubplot:title={'center':'ntransfers'}>]], dtype=object)"
      ]
     },
     "execution_count": 32,
     "metadata": {},
     "output_type": "execute_result"
    },
    {
     "data": {
      "image/png": "[encoded data removed]",
      "text/plain": [
       "<Figure size 216x216 with 1 Axes>"
      ]
     },
     "metadata": {
      "needs_background": "light"
     },
     "output_type": "display_data"
    }
   ],
   "source": [
    "# How many transfers do we have?\n",
    "sm.pt_los.hist(column='ntransfers', bins=6, figsize=(3,3))"
   ]
  },
  {
   "cell_type": "code",
   "execution_count": 33,
   "metadata": {},
   "outputs": [],
   "source": [
    "# Compute time attribute (from link path and footpaths and access links)\n",
    "sm.analysis_pt_time()"
   ]
  },
  {
   "cell_type": "code",
   "execution_count": 34,
   "metadata": {},
   "outputs": [
    {
     "data": {
      "text/html": [
       "<div>\n",
       "<style scoped>\n",
       "    .dataframe tbody tr th:only-of-type {\n",
       "        vertical-align: middle;\n",
       "    }\n",
       "\n",
       "    .dataframe tbody tr th {\n",
       "        vertical-align: top;\n",
       "    }\n",
       "\n",
       "    .dataframe thead th {\n",
       "        text-align: right;\n",
       "    }\n",
       "</style>\n",
       "<table border=\"1\" class=\"dataframe\">\n",
       "  <thead>\n",
       "    <tr style=\"text-align: right;\">\n",
       "      <th></th>\n",
       "      <th>route_types</th>\n",
       "      <th>time</th>\n",
       "      <th>ntransfers</th>\n",
       "    </tr>\n",
       "  </thead>\n",
       "  <tbody>\n",
       "  </tbody>\n",
       "</table>\n",
       "</div>"
      ],
      "text/plain": [
       "Empty DataFrame\n",
       "Columns: [route_types, time, ntransfers]\n",
       "Index: []"
      ]
     },
     "execution_count": 34,
     "metadata": {},
     "output_type": "execute_result"
    }
   ],
   "source": [
    "# Closer look at one OD pair\n",
    "sm.pt_los.loc[(sm.pt_los['origin']=='zone_11') & (sm.pt_los['destination']=='zone_99')][\n",
    "    ['route_types', 'time', 'ntransfers']]"
   ]
  },
  {
   "cell_type": "code",
   "execution_count": 49,
   "metadata": {},
   "outputs": [
    {
     "name": "stderr",
     "output_type": "stream",
     "text": [
      "Reprojecting model from epsg 4326 to epsg 3857: 100%|██████████| 38/38 [00:03<00:00, 11.73it/s]\n",
      "100%|██████████| 10/10 [00:35<00:00,  3.57s/it]\n"
     ]
    },
    {
     "data": {
      "image/png": "[encoded data removed]",
      "text/plain": [
       "<Figure size 1014.84x119.221 with 10 Axes>"
      ]
     },
     "metadata": {},
     "output_type": "display_data"
    }
   ],
   "source": [
    "# Plot\n",
    "plot = sm.change_epsg(3857, coordinates_unit=sm.coordinates_unit)\n",
    "plot.links['color'] = '#' + plot.links['route_color']\n",
    "fig, axes = plot.plot_separated_paths(\n",
    "    'zone_77', 'zone_67', rows=1, figsize=[16, 16],\n",
    "    title=None, constrained_layout=True, zoom=13, resize=True,\n",
    "    basemap_url='http://a.basemaps.cartocdn.com/light_nolabels/tileZ/tileX/tileY.png', \n",
    ")"
   ]
  },
  {
   "cell_type": "code",
   "execution_count": 36,
   "metadata": {},
   "outputs": [],
   "source": [
    "# Assign a length to LoS table\n",
    "sm.analysis_pt_length()"
   ]
  },
  {
   "cell_type": "code",
   "execution_count": 37,
   "metadata": {},
   "outputs": [
    {
     "data": {
      "text/plain": [
       "<AxesSubplot:>"
      ]
     },
     "execution_count": 37,
     "metadata": {},
     "output_type": "execute_result"
    },
    {
     "data": {
      "image/png": "[encoded data removed]",
      "text/plain": [
       "<Figure size 216x216 with 1 Axes>"
      ]
     },
     "metadata": {
      "needs_background": "light"
     },
     "output_type": "display_data"
    }
   ],
   "source": [
    "# Length distribution\n",
    "sm.pt_los['length'].hist(bins=20, figsize=(3,3))"
   ]
  },
  {
   "cell_type": "code",
   "execution_count": 38,
   "metadata": {},
   "outputs": [
    {
     "data": {
      "image/png": "[encoded data removed]",
      "text/plain": [
       "<Figure size 360x360 with 1 Axes>"
      ]
     },
     "metadata": {
      "needs_background": "light"
     },
     "output_type": "display_data"
    }
   ],
   "source": [
    "# Dependency between distance and time\n",
    "mask = sm.pt_los['origin']!=sm.pt_los['destination'] # Filter statement\n",
    "color_dict = {'bus': '#129eac', 'subway': '#0e5899', 'tram': '#5ea8e8', 'rail': '#1F85DE', 'walk': '#adb3b4'}\n",
    "color_list = [color_dict[t] for t in sm.pt_los.loc[mask, 'route_type']]\n",
    "ax = sm.pt_los.loc[mask].plot(\n",
    "    kind='scatter', x='length', y='time', figsize=[5, 5], s=1, c=color_list)"
   ]
  },
  {
   "cell_type": "code",
   "execution_count": 47,
   "metadata": {},
   "outputs": [
    {
     "data": {
      "text/html": [
       "<div>\n",
       "<style scoped>\n",
       "    .dataframe tbody tr th:only-of-type {\n",
       "        vertical-align: middle;\n",
       "    }\n",
       "\n",
       "    .dataframe tbody tr th {\n",
       "        vertical-align: top;\n",
       "    }\n",
       "\n",
       "    .dataframe thead th {\n",
       "        text-align: right;\n",
       "    }\n",
       "</style>\n",
       "<table border=\"1\" class=\"dataframe\">\n",
       "  <thead>\n",
       "    <tr style=\"text-align: right;\">\n",
       "      <th></th>\n",
       "      <th>uuid</th>\n",
       "      <th>sch</th>\n",
       "      <th>nam</th>\n",
       "      <th>gdf</th>\n",
       "      <th>bezeich</th>\n",
       "      <th>pop</th>\n",
       "      <th>popCentroidLat</th>\n",
       "      <th>popCentroidLon</th>\n",
       "      <th>pois</th>\n",
       "      <th>poiCentroidLat</th>\n",
       "      <th>...</th>\n",
       "      <th>aquarium</th>\n",
       "      <th>attraction</th>\n",
       "      <th>camp_site</th>\n",
       "      <th>caravan_site</th>\n",
       "      <th>hostel</th>\n",
       "      <th>hotel</th>\n",
       "      <th>theme_park</th>\n",
       "      <th>zoo</th>\n",
       "      <th>lake</th>\n",
       "      <th>geometry</th>\n",
       "    </tr>\n",
       "    <tr>\n",
       "      <th>index</th>\n",
       "      <th></th>\n",
       "      <th></th>\n",
       "      <th></th>\n",
       "      <th></th>\n",
       "      <th></th>\n",
       "      <th></th>\n",
       "      <th></th>\n",
       "      <th></th>\n",
       "      <th></th>\n",
       "      <th></th>\n",
       "      <th></th>\n",
       "      <th></th>\n",
       "      <th></th>\n",
       "      <th></th>\n",
       "      <th></th>\n",
       "      <th></th>\n",
       "      <th></th>\n",
       "      <th></th>\n",
       "      <th></th>\n",
       "      <th></th>\n",
       "      <th></th>\n",
       "    </tr>\n",
       "  </thead>\n",
       "  <tbody>\n",
       "    <tr>\n",
       "      <th>zone_77</th>\n",
       "      <td>DEBE02YY20000001</td>\n",
       "      <td>110000020202</td>\n",
       "      <td>Kreuzberg</td>\n",
       "      <td>10377495.0</td>\n",
       "      <td>AX_KommunalesGebiet</td>\n",
       "      <td>153132</td>\n",
       "      <td>52.496581</td>\n",
       "      <td>13.408629</td>\n",
       "      <td>2283</td>\n",
       "      <td>52.496709</td>\n",
       "      <td>...</td>\n",
       "      <td>0</td>\n",
       "      <td>0</td>\n",
       "      <td>2</td>\n",
       "      <td>0</td>\n",
       "      <td>0</td>\n",
       "      <td>2</td>\n",
       "      <td>0</td>\n",
       "      <td>0</td>\n",
       "      <td>0</td>\n",
       "      <td>POLYGON ((13.40363 52.50818, 13.40382 52.50809...</td>\n",
       "    </tr>\n",
       "  </tbody>\n",
       "</table>\n",
       "<p>1 rows × 74 columns</p>\n",
       "</div>"
      ],
      "text/plain": [
       "                     uuid           sch        nam         gdf  \\\n",
       "index                                                            \n",
       "zone_77  DEBE02YY20000001  110000020202  Kreuzberg  10377495.0   \n",
       "\n",
       "                     bezeich     pop  popCentroidLat  popCentroidLon  pois  \\\n",
       "index                                                                        \n",
       "zone_77  AX_KommunalesGebiet  153132       52.496581       13.408629  2283   \n",
       "\n",
       "         poiCentroidLat  ...  aquarium  attraction  camp_site  caravan_site  \\\n",
       "index                    ...                                                  \n",
       "zone_77       52.496709  ...         0           0          2             0   \n",
       "\n",
       "         hostel  hotel  theme_park  zoo  lake  \\\n",
       "index                                           \n",
       "zone_77       0      2           0    0     0   \n",
       "\n",
       "                                                  geometry  \n",
       "index                                                       \n",
       "zone_77  POLYGON ((13.40363 52.50818, 13.40382 52.50809...  \n",
       "\n",
       "[1 rows x 74 columns]"
      ]
     },
     "execution_count": 47,
     "metadata": {},
     "output_type": "execute_result"
    }
   ],
   "source": [
    "sm.zones[sm.zones['nam']=='Kreuzberg']"
   ]
  },
  {
   "cell_type": "code",
   "execution_count": 48,
   "metadata": {},
   "outputs": [
    {
     "data": {
      "text/html": [
       "<div style=\"width:100%;\"><div style=\"position:relative;width:100%;height:0;padding-bottom:60%;\"><span style=\"color:#565656\">Make this Notebook Trusted to load map: File -> Trust Notebook</span><iframe src=\"about:blank\" style=\"position:absolute;width:100%;height:100%;left:0;top:0;border:none !important;\" data-html=%3C%21DOCTYPE%20html%3E%0A%3Chead%3E%20%20%20%20%0A%20%20%20%20%3Cmeta%20http-equiv%3D%22content-type%22%20content%3D%22text/html%3B%20charset%3DUTF-8%22%20/%3E%0A%20%20%20%20%0A%20%20%20%20%20%20%20%20%3Cscript%3E%0A%20%20%20%20%20%20%20%20%20%20%20%20L_NO_TOUCH%20%3D%20false%3B%0A%20%20%20%20%20%20%20%20%20%20%20%20L_DISABLE_3D%20%3D%20false%3B%0A%20%20%20%20%20%20%20%20%3C/script%3E%0A%20%20%20%20%0A%20%20%20%20%3Cstyle%3Ehtml%2C%20body%20%7Bwidth%3A%20100%25%3Bheight%3A%20100%25%3Bmargin%3A%200%3Bpadding%3A%200%3B%7D%3C/style%3E%0A%20%20%20%20%3Cstyle%3E%23map%20%7Bposition%3Aabsolute%3Btop%3A0%3Bbottom%3A0%3Bright%3A0%3Bleft%3A0%3B%7D%3C/style%3E%0A%20%20%20%20%3Cscript%20src%3D%22https%3A//cdn.jsdelivr.net/npm/leaflet%401.6.0/dist/leaflet.js%22%3E%3C/script%3E%0A%20%20%20%20%3Cscript%20src%3D%22https%3A//code.jquery.com/jquery-1.12.4.min.js%22%3E%3C/script%3E%0A%20%20%20%20%3Cscript%20src%3D%22https%3A//maxcdn.bootstrapcdn.com/bootstrap/3.2.0/js/bootstrap.min.js%22%3E%3C/script%3E%0A%20%20%20%20%3Cscript%20src%3D%22https%3A//cdnjs.cloudflare.com/ajax/libs/Leaflet.awesome-markers/2.0.2/leaflet.awesome-markers.js%22%3E%3C/script%3E%0A%20%20%20%20%3Clink%20rel%3D%22stylesheet%22%20href%3D%22https%3A//cdn.jsdelivr.net/npm/leaflet%401.6.0/dist/leaflet.css%22/%3E%0A%20%20%20%20%3Clink%20rel%3D%22stylesheet%22%20href%3D%22https%3A//maxcdn.bootstrapcdn.com/bootstrap/3.2.0/css/bootstrap.min.css%22/%3E%0A%20%20%20%20%3Clink%20rel%3D%22stylesheet%22%20href%3D%22https%3A//maxcdn.bootstrapcdn.com/bootstrap/3.2.0/css/bootstrap-theme.min.css%22/%3E%0A%20%20%20%20%3Clink%20rel%3D%22stylesheet%22%20href%3D%22https%3A//maxcdn.bootstrapcdn.com/font-awesome/4.6.3/css/font-awesome.min.css%22/%3E%0A%20%20%20%20%3Clink%20rel%3D%22stylesheet%22%20href%3D%22https%3A//cdnjs.cloudflare.com/ajax/libs/Leaflet.awesome-markers/2.0.2/leaflet.awesome-markers.css%22/%3E%0A%20%20%20%20%3Clink%20rel%3D%22stylesheet%22%20href%3D%22https%3A//cdn.jsdelivr.net/gh/python-visualization/folium/folium/templates/leaflet.awesome.rotate.min.css%22/%3E%0A%20%20%20%20%0A%20%20%20%20%20%20%20%20%20%20%20%20%3Cmeta%20name%3D%22viewport%22%20content%3D%22width%3Ddevice-width%2C%0A%20%20%20%20%20%20%20%20%20%20%20%20%20%20%20%20initial-scale%3D1.0%2C%20maximum-scale%3D1.0%2C%20user-scalable%3Dno%22%20/%3E%0A%20%20%20%20%20%20%20%20%20%20%20%20%3Cstyle%3E%0A%20%20%20%20%20%20%20%20%20%20%20%20%20%20%20%20%23map_d0a7e1abbc7c4e4a9e2803e313ecfa5e%20%7B%0A%20%20%20%20%20%20%20%20%20%20%20%20%20%20%20%20%20%20%20%20position%3A%20relative%3B%0A%20%20%20%20%20%20%20%20%20%20%20%20%20%20%20%20%20%20%20%20width%3A%20100.0%25%3B%0A%20%20%20%20%20%20%20%20%20%20%20%20%20%20%20%20%20%20%20%20height%3A%20100.0%25%3B%0A%20%20%20%20%20%20%20%20%20%20%20%20%20%20%20%20%20%20%20%20left%3A%200.0%25%3B%0A%20%20%20%20%20%20%20%20%20%20%20%20%20%20%20%20%20%20%20%20top%3A%200.0%25%3B%0A%20%20%20%20%20%20%20%20%20%20%20%20%20%20%20%20%7D%0A%20%20%20%20%20%20%20%20%20%20%20%20%3C/style%3E%0A%20%20%20%20%20%20%20%20%0A%3C/head%3E%0A%3Cbody%3E%20%20%20%20%0A%20%20%20%20%0A%20%20%20%20%20%20%20%20%20%20%20%20%3Cdiv%20class%3D%22folium-map%22%20id%3D%22map_d0a7e1abbc7c4e4a9e2803e313ecfa5e%22%20%3E%3C/div%3E%0A%20%20%20%20%20%20%20%20%0A%3C/body%3E%0A%3Cscript%3E%20%20%20%20%0A%20%20%20%20%0A%20%20%20%20%20%20%20%20%20%20%20%20var%20map_d0a7e1abbc7c4e4a9e2803e313ecfa5e%20%3D%20L.map%28%0A%20%20%20%20%20%20%20%20%20%20%20%20%20%20%20%20%22map_d0a7e1abbc7c4e4a9e2803e313ecfa5e%22%2C%0A%20%20%20%20%20%20%20%20%20%20%20%20%20%20%20%20%7B%0A%20%20%20%20%20%20%20%20%20%20%20%20%20%20%20%20%20%20%20%20center%3A%20%5B52.51827010079438%2C%2013.417864865833872%5D%2C%0A%20%20%20%20%20%20%20%20%20%20%20%20%20%20%20%20%20%20%20%20crs%3A%20L.CRS.EPSG3857%2C%0A%20%20%20%20%20%20%20%20%20%20%20%20%20%20%20%20%20%20%20%20zoom%3A%2013%2C%0A%20%20%20%20%20%20%20%20%20%20%20%20%20%20%20%20%20%20%20%20zoomControl%3A%20true%2C%0A%20%20%20%20%20%20%20%20%20%20%20%20%20%20%20%20%20%20%20%20preferCanvas%3A%20false%2C%0A%20%20%20%20%20%20%20%20%20%20%20%20%20%20%20%20%7D%0A%20%20%20%20%20%20%20%20%20%20%20%20%29%3B%0A%0A%20%20%20%20%20%20%20%20%20%20%20%20%0A%0A%20%20%20%20%20%20%20%20%0A%20%20%20%20%0A%20%20%20%20%20%20%20%20%20%20%20%20var%20tile_layer_d21e5ffc3ca343889f7aa99cd05f1a9d%20%3D%20L.tileLayer%28%0A%20%20%20%20%20%20%20%20%20%20%20%20%20%20%20%20%22https%3A//%7Bs%7D.tile.openstreetmap.org/%7Bz%7D/%7Bx%7D/%7By%7D.png%22%2C%0A%20%20%20%20%20%20%20%20%20%20%20%20%20%20%20%20%7B%22attribution%22%3A%20%22Data%20by%20%5Cu0026copy%3B%20%5Cu003ca%20href%3D%5C%22http%3A//openstreetmap.org%5C%22%5Cu003eOpenStreetMap%5Cu003c/a%5Cu003e%2C%20under%20%5Cu003ca%20href%3D%5C%22http%3A//www.openstreetmap.org/copyright%5C%22%5Cu003eODbL%5Cu003c/a%5Cu003e.%22%2C%20%22detectRetina%22%3A%20false%2C%20%22maxNativeZoom%22%3A%2018%2C%20%22maxZoom%22%3A%2018%2C%20%22minZoom%22%3A%200%2C%20%22noWrap%22%3A%20false%2C%20%22opacity%22%3A%201%2C%20%22subdomains%22%3A%20%22abc%22%2C%20%22tms%22%3A%20false%7D%0A%20%20%20%20%20%20%20%20%20%20%20%20%29.addTo%28map_d0a7e1abbc7c4e4a9e2803e313ecfa5e%29%3B%0A%20%20%20%20%20%20%20%20%0A%20%20%20%20%0A%20%20%20%20%20%20%20%20%20%20%20%20var%20poly_line_bc296125efb14b22a84b6f25562eda91%20%3D%20L.polyline%28%0A%20%20%20%20%20%20%20%20%20%20%20%20%20%20%20%20%5B%5B52.5231066%2C%2013.4036405%5D%2C%20%5B52.5207275%2C%2013.4129015%5D%2C%20%5B52.5242011%2C%2013.4185717%5D%2C%20%5B52.5265649%2C%2013.4280411%5D%2C%20%5B52.5344746%2C%2013.4308758%5D%5D%2C%0A%20%20%20%20%20%20%20%20%20%20%20%20%20%20%20%20%7B%22bubblingMouseEvents%22%3A%20true%2C%20%22color%22%3A%20%22blue%22%2C%20%22dashArray%22%3A%20null%2C%20%22dashOffset%22%3A%20null%2C%20%22fill%22%3A%20false%2C%20%22fillColor%22%3A%20%22blue%22%2C%20%22fillOpacity%22%3A%200.2%2C%20%22fillRule%22%3A%20%22evenodd%22%2C%20%22lineCap%22%3A%20%22round%22%2C%20%22lineJoin%22%3A%20%22round%22%2C%20%22noClip%22%3A%20false%2C%20%22opacity%22%3A%201.0%2C%20%22smoothFactor%22%3A%201.0%2C%20%22stroke%22%3A%20true%2C%20%22weight%22%3A%205%7D%0A%20%20%20%20%20%20%20%20%20%20%20%20%29.addTo%28map_d0a7e1abbc7c4e4a9e2803e313ecfa5e%29%3B%0A%20%20%20%20%20%20%20%20%0A%20%20%20%20%0A%20%20%20%20%20%20%20%20var%20popup_1b00931f64294ee9b469e7ad67020f93%20%3D%20L.popup%28%7B%22maxWidth%22%3A%20%22100%25%22%7D%29%3B%0A%0A%20%20%20%20%20%20%20%20%0A%20%20%20%20%20%20%20%20%20%20%20%20var%20html_ed72e95ee62d402db1ed5402a8c5d8cb%20%3D%20%24%28%60%3Cdiv%20id%3D%22html_ed72e95ee62d402db1ed5402a8c5d8cb%22%20style%3D%22width%3A%20100.0%25%3B%20height%3A%20100.0%25%3B%22%3E17452_900_0%3C/div%3E%60%29%5B0%5D%3B%0A%20%20%20%20%20%20%20%20%20%20%20%20popup_1b00931f64294ee9b469e7ad67020f93.setContent%28html_ed72e95ee62d402db1ed5402a8c5d8cb%29%3B%0A%20%20%20%20%20%20%20%20%0A%0A%20%20%20%20%20%20%20%20poly_line_bc296125efb14b22a84b6f25562eda91.bindPopup%28popup_1b00931f64294ee9b469e7ad67020f93%29%0A%20%20%20%20%20%20%20%20%3B%0A%0A%20%20%20%20%20%20%20%20%0A%20%20%20%20%0A%20%20%20%20%0A%20%20%20%20%20%20%20%20%20%20%20%20var%20poly_line_1c11fd1eb4e5422bad04ba1d0eca5a10%20%3D%20L.polyline%28%0A%20%20%20%20%20%20%20%20%20%20%20%20%20%20%20%20%5B%5B52.50560355170343%2C%2013.398748623096875%5D%2C%20%5B52.512978294470585%2C%2013.401932776396592%5D%5D%2C%0A%20%20%20%20%20%20%20%20%20%20%20%20%20%20%20%20%7B%22bubblingMouseEvents%22%3A%20true%2C%20%22color%22%3A%20%22gray%22%2C%20%22dashArray%22%3A%20null%2C%20%22dashOffset%22%3A%20null%2C%20%22fill%22%3A%20false%2C%20%22fillColor%22%3A%20%22gray%22%2C%20%22fillOpacity%22%3A%200.2%2C%20%22fillRule%22%3A%20%22evenodd%22%2C%20%22lineCap%22%3A%20%22round%22%2C%20%22lineJoin%22%3A%20%22round%22%2C%20%22noClip%22%3A%20false%2C%20%22opacity%22%3A%201.0%2C%20%22smoothFactor%22%3A%201.0%2C%20%22stroke%22%3A%20true%2C%20%22weight%22%3A%203%7D%0A%20%20%20%20%20%20%20%20%20%20%20%20%29.addTo%28map_d0a7e1abbc7c4e4a9e2803e313ecfa5e%29%3B%0A%20%20%20%20%20%20%20%20%0A%20%20%20%20%0A%20%20%20%20%20%20%20%20%20%20%20%20var%20poly_line_9b17f14a6c2a4871aef481e666b602ba%20%3D%20L.polyline%28%0A%20%20%20%20%20%20%20%20%20%20%20%20%20%20%20%20%5B%5B52.512978294470585%2C%2013.401932776396592%5D%2C%20%5B52.5163563042057%2C%2013.406675963600476%5D%5D%2C%0A%20%20%20%20%20%20%20%20%20%20%20%20%20%20%20%20%7B%22bubblingMouseEvents%22%3A%20true%2C%20%22color%22%3A%20%22gray%22%2C%20%22dashArray%22%3A%20null%2C%20%22dashOffset%22%3A%20null%2C%20%22fill%22%3A%20false%2C%20%22fillColor%22%3A%20%22gray%22%2C%20%22fillOpacity%22%3A%200.2%2C%20%22fillRule%22%3A%20%22evenodd%22%2C%20%22lineCap%22%3A%20%22round%22%2C%20%22lineJoin%22%3A%20%22round%22%2C%20%22noClip%22%3A%20false%2C%20%22opacity%22%3A%201.0%2C%20%22smoothFactor%22%3A%201.0%2C%20%22stroke%22%3A%20true%2C%20%22weight%22%3A%203%7D%0A%20%20%20%20%20%20%20%20%20%20%20%20%29.addTo%28map_d0a7e1abbc7c4e4a9e2803e313ecfa5e%29%3B%0A%20%20%20%20%20%20%20%20%0A%20%20%20%20%0A%20%20%20%20%20%20%20%20%20%20%20%20var%20poly_line_949614c31a664d09bac6b2136bf62185%20%3D%20L.polyline%28%0A%20%20%20%20%20%20%20%20%20%20%20%20%20%20%20%20%5B%5B52.52279756424653%2C%2013.404288036250687%5D%2C%20%5B52.5163563042057%2C%2013.406675963600476%5D%5D%2C%0A%20%20%20%20%20%20%20%20%20%20%20%20%20%20%20%20%7B%22bubblingMouseEvents%22%3A%20true%2C%20%22color%22%3A%20%22gray%22%2C%20%22dashArray%22%3A%20null%2C%20%22dashOffset%22%3A%20null%2C%20%22fill%22%3A%20false%2C%20%22fillColor%22%3A%20%22gray%22%2C%20%22fillOpacity%22%3A%200.2%2C%20%22fillRule%22%3A%20%22evenodd%22%2C%20%22lineCap%22%3A%20%22round%22%2C%20%22lineJoin%22%3A%20%22round%22%2C%20%22noClip%22%3A%20false%2C%20%22opacity%22%3A%201.0%2C%20%22smoothFactor%22%3A%201.0%2C%20%22stroke%22%3A%20true%2C%20%22weight%22%3A%203%7D%0A%20%20%20%20%20%20%20%20%20%20%20%20%29.addTo%28map_d0a7e1abbc7c4e4a9e2803e313ecfa5e%29%3B%0A%20%20%20%20%20%20%20%20%0A%20%20%20%20%0A%20%20%20%20%20%20%20%20%20%20%20%20var%20poly_line_e116fdcabfd0462a9db324ad05fa02ac%20%3D%20L.polyline%28%0A%20%20%20%20%20%20%20%20%20%20%20%20%20%20%20%20%5B%5B52.49676682831433%2C%2013.405207024527755%5D%2C%20%5B52.50560355170343%2C%2013.398748623096875%5D%5D%2C%0A%20%20%20%20%20%20%20%20%20%20%20%20%20%20%20%20%7B%22bubblingMouseEvents%22%3A%20true%2C%20%22color%22%3A%20%22black%22%2C%20%22dashArray%22%3A%20null%2C%20%22dashOffset%22%3A%20null%2C%20%22fill%22%3A%20false%2C%20%22fillColor%22%3A%20%22black%22%2C%20%22fillOpacity%22%3A%200.2%2C%20%22fillRule%22%3A%20%22evenodd%22%2C%20%22lineCap%22%3A%20%22round%22%2C%20%22lineJoin%22%3A%20%22round%22%2C%20%22noClip%22%3A%20false%2C%20%22opacity%22%3A%201.0%2C%20%22smoothFactor%22%3A%201.0%2C%20%22stroke%22%3A%20true%2C%20%22weight%22%3A%203%7D%0A%20%20%20%20%20%20%20%20%20%20%20%20%29.addTo%28map_d0a7e1abbc7c4e4a9e2803e313ecfa5e%29%3B%0A%20%20%20%20%20%20%20%20%0A%20%20%20%20%0A%20%20%20%20%20%20%20%20%20%20%20%20var%20poly_line_fcb090dacfe94f75812d3df9fef75706%20%3D%20L.polyline%28%0A%20%20%20%20%20%20%20%20%20%20%20%20%20%20%20%20%5B%5B52.53977337327443%2C%2013.430522707139989%5D%2C%20%5B52.53565660772651%2C%2013.430346341248402%5D%5D%2C%0A%20%20%20%20%20%20%20%20%20%20%20%20%20%20%20%20%7B%22bubblingMouseEvents%22%3A%20true%2C%20%22color%22%3A%20%22black%22%2C%20%22dashArray%22%3A%20null%2C%20%22dashOffset%22%3A%20null%2C%20%22fill%22%3A%20false%2C%20%22fillColor%22%3A%20%22black%22%2C%20%22fillOpacity%22%3A%200.2%2C%20%22fillRule%22%3A%20%22evenodd%22%2C%20%22lineCap%22%3A%20%22round%22%2C%20%22lineJoin%22%3A%20%22round%22%2C%20%22noClip%22%3A%20false%2C%20%22opacity%22%3A%201.0%2C%20%22smoothFactor%22%3A%201.0%2C%20%22stroke%22%3A%20true%2C%20%22weight%22%3A%203%7D%0A%20%20%20%20%20%20%20%20%20%20%20%20%29.addTo%28map_d0a7e1abbc7c4e4a9e2803e313ecfa5e%29%3B%0A%20%20%20%20%20%20%20%20%0A%20%20%20%20%0A%20%20%20%20%20%20%20%20%20%20%20%20var%20circle_marker_a5cffc5201c245ea9a626ee3f5ed9a3b%20%3D%20L.circleMarker%28%0A%20%20%20%20%20%20%20%20%20%20%20%20%20%20%20%20%5B52.52279756424653%2C%2013.404288036250687%5D%2C%0A%20%20%20%20%20%20%20%20%20%20%20%20%20%20%20%20%7B%22bubblingMouseEvents%22%3A%20true%2C%20%22color%22%3A%20%22gray%22%2C%20%22dashArray%22%3A%20null%2C%20%22dashOffset%22%3A%20null%2C%20%22fill%22%3A%20true%2C%20%22fillColor%22%3A%20%22gray%22%2C%20%22fillOpacity%22%3A%201%2C%20%22fillRule%22%3A%20%22evenodd%22%2C%20%22lineCap%22%3A%20%22round%22%2C%20%22lineJoin%22%3A%20%22round%22%2C%20%22opacity%22%3A%201.0%2C%20%22radius%22%3A%203%2C%20%22stroke%22%3A%20true%2C%20%22weight%22%3A%203%7D%0A%20%20%20%20%20%20%20%20%20%20%20%20%29.addTo%28map_d0a7e1abbc7c4e4a9e2803e313ecfa5e%29%3B%0A%20%20%20%20%20%20%20%20%0A%20%20%20%20%0A%20%20%20%20%20%20%20%20var%20popup_c41f0fe1fc8347f8a4777c6029702455%20%3D%20L.popup%28%7B%22maxWidth%22%3A%20%22100%25%22%7D%29%3B%0A%0A%20%20%20%20%20%20%20%20%0A%20%20%20%20%20%20%20%20%20%20%20%20var%20html_2166a38dc00c48e9ae934edac2592b0a%20%3D%20%24%28%60%3Cdiv%20id%3D%22html_2166a38dc00c48e9ae934edac2592b0a%22%20style%3D%22width%3A%20100.0%25%3B%20height%3A%20100.0%25%3B%22%3En_472%3C/div%3E%60%29%5B0%5D%3B%0A%20%20%20%20%20%20%20%20%20%20%20%20popup_c41f0fe1fc8347f8a4777c6029702455.setContent%28html_2166a38dc00c48e9ae934edac2592b0a%29%3B%0A%20%20%20%20%20%20%20%20%0A%0A%20%20%20%20%20%20%20%20circle_marker_a5cffc5201c245ea9a626ee3f5ed9a3b.bindPopup%28popup_c41f0fe1fc8347f8a4777c6029702455%29%0A%20%20%20%20%20%20%20%20%3B%0A%0A%20%20%20%20%20%20%20%20%0A%20%20%20%20%0A%20%20%20%20%0A%20%20%20%20%20%20%20%20%20%20%20%20var%20circle_marker_82aa8e19299948438a27015bcbfbc78a%20%3D%20L.circleMarker%28%0A%20%20%20%20%20%20%20%20%20%20%20%20%20%20%20%20%5B52.53565660772651%2C%2013.430346341248402%5D%2C%0A%20%20%20%20%20%20%20%20%20%20%20%20%20%20%20%20%7B%22bubblingMouseEvents%22%3A%20true%2C%20%22color%22%3A%20%22gray%22%2C%20%22dashArray%22%3A%20null%2C%20%22dashOffset%22%3A%20null%2C%20%22fill%22%3A%20true%2C%20%22fillColor%22%3A%20%22gray%22%2C%20%22fillOpacity%22%3A%201%2C%20%22fillRule%22%3A%20%22evenodd%22%2C%20%22lineCap%22%3A%20%22round%22%2C%20%22lineJoin%22%3A%20%22round%22%2C%20%22opacity%22%3A%201.0%2C%20%22radius%22%3A%203%2C%20%22stroke%22%3A%20true%2C%20%22weight%22%3A%203%7D%0A%20%20%20%20%20%20%20%20%20%20%20%20%29.addTo%28map_d0a7e1abbc7c4e4a9e2803e313ecfa5e%29%3B%0A%20%20%20%20%20%20%20%20%0A%20%20%20%20%0A%20%20%20%20%20%20%20%20var%20popup_32f3977a8857425da7650782e776c818%20%3D%20L.popup%28%7B%22maxWidth%22%3A%20%22100%25%22%7D%29%3B%0A%0A%20%20%20%20%20%20%20%20%0A%20%20%20%20%20%20%20%20%20%20%20%20var%20html_78ad45ccef0943d2898d730dda33ae94%20%3D%20%24%28%60%3Cdiv%20id%3D%22html_78ad45ccef0943d2898d730dda33ae94%22%20style%3D%22width%3A%20100.0%25%3B%20height%3A%20100.0%25%3B%22%3En_667%3C/div%3E%60%29%5B0%5D%3B%0A%20%20%20%20%20%20%20%20%20%20%20%20popup_32f3977a8857425da7650782e776c818.setContent%28html_78ad45ccef0943d2898d730dda33ae94%29%3B%0A%20%20%20%20%20%20%20%20%0A%0A%20%20%20%20%20%20%20%20circle_marker_82aa8e19299948438a27015bcbfbc78a.bindPopup%28popup_32f3977a8857425da7650782e776c818%29%0A%20%20%20%20%20%20%20%20%3B%0A%0A%20%20%20%20%20%20%20%20%0A%20%20%20%20%0A%20%20%20%20%0A%20%20%20%20%20%20%20%20%20%20%20%20var%20circle_marker_92dcd57e00764dfcbc56bbe839b9237a%20%3D%20L.circleMarker%28%0A%20%20%20%20%20%20%20%20%20%20%20%20%20%20%20%20%5B52.49676682831433%2C%2013.405207024527755%5D%2C%0A%20%20%20%20%20%20%20%20%20%20%20%20%20%20%20%20%7B%22bubblingMouseEvents%22%3A%20true%2C%20%22color%22%3A%20%22green%22%2C%20%22dashArray%22%3A%20null%2C%20%22dashOffset%22%3A%20null%2C%20%22fill%22%3A%20true%2C%20%22fillColor%22%3A%20%22green%22%2C%20%22fillOpacity%22%3A%201%2C%20%22fillRule%22%3A%20%22evenodd%22%2C%20%22lineCap%22%3A%20%22round%22%2C%20%22lineJoin%22%3A%20%22round%22%2C%20%22opacity%22%3A%201.0%2C%20%22radius%22%3A%205%2C%20%22stroke%22%3A%20true%2C%20%22weight%22%3A%203%7D%0A%20%20%20%20%20%20%20%20%20%20%20%20%29.addTo%28map_d0a7e1abbc7c4e4a9e2803e313ecfa5e%29%3B%0A%20%20%20%20%20%20%20%20%0A%20%20%20%20%0A%20%20%20%20%20%20%20%20var%20popup_aada4cd8461f40ac83607ce0e6771a20%20%3D%20L.popup%28%7B%22maxWidth%22%3A%20%22100%25%22%7D%29%3B%0A%0A%20%20%20%20%20%20%20%20%0A%20%20%20%20%20%20%20%20%20%20%20%20var%20html_5292ba791b044b2a90f11d11411ccb42%20%3D%20%24%28%60%3Cdiv%20id%3D%22html_5292ba791b044b2a90f11d11411ccb42%22%20style%3D%22width%3A%20100.0%25%3B%20height%3A%20100.0%25%3B%22%3Ezone_77%3C/div%3E%60%29%5B0%5D%3B%0A%20%20%20%20%20%20%20%20%20%20%20%20popup_aada4cd8461f40ac83607ce0e6771a20.setContent%28html_5292ba791b044b2a90f11d11411ccb42%29%3B%0A%20%20%20%20%20%20%20%20%0A%0A%20%20%20%20%20%20%20%20circle_marker_92dcd57e00764dfcbc56bbe839b9237a.bindPopup%28popup_aada4cd8461f40ac83607ce0e6771a20%29%0A%20%20%20%20%20%20%20%20%3B%0A%0A%20%20%20%20%20%20%20%20%0A%20%20%20%20%0A%20%20%20%20%0A%20%20%20%20%20%20%20%20%20%20%20%20var%20circle_marker_b238122f80d34aa992a98948be203ada%20%3D%20L.circleMarker%28%0A%20%20%20%20%20%20%20%20%20%20%20%20%20%20%20%20%5B52.53977337327443%2C%2013.430522707139989%5D%2C%0A%20%20%20%20%20%20%20%20%20%20%20%20%20%20%20%20%7B%22bubblingMouseEvents%22%3A%20true%2C%20%22color%22%3A%20%22red%22%2C%20%22dashArray%22%3A%20null%2C%20%22dashOffset%22%3A%20null%2C%20%22fill%22%3A%20true%2C%20%22fillColor%22%3A%20%22red%22%2C%20%22fillOpacity%22%3A%201%2C%20%22fillRule%22%3A%20%22evenodd%22%2C%20%22lineCap%22%3A%20%22round%22%2C%20%22lineJoin%22%3A%20%22round%22%2C%20%22opacity%22%3A%201.0%2C%20%22radius%22%3A%205%2C%20%22stroke%22%3A%20true%2C%20%22weight%22%3A%203%7D%0A%20%20%20%20%20%20%20%20%20%20%20%20%29.addTo%28map_d0a7e1abbc7c4e4a9e2803e313ecfa5e%29%3B%0A%20%20%20%20%20%20%20%20%0A%20%20%20%20%0A%20%20%20%20%20%20%20%20var%20popup_403ffa67903043429f1c2ea5e5daf2f2%20%3D%20L.popup%28%7B%22maxWidth%22%3A%20%22100%25%22%7D%29%3B%0A%0A%20%20%20%20%20%20%20%20%0A%20%20%20%20%20%20%20%20%20%20%20%20var%20html_27831c57333646b28eeae5bbd747d843%20%3D%20%24%28%60%3Cdiv%20id%3D%22html_27831c57333646b28eeae5bbd747d843%22%20style%3D%22width%3A%20100.0%25%3B%20height%3A%20100.0%25%3B%22%3Ezone_67%3C/div%3E%60%29%5B0%5D%3B%0A%20%20%20%20%20%20%20%20%20%20%20%20popup_403ffa67903043429f1c2ea5e5daf2f2.setContent%28html_27831c57333646b28eeae5bbd747d843%29%3B%0A%20%20%20%20%20%20%20%20%0A%0A%20%20%20%20%20%20%20%20circle_marker_b238122f80d34aa992a98948be203ada.bindPopup%28popup_403ffa67903043429f1c2ea5e5daf2f2%29%0A%20%20%20%20%20%20%20%20%3B%0A%0A%20%20%20%20%20%20%20%20%0A%20%20%20%20%0A%20%20%20%20%0A%20%20%20%20%20%20%20%20%20%20%20%20var%20poly_line_c1d8c5afdfa14f4eaa37da3f72866c0c%20%3D%20L.polyline%28%0A%20%20%20%20%20%20%20%20%20%20%20%20%20%20%20%20%5B%5B52.4963942%2C%2013.4050714%5D%2C%20%5B52.498323%2C%2013.4065561%5D%2C%20%5B52.498469%2C%2013.4066695%5D%2C%20%5B52.4989314%2C%2013.4070285%5D%2C%20%5B52.5000132%2C%2013.4078369%5D%2C%20%5B52.5017536%2C%2013.4092205%5D%2C%20%5B52.5034317%2C%2013.4105485%5D%2C%20%5B52.5035343%2C%2013.4110997%5D%2C%20%5B52.5037927%2C%2013.411022%5D%2C%20%5B52.5040332%2C%2013.4110464%5D%2C%20%5B52.5049088%2C%2013.4117198%5D%2C%20%5B52.5069078%2C%2013.4132846%5D%2C%20%5B52.5079919%2C%2013.4141489%5D%2C%20%5B52.511006%2C%2013.4164546%5D%2C%20%5B52.5124412%2C%2013.4171834%5D%2C%20%5B52.5135299%2C%2013.4176839%5D%2C%20%5B52.5138131%2C%2013.4177692%5D%2C%20%5B52.5154139%2C%2013.4181699%5D%2C%20%5B52.5156046%2C%2013.4182237%5D%2C%20%5B52.5164935%2C%2013.4182874%5D%2C%20%5B52.5174101%2C%2013.4182077%5D%2C%20%5B52.5180641%2C%2013.4179714%5D%2C%20%5B52.5200223%2C%2013.4162736%5D%2C%20%5B52.5207929%2C%2013.4153671%5D%2C%20%5B52.5216563%2C%2013.4162844%5D%2C%20%5B52.5218939%2C%2013.4165351%5D%2C%20%5B52.5220587%2C%2013.4167149%5D%2C%20%5B52.5238894%2C%2013.4186666%5D%2C%20%5B52.5249934%2C%2013.4199586%5D%2C%20%5B52.5252177%2C%2013.4202393%5D%2C%20%5B52.526498%2C%2013.4217874%5D%2C%20%5B52.5281364%2C%2013.423868%5D%2C%20%5B52.5282294%2C%2013.4239889%5D%2C%20%5B52.5319645%2C%2013.4283665%5D%2C%20%5B52.5329862%2C%2013.4295586%5D%2C%20%5B52.5331263%2C%2013.4292698%5D%2C%20%5B52.5343366%2C%2013.4257519%5D%2C%20%5B52.535784%2C%2013.4270704%5D%2C%20%5B52.5364091%2C%2013.4276692%5D%2C%20%5B52.5369429%2C%2013.4281696%5D%2C%20%5B52.5375413%2C%2013.4287152%5D%2C%20%5B52.5377249%2C%2013.4288954%5D%2C%20%5B52.5378608%2C%2013.4284983%5D%2C%20%5B52.5393461%2C%2013.4298779%5D%2C%20%5B52.5391821%2C%2013.4304309%5D%2C%20%5B52.5391665%2C%2013.430481%5D%2C%20%5B52.5396729%2C%2013.4309426%5D%5D%2C%0A%20%20%20%20%20%20%20%20%20%20%20%20%20%20%20%20%7B%22bubblingMouseEvents%22%3A%20true%2C%20%22color%22%3A%20%22%233388ff%22%2C%20%22dashArray%22%3A%20null%2C%20%22dashOffset%22%3A%20null%2C%20%22fill%22%3A%20false%2C%20%22fillColor%22%3A%20%22%233388ff%22%2C%20%22fillOpacity%22%3A%200.2%2C%20%22fillRule%22%3A%20%22evenodd%22%2C%20%22lineCap%22%3A%20%22round%22%2C%20%22lineJoin%22%3A%20%22round%22%2C%20%22noClip%22%3A%20false%2C%20%22opacity%22%3A%201.0%2C%20%22smoothFactor%22%3A%201.0%2C%20%22stroke%22%3A%20true%2C%20%22weight%22%3A%205%7D%0A%20%20%20%20%20%20%20%20%20%20%20%20%29.addTo%28map_d0a7e1abbc7c4e4a9e2803e313ecfa5e%29%3B%0A%20%20%20%20%20%20%20%20%0A%20%20%20%20%0A%20%20%20%20%20%20%20%20var%20popup_5846f34a4a0f4b408fe88f1eeb4596c7%20%3D%20L.popup%28%7B%22maxWidth%22%3A%20%22100%25%22%7D%29%3B%0A%0A%20%20%20%20%20%20%20%20%0A%20%20%20%20%20%20%20%20%20%20%20%20var%20html_3c837a44673849428f375858affd7f77%20%3D%20%24%28%60%3Cdiv%20id%3D%22html_3c837a44673849428f375858affd7f77%22%20style%3D%22width%3A%20100.0%25%3B%20height%3A%20100.0%25%3B%22%3Eall%3C/div%3E%60%29%5B0%5D%3B%0A%20%20%20%20%20%20%20%20%20%20%20%20popup_5846f34a4a0f4b408fe88f1eeb4596c7.setContent%28html_3c837a44673849428f375858affd7f77%29%3B%0A%20%20%20%20%20%20%20%20%0A%0A%20%20%20%20%20%20%20%20poly_line_c1d8c5afdfa14f4eaa37da3f72866c0c.bindPopup%28popup_5846f34a4a0f4b408fe88f1eeb4596c7%29%0A%20%20%20%20%20%20%20%20%3B%0A%0A%20%20%20%20%20%20%20%20%0A%20%20%20%20%0A%20%20%20%20%0A%20%20%20%20%20%20%20%20%20%20%20%20var%20circle_marker_33bfbb8976754e46b47bfc05dbaf2c8f%20%3D%20L.circleMarker%28%0A%20%20%20%20%20%20%20%20%20%20%20%20%20%20%20%20%5B52.49676682831433%2C%2013.405207024527755%5D%2C%0A%20%20%20%20%20%20%20%20%20%20%20%20%20%20%20%20%7B%22bubblingMouseEvents%22%3A%20true%2C%20%22color%22%3A%20%22green%22%2C%20%22dashArray%22%3A%20null%2C%20%22dashOffset%22%3A%20null%2C%20%22fill%22%3A%20true%2C%20%22fillColor%22%3A%20%22green%22%2C%20%22fillOpacity%22%3A%201%2C%20%22fillRule%22%3A%20%22evenodd%22%2C%20%22lineCap%22%3A%20%22round%22%2C%20%22lineJoin%22%3A%20%22round%22%2C%20%22opacity%22%3A%201.0%2C%20%22radius%22%3A%205%2C%20%22stroke%22%3A%20true%2C%20%22weight%22%3A%203%7D%0A%20%20%20%20%20%20%20%20%20%20%20%20%29.addTo%28map_d0a7e1abbc7c4e4a9e2803e313ecfa5e%29%3B%0A%20%20%20%20%20%20%20%20%0A%20%20%20%20%0A%20%20%20%20%20%20%20%20var%20popup_81c2ce27bd6446269c7e81de5fd1e13f%20%3D%20L.popup%28%7B%22maxWidth%22%3A%20%22100%25%22%7D%29%3B%0A%0A%20%20%20%20%20%20%20%20%0A%20%20%20%20%20%20%20%20%20%20%20%20var%20html_8189f515a2e74129bc1122c986d7b34f%20%3D%20%24%28%60%3Cdiv%20id%3D%22html_8189f515a2e74129bc1122c986d7b34f%22%20style%3D%22width%3A%20100.0%25%3B%20height%3A%20100.0%25%3B%22%3Ezone_77%3C/div%3E%60%29%5B0%5D%3B%0A%20%20%20%20%20%20%20%20%20%20%20%20popup_81c2ce27bd6446269c7e81de5fd1e13f.setContent%28html_8189f515a2e74129bc1122c986d7b34f%29%3B%0A%20%20%20%20%20%20%20%20%0A%0A%20%20%20%20%20%20%20%20circle_marker_33bfbb8976754e46b47bfc05dbaf2c8f.bindPopup%28popup_81c2ce27bd6446269c7e81de5fd1e13f%29%0A%20%20%20%20%20%20%20%20%3B%0A%0A%20%20%20%20%20%20%20%20%0A%20%20%20%20%0A%20%20%20%20%0A%20%20%20%20%20%20%20%20%20%20%20%20var%20circle_marker_8b4d7921fc8940e1ab236987f72dd24e%20%3D%20L.circleMarker%28%0A%20%20%20%20%20%20%20%20%20%20%20%20%20%20%20%20%5B52.53977337327443%2C%2013.430522707139989%5D%2C%0A%20%20%20%20%20%20%20%20%20%20%20%20%20%20%20%20%7B%22bubblingMouseEvents%22%3A%20true%2C%20%22color%22%3A%20%22red%22%2C%20%22dashArray%22%3A%20null%2C%20%22dashOffset%22%3A%20null%2C%20%22fill%22%3A%20true%2C%20%22fillColor%22%3A%20%22red%22%2C%20%22fillOpacity%22%3A%201%2C%20%22fillRule%22%3A%20%22evenodd%22%2C%20%22lineCap%22%3A%20%22round%22%2C%20%22lineJoin%22%3A%20%22round%22%2C%20%22opacity%22%3A%201.0%2C%20%22radius%22%3A%205%2C%20%22stroke%22%3A%20true%2C%20%22weight%22%3A%203%7D%0A%20%20%20%20%20%20%20%20%20%20%20%20%29.addTo%28map_d0a7e1abbc7c4e4a9e2803e313ecfa5e%29%3B%0A%20%20%20%20%20%20%20%20%0A%20%20%20%20%0A%20%20%20%20%20%20%20%20var%20popup_02e68cd59ff8490aabee1a4de4b56194%20%3D%20L.popup%28%7B%22maxWidth%22%3A%20%22100%25%22%7D%29%3B%0A%0A%20%20%20%20%20%20%20%20%0A%20%20%20%20%20%20%20%20%20%20%20%20var%20html_3f21c80a51c64f10b64b1bfef4a8b931%20%3D%20%24%28%60%3Cdiv%20id%3D%22html_3f21c80a51c64f10b64b1bfef4a8b931%22%20style%3D%22width%3A%20100.0%25%3B%20height%3A%20100.0%25%3B%22%3Ezone_67%3C/div%3E%60%29%5B0%5D%3B%0A%20%20%20%20%20%20%20%20%20%20%20%20popup_02e68cd59ff8490aabee1a4de4b56194.setContent%28html_3f21c80a51c64f10b64b1bfef4a8b931%29%3B%0A%20%20%20%20%20%20%20%20%0A%0A%20%20%20%20%20%20%20%20circle_marker_8b4d7921fc8940e1ab236987f72dd24e.bindPopup%28popup_02e68cd59ff8490aabee1a4de4b56194%29%0A%20%20%20%20%20%20%20%20%3B%0A%0A%20%20%20%20%20%20%20%20%0A%20%20%20%20%0A%3C/script%3E onload=\"this.contentDocument.open();this.contentDocument.write(    decodeURIComponent(this.getAttribute('data-html')));this.contentDocument.close();\" allowfullscreen webkitallowfullscreen mozallowfullscreen></iframe></div></div>"
      ],
      "text/plain": [
       "<folium.folium.Map at 0x1f241144d90>"
      ]
     },
     "execution_count": 48,
     "metadata": {},
     "output_type": "execute_result"
    }
   ],
   "source": [
    "# Plot all paths between zones including car\n",
    "path(sm, 'zone_77', 'zone_67', public=True, private=True)"
   ]
  },
  {
   "cell_type": "markdown",
   "metadata": {},
   "source": [
    "## Prices\n",
    "\n",
    "Add price LoS attribute to LoS tables"
   ]
  },
  {
   "cell_type": "code",
   "execution_count": 40,
   "metadata": {},
   "outputs": [],
   "source": [
    "# Car usage has operating cost of 12ct/km in average\n",
    "# Note: we don't apply sunk cost like maintenance or purchase cost\n",
    "sm.car_los['price'] = sm.car_los['length'] * 0.12 / 1000"
   ]
  },
  {
   "cell_type": "code",
   "execution_count": 41,
   "metadata": {},
   "outputs": [],
   "source": [
    "# For PT, we have a look at the PT operators price structure.\n",
    "# For this toy model we simplify it to day tickets:\n",
    "# https://www.ratp.fr/en/titres-et-tarifs/mobilis\n",
    "# Assume that a passenger makes two trips per day with a day ticket\n",
    "sm.pt_los['price'] = 7.5 / 2\n",
    "# We don't re-build the exact price structure, but make longer trips more expensive\n",
    "sm.pt_los.loc[sm.pt_los['length']>10000, 'price'] = 10 / 2"
   ]
  },
  {
   "cell_type": "code",
   "execution_count": 42,
   "metadata": {},
   "outputs": [
    {
     "data": {
      "text/html": [
       "<div>\n",
       "<style scoped>\n",
       "    .dataframe tbody tr th:only-of-type {\n",
       "        vertical-align: middle;\n",
       "    }\n",
       "\n",
       "    .dataframe tbody tr th {\n",
       "        vertical-align: top;\n",
       "    }\n",
       "\n",
       "    .dataframe thead th {\n",
       "        text-align: right;\n",
       "    }\n",
       "</style>\n",
       "<table border=\"1\" class=\"dataframe\">\n",
       "  <thead>\n",
       "    <tr style=\"text-align: right;\">\n",
       "      <th></th>\n",
       "      <th>origin</th>\n",
       "      <th>destination</th>\n",
       "      <th>gtime</th>\n",
       "      <th>path</th>\n",
       "      <th>reversed</th>\n",
       "      <th>pathfinder_session</th>\n",
       "      <th>broken_modes</th>\n",
       "      <th>boardings</th>\n",
       "      <th>alightings</th>\n",
       "      <th>node_path</th>\n",
       "      <th>...</th>\n",
       "      <th>footpath_time</th>\n",
       "      <th>in_vehicle_time</th>\n",
       "      <th>waiting_time</th>\n",
       "      <th>boarding_time</th>\n",
       "      <th>time</th>\n",
       "      <th>access_length</th>\n",
       "      <th>footpath_length</th>\n",
       "      <th>in_vehicle_length</th>\n",
       "      <th>length</th>\n",
       "      <th>price</th>\n",
       "    </tr>\n",
       "  </thead>\n",
       "  <tbody>\n",
       "    <tr>\n",
       "      <th>2947</th>\n",
       "      <td>zone_36</td>\n",
       "      <td>zone_42</td>\n",
       "      <td>5194.70918</td>\n",
       "      <td>(zone_36, n_517, n_488, link_926, n_728, link_...</td>\n",
       "      <td>False</td>\n",
       "      <td>mode_breaker</td>\n",
       "      <td>{bus, tram, subway}</td>\n",
       "      <td>[n_488, n_728, n_694]</td>\n",
       "      <td>[n_728, n_694, n_540]</td>\n",
       "      <td>[n_517, n_488, n_728, n_694, n_540]</td>\n",
       "      <td>...</td>\n",
       "      <td>756.737923</td>\n",
       "      <td>1254.0</td>\n",
       "      <td>1800.0</td>\n",
       "      <td>0</td>\n",
       "      <td>5194.70918</td>\n",
       "      <td>2589.671439</td>\n",
       "      <td>630.614936</td>\n",
       "      <td>26716.0</td>\n",
       "      <td>29936.286375</td>\n",
       "      <td>5.0</td>\n",
       "    </tr>\n",
       "  </tbody>\n",
       "</table>\n",
       "<p>1 rows × 33 columns</p>\n",
       "</div>"
      ],
      "text/plain": [
       "       origin destination       gtime  \\\n",
       "2947  zone_36     zone_42  5194.70918   \n",
       "\n",
       "                                                   path  reversed  \\\n",
       "2947  (zone_36, n_517, n_488, link_926, n_728, link_...     False   \n",
       "\n",
       "     pathfinder_session         broken_modes              boardings  \\\n",
       "2947       mode_breaker  {bus, tram, subway}  [n_488, n_728, n_694]   \n",
       "\n",
       "                 alightings                            node_path  ...  \\\n",
       "2947  [n_728, n_694, n_540]  [n_517, n_488, n_728, n_694, n_540]  ...   \n",
       "\n",
       "     footpath_time in_vehicle_time waiting_time boarding_time        time  \\\n",
       "2947    756.737923          1254.0       1800.0             0  5194.70918   \n",
       "\n",
       "     access_length  footpath_length  in_vehicle_length        length  price  \n",
       "2947   2589.671439       630.614936            26716.0  29936.286375    5.0  \n",
       "\n",
       "[1 rows x 33 columns]"
      ]
     },
     "execution_count": 42,
     "metadata": {},
     "output_type": "execute_result"
    }
   ],
   "source": [
    "sm.pt_los.sample()"
   ]
  },
  {
   "cell_type": "markdown",
   "metadata": {},
   "source": [
    "## Save model"
   ]
  },
  {
   "cell_type": "code",
   "execution_count": 43,
   "metadata": {},
   "outputs": [],
   "source": [
    "sm.pt_los.reset_index(drop=True, inplace=True)"
   ]
  },
  {
   "cell_type": "code",
   "execution_count": 44,
   "metadata": {},
   "outputs": [
    {
     "name": "stderr",
     "output_type": "stream",
     "text": [
      "to_hdf(overwriting):  87%|████████▋ | 33/38 [01:32<00:03,  1.30it/s]"
     ]
    },
    {
     "name": "stdout",
     "output_type": "stream",
     "text": [
      "could not save geometry from table fare_rules\n",
      "could not save geometry from table fare_attributes\n",
      "could not save geometry from table mode_nests\n",
      "could not save geometry from table logit_scales\n",
      "could not save geometry from table utility_values\n"
     ]
    },
    {
     "name": "stderr",
     "output_type": "stream",
     "text": [
      "to_hdf(overwriting): 100%|██████████| 38/38 [01:37<00:00,  2.56s/it]\n"
     ]
    }
   ],
   "source": [
    "sm.to_json(model_path + 'los_tables')"
   ]
  }
 ],
 "metadata": {
  "kernelspec": {
   "display_name": "Python 3.8.12 ('quetzal_env')",
   "language": "python",
   "name": "python3"
  },
  "language_info": {
   "codemirror_mode": {
    "name": "ipython",
    "version": 3
   },
   "file_extension": ".py",
   "mimetype": "text/x-python",
   "name": "python",
   "nbconvert_exporter": "python",
   "pygments_lexer": "ipython3",
   "version": "3.8.12"
  },
  "vscode": {
   "interpreter": {
    "hash": "3cc4bcfe731f2ee019f386507748d81bde603c38f633cd56cfe2936f38177aa1"
   }
  }
 },
 "nbformat": 4,
 "nbformat_minor": 4
}
