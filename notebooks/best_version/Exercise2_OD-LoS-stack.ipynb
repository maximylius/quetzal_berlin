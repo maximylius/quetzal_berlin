{
 "cells": [
  {
   "cell_type": "code",
   "execution_count": 77,
   "metadata": {},
   "outputs": [],
   "source": [
    "import pandas as pd\n",
    "import geopandas as gpd\n",
    "import numpy as np\n",
    "from geopy.distance import geodesic\n",
    "from quetzal.model import stepmodel\n",
    "from quetzal.io.display import all_pt_paths, path, pt_path\n",
    "%matplotlib inline"
   ]
  },
  {
   "cell_type": "code",
   "execution_count": 78,
   "metadata": {},
   "outputs": [],
   "source": [
    "# Load the network model from the last exercise\n",
    "model_path = '../../model/'\n",
    "sm = stepmodel.read_json(model_path + 'network')"
   ]
  },
  {
   "cell_type": "code",
   "execution_count": 83,
   "metadata": {},
   "outputs": [
    {
     "name": "stdout",
     "output_type": "stream",
     "text": [
      "Fixing: ['checkpoint_links', 'loaded_links', 'links', 'road_links', 'footpaths', 'lines', 'networkcaster_neighbors', 'networkcaster_road_access', 'node_parenthood', 'road_to_transit', 'zone_to_transit', 'zone_to_road', 'checkpoint_nodes', 'loaded_nodes', 'nodes', 'road_nodes', 'centroids', 'disaggregated_nodes', 'micro_zones', 'zones', 'node_clusters']\n",
      "Successfully fixed.\n"
     ]
    }
   ],
   "source": [
    "# check for broken GeoDataFrames\n",
    "broken_gdf_keys = [key for key in sm.__dict__.keys() if type(sm.__dict__[key]) == pd.core.frame.DataFrame and 'geometry' in sm.__dict__[key].columns]\n",
    "print(\"Fixing:\", broken_gdf_keys)\n",
    "# fix broken GeoDataFrames\n",
    "for key in broken_gdf_keys:\n",
    "    sm.__dict__[key] = gpd.GeoDataFrame(sm.__dict__[key], crs=sm.epsg)\n",
    "broken_gdf_keys = [key for key in sm.__dict__.keys() if type(sm.__dict__[key]) == pd.core.frame.DataFrame and 'geometry' in sm.__dict__[key].columns]\n",
    "if len(broken_gdf_keys)>0:\n",
    "    print(\"Broken GeoDataFrames:\",broken_gdf_keys)\n",
    "else:\n",
    "    print(\"Successfully fixed.\")"
   ]
  },
  {
   "cell_type": "code",
   "execution_count": 84,
   "metadata": {},
   "outputs": [
    {
     "data": {
      "text/plain": [
       "98"
      ]
     },
     "execution_count": 84,
     "metadata": {},
     "output_type": "execute_result"
    }
   ],
   "source": [
    "# How many zones do we have?\n",
    "len(sm.zones)"
   ]
  },
  {
   "cell_type": "markdown",
   "metadata": {},
   "source": [
    "## Preparation of OD-times\n",
    "\n",
    "The pathfinders need a column \"time\" in the links or road_links tables to find the shortest paths. The PT pathfinder also applies a generalized boarding time (can be interpreted as a penalty for interchanging between transport carriers) and a waiting time, which is computed from the headway of PT carriers (waiting time equals half the headway (in seconds) assuming a randomly and evenly distributed arrival pattern of passengers on every PT stop)."
   ]
  },
  {
   "cell_type": "code",
   "execution_count": 85,
   "metadata": {},
   "outputs": [
    {
     "data": {
      "text/html": [
       "<div>\n",
       "<style scoped>\n",
       "    .dataframe tbody tr th:only-of-type {\n",
       "        vertical-align: middle;\n",
       "    }\n",
       "\n",
       "    .dataframe tbody tr th {\n",
       "        vertical-align: top;\n",
       "    }\n",
       "\n",
       "    .dataframe thead th {\n",
       "        text-align: right;\n",
       "    }\n",
       "</style>\n",
       "<table border=\"1\" class=\"dataframe\">\n",
       "  <thead>\n",
       "    <tr style=\"text-align: right;\">\n",
       "      <th></th>\n",
       "      <th>a</th>\n",
       "      <th>b</th>\n",
       "      <th>length</th>\n",
       "      <th>geometry</th>\n",
       "      <th>highway</th>\n",
       "      <th>maxspeed</th>\n",
       "    </tr>\n",
       "    <tr>\n",
       "      <th>index</th>\n",
       "      <th></th>\n",
       "      <th></th>\n",
       "      <th></th>\n",
       "      <th></th>\n",
       "      <th></th>\n",
       "      <th></th>\n",
       "    </tr>\n",
       "  </thead>\n",
       "  <tbody>\n",
       "    <tr>\n",
       "      <th>115683</th>\n",
       "      <td>55035684</td>\n",
       "      <td>280986162</td>\n",
       "      <td>31.634</td>\n",
       "      <td>LINESTRING (13.48534 52.52668, 13.48533 52.52640)</td>\n",
       "      <td>tertiary</td>\n",
       "      <td>50</td>\n",
       "    </tr>\n",
       "  </tbody>\n",
       "</table>\n",
       "</div>"
      ],
      "text/plain": [
       "               a          b  length  \\\n",
       "index                                 \n",
       "115683  55035684  280986162  31.634   \n",
       "\n",
       "                                                 geometry   highway maxspeed  \n",
       "index                                                                         \n",
       "115683  LINESTRING (13.48534 52.52668, 13.48533 52.52640)  tertiary       50  "
      ]
     },
     "execution_count": 85,
     "metadata": {},
     "output_type": "execute_result"
    }
   ],
   "source": [
    "sm.road_links.sample(1)"
   ]
  },
  {
   "cell_type": "code",
   "execution_count": 86,
   "metadata": {},
   "outputs": [
    {
     "data": {
      "text/html": [
       "<div>\n",
       "<style scoped>\n",
       "    .dataframe tbody tr th:only-of-type {\n",
       "        vertical-align: middle;\n",
       "    }\n",
       "\n",
       "    .dataframe tbody tr th {\n",
       "        vertical-align: top;\n",
       "    }\n",
       "\n",
       "    .dataframe thead th {\n",
       "        text-align: right;\n",
       "    }\n",
       "</style>\n",
       "<table border=\"1\" class=\"dataframe\">\n",
       "  <thead>\n",
       "    <tr style=\"text-align: right;\">\n",
       "      <th></th>\n",
       "      <th>trip_id</th>\n",
       "      <th>a</th>\n",
       "      <th>b</th>\n",
       "      <th>link_sequence</th>\n",
       "      <th>time</th>\n",
       "      <th>headway</th>\n",
       "      <th>pattern_id</th>\n",
       "      <th>route_id</th>\n",
       "      <th>service_id</th>\n",
       "      <th>direction_id</th>\n",
       "      <th>...</th>\n",
       "      <th>route_type</th>\n",
       "      <th>route_color</th>\n",
       "      <th>disaggregated_a</th>\n",
       "      <th>disaggregated_b</th>\n",
       "      <th>road_a</th>\n",
       "      <th>road_b</th>\n",
       "      <th>road_length</th>\n",
       "      <th>geometry</th>\n",
       "      <th>road_node_list</th>\n",
       "      <th>road_link_list</th>\n",
       "    </tr>\n",
       "    <tr>\n",
       "      <th>index</th>\n",
       "      <th></th>\n",
       "      <th></th>\n",
       "      <th></th>\n",
       "      <th></th>\n",
       "      <th></th>\n",
       "      <th></th>\n",
       "      <th></th>\n",
       "      <th></th>\n",
       "      <th></th>\n",
       "      <th></th>\n",
       "      <th></th>\n",
       "      <th></th>\n",
       "      <th></th>\n",
       "      <th></th>\n",
       "      <th></th>\n",
       "      <th></th>\n",
       "      <th></th>\n",
       "      <th></th>\n",
       "      <th></th>\n",
       "      <th></th>\n",
       "      <th></th>\n",
       "    </tr>\n",
       "  </thead>\n",
       "  <tbody>\n",
       "    <tr>\n",
       "      <th>link_12291</th>\n",
       "      <td>17530_700_1</td>\n",
       "      <td>n_618</td>\n",
       "      <td>n_689</td>\n",
       "      <td>4</td>\n",
       "      <td>60.0</td>\n",
       "      <td>1200</td>\n",
       "      <td>17530_700_1</td>\n",
       "      <td>17530_700</td>\n",
       "      <td>1724</td>\n",
       "      <td>1</td>\n",
       "      <td>...</td>\n",
       "      <td>bus</td>\n",
       "      <td>None</td>\n",
       "      <td>node_de:11000:900194534::2</td>\n",
       "      <td>node_de:11000:900082295::1</td>\n",
       "      <td>158898418</td>\n",
       "      <td>138569188</td>\n",
       "      <td>1284.011</td>\n",
       "      <td>LINESTRING (13.48288 52.44828, 13.48089 52.446...</td>\n",
       "      <td>[158898418, 35215900, 35215896, 35215895, 2061...</td>\n",
       "      <td>[98924, 98913, 98907, 108512, 108513, 98905, 1...</td>\n",
       "    </tr>\n",
       "  </tbody>\n",
       "</table>\n",
       "<p>1 rows × 21 columns</p>\n",
       "</div>"
      ],
      "text/plain": [
       "                trip_id      a      b  link_sequence  time  headway  \\\n",
       "index                                                                 \n",
       "link_12291  17530_700_1  n_618  n_689              4  60.0     1200   \n",
       "\n",
       "             pattern_id   route_id service_id  direction_id  ... route_type  \\\n",
       "index                                                        ...              \n",
       "link_12291  17530_700_1  17530_700       1724             1  ...        bus   \n",
       "\n",
       "           route_color             disaggregated_a  \\\n",
       "index                                                \n",
       "link_12291        None  node_de:11000:900194534::2   \n",
       "\n",
       "                       disaggregated_b     road_a     road_b road_length  \\\n",
       "index                                                                      \n",
       "link_12291  node_de:11000:900082295::1  158898418  138569188    1284.011   \n",
       "\n",
       "                                                     geometry  \\\n",
       "index                                                           \n",
       "link_12291  LINESTRING (13.48288 52.44828, 13.48089 52.446...   \n",
       "\n",
       "                                               road_node_list  \\\n",
       "index                                                           \n",
       "link_12291  [158898418, 35215900, 35215896, 35215895, 2061...   \n",
       "\n",
       "                                               road_link_list  \n",
       "index                                                          \n",
       "link_12291  [98924, 98913, 98907, 108512, 108513, 98905, 1...  \n",
       "\n",
       "[1 rows x 21 columns]"
      ]
     },
     "execution_count": 86,
     "metadata": {},
     "output_type": "execute_result"
    }
   ],
   "source": [
    "sm.links.sample(1)"
   ]
  },
  {
   "cell_type": "code",
   "execution_count": 87,
   "metadata": {},
   "outputs": [
    {
     "name": "stderr",
     "output_type": "stream",
     "text": [
      "nearest_link: 100%|██████████| 3820/3820 [00:00<00:00, 55396.00it/s]\n",
      "5241_700_1: 100%|██████████| 360/360 [01:38<00:00,  3.66it/s] \n"
     ]
    }
   ],
   "source": [
    "# We don't see any length column in our links,\n",
    "# but it is nice for calculating speeds and for later steps.\n",
    "# We can cast the PT network onto the road network (as in A40)\n",
    "# Start with the bus links\n",
    "bus = sm.copy() # copy the whole model\n",
    "bus.links = bus.links.loc[bus.links['route_type'].isin(['bus'])] # Filter\n",
    "# Apply quetzal's casting function\n",
    "bus.preparation_cast_network(\n",
    "    nearest_method='nodes',\n",
    "    n_neighbors_centroid=5, \n",
    "    n_neighbors=5, \n",
    "    penalty_factor=2,\n",
    "    replace_nodes=False\n",
    ")"
   ]
  },
  {
   "cell_type": "code",
   "execution_count": 88,
   "metadata": {},
   "outputs": [
    {
     "data": {
      "text/html": [
       "<div>\n",
       "<style scoped>\n",
       "    .dataframe tbody tr th:only-of-type {\n",
       "        vertical-align: middle;\n",
       "    }\n",
       "\n",
       "    .dataframe tbody tr th {\n",
       "        vertical-align: top;\n",
       "    }\n",
       "\n",
       "    .dataframe thead th {\n",
       "        text-align: right;\n",
       "    }\n",
       "</style>\n",
       "<table border=\"1\" class=\"dataframe\">\n",
       "  <thead>\n",
       "    <tr style=\"text-align: right;\">\n",
       "      <th></th>\n",
       "      <th>trip_id</th>\n",
       "      <th>a</th>\n",
       "      <th>b</th>\n",
       "      <th>link_sequence</th>\n",
       "      <th>time</th>\n",
       "      <th>headway</th>\n",
       "      <th>pattern_id</th>\n",
       "      <th>route_id</th>\n",
       "      <th>service_id</th>\n",
       "      <th>direction_id</th>\n",
       "      <th>...</th>\n",
       "      <th>route_type</th>\n",
       "      <th>route_color</th>\n",
       "      <th>disaggregated_a</th>\n",
       "      <th>disaggregated_b</th>\n",
       "      <th>road_a</th>\n",
       "      <th>road_b</th>\n",
       "      <th>road_node_list</th>\n",
       "      <th>road_link_list</th>\n",
       "      <th>road_length</th>\n",
       "      <th>geometry</th>\n",
       "    </tr>\n",
       "    <tr>\n",
       "      <th>index</th>\n",
       "      <th></th>\n",
       "      <th></th>\n",
       "      <th></th>\n",
       "      <th></th>\n",
       "      <th></th>\n",
       "      <th></th>\n",
       "      <th></th>\n",
       "      <th></th>\n",
       "      <th></th>\n",
       "      <th></th>\n",
       "      <th></th>\n",
       "      <th></th>\n",
       "      <th></th>\n",
       "      <th></th>\n",
       "      <th></th>\n",
       "      <th></th>\n",
       "      <th></th>\n",
       "      <th></th>\n",
       "      <th></th>\n",
       "      <th></th>\n",
       "      <th></th>\n",
       "    </tr>\n",
       "  </thead>\n",
       "  <tbody>\n",
       "    <tr>\n",
       "      <th>link_9785</th>\n",
       "      <td>17445_700_0</td>\n",
       "      <td>n_249</td>\n",
       "      <td>n_622</td>\n",
       "      <td>4</td>\n",
       "      <td>120.0</td>\n",
       "      <td>1200</td>\n",
       "      <td>17445_700_0</td>\n",
       "      <td>17445_700</td>\n",
       "      <td>1724</td>\n",
       "      <td>1</td>\n",
       "      <td>...</td>\n",
       "      <td>bus</td>\n",
       "      <td>None</td>\n",
       "      <td>node_de:11000:900056104::3</td>\n",
       "      <td>node_de:11000:900056102::7</td>\n",
       "      <td>29318889</td>\n",
       "      <td>27785598</td>\n",
       "      <td>[29318889, 26952349, 26823035, 26823030, 26823...</td>\n",
       "      <td>[79457, 8604, 6713, 6703, 6679, 65098, 6685, 6...</td>\n",
       "      <td>942.512</td>\n",
       "      <td>LINESTRING (13.36383 52.49734, 13.36389 52.497...</td>\n",
       "    </tr>\n",
       "  </tbody>\n",
       "</table>\n",
       "<p>1 rows × 21 columns</p>\n",
       "</div>"
      ],
      "text/plain": [
       "               trip_id      a      b  link_sequence   time  headway  \\\n",
       "index                                                                 \n",
       "link_9785  17445_700_0  n_249  n_622              4  120.0     1200   \n",
       "\n",
       "            pattern_id   route_id service_id  direction_id  ... route_type  \\\n",
       "index                                                       ...              \n",
       "link_9785  17445_700_0  17445_700       1724             1  ...        bus   \n",
       "\n",
       "          route_color             disaggregated_a             disaggregated_b  \\\n",
       "index                                                                           \n",
       "link_9785        None  node_de:11000:900056104::3  node_de:11000:900056102::7   \n",
       "\n",
       "             road_a    road_b  \\\n",
       "index                           \n",
       "link_9785  29318889  27785598   \n",
       "\n",
       "                                              road_node_list  \\\n",
       "index                                                          \n",
       "link_9785  [29318889, 26952349, 26823035, 26823030, 26823...   \n",
       "\n",
       "                                              road_link_list road_length  \\\n",
       "index                                                                      \n",
       "link_9785  [79457, 8604, 6713, 6703, 6679, 65098, 6685, 6...     942.512   \n",
       "\n",
       "                                                    geometry  \n",
       "index                                                         \n",
       "link_9785  LINESTRING (13.36383 52.49734, 13.36389 52.497...  \n",
       "\n",
       "[1 rows x 21 columns]"
      ]
     },
     "execution_count": 88,
     "metadata": {},
     "output_type": "execute_result"
    }
   ],
   "source": [
    "bus.links.sample()"
   ]
  },
  {
   "cell_type": "code",
   "execution_count": 89,
   "metadata": {},
   "outputs": [],
   "source": [
    "# Now take the road_length of casted model as the length of our genuine model\n",
    "sm.links['length'] = np.nan # create a new column with default values\n",
    "sm.links.loc[sm.links['route_type'].isin(['bus']),\n",
    "             'length'] = bus.links['road_length']"
   ]
  },
  {
   "cell_type": "code",
   "execution_count": 90,
   "metadata": {},
   "outputs": [],
   "source": [
    "# For rail links, we can assign the geometric distance\n",
    "sm.links.loc[sm.links['length'].isna(), 'length'] = \\\n",
    "    sm.links.loc[sm.links['length'].isna(), 'geometry'].apply(\n",
    "        lambda l: int(geodesic(l.coords[0], l.coords[-1]).m))\n",
    "# Take the geometric line and from it the start and end points, then calculate the meter distance in between"
   ]
  },
  {
   "cell_type": "code",
   "execution_count": 91,
   "metadata": {},
   "outputs": [
    {
     "name": "stdout",
     "output_type": "stream",
     "text": [
      "bus_speed = 10.637557133473052 m / s\n"
     ]
    }
   ],
   "source": [
    "# You can calculate the average bus operation speed\n",
    "bus = sm.links.loc[sm.links['route_type'] == 'bus'] # filter\n",
    "bus_lines = bus.groupby('route_id')[['time', 'length']].sum() # sum up time and length for each route\n",
    "bus_speed = bus['length'].sum() / bus['time'].sum() # operation speed\n",
    "print('bus_speed =', bus_speed, 'm / s')"
   ]
  },
  {
   "cell_type": "code",
   "execution_count": 92,
   "metadata": {},
   "outputs": [],
   "source": [
    "# Create the time LoS column for cars (it's already there for PT from the GTFS feeds)\n",
    "car_speed = bus_speed * 1.25\n",
    "sm.road_links['time'] = sm.road_links['length'] / car_speed # m/s"
   ]
  },
  {
   "cell_type": "code",
   "execution_count": 93,
   "metadata": {},
   "outputs": [],
   "source": [
    "# If we want to compute walking paths on road links, we need a time for that to\n",
    "sm.road_links['walk_time'] = sm.road_links['time'] * 3 # walk three times slower than car"
   ]
  },
  {
   "cell_type": "markdown",
   "metadata": {},
   "source": [
    "## Pathfinding\n",
    "\n",
    "Next, we want to create a table of OD-relations for different modes, each, being representative for the performance of a specific mode on a specific OD pair.\n",
    "\n",
    "Quetzal has multiple options for path finding, seperated into one function wrapper for road and one for PT. They create the `car_los` and `pt_los tables`, respectively.\n",
    "\n",
    "For road transport, quetzal can simply compute one shortest path per OD pair or multiple ones if you had the capacities and volumes already saved in the model (comes from the assignment step at the very end). So, we just compute one path for now (`all_or_nothing=True`)\n",
    "\n",
    "The PT pathfinder has two relevant attributes: `broken_modes` and `broken_routes`. If both are `False`, the pathfinder just searches for the shortest path between every OD pair, considering all PT modes and routes. If `broken_modes=True`, the pathfinder searches shortest paths for every possible mode combination. If `broken_routes=True`, the pathfinder searches shortest paths for every possible route combination. \n",
    "Additionally you can decide whether walking connections shall be done on roadsides or not with the `walk_on_road` parameter (question of computation time)."
   ]
  },
  {
   "cell_type": "markdown",
   "metadata": {},
   "source": [
    "### Car"
   ]
  },
  {
   "cell_type": "code",
   "execution_count": 94,
   "metadata": {},
   "outputs": [],
   "source": [
    "# Simple road pathfinder\n",
    "sm.step_road_pathfinder(all_or_nothing=True)"
   ]
  },
  {
   "cell_type": "code",
   "execution_count": 95,
   "metadata": {},
   "outputs": [
    {
     "data": {
      "text/plain": [
       "9604"
      ]
     },
     "execution_count": 95,
     "metadata": {},
     "output_type": "execute_result"
    }
   ],
   "source": [
    "len(sm.car_los)"
   ]
  },
  {
   "cell_type": "code",
   "execution_count": 96,
   "metadata": {},
   "outputs": [
    {
     "data": {
      "text/html": [
       "<div>\n",
       "<style scoped>\n",
       "    .dataframe tbody tr th:only-of-type {\n",
       "        vertical-align: middle;\n",
       "    }\n",
       "\n",
       "    .dataframe tbody tr th {\n",
       "        vertical-align: top;\n",
       "    }\n",
       "\n",
       "    .dataframe thead th {\n",
       "        text-align: right;\n",
       "    }\n",
       "</style>\n",
       "<table border=\"1\" class=\"dataframe\">\n",
       "  <thead>\n",
       "    <tr style=\"text-align: right;\">\n",
       "      <th></th>\n",
       "      <th>origin</th>\n",
       "      <th>destination</th>\n",
       "      <th>time</th>\n",
       "      <th>path</th>\n",
       "      <th>node_path</th>\n",
       "      <th>link_path</th>\n",
       "      <th>ntlegs</th>\n",
       "    </tr>\n",
       "  </thead>\n",
       "  <tbody>\n",
       "    <tr>\n",
       "      <th>6416</th>\n",
       "      <td>zone_68</td>\n",
       "      <td>zone_50</td>\n",
       "      <td>1018.971509</td>\n",
       "      <td>[zone_68, 29194635, 1472911017, 697323164, 292...</td>\n",
       "      <td>[29194635, 1472911017, 697323164, 29221506, 18...</td>\n",
       "      <td>[123269, 121443, 57051, 15864, 65472, 66550, 1...</td>\n",
       "      <td>[(zone_68, 29194635), (2932964296, zone_50)]</td>\n",
       "    </tr>\n",
       "  </tbody>\n",
       "</table>\n",
       "</div>"
      ],
      "text/plain": [
       "       origin destination         time  \\\n",
       "6416  zone_68     zone_50  1018.971509   \n",
       "\n",
       "                                                   path  \\\n",
       "6416  [zone_68, 29194635, 1472911017, 697323164, 292...   \n",
       "\n",
       "                                              node_path  \\\n",
       "6416  [29194635, 1472911017, 697323164, 29221506, 18...   \n",
       "\n",
       "                                              link_path  \\\n",
       "6416  [123269, 121443, 57051, 15864, 65472, 66550, 1...   \n",
       "\n",
       "                                            ntlegs  \n",
       "6416  [(zone_68, 29194635), (2932964296, zone_50)]  "
      ]
     },
     "execution_count": 96,
     "metadata": {},
     "output_type": "execute_result"
    }
   ],
   "source": [
    "sm.car_los.sample()"
   ]
  },
  {
   "cell_type": "code",
   "execution_count": 97,
   "metadata": {},
   "outputs": [],
   "source": [
    "# Assign a length to LoS table\n",
    "# Create a dictionary of road link lengths\n",
    "len_dict = sm.road_links['length'].to_dict()\n",
    "# Apply it to the link path column (sum up all links for each path)\n",
    "sm.car_los['length'] = sm.car_los['link_path'].apply(\n",
    "    lambda l: sum([len_dict[i] for i in l]))"
   ]
  },
  {
   "cell_type": "code",
   "execution_count": 98,
   "metadata": {},
   "outputs": [],
   "source": [
    "# add the route type for sake of consistency\n",
    "sm.analysis_car_route_type()"
   ]
  },
  {
   "cell_type": "code",
   "execution_count": 99,
   "metadata": {},
   "outputs": [
    {
     "data": {
      "text/html": [
       "<div>\n",
       "<style scoped>\n",
       "    .dataframe tbody tr th:only-of-type {\n",
       "        vertical-align: middle;\n",
       "    }\n",
       "\n",
       "    .dataframe tbody tr th {\n",
       "        vertical-align: top;\n",
       "    }\n",
       "\n",
       "    .dataframe thead th {\n",
       "        text-align: right;\n",
       "    }\n",
       "</style>\n",
       "<table border=\"1\" class=\"dataframe\">\n",
       "  <thead>\n",
       "    <tr style=\"text-align: right;\">\n",
       "      <th></th>\n",
       "      <th>origin</th>\n",
       "      <th>destination</th>\n",
       "      <th>time</th>\n",
       "      <th>path</th>\n",
       "      <th>node_path</th>\n",
       "      <th>link_path</th>\n",
       "      <th>ntlegs</th>\n",
       "      <th>length</th>\n",
       "      <th>route_types</th>\n",
       "      <th>route_type</th>\n",
       "    </tr>\n",
       "  </thead>\n",
       "  <tbody>\n",
       "    <tr>\n",
       "      <th>3120</th>\n",
       "      <td>zone_37</td>\n",
       "      <td>zone_83</td>\n",
       "      <td>1652.819447</td>\n",
       "      <td>[zone_37, 102918593, 27409541, 17777145, 26736...</td>\n",
       "      <td>[102918593, 27409541, 17777145, 26736188, 2673...</td>\n",
       "      <td>[80889, 73615, 76378, 4108, 4139, 71192, 2912,...</td>\n",
       "      <td>[(zone_37, 102918593), (676842794, zone_83)]</td>\n",
       "      <td>20545.767</td>\n",
       "      <td>(car,)</td>\n",
       "      <td>car</td>\n",
       "    </tr>\n",
       "  </tbody>\n",
       "</table>\n",
       "</div>"
      ],
      "text/plain": [
       "       origin destination         time  \\\n",
       "3120  zone_37     zone_83  1652.819447   \n",
       "\n",
       "                                                   path  \\\n",
       "3120  [zone_37, 102918593, 27409541, 17777145, 26736...   \n",
       "\n",
       "                                              node_path  \\\n",
       "3120  [102918593, 27409541, 17777145, 26736188, 2673...   \n",
       "\n",
       "                                              link_path  \\\n",
       "3120  [80889, 73615, 76378, 4108, 4139, 71192, 2912,...   \n",
       "\n",
       "                                            ntlegs     length route_types  \\\n",
       "3120  [(zone_37, 102918593), (676842794, zone_83)]  20545.767      (car,)   \n",
       "\n",
       "     route_type  \n",
       "3120        car  "
      ]
     },
     "execution_count": 99,
     "metadata": {},
     "output_type": "execute_result"
    }
   ],
   "source": [
    "sm.car_los.sample()"
   ]
  },
  {
   "cell_type": "markdown",
   "metadata": {},
   "source": [
    "### PT"
   ]
  },
  {
   "cell_type": "code",
   "execution_count": 100,
   "metadata": {},
   "outputs": [
    {
     "name": "stderr",
     "output_type": "stream",
     "text": [
      "path_analysis: 100%|██████████| 9507/9507 [00:00<00:00, 38321.06it/s]\n"
     ]
    }
   ],
   "source": [
    "# Simple PT\n",
    "sm.step_pt_pathfinder(broken_modes=False, broken_routes=False, walk_on_road=False)"
   ]
  },
  {
   "cell_type": "code",
   "execution_count": 101,
   "metadata": {},
   "outputs": [
    {
     "data": {
      "text/plain": [
       "9507"
      ]
     },
     "execution_count": 101,
     "metadata": {},
     "output_type": "execute_result"
    }
   ],
   "source": [
    "len(sm.pt_los)"
   ]
  },
  {
   "cell_type": "code",
   "execution_count": 102,
   "metadata": {},
   "outputs": [
    {
     "data": {
      "text/html": [
       "<div>\n",
       "<style scoped>\n",
       "    .dataframe tbody tr th:only-of-type {\n",
       "        vertical-align: middle;\n",
       "    }\n",
       "\n",
       "    .dataframe tbody tr th {\n",
       "        vertical-align: top;\n",
       "    }\n",
       "\n",
       "    .dataframe thead th {\n",
       "        text-align: right;\n",
       "    }\n",
       "</style>\n",
       "<table border=\"1\" class=\"dataframe\">\n",
       "  <thead>\n",
       "    <tr style=\"text-align: right;\">\n",
       "      <th></th>\n",
       "      <th>origin</th>\n",
       "      <th>destination</th>\n",
       "      <th>gtime</th>\n",
       "      <th>path</th>\n",
       "      <th>pathfinder_session</th>\n",
       "      <th>reversed</th>\n",
       "      <th>boardings</th>\n",
       "      <th>alightings</th>\n",
       "      <th>node_path</th>\n",
       "      <th>link_path</th>\n",
       "      <th>footpaths</th>\n",
       "      <th>ntlegs</th>\n",
       "      <th>transfers</th>\n",
       "      <th>boarding_links</th>\n",
       "      <th>alighting_links</th>\n",
       "      <th>all_walk</th>\n",
       "      <th>ntransfers</th>\n",
       "      <th>time_link_path</th>\n",
       "      <th>length_link_path</th>\n",
       "    </tr>\n",
       "  </thead>\n",
       "  <tbody>\n",
       "    <tr>\n",
       "      <th>8771</th>\n",
       "      <td>zone_9</td>\n",
       "      <td>zone_53</td>\n",
       "      <td>2741.572532</td>\n",
       "      <td>(zone_9, n_701, link_1, link_2, link_3, link_4...</td>\n",
       "      <td>best_path</td>\n",
       "      <td>False</td>\n",
       "      <td>[n_701, n_307, n_771]</td>\n",
       "      <td>[n_307, n_771, n_360]</td>\n",
       "      <td>[n_701, n_307, n_771, n_360]</td>\n",
       "      <td>[link_1, link_2, link_3, link_4, link_5, link_...</td>\n",
       "      <td>[]</td>\n",
       "      <td>[(zone_9, n_701), (n_360, zone_53)]</td>\n",
       "      <td>[n_307, n_771]</td>\n",
       "      <td>[link_1, link_741, link_12198]</td>\n",
       "      <td>[link_7, link_742, link_12206]</td>\n",
       "      <td>False</td>\n",
       "      <td>2</td>\n",
       "      <td>1692.0</td>\n",
       "      <td>27259.0</td>\n",
       "    </tr>\n",
       "  </tbody>\n",
       "</table>\n",
       "</div>"
      ],
      "text/plain": [
       "      origin destination        gtime  \\\n",
       "8771  zone_9     zone_53  2741.572532   \n",
       "\n",
       "                                                   path pathfinder_session  \\\n",
       "8771  (zone_9, n_701, link_1, link_2, link_3, link_4...          best_path   \n",
       "\n",
       "      reversed              boardings             alightings  \\\n",
       "8771     False  [n_701, n_307, n_771]  [n_307, n_771, n_360]   \n",
       "\n",
       "                         node_path  \\\n",
       "8771  [n_701, n_307, n_771, n_360]   \n",
       "\n",
       "                                              link_path footpaths  \\\n",
       "8771  [link_1, link_2, link_3, link_4, link_5, link_...        []   \n",
       "\n",
       "                                   ntlegs       transfers  \\\n",
       "8771  [(zone_9, n_701), (n_360, zone_53)]  [n_307, n_771]   \n",
       "\n",
       "                      boarding_links                 alighting_links  \\\n",
       "8771  [link_1, link_741, link_12198]  [link_7, link_742, link_12206]   \n",
       "\n",
       "      all_walk  ntransfers  time_link_path  length_link_path  \n",
       "8771     False           2          1692.0           27259.0  "
      ]
     },
     "execution_count": 102,
     "metadata": {},
     "output_type": "execute_result"
    }
   ],
   "source": [
    "sm.pt_los.sample()"
   ]
  },
  {
   "cell_type": "code",
   "execution_count": 103,
   "metadata": {},
   "outputs": [
    {
     "data": {
      "text/plain": [
       "Index(['origin', 'destination', 'gtime', 'path', 'pathfinder_session',\n",
       "       'reversed', 'boardings', 'alightings', 'node_path', 'link_path',\n",
       "       'footpaths', 'ntlegs', 'transfers', 'boarding_links', 'alighting_links',\n",
       "       'all_walk', 'ntransfers', 'time_link_path', 'length_link_path'],\n",
       "      dtype='object')"
      ]
     },
     "execution_count": 103,
     "metadata": {},
     "output_type": "execute_result"
    }
   ],
   "source": [
    "sm.pt_los.columns"
   ]
  },
  {
   "cell_type": "code",
   "execution_count": 104,
   "metadata": {},
   "outputs": [
    {
     "data": {
      "text/plain": [
       "array(['bus', 'rail', 'tram', 'subway'], dtype=object)"
      ]
     },
     "execution_count": 104,
     "metadata": {},
     "output_type": "execute_result"
    }
   ],
   "source": [
    "sm.links['route_type'].unique()"
   ]
  },
  {
   "cell_type": "code",
   "execution_count": 105,
   "metadata": {},
   "outputs": [],
   "source": [
    "# Add route types to the paths\n",
    "# The mode that appears first in the hierarchy is assigned as\n",
    "# main mode, if there is more than one route_type used on the path\n",
    "hierarchy = ['rail', 'subway', 'funicular', 'tram', 'bus']\n",
    "sm.analysis_pt_route_type(hierarchy)"
   ]
  },
  {
   "cell_type": "code",
   "execution_count": 106,
   "metadata": {},
   "outputs": [
    {
     "data": {
      "text/plain": [
       "array([[<AxesSubplot:title={'center':'ntransfers'}>]], dtype=object)"
      ]
     },
     "execution_count": 106,
     "metadata": {},
     "output_type": "execute_result"
    },
    {
     "data": {
      "image/png": "[encoded data removed]",
      "text/plain": [
       "<Figure size 216x216 with 1 Axes>"
      ]
     },
     "metadata": {
      "needs_background": "light"
     },
     "output_type": "display_data"
    }
   ],
   "source": [
    "# How many transfers do we have?\n",
    "sm.pt_los.hist(column='ntransfers', bins=6, figsize=(3,3))"
   ]
  },
  {
   "cell_type": "code",
   "execution_count": 107,
   "metadata": {},
   "outputs": [
    {
     "data": {
      "text/plain": [
       "<AxesSubplot:xlabel='route_types'>"
      ]
     },
     "execution_count": 107,
     "metadata": {},
     "output_type": "execute_result"
    },
    {
     "data": {
      "image/png": "[encoded data removed]",
      "text/plain": [
       "<Figure size 432x288 with 1 Axes>"
      ]
     },
     "metadata": {
      "needs_background": "light"
     },
     "output_type": "display_data"
    }
   ],
   "source": [
    "# How many connections do we have per mode combination in the shortest paths?\n",
    "sm.pt_los['route_types'] = sm.pt_los['route_types'].apply(tuple) # bugfix\n",
    "sm.pt_los.groupby('route_types').count()['route_type'].plot(kind='bar')"
   ]
  },
  {
   "cell_type": "code",
   "execution_count": 108,
   "metadata": {},
   "outputs": [
    {
     "name": "stderr",
     "output_type": "stream",
     "text": [
      "breaking modes: set() : 100%|██████████| 16/16 [00:08<00:00,  1.80it/s]                           \n",
      "path_analysis: 100%|██████████| 66499/66499 [00:03<00:00, 19966.46it/s]\n"
     ]
    }
   ],
   "source": [
    "# Now, let's look at the results when we disaggregate paths by route_type\n",
    "sm.step_pt_pathfinder(broken_modes=True, broken_routes=False, walk_on_road=False)"
   ]
  },
  {
   "cell_type": "code",
   "execution_count": 109,
   "metadata": {},
   "outputs": [
    {
     "data": {
      "text/plain": [
       "66499"
      ]
     },
     "execution_count": 109,
     "metadata": {},
     "output_type": "execute_result"
    }
   ],
   "source": [
    "# How many paths do we have now compared to 12,100 before?\n",
    "len(sm.pt_los)"
   ]
  },
  {
   "cell_type": "code",
   "execution_count": 110,
   "metadata": {},
   "outputs": [
    {
     "data": {
      "text/html": [
       "<div>\n",
       "<style scoped>\n",
       "    .dataframe tbody tr th:only-of-type {\n",
       "        vertical-align: middle;\n",
       "    }\n",
       "\n",
       "    .dataframe tbody tr th {\n",
       "        vertical-align: top;\n",
       "    }\n",
       "\n",
       "    .dataframe thead th {\n",
       "        text-align: right;\n",
       "    }\n",
       "</style>\n",
       "<table border=\"1\" class=\"dataframe\">\n",
       "  <thead>\n",
       "    <tr style=\"text-align: right;\">\n",
       "      <th></th>\n",
       "      <th>origin</th>\n",
       "      <th>destination</th>\n",
       "      <th>gtime</th>\n",
       "      <th>path</th>\n",
       "      <th>reversed</th>\n",
       "      <th>pathfinder_session</th>\n",
       "      <th>broken_modes</th>\n",
       "      <th>boardings</th>\n",
       "      <th>alightings</th>\n",
       "      <th>node_path</th>\n",
       "      <th>...</th>\n",
       "      <th>ntlegs</th>\n",
       "      <th>transfers</th>\n",
       "      <th>boarding_links</th>\n",
       "      <th>alighting_links</th>\n",
       "      <th>all_walk</th>\n",
       "      <th>ntransfers</th>\n",
       "      <th>time_link_path</th>\n",
       "      <th>length_link_path</th>\n",
       "      <th>route_types</th>\n",
       "      <th>route_type</th>\n",
       "    </tr>\n",
       "  </thead>\n",
       "  <tbody>\n",
       "    <tr>\n",
       "      <th>1955</th>\n",
       "      <td>zone_26</td>\n",
       "      <td>zone_93</td>\n",
       "      <td>3363.73585</td>\n",
       "      <td>(zone_26, n_34, link_684, link_685, link_686, ...</td>\n",
       "      <td>False</td>\n",
       "      <td>mode_breaker</td>\n",
       "      <td>{bus, tram, subway}</td>\n",
       "      <td>[n_34, n_307]</td>\n",
       "      <td>[n_307, n_232]</td>\n",
       "      <td>[n_34, n_307, n_232]</td>\n",
       "      <td>...</td>\n",
       "      <td>[(zone_26, n_34), (n_232, zone_93)]</td>\n",
       "      <td>[n_307]</td>\n",
       "      <td>[link_684, link_140]</td>\n",
       "      <td>[link_687, link_145]</td>\n",
       "      <td>False</td>\n",
       "      <td>1</td>\n",
       "      <td>1266.0</td>\n",
       "      <td>25332.0</td>\n",
       "      <td>(rail,)</td>\n",
       "      <td>rail</td>\n",
       "    </tr>\n",
       "  </tbody>\n",
       "</table>\n",
       "<p>1 rows × 22 columns</p>\n",
       "</div>"
      ],
      "text/plain": [
       "       origin destination       gtime  \\\n",
       "1955  zone_26     zone_93  3363.73585   \n",
       "\n",
       "                                                   path  reversed  \\\n",
       "1955  (zone_26, n_34, link_684, link_685, link_686, ...     False   \n",
       "\n",
       "     pathfinder_session         broken_modes      boardings      alightings  \\\n",
       "1955       mode_breaker  {bus, tram, subway}  [n_34, n_307]  [n_307, n_232]   \n",
       "\n",
       "                 node_path  ...                               ntlegs  \\\n",
       "1955  [n_34, n_307, n_232]  ...  [(zone_26, n_34), (n_232, zone_93)]   \n",
       "\n",
       "     transfers        boarding_links       alighting_links all_walk  \\\n",
       "1955   [n_307]  [link_684, link_140]  [link_687, link_145]    False   \n",
       "\n",
       "     ntransfers  time_link_path  length_link_path  route_types  route_type  \n",
       "1955          1          1266.0           25332.0      (rail,)        rail  \n",
       "\n",
       "[1 rows x 22 columns]"
      ]
     },
     "execution_count": 110,
     "metadata": {},
     "output_type": "execute_result"
    }
   ],
   "source": [
    "sm.analysis_pt_route_type(hierarchy)\n",
    "sm.pt_los.sample()"
   ]
  },
  {
   "cell_type": "code",
   "execution_count": 111,
   "metadata": {},
   "outputs": [
    {
     "data": {
      "text/plain": [
       "<AxesSubplot:xlabel='route_types'>"
      ]
     },
     "execution_count": 111,
     "metadata": {},
     "output_type": "execute_result"
    },
    {
     "data": {
      "image/png": "[encoded data removed]",
      "text/plain": [
       "<Figure size 432x288 with 1 Axes>"
      ]
     },
     "metadata": {
      "needs_background": "light"
     },
     "output_type": "display_data"
    }
   ],
   "source": [
    "sm.pt_los['route_types'] = sm.pt_los['route_types'].apply(tuple) # bugfix\n",
    "sm.pt_los.groupby('route_types').count()['route_type'].plot(kind='bar')"
   ]
  },
  {
   "cell_type": "code",
   "execution_count": 112,
   "metadata": {},
   "outputs": [
    {
     "data": {
      "text/plain": [
       "array([[<AxesSubplot:title={'center':'ntransfers'}>]], dtype=object)"
      ]
     },
     "execution_count": 112,
     "metadata": {},
     "output_type": "execute_result"
    },
    {
     "data": {
      "image/png": "[encoded data removed]",
      "text/plain": [
       "<Figure size 216x216 with 1 Axes>"
      ]
     },
     "metadata": {
      "needs_background": "light"
     },
     "output_type": "display_data"
    }
   ],
   "source": [
    "# How many transfers do we have?\n",
    "sm.pt_los.hist(column='ntransfers', bins=6, figsize=(3,3))"
   ]
  },
  {
   "cell_type": "code",
   "execution_count": 113,
   "metadata": {},
   "outputs": [],
   "source": [
    "# Compute time attribute (from link path and footpaths and access links)\n",
    "sm.analysis_pt_time()"
   ]
  },
  {
   "cell_type": "code",
   "execution_count": 114,
   "metadata": {},
   "outputs": [
    {
     "data": {
      "text/html": [
       "<div>\n",
       "<style scoped>\n",
       "    .dataframe tbody tr th:only-of-type {\n",
       "        vertical-align: middle;\n",
       "    }\n",
       "\n",
       "    .dataframe tbody tr th {\n",
       "        vertical-align: top;\n",
       "    }\n",
       "\n",
       "    .dataframe thead th {\n",
       "        text-align: right;\n",
       "    }\n",
       "</style>\n",
       "<table border=\"1\" class=\"dataframe\">\n",
       "  <thead>\n",
       "    <tr style=\"text-align: right;\">\n",
       "      <th></th>\n",
       "      <th>route_types</th>\n",
       "      <th>time</th>\n",
       "      <th>ntransfers</th>\n",
       "    </tr>\n",
       "  </thead>\n",
       "  <tbody>\n",
       "  </tbody>\n",
       "</table>\n",
       "</div>"
      ],
      "text/plain": [
       "Empty DataFrame\n",
       "Columns: [route_types, time, ntransfers]\n",
       "Index: []"
      ]
     },
     "execution_count": 114,
     "metadata": {},
     "output_type": "execute_result"
    }
   ],
   "source": [
    "# Closer look at one OD pair\n",
    "sm.pt_los.loc[(sm.pt_los['origin']=='zone_11') & (sm.pt_los['destination']=='zone_99')][\n",
    "    ['route_types', 'time', 'ntransfers']]"
   ]
  },
  {
   "cell_type": "code",
   "execution_count": 115,
   "metadata": {},
   "outputs": [
    {
     "name": "stderr",
     "output_type": "stream",
     "text": [
      "Reprojecting model from epsg 4326 to epsg 3857: 100%|██████████| 38/38 [00:04<00:00,  8.14it/s]\n",
      "100%|██████████| 5/5 [00:10<00:00,  2.08s/it]\n"
     ]
    },
    {
     "data": {
      "image/png": "[encoded data removed]",
      "text/plain": [
       "<Figure size 1078.75x139.484 with 5 Axes>"
      ]
     },
     "metadata": {},
     "output_type": "display_data"
    }
   ],
   "source": [
    "# Plot\n",
    "plot = sm.change_epsg(3857, coordinates_unit=sm.coordinates_unit)\n",
    "plot.links['color'] = '#' + plot.links['route_color']\n",
    "fig, axes = plot.plot_separated_paths(\n",
    "    'zone_41', 'zone_65', rows=1, figsize=[16, 16],\n",
    "    title=None, constrained_layout=True, zoom=13, resize=True,\n",
    "    basemap_url='http://a.basemaps.cartocdn.com/light_nolabels/tileZ/tileX/tileY.png', \n",
    ")"
   ]
  },
  {
   "cell_type": "code",
   "execution_count": 116,
   "metadata": {},
   "outputs": [],
   "source": [
    "# Assign a length to LoS table\n",
    "sm.analysis_pt_length()"
   ]
  },
  {
   "cell_type": "code",
   "execution_count": 117,
   "metadata": {},
   "outputs": [
    {
     "data": {
      "text/plain": [
       "<AxesSubplot:>"
      ]
     },
     "execution_count": 117,
     "metadata": {},
     "output_type": "execute_result"
    },
    {
     "data": {
      "image/png": "[encoded data removed]",
      "text/plain": [
       "<Figure size 216x216 with 1 Axes>"
      ]
     },
     "metadata": {
      "needs_background": "light"
     },
     "output_type": "display_data"
    }
   ],
   "source": [
    "# Length distribution\n",
    "sm.pt_los['length'].hist(bins=20, figsize=(3,3))"
   ]
  },
  {
   "cell_type": "code",
   "execution_count": 118,
   "metadata": {},
   "outputs": [
    {
     "data": {
      "image/png": "[encoded data removed]",
      "text/plain": [
       "<Figure size 360x360 with 1 Axes>"
      ]
     },
     "metadata": {
      "needs_background": "light"
     },
     "output_type": "display_data"
    }
   ],
   "source": [
    "# Dependency between distance and time\n",
    "mask = sm.pt_los['origin']!=sm.pt_los['destination'] # Filter statement\n",
    "color_dict = {'bus': '#129eac', 'subway': '#0e5899', 'tram': '#5ea8e8', 'rail': '#1F85DE', 'walk': '#adb3b4'}\n",
    "color_list = [color_dict[t] for t in sm.pt_los.loc[mask, 'route_type']]\n",
    "ax = sm.pt_los.loc[mask].plot(\n",
    "    kind='scatter', x='length', y='time', figsize=[5, 5], s=1, c=color_list)"
   ]
  },
  {
   "cell_type": "code",
   "execution_count": 119,
   "metadata": {},
   "outputs": [
    {
     "data": {
      "text/html": [
       "<div style=\"width:100%;\"><div style=\"position:relative;width:100%;height:0;padding-bottom:60%;\"><span style=\"color:#565656\">Make this Notebook Trusted to load map: File -> Trust Notebook</span><iframe src=\"about:blank\" style=\"position:absolute;width:100%;height:100%;left:0;top:0;border:none !important;\" data-html=%3C%21DOCTYPE%20html%3E%0A%3Chead%3E%20%20%20%20%0A%20%20%20%20%3Cmeta%20http-equiv%3D%22content-type%22%20content%3D%22text/html%3B%20charset%3DUTF-8%22%20/%3E%0A%20%20%20%20%0A%20%20%20%20%20%20%20%20%3Cscript%3E%0A%20%20%20%20%20%20%20%20%20%20%20%20L_NO_TOUCH%20%3D%20false%3B%0A%20%20%20%20%20%20%20%20%20%20%20%20L_DISABLE_3D%20%3D%20false%3B%0A%20%20%20%20%20%20%20%20%3C/script%3E%0A%20%20%20%20%0A%20%20%20%20%3Cstyle%3Ehtml%2C%20body%20%7Bwidth%3A%20100%25%3Bheight%3A%20100%25%3Bmargin%3A%200%3Bpadding%3A%200%3B%7D%3C/style%3E%0A%20%20%20%20%3Cstyle%3E%23map%20%7Bposition%3Aabsolute%3Btop%3A0%3Bbottom%3A0%3Bright%3A0%3Bleft%3A0%3B%7D%3C/style%3E%0A%20%20%20%20%3Cscript%20src%3D%22https%3A//cdn.jsdelivr.net/npm/leaflet%401.6.0/dist/leaflet.js%22%3E%3C/script%3E%0A%20%20%20%20%3Cscript%20src%3D%22https%3A//code.jquery.com/jquery-1.12.4.min.js%22%3E%3C/script%3E%0A%20%20%20%20%3Cscript%20src%3D%22https%3A//maxcdn.bootstrapcdn.com/bootstrap/3.2.0/js/bootstrap.min.js%22%3E%3C/script%3E%0A%20%20%20%20%3Cscript%20src%3D%22https%3A//cdnjs.cloudflare.com/ajax/libs/Leaflet.awesome-markers/2.0.2/leaflet.awesome-markers.js%22%3E%3C/script%3E%0A%20%20%20%20%3Clink%20rel%3D%22stylesheet%22%20href%3D%22https%3A//cdn.jsdelivr.net/npm/leaflet%401.6.0/dist/leaflet.css%22/%3E%0A%20%20%20%20%3Clink%20rel%3D%22stylesheet%22%20href%3D%22https%3A//maxcdn.bootstrapcdn.com/bootstrap/3.2.0/css/bootstrap.min.css%22/%3E%0A%20%20%20%20%3Clink%20rel%3D%22stylesheet%22%20href%3D%22https%3A//maxcdn.bootstrapcdn.com/bootstrap/3.2.0/css/bootstrap-theme.min.css%22/%3E%0A%20%20%20%20%3Clink%20rel%3D%22stylesheet%22%20href%3D%22https%3A//maxcdn.bootstrapcdn.com/font-awesome/4.6.3/css/font-awesome.min.css%22/%3E%0A%20%20%20%20%3Clink%20rel%3D%22stylesheet%22%20href%3D%22https%3A//cdnjs.cloudflare.com/ajax/libs/Leaflet.awesome-markers/2.0.2/leaflet.awesome-markers.css%22/%3E%0A%20%20%20%20%3Clink%20rel%3D%22stylesheet%22%20href%3D%22https%3A//cdn.jsdelivr.net/gh/python-visualization/folium/folium/templates/leaflet.awesome.rotate.min.css%22/%3E%0A%20%20%20%20%0A%20%20%20%20%20%20%20%20%20%20%20%20%3Cmeta%20name%3D%22viewport%22%20content%3D%22width%3Ddevice-width%2C%0A%20%20%20%20%20%20%20%20%20%20%20%20%20%20%20%20initial-scale%3D1.0%2C%20maximum-scale%3D1.0%2C%20user-scalable%3Dno%22%20/%3E%0A%20%20%20%20%20%20%20%20%20%20%20%20%3Cstyle%3E%0A%20%20%20%20%20%20%20%20%20%20%20%20%20%20%20%20%23map_d099feb21f814231bda62467279b0d58%20%7B%0A%20%20%20%20%20%20%20%20%20%20%20%20%20%20%20%20%20%20%20%20position%3A%20relative%3B%0A%20%20%20%20%20%20%20%20%20%20%20%20%20%20%20%20%20%20%20%20width%3A%20100.0%25%3B%0A%20%20%20%20%20%20%20%20%20%20%20%20%20%20%20%20%20%20%20%20height%3A%20100.0%25%3B%0A%20%20%20%20%20%20%20%20%20%20%20%20%20%20%20%20%20%20%20%20left%3A%200.0%25%3B%0A%20%20%20%20%20%20%20%20%20%20%20%20%20%20%20%20%20%20%20%20top%3A%200.0%25%3B%0A%20%20%20%20%20%20%20%20%20%20%20%20%20%20%20%20%7D%0A%20%20%20%20%20%20%20%20%20%20%20%20%3C/style%3E%0A%20%20%20%20%20%20%20%20%0A%3C/head%3E%0A%3Cbody%3E%20%20%20%20%0A%20%20%20%20%0A%20%20%20%20%20%20%20%20%20%20%20%20%3Cdiv%20class%3D%22folium-map%22%20id%3D%22map_d099feb21f814231bda62467279b0d58%22%20%3E%3C/div%3E%0A%20%20%20%20%20%20%20%20%0A%3C/body%3E%0A%3Cscript%3E%20%20%20%20%0A%20%20%20%20%0A%20%20%20%20%20%20%20%20%20%20%20%20var%20map_d099feb21f814231bda62467279b0d58%20%3D%20L.map%28%0A%20%20%20%20%20%20%20%20%20%20%20%20%20%20%20%20%22map_d099feb21f814231bda62467279b0d58%22%2C%0A%20%20%20%20%20%20%20%20%20%20%20%20%20%20%20%20%7B%0A%20%20%20%20%20%20%20%20%20%20%20%20%20%20%20%20%20%20%20%20center%3A%20%5B52.56954927049989%2C%2013.393053541444758%5D%2C%0A%20%20%20%20%20%20%20%20%20%20%20%20%20%20%20%20%20%20%20%20crs%3A%20L.CRS.EPSG3857%2C%0A%20%20%20%20%20%20%20%20%20%20%20%20%20%20%20%20%20%20%20%20zoom%3A%2013%2C%0A%20%20%20%20%20%20%20%20%20%20%20%20%20%20%20%20%20%20%20%20zoomControl%3A%20true%2C%0A%20%20%20%20%20%20%20%20%20%20%20%20%20%20%20%20%20%20%20%20preferCanvas%3A%20false%2C%0A%20%20%20%20%20%20%20%20%20%20%20%20%20%20%20%20%7D%0A%20%20%20%20%20%20%20%20%20%20%20%20%29%3B%0A%0A%20%20%20%20%20%20%20%20%20%20%20%20%0A%0A%20%20%20%20%20%20%20%20%0A%20%20%20%20%0A%20%20%20%20%20%20%20%20%20%20%20%20var%20tile_layer_59f8552195b74f3a9fc3ac38084c3db1%20%3D%20L.tileLayer%28%0A%20%20%20%20%20%20%20%20%20%20%20%20%20%20%20%20%22https%3A//%7Bs%7D.tile.openstreetmap.org/%7Bz%7D/%7Bx%7D/%7By%7D.png%22%2C%0A%20%20%20%20%20%20%20%20%20%20%20%20%20%20%20%20%7B%22attribution%22%3A%20%22Data%20by%20%5Cu0026copy%3B%20%5Cu003ca%20href%3D%5C%22http%3A//openstreetmap.org%5C%22%5Cu003eOpenStreetMap%5Cu003c/a%5Cu003e%2C%20under%20%5Cu003ca%20href%3D%5C%22http%3A//www.openstreetmap.org/copyright%5C%22%5Cu003eODbL%5Cu003c/a%5Cu003e.%22%2C%20%22detectRetina%22%3A%20false%2C%20%22maxNativeZoom%22%3A%2018%2C%20%22maxZoom%22%3A%2018%2C%20%22minZoom%22%3A%200%2C%20%22noWrap%22%3A%20false%2C%20%22opacity%22%3A%201%2C%20%22subdomains%22%3A%20%22abc%22%2C%20%22tms%22%3A%20false%7D%0A%20%20%20%20%20%20%20%20%20%20%20%20%29.addTo%28map_d099feb21f814231bda62467279b0d58%29%3B%0A%20%20%20%20%20%20%20%20%0A%20%20%20%20%0A%20%20%20%20%20%20%20%20%20%20%20%20var%20poly_line_f9427e632f314985a8157bc558fe31f2%20%3D%20L.polyline%28%0A%20%20%20%20%20%20%20%20%20%20%20%20%20%20%20%20%5B%5B52.5976344%2C%2013.3739802%5D%2C%20%5B52.5952959%2C%2013.3841823%5D%2C%20%5B52.5852653%2C%2013.390163%5D%2C%20%5B52.5792904%2C%2013.3983939%5D%2C%20%5B52.5739163%2C%2013.3938404%5D%2C%20%5B52.5654843%2C%2013.4042677%5D%2C%20%5B52.5682541%2C%2013.4119701%5D%2C%20%5B52.5611443%2C%2013.4129219%5D%2C%20%5B52.5536443%2C%2013.4141443%5D%2C%20%5B52.5474955%2C%2013.4153025%5D%2C%20%5B52.5385713%2C%2013.4097144%5D%5D%2C%0A%20%20%20%20%20%20%20%20%20%20%20%20%20%20%20%20%7B%22bubblingMouseEvents%22%3A%20true%2C%20%22color%22%3A%20%22blue%22%2C%20%22dashArray%22%3A%20null%2C%20%22dashOffset%22%3A%20null%2C%20%22fill%22%3A%20false%2C%20%22fillColor%22%3A%20%22blue%22%2C%20%22fillOpacity%22%3A%200.2%2C%20%22fillRule%22%3A%20%22evenodd%22%2C%20%22lineCap%22%3A%20%22round%22%2C%20%22lineJoin%22%3A%20%22round%22%2C%20%22noClip%22%3A%20false%2C%20%22opacity%22%3A%201.0%2C%20%22smoothFactor%22%3A%201.0%2C%20%22stroke%22%3A%20true%2C%20%22weight%22%3A%205%7D%0A%20%20%20%20%20%20%20%20%20%20%20%20%29.addTo%28map_d099feb21f814231bda62467279b0d58%29%3B%0A%20%20%20%20%20%20%20%20%0A%20%20%20%20%0A%20%20%20%20%20%20%20%20var%20popup_fc4d47c7c0094fa8ae5444d829e598d3%20%3D%20L.popup%28%7B%22maxWidth%22%3A%20%22100%25%22%7D%29%3B%0A%0A%20%20%20%20%20%20%20%20%0A%20%20%20%20%20%20%20%20%20%20%20%20var%20html_ea50c1d5b4eb41bcacb94fd2e70d7c35%20%3D%20%24%28%60%3Cdiv%20id%3D%22html_ea50c1d5b4eb41bcacb94fd2e70d7c35%22%20style%3D%22width%3A%20100.0%25%3B%20height%3A%20100.0%25%3B%22%3E17438_900_2%3C/div%3E%60%29%5B0%5D%3B%0A%20%20%20%20%20%20%20%20%20%20%20%20popup_fc4d47c7c0094fa8ae5444d829e598d3.setContent%28html_ea50c1d5b4eb41bcacb94fd2e70d7c35%29%3B%0A%20%20%20%20%20%20%20%20%0A%0A%20%20%20%20%20%20%20%20poly_line_f9427e632f314985a8157bc558fe31f2.bindPopup%28popup_fc4d47c7c0094fa8ae5444d829e598d3%29%0A%20%20%20%20%20%20%20%20%3B%0A%0A%20%20%20%20%20%20%20%20%0A%20%20%20%20%0A%20%20%20%20%0A%20%20%20%20%20%20%20%20%20%20%20%20var%20poly_line_c0c7a6a755fe49af8c6ebc802ed326b1%20%3D%20L.polyline%28%0A%20%20%20%20%20%20%20%20%20%20%20%20%20%20%20%20%5B%5B52.5385713%2C%2013.4097144%5D%2C%20%5B52.5392935%2C%2013.422843%5D%5D%2C%0A%20%20%20%20%20%20%20%20%20%20%20%20%20%20%20%20%7B%22bubblingMouseEvents%22%3A%20true%2C%20%22color%22%3A%20%22blue%22%2C%20%22dashArray%22%3A%20null%2C%20%22dashOffset%22%3A%20null%2C%20%22fill%22%3A%20false%2C%20%22fillColor%22%3A%20%22blue%22%2C%20%22fillOpacity%22%3A%200.2%2C%20%22fillRule%22%3A%20%22evenodd%22%2C%20%22lineCap%22%3A%20%22round%22%2C%20%22lineJoin%22%3A%20%22round%22%2C%20%22noClip%22%3A%20false%2C%20%22opacity%22%3A%201.0%2C%20%22smoothFactor%22%3A%201.0%2C%20%22stroke%22%3A%20true%2C%20%22weight%22%3A%205%7D%0A%20%20%20%20%20%20%20%20%20%20%20%20%29.addTo%28map_d099feb21f814231bda62467279b0d58%29%3B%0A%20%20%20%20%20%20%20%20%0A%20%20%20%20%0A%20%20%20%20%20%20%20%20var%20popup_642a6bd9fbea4a45b4ed896ecc149879%20%3D%20L.popup%28%7B%22maxWidth%22%3A%20%22100%25%22%7D%29%3B%0A%0A%20%20%20%20%20%20%20%20%0A%20%20%20%20%20%20%20%20%20%20%20%20var%20html_6b2c3be028724d53adb84d70d052488f%20%3D%20%24%28%60%3Cdiv%20id%3D%22html_6b2c3be028724d53adb84d70d052488f%22%20style%3D%22width%3A%20100.0%25%3B%20height%3A%20100.0%25%3B%22%3E17440_900_1%3C/div%3E%60%29%5B0%5D%3B%0A%20%20%20%20%20%20%20%20%20%20%20%20popup_642a6bd9fbea4a45b4ed896ecc149879.setContent%28html_6b2c3be028724d53adb84d70d052488f%29%3B%0A%20%20%20%20%20%20%20%20%0A%0A%20%20%20%20%20%20%20%20poly_line_c0c7a6a755fe49af8c6ebc802ed326b1.bindPopup%28popup_642a6bd9fbea4a45b4ed896ecc149879%29%0A%20%20%20%20%20%20%20%20%3B%0A%0A%20%20%20%20%20%20%20%20%0A%20%20%20%20%0A%20%20%20%20%0A%20%20%20%20%20%20%20%20%20%20%20%20var%20poly_line_adb3c9336b8d48b0a1351d66612b6431%20%3D%20L.polyline%28%0A%20%20%20%20%20%20%20%20%20%20%20%20%20%20%20%20%5B%5B52.60116000751471%2C%2013.36586499309396%5D%2C%20%5B52.59753068065968%2C%2013.374284661385113%5D%5D%2C%0A%20%20%20%20%20%20%20%20%20%20%20%20%20%20%20%20%7B%22bubblingMouseEvents%22%3A%20true%2C%20%22color%22%3A%20%22gray%22%2C%20%22dashArray%22%3A%20null%2C%20%22dashOffset%22%3A%20null%2C%20%22fill%22%3A%20false%2C%20%22fillColor%22%3A%20%22gray%22%2C%20%22fillOpacity%22%3A%200.2%2C%20%22fillRule%22%3A%20%22evenodd%22%2C%20%22lineCap%22%3A%20%22round%22%2C%20%22lineJoin%22%3A%20%22round%22%2C%20%22noClip%22%3A%20false%2C%20%22opacity%22%3A%201.0%2C%20%22smoothFactor%22%3A%201.0%2C%20%22stroke%22%3A%20true%2C%20%22weight%22%3A%203%7D%0A%20%20%20%20%20%20%20%20%20%20%20%20%29.addTo%28map_d099feb21f814231bda62467279b0d58%29%3B%0A%20%20%20%20%20%20%20%20%0A%20%20%20%20%0A%20%20%20%20%20%20%20%20%20%20%20%20var%20poly_line_e0c835e4c7774b9c862b2295f59d858c%20%3D%20L.polyline%28%0A%20%20%20%20%20%20%20%20%20%20%20%20%20%20%20%20%5B%5B52.59932516772535%2C%2013.355584375749528%5D%2C%20%5B52.60116000751471%2C%2013.36586499309396%5D%5D%2C%0A%20%20%20%20%20%20%20%20%20%20%20%20%20%20%20%20%7B%22bubblingMouseEvents%22%3A%20true%2C%20%22color%22%3A%20%22black%22%2C%20%22dashArray%22%3A%20null%2C%20%22dashOffset%22%3A%20null%2C%20%22fill%22%3A%20false%2C%20%22fillColor%22%3A%20%22black%22%2C%20%22fillOpacity%22%3A%200.2%2C%20%22fillRule%22%3A%20%22evenodd%22%2C%20%22lineCap%22%3A%20%22round%22%2C%20%22lineJoin%22%3A%20%22round%22%2C%20%22noClip%22%3A%20false%2C%20%22opacity%22%3A%201.0%2C%20%22smoothFactor%22%3A%201.0%2C%20%22stroke%22%3A%20true%2C%20%22weight%22%3A%203%7D%0A%20%20%20%20%20%20%20%20%20%20%20%20%29.addTo%28map_d099feb21f814231bda62467279b0d58%29%3B%0A%20%20%20%20%20%20%20%20%0A%20%20%20%20%0A%20%20%20%20%20%20%20%20%20%20%20%20var%20poly_line_6420678e9c734d7393831b53b1484a75%20%3D%20L.polyline%28%0A%20%20%20%20%20%20%20%20%20%20%20%20%20%20%20%20%5B%5B52.53977337327443%2C%2013.430522707139989%5D%2C%20%5B52.53891569526164%2C%2013.423307867399041%5D%5D%2C%0A%20%20%20%20%20%20%20%20%20%20%20%20%20%20%20%20%7B%22bubblingMouseEvents%22%3A%20true%2C%20%22color%22%3A%20%22black%22%2C%20%22dashArray%22%3A%20null%2C%20%22dashOffset%22%3A%20null%2C%20%22fill%22%3A%20false%2C%20%22fillColor%22%3A%20%22black%22%2C%20%22fillOpacity%22%3A%200.2%2C%20%22fillRule%22%3A%20%22evenodd%22%2C%20%22lineCap%22%3A%20%22round%22%2C%20%22lineJoin%22%3A%20%22round%22%2C%20%22noClip%22%3A%20false%2C%20%22opacity%22%3A%201.0%2C%20%22smoothFactor%22%3A%201.0%2C%20%22stroke%22%3A%20true%2C%20%22weight%22%3A%203%7D%0A%20%20%20%20%20%20%20%20%20%20%20%20%29.addTo%28map_d099feb21f814231bda62467279b0d58%29%3B%0A%20%20%20%20%20%20%20%20%0A%20%20%20%20%0A%20%20%20%20%20%20%20%20%20%20%20%20var%20circle_marker_d7aa1d9a5651438aae549f1e8b3a1a9a%20%3D%20L.circleMarker%28%0A%20%20%20%20%20%20%20%20%20%20%20%20%20%20%20%20%5B52.59753068065968%2C%2013.374284661385113%5D%2C%0A%20%20%20%20%20%20%20%20%20%20%20%20%20%20%20%20%7B%22bubblingMouseEvents%22%3A%20true%2C%20%22color%22%3A%20%22gray%22%2C%20%22dashArray%22%3A%20null%2C%20%22dashOffset%22%3A%20null%2C%20%22fill%22%3A%20true%2C%20%22fillColor%22%3A%20%22gray%22%2C%20%22fillOpacity%22%3A%201%2C%20%22fillRule%22%3A%20%22evenodd%22%2C%20%22lineCap%22%3A%20%22round%22%2C%20%22lineJoin%22%3A%20%22round%22%2C%20%22opacity%22%3A%201.0%2C%20%22radius%22%3A%203%2C%20%22stroke%22%3A%20true%2C%20%22weight%22%3A%203%7D%0A%20%20%20%20%20%20%20%20%20%20%20%20%29.addTo%28map_d099feb21f814231bda62467279b0d58%29%3B%0A%20%20%20%20%20%20%20%20%0A%20%20%20%20%0A%20%20%20%20%20%20%20%20var%20popup_5fc8b1112179468d9bea715476bca97d%20%3D%20L.popup%28%7B%22maxWidth%22%3A%20%22100%25%22%7D%29%3B%0A%0A%20%20%20%20%20%20%20%20%0A%20%20%20%20%20%20%20%20%20%20%20%20var%20html_454827b469fc4270af81e481c4149d01%20%3D%20%24%28%60%3Cdiv%20id%3D%22html_454827b469fc4270af81e481c4149d01%22%20style%3D%22width%3A%20100.0%25%3B%20height%3A%20100.0%25%3B%22%3En_83%3C/div%3E%60%29%5B0%5D%3B%0A%20%20%20%20%20%20%20%20%20%20%20%20popup_5fc8b1112179468d9bea715476bca97d.setContent%28html_454827b469fc4270af81e481c4149d01%29%3B%0A%20%20%20%20%20%20%20%20%0A%0A%20%20%20%20%20%20%20%20circle_marker_d7aa1d9a5651438aae549f1e8b3a1a9a.bindPopup%28popup_5fc8b1112179468d9bea715476bca97d%29%0A%20%20%20%20%20%20%20%20%3B%0A%0A%20%20%20%20%20%20%20%20%0A%20%20%20%20%0A%20%20%20%20%0A%20%20%20%20%20%20%20%20%20%20%20%20var%20circle_marker_81794e8e49bf4372b59565f5fc6618e4%20%3D%20L.circleMarker%28%0A%20%20%20%20%20%20%20%20%20%20%20%20%20%20%20%20%5B52.539863564827364%2C%2013.409116527262865%5D%2C%0A%20%20%20%20%20%20%20%20%20%20%20%20%20%20%20%20%7B%22bubblingMouseEvents%22%3A%20true%2C%20%22color%22%3A%20%22gray%22%2C%20%22dashArray%22%3A%20null%2C%20%22dashOffset%22%3A%20null%2C%20%22fill%22%3A%20true%2C%20%22fillColor%22%3A%20%22gray%22%2C%20%22fillOpacity%22%3A%201%2C%20%22fillRule%22%3A%20%22evenodd%22%2C%20%22lineCap%22%3A%20%22round%22%2C%20%22lineJoin%22%3A%20%22round%22%2C%20%22opacity%22%3A%201.0%2C%20%22radius%22%3A%203%2C%20%22stroke%22%3A%20true%2C%20%22weight%22%3A%203%7D%0A%20%20%20%20%20%20%20%20%20%20%20%20%29.addTo%28map_d099feb21f814231bda62467279b0d58%29%3B%0A%20%20%20%20%20%20%20%20%0A%20%20%20%20%0A%20%20%20%20%20%20%20%20var%20popup_923191bf00ef40c5a696bd0263867580%20%3D%20L.popup%28%7B%22maxWidth%22%3A%20%22100%25%22%7D%29%3B%0A%0A%20%20%20%20%20%20%20%20%0A%20%20%20%20%20%20%20%20%20%20%20%20var%20html_24cd885675b94cf7b024fd2e3f8e1a06%20%3D%20%24%28%60%3Cdiv%20id%3D%22html_24cd885675b94cf7b024fd2e3f8e1a06%22%20style%3D%22width%3A%20100.0%25%3B%20height%3A%20100.0%25%3B%22%3En_320%3C/div%3E%60%29%5B0%5D%3B%0A%20%20%20%20%20%20%20%20%20%20%20%20popup_923191bf00ef40c5a696bd0263867580.setContent%28html_24cd885675b94cf7b024fd2e3f8e1a06%29%3B%0A%20%20%20%20%20%20%20%20%0A%0A%20%20%20%20%20%20%20%20circle_marker_81794e8e49bf4372b59565f5fc6618e4.bindPopup%28popup_923191bf00ef40c5a696bd0263867580%29%0A%20%20%20%20%20%20%20%20%3B%0A%0A%20%20%20%20%20%20%20%20%0A%20%20%20%20%0A%20%20%20%20%0A%20%20%20%20%20%20%20%20%20%20%20%20var%20circle_marker_c035489c7de84ebb9cd970073d82f5ec%20%3D%20L.circleMarker%28%0A%20%20%20%20%20%20%20%20%20%20%20%20%20%20%20%20%5B52.53891569526164%2C%2013.423307867399041%5D%2C%0A%20%20%20%20%20%20%20%20%20%20%20%20%20%20%20%20%7B%22bubblingMouseEvents%22%3A%20true%2C%20%22color%22%3A%20%22gray%22%2C%20%22dashArray%22%3A%20null%2C%20%22dashOffset%22%3A%20null%2C%20%22fill%22%3A%20true%2C%20%22fillColor%22%3A%20%22gray%22%2C%20%22fillOpacity%22%3A%201%2C%20%22fillRule%22%3A%20%22evenodd%22%2C%20%22lineCap%22%3A%20%22round%22%2C%20%22lineJoin%22%3A%20%22round%22%2C%20%22opacity%22%3A%201.0%2C%20%22radius%22%3A%203%2C%20%22stroke%22%3A%20true%2C%20%22weight%22%3A%203%7D%0A%20%20%20%20%20%20%20%20%20%20%20%20%29.addTo%28map_d099feb21f814231bda62467279b0d58%29%3B%0A%20%20%20%20%20%20%20%20%0A%20%20%20%20%0A%20%20%20%20%20%20%20%20var%20popup_8fd27c78d1244575a3f2df6afec0c4e3%20%3D%20L.popup%28%7B%22maxWidth%22%3A%20%22100%25%22%7D%29%3B%0A%0A%20%20%20%20%20%20%20%20%0A%20%20%20%20%20%20%20%20%20%20%20%20var%20html_f051319cd5de4043a860c9fd5e788f9c%20%3D%20%24%28%60%3Cdiv%20id%3D%22html_f051319cd5de4043a860c9fd5e788f9c%22%20style%3D%22width%3A%20100.0%25%3B%20height%3A%20100.0%25%3B%22%3En_254%3C/div%3E%60%29%5B0%5D%3B%0A%20%20%20%20%20%20%20%20%20%20%20%20popup_8fd27c78d1244575a3f2df6afec0c4e3.setContent%28html_f051319cd5de4043a860c9fd5e788f9c%29%3B%0A%20%20%20%20%20%20%20%20%0A%0A%20%20%20%20%20%20%20%20circle_marker_c035489c7de84ebb9cd970073d82f5ec.bindPopup%28popup_8fd27c78d1244575a3f2df6afec0c4e3%29%0A%20%20%20%20%20%20%20%20%3B%0A%0A%20%20%20%20%20%20%20%20%0A%20%20%20%20%0A%20%20%20%20%0A%20%20%20%20%20%20%20%20%20%20%20%20var%20circle_marker_da397caef0394086b936183156cd0a11%20%3D%20L.circleMarker%28%0A%20%20%20%20%20%20%20%20%20%20%20%20%20%20%20%20%5B52.59932516772535%2C%2013.355584375749528%5D%2C%0A%20%20%20%20%20%20%20%20%20%20%20%20%20%20%20%20%7B%22bubblingMouseEvents%22%3A%20true%2C%20%22color%22%3A%20%22green%22%2C%20%22dashArray%22%3A%20null%2C%20%22dashOffset%22%3A%20null%2C%20%22fill%22%3A%20true%2C%20%22fillColor%22%3A%20%22green%22%2C%20%22fillOpacity%22%3A%201%2C%20%22fillRule%22%3A%20%22evenodd%22%2C%20%22lineCap%22%3A%20%22round%22%2C%20%22lineJoin%22%3A%20%22round%22%2C%20%22opacity%22%3A%201.0%2C%20%22radius%22%3A%205%2C%20%22stroke%22%3A%20true%2C%20%22weight%22%3A%203%7D%0A%20%20%20%20%20%20%20%20%20%20%20%20%29.addTo%28map_d099feb21f814231bda62467279b0d58%29%3B%0A%20%20%20%20%20%20%20%20%0A%20%20%20%20%0A%20%20%20%20%20%20%20%20var%20popup_013d220463194582b40933d307773dde%20%3D%20L.popup%28%7B%22maxWidth%22%3A%20%22100%25%22%7D%29%3B%0A%0A%20%20%20%20%20%20%20%20%0A%20%20%20%20%20%20%20%20%20%20%20%20var%20html_3f634b701a98431da33ccbb9953d2114%20%3D%20%24%28%60%3Cdiv%20id%3D%22html_3f634b701a98431da33ccbb9953d2114%22%20style%3D%22width%3A%20100.0%25%3B%20height%3A%20100.0%25%3B%22%3Ezone_10%3C/div%3E%60%29%5B0%5D%3B%0A%20%20%20%20%20%20%20%20%20%20%20%20popup_013d220463194582b40933d307773dde.setContent%28html_3f634b701a98431da33ccbb9953d2114%29%3B%0A%20%20%20%20%20%20%20%20%0A%0A%20%20%20%20%20%20%20%20circle_marker_da397caef0394086b936183156cd0a11.bindPopup%28popup_013d220463194582b40933d307773dde%29%0A%20%20%20%20%20%20%20%20%3B%0A%0A%20%20%20%20%20%20%20%20%0A%20%20%20%20%0A%20%20%20%20%0A%20%20%20%20%20%20%20%20%20%20%20%20var%20circle_marker_4e6e696c2606438fb332854fc88e2979%20%3D%20L.circleMarker%28%0A%20%20%20%20%20%20%20%20%20%20%20%20%20%20%20%20%5B52.53977337327443%2C%2013.430522707139989%5D%2C%0A%20%20%20%20%20%20%20%20%20%20%20%20%20%20%20%20%7B%22bubblingMouseEvents%22%3A%20true%2C%20%22color%22%3A%20%22red%22%2C%20%22dashArray%22%3A%20null%2C%20%22dashOffset%22%3A%20null%2C%20%22fill%22%3A%20true%2C%20%22fillColor%22%3A%20%22red%22%2C%20%22fillOpacity%22%3A%201%2C%20%22fillRule%22%3A%20%22evenodd%22%2C%20%22lineCap%22%3A%20%22round%22%2C%20%22lineJoin%22%3A%20%22round%22%2C%20%22opacity%22%3A%201.0%2C%20%22radius%22%3A%205%2C%20%22stroke%22%3A%20true%2C%20%22weight%22%3A%203%7D%0A%20%20%20%20%20%20%20%20%20%20%20%20%29.addTo%28map_d099feb21f814231bda62467279b0d58%29%3B%0A%20%20%20%20%20%20%20%20%0A%20%20%20%20%0A%20%20%20%20%20%20%20%20var%20popup_cd0d47106d8b4ab08fb2443d4318419f%20%3D%20L.popup%28%7B%22maxWidth%22%3A%20%22100%25%22%7D%29%3B%0A%0A%20%20%20%20%20%20%20%20%0A%20%20%20%20%20%20%20%20%20%20%20%20var%20html_1fbb8076a5d94266abe808accf51e699%20%3D%20%24%28%60%3Cdiv%20id%3D%22html_1fbb8076a5d94266abe808accf51e699%22%20style%3D%22width%3A%20100.0%25%3B%20height%3A%20100.0%25%3B%22%3Ezone_67%3C/div%3E%60%29%5B0%5D%3B%0A%20%20%20%20%20%20%20%20%20%20%20%20popup_cd0d47106d8b4ab08fb2443d4318419f.setContent%28html_1fbb8076a5d94266abe808accf51e699%29%3B%0A%20%20%20%20%20%20%20%20%0A%0A%20%20%20%20%20%20%20%20circle_marker_4e6e696c2606438fb332854fc88e2979.bindPopup%28popup_cd0d47106d8b4ab08fb2443d4318419f%29%0A%20%20%20%20%20%20%20%20%3B%0A%0A%20%20%20%20%20%20%20%20%0A%20%20%20%20%0A%20%20%20%20%0A%20%20%20%20%20%20%20%20%20%20%20%20var%20poly_line_8d7b7a090d194a97a3899296c4a81065%20%3D%20L.polyline%28%0A%20%20%20%20%20%20%20%20%20%20%20%20%20%20%20%20%5B%5B52.5998172%2C%2013.3556713%5D%2C%20%5B52.5966843%2C%2013.3561289%5D%2C%20%5B52.5968855%2C%2013.3599389%5D%2C%20%5B52.5968686%2C%2013.3604566%5D%2C%20%5B52.5968726%2C%2013.3605878%5D%2C%20%5B52.5969394%2C%2013.361167%5D%2C%20%5B52.5970535%2C%2013.3631957%5D%2C%20%5B52.5973897%2C%2013.3694981%5D%2C%20%5B52.5975618%2C%2013.3726412%5D%2C%20%5B52.5976344%2C%2013.3739802%5D%2C%20%5B52.5971833%2C%2013.3754853%5D%2C%20%5B52.5965756%2C%2013.3776221%5D%2C%20%5B52.5957913%2C%2013.379195%5D%2C%20%5B52.5948854%2C%2013.3805106%5D%2C%20%5B52.5939192%2C%2013.3817748%5D%2C%20%5B52.5927311%2C%2013.3830915%5D%2C%20%5B52.5911973%2C%2013.3848411%5D%2C%20%5B52.5909627%2C%2013.3852786%5D%2C%20%5B52.5896951%2C%2013.3874086%5D%2C%20%5B52.5888465%2C%2013.3881359%5D%2C%20%5B52.5869146%2C%2013.389232%5D%2C%20%5B52.5861237%2C%2013.3896781%5D%2C%20%5B52.5852653%2C%2013.390163%5D%2C%20%5B52.5843627%2C%2013.3906725%5D%2C%20%5B52.5837951%2C%2013.3910049%5D%2C%20%5B52.5829669%2C%2013.3916823%5D%2C%20%5B52.5821596%2C%2013.3924887%5D%2C%20%5B52.5814615%2C%2013.3939484%5D%2C%20%5B52.5806358%2C%2013.3957326%5D%2C%20%5B52.5799201%2C%2013.3973357%5D%2C%20%5B52.5794448%2C%2013.3975108%5D%2C%20%5B52.5793811%2C%2013.3977206%5D%2C%20%5B52.5792859%2C%2013.398228%5D%2C%20%5B52.5768303%2C%2013.3982868%5D%2C%20%5B52.5742239%2C%2013.3992205%5D%2C%20%5B52.573384%2C%2013.3989817%5D%2C%20%5B52.5721545%2C%2013.3985583%5D%2C%20%5B52.5711177%2C%2013.3981602%5D%2C%20%5B52.5709812%2C%2013.3982038%5D%2C%20%5B52.5705774%2C%2013.3987697%5D%2C%20%5B52.569486%2C%2013.4008747%5D%2C%20%5B52.5692585%2C%2013.4013048%5D%2C%20%5B52.569175%2C%2013.4015591%5D%2C%20%5B52.5693257%2C%2013.4034793%5D%2C%20%5B52.5672609%2C%2013.4051042%5D%2C%20%5B52.5653768%2C%2013.4065457%5D%2C%20%5B52.5637163%2C%2013.4083447%5D%2C%20%5B52.5626734%2C%2013.409734%5D%2C%20%5B52.5624142%2C%2013.4099522%5D%2C%20%5B52.5620698%2C%2013.4102448%5D%2C%20%5B52.5611697%2C%2013.4109877%5D%2C%20%5B52.5603246%2C%2013.4116379%5D%2C%20%5B52.5593559%2C%2013.4123873%5D%2C%20%5B52.5588786%2C%2013.4130736%5D%2C%20%5B52.5577321%2C%2013.4137419%5D%2C%20%5B52.5576178%2C%2013.4138043%5D%2C%20%5B52.5538898%2C%2013.4143846%5D%2C%20%5B52.5537214%2C%2013.4143438%5D%2C%20%5B52.5536331%2C%2013.4143221%5D%2C%20%5B52.5520986%2C%2013.4140235%5D%2C%20%5B52.5507369%2C%2013.4137501%5D%2C%20%5B52.5505944%2C%2013.413724%5D%2C%20%5B52.5496301%2C%2013.4135579%5D%2C%20%5B52.5486856%2C%2013.4134096%5D%2C%20%5B52.54767%2C%2013.4132305%5D%2C%20%5B52.5476429%2C%2013.4135642%5D%2C%20%5B52.5474955%2C%2013.4153025%5D%2C%20%5B52.5471689%2C%2013.4163713%5D%2C%20%5B52.5465186%2C%2013.4182573%5D%2C%20%5B52.5457925%2C%2013.4198751%5D%2C%20%5B52.5451976%2C%2013.4212525%5D%2C%20%5B52.5445955%2C%2013.4226448%5D%2C%20%5B52.544014%2C%2013.4239619%5D%2C%20%5B52.5429928%2C%2013.4263284%5D%2C%20%5B52.5429477%2C%2013.4265384%5D%2C%20%5B52.5400738%2C%2013.4279948%5D%2C%20%5B52.5394113%2C%2013.4299356%5D%2C%20%5B52.5393461%2C%2013.4298779%5D%2C%20%5B52.5391821%2C%2013.4304309%5D%2C%20%5B52.5391665%2C%2013.430481%5D%2C%20%5B52.5396729%2C%2013.4309426%5D%5D%2C%0A%20%20%20%20%20%20%20%20%20%20%20%20%20%20%20%20%7B%22bubblingMouseEvents%22%3A%20true%2C%20%22color%22%3A%20%22%233388ff%22%2C%20%22dashArray%22%3A%20null%2C%20%22dashOffset%22%3A%20null%2C%20%22fill%22%3A%20false%2C%20%22fillColor%22%3A%20%22%233388ff%22%2C%20%22fillOpacity%22%3A%200.2%2C%20%22fillRule%22%3A%20%22evenodd%22%2C%20%22lineCap%22%3A%20%22round%22%2C%20%22lineJoin%22%3A%20%22round%22%2C%20%22noClip%22%3A%20false%2C%20%22opacity%22%3A%201.0%2C%20%22smoothFactor%22%3A%201.0%2C%20%22stroke%22%3A%20true%2C%20%22weight%22%3A%205%7D%0A%20%20%20%20%20%20%20%20%20%20%20%20%29.addTo%28map_d099feb21f814231bda62467279b0d58%29%3B%0A%20%20%20%20%20%20%20%20%0A%20%20%20%20%0A%20%20%20%20%20%20%20%20var%20popup_17fb81e13fcf44e387bf671c5788e531%20%3D%20L.popup%28%7B%22maxWidth%22%3A%20%22100%25%22%7D%29%3B%0A%0A%20%20%20%20%20%20%20%20%0A%20%20%20%20%20%20%20%20%20%20%20%20var%20html_fa7ccae93fcb4a1c97446eed2bfe0a0c%20%3D%20%24%28%60%3Cdiv%20id%3D%22html_fa7ccae93fcb4a1c97446eed2bfe0a0c%22%20style%3D%22width%3A%20100.0%25%3B%20height%3A%20100.0%25%3B%22%3Eall%3C/div%3E%60%29%5B0%5D%3B%0A%20%20%20%20%20%20%20%20%20%20%20%20popup_17fb81e13fcf44e387bf671c5788e531.setContent%28html_fa7ccae93fcb4a1c97446eed2bfe0a0c%29%3B%0A%20%20%20%20%20%20%20%20%0A%0A%20%20%20%20%20%20%20%20poly_line_8d7b7a090d194a97a3899296c4a81065.bindPopup%28popup_17fb81e13fcf44e387bf671c5788e531%29%0A%20%20%20%20%20%20%20%20%3B%0A%0A%20%20%20%20%20%20%20%20%0A%20%20%20%20%0A%20%20%20%20%0A%20%20%20%20%20%20%20%20%20%20%20%20var%20circle_marker_893902b28f9a4cf89275f25f44a4f31f%20%3D%20L.circleMarker%28%0A%20%20%20%20%20%20%20%20%20%20%20%20%20%20%20%20%5B52.59932516772535%2C%2013.355584375749528%5D%2C%0A%20%20%20%20%20%20%20%20%20%20%20%20%20%20%20%20%7B%22bubblingMouseEvents%22%3A%20true%2C%20%22color%22%3A%20%22green%22%2C%20%22dashArray%22%3A%20null%2C%20%22dashOffset%22%3A%20null%2C%20%22fill%22%3A%20true%2C%20%22fillColor%22%3A%20%22green%22%2C%20%22fillOpacity%22%3A%201%2C%20%22fillRule%22%3A%20%22evenodd%22%2C%20%22lineCap%22%3A%20%22round%22%2C%20%22lineJoin%22%3A%20%22round%22%2C%20%22opacity%22%3A%201.0%2C%20%22radius%22%3A%205%2C%20%22stroke%22%3A%20true%2C%20%22weight%22%3A%203%7D%0A%20%20%20%20%20%20%20%20%20%20%20%20%29.addTo%28map_d099feb21f814231bda62467279b0d58%29%3B%0A%20%20%20%20%20%20%20%20%0A%20%20%20%20%0A%20%20%20%20%20%20%20%20var%20popup_445c93f1eeaf4b448f6a3da6b9e699ec%20%3D%20L.popup%28%7B%22maxWidth%22%3A%20%22100%25%22%7D%29%3B%0A%0A%20%20%20%20%20%20%20%20%0A%20%20%20%20%20%20%20%20%20%20%20%20var%20html_8ba3df8fa33b43fe8dc52f08bab784a3%20%3D%20%24%28%60%3Cdiv%20id%3D%22html_8ba3df8fa33b43fe8dc52f08bab784a3%22%20style%3D%22width%3A%20100.0%25%3B%20height%3A%20100.0%25%3B%22%3Ezone_10%3C/div%3E%60%29%5B0%5D%3B%0A%20%20%20%20%20%20%20%20%20%20%20%20popup_445c93f1eeaf4b448f6a3da6b9e699ec.setContent%28html_8ba3df8fa33b43fe8dc52f08bab784a3%29%3B%0A%20%20%20%20%20%20%20%20%0A%0A%20%20%20%20%20%20%20%20circle_marker_893902b28f9a4cf89275f25f44a4f31f.bindPopup%28popup_445c93f1eeaf4b448f6a3da6b9e699ec%29%0A%20%20%20%20%20%20%20%20%3B%0A%0A%20%20%20%20%20%20%20%20%0A%20%20%20%20%0A%20%20%20%20%0A%20%20%20%20%20%20%20%20%20%20%20%20var%20circle_marker_e832bd9392124735ac3f6d725be357a3%20%3D%20L.circleMarker%28%0A%20%20%20%20%20%20%20%20%20%20%20%20%20%20%20%20%5B52.53977337327443%2C%2013.430522707139989%5D%2C%0A%20%20%20%20%20%20%20%20%20%20%20%20%20%20%20%20%7B%22bubblingMouseEvents%22%3A%20true%2C%20%22color%22%3A%20%22red%22%2C%20%22dashArray%22%3A%20null%2C%20%22dashOffset%22%3A%20null%2C%20%22fill%22%3A%20true%2C%20%22fillColor%22%3A%20%22red%22%2C%20%22fillOpacity%22%3A%201%2C%20%22fillRule%22%3A%20%22evenodd%22%2C%20%22lineCap%22%3A%20%22round%22%2C%20%22lineJoin%22%3A%20%22round%22%2C%20%22opacity%22%3A%201.0%2C%20%22radius%22%3A%205%2C%20%22stroke%22%3A%20true%2C%20%22weight%22%3A%203%7D%0A%20%20%20%20%20%20%20%20%20%20%20%20%29.addTo%28map_d099feb21f814231bda62467279b0d58%29%3B%0A%20%20%20%20%20%20%20%20%0A%20%20%20%20%0A%20%20%20%20%20%20%20%20var%20popup_c2315914358b4c2298d1aac28b0471ab%20%3D%20L.popup%28%7B%22maxWidth%22%3A%20%22100%25%22%7D%29%3B%0A%0A%20%20%20%20%20%20%20%20%0A%20%20%20%20%20%20%20%20%20%20%20%20var%20html_e4cc00e387064ab9903e13a354de74e2%20%3D%20%24%28%60%3Cdiv%20id%3D%22html_e4cc00e387064ab9903e13a354de74e2%22%20style%3D%22width%3A%20100.0%25%3B%20height%3A%20100.0%25%3B%22%3Ezone_67%3C/div%3E%60%29%5B0%5D%3B%0A%20%20%20%20%20%20%20%20%20%20%20%20popup_c2315914358b4c2298d1aac28b0471ab.setContent%28html_e4cc00e387064ab9903e13a354de74e2%29%3B%0A%20%20%20%20%20%20%20%20%0A%0A%20%20%20%20%20%20%20%20circle_marker_e832bd9392124735ac3f6d725be357a3.bindPopup%28popup_c2315914358b4c2298d1aac28b0471ab%29%0A%20%20%20%20%20%20%20%20%3B%0A%0A%20%20%20%20%20%20%20%20%0A%20%20%20%20%0A%3C/script%3E onload=\"this.contentDocument.open();this.contentDocument.write(    decodeURIComponent(this.getAttribute('data-html')));this.contentDocument.close();\" allowfullscreen webkitallowfullscreen mozallowfullscreen></iframe></div></div>"
      ],
      "text/plain": [
       "<folium.folium.Map at 0x1fd56d114c0>"
      ]
     },
     "execution_count": 119,
     "metadata": {},
     "output_type": "execute_result"
    }
   ],
   "source": [
    "# Plot all paths between zones including car\n",
    "path(sm, 'zone_10', 'zone_67', public=True, private=True)"
   ]
  },
  {
   "cell_type": "markdown",
   "metadata": {},
   "source": [
    "## Prices\n",
    "\n",
    "Add price LoS attribute to LoS tables"
   ]
  },
  {
   "cell_type": "code",
   "execution_count": 120,
   "metadata": {},
   "outputs": [],
   "source": [
    "# Car usage has operating cost of 12ct/km in average\n",
    "# Note: we don't apply sunk cost like maintenance or purchase cost\n",
    "sm.car_los['price'] = sm.car_los['length'] * 0.12 / 1000"
   ]
  },
  {
   "cell_type": "code",
   "execution_count": 121,
   "metadata": {},
   "outputs": [],
   "source": [
    "# For PT, we have a look at the PT operators price structure.\n",
    "# For this toy model we simplify it to day tickets:\n",
    "# https://www.ratp.fr/en/titres-et-tarifs/mobilis\n",
    "# Assume that a passenger makes two trips per day with a day ticket\n",
    "sm.pt_los['price'] = 7.5 / 2\n",
    "# We don't re-build the exact price structure, but make longer trips more expensive\n",
    "sm.pt_los.loc[sm.pt_los['length']>10000, 'price'] = 10 / 2"
   ]
  },
  {
   "cell_type": "code",
   "execution_count": 122,
   "metadata": {},
   "outputs": [
    {
     "data": {
      "text/html": [
       "<div>\n",
       "<style scoped>\n",
       "    .dataframe tbody tr th:only-of-type {\n",
       "        vertical-align: middle;\n",
       "    }\n",
       "\n",
       "    .dataframe tbody tr th {\n",
       "        vertical-align: top;\n",
       "    }\n",
       "\n",
       "    .dataframe thead th {\n",
       "        text-align: right;\n",
       "    }\n",
       "</style>\n",
       "<table border=\"1\" class=\"dataframe\">\n",
       "  <thead>\n",
       "    <tr style=\"text-align: right;\">\n",
       "      <th></th>\n",
       "      <th>origin</th>\n",
       "      <th>destination</th>\n",
       "      <th>gtime</th>\n",
       "      <th>path</th>\n",
       "      <th>reversed</th>\n",
       "      <th>pathfinder_session</th>\n",
       "      <th>broken_modes</th>\n",
       "      <th>boardings</th>\n",
       "      <th>alightings</th>\n",
       "      <th>node_path</th>\n",
       "      <th>...</th>\n",
       "      <th>footpath_time</th>\n",
       "      <th>in_vehicle_time</th>\n",
       "      <th>waiting_time</th>\n",
       "      <th>boarding_time</th>\n",
       "      <th>time</th>\n",
       "      <th>access_length</th>\n",
       "      <th>footpath_length</th>\n",
       "      <th>in_vehicle_length</th>\n",
       "      <th>length</th>\n",
       "      <th>price</th>\n",
       "    </tr>\n",
       "  </thead>\n",
       "  <tbody>\n",
       "    <tr>\n",
       "      <th>6617</th>\n",
       "      <td>zone_7</td>\n",
       "      <td>zone_55</td>\n",
       "      <td>3800.596206</td>\n",
       "      <td>(zone_7, n_69, link_181, link_182, link_183, l...</td>\n",
       "      <td>False</td>\n",
       "      <td>mode_breaker</td>\n",
       "      <td>{bus, tram, subway}</td>\n",
       "      <td>[n_69, n_124, n_509]</td>\n",
       "      <td>[n_124, n_509, n_375]</td>\n",
       "      <td>[n_69, n_124, n_509, n_375]</td>\n",
       "      <td>...</td>\n",
       "      <td>0.0</td>\n",
       "      <td>1962.0</td>\n",
       "      <td>1200.0</td>\n",
       "      <td>0</td>\n",
       "      <td>3800.596206</td>\n",
       "      <td>1062.93535</td>\n",
       "      <td>0.0</td>\n",
       "      <td>35415.0</td>\n",
       "      <td>36477.93535</td>\n",
       "      <td>5.0</td>\n",
       "    </tr>\n",
       "  </tbody>\n",
       "</table>\n",
       "<p>1 rows × 33 columns</p>\n",
       "</div>"
      ],
      "text/plain": [
       "      origin destination        gtime  \\\n",
       "6617  zone_7     zone_55  3800.596206   \n",
       "\n",
       "                                                   path  reversed  \\\n",
       "6617  (zone_7, n_69, link_181, link_182, link_183, l...     False   \n",
       "\n",
       "     pathfinder_session         broken_modes             boardings  \\\n",
       "6617       mode_breaker  {bus, tram, subway}  [n_69, n_124, n_509]   \n",
       "\n",
       "                 alightings                    node_path  ... footpath_time  \\\n",
       "6617  [n_124, n_509, n_375]  [n_69, n_124, n_509, n_375]  ...           0.0   \n",
       "\n",
       "     in_vehicle_time waiting_time boarding_time         time access_length  \\\n",
       "6617          1962.0       1200.0             0  3800.596206    1062.93535   \n",
       "\n",
       "      footpath_length  in_vehicle_length       length  price  \n",
       "6617              0.0            35415.0  36477.93535    5.0  \n",
       "\n",
       "[1 rows x 33 columns]"
      ]
     },
     "execution_count": 122,
     "metadata": {},
     "output_type": "execute_result"
    }
   ],
   "source": [
    "sm.pt_los.sample()"
   ]
  },
  {
   "cell_type": "markdown",
   "metadata": {},
   "source": [
    "## Save model"
   ]
  },
  {
   "cell_type": "code",
   "execution_count": 123,
   "metadata": {},
   "outputs": [],
   "source": [
    "sm.pt_los.reset_index(drop=True, inplace=True)"
   ]
  },
  {
   "cell_type": "code",
   "execution_count": 124,
   "metadata": {},
   "outputs": [
    {
     "name": "stderr",
     "output_type": "stream",
     "text": [
      "to_hdf(overwriting):  71%|███████   | 27/38 [01:12<00:14,  1.32s/it]"
     ]
    },
    {
     "name": "stdout",
     "output_type": "stream",
     "text": [
      "could not save geometry from table fare_rules\n",
      "could not save geometry from table fare_attributes\n",
      "could not save geometry from table mode_nests\n",
      "could not save geometry from table logit_scales\n",
      "could not save geometry from table utility_values\n"
     ]
    },
    {
     "name": "stderr",
     "output_type": "stream",
     "text": [
      "to_hdf(overwriting): 100%|██████████| 38/38 [01:16<00:00,  2.00s/it]\n"
     ]
    }
   ],
   "source": [
    "sm.to_json(model_path + 'los_tables')"
   ]
  }
 ],
 "metadata": {
  "kernelspec": {
   "display_name": "Python 3.8.12 ('quetzal_env')",
   "language": "python",
   "name": "python3"
  },
  "language_info": {
   "codemirror_mode": {
    "name": "ipython",
    "version": 3
   },
   "file_extension": ".py",
   "mimetype": "text/x-python",
   "name": "python",
   "nbconvert_exporter": "python",
   "pygments_lexer": "ipython3",
   "version": "3.8.12"
  },
  "vscode": {
   "interpreter": {
    "hash": "3cc4bcfe731f2ee019f386507748d81bde603c38f633cd56cfe2936f38177aa1"
   }
  }
 },
 "nbformat": 4,
 "nbformat_minor": 4
}
