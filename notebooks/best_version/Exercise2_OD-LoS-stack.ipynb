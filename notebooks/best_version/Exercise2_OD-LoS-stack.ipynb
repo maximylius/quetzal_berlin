{
 "cells": [
  {
   "cell_type": "code",
   "execution_count": 1,
   "metadata": {},
   "outputs": [
    {
     "name": "stdout",
     "output_type": "stream",
     "text": [
      "SQLalchemy is not installed. No support for SQL output.\n"
     ]
    }
   ],
   "source": [
    "import pandas as pd\n",
    "import geopandas as gpd\n",
    "import numpy as np\n",
    "from geopy.distance import geodesic\n",
    "from quetzal.model import stepmodel\n",
    "from quetzal.io.display import all_pt_paths, path, pt_path\n",
    "%matplotlib inline"
   ]
  },
  {
   "cell_type": "code",
   "execution_count": 2,
   "metadata": {},
   "outputs": [],
   "source": [
    "# Load the network model from the last exercise\n",
    "model_path = '../../model/'\n",
    "sm = stepmodel.read_json(model_path + 'network')"
   ]
  },
  {
   "cell_type": "code",
   "execution_count": 3,
   "metadata": {},
   "outputs": [
    {
     "name": "stdout",
     "output_type": "stream",
     "text": [
      "Fixing: ['checkpoint_links', 'loaded_links', 'links', 'road_links', 'footpaths', 'lines', 'networkcaster_neighbors', 'networkcaster_road_access', 'node_parenthood', 'road_to_transit', 'zone_to_transit', 'zone_to_road', 'checkpoint_nodes', 'loaded_nodes', 'nodes', 'road_nodes', 'centroids', 'disaggregated_nodes', 'micro_zones', 'zones', 'node_clusters']\n",
      "Successfully fixed.\n"
     ]
    }
   ],
   "source": [
    "# check for broken GeoDataFrames\n",
    "broken_gdf_keys = [key for key in sm.__dict__.keys() if type(sm.__dict__[key]) == pd.core.frame.DataFrame and 'geometry' in sm.__dict__[key].columns]\n",
    "print(\"Fixing:\", broken_gdf_keys)\n",
    "# fix broken GeoDataFrames\n",
    "for key in broken_gdf_keys:\n",
    "    sm.__dict__[key] = gpd.GeoDataFrame(sm.__dict__[key], crs=sm.epsg)\n",
    "broken_gdf_keys = [key for key in sm.__dict__.keys() if type(sm.__dict__[key]) == pd.core.frame.DataFrame and 'geometry' in sm.__dict__[key].columns]\n",
    "if len(broken_gdf_keys)>0:\n",
    "    print(\"Broken GeoDataFrames:\",broken_gdf_keys)\n",
    "else:\n",
    "    print(\"Successfully fixed.\")"
   ]
  },
  {
   "cell_type": "code",
   "execution_count": 4,
   "metadata": {},
   "outputs": [
    {
     "data": {
      "text/plain": [
       "97"
      ]
     },
     "execution_count": 4,
     "metadata": {},
     "output_type": "execute_result"
    }
   ],
   "source": [
    "# How many zones do we have?\n",
    "len(sm.zones)"
   ]
  },
  {
   "cell_type": "markdown",
   "metadata": {},
   "source": [
    "## Preparation of OD-times\n",
    "\n",
    "The pathfinders need a column \"time\" in the links or road_links tables to find the shortest paths. The PT pathfinder also applies a generalized boarding time (can be interpreted as a penalty for interchanging between transport carriers) and a waiting time, which is computed from the headway of PT carriers (waiting time equals half the headway (in seconds) assuming a randomly and evenly distributed arrival pattern of passengers on every PT stop)."
   ]
  },
  {
   "cell_type": "code",
   "execution_count": 5,
   "metadata": {},
   "outputs": [
    {
     "data": {
      "text/html": [
       "<div>\n",
       "<style scoped>\n",
       "    .dataframe tbody tr th:only-of-type {\n",
       "        vertical-align: middle;\n",
       "    }\n",
       "\n",
       "    .dataframe tbody tr th {\n",
       "        vertical-align: top;\n",
       "    }\n",
       "\n",
       "    .dataframe thead th {\n",
       "        text-align: right;\n",
       "    }\n",
       "</style>\n",
       "<table border=\"1\" class=\"dataframe\">\n",
       "  <thead>\n",
       "    <tr style=\"text-align: right;\">\n",
       "      <th></th>\n",
       "      <th>a</th>\n",
       "      <th>b</th>\n",
       "      <th>length</th>\n",
       "      <th>geometry</th>\n",
       "      <th>highway</th>\n",
       "      <th>maxspeed</th>\n",
       "    </tr>\n",
       "    <tr>\n",
       "      <th>index</th>\n",
       "      <th></th>\n",
       "      <th></th>\n",
       "      <th></th>\n",
       "      <th></th>\n",
       "      <th></th>\n",
       "      <th></th>\n",
       "    </tr>\n",
       "  </thead>\n",
       "  <tbody>\n",
       "    <tr>\n",
       "      <th>9434</th>\n",
       "      <td>27177314</td>\n",
       "      <td>26871427</td>\n",
       "      <td>93.843</td>\n",
       "      <td>LINESTRING (13.31325 52.56768, 13.31195 52.56798)</td>\n",
       "      <td>secondary</td>\n",
       "      <td>50</td>\n",
       "    </tr>\n",
       "  </tbody>\n",
       "</table>\n",
       "</div>"
      ],
      "text/plain": [
       "              a         b  length  \\\n",
       "index                               \n",
       "9434   27177314  26871427  93.843   \n",
       "\n",
       "                                                geometry    highway maxspeed  \n",
       "index                                                                         \n",
       "9434   LINESTRING (13.31325 52.56768, 13.31195 52.56798)  secondary       50  "
      ]
     },
     "execution_count": 5,
     "metadata": {},
     "output_type": "execute_result"
    }
   ],
   "source": [
    "sm.road_links.sample(1)"
   ]
  },
  {
   "cell_type": "code",
   "execution_count": 6,
   "metadata": {},
   "outputs": [
    {
     "data": {
      "text/html": [
       "<div>\n",
       "<style scoped>\n",
       "    .dataframe tbody tr th:only-of-type {\n",
       "        vertical-align: middle;\n",
       "    }\n",
       "\n",
       "    .dataframe tbody tr th {\n",
       "        vertical-align: top;\n",
       "    }\n",
       "\n",
       "    .dataframe thead th {\n",
       "        text-align: right;\n",
       "    }\n",
       "</style>\n",
       "<table border=\"1\" class=\"dataframe\">\n",
       "  <thead>\n",
       "    <tr style=\"text-align: right;\">\n",
       "      <th></th>\n",
       "      <th>trip_id</th>\n",
       "      <th>a</th>\n",
       "      <th>b</th>\n",
       "      <th>link_sequence</th>\n",
       "      <th>time</th>\n",
       "      <th>headway</th>\n",
       "      <th>pattern_id</th>\n",
       "      <th>route_id</th>\n",
       "      <th>service_id</th>\n",
       "      <th>direction_id</th>\n",
       "      <th>...</th>\n",
       "      <th>route_type</th>\n",
       "      <th>route_color</th>\n",
       "      <th>disaggregated_a</th>\n",
       "      <th>disaggregated_b</th>\n",
       "      <th>road_a</th>\n",
       "      <th>road_b</th>\n",
       "      <th>road_length</th>\n",
       "      <th>geometry</th>\n",
       "      <th>road_node_list</th>\n",
       "      <th>road_link_list</th>\n",
       "    </tr>\n",
       "    <tr>\n",
       "      <th>index</th>\n",
       "      <th></th>\n",
       "      <th></th>\n",
       "      <th></th>\n",
       "      <th></th>\n",
       "      <th></th>\n",
       "      <th></th>\n",
       "      <th></th>\n",
       "      <th></th>\n",
       "      <th></th>\n",
       "      <th></th>\n",
       "      <th></th>\n",
       "      <th></th>\n",
       "      <th></th>\n",
       "      <th></th>\n",
       "      <th></th>\n",
       "      <th></th>\n",
       "      <th></th>\n",
       "      <th></th>\n",
       "      <th></th>\n",
       "      <th></th>\n",
       "      <th></th>\n",
       "    </tr>\n",
       "  </thead>\n",
       "  <tbody>\n",
       "    <tr>\n",
       "      <th>link_13626</th>\n",
       "      <td>23414_700_0</td>\n",
       "      <td>n_777</td>\n",
       "      <td>n_476</td>\n",
       "      <td>4</td>\n",
       "      <td>120.0</td>\n",
       "      <td>1200</td>\n",
       "      <td>23414_700_0</td>\n",
       "      <td>23414_700</td>\n",
       "      <td>990</td>\n",
       "      <td>1</td>\n",
       "      <td>...</td>\n",
       "      <td>bus</td>\n",
       "      <td>None</td>\n",
       "      <td>node_de:11000:900054106::1</td>\n",
       "      <td>node_de:11000:900044204::1</td>\n",
       "      <td>26867844</td>\n",
       "      <td>3079819707</td>\n",
       "      <td>1357.72</td>\n",
       "      <td>LINESTRING (13.34489 52.48090, 13.34509 52.480...</td>\n",
       "      <td>[26867844, 26867843, 26867841, 125560338, 2686...</td>\n",
       "      <td>[78775, 7489, 7482, 78770, 7474, 7476, 7478, 7...</td>\n",
       "    </tr>\n",
       "  </tbody>\n",
       "</table>\n",
       "<p>1 rows × 21 columns</p>\n",
       "</div>"
      ],
      "text/plain": [
       "                trip_id      a      b  link_sequence   time  headway  \\\n",
       "index                                                                  \n",
       "link_13626  23414_700_0  n_777  n_476              4  120.0     1200   \n",
       "\n",
       "             pattern_id   route_id service_id  direction_id  ... route_type  \\\n",
       "index                                                        ...              \n",
       "link_13626  23414_700_0  23414_700        990             1  ...        bus   \n",
       "\n",
       "           route_color             disaggregated_a  \\\n",
       "index                                                \n",
       "link_13626        None  node_de:11000:900054106::1   \n",
       "\n",
       "                       disaggregated_b    road_a      road_b road_length  \\\n",
       "index                                                                      \n",
       "link_13626  node_de:11000:900044204::1  26867844  3079819707     1357.72   \n",
       "\n",
       "                                                     geometry  \\\n",
       "index                                                           \n",
       "link_13626  LINESTRING (13.34489 52.48090, 13.34509 52.480...   \n",
       "\n",
       "                                               road_node_list  \\\n",
       "index                                                           \n",
       "link_13626  [26867844, 26867843, 26867841, 125560338, 2686...   \n",
       "\n",
       "                                               road_link_list  \n",
       "index                                                          \n",
       "link_13626  [78775, 7489, 7482, 78770, 7474, 7476, 7478, 7...  \n",
       "\n",
       "[1 rows x 21 columns]"
      ]
     },
     "execution_count": 6,
     "metadata": {},
     "output_type": "execute_result"
    }
   ],
   "source": [
    "sm.links.sample(1)"
   ]
  },
  {
   "cell_type": "code",
   "execution_count": 7,
   "metadata": {},
   "outputs": [
    {
     "name": "stderr",
     "output_type": "stream",
     "text": [
      "nearest_link: 100%|██████████| 3855/3855 [00:00<00:00, 70131.87it/s]\n",
      "17536_700_1: 100%|██████████| 370/370 [01:26<00:00,  4.30it/s]\n"
     ]
    }
   ],
   "source": [
    "# We don't see any length column in our links,\n",
    "# but it is nice for calculating speeds and for later steps.\n",
    "# We can cast the PT network onto the road network (as in A40)\n",
    "# Start with the bus links\n",
    "bus = sm.copy() # copy the whole model\n",
    "bus.links = bus.links.loc[bus.links['route_type'].isin(['bus'])] # Filter\n",
    "# Apply quetzal's casting function\n",
    "bus.preparation_cast_network(\n",
    "    nearest_method='nodes',\n",
    "    n_neighbors_centroid=5, \n",
    "    n_neighbors=5, \n",
    "    penalty_factor=2,\n",
    "    replace_nodes=False\n",
    ")"
   ]
  },
  {
   "cell_type": "code",
   "execution_count": 8,
   "metadata": {},
   "outputs": [
    {
     "data": {
      "text/html": [
       "<div>\n",
       "<style scoped>\n",
       "    .dataframe tbody tr th:only-of-type {\n",
       "        vertical-align: middle;\n",
       "    }\n",
       "\n",
       "    .dataframe tbody tr th {\n",
       "        vertical-align: top;\n",
       "    }\n",
       "\n",
       "    .dataframe thead th {\n",
       "        text-align: right;\n",
       "    }\n",
       "</style>\n",
       "<table border=\"1\" class=\"dataframe\">\n",
       "  <thead>\n",
       "    <tr style=\"text-align: right;\">\n",
       "      <th></th>\n",
       "      <th>trip_id</th>\n",
       "      <th>a</th>\n",
       "      <th>b</th>\n",
       "      <th>link_sequence</th>\n",
       "      <th>time</th>\n",
       "      <th>headway</th>\n",
       "      <th>pattern_id</th>\n",
       "      <th>route_id</th>\n",
       "      <th>service_id</th>\n",
       "      <th>direction_id</th>\n",
       "      <th>...</th>\n",
       "      <th>route_type</th>\n",
       "      <th>route_color</th>\n",
       "      <th>disaggregated_a</th>\n",
       "      <th>disaggregated_b</th>\n",
       "      <th>road_a</th>\n",
       "      <th>road_b</th>\n",
       "      <th>road_node_list</th>\n",
       "      <th>road_link_list</th>\n",
       "      <th>road_length</th>\n",
       "      <th>geometry</th>\n",
       "    </tr>\n",
       "    <tr>\n",
       "      <th>index</th>\n",
       "      <th></th>\n",
       "      <th></th>\n",
       "      <th></th>\n",
       "      <th></th>\n",
       "      <th></th>\n",
       "      <th></th>\n",
       "      <th></th>\n",
       "      <th></th>\n",
       "      <th></th>\n",
       "      <th></th>\n",
       "      <th></th>\n",
       "      <th></th>\n",
       "      <th></th>\n",
       "      <th></th>\n",
       "      <th></th>\n",
       "      <th></th>\n",
       "      <th></th>\n",
       "      <th></th>\n",
       "      <th></th>\n",
       "      <th></th>\n",
       "      <th></th>\n",
       "    </tr>\n",
       "  </thead>\n",
       "  <tbody>\n",
       "    <tr>\n",
       "      <th>link_1641</th>\n",
       "      <td>17300_700_2</td>\n",
       "      <td>n_341</td>\n",
       "      <td>n_466</td>\n",
       "      <td>5</td>\n",
       "      <td>60.0</td>\n",
       "      <td>1200</td>\n",
       "      <td>17300_700_2</td>\n",
       "      <td>17300_700</td>\n",
       "      <td>990</td>\n",
       "      <td>0</td>\n",
       "      <td>...</td>\n",
       "      <td>bus</td>\n",
       "      <td>None</td>\n",
       "      <td>node_de:11000:900050301::1</td>\n",
       "      <td>node_de:11000:900050352::1</td>\n",
       "      <td>29808715</td>\n",
       "      <td>272446729</td>\n",
       "      <td>[29808715, 29808705, 29808711, 27252358, 27252...</td>\n",
       "      <td>[89486, 89494, 21071, 10089, 10088, 2024, 6654...</td>\n",
       "      <td>1160.471</td>\n",
       "      <td>LINESTRING (13.23392 52.43616, 13.23459 52.433...</td>\n",
       "    </tr>\n",
       "  </tbody>\n",
       "</table>\n",
       "<p>1 rows × 21 columns</p>\n",
       "</div>"
      ],
      "text/plain": [
       "               trip_id      a      b  link_sequence  time  headway  \\\n",
       "index                                                                \n",
       "link_1641  17300_700_2  n_341  n_466              5  60.0     1200   \n",
       "\n",
       "            pattern_id   route_id service_id  direction_id  ... route_type  \\\n",
       "index                                                       ...              \n",
       "link_1641  17300_700_2  17300_700        990             0  ...        bus   \n",
       "\n",
       "          route_color             disaggregated_a             disaggregated_b  \\\n",
       "index                                                                           \n",
       "link_1641        None  node_de:11000:900050301::1  node_de:11000:900050352::1   \n",
       "\n",
       "             road_a     road_b  \\\n",
       "index                            \n",
       "link_1641  29808715  272446729   \n",
       "\n",
       "                                              road_node_list  \\\n",
       "index                                                          \n",
       "link_1641  [29808715, 29808705, 29808711, 27252358, 27252...   \n",
       "\n",
       "                                              road_link_list road_length  \\\n",
       "index                                                                      \n",
       "link_1641  [89486, 89494, 21071, 10089, 10088, 2024, 6654...    1160.471   \n",
       "\n",
       "                                                    geometry  \n",
       "index                                                         \n",
       "link_1641  LINESTRING (13.23392 52.43616, 13.23459 52.433...  \n",
       "\n",
       "[1 rows x 21 columns]"
      ]
     },
     "execution_count": 8,
     "metadata": {},
     "output_type": "execute_result"
    }
   ],
   "source": [
    "bus.links.sample()"
   ]
  },
  {
   "cell_type": "code",
   "execution_count": 9,
   "metadata": {},
   "outputs": [],
   "source": [
    "# Now take the road_length of casted model as the length of our genuine model\n",
    "sm.links['length'] = np.nan # create a new column with default values\n",
    "sm.links.loc[sm.links['route_type'].isin(['bus']),\n",
    "             'length'] = bus.links['road_length']"
   ]
  },
  {
   "cell_type": "code",
   "execution_count": 10,
   "metadata": {},
   "outputs": [],
   "source": [
    "# For rail links, we can assign the geometric distance\n",
    "sm.links.loc[sm.links['length'].isna(), 'length'] = \\\n",
    "    sm.links.loc[sm.links['length'].isna(), 'geometry'].apply(\n",
    "        lambda l: int(geodesic(l.coords[0], l.coords[-1]).m))\n",
    "# Take the geometric line and from it the start and end points, then calculate the meter distance in between"
   ]
  },
  {
   "cell_type": "code",
   "execution_count": 11,
   "metadata": {},
   "outputs": [
    {
     "name": "stdout",
     "output_type": "stream",
     "text": [
      "bus_speed = 10.743999183772182 m / s\n"
     ]
    }
   ],
   "source": [
    "# You can calculate the average bus operation speed\n",
    "bus = sm.links.loc[sm.links['route_type'] == 'bus'] # filter\n",
    "bus_lines = bus.groupby('route_id')[['time', 'length']].sum() # sum up time and length for each route\n",
    "bus_speed = bus['length'].sum() / bus['time'].sum() # operation speed\n",
    "print('bus_speed =', bus_speed, 'm / s')"
   ]
  },
  {
   "cell_type": "code",
   "execution_count": 12,
   "metadata": {},
   "outputs": [],
   "source": [
    "# Create the time LoS column for cars (it's already there for PT from the GTFS feeds)\n",
    "car_speed = bus_speed * 1.25\n",
    "sm.road_links['time'] = sm.road_links['length'] / car_speed # m/s"
   ]
  },
  {
   "cell_type": "code",
   "execution_count": 13,
   "metadata": {},
   "outputs": [],
   "source": [
    "# If we want to compute walking paths on road links, we need a time for that to\n",
    "sm.road_links['walk_time'] = sm.road_links['time'] * 3 # walk three times slower than car"
   ]
  },
  {
   "cell_type": "markdown",
   "metadata": {},
   "source": [
    "## Pathfinding\n",
    "\n",
    "Next, we want to create a table of OD-relations for different modes, each, being representative for the performance of a specific mode on a specific OD pair.\n",
    "\n",
    "Quetzal has multiple options for path finding, seperated into one function wrapper for road and one for PT. They create the `car_los` and `pt_los tables`, respectively.\n",
    "\n",
    "For road transport, quetzal can simply compute one shortest path per OD pair or multiple ones if you had the capacities and volumes already saved in the model (comes from the assignment step at the very end). So, we just compute one path for now (`all_or_nothing=True`)\n",
    "\n",
    "The PT pathfinder has two relevant attributes: `broken_modes` and `broken_routes`. If both are `False`, the pathfinder just searches for the shortest path between every OD pair, considering all PT modes and routes. If `broken_modes=True`, the pathfinder searches shortest paths for every possible mode combination. If `broken_routes=True`, the pathfinder searches shortest paths for every possible route combination. \n",
    "Additionally you can decide whether walking connections shall be done on roadsides or not with the `walk_on_road` parameter (question of computation time)."
   ]
  },
  {
   "cell_type": "markdown",
   "metadata": {},
   "source": [
    "### Car"
   ]
  },
  {
   "cell_type": "code",
   "execution_count": 14,
   "metadata": {},
   "outputs": [],
   "source": [
    "# Simple road pathfinder\n",
    "sm.step_road_pathfinder(all_or_nothing=True)"
   ]
  },
  {
   "cell_type": "code",
   "execution_count": 15,
   "metadata": {},
   "outputs": [
    {
     "data": {
      "text/plain": [
       "9409"
      ]
     },
     "execution_count": 15,
     "metadata": {},
     "output_type": "execute_result"
    }
   ],
   "source": [
    "len(sm.car_los)"
   ]
  },
  {
   "cell_type": "code",
   "execution_count": 16,
   "metadata": {},
   "outputs": [
    {
     "data": {
      "text/html": [
       "<div>\n",
       "<style scoped>\n",
       "    .dataframe tbody tr th:only-of-type {\n",
       "        vertical-align: middle;\n",
       "    }\n",
       "\n",
       "    .dataframe tbody tr th {\n",
       "        vertical-align: top;\n",
       "    }\n",
       "\n",
       "    .dataframe thead th {\n",
       "        text-align: right;\n",
       "    }\n",
       "</style>\n",
       "<table border=\"1\" class=\"dataframe\">\n",
       "  <thead>\n",
       "    <tr style=\"text-align: right;\">\n",
       "      <th></th>\n",
       "      <th>origin</th>\n",
       "      <th>destination</th>\n",
       "      <th>time</th>\n",
       "      <th>path</th>\n",
       "      <th>node_path</th>\n",
       "      <th>link_path</th>\n",
       "      <th>ntlegs</th>\n",
       "    </tr>\n",
       "  </thead>\n",
       "  <tbody>\n",
       "    <tr>\n",
       "      <th>6636</th>\n",
       "      <td>zone_70</td>\n",
       "      <td>zone_45</td>\n",
       "      <td>1288.455491</td>\n",
       "      <td>[zone_70, 297936644, 245933524, 247444910, 245...</td>\n",
       "      <td>[297936644, 245933524, 247444910, 245933594, 2...</td>\n",
       "      <td>[110195, 110582, 110208, 110201, 92298, 92264,...</td>\n",
       "      <td>[(zone_70, 297936644), (5130967660, zone_45)]</td>\n",
       "    </tr>\n",
       "  </tbody>\n",
       "</table>\n",
       "</div>"
      ],
      "text/plain": [
       "       origin destination         time  \\\n",
       "6636  zone_70     zone_45  1288.455491   \n",
       "\n",
       "                                                   path  \\\n",
       "6636  [zone_70, 297936644, 245933524, 247444910, 245...   \n",
       "\n",
       "                                              node_path  \\\n",
       "6636  [297936644, 245933524, 247444910, 245933594, 2...   \n",
       "\n",
       "                                              link_path  \\\n",
       "6636  [110195, 110582, 110208, 110201, 92298, 92264,...   \n",
       "\n",
       "                                             ntlegs  \n",
       "6636  [(zone_70, 297936644), (5130967660, zone_45)]  "
      ]
     },
     "execution_count": 16,
     "metadata": {},
     "output_type": "execute_result"
    }
   ],
   "source": [
    "sm.car_los.sample()"
   ]
  },
  {
   "cell_type": "code",
   "execution_count": 17,
   "metadata": {},
   "outputs": [],
   "source": [
    "# Assign a length to LoS table\n",
    "# Create a dictionary of road link lengths\n",
    "len_dict = sm.road_links['length'].to_dict()\n",
    "# Apply it to the link path column (sum up all links for each path)\n",
    "sm.car_los['length'] = sm.car_los['link_path'].apply(\n",
    "    lambda l: sum([len_dict[i] for i in l]))"
   ]
  },
  {
   "cell_type": "code",
   "execution_count": 18,
   "metadata": {},
   "outputs": [],
   "source": [
    "# add the route type for sake of consistency\n",
    "sm.analysis_car_route_type()"
   ]
  },
  {
   "cell_type": "code",
   "execution_count": 19,
   "metadata": {},
   "outputs": [
    {
     "data": {
      "text/html": [
       "<div>\n",
       "<style scoped>\n",
       "    .dataframe tbody tr th:only-of-type {\n",
       "        vertical-align: middle;\n",
       "    }\n",
       "\n",
       "    .dataframe tbody tr th {\n",
       "        vertical-align: top;\n",
       "    }\n",
       "\n",
       "    .dataframe thead th {\n",
       "        text-align: right;\n",
       "    }\n",
       "</style>\n",
       "<table border=\"1\" class=\"dataframe\">\n",
       "  <thead>\n",
       "    <tr style=\"text-align: right;\">\n",
       "      <th></th>\n",
       "      <th>origin</th>\n",
       "      <th>destination</th>\n",
       "      <th>time</th>\n",
       "      <th>path</th>\n",
       "      <th>node_path</th>\n",
       "      <th>link_path</th>\n",
       "      <th>ntlegs</th>\n",
       "      <th>length</th>\n",
       "      <th>route_types</th>\n",
       "      <th>route_type</th>\n",
       "    </tr>\n",
       "  </thead>\n",
       "  <tbody>\n",
       "    <tr>\n",
       "      <th>2803</th>\n",
       "      <td>zone_34</td>\n",
       "      <td>zone_88</td>\n",
       "      <td>2419.629306</td>\n",
       "      <td>[zone_34, 1518864805, 29122670, 29654550, 1518...</td>\n",
       "      <td>[1518864805, 29122670, 29654550, 1518864812, 2...</td>\n",
       "      <td>[59701, 15198, 18130, 59703, 95328, 84658, 132...</td>\n",
       "      <td>[(zone_34, 1518864805), (52281583, zone_88)]</td>\n",
       "      <td>26197.703</td>\n",
       "      <td>(car,)</td>\n",
       "      <td>car</td>\n",
       "    </tr>\n",
       "  </tbody>\n",
       "</table>\n",
       "</div>"
      ],
      "text/plain": [
       "       origin destination         time  \\\n",
       "2803  zone_34     zone_88  2419.629306   \n",
       "\n",
       "                                                   path  \\\n",
       "2803  [zone_34, 1518864805, 29122670, 29654550, 1518...   \n",
       "\n",
       "                                              node_path  \\\n",
       "2803  [1518864805, 29122670, 29654550, 1518864812, 2...   \n",
       "\n",
       "                                              link_path  \\\n",
       "2803  [59701, 15198, 18130, 59703, 95328, 84658, 132...   \n",
       "\n",
       "                                            ntlegs     length route_types  \\\n",
       "2803  [(zone_34, 1518864805), (52281583, zone_88)]  26197.703      (car,)   \n",
       "\n",
       "     route_type  \n",
       "2803        car  "
      ]
     },
     "execution_count": 19,
     "metadata": {},
     "output_type": "execute_result"
    }
   ],
   "source": [
    "sm.car_los.sample()"
   ]
  },
  {
   "cell_type": "markdown",
   "metadata": {},
   "source": [
    "### PT"
   ]
  },
  {
   "cell_type": "code",
   "execution_count": 20,
   "metadata": {},
   "outputs": [
    {
     "name": "stderr",
     "output_type": "stream",
     "text": [
      "path_analysis: 100%|██████████| 9313/9313 [00:00<00:00, 22896.18it/s]\n"
     ]
    }
   ],
   "source": [
    "# Simple PT\n",
    "sm.step_pt_pathfinder(broken_modes=False, broken_routes=False, walk_on_road=False)"
   ]
  },
  {
   "cell_type": "code",
   "execution_count": 21,
   "metadata": {},
   "outputs": [
    {
     "data": {
      "text/plain": [
       "9313"
      ]
     },
     "execution_count": 21,
     "metadata": {},
     "output_type": "execute_result"
    }
   ],
   "source": [
    "len(sm.pt_los)"
   ]
  },
  {
   "cell_type": "code",
   "execution_count": 22,
   "metadata": {},
   "outputs": [
    {
     "data": {
      "text/html": [
       "<div>\n",
       "<style scoped>\n",
       "    .dataframe tbody tr th:only-of-type {\n",
       "        vertical-align: middle;\n",
       "    }\n",
       "\n",
       "    .dataframe tbody tr th {\n",
       "        vertical-align: top;\n",
       "    }\n",
       "\n",
       "    .dataframe thead th {\n",
       "        text-align: right;\n",
       "    }\n",
       "</style>\n",
       "<table border=\"1\" class=\"dataframe\">\n",
       "  <thead>\n",
       "    <tr style=\"text-align: right;\">\n",
       "      <th></th>\n",
       "      <th>origin</th>\n",
       "      <th>destination</th>\n",
       "      <th>gtime</th>\n",
       "      <th>path</th>\n",
       "      <th>pathfinder_session</th>\n",
       "      <th>reversed</th>\n",
       "      <th>boardings</th>\n",
       "      <th>alightings</th>\n",
       "      <th>node_path</th>\n",
       "      <th>link_path</th>\n",
       "      <th>footpaths</th>\n",
       "      <th>ntlegs</th>\n",
       "      <th>transfers</th>\n",
       "      <th>boarding_links</th>\n",
       "      <th>alighting_links</th>\n",
       "      <th>all_walk</th>\n",
       "      <th>ntransfers</th>\n",
       "      <th>time_link_path</th>\n",
       "      <th>length_link_path</th>\n",
       "    </tr>\n",
       "  </thead>\n",
       "  <tbody>\n",
       "    <tr>\n",
       "      <th>2042</th>\n",
       "      <td>zone_28</td>\n",
       "      <td>zone_13</td>\n",
       "      <td>2004.581943</td>\n",
       "      <td>(zone_28, n_621, link_89, link_90, link_91, li...</td>\n",
       "      <td>best_path</td>\n",
       "      <td>False</td>\n",
       "      <td>[n_621, n_495]</td>\n",
       "      <td>[n_495, n_246]</td>\n",
       "      <td>[n_621, n_495, n_246]</td>\n",
       "      <td>[link_89, link_90, link_91, link_92, link_93, ...</td>\n",
       "      <td>[]</td>\n",
       "      <td>[(zone_28, n_621), (n_246, zone_13)]</td>\n",
       "      <td>[n_495]</td>\n",
       "      <td>[link_89, link_12176]</td>\n",
       "      <td>[link_94, link_12176]</td>\n",
       "      <td>False</td>\n",
       "      <td>1</td>\n",
       "      <td>660.0</td>\n",
       "      <td>13224.0</td>\n",
       "    </tr>\n",
       "  </tbody>\n",
       "</table>\n",
       "</div>"
      ],
      "text/plain": [
       "       origin destination        gtime  \\\n",
       "2042  zone_28     zone_13  2004.581943   \n",
       "\n",
       "                                                   path pathfinder_session  \\\n",
       "2042  (zone_28, n_621, link_89, link_90, link_91, li...          best_path   \n",
       "\n",
       "      reversed       boardings      alightings              node_path  \\\n",
       "2042     False  [n_621, n_495]  [n_495, n_246]  [n_621, n_495, n_246]   \n",
       "\n",
       "                                              link_path footpaths  \\\n",
       "2042  [link_89, link_90, link_91, link_92, link_93, ...        []   \n",
       "\n",
       "                                    ntlegs transfers         boarding_links  \\\n",
       "2042  [(zone_28, n_621), (n_246, zone_13)]   [n_495]  [link_89, link_12176]   \n",
       "\n",
       "            alighting_links  all_walk  ntransfers  time_link_path  \\\n",
       "2042  [link_94, link_12176]     False           1           660.0   \n",
       "\n",
       "      length_link_path  \n",
       "2042           13224.0  "
      ]
     },
     "execution_count": 22,
     "metadata": {},
     "output_type": "execute_result"
    }
   ],
   "source": [
    "sm.pt_los.sample()"
   ]
  },
  {
   "cell_type": "code",
   "execution_count": 23,
   "metadata": {},
   "outputs": [
    {
     "data": {
      "text/plain": [
       "Index(['origin', 'destination', 'gtime', 'path', 'pathfinder_session',\n",
       "       'reversed', 'boardings', 'alightings', 'node_path', 'link_path',\n",
       "       'footpaths', 'ntlegs', 'transfers', 'boarding_links', 'alighting_links',\n",
       "       'all_walk', 'ntransfers', 'time_link_path', 'length_link_path'],\n",
       "      dtype='object')"
      ]
     },
     "execution_count": 23,
     "metadata": {},
     "output_type": "execute_result"
    }
   ],
   "source": [
    "sm.pt_los.columns"
   ]
  },
  {
   "cell_type": "code",
   "execution_count": 24,
   "metadata": {},
   "outputs": [
    {
     "data": {
      "text/plain": [
       "array(['bus', 'rail', 'tram', 'subway'], dtype=object)"
      ]
     },
     "execution_count": 24,
     "metadata": {},
     "output_type": "execute_result"
    }
   ],
   "source": [
    "sm.links['route_type'].unique()"
   ]
  },
  {
   "cell_type": "code",
   "execution_count": 25,
   "metadata": {},
   "outputs": [],
   "source": [
    "# Add route types to the paths\n",
    "# The mode that appears first in the hierarchy is assigned as\n",
    "# main mode, if there is more than one route_type used on the path\n",
    "hierarchy = ['rail', 'subway', 'funicular', 'tram', 'bus']\n",
    "sm.analysis_pt_route_type(hierarchy)"
   ]
  },
  {
   "cell_type": "code",
   "execution_count": 26,
   "metadata": {},
   "outputs": [
    {
     "data": {
      "text/plain": [
       "array([[<AxesSubplot:title={'center':'ntransfers'}>]], dtype=object)"
      ]
     },
     "execution_count": 26,
     "metadata": {},
     "output_type": "execute_result"
    },
    {
     "data": {
      "image/png": "[encoded data removed]",
      "text/plain": [
       "<Figure size 216x216 with 1 Axes>"
      ]
     },
     "metadata": {
      "needs_background": "light"
     },
     "output_type": "display_data"
    }
   ],
   "source": [
    "# How many transfers do we have?\n",
    "sm.pt_los.hist(column='ntransfers', bins=6, figsize=(3,3))"
   ]
  },
  {
   "cell_type": "code",
   "execution_count": 27,
   "metadata": {},
   "outputs": [
    {
     "data": {
      "text/plain": [
       "<AxesSubplot:xlabel='route_types'>"
      ]
     },
     "execution_count": 27,
     "metadata": {},
     "output_type": "execute_result"
    },
    {
     "data": {
      "image/png": "[encoded data removed]",
      "text/plain": [
       "<Figure size 432x288 with 1 Axes>"
      ]
     },
     "metadata": {
      "needs_background": "light"
     },
     "output_type": "display_data"
    }
   ],
   "source": [
    "# How many connections do we have per mode combination in the shortest paths?\n",
    "sm.pt_los['route_types'] = sm.pt_los['route_types'].apply(tuple) # bugfix\n",
    "sm.pt_los.groupby('route_types').count()['route_type'].plot(kind='bar')"
   ]
  },
  {
   "cell_type": "code",
   "execution_count": 28,
   "metadata": {},
   "outputs": [
    {
     "name": "stderr",
     "output_type": "stream",
     "text": [
      "breaking modes: set() : 100%|██████████| 16/16 [00:08<00:00,  1.88it/s]                    \n",
      "path_analysis: 100%|██████████| 66065/66065 [00:02<00:00, 23639.00it/s]\n"
     ]
    }
   ],
   "source": [
    "# Now, let's look at the results when we disaggregate paths by route_type\n",
    "sm.step_pt_pathfinder(broken_modes=True, broken_routes=False, walk_on_road=False)"
   ]
  },
  {
   "cell_type": "code",
   "execution_count": 29,
   "metadata": {},
   "outputs": [
    {
     "data": {
      "text/plain": [
       "66065"
      ]
     },
     "execution_count": 29,
     "metadata": {},
     "output_type": "execute_result"
    }
   ],
   "source": [
    "# How many paths do we have now compared to 12,100 before?\n",
    "len(sm.pt_los)"
   ]
  },
  {
   "cell_type": "code",
   "execution_count": 30,
   "metadata": {},
   "outputs": [
    {
     "data": {
      "text/html": [
       "<div>\n",
       "<style scoped>\n",
       "    .dataframe tbody tr th:only-of-type {\n",
       "        vertical-align: middle;\n",
       "    }\n",
       "\n",
       "    .dataframe tbody tr th {\n",
       "        vertical-align: top;\n",
       "    }\n",
       "\n",
       "    .dataframe thead th {\n",
       "        text-align: right;\n",
       "    }\n",
       "</style>\n",
       "<table border=\"1\" class=\"dataframe\">\n",
       "  <thead>\n",
       "    <tr style=\"text-align: right;\">\n",
       "      <th></th>\n",
       "      <th>origin</th>\n",
       "      <th>destination</th>\n",
       "      <th>gtime</th>\n",
       "      <th>path</th>\n",
       "      <th>reversed</th>\n",
       "      <th>pathfinder_session</th>\n",
       "      <th>broken_modes</th>\n",
       "      <th>boardings</th>\n",
       "      <th>alightings</th>\n",
       "      <th>node_path</th>\n",
       "      <th>...</th>\n",
       "      <th>ntlegs</th>\n",
       "      <th>transfers</th>\n",
       "      <th>boarding_links</th>\n",
       "      <th>alighting_links</th>\n",
       "      <th>all_walk</th>\n",
       "      <th>ntransfers</th>\n",
       "      <th>time_link_path</th>\n",
       "      <th>length_link_path</th>\n",
       "      <th>route_types</th>\n",
       "      <th>route_type</th>\n",
       "    </tr>\n",
       "  </thead>\n",
       "  <tbody>\n",
       "    <tr>\n",
       "      <th>6772</th>\n",
       "      <td>zone_71</td>\n",
       "      <td>zone_80</td>\n",
       "      <td>2448.846669</td>\n",
       "      <td>(zone_71, n_74, link_341, link_342, link_343, ...</td>\n",
       "      <td>False</td>\n",
       "      <td>mode_breaker</td>\n",
       "      <td>{subway}</td>\n",
       "      <td>[n_74, n_43]</td>\n",
       "      <td>[n_43, n_176]</td>\n",
       "      <td>[n_74, n_43, n_176]</td>\n",
       "      <td>...</td>\n",
       "      <td>[(zone_71, n_74), (n_176, zone_80)]</td>\n",
       "      <td>[n_43]</td>\n",
       "      <td>[link_341, link_7765]</td>\n",
       "      <td>[link_346, link_7774]</td>\n",
       "      <td>False</td>\n",
       "      <td>1</td>\n",
       "      <td>1128.0</td>\n",
       "      <td>19273.647</td>\n",
       "      <td>(bus, rail)</td>\n",
       "      <td>rail</td>\n",
       "    </tr>\n",
       "  </tbody>\n",
       "</table>\n",
       "<p>1 rows × 22 columns</p>\n",
       "</div>"
      ],
      "text/plain": [
       "       origin destination        gtime  \\\n",
       "6772  zone_71     zone_80  2448.846669   \n",
       "\n",
       "                                                   path  reversed  \\\n",
       "6772  (zone_71, n_74, link_341, link_342, link_343, ...     False   \n",
       "\n",
       "     pathfinder_session broken_modes     boardings     alightings  \\\n",
       "6772       mode_breaker     {subway}  [n_74, n_43]  [n_43, n_176]   \n",
       "\n",
       "                node_path  ...                               ntlegs transfers  \\\n",
       "6772  [n_74, n_43, n_176]  ...  [(zone_71, n_74), (n_176, zone_80)]    [n_43]   \n",
       "\n",
       "             boarding_links        alighting_links all_walk ntransfers  \\\n",
       "6772  [link_341, link_7765]  [link_346, link_7774]    False          1   \n",
       "\n",
       "      time_link_path  length_link_path  route_types  route_type  \n",
       "6772          1128.0         19273.647  (bus, rail)        rail  \n",
       "\n",
       "[1 rows x 22 columns]"
      ]
     },
     "execution_count": 30,
     "metadata": {},
     "output_type": "execute_result"
    }
   ],
   "source": [
    "sm.analysis_pt_route_type(hierarchy)\n",
    "sm.pt_los.sample()"
   ]
  },
  {
   "cell_type": "code",
   "execution_count": 31,
   "metadata": {},
   "outputs": [
    {
     "data": {
      "text/plain": [
       "<AxesSubplot:xlabel='route_types'>"
      ]
     },
     "execution_count": 31,
     "metadata": {},
     "output_type": "execute_result"
    },
    {
     "data": {
      "image/png": "[encoded data removed]",
      "text/plain": [
       "<Figure size 432x288 with 1 Axes>"
      ]
     },
     "metadata": {
      "needs_background": "light"
     },
     "output_type": "display_data"
    }
   ],
   "source": [
    "sm.pt_los['route_types'] = sm.pt_los['route_types'].apply(tuple) # bugfix\n",
    "sm.pt_los.groupby('route_types').count()['route_type'].plot(kind='bar')"
   ]
  },
  {
   "cell_type": "code",
   "execution_count": 32,
   "metadata": {},
   "outputs": [
    {
     "data": {
      "text/plain": [
       "array([[<AxesSubplot:title={'center':'ntransfers'}>]], dtype=object)"
      ]
     },
     "execution_count": 32,
     "metadata": {},
     "output_type": "execute_result"
    },
    {
     "data": {
      "image/png": "[encoded data removed]",
      "text/plain": [
       "<Figure size 216x216 with 1 Axes>"
      ]
     },
     "metadata": {
      "needs_background": "light"
     },
     "output_type": "display_data"
    }
   ],
   "source": [
    "# How many transfers do we have?\n",
    "sm.pt_los.hist(column='ntransfers', bins=6, figsize=(3,3))"
   ]
  },
  {
   "cell_type": "code",
   "execution_count": 33,
   "metadata": {},
   "outputs": [],
   "source": [
    "# Compute time attribute (from link path and footpaths and access links)\n",
    "sm.analysis_pt_time()"
   ]
  },
  {
   "cell_type": "code",
   "execution_count": 34,
   "metadata": {},
   "outputs": [
    {
     "data": {
      "text/html": [
       "<div>\n",
       "<style scoped>\n",
       "    .dataframe tbody tr th:only-of-type {\n",
       "        vertical-align: middle;\n",
       "    }\n",
       "\n",
       "    .dataframe tbody tr th {\n",
       "        vertical-align: top;\n",
       "    }\n",
       "\n",
       "    .dataframe thead th {\n",
       "        text-align: right;\n",
       "    }\n",
       "</style>\n",
       "<table border=\"1\" class=\"dataframe\">\n",
       "  <thead>\n",
       "    <tr style=\"text-align: right;\">\n",
       "      <th></th>\n",
       "      <th>route_types</th>\n",
       "      <th>time</th>\n",
       "      <th>ntransfers</th>\n",
       "    </tr>\n",
       "  </thead>\n",
       "  <tbody>\n",
       "  </tbody>\n",
       "</table>\n",
       "</div>"
      ],
      "text/plain": [
       "Empty DataFrame\n",
       "Columns: [route_types, time, ntransfers]\n",
       "Index: []"
      ]
     },
     "execution_count": 34,
     "metadata": {},
     "output_type": "execute_result"
    }
   ],
   "source": [
    "# Closer look at one OD pair\n",
    "sm.pt_los.loc[(sm.pt_los['origin']=='zone_11') & (sm.pt_los['destination']=='zone_99')][\n",
    "    ['route_types', 'time', 'ntransfers']]"
   ]
  },
  {
   "cell_type": "code",
   "execution_count": 35,
   "metadata": {},
   "outputs": [
    {
     "name": "stderr",
     "output_type": "stream",
     "text": [
      "Reprojecting model from epsg 4326 to epsg 3857: 100%|██████████| 38/38 [00:02<00:00, 13.83it/s]\n",
      "100%|██████████| 10/10 [00:29<00:00,  2.98s/it]\n"
     ]
    },
    {
     "data": {
      "image/png": "[encoded data removed]",
      "text/plain": [
       "<Figure size 1012.91x120.928 with 10 Axes>"
      ]
     },
     "metadata": {},
     "output_type": "display_data"
    }
   ],
   "source": [
    "# Plot\n",
    "plot = sm.change_epsg(3857, coordinates_unit=sm.coordinates_unit)\n",
    "plot.links['color'] = '#' + plot.links['route_color']\n",
    "fig, axes = plot.plot_separated_paths(\n",
    "    'zone_77', 'zone_67', rows=1, figsize=[16, 16],\n",
    "    title=None, constrained_layout=True, zoom=13, resize=True,\n",
    "    basemap_url='http://a.basemaps.cartocdn.com/light_nolabels/tileZ/tileX/tileY.png', \n",
    ")"
   ]
  },
  {
   "cell_type": "code",
   "execution_count": 36,
   "metadata": {},
   "outputs": [],
   "source": [
    "# Assign a length to LoS table\n",
    "sm.analysis_pt_length()"
   ]
  },
  {
   "cell_type": "code",
   "execution_count": 37,
   "metadata": {},
   "outputs": [
    {
     "data": {
      "text/plain": [
       "<AxesSubplot:>"
      ]
     },
     "execution_count": 37,
     "metadata": {},
     "output_type": "execute_result"
    },
    {
     "data": {
      "image/png": "[encoded data removed]",
      "text/plain": [
       "<Figure size 216x216 with 1 Axes>"
      ]
     },
     "metadata": {
      "needs_background": "light"
     },
     "output_type": "display_data"
    }
   ],
   "source": [
    "# Length distribution\n",
    "sm.pt_los['length'].hist(bins=20, figsize=(3,3))"
   ]
  },
  {
   "cell_type": "code",
   "execution_count": 38,
   "metadata": {},
   "outputs": [
    {
     "data": {
      "image/png": "[encoded data removed]",
      "text/plain": [
       "<Figure size 360x360 with 1 Axes>"
      ]
     },
     "metadata": {
      "needs_background": "light"
     },
     "output_type": "display_data"
    }
   ],
   "source": [
    "# Dependency between distance and time\n",
    "mask = sm.pt_los['origin']!=sm.pt_los['destination'] # Filter statement\n",
    "color_dict = {'bus': '#129eac', 'subway': '#0e5899', 'tram': '#5ea8e8', 'rail': '#1F85DE', 'walk': '#adb3b4'}\n",
    "color_list = [color_dict[t] for t in sm.pt_los.loc[mask, 'route_type']]\n",
    "ax = sm.pt_los.loc[mask].plot(\n",
    "    kind='scatter', x='length', y='time', figsize=[5, 5], s=1, c=color_list)"
   ]
  },
  {
   "cell_type": "code",
   "execution_count": 39,
   "metadata": {},
   "outputs": [
    {
     "data": {
      "text/html": [
       "<div>\n",
       "<style scoped>\n",
       "    .dataframe tbody tr th:only-of-type {\n",
       "        vertical-align: middle;\n",
       "    }\n",
       "\n",
       "    .dataframe tbody tr th {\n",
       "        vertical-align: top;\n",
       "    }\n",
       "\n",
       "    .dataframe thead th {\n",
       "        text-align: right;\n",
       "    }\n",
       "</style>\n",
       "<table border=\"1\" class=\"dataframe\">\n",
       "  <thead>\n",
       "    <tr style=\"text-align: right;\">\n",
       "      <th></th>\n",
       "      <th>uuid</th>\n",
       "      <th>sch</th>\n",
       "      <th>nam</th>\n",
       "      <th>gdf</th>\n",
       "      <th>bezeich</th>\n",
       "      <th>pop</th>\n",
       "      <th>popCentroidLat</th>\n",
       "      <th>popCentroidLon</th>\n",
       "      <th>pois</th>\n",
       "      <th>poiCentroidLat</th>\n",
       "      <th>...</th>\n",
       "      <th>aquarium</th>\n",
       "      <th>attraction</th>\n",
       "      <th>camp_site</th>\n",
       "      <th>caravan_site</th>\n",
       "      <th>hostel</th>\n",
       "      <th>hotel</th>\n",
       "      <th>theme_park</th>\n",
       "      <th>zoo</th>\n",
       "      <th>lake</th>\n",
       "      <th>geometry</th>\n",
       "    </tr>\n",
       "    <tr>\n",
       "      <th>index</th>\n",
       "      <th></th>\n",
       "      <th></th>\n",
       "      <th></th>\n",
       "      <th></th>\n",
       "      <th></th>\n",
       "      <th></th>\n",
       "      <th></th>\n",
       "      <th></th>\n",
       "      <th></th>\n",
       "      <th></th>\n",
       "      <th></th>\n",
       "      <th></th>\n",
       "      <th></th>\n",
       "      <th></th>\n",
       "      <th></th>\n",
       "      <th></th>\n",
       "      <th></th>\n",
       "      <th></th>\n",
       "      <th></th>\n",
       "      <th></th>\n",
       "      <th></th>\n",
       "    </tr>\n",
       "  </thead>\n",
       "  <tbody>\n",
       "    <tr>\n",
       "      <th>zone_77</th>\n",
       "      <td>DEBE02YY20000001</td>\n",
       "      <td>110000020202</td>\n",
       "      <td>Kreuzberg</td>\n",
       "      <td>10377495.0</td>\n",
       "      <td>AX_KommunalesGebiet</td>\n",
       "      <td>153132</td>\n",
       "      <td>52.496581</td>\n",
       "      <td>13.408629</td>\n",
       "      <td>2283</td>\n",
       "      <td>52.496709</td>\n",
       "      <td>...</td>\n",
       "      <td>0</td>\n",
       "      <td>12</td>\n",
       "      <td>0</td>\n",
       "      <td>0</td>\n",
       "      <td>16</td>\n",
       "      <td>34</td>\n",
       "      <td>0</td>\n",
       "      <td>3</td>\n",
       "      <td>0</td>\n",
       "      <td>POLYGON ((13.40363 52.50818, 13.40382 52.50809...</td>\n",
       "    </tr>\n",
       "  </tbody>\n",
       "</table>\n",
       "<p>1 rows × 74 columns</p>\n",
       "</div>"
      ],
      "text/plain": [
       "                     uuid           sch        nam         gdf  \\\n",
       "index                                                            \n",
       "zone_77  DEBE02YY20000001  110000020202  Kreuzberg  10377495.0   \n",
       "\n",
       "                     bezeich     pop  popCentroidLat  popCentroidLon  pois  \\\n",
       "index                                                                        \n",
       "zone_77  AX_KommunalesGebiet  153132       52.496581       13.408629  2283   \n",
       "\n",
       "         poiCentroidLat  ...  aquarium  attraction  camp_site  caravan_site  \\\n",
       "index                    ...                                                  \n",
       "zone_77       52.496709  ...         0          12          0             0   \n",
       "\n",
       "         hostel  hotel  theme_park  zoo  lake  \\\n",
       "index                                           \n",
       "zone_77      16     34           0    3     0   \n",
       "\n",
       "                                                  geometry  \n",
       "index                                                       \n",
       "zone_77  POLYGON ((13.40363 52.50818, 13.40382 52.50809...  \n",
       "\n",
       "[1 rows x 74 columns]"
      ]
     },
     "execution_count": 39,
     "metadata": {},
     "output_type": "execute_result"
    }
   ],
   "source": [
    "sm.zones[sm.zones['nam']=='Kreuzberg']"
   ]
  },
  {
   "cell_type": "code",
   "execution_count": 40,
   "metadata": {},
   "outputs": [
    {
     "data": {
      "text/html": [
       "<div style=\"width:100%;\"><div style=\"position:relative;width:100%;height:0;padding-bottom:60%;\"><span style=\"color:#565656\">Make this Notebook Trusted to load map: File -> Trust Notebook</span><iframe src=\"about:blank\" style=\"position:absolute;width:100%;height:100%;left:0;top:0;border:none !important;\" data-html=%3C%21DOCTYPE%20html%3E%0A%3Chead%3E%20%20%20%20%0A%20%20%20%20%3Cmeta%20http-equiv%3D%22content-type%22%20content%3D%22text/html%3B%20charset%3DUTF-8%22%20/%3E%0A%20%20%20%20%0A%20%20%20%20%20%20%20%20%3Cscript%3E%0A%20%20%20%20%20%20%20%20%20%20%20%20L_NO_TOUCH%20%3D%20false%3B%0A%20%20%20%20%20%20%20%20%20%20%20%20L_DISABLE_3D%20%3D%20false%3B%0A%20%20%20%20%20%20%20%20%3C/script%3E%0A%20%20%20%20%0A%20%20%20%20%3Cstyle%3Ehtml%2C%20body%20%7Bwidth%3A%20100%25%3Bheight%3A%20100%25%3Bmargin%3A%200%3Bpadding%3A%200%3B%7D%3C/style%3E%0A%20%20%20%20%3Cstyle%3E%23map%20%7Bposition%3Aabsolute%3Btop%3A0%3Bbottom%3A0%3Bright%3A0%3Bleft%3A0%3B%7D%3C/style%3E%0A%20%20%20%20%3Cscript%20src%3D%22https%3A//cdn.jsdelivr.net/npm/leaflet%401.6.0/dist/leaflet.js%22%3E%3C/script%3E%0A%20%20%20%20%3Cscript%20src%3D%22https%3A//code.jquery.com/jquery-1.12.4.min.js%22%3E%3C/script%3E%0A%20%20%20%20%3Cscript%20src%3D%22https%3A//maxcdn.bootstrapcdn.com/bootstrap/3.2.0/js/bootstrap.min.js%22%3E%3C/script%3E%0A%20%20%20%20%3Cscript%20src%3D%22https%3A//cdnjs.cloudflare.com/ajax/libs/Leaflet.awesome-markers/2.0.2/leaflet.awesome-markers.js%22%3E%3C/script%3E%0A%20%20%20%20%3Clink%20rel%3D%22stylesheet%22%20href%3D%22https%3A//cdn.jsdelivr.net/npm/leaflet%401.6.0/dist/leaflet.css%22/%3E%0A%20%20%20%20%3Clink%20rel%3D%22stylesheet%22%20href%3D%22https%3A//maxcdn.bootstrapcdn.com/bootstrap/3.2.0/css/bootstrap.min.css%22/%3E%0A%20%20%20%20%3Clink%20rel%3D%22stylesheet%22%20href%3D%22https%3A//maxcdn.bootstrapcdn.com/bootstrap/3.2.0/css/bootstrap-theme.min.css%22/%3E%0A%20%20%20%20%3Clink%20rel%3D%22stylesheet%22%20href%3D%22https%3A//maxcdn.bootstrapcdn.com/font-awesome/4.6.3/css/font-awesome.min.css%22/%3E%0A%20%20%20%20%3Clink%20rel%3D%22stylesheet%22%20href%3D%22https%3A//cdnjs.cloudflare.com/ajax/libs/Leaflet.awesome-markers/2.0.2/leaflet.awesome-markers.css%22/%3E%0A%20%20%20%20%3Clink%20rel%3D%22stylesheet%22%20href%3D%22https%3A//cdn.jsdelivr.net/gh/python-visualization/folium/folium/templates/leaflet.awesome.rotate.min.css%22/%3E%0A%20%20%20%20%0A%20%20%20%20%20%20%20%20%20%20%20%20%3Cmeta%20name%3D%22viewport%22%20content%3D%22width%3Ddevice-width%2C%0A%20%20%20%20%20%20%20%20%20%20%20%20%20%20%20%20initial-scale%3D1.0%2C%20maximum-scale%3D1.0%2C%20user-scalable%3Dno%22%20/%3E%0A%20%20%20%20%20%20%20%20%20%20%20%20%3Cstyle%3E%0A%20%20%20%20%20%20%20%20%20%20%20%20%20%20%20%20%23map_70552ea4488c47afb487dd40f3e2252b%20%7B%0A%20%20%20%20%20%20%20%20%20%20%20%20%20%20%20%20%20%20%20%20position%3A%20relative%3B%0A%20%20%20%20%20%20%20%20%20%20%20%20%20%20%20%20%20%20%20%20width%3A%20100.0%25%3B%0A%20%20%20%20%20%20%20%20%20%20%20%20%20%20%20%20%20%20%20%20height%3A%20100.0%25%3B%0A%20%20%20%20%20%20%20%20%20%20%20%20%20%20%20%20%20%20%20%20left%3A%200.0%25%3B%0A%20%20%20%20%20%20%20%20%20%20%20%20%20%20%20%20%20%20%20%20top%3A%200.0%25%3B%0A%20%20%20%20%20%20%20%20%20%20%20%20%20%20%20%20%7D%0A%20%20%20%20%20%20%20%20%20%20%20%20%3C/style%3E%0A%20%20%20%20%20%20%20%20%0A%3C/head%3E%0A%3Cbody%3E%20%20%20%20%0A%20%20%20%20%0A%20%20%20%20%20%20%20%20%20%20%20%20%3Cdiv%20class%3D%22folium-map%22%20id%3D%22map_70552ea4488c47afb487dd40f3e2252b%22%20%3E%3C/div%3E%0A%20%20%20%20%20%20%20%20%0A%3C/body%3E%0A%3Cscript%3E%20%20%20%20%0A%20%20%20%20%0A%20%20%20%20%20%20%20%20%20%20%20%20var%20map_70552ea4488c47afb487dd40f3e2252b%20%3D%20L.map%28%0A%20%20%20%20%20%20%20%20%20%20%20%20%20%20%20%20%22map_70552ea4488c47afb487dd40f3e2252b%22%2C%0A%20%20%20%20%20%20%20%20%20%20%20%20%20%20%20%20%7B%0A%20%20%20%20%20%20%20%20%20%20%20%20%20%20%20%20%20%20%20%20center%3A%20%5B52.51827010079438%2C%2013.417864865833872%5D%2C%0A%20%20%20%20%20%20%20%20%20%20%20%20%20%20%20%20%20%20%20%20crs%3A%20L.CRS.EPSG3857%2C%0A%20%20%20%20%20%20%20%20%20%20%20%20%20%20%20%20%20%20%20%20zoom%3A%2013%2C%0A%20%20%20%20%20%20%20%20%20%20%20%20%20%20%20%20%20%20%20%20zoomControl%3A%20true%2C%0A%20%20%20%20%20%20%20%20%20%20%20%20%20%20%20%20%20%20%20%20preferCanvas%3A%20false%2C%0A%20%20%20%20%20%20%20%20%20%20%20%20%20%20%20%20%7D%0A%20%20%20%20%20%20%20%20%20%20%20%20%29%3B%0A%0A%20%20%20%20%20%20%20%20%20%20%20%20%0A%0A%20%20%20%20%20%20%20%20%0A%20%20%20%20%0A%20%20%20%20%20%20%20%20%20%20%20%20var%20tile_layer_e199d153545c40caab32aad046e5c25b%20%3D%20L.tileLayer%28%0A%20%20%20%20%20%20%20%20%20%20%20%20%20%20%20%20%22https%3A//%7Bs%7D.tile.openstreetmap.org/%7Bz%7D/%7Bx%7D/%7By%7D.png%22%2C%0A%20%20%20%20%20%20%20%20%20%20%20%20%20%20%20%20%7B%22attribution%22%3A%20%22Data%20by%20%5Cu0026copy%3B%20%5Cu003ca%20href%3D%5C%22http%3A//openstreetmap.org%5C%22%5Cu003eOpenStreetMap%5Cu003c/a%5Cu003e%2C%20under%20%5Cu003ca%20href%3D%5C%22http%3A//www.openstreetmap.org/copyright%5C%22%5Cu003eODbL%5Cu003c/a%5Cu003e.%22%2C%20%22detectRetina%22%3A%20false%2C%20%22maxNativeZoom%22%3A%2018%2C%20%22maxZoom%22%3A%2018%2C%20%22minZoom%22%3A%200%2C%20%22noWrap%22%3A%20false%2C%20%22opacity%22%3A%201%2C%20%22subdomains%22%3A%20%22abc%22%2C%20%22tms%22%3A%20false%7D%0A%20%20%20%20%20%20%20%20%20%20%20%20%29.addTo%28map_70552ea4488c47afb487dd40f3e2252b%29%3B%0A%20%20%20%20%20%20%20%20%0A%20%20%20%20%0A%20%20%20%20%20%20%20%20%20%20%20%20var%20poly_line_51e38db2ce18400694fb9b94066e6663%20%3D%20L.polyline%28%0A%20%20%20%20%20%20%20%20%20%20%20%20%20%20%20%20%5B%5B52.5235725%2C%2013.4025591%5D%2C%20%5B52.5207275%2C%2013.4129015%5D%2C%20%5B52.526142%2C%2013.4180159%5D%2C%20%5B52.5265649%2C%2013.4280411%5D%2C%20%5B52.5344746%2C%2013.4308758%5D%5D%2C%0A%20%20%20%20%20%20%20%20%20%20%20%20%20%20%20%20%7B%22bubblingMouseEvents%22%3A%20true%2C%20%22color%22%3A%20%22blue%22%2C%20%22dashArray%22%3A%20null%2C%20%22dashOffset%22%3A%20null%2C%20%22fill%22%3A%20false%2C%20%22fillColor%22%3A%20%22blue%22%2C%20%22fillOpacity%22%3A%200.2%2C%20%22fillRule%22%3A%20%22evenodd%22%2C%20%22lineCap%22%3A%20%22round%22%2C%20%22lineJoin%22%3A%20%22round%22%2C%20%22noClip%22%3A%20false%2C%20%22opacity%22%3A%201.0%2C%20%22smoothFactor%22%3A%201.0%2C%20%22stroke%22%3A%20true%2C%20%22weight%22%3A%205%7D%0A%20%20%20%20%20%20%20%20%20%20%20%20%29.addTo%28map_70552ea4488c47afb487dd40f3e2252b%29%3B%0A%20%20%20%20%20%20%20%20%0A%20%20%20%20%0A%20%20%20%20%20%20%20%20var%20popup_8e93d3ec97cd4c69a921e11d22d5d496%20%3D%20L.popup%28%7B%22maxWidth%22%3A%20%22100%25%22%7D%29%3B%0A%0A%20%20%20%20%20%20%20%20%0A%20%20%20%20%20%20%20%20%20%20%20%20var%20html_14387a125caa41bcb79da8a6c887665d%20%3D%20%24%28%60%3Cdiv%20id%3D%22html_14387a125caa41bcb79da8a6c887665d%22%20style%3D%22width%3A%20100.0%25%3B%20height%3A%20100.0%25%3B%22%3E17452_900_0%3C/div%3E%60%29%5B0%5D%3B%0A%20%20%20%20%20%20%20%20%20%20%20%20popup_8e93d3ec97cd4c69a921e11d22d5d496.setContent%28html_14387a125caa41bcb79da8a6c887665d%29%3B%0A%20%20%20%20%20%20%20%20%0A%0A%20%20%20%20%20%20%20%20poly_line_51e38db2ce18400694fb9b94066e6663.bindPopup%28popup_8e93d3ec97cd4c69a921e11d22d5d496%29%0A%20%20%20%20%20%20%20%20%3B%0A%0A%20%20%20%20%20%20%20%20%0A%20%20%20%20%0A%20%20%20%20%0A%20%20%20%20%20%20%20%20%20%20%20%20var%20poly_line_dd25f2d4448347bca571edac8d8a6627%20%3D%20L.polyline%28%0A%20%20%20%20%20%20%20%20%20%20%20%20%20%20%20%20%5B%5B52.5186894%2C%2013.4067411%5D%2C%20%5B52.5235725%2C%2013.4025591%5D%5D%2C%0A%20%20%20%20%20%20%20%20%20%20%20%20%20%20%20%20%7B%22bubblingMouseEvents%22%3A%20true%2C%20%22color%22%3A%20%22blue%22%2C%20%22dashArray%22%3A%20null%2C%20%22dashOffset%22%3A%20null%2C%20%22fill%22%3A%20false%2C%20%22fillColor%22%3A%20%22blue%22%2C%20%22fillOpacity%22%3A%200.2%2C%20%22fillRule%22%3A%20%22evenodd%22%2C%20%22lineCap%22%3A%20%22round%22%2C%20%22lineJoin%22%3A%20%22round%22%2C%20%22noClip%22%3A%20false%2C%20%22opacity%22%3A%201.0%2C%20%22smoothFactor%22%3A%201.0%2C%20%22stroke%22%3A%20true%2C%20%22weight%22%3A%205%7D%0A%20%20%20%20%20%20%20%20%20%20%20%20%29.addTo%28map_70552ea4488c47afb487dd40f3e2252b%29%3B%0A%20%20%20%20%20%20%20%20%0A%20%20%20%20%0A%20%20%20%20%20%20%20%20var%20popup_c8d75655a4b441a8816c4d9cd911f576%20%3D%20L.popup%28%7B%22maxWidth%22%3A%20%22100%25%22%7D%29%3B%0A%0A%20%20%20%20%20%20%20%20%0A%20%20%20%20%20%20%20%20%20%20%20%20var%20html_90fe8676f93a4e348228c65c765b3248%20%3D%20%24%28%60%3Cdiv%20id%3D%22html_90fe8676f93a4e348228c65c765b3248%22%20style%3D%22width%3A%20100.0%25%3B%20height%3A%20100.0%25%3B%22%3E17452_900_3%3C/div%3E%60%29%5B0%5D%3B%0A%20%20%20%20%20%20%20%20%20%20%20%20popup_c8d75655a4b441a8816c4d9cd911f576.setContent%28html_90fe8676f93a4e348228c65c765b3248%29%3B%0A%20%20%20%20%20%20%20%20%0A%0A%20%20%20%20%20%20%20%20poly_line_dd25f2d4448347bca571edac8d8a6627.bindPopup%28popup_c8d75655a4b441a8816c4d9cd911f576%29%0A%20%20%20%20%20%20%20%20%3B%0A%0A%20%20%20%20%20%20%20%20%0A%20%20%20%20%0A%20%20%20%20%0A%20%20%20%20%20%20%20%20%20%20%20%20var%20poly_line_4f3f49281e7d49528ae5a08df259eb47%20%3D%20L.polyline%28%0A%20%20%20%20%20%20%20%20%20%20%20%20%20%20%20%20%5B%5B52.50339749259513%2C%2013.408298663123379%5D%2C%20%5B52.50874901465658%2C%2013.401108195067508%5D%5D%2C%0A%20%20%20%20%20%20%20%20%20%20%20%20%20%20%20%20%7B%22bubblingMouseEvents%22%3A%20true%2C%20%22color%22%3A%20%22gray%22%2C%20%22dashArray%22%3A%20null%2C%20%22dashOffset%22%3A%20null%2C%20%22fill%22%3A%20false%2C%20%22fillColor%22%3A%20%22gray%22%2C%20%22fillOpacity%22%3A%200.2%2C%20%22fillRule%22%3A%20%22evenodd%22%2C%20%22lineCap%22%3A%20%22round%22%2C%20%22lineJoin%22%3A%20%22round%22%2C%20%22noClip%22%3A%20false%2C%20%22opacity%22%3A%201.0%2C%20%22smoothFactor%22%3A%201.0%2C%20%22stroke%22%3A%20true%2C%20%22weight%22%3A%203%7D%0A%20%20%20%20%20%20%20%20%20%20%20%20%29.addTo%28map_70552ea4488c47afb487dd40f3e2252b%29%3B%0A%20%20%20%20%20%20%20%20%0A%20%20%20%20%0A%20%20%20%20%20%20%20%20%20%20%20%20var%20poly_line_7e50331d3cce40c0a5874a6567428e73%20%3D%20L.polyline%28%0A%20%20%20%20%20%20%20%20%20%20%20%20%20%20%20%20%5B%5B52.50874901465658%2C%2013.401108195067508%5D%2C%20%5B52.51388322410818%2C%2013.407371026110672%5D%5D%2C%0A%20%20%20%20%20%20%20%20%20%20%20%20%20%20%20%20%7B%22bubblingMouseEvents%22%3A%20true%2C%20%22color%22%3A%20%22gray%22%2C%20%22dashArray%22%3A%20null%2C%20%22dashOffset%22%3A%20null%2C%20%22fill%22%3A%20false%2C%20%22fillColor%22%3A%20%22gray%22%2C%20%22fillOpacity%22%3A%200.2%2C%20%22fillRule%22%3A%20%22evenodd%22%2C%20%22lineCap%22%3A%20%22round%22%2C%20%22lineJoin%22%3A%20%22round%22%2C%20%22noClip%22%3A%20false%2C%20%22opacity%22%3A%201.0%2C%20%22smoothFactor%22%3A%201.0%2C%20%22stroke%22%3A%20true%2C%20%22weight%22%3A%203%7D%0A%20%20%20%20%20%20%20%20%20%20%20%20%29.addTo%28map_70552ea4488c47afb487dd40f3e2252b%29%3B%0A%20%20%20%20%20%20%20%20%0A%20%20%20%20%0A%20%20%20%20%20%20%20%20%20%20%20%20var%20poly_line_2d08a38883b34fe78cfab79798f3cb55%20%3D%20L.polyline%28%0A%20%20%20%20%20%20%20%20%20%20%20%20%20%20%20%20%5B%5B52.51388322410818%2C%2013.407371026110672%5D%2C%20%5B52.519176833515495%2C%2013.407219870543782%5D%5D%2C%0A%20%20%20%20%20%20%20%20%20%20%20%20%20%20%20%20%7B%22bubblingMouseEvents%22%3A%20true%2C%20%22color%22%3A%20%22gray%22%2C%20%22dashArray%22%3A%20null%2C%20%22dashOffset%22%3A%20null%2C%20%22fill%22%3A%20false%2C%20%22fillColor%22%3A%20%22gray%22%2C%20%22fillOpacity%22%3A%200.2%2C%20%22fillRule%22%3A%20%22evenodd%22%2C%20%22lineCap%22%3A%20%22round%22%2C%20%22lineJoin%22%3A%20%22round%22%2C%20%22noClip%22%3A%20false%2C%20%22opacity%22%3A%201.0%2C%20%22smoothFactor%22%3A%201.0%2C%20%22stroke%22%3A%20true%2C%20%22weight%22%3A%203%7D%0A%20%20%20%20%20%20%20%20%20%20%20%20%29.addTo%28map_70552ea4488c47afb487dd40f3e2252b%29%3B%0A%20%20%20%20%20%20%20%20%0A%20%20%20%20%0A%20%20%20%20%20%20%20%20%20%20%20%20var%20poly_line_1ea814c9b57e4f95833ed1474ec2b4f1%20%3D%20L.polyline%28%0A%20%20%20%20%20%20%20%20%20%20%20%20%20%20%20%20%5B%5B52.49676682831433%2C%2013.405207024527755%5D%2C%20%5B52.50339749259513%2C%2013.408298663123379%5D%5D%2C%0A%20%20%20%20%20%20%20%20%20%20%20%20%20%20%20%20%7B%22bubblingMouseEvents%22%3A%20true%2C%20%22color%22%3A%20%22black%22%2C%20%22dashArray%22%3A%20null%2C%20%22dashOffset%22%3A%20null%2C%20%22fill%22%3A%20false%2C%20%22fillColor%22%3A%20%22black%22%2C%20%22fillOpacity%22%3A%200.2%2C%20%22fillRule%22%3A%20%22evenodd%22%2C%20%22lineCap%22%3A%20%22round%22%2C%20%22lineJoin%22%3A%20%22round%22%2C%20%22noClip%22%3A%20false%2C%20%22opacity%22%3A%201.0%2C%20%22smoothFactor%22%3A%201.0%2C%20%22stroke%22%3A%20true%2C%20%22weight%22%3A%203%7D%0A%20%20%20%20%20%20%20%20%20%20%20%20%29.addTo%28map_70552ea4488c47afb487dd40f3e2252b%29%3B%0A%20%20%20%20%20%20%20%20%0A%20%20%20%20%0A%20%20%20%20%20%20%20%20%20%20%20%20var%20poly_line_798099df90bf423fbd0abdbaa1a1ce37%20%3D%20L.polyline%28%0A%20%20%20%20%20%20%20%20%20%20%20%20%20%20%20%20%5B%5B52.53977337327443%2C%2013.430522707139989%5D%2C%20%5B52.53565660772651%2C%2013.430346341248402%5D%5D%2C%0A%20%20%20%20%20%20%20%20%20%20%20%20%20%20%20%20%7B%22bubblingMouseEvents%22%3A%20true%2C%20%22color%22%3A%20%22black%22%2C%20%22dashArray%22%3A%20null%2C%20%22dashOffset%22%3A%20null%2C%20%22fill%22%3A%20false%2C%20%22fillColor%22%3A%20%22black%22%2C%20%22fillOpacity%22%3A%200.2%2C%20%22fillRule%22%3A%20%22evenodd%22%2C%20%22lineCap%22%3A%20%22round%22%2C%20%22lineJoin%22%3A%20%22round%22%2C%20%22noClip%22%3A%20false%2C%20%22opacity%22%3A%201.0%2C%20%22smoothFactor%22%3A%201.0%2C%20%22stroke%22%3A%20true%2C%20%22weight%22%3A%203%7D%0A%20%20%20%20%20%20%20%20%20%20%20%20%29.addTo%28map_70552ea4488c47afb487dd40f3e2252b%29%3B%0A%20%20%20%20%20%20%20%20%0A%20%20%20%20%0A%20%20%20%20%20%20%20%20%20%20%20%20var%20circle_marker_ace1c8a29b9d4dd9ade2035a81cd8f90%20%3D%20L.circleMarker%28%0A%20%20%20%20%20%20%20%20%20%20%20%20%20%20%20%20%5B52.519176833515495%2C%2013.407219870543782%5D%2C%0A%20%20%20%20%20%20%20%20%20%20%20%20%20%20%20%20%7B%22bubblingMouseEvents%22%3A%20true%2C%20%22color%22%3A%20%22gray%22%2C%20%22dashArray%22%3A%20null%2C%20%22dashOffset%22%3A%20null%2C%20%22fill%22%3A%20true%2C%20%22fillColor%22%3A%20%22gray%22%2C%20%22fillOpacity%22%3A%201%2C%20%22fillRule%22%3A%20%22evenodd%22%2C%20%22lineCap%22%3A%20%22round%22%2C%20%22lineJoin%22%3A%20%22round%22%2C%20%22opacity%22%3A%201.0%2C%20%22radius%22%3A%203%2C%20%22stroke%22%3A%20true%2C%20%22weight%22%3A%203%7D%0A%20%20%20%20%20%20%20%20%20%20%20%20%29.addTo%28map_70552ea4488c47afb487dd40f3e2252b%29%3B%0A%20%20%20%20%20%20%20%20%0A%20%20%20%20%0A%20%20%20%20%20%20%20%20var%20popup_0555c80b5293429882e45640151b1b37%20%3D%20L.popup%28%7B%22maxWidth%22%3A%20%22100%25%22%7D%29%3B%0A%0A%20%20%20%20%20%20%20%20%0A%20%20%20%20%20%20%20%20%20%20%20%20var%20html_2ae7e318bcd14a5f87eed9e1a428ffd1%20%3D%20%24%28%60%3Cdiv%20id%3D%22html_2ae7e318bcd14a5f87eed9e1a428ffd1%22%20style%3D%22width%3A%20100.0%25%3B%20height%3A%20100.0%25%3B%22%3En_65%3C/div%3E%60%29%5B0%5D%3B%0A%20%20%20%20%20%20%20%20%20%20%20%20popup_0555c80b5293429882e45640151b1b37.setContent%28html_2ae7e318bcd14a5f87eed9e1a428ffd1%29%3B%0A%20%20%20%20%20%20%20%20%0A%0A%20%20%20%20%20%20%20%20circle_marker_ace1c8a29b9d4dd9ade2035a81cd8f90.bindPopup%28popup_0555c80b5293429882e45640151b1b37%29%0A%20%20%20%20%20%20%20%20%3B%0A%0A%20%20%20%20%20%20%20%20%0A%20%20%20%20%0A%20%20%20%20%0A%20%20%20%20%20%20%20%20%20%20%20%20var%20circle_marker_1c225b1986ea4e76a71650919c69a471%20%3D%20L.circleMarker%28%0A%20%20%20%20%20%20%20%20%20%20%20%20%20%20%20%20%5B52.523319614762165%2C%2013.40266627342661%5D%2C%0A%20%20%20%20%20%20%20%20%20%20%20%20%20%20%20%20%7B%22bubblingMouseEvents%22%3A%20true%2C%20%22color%22%3A%20%22gray%22%2C%20%22dashArray%22%3A%20null%2C%20%22dashOffset%22%3A%20null%2C%20%22fill%22%3A%20true%2C%20%22fillColor%22%3A%20%22gray%22%2C%20%22fillOpacity%22%3A%201%2C%20%22fillRule%22%3A%20%22evenodd%22%2C%20%22lineCap%22%3A%20%22round%22%2C%20%22lineJoin%22%3A%20%22round%22%2C%20%22opacity%22%3A%201.0%2C%20%22radius%22%3A%203%2C%20%22stroke%22%3A%20true%2C%20%22weight%22%3A%203%7D%0A%20%20%20%20%20%20%20%20%20%20%20%20%29.addTo%28map_70552ea4488c47afb487dd40f3e2252b%29%3B%0A%20%20%20%20%20%20%20%20%0A%20%20%20%20%0A%20%20%20%20%20%20%20%20var%20popup_dc9df91238de471ab8a7d977f0159716%20%3D%20L.popup%28%7B%22maxWidth%22%3A%20%22100%25%22%7D%29%3B%0A%0A%20%20%20%20%20%20%20%20%0A%20%20%20%20%20%20%20%20%20%20%20%20var%20html_22f707cb359e4079a26bd6c612b94f68%20%3D%20%24%28%60%3Cdiv%20id%3D%22html_22f707cb359e4079a26bd6c612b94f68%22%20style%3D%22width%3A%20100.0%25%3B%20height%3A%20100.0%25%3B%22%3En_548%3C/div%3E%60%29%5B0%5D%3B%0A%20%20%20%20%20%20%20%20%20%20%20%20popup_dc9df91238de471ab8a7d977f0159716.setContent%28html_22f707cb359e4079a26bd6c612b94f68%29%3B%0A%20%20%20%20%20%20%20%20%0A%0A%20%20%20%20%20%20%20%20circle_marker_1c225b1986ea4e76a71650919c69a471.bindPopup%28popup_dc9df91238de471ab8a7d977f0159716%29%0A%20%20%20%20%20%20%20%20%3B%0A%0A%20%20%20%20%20%20%20%20%0A%20%20%20%20%0A%20%20%20%20%0A%20%20%20%20%20%20%20%20%20%20%20%20var%20circle_marker_b9f9d62c0122425da9b6a425bcb44757%20%3D%20L.circleMarker%28%0A%20%20%20%20%20%20%20%20%20%20%20%20%20%20%20%20%5B52.53565660772651%2C%2013.430346341248402%5D%2C%0A%20%20%20%20%20%20%20%20%20%20%20%20%20%20%20%20%7B%22bubblingMouseEvents%22%3A%20true%2C%20%22color%22%3A%20%22gray%22%2C%20%22dashArray%22%3A%20null%2C%20%22dashOffset%22%3A%20null%2C%20%22fill%22%3A%20true%2C%20%22fillColor%22%3A%20%22gray%22%2C%20%22fillOpacity%22%3A%201%2C%20%22fillRule%22%3A%20%22evenodd%22%2C%20%22lineCap%22%3A%20%22round%22%2C%20%22lineJoin%22%3A%20%22round%22%2C%20%22opacity%22%3A%201.0%2C%20%22radius%22%3A%203%2C%20%22stroke%22%3A%20true%2C%20%22weight%22%3A%203%7D%0A%20%20%20%20%20%20%20%20%20%20%20%20%29.addTo%28map_70552ea4488c47afb487dd40f3e2252b%29%3B%0A%20%20%20%20%20%20%20%20%0A%20%20%20%20%0A%20%20%20%20%20%20%20%20var%20popup_7ff591a3552247309f50c8355524dfe7%20%3D%20L.popup%28%7B%22maxWidth%22%3A%20%22100%25%22%7D%29%3B%0A%0A%20%20%20%20%20%20%20%20%0A%20%20%20%20%20%20%20%20%20%20%20%20var%20html_0ac78f82a49b476696826faa816faae3%20%3D%20%24%28%60%3Cdiv%20id%3D%22html_0ac78f82a49b476696826faa816faae3%22%20style%3D%22width%3A%20100.0%25%3B%20height%3A%20100.0%25%3B%22%3En_67%3C/div%3E%60%29%5B0%5D%3B%0A%20%20%20%20%20%20%20%20%20%20%20%20popup_7ff591a3552247309f50c8355524dfe7.setContent%28html_0ac78f82a49b476696826faa816faae3%29%3B%0A%20%20%20%20%20%20%20%20%0A%0A%20%20%20%20%20%20%20%20circle_marker_b9f9d62c0122425da9b6a425bcb44757.bindPopup%28popup_7ff591a3552247309f50c8355524dfe7%29%0A%20%20%20%20%20%20%20%20%3B%0A%0A%20%20%20%20%20%20%20%20%0A%20%20%20%20%0A%20%20%20%20%0A%20%20%20%20%20%20%20%20%20%20%20%20var%20circle_marker_915b760056e04aaa901243948241629c%20%3D%20L.circleMarker%28%0A%20%20%20%20%20%20%20%20%20%20%20%20%20%20%20%20%5B52.49676682831433%2C%2013.405207024527755%5D%2C%0A%20%20%20%20%20%20%20%20%20%20%20%20%20%20%20%20%7B%22bubblingMouseEvents%22%3A%20true%2C%20%22color%22%3A%20%22green%22%2C%20%22dashArray%22%3A%20null%2C%20%22dashOffset%22%3A%20null%2C%20%22fill%22%3A%20true%2C%20%22fillColor%22%3A%20%22green%22%2C%20%22fillOpacity%22%3A%201%2C%20%22fillRule%22%3A%20%22evenodd%22%2C%20%22lineCap%22%3A%20%22round%22%2C%20%22lineJoin%22%3A%20%22round%22%2C%20%22opacity%22%3A%201.0%2C%20%22radius%22%3A%205%2C%20%22stroke%22%3A%20true%2C%20%22weight%22%3A%203%7D%0A%20%20%20%20%20%20%20%20%20%20%20%20%29.addTo%28map_70552ea4488c47afb487dd40f3e2252b%29%3B%0A%20%20%20%20%20%20%20%20%0A%20%20%20%20%0A%20%20%20%20%20%20%20%20var%20popup_7727b7bb64634213b02d9c27b92adce1%20%3D%20L.popup%28%7B%22maxWidth%22%3A%20%22100%25%22%7D%29%3B%0A%0A%20%20%20%20%20%20%20%20%0A%20%20%20%20%20%20%20%20%20%20%20%20var%20html_ce547e3a15f647f3a58385b9dbd76e71%20%3D%20%24%28%60%3Cdiv%20id%3D%22html_ce547e3a15f647f3a58385b9dbd76e71%22%20style%3D%22width%3A%20100.0%25%3B%20height%3A%20100.0%25%3B%22%3Ezone_77%3C/div%3E%60%29%5B0%5D%3B%0A%20%20%20%20%20%20%20%20%20%20%20%20popup_7727b7bb64634213b02d9c27b92adce1.setContent%28html_ce547e3a15f647f3a58385b9dbd76e71%29%3B%0A%20%20%20%20%20%20%20%20%0A%0A%20%20%20%20%20%20%20%20circle_marker_915b760056e04aaa901243948241629c.bindPopup%28popup_7727b7bb64634213b02d9c27b92adce1%29%0A%20%20%20%20%20%20%20%20%3B%0A%0A%20%20%20%20%20%20%20%20%0A%20%20%20%20%0A%20%20%20%20%0A%20%20%20%20%20%20%20%20%20%20%20%20var%20circle_marker_6fb3ad621a6e430196119d78d03ad166%20%3D%20L.circleMarker%28%0A%20%20%20%20%20%20%20%20%20%20%20%20%20%20%20%20%5B52.53977337327443%2C%2013.430522707139989%5D%2C%0A%20%20%20%20%20%20%20%20%20%20%20%20%20%20%20%20%7B%22bubblingMouseEvents%22%3A%20true%2C%20%22color%22%3A%20%22red%22%2C%20%22dashArray%22%3A%20null%2C%20%22dashOffset%22%3A%20null%2C%20%22fill%22%3A%20true%2C%20%22fillColor%22%3A%20%22red%22%2C%20%22fillOpacity%22%3A%201%2C%20%22fillRule%22%3A%20%22evenodd%22%2C%20%22lineCap%22%3A%20%22round%22%2C%20%22lineJoin%22%3A%20%22round%22%2C%20%22opacity%22%3A%201.0%2C%20%22radius%22%3A%205%2C%20%22stroke%22%3A%20true%2C%20%22weight%22%3A%203%7D%0A%20%20%20%20%20%20%20%20%20%20%20%20%29.addTo%28map_70552ea4488c47afb487dd40f3e2252b%29%3B%0A%20%20%20%20%20%20%20%20%0A%20%20%20%20%0A%20%20%20%20%20%20%20%20var%20popup_6eb277cfecec45729bc14968c62d6b60%20%3D%20L.popup%28%7B%22maxWidth%22%3A%20%22100%25%22%7D%29%3B%0A%0A%20%20%20%20%20%20%20%20%0A%20%20%20%20%20%20%20%20%20%20%20%20var%20html_6c7bf2739ed44f8fbd0817ccc7622c67%20%3D%20%24%28%60%3Cdiv%20id%3D%22html_6c7bf2739ed44f8fbd0817ccc7622c67%22%20style%3D%22width%3A%20100.0%25%3B%20height%3A%20100.0%25%3B%22%3Ezone_67%3C/div%3E%60%29%5B0%5D%3B%0A%20%20%20%20%20%20%20%20%20%20%20%20popup_6eb277cfecec45729bc14968c62d6b60.setContent%28html_6c7bf2739ed44f8fbd0817ccc7622c67%29%3B%0A%20%20%20%20%20%20%20%20%0A%0A%20%20%20%20%20%20%20%20circle_marker_6fb3ad621a6e430196119d78d03ad166.bindPopup%28popup_6eb277cfecec45729bc14968c62d6b60%29%0A%20%20%20%20%20%20%20%20%3B%0A%0A%20%20%20%20%20%20%20%20%0A%20%20%20%20%0A%20%20%20%20%0A%20%20%20%20%20%20%20%20%20%20%20%20var%20poly_line_97333a01ca854e1782ead04f5a5d5905%20%3D%20L.polyline%28%0A%20%20%20%20%20%20%20%20%20%20%20%20%20%20%20%20%5B%5B52.4963942%2C%2013.4050714%5D%2C%20%5B52.498323%2C%2013.4065561%5D%2C%20%5B52.498469%2C%2013.4066695%5D%2C%20%5B52.4989314%2C%2013.4070285%5D%2C%20%5B52.5000132%2C%2013.4078369%5D%2C%20%5B52.5017536%2C%2013.4092205%5D%2C%20%5B52.5034317%2C%2013.4105485%5D%2C%20%5B52.5035343%2C%2013.4110997%5D%2C%20%5B52.5037927%2C%2013.411022%5D%2C%20%5B52.5040332%2C%2013.4110464%5D%2C%20%5B52.5049088%2C%2013.4117198%5D%2C%20%5B52.5069078%2C%2013.4132846%5D%2C%20%5B52.5079919%2C%2013.4141489%5D%2C%20%5B52.511006%2C%2013.4164546%5D%2C%20%5B52.5124412%2C%2013.4171834%5D%2C%20%5B52.5135299%2C%2013.4176839%5D%2C%20%5B52.5138131%2C%2013.4177692%5D%2C%20%5B52.5154139%2C%2013.4181699%5D%2C%20%5B52.5156046%2C%2013.4182237%5D%2C%20%5B52.5164935%2C%2013.4182874%5D%2C%20%5B52.5174101%2C%2013.4182077%5D%2C%20%5B52.5180641%2C%2013.4179714%5D%2C%20%5B52.5200223%2C%2013.4162736%5D%2C%20%5B52.5207929%2C%2013.4153671%5D%2C%20%5B52.5216563%2C%2013.4162844%5D%2C%20%5B52.5218939%2C%2013.4165351%5D%2C%20%5B52.5220587%2C%2013.4167149%5D%2C%20%5B52.5238894%2C%2013.4186666%5D%2C%20%5B52.5249934%2C%2013.4199586%5D%2C%20%5B52.5252177%2C%2013.4202393%5D%2C%20%5B52.526498%2C%2013.4217874%5D%2C%20%5B52.5281364%2C%2013.423868%5D%2C%20%5B52.5282294%2C%2013.4239889%5D%2C%20%5B52.5319645%2C%2013.4283665%5D%2C%20%5B52.5329862%2C%2013.4295586%5D%2C%20%5B52.5331263%2C%2013.4292698%5D%2C%20%5B52.5343366%2C%2013.4257519%5D%2C%20%5B52.535784%2C%2013.4270704%5D%2C%20%5B52.5364091%2C%2013.4276692%5D%2C%20%5B52.5369429%2C%2013.4281696%5D%2C%20%5B52.5375413%2C%2013.4287152%5D%2C%20%5B52.5377249%2C%2013.4288954%5D%2C%20%5B52.5378608%2C%2013.4284983%5D%2C%20%5B52.5393461%2C%2013.4298779%5D%2C%20%5B52.5391821%2C%2013.4304309%5D%2C%20%5B52.5391665%2C%2013.430481%5D%2C%20%5B52.5396729%2C%2013.4309426%5D%5D%2C%0A%20%20%20%20%20%20%20%20%20%20%20%20%20%20%20%20%7B%22bubblingMouseEvents%22%3A%20true%2C%20%22color%22%3A%20%22%233388ff%22%2C%20%22dashArray%22%3A%20null%2C%20%22dashOffset%22%3A%20null%2C%20%22fill%22%3A%20false%2C%20%22fillColor%22%3A%20%22%233388ff%22%2C%20%22fillOpacity%22%3A%200.2%2C%20%22fillRule%22%3A%20%22evenodd%22%2C%20%22lineCap%22%3A%20%22round%22%2C%20%22lineJoin%22%3A%20%22round%22%2C%20%22noClip%22%3A%20false%2C%20%22opacity%22%3A%201.0%2C%20%22smoothFactor%22%3A%201.0%2C%20%22stroke%22%3A%20true%2C%20%22weight%22%3A%205%7D%0A%20%20%20%20%20%20%20%20%20%20%20%20%29.addTo%28map_70552ea4488c47afb487dd40f3e2252b%29%3B%0A%20%20%20%20%20%20%20%20%0A%20%20%20%20%0A%20%20%20%20%20%20%20%20var%20popup_ae93c2864e1b4ac4a1590694f4efea38%20%3D%20L.popup%28%7B%22maxWidth%22%3A%20%22100%25%22%7D%29%3B%0A%0A%20%20%20%20%20%20%20%20%0A%20%20%20%20%20%20%20%20%20%20%20%20var%20html_9868daacba464966bec87b2f0f9e7e97%20%3D%20%24%28%60%3Cdiv%20id%3D%22html_9868daacba464966bec87b2f0f9e7e97%22%20style%3D%22width%3A%20100.0%25%3B%20height%3A%20100.0%25%3B%22%3Eall%3C/div%3E%60%29%5B0%5D%3B%0A%20%20%20%20%20%20%20%20%20%20%20%20popup_ae93c2864e1b4ac4a1590694f4efea38.setContent%28html_9868daacba464966bec87b2f0f9e7e97%29%3B%0A%20%20%20%20%20%20%20%20%0A%0A%20%20%20%20%20%20%20%20poly_line_97333a01ca854e1782ead04f5a5d5905.bindPopup%28popup_ae93c2864e1b4ac4a1590694f4efea38%29%0A%20%20%20%20%20%20%20%20%3B%0A%0A%20%20%20%20%20%20%20%20%0A%20%20%20%20%0A%20%20%20%20%0A%20%20%20%20%20%20%20%20%20%20%20%20var%20circle_marker_4d5b2bb3fbb141ef87cb9b9befb27b49%20%3D%20L.circleMarker%28%0A%20%20%20%20%20%20%20%20%20%20%20%20%20%20%20%20%5B52.49676682831433%2C%2013.405207024527755%5D%2C%0A%20%20%20%20%20%20%20%20%20%20%20%20%20%20%20%20%7B%22bubblingMouseEvents%22%3A%20true%2C%20%22color%22%3A%20%22green%22%2C%20%22dashArray%22%3A%20null%2C%20%22dashOffset%22%3A%20null%2C%20%22fill%22%3A%20true%2C%20%22fillColor%22%3A%20%22green%22%2C%20%22fillOpacity%22%3A%201%2C%20%22fillRule%22%3A%20%22evenodd%22%2C%20%22lineCap%22%3A%20%22round%22%2C%20%22lineJoin%22%3A%20%22round%22%2C%20%22opacity%22%3A%201.0%2C%20%22radius%22%3A%205%2C%20%22stroke%22%3A%20true%2C%20%22weight%22%3A%203%7D%0A%20%20%20%20%20%20%20%20%20%20%20%20%29.addTo%28map_70552ea4488c47afb487dd40f3e2252b%29%3B%0A%20%20%20%20%20%20%20%20%0A%20%20%20%20%0A%20%20%20%20%20%20%20%20var%20popup_f617bd980a724384a110796ca7e1776c%20%3D%20L.popup%28%7B%22maxWidth%22%3A%20%22100%25%22%7D%29%3B%0A%0A%20%20%20%20%20%20%20%20%0A%20%20%20%20%20%20%20%20%20%20%20%20var%20html_24585431d41b492884849dd77e9f257a%20%3D%20%24%28%60%3Cdiv%20id%3D%22html_24585431d41b492884849dd77e9f257a%22%20style%3D%22width%3A%20100.0%25%3B%20height%3A%20100.0%25%3B%22%3Ezone_77%3C/div%3E%60%29%5B0%5D%3B%0A%20%20%20%20%20%20%20%20%20%20%20%20popup_f617bd980a724384a110796ca7e1776c.setContent%28html_24585431d41b492884849dd77e9f257a%29%3B%0A%20%20%20%20%20%20%20%20%0A%0A%20%20%20%20%20%20%20%20circle_marker_4d5b2bb3fbb141ef87cb9b9befb27b49.bindPopup%28popup_f617bd980a724384a110796ca7e1776c%29%0A%20%20%20%20%20%20%20%20%3B%0A%0A%20%20%20%20%20%20%20%20%0A%20%20%20%20%0A%20%20%20%20%0A%20%20%20%20%20%20%20%20%20%20%20%20var%20circle_marker_bd6c37e021654cad8a453e2293229542%20%3D%20L.circleMarker%28%0A%20%20%20%20%20%20%20%20%20%20%20%20%20%20%20%20%5B52.53977337327443%2C%2013.430522707139989%5D%2C%0A%20%20%20%20%20%20%20%20%20%20%20%20%20%20%20%20%7B%22bubblingMouseEvents%22%3A%20true%2C%20%22color%22%3A%20%22red%22%2C%20%22dashArray%22%3A%20null%2C%20%22dashOffset%22%3A%20null%2C%20%22fill%22%3A%20true%2C%20%22fillColor%22%3A%20%22red%22%2C%20%22fillOpacity%22%3A%201%2C%20%22fillRule%22%3A%20%22evenodd%22%2C%20%22lineCap%22%3A%20%22round%22%2C%20%22lineJoin%22%3A%20%22round%22%2C%20%22opacity%22%3A%201.0%2C%20%22radius%22%3A%205%2C%20%22stroke%22%3A%20true%2C%20%22weight%22%3A%203%7D%0A%20%20%20%20%20%20%20%20%20%20%20%20%29.addTo%28map_70552ea4488c47afb487dd40f3e2252b%29%3B%0A%20%20%20%20%20%20%20%20%0A%20%20%20%20%0A%20%20%20%20%20%20%20%20var%20popup_1d0ab14c3a7d4fca8db222fb0a469601%20%3D%20L.popup%28%7B%22maxWidth%22%3A%20%22100%25%22%7D%29%3B%0A%0A%20%20%20%20%20%20%20%20%0A%20%20%20%20%20%20%20%20%20%20%20%20var%20html_bdb038adb2764a8781c9ca7cde4e7287%20%3D%20%24%28%60%3Cdiv%20id%3D%22html_bdb038adb2764a8781c9ca7cde4e7287%22%20style%3D%22width%3A%20100.0%25%3B%20height%3A%20100.0%25%3B%22%3Ezone_67%3C/div%3E%60%29%5B0%5D%3B%0A%20%20%20%20%20%20%20%20%20%20%20%20popup_1d0ab14c3a7d4fca8db222fb0a469601.setContent%28html_bdb038adb2764a8781c9ca7cde4e7287%29%3B%0A%20%20%20%20%20%20%20%20%0A%0A%20%20%20%20%20%20%20%20circle_marker_bd6c37e021654cad8a453e2293229542.bindPopup%28popup_1d0ab14c3a7d4fca8db222fb0a469601%29%0A%20%20%20%20%20%20%20%20%3B%0A%0A%20%20%20%20%20%20%20%20%0A%20%20%20%20%0A%3C/script%3E onload=\"this.contentDocument.open();this.contentDocument.write(    decodeURIComponent(this.getAttribute('data-html')));this.contentDocument.close();\" allowfullscreen webkitallowfullscreen mozallowfullscreen></iframe></div></div>"
      ],
      "text/plain": [
       "<folium.folium.Map at 0x1baa3bdce80>"
      ]
     },
     "execution_count": 40,
     "metadata": {},
     "output_type": "execute_result"
    }
   ],
   "source": [
    "# Plot all paths between zones including car\n",
    "path(sm, 'zone_77', 'zone_67', public=True, private=True)"
   ]
  },
  {
   "cell_type": "markdown",
   "metadata": {},
   "source": [
    "## Prices\n",
    "\n",
    "Add price LoS attribute to LoS tables"
   ]
  },
  {
   "cell_type": "code",
   "execution_count": 41,
   "metadata": {},
   "outputs": [],
   "source": [
    "# Car usage has operating cost of 12ct/km in average\n",
    "# Note: we don't apply sunk cost like maintenance or purchase cost\n",
    "sm.car_los['price'] = sm.car_los['length'] * 0.12 / 1000"
   ]
  },
  {
   "cell_type": "code",
   "execution_count": 42,
   "metadata": {},
   "outputs": [],
   "source": [
    "# For PT, we have a look at the PT operators price structure.\n",
    "# For this toy model we simplify it to day tickets:\n",
    "# https://www.ratp.fr/en/titres-et-tarifs/mobilis\n",
    "# Assume that a passenger makes two trips per day with a day ticket\n",
    "sm.pt_los['price'] = 7.5 / 2\n",
    "# We don't re-build the exact price structure, but make longer trips more expensive\n",
    "sm.pt_los.loc[sm.pt_los['length']>10000, 'price'] = 10 / 2"
   ]
  },
  {
   "cell_type": "code",
   "execution_count": 43,
   "metadata": {},
   "outputs": [
    {
     "data": {
      "text/html": [
       "<div>\n",
       "<style scoped>\n",
       "    .dataframe tbody tr th:only-of-type {\n",
       "        vertical-align: middle;\n",
       "    }\n",
       "\n",
       "    .dataframe tbody tr th {\n",
       "        vertical-align: top;\n",
       "    }\n",
       "\n",
       "    .dataframe thead th {\n",
       "        text-align: right;\n",
       "    }\n",
       "</style>\n",
       "<table border=\"1\" class=\"dataframe\">\n",
       "  <thead>\n",
       "    <tr style=\"text-align: right;\">\n",
       "      <th></th>\n",
       "      <th>origin</th>\n",
       "      <th>destination</th>\n",
       "      <th>gtime</th>\n",
       "      <th>path</th>\n",
       "      <th>reversed</th>\n",
       "      <th>pathfinder_session</th>\n",
       "      <th>broken_modes</th>\n",
       "      <th>boardings</th>\n",
       "      <th>alightings</th>\n",
       "      <th>node_path</th>\n",
       "      <th>...</th>\n",
       "      <th>footpath_time</th>\n",
       "      <th>in_vehicle_time</th>\n",
       "      <th>waiting_time</th>\n",
       "      <th>boarding_time</th>\n",
       "      <th>time</th>\n",
       "      <th>access_length</th>\n",
       "      <th>footpath_length</th>\n",
       "      <th>in_vehicle_length</th>\n",
       "      <th>length</th>\n",
       "      <th>price</th>\n",
       "    </tr>\n",
       "  </thead>\n",
       "  <tbody>\n",
       "    <tr>\n",
       "      <th>3847</th>\n",
       "      <td>zone_44</td>\n",
       "      <td>zone_67</td>\n",
       "      <td>1.000004e+09</td>\n",
       "      <td>(zone_44, n_439, zone_42, n_370, link_9729, li...</td>\n",
       "      <td>False</td>\n",
       "      <td>mode_breaker</td>\n",
       "      <td>{bus, rail}</td>\n",
       "      <td>[n_370, n_286, n_211]</td>\n",
       "      <td>[n_286, n_211, n_67]</td>\n",
       "      <td>[n_439, n_370, n_286, n_211, n_67]</td>\n",
       "      <td>...</td>\n",
       "      <td>0.0</td>\n",
       "      <td>1320.0</td>\n",
       "      <td>588.5</td>\n",
       "      <td>0</td>\n",
       "      <td>3995.674059</td>\n",
       "      <td>3528.633537</td>\n",
       "      <td>0.0</td>\n",
       "      <td>14580.0</td>\n",
       "      <td>18108.633537</td>\n",
       "      <td>5.0</td>\n",
       "    </tr>\n",
       "  </tbody>\n",
       "</table>\n",
       "<p>1 rows × 33 columns</p>\n",
       "</div>"
      ],
      "text/plain": [
       "       origin destination         gtime  \\\n",
       "3847  zone_44     zone_67  1.000004e+09   \n",
       "\n",
       "                                                   path  reversed  \\\n",
       "3847  (zone_44, n_439, zone_42, n_370, link_9729, li...     False   \n",
       "\n",
       "     pathfinder_session broken_modes              boardings  \\\n",
       "3847       mode_breaker  {bus, rail}  [n_370, n_286, n_211]   \n",
       "\n",
       "                alightings                           node_path  ...  \\\n",
       "3847  [n_286, n_211, n_67]  [n_439, n_370, n_286, n_211, n_67]  ...   \n",
       "\n",
       "     footpath_time in_vehicle_time waiting_time boarding_time         time  \\\n",
       "3847           0.0          1320.0        588.5             0  3995.674059   \n",
       "\n",
       "     access_length  footpath_length  in_vehicle_length        length  price  \n",
       "3847   3528.633537              0.0            14580.0  18108.633537    5.0  \n",
       "\n",
       "[1 rows x 33 columns]"
      ]
     },
     "execution_count": 43,
     "metadata": {},
     "output_type": "execute_result"
    }
   ],
   "source": [
    "sm.pt_los.sample()"
   ]
  },
  {
   "cell_type": "markdown",
   "metadata": {},
   "source": [
    "## Save model"
   ]
  },
  {
   "cell_type": "code",
   "execution_count": 44,
   "metadata": {},
   "outputs": [],
   "source": [
    "sm.pt_los.reset_index(drop=True, inplace=True)"
   ]
  },
  {
   "cell_type": "code",
   "execution_count": 45,
   "metadata": {},
   "outputs": [
    {
     "name": "stderr",
     "output_type": "stream",
     "text": [
      "to_hdf(overwriting):  71%|███████   | 27/38 [01:09<00:15,  1.40s/it]"
     ]
    },
    {
     "name": "stdout",
     "output_type": "stream",
     "text": [
      "could not save geometry from table fare_rules\n",
      "could not save geometry from table fare_attributes\n",
      "could not save geometry from table mode_nests\n",
      "could not save geometry from table logit_scales\n",
      "could not save geometry from table utility_values\n"
     ]
    },
    {
     "name": "stderr",
     "output_type": "stream",
     "text": [
      "to_hdf(overwriting): 100%|██████████| 38/38 [01:12<00:00,  1.90s/it]\n"
     ]
    }
   ],
   "source": [
    "sm.to_json(model_path + 'los_tables')"
   ]
  }
 ],
 "metadata": {
  "kernelspec": {
   "display_name": "Python 3.8.12 ('quetzal_env')",
   "language": "python",
   "name": "python3"
  },
  "language_info": {
   "codemirror_mode": {
    "name": "ipython",
    "version": 3
   },
   "file_extension": ".py",
   "mimetype": "text/x-python",
   "name": "python",
   "nbconvert_exporter": "python",
   "pygments_lexer": "ipython3",
   "version": "3.8.12"
  },
  "vscode": {
   "interpreter": {
    "hash": "3cc4bcfe731f2ee019f386507748d81bde603c38f633cd56cfe2936f38177aa1"
   }
  }
 },
 "nbformat": 4,
 "nbformat_minor": 4
}
