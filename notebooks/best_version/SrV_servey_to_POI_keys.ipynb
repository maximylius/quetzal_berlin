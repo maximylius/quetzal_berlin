{
 "cells": [
  {
   "cell_type": "code",
   "execution_count": 60,
   "id": "18cbaddf",
   "metadata": {},
   "outputs": [],
   "source": [
    "import pandas as pd\n",
    "\n",
    "input_path = './../../input/'\n",
    "\n",
    "anzahl_Wege_POIkeys = pd.read_excel(input_path + 'anzhal-Wege-POIKeys.xlsx')\n",
    "anzahl_Wege_POIkeys"
   ]
  },
  {
   "cell_type": "code",
   "execution_count": 62,
   "id": "80f2bf5e",
   "metadata": {},
   "outputs": [
    {
     "data": {
      "text/plain": [
       "95.09532221945757"
      ]
     },
     "execution_count": 62,
     "metadata": {},
     "output_type": "execute_result"
    }
   ],
   "source": [
    "# zahlen aus survey\n",
    "anz_wege_surv = anzahl_Wege_POIkeys['AlleWege'][anzahl_Wege_POIkeys['Ziel/Zweck'] == 'Ungewichtete Fallzahl'][11]\n",
    "anz_befragte = 40190 \n",
    "\n",
    "# EW Berlins\n",
    "berlinEW = 3821881 #https://www.statistik-berlin-brandenburg.de/a-i-5-hj\n",
    "\n",
    "# Faktor zur hochrechnung\n",
    "faktor_berlin = berlinEW/anz_befragte\n",
    "faktor_berlin"
   ]
  },
  {
   "cell_type": "code",
   "execution_count": 64,
   "id": "ff3d37f9",
   "metadata": {},
   "outputs": [
    {
     "data": {
      "text/plain": [
       "{'kindergarten': 'Summe Schule',\n",
       " 'school': 'Summe Schule',\n",
       " 'university': 'Summe Schule',\n",
       " 'college': 'Summe Schule',\n",
       " 'pharmacy': 'Summe Einkauf',\n",
       " 'marketplace': 'Summe Einkauf',\n",
       " 'retail': 'Summe Einkauf',\n",
       " 'hardware': 'Summe Einkauf',\n",
       " 'garden_centre': 'Summe Einkauf',\n",
       " 'supermarket': 'Summe Einkauf',\n",
       " 'convenience': 'Summe Einkauf',\n",
       " 'butcher': 'Summe Einkauf',\n",
       " 'beverages': 'Summe Einkauf',\n",
       " 'clothes': 'Summe Einkauf',\n",
       " 'doityourself': 'Summe Einkauf',\n",
       " 'shoes': 'Summe Einkauf',\n",
       " 'mall': 'Summe Einkauf',\n",
       " 'greengrocer': 'Summe Einkauf',\n",
       " 'department_store': 'Summe Einkauf',\n",
       " 'bakery': 'Summe Einkauf',\n",
       " 'electronics': 'Summe Einkauf',\n",
       " 'winery': 'Summe Einkauf',\n",
       " '': 'Eigene Wohnung',\n",
       " 'doctors': 'Behördengang. Arztbesuch',\n",
       " 'clinic': 'Behördengang. Arztbesuch',\n",
       " 'hospital': 'Behördengang. Arztbesuch',\n",
       " 'roofer': 'Dienstleistungseinrichtung (z. B. Post. Bank. Friseur)',\n",
       " 'electronics_repair': 'Dienstleistungseinrichtung (z. B. Post. Bank. Friseur)',\n",
       " 'beekeeper': 'Dienstleistungseinrichtung (z. B. Post. Bank. Friseur)',\n",
       " 'joiner': 'Dienstleistungseinrichtung (z. B. Post. Bank. Friseur)',\n",
       " 'printer': 'Dienstleistungseinrichtung (z. B. Post. Bank. Friseur)',\n",
       " 'boatbuilder': 'Dienstleistungseinrichtung (z. B. Post. Bank. Friseur)',\n",
       " 'distillery': 'Dienstleistungseinrichtung (z. B. Post. Bank. Friseur)',\n",
       " 'conservator': 'Dienstleistungseinrichtung (z. B. Post. Bank. Friseur)',\n",
       " 'photographic_laboratory': 'Dienstleistungseinrichtung (z. B. Post. Bank. Friseur)',\n",
       " 'upholsterer': 'Dienstleistungseinrichtung (z. B. Post. Bank. Friseur)',\n",
       " 'chimney_sweeper': 'Dienstleistungseinrichtung (z. B. Post. Bank. Friseur)',\n",
       " 'locksmith': 'Dienstleistungseinrichtung (z. B. Post. Bank. Friseur)',\n",
       " 'plasterer': 'Dienstleistungseinrichtung (z. B. Post. Bank. Friseur)',\n",
       " 'clockmaker': 'Dienstleistungseinrichtung (z. B. Post. Bank. Friseur)',\n",
       " 'cooper': 'Dienstleistungseinrichtung (z. B. Post. Bank. Friseur)',\n",
       " 'insulation': 'Dienstleistungseinrichtung (z. B. Post. Bank. Friseur)',\n",
       " 'saddler': 'Dienstleistungseinrichtung (z. B. Post. Bank. Friseur)',\n",
       " 'cosmeticsun protection': 'Dienstleistungseinrichtung (z. B. Post. Bank. Friseur)',\n",
       " 'painter': 'Dienstleistungseinrichtung (z. B. Post. Bank. Friseur)',\n",
       " 'dressmaker': 'Dienstleistungseinrichtung (z. B. Post. Bank. Friseur)',\n",
       " 'gardenerliquid_gas_appliances': 'Dienstleistungseinrichtung (z. B. Post. Bank. Friseur)',\n",
       " 'key_cutter': 'Dienstleistungseinrichtung (z. B. Post. Bank. Friseur)',\n",
       " 'engraver': 'Dienstleistungseinrichtung (z. B. Post. Bank. Friseur)',\n",
       " 'Make-up Artist': 'Dienstleistungseinrichtung (z. B. Post. Bank. Friseur)',\n",
       " 'post_office SFX': 'Dienstleistungseinrichtung (z. B. Post. Bank. Friseur)',\n",
       " 'brewery': 'Dienstleistungseinrichtung (z. B. Post. Bank. Friseur)',\n",
       " 'metal_construction': 'Dienstleistungseinrichtung (z. B. Post. Bank. Friseur)',\n",
       " 'car_panel_beater': 'Dienstleistungseinrichtung (z. B. Post. Bank. Friseur)',\n",
       " 'taxidermist': 'Dienstleistungseinrichtung (z. B. Post. Bank. Friseur)',\n",
       " 'pastry': 'Dienstleistungseinrichtung (z. B. Post. Bank. Friseur)',\n",
       " 'interior_work': 'Dienstleistungseinrichtung (z. B. Post. Bank. Friseur)',\n",
       " 'glass': 'Dienstleistungseinrichtung (z. B. Post. Bank. Friseur)',\n",
       " 'plumbing': 'Dienstleistungseinrichtung (z. B. Post. Bank. Friseur)',\n",
       " 'floorer': 'Dienstleistungseinrichtung (z. B. Post. Bank. Friseur)',\n",
       " 'luthier': 'Dienstleistungseinrichtung (z. B. Post. Bank. Friseur)',\n",
       " 'picture_frames': 'Dienstleistungseinrichtung (z. B. Post. Bank. Friseur)',\n",
       " 'printmaker': 'Dienstleistungseinrichtung (z. B. Post. Bank. Friseur)',\n",
       " 'blacksmith': 'Dienstleistungseinrichtung (z. B. Post. Bank. Friseur)',\n",
       " 'dryer': 'Dienstleistungseinrichtung (z. B. Post. Bank. Friseur)',\n",
       " 'aircraftmaker': 'Dienstleistungseinrichtung (z. B. Post. Bank. Friseur)',\n",
       " 'stonemason': 'Dienstleistungseinrichtung (z. B. Post. Bank. Friseur)',\n",
       " 'agricultural_engines': 'Dienstleistungseinrichtung (z. B. Post. Bank. Friseur)',\n",
       " 'leather': 'Dienstleistungseinrichtung (z. B. Post. Bank. Friseur)',\n",
       " 'tinsmith': 'Dienstleistungseinrichtung (z. B. Post. Bank. Friseur)',\n",
       " 'pest_control': 'Dienstleistungseinrichtung (z. B. Post. Bank. Friseur)',\n",
       " 'piano_tuner': 'Dienstleistungseinrichtung (z. B. Post. Bank. Friseur)',\n",
       " 'watchmaker': 'Dienstleistungseinrichtung (z. B. Post. Bank. Friseur)',\n",
       " 'goldsmith': 'Dienstleistungseinrichtung (z. B. Post. Bank. Friseur)',\n",
       " 'scaffolder': 'Dienstleistungseinrichtung (z. B. Post. Bank. Friseur)',\n",
       " 'cleaning': 'Dienstleistungseinrichtung (z. B. Post. Bank. Friseur)',\n",
       " 'construction': 'Dienstleistungseinrichtung (z. B. Post. Bank. Friseur)',\n",
       " 'glass_mosaik': 'Dienstleistungseinrichtung (z. B. Post. Bank. Friseur)',\n",
       " 'sculptor': 'Dienstleistungseinrichtung (z. B. Post. Bank. Friseur)',\n",
       " 'parquet_layer': 'Dienstleistungseinrichtung (z. B. Post. Bank. Friseur)',\n",
       " 'sewing_machine_repair': 'Dienstleistungseinrichtung (z. B. Post. Bank. Friseur)',\n",
       " 'shoemaker': 'Dienstleistungseinrichtung (z. B. Post. Bank. Friseur)',\n",
       " 'print_shop': 'Dienstleistungseinrichtung (z. B. Post. Bank. Friseur)',\n",
       " 'signmaker': 'Dienstleistungseinrichtung (z. B. Post. Bank. Friseur)',\n",
       " 'toolmaker': 'Dienstleistungseinrichtung (z. B. Post. Bank. Friseur)',\n",
       " 'exterminator': 'Dienstleistungseinrichtung (z. B. Post. Bank. Friseur)',\n",
       " 'embroiderer': 'Dienstleistungseinrichtung (z. B. Post. Bank. Friseur)',\n",
       " 'tailor': 'Dienstleistungseinrichtung (z. B. Post. Bank. Friseur)',\n",
       " 'furniture_maker': 'Dienstleistungseinrichtung (z. B. Post. Bank. Friseur)',\n",
       " 'furniture': 'Dienstleistungseinrichtung (z. B. Post. Bank. Friseur)',\n",
       " 'electrician': 'Dienstleistungseinrichtung (z. B. Post. Bank. Friseur)',\n",
       " 'printers': 'Dienstleistungseinrichtung (z. B. Post. Bank. Friseur)',\n",
       " 'shoe_repair': 'Dienstleistungseinrichtung (z. B. Post. Bank. Friseur)',\n",
       " 'handicraft': 'Dienstleistungseinrichtung (z. B. Post. Bank. Friseur)',\n",
       " 'carpet_cleaner': 'Dienstleistungseinrichtung (z. B. Post. Bank. Friseur)',\n",
       " 'basket_maker': 'Dienstleistungseinrichtung (z. B. Post. Bank. Friseur)',\n",
       " 'atelier': 'Dienstleistungseinrichtung (z. B. Post. Bank. Friseur)',\n",
       " 'oil_mill': 'Dienstleistungseinrichtung (z. B. Post. Bank. Friseur)',\n",
       " 'photo_studio': 'Dienstleistungseinrichtung (z. B. Post. Bank. Friseur)',\n",
       " 'jeweller': 'Dienstleistungseinrichtung (z. B. Post. Bank. Friseur)',\n",
       " 'optical_components': 'Dienstleistungseinrichtung (z. B. Post. Bank. Friseur)',\n",
       " 'janitor': 'Dienstleistungseinrichtung (z. B. Post. Bank. Friseur)',\n",
       " 'confectionery': 'Dienstleistungseinrichtung (z. B. Post. Bank. Friseur)',\n",
       " 'heating_engineer': 'Dienstleistungseinrichtung (z. B. Post. Bank. Friseur)',\n",
       " 'interior_decoration': 'Dienstleistungseinrichtung (z. B. Post. Bank. Friseur)',\n",
       " 'pottery': 'Dienstleistungseinrichtung (z. B. Post. Bank. Friseur)',\n",
       " 'workshop': 'Dienstleistungseinrichtung (z. B. Post. Bank. Friseur)',\n",
       " 'wall_draining': 'Dienstleistungseinrichtung (z. B. Post. Bank. Friseur)',\n",
       " 'hvac': 'Dienstleistungseinrichtung (z. B. Post. Bank. Friseur)',\n",
       " 'sharpening': 'Dienstleistungseinrichtung (z. B. Post. Bank. Friseur)',\n",
       " 'carpet_layer': 'Dienstleistungseinrichtung (z. B. Post. Bank. Friseur)',\n",
       " 'glaziery': 'Dienstleistungseinrichtung (z. B. Post. Bank. Friseur)',\n",
       " 'pyrotechnician': 'Dienstleistungseinrichtung (z. B. Post. Bank. Friseur)',\n",
       " 'frame-maker': 'Dienstleistungseinrichtung (z. B. Post. Bank. Friseur)',\n",
       " 'carpenter': 'Dienstleistungseinrichtung (z. B. Post. Bank. Friseur)',\n",
       " 'candles': 'Dienstleistungseinrichtung (z. B. Post. Bank. Friseur)',\n",
       " 'frame_maker': 'Dienstleistungseinrichtung (z. B. Post. Bank. Friseur)',\n",
       " 'tiler': 'Dienstleistungseinrichtung (z. B. Post. Bank. Friseur)',\n",
       " 'cabinet_maker': 'Dienstleistungseinrichtung (z. B. Post. Bank. Friseur)',\n",
       " 'electroplating': 'Dienstleistungseinrichtung (z. B. Post. Bank. Friseur)',\n",
       " 'photographer': 'Dienstleistungseinrichtung (z. B. Post. Bank. Friseur)',\n",
       " 'builder': 'Dienstleistungseinrichtung (z. B. Post. Bank. Friseur)',\n",
       " 'yes': 'Dienstleistungseinrichtung (z. B. Post. Bank. Friseur)',\n",
       " 'plumber': 'Dienstleistungseinrichtung (z. B. Post. Bank. Friseur)',\n",
       " 'optician': 'Dienstleistungseinrichtung (z. B. Post. Bank. Friseur)',\n",
       " 'model': 'Dienstleistungseinrichtung (z. B. Post. Bank. Friseur)',\n",
       " 'dental_technician': 'Dienstleistungseinrichtung (z. B. Post. Bank. Friseur)',\n",
       " 'goldsmtih': 'Dienstleistungseinrichtung (z. B. Post. Bank. Friseur)',\n",
       " 'musical_instrument': 'Dienstleistungseinrichtung (z. B. Post. Bank. Friseur)',\n",
       " 'caterer': 'Dienstleistungseinrichtung (z. B. Post. Bank. Friseur)',\n",
       " 'window_construction': 'Dienstleistungseinrichtung (z. B. Post. Bank. Friseur)',\n",
       " 'maintenance': 'Dienstleistungseinrichtung (z. B. Post. Bank. Friseur)',\n",
       " 'oem': 'Dienstleistungseinrichtung (z. B. Post. Bank. Friseur)',\n",
       " 'car_painter': 'Dienstleistungseinrichtung (z. B. Post. Bank. Friseur)',\n",
       " 'transportation': 'Dienstleistungseinrichtung (z. B. Post. Bank. Friseur)',\n",
       " 'bookbinder': 'Dienstleistungseinrichtung (z. B. Post. Bank. Friseur)',\n",
       " 'sun_protection': 'Dienstleistungseinrichtung (z. B. Post. Bank. Friseur)',\n",
       " 'organ_builder': 'Dienstleistungseinrichtung (z. B. Post. Bank. Friseur)',\n",
       " 'interior_decorator': 'Dienstleistungseinrichtung (z. B. Post. Bank. Friseur)',\n",
       " 'grinder': 'Dienstleistungseinrichtung (z. B. Post. Bank. Friseur)',\n",
       " 'printing': 'Dienstleistungseinrichtung (z. B. Post. Bank. Friseur)',\n",
       " 'weaver': 'Dienstleistungseinrichtung (z. B. Post. Bank. Friseur)',\n",
       " 'hatter': 'Dienstleistungseinrichtung (z. B. Post. Bank. Friseur)',\n",
       " 'glassblowing': 'Dienstleistungseinrichtung (z. B. Post. Bank. Friseur)',\n",
       " 'cinema': 'Kultur. Theater. Kino',\n",
       " 'arts_centre': 'Kultur. Theater. Kino',\n",
       " 'theatre': 'Kultur. Theater. Kino',\n",
       " 'nightclub': 'Kultur. Theater. Kino',\n",
       " 'events_venue': 'Kultur. Theater. Kino',\n",
       " 'restaurant': 'Gaststätte/Kneipe',\n",
       " 'biergarten': 'Gaststätte/Kneipe',\n",
       " 'cafe': 'Gaststätte/Kneipe',\n",
       " 'pub': 'Gaststätte/Kneipe',\n",
       " 'bar': 'Gaststätte/Kneipe',\n",
       " 'icecream': 'Gaststätte/Kneipe',\n",
       " 'hotel': 'Gaststätte/Kneipe',\n",
       " 'community_centre': 'Summe Sport Freizeit',\n",
       " 'public_bath': 'Summe Sport Freizeit',\n",
       " 'stadium': 'Summe Sport Freizeit',\n",
       " 'beach_resort': 'Summe Sport Freizeit',\n",
       " 'sports_centre': 'Summe Sport Freizeit',\n",
       " 'marina': 'Summe Sport Freizeit',\n",
       " 'swimming_pool': 'Summe Sport Freizeit',\n",
       " 'park': 'Summe Sport Freizeit',\n",
       " 'nature_reserve': 'Summe Sport Freizeit',\n",
       " 'water_park': 'Summe Sport Freizeit',\n",
       " 'attraction': 'Summe Sport Freizeit',\n",
       " 'theme_park': 'Summe Sport Freizeit',\n",
       " 'zoo': 'Summe Sport Freizeit',\n",
       " 'aquarium': 'Summe Sport Freizeit',\n",
       " 'lake': 'Summe Sport Freizeit',\n",
       " 'pitch': 'Summe Sport Freizeit',\n",
       " 'camp_site': 'Summe Sport Freizeit',\n",
       " 'caravan_site': 'Summe Sport Freizeit',\n",
       " 'place_of_worship': 'Sonstiges Summe',\n",
       " 'hostel': 'Sonstiges Summe'}"
      ]
     },
     "execution_count": 64,
     "metadata": {},
     "output_type": "execute_result"
    }
   ],
   "source": [
    "# dictionary von osm tags zu Ziel/Zweck aus SrV servey\n",
    "POIkey_dict = {}\n",
    "for i in range(11):\n",
    "    key_string = anzahl_Wege_POIkeys['POI-keys'][i]\n",
    "    value_string = anzahl_Wege_POIkeys['Ziel/Zweck'][i]\n",
    "    if(type(key_string) == float):\n",
    "        key_string = \"\"\n",
    "    string_array = key_string.rsplit(';')\n",
    "    for s in string_array:\n",
    "        POIkey_dict[s] = value_string\n",
    "POIkey_dict"
   ]
  },
  {
   "cell_type": "code",
   "execution_count": 76,
   "id": "15fa960a",
   "metadata": {},
   "outputs": [
    {
     "data": {
      "text/plain": [
       "{'Summe Schule': 239508.07742128722,\n",
       " 'Summe Einkauf': 425792.13763784396,\n",
       " 'Eigener Arbeitsplatz': 509429.8789595633,\n",
       " 'Anderer Dienstort/-weg': 95042.88786559016,\n",
       " 'Behördengang. Arztbesuch': 117853.18095333182,\n",
       " 'Dienstleistungseinrichtung (z. B. Post. Bank. Friseur)': 91241.17235096656,\n",
       " 'Kultur. Theater. Kino': 26612.008602365247,\n",
       " 'Gaststätte/Kneipe': 121654.89646795545,\n",
       " 'Summe Sport Freizeit': 338352.68080150103,\n",
       " 'Eigene Wohnung': 1478867.335188583,\n",
       " 'Sonstiges Summe': 357361.2583746191}"
      ]
     },
     "execution_count": 76,
     "metadata": {},
     "output_type": "execute_result"
    }
   ],
   "source": [
    "# absolute Zahlen Trips je Zweck\n",
    "zweck_abs_dict = {}\n",
    "\n",
    "for i in range(11):\n",
    "    key_string = anzahl_Wege_POIkeys['Ziel/Zweck'][i]\n",
    "    percent = anzahl_Wege_POIkeys['AlleWege'][i]\n",
    "    value = anz_wege_surv*percent/100 * faktorBerlin\n",
    "    zweck_abs_dict[key_string] = value\n"
   ]
  },
  {
   "cell_type": "code",
   "execution_count": null,
   "id": "7c5a6d88",
   "metadata": {},
   "outputs": [],
   "source": []
  },
  {
   "cell_type": "code",
   "execution_count": 70,
   "id": "6a75a911",
   "metadata": {},
   "outputs": [
    {
     "data": {
      "text/plain": [
       "0.03412377308450996"
      ]
     },
     "execution_count": 70,
     "metadata": {},
     "output_type": "execute_result"
    }
   ],
   "source": []
  },
  {
   "cell_type": "code",
   "execution_count": 71,
   "id": "0e096932",
   "metadata": {},
   "outputs": [
    {
     "data": {
      "text/plain": [
       "3821881"
      ]
     },
     "execution_count": 71,
     "metadata": {},
     "output_type": "execute_result"
    }
   ],
   "source": []
  }
 ],
 "metadata": {
  "kernelspec": {
   "display_name": "quetzal_env",
   "language": "python",
   "name": "quetzal_env"
  },
  "language_info": {
   "codemirror_mode": {
    "name": "ipython",
    "version": 3
   },
   "file_extension": ".py",
   "mimetype": "text/x-python",
   "name": "python",
   "nbconvert_exporter": "python",
   "pygments_lexer": "ipython3",
   "version": "3.8.13"
  }
 },
 "nbformat": 4,
 "nbformat_minor": 5
}
