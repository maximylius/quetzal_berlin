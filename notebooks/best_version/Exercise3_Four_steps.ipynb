{
 "cells": [
  {
   "cell_type": "code",
   "execution_count": 1,
   "metadata": {},
   "outputs": [
    {
     "name": "stdout",
     "output_type": "stream",
     "text": [
      "SQLalchemy is not installed. No support for SQL output.\n"
     ]
    }
   ],
   "source": [
    "import pandas as pd\n",
    "import geopandas as gpd\n",
    "import numpy as np\n",
    "from quetzal.model import stepmodel"
   ]
  },
  {
   "cell_type": "code",
   "execution_count": 2,
   "metadata": {},
   "outputs": [],
   "source": [
    "# Load the model with LoS tables from the last exercise\n",
    "model_path = '../../model/'\n",
    "sm = stepmodel.read_json(model_path + 'los_tables')"
   ]
  },
  {
   "cell_type": "markdown",
   "metadata": {},
   "source": [
    "## Step trip generation\n",
    "In every zone we need to generate a column `emission` and `attraction`. What kind of trips you count to it largely affects the interpretability of your results. If you use employment characteristics only for attraction, your model will only be applicable to commuting questions, but not for shopping or leisure trips. Moreover, the results of a congestion analysis after the assignment step are worthless because the real network load is higher when you consider all demand segments."
   ]
  },
  {
   "cell_type": "code",
   "execution_count": 3,
   "metadata": {},
   "outputs": [
    {
     "data": {
      "text/html": [
       "<div>\n",
       "<style scoped>\n",
       "    .dataframe tbody tr th:only-of-type {\n",
       "        vertical-align: middle;\n",
       "    }\n",
       "\n",
       "    .dataframe tbody tr th {\n",
       "        vertical-align: top;\n",
       "    }\n",
       "\n",
       "    .dataframe thead th {\n",
       "        text-align: right;\n",
       "    }\n",
       "</style>\n",
       "<table border=\"1\" class=\"dataframe\">\n",
       "  <thead>\n",
       "    <tr style=\"text-align: right;\">\n",
       "      <th></th>\n",
       "      <th>uuid</th>\n",
       "      <th>sch</th>\n",
       "      <th>nam</th>\n",
       "      <th>gdf</th>\n",
       "      <th>bezeich</th>\n",
       "      <th>geometry</th>\n",
       "    </tr>\n",
       "    <tr>\n",
       "      <th>index</th>\n",
       "      <th></th>\n",
       "      <th></th>\n",
       "      <th></th>\n",
       "      <th></th>\n",
       "      <th></th>\n",
       "      <th></th>\n",
       "    </tr>\n",
       "  </thead>\n",
       "  <tbody>\n",
       "    <tr>\n",
       "      <th>zone_87</th>\n",
       "      <td>DEBE12YYJ000000H</td>\n",
       "      <td>110000121208</td>\n",
       "      <td>Lübars</td>\n",
       "      <td>5010988.0</td>\n",
       "      <td>AX_KommunalesGebiet</td>\n",
       "      <td>POLYGON ((13.36573 52.62529, 13.36583 52.62528...</td>\n",
       "    </tr>\n",
       "  </tbody>\n",
       "</table>\n",
       "</div>"
      ],
      "text/plain": [
       "                     uuid           sch     nam        gdf  \\\n",
       "index                                                        \n",
       "zone_87  DEBE12YYJ000000H  110000121208  Lübars  5010988.0   \n",
       "\n",
       "                     bezeich  \\\n",
       "index                          \n",
       "zone_87  AX_KommunalesGebiet   \n",
       "\n",
       "                                                  geometry  \n",
       "index                                                       \n",
       "zone_87  POLYGON ((13.36573 52.62529, 13.36583 52.62528...  "
      ]
     },
     "execution_count": 3,
     "metadata": {},
     "output_type": "execute_result"
    }
   ],
   "source": [
    "# Lets see what data we have\n",
    "sm.zones.sample()"
   ]
  },
  {
   "cell_type": "code",
   "execution_count": 4,
   "metadata": {},
   "outputs": [
    {
     "data": {
      "text/plain": [
       "<AxesSubplot:>"
      ]
     },
     "execution_count": 4,
     "metadata": {},
     "output_type": "execute_result"
    },
    {
     "data": {
      "image/png": "[encoded data removed]",
      "text/plain": [
       "<Figure size 216x216 with 1 Axes>"
      ]
     },
     "metadata": {
      "needs_background": "light"
     },
     "output_type": "display_data"
    }
   ],
   "source": [
    "# Let's add the number of shops per zone to add at least this travel purpose\n",
    "# Use random numbers for the toy model. Normally we would use land use data\n",
    "# from OpenStreetMap (tutorials available)\n",
    "# POI = point of interest\n",
    "sm.zones['POIs'] = np.random.randint(5, 20, len(sm.zones))\n",
    "# Check the distribution\n",
    "sm.zones['POIs'].hist(bins=15, figsize=(3,3))"
   ]
  },
  {
   "cell_type": "code",
   "execution_count": 5,
   "metadata": {},
   "outputs": [
    {
     "ename": "KeyError",
     "evalue": "'pop'",
     "output_type": "error",
     "traceback": [
      "\u001b[1;31m---------------------------------------------------------------------------\u001b[0m",
      "\u001b[1;31mKeyError\u001b[0m                                  Traceback (most recent call last)",
      "\u001b[1;32m~\\AppData\\Roaming\\Python\\Python38\\site-packages\\pandas\\core\\indexes\\base.py\u001b[0m in \u001b[0;36mget_loc\u001b[1;34m(self, key, method, tolerance)\u001b[0m\n\u001b[0;32m   3079\u001b[0m             \u001b[1;32mtry\u001b[0m\u001b[1;33m:\u001b[0m\u001b[1;33m\u001b[0m\u001b[1;33m\u001b[0m\u001b[0m\n\u001b[1;32m-> 3080\u001b[1;33m                 \u001b[1;32mreturn\u001b[0m \u001b[0mself\u001b[0m\u001b[1;33m.\u001b[0m\u001b[0m_engine\u001b[0m\u001b[1;33m.\u001b[0m\u001b[0mget_loc\u001b[0m\u001b[1;33m(\u001b[0m\u001b[0mcasted_key\u001b[0m\u001b[1;33m)\u001b[0m\u001b[1;33m\u001b[0m\u001b[1;33m\u001b[0m\u001b[0m\n\u001b[0m\u001b[0;32m   3081\u001b[0m             \u001b[1;32mexcept\u001b[0m \u001b[0mKeyError\u001b[0m \u001b[1;32mas\u001b[0m \u001b[0merr\u001b[0m\u001b[1;33m:\u001b[0m\u001b[1;33m\u001b[0m\u001b[1;33m\u001b[0m\u001b[0m\n",
      "\u001b[1;32mc:\\ProgramData\\Anaconda3\\envs\\quetzal_env\\lib\\site-packages\\pandas\\_libs\\index.pyx\u001b[0m in \u001b[0;36mpandas._libs.index.IndexEngine.get_loc\u001b[1;34m()\u001b[0m\n",
      "\u001b[1;32mc:\\ProgramData\\Anaconda3\\envs\\quetzal_env\\lib\\site-packages\\pandas\\_libs\\index.pyx\u001b[0m in \u001b[0;36mpandas._libs.index.IndexEngine.get_loc\u001b[1;34m()\u001b[0m\n",
      "\u001b[1;32mpandas\\_libs\\hashtable_class_helper.pxi\u001b[0m in \u001b[0;36mpandas._libs.hashtable.PyObjectHashTable.get_item\u001b[1;34m()\u001b[0m\n",
      "\u001b[1;32mpandas\\_libs\\hashtable_class_helper.pxi\u001b[0m in \u001b[0;36mpandas._libs.hashtable.PyObjectHashTable.get_item\u001b[1;34m()\u001b[0m\n",
      "\u001b[1;31mKeyError\u001b[0m: 'pop'",
      "\nThe above exception was the direct cause of the following exception:\n",
      "\u001b[1;31mKeyError\u001b[0m                                  Traceback (most recent call last)",
      "\u001b[1;32m<ipython-input-5-66ad33089823>\u001b[0m in \u001b[0;36m<module>\u001b[1;34m\u001b[0m\n\u001b[0;32m      4\u001b[0m \u001b[0mhome_office_rate\u001b[0m \u001b[1;33m=\u001b[0m \u001b[1;36m0.1\u001b[0m\u001b[1;33m\u001b[0m\u001b[1;33m\u001b[0m\u001b[0m\n\u001b[0;32m      5\u001b[0m \u001b[0mwork_trips_per_day\u001b[0m \u001b[1;33m=\u001b[0m \u001b[1;36m1.05\u001b[0m \u001b[1;31m# we set up the model for one average weekday!\u001b[0m\u001b[1;33m\u001b[0m\u001b[1;33m\u001b[0m\u001b[0m\n\u001b[1;32m----> 6\u001b[1;33m \u001b[0msm\u001b[0m\u001b[1;33m.\u001b[0m\u001b[0mzones\u001b[0m\u001b[1;33m[\u001b[0m\u001b[1;34m'emission'\u001b[0m\u001b[1;33m]\u001b[0m \u001b[1;33m=\u001b[0m \u001b[0msm\u001b[0m\u001b[1;33m.\u001b[0m\u001b[0mzones\u001b[0m\u001b[1;33m[\u001b[0m\u001b[1;34m'pop'\u001b[0m\u001b[1;33m]\u001b[0m \u001b[1;33m*\u001b[0m \u001b[0mwork_trips_per_day\u001b[0m \u001b[1;33m*\u001b[0m \u001b[1;33m(\u001b[0m\u001b[1;36m1\u001b[0m\u001b[1;33m-\u001b[0m\u001b[0mhome_office_rate\u001b[0m\u001b[1;33m)\u001b[0m \u001b[1;33m*\u001b[0m \u001b[0memployment_rate\u001b[0m\u001b[1;33m\u001b[0m\u001b[1;33m\u001b[0m\u001b[0m\n\u001b[0m\u001b[0;32m      7\u001b[0m \u001b[0msm\u001b[0m\u001b[1;33m.\u001b[0m\u001b[0mzones\u001b[0m\u001b[1;33m[\u001b[0m\u001b[1;34m'attraction'\u001b[0m\u001b[1;33m]\u001b[0m \u001b[1;33m=\u001b[0m \u001b[0msm\u001b[0m\u001b[1;33m.\u001b[0m\u001b[0mzones\u001b[0m\u001b[1;33m[\u001b[0m\u001b[1;34m'emp'\u001b[0m\u001b[1;33m]\u001b[0m\u001b[1;33m\u001b[0m\u001b[1;33m\u001b[0m\u001b[0m\n",
      "\u001b[1;32m~\\AppData\\Roaming\\Python\\Python38\\site-packages\\pandas\\core\\frame.py\u001b[0m in \u001b[0;36m__getitem__\u001b[1;34m(self, key)\u001b[0m\n\u001b[0;32m   3022\u001b[0m             \u001b[1;32mif\u001b[0m \u001b[0mself\u001b[0m\u001b[1;33m.\u001b[0m\u001b[0mcolumns\u001b[0m\u001b[1;33m.\u001b[0m\u001b[0mnlevels\u001b[0m \u001b[1;33m>\u001b[0m \u001b[1;36m1\u001b[0m\u001b[1;33m:\u001b[0m\u001b[1;33m\u001b[0m\u001b[1;33m\u001b[0m\u001b[0m\n\u001b[0;32m   3023\u001b[0m                 \u001b[1;32mreturn\u001b[0m \u001b[0mself\u001b[0m\u001b[1;33m.\u001b[0m\u001b[0m_getitem_multilevel\u001b[0m\u001b[1;33m(\u001b[0m\u001b[0mkey\u001b[0m\u001b[1;33m)\u001b[0m\u001b[1;33m\u001b[0m\u001b[1;33m\u001b[0m\u001b[0m\n\u001b[1;32m-> 3024\u001b[1;33m             \u001b[0mindexer\u001b[0m \u001b[1;33m=\u001b[0m \u001b[0mself\u001b[0m\u001b[1;33m.\u001b[0m\u001b[0mcolumns\u001b[0m\u001b[1;33m.\u001b[0m\u001b[0mget_loc\u001b[0m\u001b[1;33m(\u001b[0m\u001b[0mkey\u001b[0m\u001b[1;33m)\u001b[0m\u001b[1;33m\u001b[0m\u001b[1;33m\u001b[0m\u001b[0m\n\u001b[0m\u001b[0;32m   3025\u001b[0m             \u001b[1;32mif\u001b[0m \u001b[0mis_integer\u001b[0m\u001b[1;33m(\u001b[0m\u001b[0mindexer\u001b[0m\u001b[1;33m)\u001b[0m\u001b[1;33m:\u001b[0m\u001b[1;33m\u001b[0m\u001b[1;33m\u001b[0m\u001b[0m\n\u001b[0;32m   3026\u001b[0m                 \u001b[0mindexer\u001b[0m \u001b[1;33m=\u001b[0m \u001b[1;33m[\u001b[0m\u001b[0mindexer\u001b[0m\u001b[1;33m]\u001b[0m\u001b[1;33m\u001b[0m\u001b[1;33m\u001b[0m\u001b[0m\n",
      "\u001b[1;32m~\\AppData\\Roaming\\Python\\Python38\\site-packages\\pandas\\core\\indexes\\base.py\u001b[0m in \u001b[0;36mget_loc\u001b[1;34m(self, key, method, tolerance)\u001b[0m\n\u001b[0;32m   3080\u001b[0m                 \u001b[1;32mreturn\u001b[0m \u001b[0mself\u001b[0m\u001b[1;33m.\u001b[0m\u001b[0m_engine\u001b[0m\u001b[1;33m.\u001b[0m\u001b[0mget_loc\u001b[0m\u001b[1;33m(\u001b[0m\u001b[0mcasted_key\u001b[0m\u001b[1;33m)\u001b[0m\u001b[1;33m\u001b[0m\u001b[1;33m\u001b[0m\u001b[0m\n\u001b[0;32m   3081\u001b[0m             \u001b[1;32mexcept\u001b[0m \u001b[0mKeyError\u001b[0m \u001b[1;32mas\u001b[0m \u001b[0merr\u001b[0m\u001b[1;33m:\u001b[0m\u001b[1;33m\u001b[0m\u001b[1;33m\u001b[0m\u001b[0m\n\u001b[1;32m-> 3082\u001b[1;33m                 \u001b[1;32mraise\u001b[0m \u001b[0mKeyError\u001b[0m\u001b[1;33m(\u001b[0m\u001b[0mkey\u001b[0m\u001b[1;33m)\u001b[0m \u001b[1;32mfrom\u001b[0m \u001b[0merr\u001b[0m\u001b[1;33m\u001b[0m\u001b[1;33m\u001b[0m\u001b[0m\n\u001b[0m\u001b[0;32m   3083\u001b[0m \u001b[1;33m\u001b[0m\u001b[0m\n\u001b[0;32m   3084\u001b[0m         \u001b[1;32mif\u001b[0m \u001b[0mtolerance\u001b[0m \u001b[1;32mis\u001b[0m \u001b[1;32mnot\u001b[0m \u001b[1;32mNone\u001b[0m\u001b[1;33m:\u001b[0m\u001b[1;33m\u001b[0m\u001b[1;33m\u001b[0m\u001b[0m\n",
      "\u001b[1;31mKeyError\u001b[0m: 'pop'"
     ]
    }
   ],
   "source": [
    "# Start with emission and attraction from commuting purposes\n",
    "# Assumptions (usually derived from a mobility survey):\n",
    "employment_rate = 0.7\n",
    "home_office_rate = 0.1\n",
    "work_trips_per_day = 1.05 # we set up the model for one average weekday!\n",
    "sm.zones['emission'] = sm.zones['pop'] * work_trips_per_day * (1-home_office_rate) * employment_rate\n",
    "sm.zones['attraction'] = sm.zones['emp']"
   ]
  },
  {
   "cell_type": "code",
   "execution_count": null,
   "metadata": {},
   "outputs": [],
   "source": [
    "# Now add the shopping purpose (usually derived from a mobility survey)\n",
    "shopping_trips_per_day = 0.3\n",
    "attraction_per_POI = sm.zones['pop'].mean() / sm.zones['POIs'].mean() * shopping_trips_per_day\n",
    "sm.zones['emission'] += sm.zones['pop'] * shopping_trips_per_day\n",
    "sm.zones['attraction'] += sm.zones['POIs'] * attraction_per_POI"
   ]
  },
  {
   "cell_type": "code",
   "execution_count": null,
   "metadata": {},
   "outputs": [],
   "source": [
    "sm.zones[['emission', 'attraction']].hist(bins=20, figsize=(6,3))"
   ]
  },
  {
   "cell_type": "code",
   "execution_count": null,
   "metadata": {},
   "outputs": [],
   "source": [
    "# Now we need to introduce our demand segments.\n",
    "# Car owners and PT captives is a good start.\n",
    "# Other common demand segments are trip purposes, income groups, age groups.\n",
    "sm.segments = ['car_owner', 'pt_captive']\n",
    "car_ownership = 0.4\n",
    "sm.zones[('car_owner', 'emission')] = sm.zones['emission'] * car_ownership\n",
    "sm.zones[('pt_captive', 'emission')] = sm.zones['emission'] * (1-car_ownership)\n",
    "sm.zones[('car_owner', 'attraction')] = sm.zones['attraction'] * car_ownership\n",
    "sm.zones[('pt_captive', 'attraction')] = sm.zones['attraction'] * (1-car_ownership)"
   ]
  },
  {
   "cell_type": "code",
   "execution_count": null,
   "metadata": {},
   "outputs": [],
   "source": [
    "# Cast columns to integer\n",
    "sm.zones[('car_owner', 'emission')] = sm.zones[('car_owner', 'emission')].astype(int)\n",
    "sm.zones[('car_owner', 'attraction')] = sm.zones[('car_owner', 'attraction')].astype(int)\n",
    "sm.zones[('pt_captive', 'emission')] = sm.zones[('pt_captive', 'emission')].astype(int)\n",
    "sm.zones[('pt_captive', 'attraction')] = sm.zones[('pt_captive', 'attraction')].astype(int)"
   ]
  },
  {
   "cell_type": "code",
   "execution_count": null,
   "metadata": {},
   "outputs": [],
   "source": [
    "# Delete the non-segmented columns to prevent errors\n",
    "del sm.zones['emission']\n",
    "del sm.zones['attraction']\n",
    "sm.zones.sample()"
   ]
  },
  {
   "cell_type": "markdown",
   "metadata": {},
   "source": [
    "## Step distribution\n",
    "\n",
    "Once we have emission and attraction, we want to know the volumes per OD-pair. We can use the `step_distribution` function from quetzal. It uses the doubly constrained distribution (no probabilistic Logit approach), which is an iterative process where emissions and attractions are matched so that, on average, the minimal resistance for the whole system is found. Talking about resistance: an important input parameter is the impedance matrix, giving resistances between every OD-pair. Resistance can be time, but also cost or other utility/disutility quantifications.\n",
    "\n",
    "Calibration of this step (not performed in this toy model) requires to change emission and attraction values or the impedance matrix"
   ]
  },
  {
   "cell_type": "code",
   "execution_count": null,
   "metadata": {},
   "outputs": [],
   "source": [
    "# Now, we need an impedance matrix for car and PT, respectively.\n",
    "# Use time as resistance value, but distance or cost are thinkable, too\n",
    "car_imp_matrix = sm.car_los[['origin', 'destination', 'time']].set_index(\n",
    "    ['origin','destination']).unstack()\n",
    "# Assign a resistance for staying in the home cell\n",
    "car_imp_matrix = car_imp_matrix.replace(0, 120)"
   ]
  },
  {
   "cell_type": "code",
   "execution_count": null,
   "metadata": {},
   "outputs": [],
   "source": [
    "car_imp_matrix.head(3)"
   ]
  },
  {
   "cell_type": "code",
   "execution_count": null,
   "metadata": {},
   "outputs": [],
   "source": [
    "# In the PT case we have to take the minimum time per OD pair,\n",
    "# because we have multiple routes\n",
    "pt_imp_matrix = sm.pt_los.groupby(\n",
    "    ['origin', 'destination']).agg({'time': 'min'}).unstack()"
   ]
  },
  {
   "cell_type": "code",
   "execution_count": null,
   "metadata": {},
   "outputs": [],
   "source": [
    "pt_imp_matrix = pt_imp_matrix.replace(0, 120)\n",
    "pt_imp_matrix.head(3)"
   ]
  },
  {
   "cell_type": "code",
   "execution_count": null,
   "metadata": {},
   "outputs": [],
   "source": [
    "# We can perform the quetzal distribution function for all\n",
    "# our demand segments simultaniously, saving us post-processing.\n",
    "# Therefore, we need a dictionary with all parameters\n",
    "distr_params = {'deterrence_matrix': {'car_owner': car_imp_matrix,\n",
    "                                      'pt_captive': pt_imp_matrix}}\n",
    "sm.step_distribution(segmented=True, **distr_params)"
   ]
  },
  {
   "cell_type": "code",
   "execution_count": null,
   "metadata": {},
   "outputs": [],
   "source": [
    "sm.volumes.head(3)"
   ]
  },
  {
   "cell_type": "markdown",
   "metadata": {},
   "source": [
    "## Step mode choice\n",
    "\n",
    "For mode choice we apply a nested logit model. In modeling terms, this step can be understood as the \"logit\" step, because the resulting utilities could also be used to compute the impedance matrix from above. You will see, that the logit step is entirely independent of the volumes and could, thus, be done earlier."
   ]
  },
  {
   "cell_type": "code",
   "execution_count": null,
   "metadata": {},
   "outputs": [],
   "source": [
    "# First, we need parameters for our logit model.\n",
    "# We define the nesting structure (i.e. choice tree)\n",
    "# and the beta parameters which should come from a calibration\n",
    "# using a mobility survey.\n",
    "sm.preparation_logit(time=-0.00055, # beta_t\n",
    "                     price=-1, # beta_p\n",
    "                     transfers=0, # we don't want the number of transfers matter (even though it does sometimes)\n",
    "                     mode=1, # theta_root\n",
    "                     pt_mode=0.5, # theta_pt (nest parameter for PT)\n",
    "                     pt_path=0.1, # theta_path (nest parameter for different paths of one PT option)\n",
    "                     segments=sm.segments\n",
    ")\n",
    "# For nest parameters you should take 1 >= mode >= pt_mode >= pt_path > 0"
   ]
  },
  {
   "cell_type": "code",
   "execution_count": null,
   "metadata": {},
   "outputs": [],
   "source": [
    "# Now we have generated the nesting structure table\n",
    "# Can differ by demand segment, if you want\n",
    "sm.mode_nests"
   ]
  },
  {
   "cell_type": "code",
   "execution_count": null,
   "metadata": {},
   "outputs": [],
   "source": [
    "# And the corresponding theta values\n",
    "sm.logit_scales"
   ]
  },
  {
   "cell_type": "code",
   "execution_count": null,
   "metadata": {},
   "outputs": [],
   "source": [
    "# And the Alternative-Specific-Constants (ASC)\n",
    "# We have to prevent PT captives from using a car\n",
    "sm.mode_utility.loc[ 'car', 'pt_captive'] = -100\n",
    "sm.mode_utility"
   ]
  },
  {
   "cell_type": "code",
   "execution_count": null,
   "metadata": {},
   "outputs": [],
   "source": [
    "# And the beta parameters\n",
    "# The column 'mode_utility' refers to the weight of the ASC table\n",
    "# Delete the transfers attribute because we don't want it in our model formulation\n",
    "sm.utility_values.drop('ntransfers', inplace=True)\n",
    "sm.utility_values"
   ]
  },
  {
   "cell_type": "code",
   "execution_count": null,
   "metadata": {},
   "outputs": [],
   "source": [
    "# Now, add segment specific ASC column to LoS table.\n",
    "# But first we have to generate a combined LoS table\n",
    "sm.los = pd.concat([sm.pt_los, sm.car_los]).reset_index(drop=True)\n",
    "sm.los['route_types'] = sm.los['route_types'].apply(tuple)# bugfix\n",
    "sm.analysis_mode_utility(how='main', # how refers to how to calculate the ASC from multiple paths\n",
    "                         segment=None) # automatically iterates through segments"
   ]
  },
  {
   "cell_type": "code",
   "execution_count": null,
   "metadata": {},
   "outputs": [],
   "source": [
    "# Finally, run the logit model\n",
    "sm.initialize_logit()\n",
    "# If you want to know what parameters you can give to the function,\n",
    "# look into the code. You can find the most important functions in\n",
    "# the quetzal/model/transportmodel.py file, which refers to sub-functions\n",
    "# by importing them from other quetzal files\n",
    "sm.step_logit()"
   ]
  },
  {
   "cell_type": "code",
   "execution_count": null,
   "metadata": {},
   "outputs": [],
   "source": [
    "# The result is a utilities table\n",
    "sm.utilities.head(3)"
   ]
  },
  {
   "cell_type": "code",
   "execution_count": null,
   "metadata": {},
   "outputs": [],
   "source": [
    "# and the probabilities\n",
    "sm.probabilities.head(3)"
   ]
  },
  {
   "cell_type": "code",
   "execution_count": null,
   "metadata": {},
   "outputs": [],
   "source": [
    "# Moreover, you have now probabilities assigned to your paths!\n",
    "sm.los.head(3)"
   ]
  },
  {
   "cell_type": "markdown",
   "metadata": {},
   "source": [
    "## Step assignment\n",
    "\n",
    "This step combines the path probabilities with the volumes and loads them onto the networks."
   ]
  },
  {
   "cell_type": "code",
   "execution_count": null,
   "metadata": {},
   "outputs": [],
   "source": [
    "sm.volumes.head(2)"
   ]
  },
  {
   "cell_type": "code",
   "execution_count": null,
   "metadata": {},
   "outputs": [],
   "source": [
    "# We want to do an assignment for cars and PT seperately\n",
    "# (although there is a wrapper function in quetzal)\n",
    "# Therefore, we must transfer the path probabilities to pt_los and car_los\n",
    "sm.car_los = sm.los.loc[sm.los['route_type']=='car']\n",
    "sm.pt_los = sm.los.loc[sm.los['route_type']!='car']"
   ]
  },
  {
   "cell_type": "code",
   "execution_count": null,
   "metadata": {},
   "outputs": [],
   "source": [
    "# PT first\n",
    "sm.segmented_pt_assignment(split_by='route_type', # identify from which route type the load comes\n",
    "                           on_road_links=False, # load bus traffic to the road network (requires casted networks)\n",
    "                           path_column='link_path' # pt_los column with the path list\n",
    "                          )"
   ]
  },
  {
   "cell_type": "code",
   "execution_count": null,
   "metadata": {},
   "outputs": [],
   "source": [
    "# Now cars\n",
    "sm.segmented_car_assignment()"
   ]
  },
  {
   "cell_type": "code",
   "execution_count": null,
   "metadata": {},
   "outputs": [],
   "source": [
    "sm.loaded_links.loc[sm.loaded_links['load']!=0].sample()"
   ]
  },
  {
   "cell_type": "code",
   "execution_count": null,
   "metadata": {},
   "outputs": [],
   "source": [
    "sm.road_links.loc[sm.road_links[('all', 'car')]!=0].sample()"
   ]
  },
  {
   "cell_type": "code",
   "execution_count": null,
   "metadata": {},
   "outputs": [],
   "source": [
    "sm.loaded_links = gpd.GeoDataFrame(sm.loaded_links)\n",
    "sm.road_links = gpd.GeoDataFrame(sm.road_links)\n",
    "scaler = max(sm.loaded_links['load'].max(), sm.road_links[('all', 'car')].max()) / 35\n",
    "sm.loaded_links.plot(alpha=.3, color='blue', linewidth=list(sm.loaded_links['load']/scaler),\n",
    "    ax=sm.road_links.plot(alpha=.3, color='red', linewidth=list(sm.road_links[('all', 'car')]/scaler),\n",
    "        ax=sm.plot('zones', alpha=.2, color='green', figsize=(16,16))))"
   ]
  },
  {
   "cell_type": "code",
   "execution_count": null,
   "metadata": {},
   "outputs": [],
   "source": [
    "# Summary of LoS table using a quetzal function\n",
    "# All attributes are multiplied with path probabilities\n",
    "od_sum = sm.summary_od(costs=['price', # EUR per person\n",
    "                              'time', # seconds per ride\n",
    "                              'in_vehicle_time', # seconds per ride\n",
    "                              'length', # Meter distance\n",
    "                              'ntransfers']) # per ride"
   ]
  },
  {
   "cell_type": "code",
   "execution_count": null,
   "metadata": {},
   "outputs": [],
   "source": [
    "# Compute passenger kilometer\n",
    "for seg in sm.segments + ['root']:\n",
    "    od_sum[(seg, 'pkm')] = od_sum[(seg, 'volume')] * od_sum[(seg, 'length')] / 1000\n",
    "    # Adjust units of other indicators\n",
    "    od_sum[(seg, 'in_vehicle_time')] = od_sum[(seg, 'in_vehicle_time')] / 3600\n",
    "    od_sum[(seg, 'time')] = od_sum[(seg, 'time')] / 3600\n",
    "    od_sum[(seg, 'length')] = od_sum[(seg, 'length')] / 1000"
   ]
  },
  {
   "cell_type": "code",
   "execution_count": null,
   "metadata": {},
   "outputs": [],
   "source": [
    "od_sum.sample(3)"
   ]
  },
  {
   "cell_type": "code",
   "execution_count": null,
   "metadata": {},
   "outputs": [],
   "source": [
    "od_sum.loc[:, [(seg, 'volume') for seg in sm.segments]].groupby(level=2).sum().plot.pie(\n",
    "    subplots=True, figsize=(16, 4), legend=False, title='Modal split by trip purpose (trips)')"
   ]
  },
  {
   "cell_type": "code",
   "execution_count": null,
   "metadata": {},
   "outputs": [],
   "source": [
    "od_sum.loc[:, [(seg, 'pkm') for seg in sm.segments]].groupby(level=2).sum().plot.pie(\n",
    "    subplots=True, figsize=(16, 4), legend=False, title='Modal split by trip purpose (passenger kilometer)')"
   ]
  },
  {
   "cell_type": "markdown",
   "metadata": {},
   "source": [
    "## Save model"
   ]
  },
  {
   "cell_type": "code",
   "execution_count": null,
   "metadata": {},
   "outputs": [],
   "source": [
    "# Save the od_sum as Excel\n",
    "with pd.ExcelWriter('../../outputs/od_summary.xlsx') as writer:  \n",
    "    od_sum.to_excel(writer, sheet_name='od_sum')"
   ]
  },
  {
   "cell_type": "code",
   "execution_count": null,
   "metadata": {},
   "outputs": [],
   "source": [
    "# make sure that all tables have unique indicies before saving\n",
    "sm.probabilities.reset_index(inplace=True, drop=True)\n",
    "sm.utilities.reset_index(inplace=True, drop=True)"
   ]
  },
  {
   "cell_type": "code",
   "execution_count": null,
   "metadata": {},
   "outputs": [],
   "source": [
    "sm.to_json(model_path + 'four_steps')"
   ]
  }
 ],
 "metadata": {
  "kernelspec": {
   "display_name": "Python 3.8.12 ('quetzal_env')",
   "language": "python",
   "name": "python3"
  },
  "language_info": {
   "codemirror_mode": {
    "name": "ipython",
    "version": 3
   },
   "file_extension": ".py",
   "mimetype": "text/x-python",
   "name": "python",
   "nbconvert_exporter": "python",
   "pygments_lexer": "ipython3",
   "version": "3.8.12"
  },
  "vscode": {
   "interpreter": {
    "hash": "3cc4bcfe731f2ee019f386507748d81bde603c38f633cd56cfe2936f38177aa1"
   }
  }
 },
 "nbformat": 4,
 "nbformat_minor": 4
}
