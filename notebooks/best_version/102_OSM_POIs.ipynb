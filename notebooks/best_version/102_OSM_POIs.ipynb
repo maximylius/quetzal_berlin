{
 "cells": [
  {
   "cell_type": "markdown",
   "id": "c3c18225-a4d7-4c20-833f-2696b9a45d0f",
   "metadata": {
    "tags": []
   },
   "source": [
    "# Get data for points of interest (POIs) to estimate attraction for each zone"
   ]
  },
  {
   "cell_type": "markdown",
   "id": "761f021a",
   "metadata": {},
   "source": [
    "There are two ways of fetching data from OpenStreetmap:\n",
    "* Using overpass queries\n",
    "* Using locally saved osm.pbf file\n",
    "\n",
    "Overpass queries take a long time, but work without any further packages. The faster version requires downloading a pbf file for the region of Germany. This is available here (should be saved under `input_static`: https://download.geofabrik.de/europe.html"
   ]
  },
  {
   "cell_type": "code",
   "execution_count": 1,
   "id": "1faa716d",
   "metadata": {},
   "outputs": [],
   "source": [
    "show_plots = False"
   ]
  },
  {
   "cell_type": "code",
   "execution_count": 2,
   "id": "909b1661",
   "metadata": {},
   "outputs": [],
   "source": [
    "import os.path\n",
    "pbf_file_path = '../../input_static/berlin-latest.osm.pbf'\n",
    "use_queries = not os.path.exists(pbf_file_path)"
   ]
  },
  {
   "cell_type": "code",
   "execution_count": 3,
   "id": "d6ac2628",
   "metadata": {},
   "outputs": [
    {
     "name": "stdout",
     "output_type": "stream",
     "text": [
      "SQLalchemy is not installed. No support for SQL output.\n"
     ]
    }
   ],
   "source": [
    "import pandas as pd\n",
    "import geopandas as gpd\n",
    "from geopandas import GeoDataFrame, GeoSeries\n",
    "import numpy as np\n",
    "from quetzal.model import stepmodel\n",
    "from tqdm import tqdm\n",
    "import matplotlib.pyplot as plt\n",
    "import time\n",
    "\n",
    "import sys # for automation and parallelization\n",
    "manual, scenario = (True, 'base') if 'ipykernel' in sys.argv[0] else (False, sys.argv[1])\n",
    "\n",
    "from pyrosm import OSM, get_data\n",
    "from shapely.geometry import Point, Polygon, LineString\n",
    "\n",
    "# Disable deprectation warnings caused by libraries\n",
    "import warnings\n",
    "warnings.filterwarnings('ignore')\n",
    "#%matplotlib inline"
   ]
  },
  {
   "cell_type": "code",
   "execution_count": 4,
   "id": "822d4dff-746c-4606-9715-74270de5ac52",
   "metadata": {},
   "outputs": [],
   "source": [
    "# import helper functions\n",
    "%run -i helperFunctions.py"
   ]
  },
  {
   "cell_type": "code",
   "execution_count": 5,
   "id": "6c2d7a0a",
   "metadata": {},
   "outputs": [],
   "source": [
    "model_path = './../../model/'\n",
    "input_path = './../../input/'"
   ]
  },
  {
   "cell_type": "markdown",
   "id": "1e55ab2f",
   "metadata": {},
   "source": [
    "# Number of POIs from OSM data"
   ]
  },
  {
   "cell_type": "markdown",
   "id": "4668e899",
   "metadata": {},
   "source": [
    "The extraction from OpenStreetmap makes use of Overpass querys (for documentation see http://osmlab.github.io/learnoverpass/en/docs/). <br>\n",
    "For trying out querys and their results, use https://overpass-turbo.eu/ (although a success in overpass turbo does not always imply a success in my request). \n",
    "\n",
    "For documentation of OpenStreetMap data, see OSM Wiki: https://wiki.openstreetmap.org/."
   ]
  },
  {
   "cell_type": "code",
   "execution_count": 6,
   "id": "a3ec2324",
   "metadata": {},
   "outputs": [],
   "source": [
    "sm = stepmodel.read_json(model_path + 'zones')\n",
    "if not type(sm.zones) == GeoDataFrame:\n",
    "    sm.zones = GeoDataFrame(sm.zones, crs=sm.epsg)\n",
    "if show_plots: sm.zones.plot()"
   ]
  },
  {
   "cell_type": "code",
   "execution_count": 7,
   "id": "04d3c30e",
   "metadata": {},
   "outputs": [
    {
     "name": "stdout",
     "output_type": "stream",
     "text": [
      "[['amenity' 'college']\n",
      " ['amenity' 'school']\n",
      " ['amenity' 'university']\n",
      " ['building' 'school']]\n"
     ]
    },
    {
     "data": {
      "text/plain": [
       "7    craft\n",
       "Name: key, dtype: object"
      ]
     },
     "execution_count": 7,
     "metadata": {},
     "output_type": "execute_result"
    }
   ],
   "source": [
    "# Load POI code Excel\n",
    "poi_codes = pd.read_excel(input_path + 'spatial_OSM_POI_list.xlsx')\n",
    "poiKeyVals = poi_codes.loc[(poi_codes['key'].notna()), ['key', 'value']].values\n",
    "print(poiKeyVals[0:4])\n",
    "poi_codes.loc[(poi_codes['key'].notna())&(poi_codes['value'].isna()), 'key']"
   ]
  },
  {
   "cell_type": "markdown",
   "id": "efca2d56-c78d-43ca-ae59-730fea98b731",
   "metadata": {},
   "source": [
    "## set up new OSM to avoid erorrs when trying to extract POIs"
   ]
  },
  {
   "cell_type": "code",
   "execution_count": 8,
   "id": "1796668d-946d-4be5-9edf-10bd0425f10f",
   "metadata": {},
   "outputs": [
    {
     "name": "stdout",
     "output_type": "stream",
     "text": [
      "Downloaded Protobuf data 'Berlin.osm.pbf' (88.79 MB) to:\n",
      "'C:\\Users\\BSE\\AppData\\Local\\Temp\\pyrosm\\Berlin.osm.pbf'\n"
     ]
    }
   ],
   "source": [
    "fpb = get_data(\"Berlin\", update=True)\n",
    "osmb = OSM(fpb)"
   ]
  },
  {
   "cell_type": "code",
   "execution_count": 9,
   "id": "4bb6a094-239d-4118-97cc-ae136050550e",
   "metadata": {},
   "outputs": [],
   "source": [
    "poiKeys = list(filter(lambda x: x == x, poi_codes['key'].unique()))\n",
    "poiVals = list(filter(lambda x: x == x, poi_codes['value'].unique()))"
   ]
  },
  {
   "cell_type": "markdown",
   "id": "1ecb2931-e2a2-4fe5-89d5-9fe8d973e059",
   "metadata": {},
   "source": [
    "### extract POIS from OSM"
   ]
  },
  {
   "cell_type": "code",
   "execution_count": 10,
   "id": "dc13b166-7624-4324-8fd2-f2d20548421b",
   "metadata": {},
   "outputs": [
    {
     "name": "stdout",
     "output_type": "stream",
     "text": [
      "amenity\n",
      "              key       value capacity                   geometry\n",
      "id                                                               \n",
      "26735749  amenity  restaurant     None  POINT (13.32282 52.50691)\n",
      "26735759  amenity  restaurant     None  POINT (13.31808 52.50621)\n",
      "building\n",
      "                 key   value capacity  \\\n",
      "id                                      \n",
      "3363507586  building  school     None   \n",
      "4703544     building  retail     None   \n",
      "\n",
      "                                                     geometry  \n",
      "id                                                             \n",
      "3363507586                          POINT (13.33420 52.75945)  \n",
      "4703544     POLYGON ((13.33907 52.52743, 13.33903 52.52741...  \n",
      "craft\n",
      "             key     value capacity                   geometry\n",
      "id                                                            \n",
      "268915853  craft  cleaning     None  POINT (13.32458 52.47364)\n",
      "279894354  craft   caterer     None  POINT (13.11071 52.39381)\n",
      "shop\n",
      "           key        value capacity                   geometry\n",
      "id                                                             \n",
      "58489979  shop  supermarket     None  POINT (13.40737 52.50982)\n",
      "58489996  shop       bakery     None  POINT (13.40830 52.51036)\n",
      "leisure\n",
      "               key         value capacity                   geometry\n",
      "id                                                                  \n",
      "30351978   leisure  beach_resort     None  POINT (13.55639 52.76102)\n",
      "129929203  leisure         pitch     None  POINT (13.31927 52.49055)\n",
      "tourism\n",
      "              key       value capacity                   geometry\n",
      "id                                                               \n",
      "23661787  tourism      hostel     None  POINT (13.48645 52.80360)\n",
      "51501652  tourism  attraction     None  POINT (13.71985 52.65505)\n",
      "water\n",
      "for  water values are ['lake'] values column was missing. Colnames:  ['name', 'ref', 'website', 'id', 'timestamp', 'version', 'tags', 'osm_type', 'geometry', 'changeset', 'key']\n",
      "           key value capacity  \\\n",
      "id                              \n",
      "4317997  water  lake     None   \n",
      "4401084  water  lake     None   \n",
      "\n",
      "                                                  geometry  \n",
      "id                                                          \n",
      "4317997  POLYGON ((13.22810 52.44468, 13.22814 52.44463...  \n",
      "4401084  POLYGON ((13.27181 52.48856, 13.27203 52.48864...  \n"
     ]
    }
   ],
   "source": [
    "# prepare a list to store dataframes for each query \n",
    "pois_arr = []\n",
    "# get pois data for each key\n",
    "for key in poiKeys:\n",
    "    # get all search values for key\n",
    "    valuesForKey = list(filter(lambda x: x[0] == key, poiKeyVals))\n",
    "    # if value is NaN, put True (which is the case for key=\"craft\") instead of NaN\n",
    "    valuesForKey = list(map(lambda x: x[1] if x[1]==x[1] else True, valuesForKey))\n",
    "    # custom_filter will get all pois with the key and one of the values in valuesForKey\n",
    "    custom_filter = {key: valuesForKey}\n",
    "    print(key)\n",
    "    # get_pois from OSM\n",
    "    poisForKey = osmb.get_pois(custom_filter=custom_filter)\n",
    "    # rename column to store value\n",
    "    poisForKey.index = poisForKey['id']\n",
    "    poisForKey.rename(columns = { key: 'value' }, inplace = True)\n",
    "    # create column named key and store the key to\n",
    "    poisForKey['key'] = key\n",
    "    # only keep necessary columns\n",
    "    if not 'value' in poisForKey:\n",
    "        print(\"for \", key, \"values are\", valuesForKey, \"values column was missing. Colnames: \", list(poisForKey))\n",
    "        poisForKey['value'] = valuesForKey[0]\n",
    "    # add capacity if given, else later use estimate\n",
    "    if not 'capacity' in poisForKey:\n",
    "            poisForKey['capacity'] = None\n",
    "\n",
    "    poisForKey = poisForKey[['key', 'value', 'capacity', 'geometry']]\n",
    "    # append to df for all keys\n",
    "    print(poisForKey.head(2))\n",
    "    pois_arr.append(poisForKey)\n",
    "\n",
    "# merge pois to one dataframe\n",
    "pois = pd.concat(pois_arr)\n",
    "# set crs code correctly\n",
    "pois = pois.to_crs(epsg = sm.epsg)"
   ]
  },
  {
   "cell_type": "code",
   "execution_count": 11,
   "id": "2c90fc16-e258-41d5-8f54-fb8729468028",
   "metadata": {},
   "outputs": [],
   "source": [
    "# pois.iloc[list(map(lambda x: x in poiVals, list(pois[\"value\"])))]"
   ]
  },
  {
   "cell_type": "code",
   "execution_count": 12,
   "id": "42372b30-3488-4761-9e25-5013deecab49",
   "metadata": {},
   "outputs": [],
   "source": [
    "if show_plots:\n",
    "    fig, ax = plt.subplots(nrows=2, ncols=1, figsize=(20, 20))\n",
    "    pois.plot(ax = ax.flat[0], column = \"value\", markersize = 2, legend = False)\n",
    "    pois.iloc[list(map(lambda x: x in poiVals, list(pois[\"value\"])))].plot(ax = ax.flat[1], column = \"value\", markersize = 2, legend = True)\n",
    "    ax.flat[0].set_title(\"Inspect all retrieved POIs\")\n",
    "    ax.flat[1].set_title(\"Inspect all POIs filtered for matching values\")"
   ]
  },
  {
   "cell_type": "markdown",
   "id": "965d7b7a-399c-4b20-b64d-a9548cedb259",
   "metadata": {},
   "source": [
    "# match POI information to zones\n",
    "- prepare zones dataframe to store information about POIs\n",
    "- then loop through POIs, check in which zone(s) POI lies and \n",
    "- add increase the numbers of POIs in that category in that zone by 1"
   ]
  },
  {
   "cell_type": "code",
   "execution_count": 15,
   "id": "abe0b8d1-690d-49b8-841a-4922556b9e80",
   "metadata": {},
   "outputs": [
    {
     "name": "stdout",
     "output_type": "stream",
     "text": [
      "poiCentroid (13.295870007631049, 52.513729976501295) not within polygon for zone 04030417 PLANUNGSRA    Schloßstraße\n",
      "Name: 04030417, dtype: object\n",
      "poiCentroid (13.179189246730976, 52.48092543261455) not within polygon for zone 05040934 PLANUNGSRA    Alt-Gatow\n",
      "Name: 05040934, dtype: object\n",
      "poiCentroid (13.227973561615071, 52.57807854730849) not within polygon for zone 12224229 PLANUNGSRA    Konradshöhe/Tegelort\n",
      "Name: 12224229, dtype: object\n",
      "poiCentroid (13.356104492363187, 52.594944558724436) not within polygon for zone 12302110 PLANUNGSRA    Dannenwalder Weg\n",
      "Name: 12302110, dtype: object\n"
     ]
    },
    {
     "data": {
      "text/html": [
       "<div>\n",
       "<style scoped>\n",
       "    .dataframe tbody tr th:only-of-type {\n",
       "        vertical-align: middle;\n",
       "    }\n",
       "\n",
       "    .dataframe tbody tr th {\n",
       "        vertical-align: top;\n",
       "    }\n",
       "\n",
       "    .dataframe thead th {\n",
       "        text-align: right;\n",
       "    }\n",
       "</style>\n",
       "<table border=\"1\" class=\"dataframe\">\n",
       "  <thead>\n",
       "    <tr style=\"text-align: right;\">\n",
       "      <th></th>\n",
       "      <th>BEZIRKSNAM</th>\n",
       "      <th>PLANUNGSRA</th>\n",
       "      <th>DATUM_GUEL</th>\n",
       "      <th>FLAECHENGR</th>\n",
       "      <th>broker Dow</th>\n",
       "      <th>pop</th>\n",
       "      <th>popCentroidLat</th>\n",
       "      <th>popCentroidLon</th>\n",
       "      <th>emp</th>\n",
       "      <th>geometry</th>\n",
       "      <th>...</th>\n",
       "      <th>water_park</th>\n",
       "      <th>aquarium</th>\n",
       "      <th>attraction</th>\n",
       "      <th>camp_site</th>\n",
       "      <th>caravan_site</th>\n",
       "      <th>hostel</th>\n",
       "      <th>hotel</th>\n",
       "      <th>theme_park</th>\n",
       "      <th>zoo</th>\n",
       "      <th>lake</th>\n",
       "    </tr>\n",
       "    <tr>\n",
       "      <th>index</th>\n",
       "      <th></th>\n",
       "      <th></th>\n",
       "      <th></th>\n",
       "      <th></th>\n",
       "      <th></th>\n",
       "      <th></th>\n",
       "      <th></th>\n",
       "      <th></th>\n",
       "      <th></th>\n",
       "      <th></th>\n",
       "      <th></th>\n",
       "      <th></th>\n",
       "      <th></th>\n",
       "      <th></th>\n",
       "      <th></th>\n",
       "      <th></th>\n",
       "      <th></th>\n",
       "      <th></th>\n",
       "      <th></th>\n",
       "      <th></th>\n",
       "      <th></th>\n",
       "    </tr>\n",
       "  </thead>\n",
       "  <tbody>\n",
       "    <tr>\n",
       "      <th>01011101</th>\n",
       "      <td>Mitte</td>\n",
       "      <td>Stülerstraße</td>\n",
       "      <td>14.06.2006</td>\n",
       "      <td>366755.50</td>\n",
       "      <td>01011101</td>\n",
       "      <td>3406</td>\n",
       "      <td>52.506043</td>\n",
       "      <td>13.347686</td>\n",
       "      <td>8946.424877</td>\n",
       "      <td>POLYGON ((13.33889 52.50542, 13.33986 52.50562...</td>\n",
       "      <td>...</td>\n",
       "      <td>0</td>\n",
       "      <td>0</td>\n",
       "      <td>1</td>\n",
       "      <td>0</td>\n",
       "      <td>0</td>\n",
       "      <td>0</td>\n",
       "      <td>6</td>\n",
       "      <td>0</td>\n",
       "      <td>0</td>\n",
       "      <td>0</td>\n",
       "    </tr>\n",
       "    <tr>\n",
       "      <th>01011102</th>\n",
       "      <td>Mitte</td>\n",
       "      <td>Großer Tiergarten</td>\n",
       "      <td>14.06.2006</td>\n",
       "      <td>3009397.45</td>\n",
       "      <td>01011102</td>\n",
       "      <td>181</td>\n",
       "      <td>52.512746</td>\n",
       "      <td>13.342029</td>\n",
       "      <td>1335.593976</td>\n",
       "      <td>POLYGON ((13.33140 52.51288, 13.33141 52.51285...</td>\n",
       "      <td>...</td>\n",
       "      <td>0</td>\n",
       "      <td>1</td>\n",
       "      <td>19</td>\n",
       "      <td>0</td>\n",
       "      <td>0</td>\n",
       "      <td>0</td>\n",
       "      <td>1</td>\n",
       "      <td>0</td>\n",
       "      <td>1</td>\n",
       "      <td>1</td>\n",
       "    </tr>\n",
       "    <tr>\n",
       "      <th>01011103</th>\n",
       "      <td>Mitte</td>\n",
       "      <td>Lützowstraße</td>\n",
       "      <td>14.06.2006</td>\n",
       "      <td>522356.58</td>\n",
       "      <td>01011103</td>\n",
       "      <td>5333</td>\n",
       "      <td>52.503332</td>\n",
       "      <td>13.359626</td>\n",
       "      <td>12188.836098</td>\n",
       "      <td>POLYGON ((13.34923 52.50307, 13.34972 52.50343...</td>\n",
       "      <td>...</td>\n",
       "      <td>0</td>\n",
       "      <td>0</td>\n",
       "      <td>0</td>\n",
       "      <td>0</td>\n",
       "      <td>0</td>\n",
       "      <td>2</td>\n",
       "      <td>7</td>\n",
       "      <td>0</td>\n",
       "      <td>0</td>\n",
       "      <td>0</td>\n",
       "    </tr>\n",
       "  </tbody>\n",
       "</table>\n",
       "<p>3 rows × 77 columns</p>\n",
       "</div>"
      ],
      "text/plain": [
       "         BEZIRKSNAM         PLANUNGSRA  DATUM_GUEL  FLAECHENGR broker Dow  \\\n",
       "index                                                                       \n",
       "01011101      Mitte       Stülerstraße  14.06.2006   366755.50   01011101   \n",
       "01011102      Mitte  Großer Tiergarten  14.06.2006  3009397.45   01011102   \n",
       "01011103      Mitte       Lützowstraße  14.06.2006   522356.58   01011103   \n",
       "\n",
       "           pop  popCentroidLat  popCentroidLon           emp  \\\n",
       "index                                                          \n",
       "01011101  3406       52.506043       13.347686   8946.424877   \n",
       "01011102   181       52.512746       13.342029   1335.593976   \n",
       "01011103  5333       52.503332       13.359626  12188.836098   \n",
       "\n",
       "                                                   geometry  ...  water_park  \\\n",
       "index                                                        ...               \n",
       "01011101  POLYGON ((13.33889 52.50542, 13.33986 52.50562...  ...           0   \n",
       "01011102  POLYGON ((13.33140 52.51288, 13.33141 52.51285...  ...           0   \n",
       "01011103  POLYGON ((13.34923 52.50307, 13.34972 52.50343...  ...           0   \n",
       "\n",
       "         aquarium attraction  camp_site  caravan_site  hostel  hotel  \\\n",
       "index                                                                  \n",
       "01011101        0          1          0             0       0      6   \n",
       "01011102        1         19          0             0       0      1   \n",
       "01011103        0          0          0             0       2      7   \n",
       "\n",
       "          theme_park  zoo  lake  \n",
       "index                            \n",
       "01011101           0    0     0  \n",
       "01011102           0    1     1  \n",
       "01011103           0    0     0  \n",
       "\n",
       "[3 rows x 77 columns]"
      ]
     },
     "execution_count": 15,
     "metadata": {},
     "output_type": "execute_result"
    },
    {
     "data": {
      "image/png": "[encoded data removed]",
      "text/plain": [
       "<Figure size 576x576 with 1 Axes>"
      ]
     },
     "metadata": {
      "needs_background": "light"
     },
     "output_type": "display_data"
    },
    {
     "data": {
      "image/png": "[encoded data removed]",
      "text/plain": [
       "<Figure size 576x576 with 1 Axes>"
      ]
     },
     "metadata": {
      "needs_background": "light"
     },
     "output_type": "display_data"
    },
    {
     "data": {
      "image/png": "[encoded data removed]",
      "text/plain": [
       "<Figure size 576x576 with 1 Axes>"
      ]
     },
     "metadata": {
      "needs_background": "light"
     },
     "output_type": "display_data"
    },
    {
     "data": {
      "image/png": "[encoded data removed]",
      "text/plain": [
       "<Figure size 576x576 with 1 Axes>"
      ]
     },
     "metadata": {
      "needs_background": "light"
     },
     "output_type": "display_data"
    }
   ],
   "source": [
    "# assign each amenties to one (Points) or (potentially) multiple zones (Polygons)\n",
    "# this takes a very long time (about 15:00 mins)\n",
    "t0 = time.time()\n",
    "# add columns to geodataframe sm.zones to store ammount of amenities\n",
    "#   - keys\n",
    "#   - values\n",
    "sm.zones[\"pois\"] = 0\n",
    "sm.zones[\"poiCentroid\"] = Point(0,0)\n",
    "sm.zones[\"poiCentroidOffset\"] = LineString([Point(0,0), Point(0,0)])\n",
    "sm.zones[\"poiCentroidLat\"] = 0.0\n",
    "sm.zones[\"poiCentroidLon\"] = 0.0\n",
    "for keyOrValue in (poiKeys + poiVals):\n",
    "    sm.zones[keyOrValue] = 0\n",
    "#\n",
    "\n",
    "# assign zone to each building\n",
    "pois['zone'] = \\\n",
    "    pois['geometry']\\\n",
    "        .apply(lambda g: sm.zones.index[sm.zones.intersects(g.centroid)])\\\n",
    "        .apply(lambda zi: zi)\n",
    "\n",
    "# for each zone assign all POIs\n",
    "for i in range(len(sm.zones)):\n",
    "    zone = sm.zones.iloc[i]\n",
    "    zoneIndex = zone.name\n",
    "\n",
    "    poisInZone = pois[[zoneIndex in x for x in pois[\"zone\"]]]\n",
    "    \n",
    "    # To-Do: imporbe centroid weighting\n",
    "    \n",
    "    # obtain total zone population and save to sm.zones\n",
    "    zonePois = len(poisInZone)\n",
    "    sm.zones.at[zoneIndex, \"pois\"] = zonePois\n",
    "    \n",
    "    for key in poiKeys:\n",
    "        sm.zones.at[zoneIndex, key] = len(poisInZone[poisInZone['key'] == key])\n",
    "    for value in poiVals:\n",
    "        sm.zones.at[zoneIndex, value] = len(poisInZone[poisInZone['value'] == value])\n",
    "\n",
    "    # create weighted centroids based on where most people live within \n",
    "    weigthedCoords = {\"lat\": 0, \"lon\": 0}\n",
    "    for buildingIndex, building in poisInZone.iterrows():\n",
    "        weigthedCoords[\"lon\"] += 1 / zonePois * building[\"geometry\"].centroid.x\n",
    "        weigthedCoords[\"lat\"] += 1 / zonePois * building[\"geometry\"].centroid.y\n",
    "    \n",
    "    sm.zones.at[zoneIndex, \"poiCentroidLat\"] = weigthedCoords[\"lat\"]\n",
    "    sm.zones.at[zoneIndex, \"poiCentroidLon\"] = weigthedCoords[\"lon\"]\n",
    "    poiCentroid = Point(weigthedCoords[\"lon\"], weigthedCoords[\"lat\"])\n",
    "    \n",
    "    # check whether those centroids which are not within zone are still plausible\n",
    "    if(not poiCentroid.intersects(zone[\"geometry\"])):\n",
    "        print(\"poiCentroid\", poiCentroid.coords[0], \"not within polygon\", \"for zone\", zoneIndex, zone[[x for x in ['PLANUNGSRA', \"nam\"] if x in zone.keys()]])\n",
    "        fig, ax = plt.subplots(1, 1, figsize=(8,8))\n",
    "        sm.zones.iloc[i:i+1].plot(ax=ax, color='None', edgecolor=\"black\")\n",
    "        poisInZone.plot(ax=ax, column = \"value\", alpha=0.5)\n",
    "        GeoSeries([poiCentroid], crs=sm.epsg).plot(ax=ax, color=\"red\", edgecolor=\"black\", marker=\"X\")\n",
    "    \n",
    "    sm.zones.loc[zoneIndex, \"poiCentroid\"] = poiCentroid\n",
    "    # add a line between actual centroid and poi centroid\n",
    "    sm.zones.loc[zoneIndex, \"poiCentroidOffset\"] = LineString([zone[\"geometry\"].centroid, poiCentroid])\n",
    "    # helpers.printProgress(i=zoneIndex, imax=len(sm.zones), t=time.time(), t0=t0)\n",
    "\n",
    "               \n",
    "sm.zones.head(3)"
   ]
  },
  {
   "cell_type": "code",
   "execution_count": 16,
   "id": "f0b228d8",
   "metadata": {},
   "outputs": [],
   "source": [
    "if show_plots:\n",
    "    # show zones and popCentroids and their offsets from real geometrical centroids\n",
    "    fig, ax = plt.subplots(1, 1, figsize=(16,16))\n",
    "\n",
    "    pois[[len(z)>0 for z in pois['zone']]].plot(ax=ax, column='key', cmap = \"viridis\", alpha=0.5)\n",
    "\n",
    "    # add zone borders and a bit of opacity\n",
    "    sm.zones.plot(ax=ax, color = \"#ffffff\", alpha=0.8)\n",
    "    sm.zones.plot(ax=ax, color=\"None\", edgecolor=\"black\", linewidth=1)\n",
    "    nSteps = 20\n",
    "    cbuff = 10\n",
    "    cmap = plt.get_cmap('Greens_r', nSteps + cbuff)\n",
    "    gpd.GeoSeries(sm.zones.geometry.centroid, crs=sm.epsg).plot(ax=ax, color = cmap(nSteps), markersize = 20)\n",
    "    for i in range(1,nSteps):\n",
    "        l = [helpers.segmentLine(x, i, nSteps) for x in sm.zones.poiCentroidOffset]\n",
    "        gpd.GeoSeries(l, crs=sm.epsg).plot(ax=ax,color=cmap(i), linewidth=3)\n",
    "    gpd.GeoSeries(sm.zones.poiCentroid, crs=sm.epsg).plot(ax=ax, color = cmap(0), markersize = 20)\n",
    "    ax.set_title(\"Zones centroids vs POI weigthed centroids\")"
   ]
  },
  {
   "cell_type": "markdown",
   "id": "403e62b3-d578-45af-8fae-eecaaff72cea",
   "metadata": {},
   "source": [
    "## inspect POIs per zone"
   ]
  },
  {
   "cell_type": "markdown",
   "id": "cf28ba23-d089-45ad-954e-e90791532654",
   "metadata": {},
   "source": [
    "### For POI keys"
   ]
  },
  {
   "cell_type": "code",
   "execution_count": 17,
   "id": "28b93100-1d99-4d89-944f-f4bfae05b2f2",
   "metadata": {},
   "outputs": [],
   "source": [
    "if show_plots:\n",
    "    t0=time.time()\n",
    "    # Show maps for keys\n",
    "    clmns = poiKeys\n",
    "    ncols = 4\n",
    "    def ceil (n):\n",
    "        return(n // 1 + 1 if(n - n // 1) else n)\n",
    "    nrows = int(ceil(len(clmns) / ncols))\n",
    "\n",
    "    fig, axs = plt.subplots(nrows, ncols, figsize=(18,5*nrows), sharex='all', sharey='all', constrained_layout=True)\n",
    "    col_num = 0\n",
    "    for ind, clmn in enumerate(clmns):\n",
    "        sm.zones.plot(column=clmn, ax=axs.flat[ind], legend=True)\n",
    "        axs.flat[ind].set_axis_off()\n",
    "        axs.flat[ind].set_title(clmn)\n",
    "        # helpers[\"printProgress\"](i=ind, imax=len(clmns), t=time.time(), t0=t0)\n",
    "\n",
    "    ## remove empty plots\n",
    "    for ax in axs.flat:\n",
    "        ## check if something was plotted \n",
    "        if not bool(ax.has_data()):\n",
    "            fig.delaxes(ax) ## delete if nothing is plotted in the axes obj"
   ]
  },
  {
   "cell_type": "markdown",
   "id": "8a27499d-e3ec-4a81-987b-135b65c8087b",
   "metadata": {},
   "source": [
    "### For POI values"
   ]
  },
  {
   "cell_type": "code",
   "execution_count": 18,
   "id": "a4243f46-af10-4dbf-86b1-ccfe34b91ff6",
   "metadata": {},
   "outputs": [],
   "source": [
    "if show_plots:\n",
    "    t0=time.time()\n",
    "    # Show maps for values # takes roughly 5 Minutes\n",
    "    clmns = poiVals + [\"craft\"]\n",
    "    ncols = 5\n",
    "    def ceil (n):\n",
    "        return(n // 1 + 1 if(n - n // 1) else n)\n",
    "\n",
    "    nrows = int(ceil(len(clmns) / ncols))\n",
    "\n",
    "    fig, axs = plt.subplots(nrows, ncols, figsize=(18, 3*nrows), sharex='all', sharey='all', constrained_layout=True)\n",
    "    col_num = 0\n",
    "    for ind, clmn in enumerate(clmns):\n",
    "        sm.zones.plot(column=clmn, ax=axs.flat[ind], legend=True)\n",
    "        axs.flat[ind].set_axis_off()\n",
    "        axs.flat[ind].set_title(clmn)\n",
    "        helpers.printProgress(i=ind, imax=len(clmns), t=time.time(), t0=t0)\n",
    "\n",
    "    ## remove empty plots\n",
    "    for ax in axs.flat:\n",
    "        ## check if something was plotted \n",
    "        if not bool(ax.has_data()):\n",
    "            fig.delaxes(ax) ## delete if nothing is plotted in the axes obj"
   ]
  },
  {
   "cell_type": "markdown",
   "id": "ad4e392f-0fa3-4ce0-8011-29a53b3a912f",
   "metadata": {
    "tags": []
   },
   "source": [
    "# How to merge information into a single attractor variable"
   ]
  },
  {
   "cell_type": "markdown",
   "id": "dce86368-f342-4c3e-abe9-70b88a2a082b",
   "metadata": {},
   "source": [
    "### How to weight different attractors by number of trips?\n",
    "- Figure 33 MiD 2017:\n",
    "    - in %. Verkehrsaufkommen (Wege): 16 Arbeit, 11 dienstlich, 7 Ausbildung, 16 Einkauf,  14 Erledigung, 28 Freizeit, 8 Begleitung\n",
    "    - in %. Personen-km: 21 Arbeit, 17 dienstlich, 4 Ausbildung, 7 Einkauf,  12 Erledigung, 34 Freizeit, 6 Begleitung\n",
    "- MiD 2017 Tabelle 8: Durchschnittliche Wegelängen nach Raumtyp [Berlin = Metropole]\n",
    "    - 12/5 Arbeit, 18/19 dienstlich, 7/5 Ausbildung, 4/4 Einkauf,  9/10 Erledigung, 16/15 Freizeit, 8/6 Begleitung\n",
    "- Abbildung 34 MiD 2017: Tagesstrecke nach Wegezweck und Raumtyp:\n",
    "    - 8 Arbeit, 7 dienstlich, 2 Ausbildung, 3 Einkauf, 5 Erledigung, 13 Freizeit, 2 Begleitung\n",
    "- if demographics matter check Figure 35 MiD differentiated w/r to age and gender\n",
    "- car ownership in Berlin maybe cross with demographic info per zone\n",
    "- car kilometers in berlin \n"
   ]
  },
  {
   "cell_type": "markdown",
   "id": "673dc945",
   "metadata": {},
   "source": [
    "#### maybe add tourism\n",
    "- 34000000/365=90k+ overnight stays per day.  Mabye do research here.\n",
    "- OSM key vals: \n",
    "    - 'building': 'hotel', 'building:levels':int,\n",
    "    - 'tourism': 'hostel', 'hotel', 'apartment' \n"
   ]
  },
  {
   "cell_type": "markdown",
   "id": "878a2419-50c4-4183-b476-907faddee9a1",
   "metadata": {},
   "source": [
    "### Or possibly merge into different attractors variables categorized by how long people are willing to commute to it"
   ]
  },
  {
   "cell_type": "code",
   "execution_count": null,
   "id": "80d06ad6-3767-454e-ba0f-76cf56b2307a",
   "metadata": {},
   "outputs": [],
   "source": []
  },
  {
   "cell_type": "code",
   "execution_count": null,
   "id": "a54443c9-e6e2-4a9e-8969-a009d1f4faa5",
   "metadata": {},
   "outputs": [],
   "source": []
  },
  {
   "cell_type": "markdown",
   "id": "583e013e-f08f-46c9-8121-40c9e8485d9b",
   "metadata": {},
   "source": [
    "### infer about modechoice by demographic characteristics?"
   ]
  },
  {
   "cell_type": "markdown",
   "id": "8cf1ea51-608e-405d-9e03-0843bca5425a",
   "metadata": {},
   "source": [
    "### make sure the number of cars returning to a zone matches the number originating from it?"
   ]
  },
  {
   "cell_type": "code",
   "execution_count": null,
   "id": "52772a19-99cf-4510-9682-5156e20d1cbd",
   "metadata": {},
   "outputs": [],
   "source": []
  },
  {
   "cell_type": "markdown",
   "id": "7fca2f95-b12e-4c62-b743-fe9769718119",
   "metadata": {},
   "source": [
    "# How to generate OD Matrix from population and POIs"
   ]
  },
  {
   "cell_type": "code",
   "execution_count": null,
   "id": "d610a3e3-31e1-4a12-947c-fa017749330e",
   "metadata": {},
   "outputs": [],
   "source": []
  },
  {
   "cell_type": "code",
   "execution_count": null,
   "id": "ef02765b-4462-4bf5-a380-d6d17400ee06",
   "metadata": {},
   "outputs": [],
   "source": []
  },
  {
   "cell_type": "code",
   "execution_count": null,
   "id": "8e013083-6046-47dc-aa12-6a0ea841a460",
   "metadata": {},
   "outputs": [],
   "source": []
  },
  {
   "cell_type": "markdown",
   "id": "575b86b3-08a1-47d4-9eb4-37df6b018b2f",
   "metadata": {},
   "source": [
    "## Save Model"
   ]
  },
  {
   "cell_type": "code",
   "execution_count": 19,
   "id": "f145c96e",
   "metadata": {},
   "outputs": [],
   "source": [
    "# remove additional geometry from dataframe, as otherwise an error is thrown when saving. \n",
    "sm.zones = sm.zones.drop(columns = [x for x in ['poiCentroid', 'poiCentroidOffset'] if x in sm.zones.columns])"
   ]
  },
  {
   "cell_type": "code",
   "execution_count": 20,
   "id": "dd0ce9b2",
   "metadata": {},
   "outputs": [],
   "source": [
    "# Saving table\n",
    "pois.to_csv(input_path + 'spatial_pois_raw.csv')"
   ]
  },
  {
   "cell_type": "code",
   "execution_count": 21,
   "id": "d6b21075-2941-4854-93f4-771dc86e1238",
   "metadata": {},
   "outputs": [],
   "source": [
    "# Saving table\n",
    "sm.zones.to_csv(input_path + 'spatial_pois_per_zone.csv')"
   ]
  },
  {
   "cell_type": "code",
   "execution_count": 22,
   "id": "c091a96c-e146-441e-ab65-8debc69ca829",
   "metadata": {},
   "outputs": [
    {
     "name": "stderr",
     "output_type": "stream",
     "text": [
      "to_hdf(overwriting): 100%|██████████| 33/33 [00:02<00:00, 12.04it/s]\n"
     ]
    }
   ],
   "source": [
    "# Saving model zones as geojson\n",
    "sm.to_json(model_path + 'zones', only_attributes=['zones'], encoding='utf-8')"
   ]
  }
 ],
 "metadata": {
  "kernelspec": {
   "display_name": "Python 3.8.12 ('quetzal_env')",
   "language": "python",
   "name": "python3"
  },
  "language_info": {
   "codemirror_mode": {
    "name": "ipython",
    "version": 3
   },
   "file_extension": ".py",
   "mimetype": "text/x-python",
   "name": "python",
   "nbconvert_exporter": "python",
   "pygments_lexer": "ipython3",
   "version": "3.8.12"
  },
  "vscode": {
   "interpreter": {
    "hash": "3cc4bcfe731f2ee019f386507748d81bde603c38f633cd56cfe2936f38177aa1"
   }
  }
 },
 "nbformat": 4,
 "nbformat_minor": 5
}
