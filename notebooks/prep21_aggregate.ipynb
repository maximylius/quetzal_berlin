{
 "cells": [
  {
   "cell_type": "code",
   "execution_count": 1,
   "metadata": {},
   "outputs": [
    {
     "name": "stderr",
     "output_type": "stream",
     "text": [
      "In C:\\Users\\marlin.arnz\\AppData\\Local\\Continuum\\miniconda3\\envs\\quetzal\\lib\\site-packages\\matplotlib\\mpl-data\\stylelib\\_classic_test.mplstyle: \n",
      "The text.latex.preview rcparam was deprecated in Matplotlib 3.3 and will be removed two minor releases later.\n",
      "In C:\\Users\\marlin.arnz\\AppData\\Local\\Continuum\\miniconda3\\envs\\quetzal\\lib\\site-packages\\matplotlib\\mpl-data\\stylelib\\_classic_test.mplstyle: \n",
      "The mathtext.fallback_to_cm rcparam was deprecated in Matplotlib 3.3 and will be removed two minor releases later.\n",
      "In C:\\Users\\marlin.arnz\\AppData\\Local\\Continuum\\miniconda3\\envs\\quetzal\\lib\\site-packages\\matplotlib\\mpl-data\\stylelib\\_classic_test.mplstyle: Support for setting the 'mathtext.fallback_to_cm' rcParam is deprecated since 3.3 and will be removed two minor releases later; use 'mathtext.fallback : 'cm' instead.\n",
      "In C:\\Users\\marlin.arnz\\AppData\\Local\\Continuum\\miniconda3\\envs\\quetzal\\lib\\site-packages\\matplotlib\\mpl-data\\stylelib\\_classic_test.mplstyle: \n",
      "The validate_bool_maybe_none function was deprecated in Matplotlib 3.3 and will be removed two minor releases later.\n",
      "In C:\\Users\\marlin.arnz\\AppData\\Local\\Continuum\\miniconda3\\envs\\quetzal\\lib\\site-packages\\matplotlib\\mpl-data\\stylelib\\_classic_test.mplstyle: \n",
      "The savefig.jpeg_quality rcparam was deprecated in Matplotlib 3.3 and will be removed two minor releases later.\n",
      "In C:\\Users\\marlin.arnz\\AppData\\Local\\Continuum\\miniconda3\\envs\\quetzal\\lib\\site-packages\\matplotlib\\mpl-data\\stylelib\\_classic_test.mplstyle: \n",
      "The keymap.all_axes rcparam was deprecated in Matplotlib 3.3 and will be removed two minor releases later.\n",
      "In C:\\Users\\marlin.arnz\\AppData\\Local\\Continuum\\miniconda3\\envs\\quetzal\\lib\\site-packages\\matplotlib\\mpl-data\\stylelib\\_classic_test.mplstyle: \n",
      "The animation.avconv_path rcparam was deprecated in Matplotlib 3.3 and will be removed two minor releases later.\n",
      "In C:\\Users\\marlin.arnz\\AppData\\Local\\Continuum\\miniconda3\\envs\\quetzal\\lib\\site-packages\\matplotlib\\mpl-data\\stylelib\\_classic_test.mplstyle: \n",
      "The animation.avconv_args rcparam was deprecated in Matplotlib 3.3 and will be removed two minor releases later.\n"
     ]
    }
   ],
   "source": [
    "import numpy as np\n",
    "import pandas as pd\n",
    "from shapely import geometry\n",
    "import shapely.speedups\n",
    "from tqdm import tqdm\n",
    "from quetzal.model import stepmodel"
   ]
  },
  {
   "cell_type": "markdown",
   "metadata": {},
   "source": [
    "# Preparation of the transport network.\n",
    "## Saves aggregated bus and short-distance rail network.\n",
    "## Needs PT networks with access and egress."
   ]
  },
  {
   "cell_type": "code",
   "execution_count": 2,
   "metadata": {},
   "outputs": [],
   "source": [
    "input_path = '../input/'\n",
    "output_path = '../output/'\n",
    "model_path = '../model/'"
   ]
  },
  {
   "cell_type": "code",
   "execution_count": 3,
   "metadata": {},
   "outputs": [],
   "source": [
    "# Loading StepModel with PT networks...\n",
    "sm = stepmodel.read_json(model_path + 'de_pt_network')\n",
    "bus = stepmodel.read_json(model_path + 'de_pt_network_bus')\n",
    "# Loading access and egress\n",
    "ae = stepmodel.read_json(model_path + 'de_pt_access_egress')"
   ]
  },
  {
   "cell_type": "code",
   "execution_count": 4,
   "metadata": {},
   "outputs": [
    {
     "data": {
      "text/html": [
       "<div>\n",
       "<style scoped>\n",
       "    .dataframe tbody tr th:only-of-type {\n",
       "        vertical-align: middle;\n",
       "    }\n",
       "\n",
       "    .dataframe tbody tr th {\n",
       "        vertical-align: top;\n",
       "    }\n",
       "\n",
       "    .dataframe thead th {\n",
       "        text-align: right;\n",
       "    }\n",
       "</style>\n",
       "<table border=\"1\" class=\"dataframe\">\n",
       "  <thead>\n",
       "    <tr style=\"text-align: right;\">\n",
       "      <th></th>\n",
       "      <th>route_type</th>\n",
       "      <th>stop_name</th>\n",
       "      <th>FID</th>\n",
       "      <th>geometry</th>\n",
       "    </tr>\n",
       "    <tr>\n",
       "      <th>index</th>\n",
       "      <th></th>\n",
       "      <th></th>\n",
       "      <th></th>\n",
       "      <th></th>\n",
       "    </tr>\n",
       "  </thead>\n",
       "  <tbody>\n",
       "    <tr>\n",
       "      <th>rail_long_node_3</th>\n",
       "      <td>rail_long_distance</td>\n",
       "      <td>Hanau Hbf</td>\n",
       "      <td>DE719_2</td>\n",
       "      <td>POINT (8.92900 50.12095)</td>\n",
       "    </tr>\n",
       "  </tbody>\n",
       "</table>\n",
       "</div>"
      ],
      "text/plain": [
       "                          route_type  stop_name      FID  \\\n",
       "index                                                      \n",
       "rail_long_node_3  rail_long_distance  Hanau Hbf  DE719_2   \n",
       "\n",
       "                                  geometry  \n",
       "index                                       \n",
       "rail_long_node_3  POINT (8.92900 50.12095)  "
      ]
     },
     "execution_count": 4,
     "metadata": {},
     "output_type": "execute_result"
    }
   ],
   "source": [
    "sm.nodes.sample()"
   ]
  },
  {
   "cell_type": "code",
   "execution_count": 5,
   "metadata": {},
   "outputs": [
    {
     "name": "stdout",
     "output_type": "stream",
     "text": [
      "Found 5 orphan nodes\n",
      "no road_links or road_nodes\n"
     ]
    }
   ],
   "source": [
    "# Check nodeset integrity for later steps to work\n",
    "try:\n",
    "    sm.integrity_test_nodeset_consistency()\n",
    "except AssertionError:\n",
    "    print('Found {} orphan nodes'.format(len(sm.orphan_nodes)))\n",
    "    sm.nodes.drop(sm.orphan_nodes, inplace=True)\n",
    "    # Test integrity again\n",
    "    sm.integrity_test_nodeset_consistency()"
   ]
  },
  {
   "cell_type": "code",
   "execution_count": 6,
   "metadata": {},
   "outputs": [],
   "source": [
    "# Test sequences\n",
    "# Use an own function because quetzal's takes ages\n",
    "def test_sequences(trip):\n",
    "    assert len(trip)==trip['link_sequence'].max(), \\\n",
    "        'broken sequence in trip {}'.format(trip['trip_id'].unique()[0])"
   ]
  },
  {
   "cell_type": "code",
   "execution_count": 7,
   "metadata": {},
   "outputs": [],
   "source": [
    "# Fix sequences\n",
    "# Use an own function because quetzal's takes ages\n",
    "def fix_sequences(trip):\n",
    "    trip = trip.sort_values('link_sequence')\n",
    "    # Check link succession\n",
    "    ind = list(trip.index)\n",
    "    for i in range(len(trip.index) - 1):\n",
    "        try:\n",
    "            assert trip.loc[ind[i], 'b'] == trip.loc[ind[i+1], 'a'], \\\n",
    "                'broken trip {}: stop {} has no successor link'.format(\n",
    "                    trip['trip_id'].unique()[0], trip.loc[ind[i], 'b'])\n",
    "        except AssertionError:\n",
    "            trip.loc[ind[i+1]:ind[-1], 'trip_id'] = \\\n",
    "                trip.loc[ind[i+1]:ind[-1], 'trip_id'] + '_' + str(i)\n",
    "    # Repair sequences\n",
    "    if len(trip) != trip['link_sequence'].max():\n",
    "        trip['link_sequence'] = trip.groupby('trip_id')['link_sequence'].apply(\n",
    "            lambda t: [j for j in range(1, len(t.index)+1)]).sum()\n",
    "    return trip"
   ]
  },
  {
   "cell_type": "code",
   "execution_count": 8,
   "metadata": {},
   "outputs": [],
   "source": [
    "# Test and save broken sequences\n",
    "def test_sequences_save(trip):\n",
    "    if len(trip)!=trip['link_sequence'].max():\n",
    "        return list(trip.index)"
   ]
  },
  {
   "cell_type": "code",
   "execution_count": 9,
   "metadata": {},
   "outputs": [
    {
     "name": "stderr",
     "output_type": "stream",
     "text": [
      "100%|██████████████████████████████████████████████████████████████████████████| 15701/15701 [00:05<00:00, 2847.26it/s]\n"
     ]
    }
   ],
   "source": [
    "tqdm.pandas()\n",
    "try:\n",
    "    sm.links.groupby('trip_id').progress_apply(test_sequences)\n",
    "except AssertionError:\n",
    "    links = sm.links.groupby('trip_id').progress_apply(fix_sequences).reset_index(level=0, drop=True)\n",
    "    links.groupby('trip_id').progress_apply(test_sequences)\n",
    "    sm.links = links"
   ]
  },
  {
   "cell_type": "code",
   "execution_count": 10,
   "metadata": {},
   "outputs": [
    {
     "name": "stderr",
     "output_type": "stream",
     "text": [
      "100%|████████████████████████████████████████████████████████████████████████| 171343/171343 [00:56<00:00, 3024.23it/s]\n"
     ]
    }
   ],
   "source": [
    "broken_seqs = bus.links.groupby('trip_id').progress_apply(test_sequences_save)"
   ]
  },
  {
   "cell_type": "code",
   "execution_count": 11,
   "metadata": {},
   "outputs": [
    {
     "data": {
      "text/plain": [
       "trip_id\n",
       "bus_1001610    [bus_2096605, bus_2096606, bus_2096607, bus_20...\n",
       "bus_100624     [bus_606727, bus_606728, bus_606729, bus_60673...\n",
       "bus_10068      [bus_113373, bus_113374, bus_113375, bus_11337...\n",
       "bus_1007589    [bus_2102757, bus_2102758, bus_2102759, bus_21...\n",
       "bus_1008462    [bus_2103833, bus_2103834, bus_2103835, bus_21...\n",
       "                                     ...                        \n",
       "bus_992064     [bus_2086772, bus_2086773, bus_2086774, bus_20...\n",
       "bus_992371     [bus_2087008, bus_2087009, bus_2087010, bus_20...\n",
       "bus_99326      [bus_602418, bus_602419, bus_602420, bus_60242...\n",
       "bus_993782     [bus_2088311, bus_2088312, bus_2088313, bus_20...\n",
       "bus_997461     [bus_2092137, bus_2092138, bus_2092139, bus_20...\n",
       "Length: 1491, dtype: object"
      ]
     },
     "execution_count": 11,
     "metadata": {},
     "output_type": "execute_result"
    }
   ],
   "source": [
    "broken_seqs.loc[broken_seqs.notna()]"
   ]
  },
  {
   "cell_type": "code",
   "execution_count": 12,
   "metadata": {},
   "outputs": [
    {
     "name": "stderr",
     "output_type": "stream",
     "text": [
      "100%|██████████████████████████████████████████████████████████████████████████████| 1491/1491 [00:42<00:00, 35.17it/s]\n"
     ]
    }
   ],
   "source": [
    "links = bus.links.loc[broken_seqs.loc[broken_seqs.notna()].sum()\n",
    "                     ].groupby('trip_id').progress_apply(fix_sequences)"
   ]
  },
  {
   "cell_type": "code",
   "execution_count": 13,
   "metadata": {},
   "outputs": [
    {
     "data": {
      "text/html": [
       "<div>\n",
       "<style scoped>\n",
       "    .dataframe tbody tr th:only-of-type {\n",
       "        vertical-align: middle;\n",
       "    }\n",
       "\n",
       "    .dataframe tbody tr th {\n",
       "        vertical-align: top;\n",
       "    }\n",
       "\n",
       "    .dataframe thead th {\n",
       "        text-align: right;\n",
       "    }\n",
       "</style>\n",
       "<table border=\"1\" class=\"dataframe\">\n",
       "  <thead>\n",
       "    <tr style=\"text-align: right;\">\n",
       "      <th></th>\n",
       "      <th></th>\n",
       "      <th>route_id</th>\n",
       "      <th>route_type</th>\n",
       "      <th>a</th>\n",
       "      <th>b</th>\n",
       "      <th>time</th>\n",
       "      <th>trip_id</th>\n",
       "      <th>link_sequence</th>\n",
       "      <th>geometry</th>\n",
       "    </tr>\n",
       "    <tr>\n",
       "      <th>trip_id</th>\n",
       "      <th>index</th>\n",
       "      <th></th>\n",
       "      <th></th>\n",
       "      <th></th>\n",
       "      <th></th>\n",
       "      <th></th>\n",
       "      <th></th>\n",
       "      <th></th>\n",
       "      <th></th>\n",
       "    </tr>\n",
       "  </thead>\n",
       "  <tbody>\n",
       "    <tr>\n",
       "      <th>bus_218292</th>\n",
       "      <th>bus_x_39533</th>\n",
       "      <td>bus_16481</td>\n",
       "      <td>bus</td>\n",
       "      <td>bus_n_x_8485</td>\n",
       "      <td>bus_n_x_346015</td>\n",
       "      <td>240.0</td>\n",
       "      <td>bus_218292_0_1_2_4_5_6_7_8_10_11_12</td>\n",
       "      <td>2</td>\n",
       "      <td>LINESTRING (7.38869 50.07647, 7.36236 50.07692)</td>\n",
       "    </tr>\n",
       "  </tbody>\n",
       "</table>\n",
       "</div>"
      ],
      "text/plain": [
       "                         route_id route_type             a               b  \\\n",
       "trip_id    index                                                             \n",
       "bus_218292 bus_x_39533  bus_16481        bus  bus_n_x_8485  bus_n_x_346015   \n",
       "\n",
       "                         time                              trip_id  \\\n",
       "trip_id    index                                                     \n",
       "bus_218292 bus_x_39533  240.0  bus_218292_0_1_2_4_5_6_7_8_10_11_12   \n",
       "\n",
       "                        link_sequence  \\\n",
       "trip_id    index                        \n",
       "bus_218292 bus_x_39533              2   \n",
       "\n",
       "                                                               geometry  \n",
       "trip_id    index                                                         \n",
       "bus_218292 bus_x_39533  LINESTRING (7.38869 50.07647, 7.36236 50.07692)  "
      ]
     },
     "execution_count": 13,
     "metadata": {},
     "output_type": "execute_result"
    }
   ],
   "source": [
    "links.sample()"
   ]
  },
  {
   "cell_type": "code",
   "execution_count": 14,
   "metadata": {},
   "outputs": [
    {
     "data": {
      "text/plain": [
       "(41283, 8)"
      ]
     },
     "execution_count": 14,
     "metadata": {},
     "output_type": "execute_result"
    }
   ],
   "source": [
    "links.shape"
   ]
  },
  {
   "cell_type": "code",
   "execution_count": 15,
   "metadata": {},
   "outputs": [],
   "source": [
    "links.reset_index(level=0, drop=True, inplace=True)"
   ]
  },
  {
   "cell_type": "code",
   "execution_count": 16,
   "metadata": {},
   "outputs": [
    {
     "name": "stderr",
     "output_type": "stream",
     "text": [
      "100%|██████████████████████████████████████████████████████████████████████████| 23521/23521 [00:07<00:00, 3221.15it/s]\n"
     ]
    },
    {
     "data": {
      "text/html": [
       "<div>\n",
       "<style scoped>\n",
       "    .dataframe tbody tr th:only-of-type {\n",
       "        vertical-align: middle;\n",
       "    }\n",
       "\n",
       "    .dataframe tbody tr th {\n",
       "        vertical-align: top;\n",
       "    }\n",
       "\n",
       "    .dataframe thead th {\n",
       "        text-align: right;\n",
       "    }\n",
       "</style>\n",
       "<table border=\"1\" class=\"dataframe\">\n",
       "  <thead>\n",
       "    <tr style=\"text-align: right;\">\n",
       "      <th></th>\n",
       "    </tr>\n",
       "  </thead>\n",
       "  <tbody>\n",
       "  </tbody>\n",
       "</table>\n",
       "</div>"
      ],
      "text/plain": [
       "Empty DataFrame\n",
       "Columns: []\n",
       "Index: []"
      ]
     },
     "execution_count": 16,
     "metadata": {},
     "output_type": "execute_result"
    }
   ],
   "source": [
    "links.groupby('trip_id').progress_apply(test_sequences)"
   ]
  },
  {
   "cell_type": "code",
   "execution_count": 17,
   "metadata": {},
   "outputs": [],
   "source": [
    "bus.links = bus.links.drop(broken_seqs.loc[broken_seqs.notna()].sum()).append(links)"
   ]
  },
  {
   "cell_type": "code",
   "execution_count": 18,
   "metadata": {},
   "outputs": [
    {
     "data": {
      "text/html": [
       "<div>\n",
       "<style scoped>\n",
       "    .dataframe tbody tr th:only-of-type {\n",
       "        vertical-align: middle;\n",
       "    }\n",
       "\n",
       "    .dataframe tbody tr th {\n",
       "        vertical-align: top;\n",
       "    }\n",
       "\n",
       "    .dataframe thead th {\n",
       "        text-align: right;\n",
       "    }\n",
       "</style>\n",
       "<table border=\"1\" class=\"dataframe\">\n",
       "  <thead>\n",
       "    <tr style=\"text-align: right;\">\n",
       "      <th></th>\n",
       "      <th>route_id</th>\n",
       "      <th>route_type</th>\n",
       "      <th>a</th>\n",
       "      <th>b</th>\n",
       "      <th>time</th>\n",
       "      <th>trip_id</th>\n",
       "      <th>link_sequence</th>\n",
       "      <th>geometry</th>\n",
       "    </tr>\n",
       "    <tr>\n",
       "      <th>index</th>\n",
       "      <th></th>\n",
       "      <th></th>\n",
       "      <th></th>\n",
       "      <th></th>\n",
       "      <th></th>\n",
       "      <th></th>\n",
       "      <th></th>\n",
       "      <th></th>\n",
       "    </tr>\n",
       "  </thead>\n",
       "  <tbody>\n",
       "    <tr>\n",
       "      <th>bus_324309</th>\n",
       "      <td>bus_15828</td>\n",
       "      <td>bus</td>\n",
       "      <td>bus_n_376058</td>\n",
       "      <td>bus_n_18637</td>\n",
       "      <td>120.0</td>\n",
       "      <td>bus_38432</td>\n",
       "      <td>30</td>\n",
       "      <td>LINESTRING (13.78050 51.24906, 13.77373 51.25892)</td>\n",
       "    </tr>\n",
       "  </tbody>\n",
       "</table>\n",
       "</div>"
      ],
      "text/plain": [
       "             route_id route_type             a            b   time    trip_id  \\\n",
       "index                                                                           \n",
       "bus_324309  bus_15828        bus  bus_n_376058  bus_n_18637  120.0  bus_38432   \n",
       "\n",
       "            link_sequence                                           geometry  \n",
       "index                                                                         \n",
       "bus_324309             30  LINESTRING (13.78050 51.24906, 13.77373 51.25892)  "
      ]
     },
     "execution_count": 18,
     "metadata": {},
     "output_type": "execute_result"
    }
   ],
   "source": [
    "bus.links.sample()"
   ]
  },
  {
   "cell_type": "code",
   "execution_count": 19,
   "metadata": {},
   "outputs": [
    {
     "data": {
      "text/html": [
       "<div>\n",
       "<style scoped>\n",
       "    .dataframe tbody tr th:only-of-type {\n",
       "        vertical-align: middle;\n",
       "    }\n",
       "\n",
       "    .dataframe tbody tr th {\n",
       "        vertical-align: top;\n",
       "    }\n",
       "\n",
       "    .dataframe thead th {\n",
       "        text-align: right;\n",
       "    }\n",
       "</style>\n",
       "<table border=\"1\" class=\"dataframe\">\n",
       "  <thead>\n",
       "    <tr style=\"text-align: right;\">\n",
       "      <th></th>\n",
       "      <th>stop_name</th>\n",
       "      <th>route_type</th>\n",
       "      <th>FID</th>\n",
       "      <th>geometry</th>\n",
       "    </tr>\n",
       "    <tr>\n",
       "      <th>index</th>\n",
       "      <th></th>\n",
       "      <th></th>\n",
       "      <th></th>\n",
       "      <th></th>\n",
       "    </tr>\n",
       "  </thead>\n",
       "  <tbody>\n",
       "    <tr>\n",
       "      <th>bus_n_259189</th>\n",
       "      <td>Hannover Hangstraße  Haltestelle 0</td>\n",
       "      <td>bus</td>\n",
       "      <td>DE929_1</td>\n",
       "      <td>POINT (9.69165 52.33123)</td>\n",
       "    </tr>\n",
       "  </tbody>\n",
       "</table>\n",
       "</div>"
      ],
      "text/plain": [
       "                                       stop_name route_type      FID  \\\n",
       "index                                                                  \n",
       "bus_n_259189  Hannover Hangstraße  Haltestelle 0        bus  DE929_1   \n",
       "\n",
       "                              geometry  \n",
       "index                                   \n",
       "bus_n_259189  POINT (9.69165 52.33123)  "
      ]
     },
     "execution_count": 19,
     "metadata": {},
     "output_type": "execute_result"
    }
   ],
   "source": [
    "bus.nodes.sample()"
   ]
  },
  {
   "cell_type": "code",
   "execution_count": 20,
   "metadata": {},
   "outputs": [
    {
     "name": "stdout",
     "output_type": "stream",
     "text": [
      "(14969, 4)\n",
      "(402790, 4)\n"
     ]
    }
   ],
   "source": [
    "# Drop nodes outside of zones\n",
    "if 'FID' in sm.nodes.columns:\n",
    "    sm.nodes = sm.nodes[sm.nodes['FID'].notna()]\n",
    "    bus.nodes = bus.nodes[bus.nodes['FID'].notna()]\n",
    "    print(sm.nodes.shape)\n",
    "    print(bus.nodes.shape)"
   ]
  },
  {
   "cell_type": "code",
   "execution_count": 21,
   "metadata": {},
   "outputs": [
    {
     "name": "stdout",
     "output_type": "stream",
     "text": [
      "(14969, 4)\n",
      "(416516, 4)\n"
     ]
    }
   ],
   "source": [
    "# Divide nodes\n",
    "print(sm.nodes.shape)\n",
    "disagg_nodes = sm.nodes.loc[sm.nodes['route_type']=='rail_short_distance'].append(bus.nodes)\n",
    "sm.nodes = sm.nodes.loc[sm.nodes['route_type']!='rail_short_distance']\n",
    "print(disagg_nodes.shape)"
   ]
  },
  {
   "cell_type": "code",
   "execution_count": 22,
   "metadata": {},
   "outputs": [
    {
     "name": "stdout",
     "output_type": "stream",
     "text": [
      "(146730, 8)\n",
      "(2504642, 8)\n"
     ]
    }
   ],
   "source": [
    "# Divide links\n",
    "print(sm.links.shape)\n",
    "disagg_links = sm.links.loc[sm.links['route_type']=='rail_short_distance'].append(bus.links)\n",
    "sm.links = sm.links.loc[sm.links['route_type']!='rail_short_distance']\n",
    "print(disagg_links.shape)"
   ]
  },
  {
   "cell_type": "code",
   "execution_count": 23,
   "metadata": {},
   "outputs": [
    {
     "data": {
      "text/plain": [
       "204977"
      ]
     },
     "execution_count": 23,
     "metadata": {},
     "output_type": "execute_result"
    }
   ],
   "source": [
    "# Number of trips\n",
    "len(disagg_links['trip_id'].unique())"
   ]
  },
  {
   "cell_type": "markdown",
   "metadata": {},
   "source": [
    "## Remove unneccessary stops\n",
    "Bus and short-distance rail service in the GTFS feeds contain trips with not further connected intermediate stops. Thus, the PT network graph can be reduced without loss of information."
   ]
  },
  {
   "cell_type": "code",
   "execution_count": 24,
   "metadata": {},
   "outputs": [
    {
     "data": {
      "text/html": [
       "<div>\n",
       "<style scoped>\n",
       "    .dataframe tbody tr th:only-of-type {\n",
       "        vertical-align: middle;\n",
       "    }\n",
       "\n",
       "    .dataframe tbody tr th {\n",
       "        vertical-align: top;\n",
       "    }\n",
       "\n",
       "    .dataframe thead th {\n",
       "        text-align: right;\n",
       "    }\n",
       "</style>\n",
       "<table border=\"1\" class=\"dataframe\">\n",
       "  <thead>\n",
       "    <tr style=\"text-align: right;\">\n",
       "      <th></th>\n",
       "      <th>a</th>\n",
       "      <th>b</th>\n",
       "      <th>link_sequence</th>\n",
       "      <th>route_id</th>\n",
       "      <th>route_type</th>\n",
       "      <th>time</th>\n",
       "      <th>trip_id</th>\n",
       "      <th>geometry</th>\n",
       "    </tr>\n",
       "    <tr>\n",
       "      <th>index</th>\n",
       "      <th></th>\n",
       "      <th></th>\n",
       "      <th></th>\n",
       "      <th></th>\n",
       "      <th></th>\n",
       "      <th></th>\n",
       "      <th></th>\n",
       "      <th></th>\n",
       "    </tr>\n",
       "  </thead>\n",
       "  <tbody>\n",
       "    <tr>\n",
       "      <th>coach_1896</th>\n",
       "      <td>coach_node_FLIXBUS:3618</td>\n",
       "      <td>coach_node_FLIXBUS:8898</td>\n",
       "      <td>5.0</td>\n",
       "      <td>coach_FLIXBUS:025</td>\n",
       "      <td>coach</td>\n",
       "      <td>300.0</td>\n",
       "      <td>coach_FLIXBUS:025:30:14:00:00Z-6</td>\n",
       "      <td>LINESTRING (13.16153 53.00407, 13.19219 53.03737)</td>\n",
       "    </tr>\n",
       "  </tbody>\n",
       "</table>\n",
       "</div>"
      ],
      "text/plain": [
       "                                  a                        b  link_sequence  \\\n",
       "index                                                                         \n",
       "coach_1896  coach_node_FLIXBUS:3618  coach_node_FLIXBUS:8898            5.0   \n",
       "\n",
       "                     route_id route_type   time  \\\n",
       "index                                             \n",
       "coach_1896  coach_FLIXBUS:025      coach  300.0   \n",
       "\n",
       "                                     trip_id  \\\n",
       "index                                          \n",
       "coach_1896  coach_FLIXBUS:025:30:14:00:00Z-6   \n",
       "\n",
       "                                                     geometry  \n",
       "index                                                          \n",
       "coach_1896  LINESTRING (13.16153 53.00407, 13.19219 53.03737)  "
      ]
     },
     "execution_count": 24,
     "metadata": {},
     "output_type": "execute_result"
    }
   ],
   "source": [
    "sm.links.sample()"
   ]
  },
  {
   "cell_type": "code",
   "execution_count": 25,
   "metadata": {},
   "outputs": [],
   "source": [
    "# Count the number of links to/from each node\n",
    "n_links_dict = disagg_links[['a', 'b']].stack().value_counts().to_dict()\n",
    "connector_set = ae.zone_to_transit[['a', 'b']].append(ae.footpaths[['a', 'b']])\n",
    "n_connectors_dict = connector_set.stack().value_counts().to_dict()\n",
    "disagg_nodes['n_links'] = [n_links_dict[i] for i in list(disagg_nodes.index)]\n",
    "disagg_nodes['n_connectors'] = disagg_nodes.index.map(n_connectors_dict)\n",
    "disagg_nodes['n_connectors'].replace(np.nan, 0, inplace=True)"
   ]
  },
  {
   "cell_type": "code",
   "execution_count": 26,
   "metadata": {},
   "outputs": [
    {
     "data": {
      "text/html": [
       "<div>\n",
       "<style scoped>\n",
       "    .dataframe tbody tr th:only-of-type {\n",
       "        vertical-align: middle;\n",
       "    }\n",
       "\n",
       "    .dataframe tbody tr th {\n",
       "        vertical-align: top;\n",
       "    }\n",
       "\n",
       "    .dataframe thead th {\n",
       "        text-align: right;\n",
       "    }\n",
       "</style>\n",
       "<table border=\"1\" class=\"dataframe\">\n",
       "  <thead>\n",
       "    <tr style=\"text-align: right;\">\n",
       "      <th></th>\n",
       "      <th>FID</th>\n",
       "      <th>geometry</th>\n",
       "      <th>route_type</th>\n",
       "      <th>stop_name</th>\n",
       "      <th>n_links</th>\n",
       "      <th>n_connectors</th>\n",
       "    </tr>\n",
       "    <tr>\n",
       "      <th>index</th>\n",
       "      <th></th>\n",
       "      <th></th>\n",
       "      <th></th>\n",
       "      <th></th>\n",
       "      <th></th>\n",
       "      <th></th>\n",
       "    </tr>\n",
       "  </thead>\n",
       "  <tbody>\n",
       "  </tbody>\n",
       "</table>\n",
       "</div>"
      ],
      "text/plain": [
       "Empty DataFrame\n",
       "Columns: [FID, geometry, route_type, stop_name, n_links, n_connectors]\n",
       "Index: []"
      ]
     },
     "execution_count": 26,
     "metadata": {},
     "output_type": "execute_result"
    }
   ],
   "source": [
    "disagg_nodes.loc[disagg_nodes.isna().any(axis=1)]"
   ]
  },
  {
   "cell_type": "code",
   "execution_count": 27,
   "metadata": {},
   "outputs": [
    {
     "name": "stdout",
     "output_type": "stream",
     "text": [
      "(402790, 6)\n",
      "(13726, 6)\n"
     ]
    }
   ],
   "source": [
    "print(disagg_nodes.loc[disagg_nodes['route_type']=='bus'].shape)\n",
    "print(disagg_nodes.loc[disagg_nodes['route_type']!='bus'].shape)"
   ]
  },
  {
   "cell_type": "code",
   "execution_count": 28,
   "metadata": {},
   "outputs": [
    {
     "data": {
      "text/html": [
       "<div>\n",
       "<style scoped>\n",
       "    .dataframe tbody tr th:only-of-type {\n",
       "        vertical-align: middle;\n",
       "    }\n",
       "\n",
       "    .dataframe tbody tr th {\n",
       "        vertical-align: top;\n",
       "    }\n",
       "\n",
       "    .dataframe thead th {\n",
       "        text-align: right;\n",
       "    }\n",
       "</style>\n",
       "<table border=\"1\" class=\"dataframe\">\n",
       "  <thead>\n",
       "    <tr style=\"text-align: right;\">\n",
       "      <th></th>\n",
       "      <th>FID</th>\n",
       "      <th>geometry</th>\n",
       "      <th>route_type</th>\n",
       "      <th>stop_name</th>\n",
       "      <th>n_links</th>\n",
       "      <th>n_connectors</th>\n",
       "    </tr>\n",
       "    <tr>\n",
       "      <th>index</th>\n",
       "      <th></th>\n",
       "      <th></th>\n",
       "      <th></th>\n",
       "      <th></th>\n",
       "      <th></th>\n",
       "      <th></th>\n",
       "    </tr>\n",
       "  </thead>\n",
       "  <tbody>\n",
       "    <tr>\n",
       "      <th>bus_n_11549</th>\n",
       "      <td>DE271</td>\n",
       "      <td>POINT (10.84875 48.39334)</td>\n",
       "      <td>bus</td>\n",
       "      <td>Augsburg, Am Eulenhorst</td>\n",
       "      <td>8</td>\n",
       "      <td>0.0</td>\n",
       "    </tr>\n",
       "    <tr>\n",
       "      <th>bus_n_124994</th>\n",
       "      <td>DE21M</td>\n",
       "      <td>POINT (12.37048 48.07121)</td>\n",
       "      <td>bus</td>\n",
       "      <td>Schnaitsee Postamt</td>\n",
       "      <td>8</td>\n",
       "      <td>0.0</td>\n",
       "    </tr>\n",
       "  </tbody>\n",
       "</table>\n",
       "</div>"
      ],
      "text/plain": [
       "                FID                   geometry route_type  \\\n",
       "index                                                       \n",
       "bus_n_11549   DE271  POINT (10.84875 48.39334)        bus   \n",
       "bus_n_124994  DE21M  POINT (12.37048 48.07121)        bus   \n",
       "\n",
       "                            stop_name  n_links  n_connectors  \n",
       "index                                                         \n",
       "bus_n_11549   Augsburg, Am Eulenhorst        8           0.0  \n",
       "bus_n_124994       Schnaitsee Postamt        8           0.0  "
      ]
     },
     "execution_count": 28,
     "metadata": {},
     "output_type": "execute_result"
    }
   ],
   "source": [
    "disagg_nodes.sample(2)"
   ]
  },
  {
   "cell_type": "code",
   "execution_count": 29,
   "metadata": {},
   "outputs": [],
   "source": [
    "# Keep interconnected rail trips but drop all bus trips\n",
    "# without connection to another mode or centroid\n",
    "agg_nodes = disagg_nodes.loc[\n",
    "    ((disagg_nodes['route_type']!='bus') &\n",
    "     ((disagg_nodes['n_links'] > 2) |\n",
    "      (disagg_nodes['n_connectors'] > 0))\n",
    "    ) | (\n",
    "        (disagg_nodes['route_type']=='bus') &\n",
    "        (disagg_nodes['n_connectors'] > 0)\n",
    "    )]"
   ]
  },
  {
   "cell_type": "code",
   "execution_count": 30,
   "metadata": {},
   "outputs": [
    {
     "name": "stdout",
     "output_type": "stream",
     "text": [
      "(38946, 6)\n",
      "(13351, 6)\n"
     ]
    }
   ],
   "source": [
    "print(agg_nodes.loc[agg_nodes['route_type']=='bus'].shape)\n",
    "print(agg_nodes.loc[agg_nodes['route_type']!='bus'].shape)"
   ]
  },
  {
   "cell_type": "markdown",
   "metadata": {},
   "source": [
    "### Aggregate links within the broken trips"
   ]
  },
  {
   "cell_type": "code",
   "execution_count": 31,
   "metadata": {},
   "outputs": [],
   "source": [
    "# Mark dropped nodes\n",
    "disagg_links['relevant'] = disagg_links['a'].isin(list(agg_nodes.index)) | \\\n",
    "    disagg_links['b'].isin(list(agg_nodes.index))"
   ]
  },
  {
   "cell_type": "code",
   "execution_count": 32,
   "metadata": {},
   "outputs": [
    {
     "data": {
      "text/plain": [
       "(579625, 9)"
      ]
     },
     "execution_count": 32,
     "metadata": {},
     "output_type": "execute_result"
    }
   ],
   "source": [
    "disagg_links.loc[disagg_links['relevant']].shape"
   ]
  },
  {
   "cell_type": "code",
   "execution_count": 33,
   "metadata": {},
   "outputs": [
    {
     "data": {
      "text/html": [
       "<div>\n",
       "<style scoped>\n",
       "    .dataframe tbody tr th:only-of-type {\n",
       "        vertical-align: middle;\n",
       "    }\n",
       "\n",
       "    .dataframe tbody tr th {\n",
       "        vertical-align: top;\n",
       "    }\n",
       "\n",
       "    .dataframe thead th {\n",
       "        text-align: right;\n",
       "    }\n",
       "</style>\n",
       "<table border=\"1\" class=\"dataframe\">\n",
       "  <thead>\n",
       "    <tr style=\"text-align: right;\">\n",
       "      <th></th>\n",
       "      <th>a</th>\n",
       "      <th>b</th>\n",
       "      <th>geometry</th>\n",
       "      <th>link_sequence</th>\n",
       "      <th>route_id</th>\n",
       "      <th>route_type</th>\n",
       "      <th>time</th>\n",
       "      <th>trip_id</th>\n",
       "      <th>relevant</th>\n",
       "    </tr>\n",
       "    <tr>\n",
       "      <th>index</th>\n",
       "      <th></th>\n",
       "      <th></th>\n",
       "      <th></th>\n",
       "      <th></th>\n",
       "      <th></th>\n",
       "      <th></th>\n",
       "      <th></th>\n",
       "      <th></th>\n",
       "      <th></th>\n",
       "    </tr>\n",
       "  </thead>\n",
       "  <tbody>\n",
       "    <tr>\n",
       "      <th>bus_776609</th>\n",
       "      <td>bus_n_203522</td>\n",
       "      <td>bus_n_70745</td>\n",
       "      <td>LINESTRING (9.96777 53.26711, 9.95661 53.26929)</td>\n",
       "      <td>9.0</td>\n",
       "      <td>bus_8987</td>\n",
       "      <td>bus</td>\n",
       "      <td>60.0</td>\n",
       "      <td>bus_154154</td>\n",
       "      <td>False</td>\n",
       "    </tr>\n",
       "  </tbody>\n",
       "</table>\n",
       "</div>"
      ],
      "text/plain": [
       "                       a            b  \\\n",
       "index                                   \n",
       "bus_776609  bus_n_203522  bus_n_70745   \n",
       "\n",
       "                                                   geometry  link_sequence  \\\n",
       "index                                                                        \n",
       "bus_776609  LINESTRING (9.96777 53.26711, 9.95661 53.26929)            9.0   \n",
       "\n",
       "            route_id route_type  time     trip_id  relevant  \n",
       "index                                                        \n",
       "bus_776609  bus_8987        bus  60.0  bus_154154     False  "
      ]
     },
     "execution_count": 33,
     "metadata": {},
     "output_type": "execute_result"
    }
   ],
   "source": [
    "disagg_links.sample()"
   ]
  },
  {
   "cell_type": "code",
   "execution_count": 34,
   "metadata": {},
   "outputs": [],
   "source": [
    "# Function for aggregating links\n",
    "def agg_trips(trip):\n",
    "    # Drop links with missing nodes\n",
    "    trip_agg = trip.loc[trip['relevant']].sort_values('link_sequence')\n",
    "    if len(trip_agg.index) == 0:\n",
    "        # Trip is fully irrelevant\n",
    "        return\n",
    "    \n",
    "    missing_nodes = list(set(list(trip_agg['a'])+list(trip_agg['b'])) -\n",
    "                         set(agg_nodes.index))\n",
    "    if len(missing_nodes)==0 and len(trip.index)==len(trip_agg.index):\n",
    "        # This trip is not affected\n",
    "        return trip\n",
    "    \n",
    "    # Repair link succession\n",
    "    ind = list(trip_agg.index)\n",
    "    for i in range(len(ind) - 1):\n",
    "        if trip_agg.loc[ind[i], 'b'] in missing_nodes:\n",
    "            trip_agg.loc[ind[i + 1], 'a'] = trip_agg.loc[ind[i], 'a']\n",
    "            try:\n",
    "                trip_agg.loc[ind[i + 1], 'geometry'] = geometry.LineString(\n",
    "                    [agg_nodes.loc[trip_agg.loc[ind[i + 1], 'a'], 'geometry'],\n",
    "                     agg_nodes.loc[trip_agg.loc[ind[i + 1], 'b'], 'geometry']])\n",
    "            except KeyError:\n",
    "                return\n",
    "            trip_agg.drop(ind[i], inplace=True)\n",
    "            i = i + 1\n",
    "    \n",
    "    ind = list(trip_agg.index)\n",
    "    if len(trip_agg.index) > 0 and trip_agg.loc[ind[0], 'a'] in missing_nodes:\n",
    "        # Drop unused first link\n",
    "        trip_agg = trip_agg.iloc[1:]\n",
    "    if len(trip_agg.index) > 0 and trip_agg.loc[ind[-1], 'b'] in missing_nodes:\n",
    "        # Drop unused last link\n",
    "        trip_agg = trip_agg.iloc[:-1]\n",
    "    ind = list(trip_agg.index)\n",
    "    if len(ind) == 0:\n",
    "        return\n",
    "    \n",
    "    # Aggregate travel time\n",
    "    for i in range(len(ind) - 1):\n",
    "        try:\n",
    "            assert trip_agg.loc[ind[i], 'b'] == trip_agg.loc[ind[i+1], 'a'], \\\n",
    "                'broken sequence in trip {}: stop {} has no successor link'.format(\n",
    "                    trip_agg['trip_id'].unique()[0], trip_agg.loc[ind[i], 'b'])\n",
    "        except AssertionError:\n",
    "            # Drop this trip\n",
    "            return\n",
    "        if trip_agg.loc[ind[i + 1], 'link_sequence'] - trip_agg.loc[ind[i], 'link_sequence'] > 1:\n",
    "            trip_agg.loc[ind[i], 'time'] = trip.loc[ind[i]:ind[i+1], 'time'].sum() - \\\n",
    "                trip_agg.loc[ind[i+1], 'time'] # pandas slicing includes both boundaries\n",
    "    \n",
    "    # Reindex the sequence numbers\n",
    "    trip_agg['link_sequence'] = [i for i in range(1, len(trip_agg.index)+1)]\n",
    "    \n",
    "    return trip_agg"
   ]
  },
  {
   "cell_type": "code",
   "execution_count": 35,
   "metadata": {},
   "outputs": [
    {
     "data": {
      "text/plain": [
       "\"import multiprocessing as mp\\nwith mp.Pool(processes=10) as p:\\n    agg_links = pd.concat(p.map(\\n        agg_trips, [g for _, g in disagg_links.groupby('trip_id')]))\""
      ]
     },
     "execution_count": 35,
     "metadata": {},
     "output_type": "execute_result"
    }
   ],
   "source": [
    "# Faster variant for using multiple cores\n",
    "'''import multiprocessing as mp\n",
    "with mp.Pool(processes=10) as p:\n",
    "    agg_links = pd.concat(p.map(\n",
    "        agg_trips, [g for _, g in disagg_links.groupby('trip_id')]))'''"
   ]
  },
  {
   "cell_type": "code",
   "execution_count": 36,
   "metadata": {},
   "outputs": [
    {
     "name": "stderr",
     "output_type": "stream",
     "text": [
      "100%|██████████████████████████████████████████████████████████████████████████| 204977/204977 [36:06<00:00, 94.60it/s]\n"
     ]
    }
   ],
   "source": [
    "tqdm.pandas()\n",
    "agg_links = disagg_links.groupby('trip_id').progress_apply(\n",
    "    agg_trips).reset_index(level=0, drop=True)"
   ]
  },
  {
   "cell_type": "code",
   "execution_count": 37,
   "metadata": {},
   "outputs": [
    {
     "data": {
      "text/plain": [
       "(365249, 8)"
      ]
     },
     "execution_count": 37,
     "metadata": {},
     "output_type": "execute_result"
    }
   ],
   "source": [
    "agg_links.drop('relevant', axis=1, inplace=True)\n",
    "agg_links.shape"
   ]
  },
  {
   "cell_type": "code",
   "execution_count": 38,
   "metadata": {},
   "outputs": [
    {
     "data": {
      "text/html": [
       "<div>\n",
       "<style scoped>\n",
       "    .dataframe tbody tr th:only-of-type {\n",
       "        vertical-align: middle;\n",
       "    }\n",
       "\n",
       "    .dataframe tbody tr th {\n",
       "        vertical-align: top;\n",
       "    }\n",
       "\n",
       "    .dataframe thead th {\n",
       "        text-align: right;\n",
       "    }\n",
       "</style>\n",
       "<table border=\"1\" class=\"dataframe\">\n",
       "  <thead>\n",
       "    <tr style=\"text-align: right;\">\n",
       "      <th></th>\n",
       "      <th>a</th>\n",
       "      <th>b</th>\n",
       "      <th>geometry</th>\n",
       "      <th>link_sequence</th>\n",
       "      <th>route_id</th>\n",
       "      <th>route_type</th>\n",
       "      <th>time</th>\n",
       "      <th>trip_id</th>\n",
       "    </tr>\n",
       "    <tr>\n",
       "      <th>index</th>\n",
       "      <th></th>\n",
       "      <th></th>\n",
       "      <th></th>\n",
       "      <th></th>\n",
       "      <th></th>\n",
       "      <th></th>\n",
       "      <th></th>\n",
       "      <th></th>\n",
       "    </tr>\n",
       "  </thead>\n",
       "  <tbody>\n",
       "    <tr>\n",
       "      <th>bus_x_94358</th>\n",
       "      <td>bus_n_x_158628</td>\n",
       "      <td>bus_n_x_176123</td>\n",
       "      <td>LINESTRING (14.06439 53.67318, 14.07166 53.68113)</td>\n",
       "      <td>1.0</td>\n",
       "      <td>bus_14417</td>\n",
       "      <td>bus</td>\n",
       "      <td>60.0</td>\n",
       "      <td>bus_1030749</td>\n",
       "    </tr>\n",
       "    <tr>\n",
       "      <th>bus_630184</th>\n",
       "      <td>bus_n_284216</td>\n",
       "      <td>bus_n_362496</td>\n",
       "      <td>LINESTRING (9.81533 48.62884, 9.82044 48.62743)</td>\n",
       "      <td>1.0</td>\n",
       "      <td>bus_17239</td>\n",
       "      <td>bus</td>\n",
       "      <td>120.0</td>\n",
       "      <td>bus_107210</td>\n",
       "    </tr>\n",
       "    <tr>\n",
       "      <th>bus_x_24170</th>\n",
       "      <td>bus_n_x_158628</td>\n",
       "      <td>bus_n_x_176123</td>\n",
       "      <td>LINESTRING (14.06439 53.67318, 14.07166 53.68113)</td>\n",
       "      <td>1.0</td>\n",
       "      <td>bus_14573</td>\n",
       "      <td>bus</td>\n",
       "      <td>60.0</td>\n",
       "      <td>bus_107865</td>\n",
       "    </tr>\n",
       "    <tr>\n",
       "      <th>bus_2198898</th>\n",
       "      <td>bus_n_225734</td>\n",
       "      <td>bus_n_116236</td>\n",
       "      <td>LINESTRING (7.71711 47.95744, 7.75401 47.95625)</td>\n",
       "      <td>1.0</td>\n",
       "      <td>bus_16726</td>\n",
       "      <td>bus</td>\n",
       "      <td>240.0</td>\n",
       "      <td>bus_1100444</td>\n",
       "    </tr>\n",
       "    <tr>\n",
       "      <th>bus_123637</th>\n",
       "      <td>bus_n_245085</td>\n",
       "      <td>bus_n_168072</td>\n",
       "      <td>LINESTRING (13.37043 50.86801, 13.38087 50.86875)</td>\n",
       "      <td>1.0</td>\n",
       "      <td>bus_12111</td>\n",
       "      <td>bus</td>\n",
       "      <td>120.0</td>\n",
       "      <td>bus_11051</td>\n",
       "    </tr>\n",
       "    <tr>\n",
       "      <th>bus_2264273</th>\n",
       "      <td>bus_n_33455</td>\n",
       "      <td>bus_n_230947</td>\n",
       "      <td>LINESTRING (11.21028 53.41921, 11.21446 53.41659)</td>\n",
       "      <td>1.0</td>\n",
       "      <td>bus_18233</td>\n",
       "      <td>bus</td>\n",
       "      <td>60.0</td>\n",
       "      <td>bus_1167445</td>\n",
       "    </tr>\n",
       "    <tr>\n",
       "      <th>bus_165914</th>\n",
       "      <td>bus_n_283974</td>\n",
       "      <td>bus_n_252553</td>\n",
       "      <td>LINESTRING (9.17067 53.68803, 9.16603 53.68442)</td>\n",
       "      <td>1.0</td>\n",
       "      <td>bus_15955</td>\n",
       "      <td>bus</td>\n",
       "      <td>300.0</td>\n",
       "      <td>bus_15656</td>\n",
       "    </tr>\n",
       "    <tr>\n",
       "      <th>bus_817275</th>\n",
       "      <td>bus_n_325822</td>\n",
       "      <td>bus_n_325591</td>\n",
       "      <td>LINESTRING (12.83847 54.20343, 12.82188 54.20661)</td>\n",
       "      <td>1.0</td>\n",
       "      <td>bus_4388</td>\n",
       "      <td>bus</td>\n",
       "      <td>120.0</td>\n",
       "      <td>bus_169264</td>\n",
       "    </tr>\n",
       "    <tr>\n",
       "      <th>bus_917594</th>\n",
       "      <td>bus_n_181487</td>\n",
       "      <td>bus_n_160673</td>\n",
       "      <td>LINESTRING (12.59083 51.27147, 12.58931 51.27475)</td>\n",
       "      <td>1.0</td>\n",
       "      <td>bus_16980</td>\n",
       "      <td>bus</td>\n",
       "      <td>120.0</td>\n",
       "      <td>bus_208398</td>\n",
       "    </tr>\n",
       "    <tr>\n",
       "      <th>bus_982377</th>\n",
       "      <td>bus_n_65295</td>\n",
       "      <td>bus_n_118713</td>\n",
       "      <td>LINESTRING (13.82575 51.18511, 13.83020 51.18659)</td>\n",
       "      <td>1.0</td>\n",
       "      <td>bus_8249</td>\n",
       "      <td>bus</td>\n",
       "      <td>120.0</td>\n",
       "      <td>bus_235645</td>\n",
       "    </tr>\n",
       "    <tr>\n",
       "      <th>bus_x_45509</th>\n",
       "      <td>bus_n_x_333032</td>\n",
       "      <td>bus_n_x_215093</td>\n",
       "      <td>LINESTRING (12.05613 50.92105, 12.05332 50.91909)</td>\n",
       "      <td>1.0</td>\n",
       "      <td>bus_7850</td>\n",
       "      <td>bus</td>\n",
       "      <td>60.0</td>\n",
       "      <td>bus_280207</td>\n",
       "    </tr>\n",
       "    <tr>\n",
       "      <th>bus_x_8320</th>\n",
       "      <td>bus_n_x_333032</td>\n",
       "      <td>bus_n_x_215093</td>\n",
       "      <td>LINESTRING (12.05613 50.92105, 12.05332 50.91909)</td>\n",
       "      <td>1.0</td>\n",
       "      <td>bus_7850</td>\n",
       "      <td>bus</td>\n",
       "      <td>660.0</td>\n",
       "      <td>bus_29142</td>\n",
       "    </tr>\n",
       "    <tr>\n",
       "      <th>bus_269854</th>\n",
       "      <td>bus_n_384382</td>\n",
       "      <td>bus_n_315917</td>\n",
       "      <td>LINESTRING (12.11324 49.32550, 12.10990 49.32685)</td>\n",
       "      <td>1.0</td>\n",
       "      <td>bus_6218</td>\n",
       "      <td>bus</td>\n",
       "      <td>60.0</td>\n",
       "      <td>bus_29533</td>\n",
       "    </tr>\n",
       "    <tr>\n",
       "      <th>bus_x_47403</th>\n",
       "      <td>bus_n_x_333032</td>\n",
       "      <td>bus_n_x_215093</td>\n",
       "      <td>LINESTRING (12.05613 50.92105, 12.05332 50.91909)</td>\n",
       "      <td>1.0</td>\n",
       "      <td>bus_7850</td>\n",
       "      <td>bus</td>\n",
       "      <td>660.0</td>\n",
       "      <td>bus_301648</td>\n",
       "    </tr>\n",
       "    <tr>\n",
       "      <th>bus_1177663</th>\n",
       "      <td>bus_n_89326</td>\n",
       "      <td>bus_n_392174</td>\n",
       "      <td>LINESTRING (7.90498 47.98080, 7.90153 47.98148)</td>\n",
       "      <td>1.0</td>\n",
       "      <td>bus_11549</td>\n",
       "      <td>bus</td>\n",
       "      <td>60.0</td>\n",
       "      <td>bus_329607</td>\n",
       "    </tr>\n",
       "    <tr>\n",
       "      <th>bus_1189528</th>\n",
       "      <td>bus_n_245085</td>\n",
       "      <td>bus_n_168072</td>\n",
       "      <td>LINESTRING (13.37043 50.86801, 13.38087 50.86875)</td>\n",
       "      <td>1.0</td>\n",
       "      <td>bus_12111</td>\n",
       "      <td>bus</td>\n",
       "      <td>120.0</td>\n",
       "      <td>bus_335812</td>\n",
       "    </tr>\n",
       "    <tr>\n",
       "      <th>bus_1203924</th>\n",
       "      <td>bus_n_85478</td>\n",
       "      <td>bus_n_234844</td>\n",
       "      <td>LINESTRING (13.19903 53.42442, 13.26752 53.40582)</td>\n",
       "      <td>1.0</td>\n",
       "      <td>bus_18527</td>\n",
       "      <td>bus</td>\n",
       "      <td>120.0</td>\n",
       "      <td>bus_343687</td>\n",
       "    </tr>\n",
       "    <tr>\n",
       "      <th>bus_1204944</th>\n",
       "      <td>bus_n_208930</td>\n",
       "      <td>bus_n_158004</td>\n",
       "      <td>LINESTRING (11.18305 53.43498, 11.18557 53.42994)</td>\n",
       "      <td>1.0</td>\n",
       "      <td>bus_5241</td>\n",
       "      <td>bus</td>\n",
       "      <td>60.0</td>\n",
       "      <td>bus_344254</td>\n",
       "    </tr>\n",
       "    <tr>\n",
       "      <th>bus_x_51453</th>\n",
       "      <td>bus_n_x_333032</td>\n",
       "      <td>bus_n_x_215093</td>\n",
       "      <td>LINESTRING (12.05613 50.92105, 12.05332 50.91909)</td>\n",
       "      <td>1.0</td>\n",
       "      <td>bus_7850</td>\n",
       "      <td>bus</td>\n",
       "      <td>660.0</td>\n",
       "      <td>bus_347230</td>\n",
       "    </tr>\n",
       "    <tr>\n",
       "      <th>bus_1217885</th>\n",
       "      <td>bus_n_174896</td>\n",
       "      <td>bus_n_58283</td>\n",
       "      <td>LINESTRING (11.31006 49.35142, 11.34369 49.38753)</td>\n",
       "      <td>1.0</td>\n",
       "      <td>bus_12447</td>\n",
       "      <td>bus</td>\n",
       "      <td>840.0</td>\n",
       "      <td>bus_351089</td>\n",
       "    </tr>\n",
       "    <tr>\n",
       "      <th>bus_42760</th>\n",
       "      <td>bus_n_65295</td>\n",
       "      <td>bus_n_118713</td>\n",
       "      <td>LINESTRING (13.82575 51.18511, 13.83020 51.18659)</td>\n",
       "      <td>1.0</td>\n",
       "      <td>bus_8249</td>\n",
       "      <td>bus</td>\n",
       "      <td>120.0</td>\n",
       "      <td>bus_3520</td>\n",
       "    </tr>\n",
       "    <tr>\n",
       "      <th>bus_1368380</th>\n",
       "      <td>bus_n_41281</td>\n",
       "      <td>bus_n_218640</td>\n",
       "      <td>LINESTRING (13.01249 53.32612, 13.00442 53.31549)</td>\n",
       "      <td>1.0</td>\n",
       "      <td>bus_18890</td>\n",
       "      <td>bus</td>\n",
       "      <td>60.0</td>\n",
       "      <td>bus_438634</td>\n",
       "    </tr>\n",
       "    <tr>\n",
       "      <th>bus_1412249</th>\n",
       "      <td>bus_n_184793</td>\n",
       "      <td>bus_n_254801</td>\n",
       "      <td>LINESTRING (12.50301 51.26373, 12.49402 51.26636)</td>\n",
       "      <td>1.0</td>\n",
       "      <td>bus_16980</td>\n",
       "      <td>bus</td>\n",
       "      <td>120.0</td>\n",
       "      <td>bus_465753</td>\n",
       "    </tr>\n",
       "    <tr>\n",
       "      <th>bus_x_65460</th>\n",
       "      <td>bus_n_x_333032</td>\n",
       "      <td>bus_n_x_215093</td>\n",
       "      <td>LINESTRING (12.05613 50.92105, 12.05332 50.91909)</td>\n",
       "      <td>1.0</td>\n",
       "      <td>bus_9107</td>\n",
       "      <td>bus</td>\n",
       "      <td>660.0</td>\n",
       "      <td>bus_523235</td>\n",
       "    </tr>\n",
       "    <tr>\n",
       "      <th>bus_1618322</th>\n",
       "      <td>bus_n_56725</td>\n",
       "      <td>bus_n_379844</td>\n",
       "      <td>LINESTRING (13.06499 53.36328, 13.07326 53.35967)</td>\n",
       "      <td>1.0</td>\n",
       "      <td>bus_18890</td>\n",
       "      <td>bus</td>\n",
       "      <td>120.0</td>\n",
       "      <td>bus_605241</td>\n",
       "    </tr>\n",
       "    <tr>\n",
       "      <th>bus_1645036</th>\n",
       "      <td>bus_n_218251</td>\n",
       "      <td>bus_n_31164</td>\n",
       "      <td>LINESTRING (12.08062 51.95667, 12.08172 51.95428)</td>\n",
       "      <td>1.0</td>\n",
       "      <td>bus_6366</td>\n",
       "      <td>bus</td>\n",
       "      <td>120.0</td>\n",
       "      <td>bus_625019</td>\n",
       "    </tr>\n",
       "    <tr>\n",
       "      <th>bus_1651619</th>\n",
       "      <td>bus_n_109281</td>\n",
       "      <td>bus_n_392642</td>\n",
       "      <td>LINESTRING (7.40200 49.54018, 7.41028 49.53790)</td>\n",
       "      <td>1.0</td>\n",
       "      <td>bus_14347</td>\n",
       "      <td>bus</td>\n",
       "      <td>120.0</td>\n",
       "      <td>bus_629958</td>\n",
       "    </tr>\n",
       "    <tr>\n",
       "      <th>bus_1874111</th>\n",
       "      <td>bus_n_222182</td>\n",
       "      <td>bus_n_85142</td>\n",
       "      <td>LINESTRING (7.38907 53.08167, 7.38792 53.08975)</td>\n",
       "      <td>1.0</td>\n",
       "      <td>bus_5783</td>\n",
       "      <td>bus</td>\n",
       "      <td>180.0</td>\n",
       "      <td>bus_805166</td>\n",
       "    </tr>\n",
       "    <tr>\n",
       "      <th>bus_1892031</th>\n",
       "      <td>bus_n_199720</td>\n",
       "      <td>bus_n_152919</td>\n",
       "      <td>LINESTRING (11.12096 53.77168, 11.46426 53.84384)</td>\n",
       "      <td>1.0</td>\n",
       "      <td>bus_15810</td>\n",
       "      <td>bus</td>\n",
       "      <td>540.0</td>\n",
       "      <td>bus_819640</td>\n",
       "    </tr>\n",
       "    <tr>\n",
       "      <th>bus_1895258</th>\n",
       "      <td>bus_n_36491</td>\n",
       "      <td>bus_n_359633</td>\n",
       "      <td>LINESTRING (8.01702 49.66217, 8.01584 49.66579)</td>\n",
       "      <td>1.0</td>\n",
       "      <td>bus_12266</td>\n",
       "      <td>bus</td>\n",
       "      <td>60.0</td>\n",
       "      <td>bus_822176</td>\n",
       "    </tr>\n",
       "    <tr>\n",
       "      <th>bus_1911794</th>\n",
       "      <td>bus_n_348169</td>\n",
       "      <td>bus_n_28993</td>\n",
       "      <td>LINESTRING (10.78870 49.33452, 10.74686 49.30789)</td>\n",
       "      <td>1.0</td>\n",
       "      <td>bus_10756</td>\n",
       "      <td>bus</td>\n",
       "      <td>960.0</td>\n",
       "      <td>bus_836080</td>\n",
       "    </tr>\n",
       "    <tr>\n",
       "      <th>bus_1943521</th>\n",
       "      <td>bus_n_65295</td>\n",
       "      <td>bus_n_118713</td>\n",
       "      <td>LINESTRING (13.82575 51.18511, 13.83020 51.18659)</td>\n",
       "      <td>1.0</td>\n",
       "      <td>bus_8249</td>\n",
       "      <td>bus</td>\n",
       "      <td>120.0</td>\n",
       "      <td>bus_862834</td>\n",
       "    </tr>\n",
       "    <tr>\n",
       "      <th>bus_x_86285</th>\n",
       "      <td>bus_n_x_333032</td>\n",
       "      <td>bus_n_x_215093</td>\n",
       "      <td>LINESTRING (12.05613 50.92105, 12.05332 50.91909)</td>\n",
       "      <td>1.0</td>\n",
       "      <td>bus_7850</td>\n",
       "      <td>bus</td>\n",
       "      <td>660.0</td>\n",
       "      <td>bus_875776</td>\n",
       "    </tr>\n",
       "    <tr>\n",
       "      <th>bus_2004076</th>\n",
       "      <td>bus_n_172027</td>\n",
       "      <td>bus_n_315160</td>\n",
       "      <td>LINESTRING (9.49398 51.19384, 9.48244 51.20466)</td>\n",
       "      <td>1.0</td>\n",
       "      <td>bus_13065</td>\n",
       "      <td>bus</td>\n",
       "      <td>300.0</td>\n",
       "      <td>bus_916882</td>\n",
       "    </tr>\n",
       "  </tbody>\n",
       "</table>\n",
       "</div>"
      ],
      "text/plain": [
       "                          a               b  \\\n",
       "index                                         \n",
       "bus_x_94358  bus_n_x_158628  bus_n_x_176123   \n",
       "bus_630184     bus_n_284216    bus_n_362496   \n",
       "bus_x_24170  bus_n_x_158628  bus_n_x_176123   \n",
       "bus_2198898    bus_n_225734    bus_n_116236   \n",
       "bus_123637     bus_n_245085    bus_n_168072   \n",
       "bus_2264273     bus_n_33455    bus_n_230947   \n",
       "bus_165914     bus_n_283974    bus_n_252553   \n",
       "bus_817275     bus_n_325822    bus_n_325591   \n",
       "bus_917594     bus_n_181487    bus_n_160673   \n",
       "bus_982377      bus_n_65295    bus_n_118713   \n",
       "bus_x_45509  bus_n_x_333032  bus_n_x_215093   \n",
       "bus_x_8320   bus_n_x_333032  bus_n_x_215093   \n",
       "bus_269854     bus_n_384382    bus_n_315917   \n",
       "bus_x_47403  bus_n_x_333032  bus_n_x_215093   \n",
       "bus_1177663     bus_n_89326    bus_n_392174   \n",
       "bus_1189528    bus_n_245085    bus_n_168072   \n",
       "bus_1203924     bus_n_85478    bus_n_234844   \n",
       "bus_1204944    bus_n_208930    bus_n_158004   \n",
       "bus_x_51453  bus_n_x_333032  bus_n_x_215093   \n",
       "bus_1217885    bus_n_174896     bus_n_58283   \n",
       "bus_42760       bus_n_65295    bus_n_118713   \n",
       "bus_1368380     bus_n_41281    bus_n_218640   \n",
       "bus_1412249    bus_n_184793    bus_n_254801   \n",
       "bus_x_65460  bus_n_x_333032  bus_n_x_215093   \n",
       "bus_1618322     bus_n_56725    bus_n_379844   \n",
       "bus_1645036    bus_n_218251     bus_n_31164   \n",
       "bus_1651619    bus_n_109281    bus_n_392642   \n",
       "bus_1874111    bus_n_222182     bus_n_85142   \n",
       "bus_1892031    bus_n_199720    bus_n_152919   \n",
       "bus_1895258     bus_n_36491    bus_n_359633   \n",
       "bus_1911794    bus_n_348169     bus_n_28993   \n",
       "bus_1943521     bus_n_65295    bus_n_118713   \n",
       "bus_x_86285  bus_n_x_333032  bus_n_x_215093   \n",
       "bus_2004076    bus_n_172027    bus_n_315160   \n",
       "\n",
       "                                                      geometry  link_sequence  \\\n",
       "index                                                                           \n",
       "bus_x_94358  LINESTRING (14.06439 53.67318, 14.07166 53.68113)            1.0   \n",
       "bus_630184     LINESTRING (9.81533 48.62884, 9.82044 48.62743)            1.0   \n",
       "bus_x_24170  LINESTRING (14.06439 53.67318, 14.07166 53.68113)            1.0   \n",
       "bus_2198898    LINESTRING (7.71711 47.95744, 7.75401 47.95625)            1.0   \n",
       "bus_123637   LINESTRING (13.37043 50.86801, 13.38087 50.86875)            1.0   \n",
       "bus_2264273  LINESTRING (11.21028 53.41921, 11.21446 53.41659)            1.0   \n",
       "bus_165914     LINESTRING (9.17067 53.68803, 9.16603 53.68442)            1.0   \n",
       "bus_817275   LINESTRING (12.83847 54.20343, 12.82188 54.20661)            1.0   \n",
       "bus_917594   LINESTRING (12.59083 51.27147, 12.58931 51.27475)            1.0   \n",
       "bus_982377   LINESTRING (13.82575 51.18511, 13.83020 51.18659)            1.0   \n",
       "bus_x_45509  LINESTRING (12.05613 50.92105, 12.05332 50.91909)            1.0   \n",
       "bus_x_8320   LINESTRING (12.05613 50.92105, 12.05332 50.91909)            1.0   \n",
       "bus_269854   LINESTRING (12.11324 49.32550, 12.10990 49.32685)            1.0   \n",
       "bus_x_47403  LINESTRING (12.05613 50.92105, 12.05332 50.91909)            1.0   \n",
       "bus_1177663    LINESTRING (7.90498 47.98080, 7.90153 47.98148)            1.0   \n",
       "bus_1189528  LINESTRING (13.37043 50.86801, 13.38087 50.86875)            1.0   \n",
       "bus_1203924  LINESTRING (13.19903 53.42442, 13.26752 53.40582)            1.0   \n",
       "bus_1204944  LINESTRING (11.18305 53.43498, 11.18557 53.42994)            1.0   \n",
       "bus_x_51453  LINESTRING (12.05613 50.92105, 12.05332 50.91909)            1.0   \n",
       "bus_1217885  LINESTRING (11.31006 49.35142, 11.34369 49.38753)            1.0   \n",
       "bus_42760    LINESTRING (13.82575 51.18511, 13.83020 51.18659)            1.0   \n",
       "bus_1368380  LINESTRING (13.01249 53.32612, 13.00442 53.31549)            1.0   \n",
       "bus_1412249  LINESTRING (12.50301 51.26373, 12.49402 51.26636)            1.0   \n",
       "bus_x_65460  LINESTRING (12.05613 50.92105, 12.05332 50.91909)            1.0   \n",
       "bus_1618322  LINESTRING (13.06499 53.36328, 13.07326 53.35967)            1.0   \n",
       "bus_1645036  LINESTRING (12.08062 51.95667, 12.08172 51.95428)            1.0   \n",
       "bus_1651619    LINESTRING (7.40200 49.54018, 7.41028 49.53790)            1.0   \n",
       "bus_1874111    LINESTRING (7.38907 53.08167, 7.38792 53.08975)            1.0   \n",
       "bus_1892031  LINESTRING (11.12096 53.77168, 11.46426 53.84384)            1.0   \n",
       "bus_1895258    LINESTRING (8.01702 49.66217, 8.01584 49.66579)            1.0   \n",
       "bus_1911794  LINESTRING (10.78870 49.33452, 10.74686 49.30789)            1.0   \n",
       "bus_1943521  LINESTRING (13.82575 51.18511, 13.83020 51.18659)            1.0   \n",
       "bus_x_86285  LINESTRING (12.05613 50.92105, 12.05332 50.91909)            1.0   \n",
       "bus_2004076    LINESTRING (9.49398 51.19384, 9.48244 51.20466)            1.0   \n",
       "\n",
       "              route_id route_type   time      trip_id  \n",
       "index                                                  \n",
       "bus_x_94358  bus_14417        bus   60.0  bus_1030749  \n",
       "bus_630184   bus_17239        bus  120.0   bus_107210  \n",
       "bus_x_24170  bus_14573        bus   60.0   bus_107865  \n",
       "bus_2198898  bus_16726        bus  240.0  bus_1100444  \n",
       "bus_123637   bus_12111        bus  120.0    bus_11051  \n",
       "bus_2264273  bus_18233        bus   60.0  bus_1167445  \n",
       "bus_165914   bus_15955        bus  300.0    bus_15656  \n",
       "bus_817275    bus_4388        bus  120.0   bus_169264  \n",
       "bus_917594   bus_16980        bus  120.0   bus_208398  \n",
       "bus_982377    bus_8249        bus  120.0   bus_235645  \n",
       "bus_x_45509   bus_7850        bus   60.0   bus_280207  \n",
       "bus_x_8320    bus_7850        bus  660.0    bus_29142  \n",
       "bus_269854    bus_6218        bus   60.0    bus_29533  \n",
       "bus_x_47403   bus_7850        bus  660.0   bus_301648  \n",
       "bus_1177663  bus_11549        bus   60.0   bus_329607  \n",
       "bus_1189528  bus_12111        bus  120.0   bus_335812  \n",
       "bus_1203924  bus_18527        bus  120.0   bus_343687  \n",
       "bus_1204944   bus_5241        bus   60.0   bus_344254  \n",
       "bus_x_51453   bus_7850        bus  660.0   bus_347230  \n",
       "bus_1217885  bus_12447        bus  840.0   bus_351089  \n",
       "bus_42760     bus_8249        bus  120.0     bus_3520  \n",
       "bus_1368380  bus_18890        bus   60.0   bus_438634  \n",
       "bus_1412249  bus_16980        bus  120.0   bus_465753  \n",
       "bus_x_65460   bus_9107        bus  660.0   bus_523235  \n",
       "bus_1618322  bus_18890        bus  120.0   bus_605241  \n",
       "bus_1645036   bus_6366        bus  120.0   bus_625019  \n",
       "bus_1651619  bus_14347        bus  120.0   bus_629958  \n",
       "bus_1874111   bus_5783        bus  180.0   bus_805166  \n",
       "bus_1892031  bus_15810        bus  540.0   bus_819640  \n",
       "bus_1895258  bus_12266        bus   60.0   bus_822176  \n",
       "bus_1911794  bus_10756        bus  960.0   bus_836080  \n",
       "bus_1943521   bus_8249        bus  120.0   bus_862834  \n",
       "bus_x_86285   bus_7850        bus  660.0   bus_875776  \n",
       "bus_2004076  bus_13065        bus  300.0   bus_916882  "
      ]
     },
     "execution_count": 38,
     "metadata": {},
     "output_type": "execute_result"
    }
   ],
   "source": [
    "agg_links.loc[~(agg_links['a'].isin(list(agg_nodes.index))) |\n",
    "    ~(agg_links['b'].isin(list(agg_nodes.index)))]"
   ]
  },
  {
   "cell_type": "code",
   "execution_count": 39,
   "metadata": {},
   "outputs": [],
   "source": [
    "# Drop these erronous trips\n",
    "ids = agg_links.loc[~(agg_links['a'].isin(list(agg_nodes.index))) |\n",
    "                    ~(agg_links['b'].isin(list(agg_nodes.index)))].index\n",
    "agg_links = agg_links.loc[~agg_links['trip_id'].isin(list(agg_links.loc[ids, 'trip_id']))]"
   ]
  },
  {
   "cell_type": "markdown",
   "metadata": {},
   "source": [
    "### Merge aggregated links and nodes with the model"
   ]
  },
  {
   "cell_type": "code",
   "execution_count": 40,
   "metadata": {},
   "outputs": [],
   "source": [
    "sm.links = sm.links.loc[sm.links['route_type'].isin(\n",
    "    ['bus', 'rail_short_distance'])==False]\n",
    "sm.nodes = sm.nodes.loc[sm.nodes['route_type'].isin(\n",
    "    ['bus', 'rail_short_distance'])==False]"
   ]
  },
  {
   "cell_type": "code",
   "execution_count": 41,
   "metadata": {},
   "outputs": [
    {
     "data": {
      "text/plain": [
       "(384918, 8)"
      ]
     },
     "execution_count": 41,
     "metadata": {},
     "output_type": "execute_result"
    }
   ],
   "source": [
    "# Re-add links to model\n",
    "sm.links = sm.links.append(agg_links)\n",
    "sm.links.shape"
   ]
  },
  {
   "cell_type": "code",
   "execution_count": 42,
   "metadata": {},
   "outputs": [
    {
     "data": {
      "text/plain": [
       "(53540, 6)"
      ]
     },
     "execution_count": 42,
     "metadata": {},
     "output_type": "execute_result"
    }
   ],
   "source": [
    "# Re-add nodes to the model\n",
    "sm.nodes = sm.nodes.append(agg_nodes)\n",
    "sm.nodes.shape"
   ]
  },
  {
   "cell_type": "code",
   "execution_count": 43,
   "metadata": {},
   "outputs": [
    {
     "name": "stdout",
     "output_type": "stream",
     "text": [
      "Number of orphan nodes: 0\n",
      "Number of missing nodes: 2\n"
     ]
    }
   ],
   "source": [
    "try:\n",
    "    sm.integrity_test_nodeset_consistency()\n",
    "except AssertionError:\n",
    "    print('Number of orphan nodes: {}'.format(\n",
    "        len(sm.orphan_nodes)))\n",
    "    print('Number of missing nodes: {}'.format(\n",
    "        len(sm.missing_nodes)))"
   ]
  },
  {
   "cell_type": "code",
   "execution_count": 44,
   "metadata": {},
   "outputs": [],
   "source": [
    "# Leave these nodes if they connect by more than one\n",
    "# footpath or access/egress link\n",
    "assert len(agg_nodes.loc[sm.orphan_nodes].loc[agg_nodes['n_connectors']>1].index) == len(sm.orphan_nodes)"
   ]
  },
  {
   "cell_type": "code",
   "execution_count": 45,
   "metadata": {},
   "outputs": [],
   "source": [
    "sm.nodes.drop(['n_links', 'n_connectors'], axis=1, inplace=True)"
   ]
  },
  {
   "cell_type": "code",
   "execution_count": 46,
   "metadata": {
    "scrolled": true
   },
   "outputs": [
    {
     "name": "stderr",
     "output_type": "stream",
     "text": [
      "100%|████████████████████████████████████████████████████████████████████████| 101070/101070 [00:33<00:00, 3024.24it/s]\n"
     ]
    },
    {
     "data": {
      "text/html": [
       "<div>\n",
       "<style scoped>\n",
       "    .dataframe tbody tr th:only-of-type {\n",
       "        vertical-align: middle;\n",
       "    }\n",
       "\n",
       "    .dataframe tbody tr th {\n",
       "        vertical-align: top;\n",
       "    }\n",
       "\n",
       "    .dataframe thead th {\n",
       "        text-align: right;\n",
       "    }\n",
       "</style>\n",
       "<table border=\"1\" class=\"dataframe\">\n",
       "  <thead>\n",
       "    <tr style=\"text-align: right;\">\n",
       "      <th></th>\n",
       "    </tr>\n",
       "  </thead>\n",
       "  <tbody>\n",
       "  </tbody>\n",
       "</table>\n",
       "</div>"
      ],
      "text/plain": [
       "Empty DataFrame\n",
       "Columns: []\n",
       "Index: []"
      ]
     },
     "execution_count": 46,
     "metadata": {},
     "output_type": "execute_result"
    }
   ],
   "source": [
    "sm.links.groupby('trip_id').progress_apply(test_sequences)"
   ]
  },
  {
   "cell_type": "markdown",
   "metadata": {},
   "source": [
    "## Map nodes to zones\n",
    "Needed for the accessibility calculation"
   ]
  },
  {
   "cell_type": "code",
   "execution_count": 47,
   "metadata": {},
   "outputs": [],
   "source": [
    "# Nodes must be a GeoDataFrame\n",
    "if 'FID' not in sm.nodes.columns:\n",
    "    import geopandas as gpd\n",
    "    sm.nodes = gpd.GeoDataFrame(sm.nodes, crs=sm.epsg)\n",
    "    shapely.speedups.enable()\n",
    "    sm.nodes['FID'] = np.nan\n",
    "    for _, zone in tqdm(sm.zones.iterrows(), total=sm.zones.shape[0]):\n",
    "        sm.nodes.loc[sm.nodes['geometry'].within(zone['geometry']), 'FID'] = zone['FID']"
   ]
  },
  {
   "cell_type": "code",
   "execution_count": 48,
   "metadata": {},
   "outputs": [
    {
     "data": {
      "text/html": [
       "<div>\n",
       "<style scoped>\n",
       "    .dataframe tbody tr th:only-of-type {\n",
       "        vertical-align: middle;\n",
       "    }\n",
       "\n",
       "    .dataframe tbody tr th {\n",
       "        vertical-align: top;\n",
       "    }\n",
       "\n",
       "    .dataframe thead th {\n",
       "        text-align: right;\n",
       "    }\n",
       "</style>\n",
       "<table border=\"1\" class=\"dataframe\">\n",
       "  <thead>\n",
       "    <tr style=\"text-align: right;\">\n",
       "      <th></th>\n",
       "      <th>FID</th>\n",
       "      <th>geometry</th>\n",
       "      <th>route_type</th>\n",
       "      <th>stop_name</th>\n",
       "    </tr>\n",
       "    <tr>\n",
       "      <th>index</th>\n",
       "      <th></th>\n",
       "      <th></th>\n",
       "      <th></th>\n",
       "      <th></th>\n",
       "    </tr>\n",
       "  </thead>\n",
       "  <tbody>\n",
       "  </tbody>\n",
       "</table>\n",
       "</div>"
      ],
      "text/plain": [
       "Empty DataFrame\n",
       "Columns: [FID, geometry, route_type, stop_name]\n",
       "Index: []"
      ]
     },
     "execution_count": 48,
     "metadata": {},
     "output_type": "execute_result"
    }
   ],
   "source": [
    "sm.nodes[sm.nodes['FID'].isna()]"
   ]
  },
  {
   "cell_type": "markdown",
   "metadata": {},
   "source": [
    "## Save model\n"
   ]
  },
  {
   "cell_type": "code",
   "execution_count": 49,
   "metadata": {},
   "outputs": [],
   "source": [
    "# Add bus service to ancilliary\n",
    "sm.agencies = sm.agencies.append(bus.agencies)\n",
    "sm.pt_routes = sm.pt_routes.append(bus.pt_routes)"
   ]
  },
  {
   "cell_type": "code",
   "execution_count": 50,
   "metadata": {},
   "outputs": [],
   "source": [
    "# Now, we have bus services in the same tables\n",
    "sm.pt_route_types.append('bus')"
   ]
  },
  {
   "cell_type": "code",
   "execution_count": 51,
   "metadata": {},
   "outputs": [],
   "source": [
    "# Split links in graph and auxiliary information\n",
    "# for file sizes being compatible with github's size limit\n",
    "cols = ['link_sequence', 'route_id', 'time', 'trip_id']\n",
    "auxiliary = sm.links[cols]\n",
    "sm.links.drop(cols, axis=1, inplace=True)"
   ]
  },
  {
   "cell_type": "code",
   "execution_count": 52,
   "metadata": {},
   "outputs": [
    {
     "name": "stderr",
     "output_type": "stream",
     "text": [
      "to_hdf(overwriting): 100%|█████████████████████████████████████████████████████████████| 38/38 [00:57<00:00,  1.52s/it]\n",
      "to_hdf(overwriting): 100%|████████████████████████████████████████████████████████████| 38/38 [00:00<00:00, 140.79it/s]\n"
     ]
    }
   ],
   "source": [
    "# Saving model...\n",
    "sm.to_json(model_path + 'de_pt_network_agg',\n",
    "           only_attributes=['zones', 'links', 'nodes', 'pt_route_types'],\n",
    "           encoding='utf-8')\n",
    "sm.to_json(model_path + 'de_pt_network_ancillary',\n",
    "           only_attributes=['agencies', 'pt_routes'],\n",
    "           encoding='utf-8')"
   ]
  },
  {
   "cell_type": "code",
   "execution_count": 53,
   "metadata": {},
   "outputs": [],
   "source": [
    "# Save auxiliary information seperately\n",
    "auxiliary['index'] = auxiliary.index\n",
    "auxiliary.reset_index(drop=True, inplace=True)\n",
    "auxiliary.to_json(model_path + 'de_pt_network_agg/links_quetzaldata.json')"
   ]
  }
 ],
 "metadata": {
  "kernelspec": {
   "display_name": "Python 3",
   "language": "python",
   "name": "python3"
  },
  "language_info": {
   "codemirror_mode": {
    "name": "ipython",
    "version": 3
   },
   "file_extension": ".py",
   "mimetype": "text/x-python",
   "name": "python",
   "nbconvert_exporter": "python",
   "pygments_lexer": "ipython3",
   "version": "3.8.1"
  }
 },
 "nbformat": 4,
 "nbformat_minor": 2
}
