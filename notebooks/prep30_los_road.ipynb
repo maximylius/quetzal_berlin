{
 "cells": [
  {
   "cell_type": "code",
   "execution_count": 1,
   "metadata": {},
   "outputs": [
    {
     "name": "stderr",
     "output_type": "stream",
     "text": [
      "In C:\\Users\\marlin.arnz\\AppData\\Local\\Continuum\\miniconda3\\envs\\quetzal\\lib\\site-packages\\matplotlib\\mpl-data\\stylelib\\_classic_test.mplstyle: \n",
      "The text.latex.preview rcparam was deprecated in Matplotlib 3.3 and will be removed two minor releases later.\n",
      "In C:\\Users\\marlin.arnz\\AppData\\Local\\Continuum\\miniconda3\\envs\\quetzal\\lib\\site-packages\\matplotlib\\mpl-data\\stylelib\\_classic_test.mplstyle: \n",
      "The mathtext.fallback_to_cm rcparam was deprecated in Matplotlib 3.3 and will be removed two minor releases later.\n",
      "In C:\\Users\\marlin.arnz\\AppData\\Local\\Continuum\\miniconda3\\envs\\quetzal\\lib\\site-packages\\matplotlib\\mpl-data\\stylelib\\_classic_test.mplstyle: Support for setting the 'mathtext.fallback_to_cm' rcParam is deprecated since 3.3 and will be removed two minor releases later; use 'mathtext.fallback : 'cm' instead.\n",
      "In C:\\Users\\marlin.arnz\\AppData\\Local\\Continuum\\miniconda3\\envs\\quetzal\\lib\\site-packages\\matplotlib\\mpl-data\\stylelib\\_classic_test.mplstyle: \n",
      "The validate_bool_maybe_none function was deprecated in Matplotlib 3.3 and will be removed two minor releases later.\n",
      "In C:\\Users\\marlin.arnz\\AppData\\Local\\Continuum\\miniconda3\\envs\\quetzal\\lib\\site-packages\\matplotlib\\mpl-data\\stylelib\\_classic_test.mplstyle: \n",
      "The savefig.jpeg_quality rcparam was deprecated in Matplotlib 3.3 and will be removed two minor releases later.\n",
      "In C:\\Users\\marlin.arnz\\AppData\\Local\\Continuum\\miniconda3\\envs\\quetzal\\lib\\site-packages\\matplotlib\\mpl-data\\stylelib\\_classic_test.mplstyle: \n",
      "The keymap.all_axes rcparam was deprecated in Matplotlib 3.3 and will be removed two minor releases later.\n",
      "In C:\\Users\\marlin.arnz\\AppData\\Local\\Continuum\\miniconda3\\envs\\quetzal\\lib\\site-packages\\matplotlib\\mpl-data\\stylelib\\_classic_test.mplstyle: \n",
      "The animation.avconv_path rcparam was deprecated in Matplotlib 3.3 and will be removed two minor releases later.\n",
      "In C:\\Users\\marlin.arnz\\AppData\\Local\\Continuum\\miniconda3\\envs\\quetzal\\lib\\site-packages\\matplotlib\\mpl-data\\stylelib\\_classic_test.mplstyle: \n",
      "The animation.avconv_args rcparam was deprecated in Matplotlib 3.3 and will be removed two minor releases later.\n"
     ]
    }
   ],
   "source": [
    "import math\n",
    "import numpy as np\n",
    "import pandas as pd\n",
    "import geopandas as gpd\n",
    "from shapely import geometry\n",
    "from geopy.distance import geodesic\n",
    "from quetzal.model import stepmodel"
   ]
  },
  {
   "cell_type": "markdown",
   "metadata": {},
   "source": [
    "# Preparation of the LoS tables\n",
    "## Saves a StepModel with shortest paths and LoS attributes for the road network\n",
    "## Needs the road network"
   ]
  },
  {
   "cell_type": "code",
   "execution_count": 2,
   "metadata": {},
   "outputs": [],
   "source": [
    "input_path = '../input_static/'\n",
    "output_path = '../output/'\n",
    "model_path = '../model/'"
   ]
  },
  {
   "cell_type": "code",
   "execution_count": 3,
   "metadata": {},
   "outputs": [],
   "source": [
    "sm = stepmodel.read_json(model_path + 'de_road_network')\n",
    "ae = stepmodel.read_json(model_path + 'de_road_access_egress')"
   ]
  },
  {
   "cell_type": "code",
   "execution_count": 4,
   "metadata": {},
   "outputs": [],
   "source": [
    "sm.zone_to_road = ae.zone_to_road\n",
    "sm.centroids = ae.centroids"
   ]
  },
  {
   "cell_type": "markdown",
   "metadata": {},
   "source": [
    "## Generate LoS attribute time\n",
    "The maxspeed column is based on OSM data that needs to be refined. The unit is km/h"
   ]
  },
  {
   "cell_type": "code",
   "execution_count": 5,
   "metadata": {},
   "outputs": [],
   "source": [
    "sm.road_links[\"length\"] = pd.to_numeric(sm.road_links[\"length\"])"
   ]
  },
  {
   "cell_type": "code",
   "execution_count": 6,
   "metadata": {},
   "outputs": [],
   "source": [
    "default_speed = 0"
   ]
  },
  {
   "cell_type": "code",
   "execution_count": 7,
   "metadata": {},
   "outputs": [],
   "source": [
    "def get_vmax(s):\n",
    "    v_max = default_speed\n",
    "    if isinstance(s, str):\n",
    "        if s.startswith(\"[\"):\n",
    "            v_list_str = s[1:-1].split(\", \")\n",
    "            v_list_str = [v[1:-1] for v in v_list_str]\n",
    "            v_list = []\n",
    "            for v in v_list_str:\n",
    "                try:\n",
    "                    v_list.append(int(v))\n",
    "                except ValueError:\n",
    "                    pass\n",
    "            try:\n",
    "                v_max = max(v_list)\n",
    "            except ValueError:\n",
    "                pass\n",
    "        else:\n",
    "            try:\n",
    "                v_max = int(s)\n",
    "            except ValueError:\n",
    "                pass\n",
    "    elif isinstance(s, int) or isinstance(s, float):\n",
    "        v_max = s\n",
    "    return v_max\n",
    "sm.road_links[\"maxspeed\"] = sm.road_links[\"maxspeed\"].apply(get_vmax)\n",
    "sm.road_links[\"maxspeed\"].fillna(default_speed, inplace=True, downcast='infer')"
   ]
  },
  {
   "cell_type": "code",
   "execution_count": 8,
   "metadata": {},
   "outputs": [
    {
     "data": {
      "text/plain": [
       "549916.399"
      ]
     },
     "execution_count": 8,
     "metadata": {},
     "output_type": "execute_result"
    }
   ],
   "source": [
    "# Length of road network\n",
    "sm.road_links['length'].sum()/1000"
   ]
  },
  {
   "cell_type": "code",
   "execution_count": 9,
   "metadata": {},
   "outputs": [
    {
     "data": {
      "text/plain": [
       "425040.673"
      ]
     },
     "execution_count": 9,
     "metadata": {},
     "output_type": "execute_result"
    }
   ],
   "source": [
    "# Length of road network without any speed assigned\n",
    "sm.road_links.loc[sm.road_links['maxspeed']==default_speed]['length'].sum()/1000"
   ]
  },
  {
   "cell_type": "code",
   "execution_count": 10,
   "metadata": {},
   "outputs": [
    {
     "data": {
      "text/plain": [
       "7539.478"
      ]
     },
     "execution_count": 10,
     "metadata": {},
     "output_type": "execute_result"
    }
   ],
   "source": [
    "# Length of road network with multiple highway classifications\n",
    "sm.road_links.loc[sm.road_links['highway'].str.startswith('[')]['length'].sum()/1000"
   ]
  },
  {
   "cell_type": "code",
   "execution_count": 11,
   "metadata": {},
   "outputs": [
    {
     "data": {
      "text/plain": [
       "0.0"
      ]
     },
     "execution_count": 11,
     "metadata": {},
     "output_type": "execute_result"
    }
   ],
   "source": [
    "# Length of unclassified road network\n",
    "sm.road_links.loc[sm.road_links['highway']=='unclassified']['length'].sum()/1000"
   ]
  },
  {
   "cell_type": "code",
   "execution_count": 12,
   "metadata": {},
   "outputs": [
    {
     "data": {
      "text/plain": [
       "array([[<AxesSubplot:title={'center':'maxspeed'}>]], dtype=object)"
      ]
     },
     "execution_count": 12,
     "metadata": {},
     "output_type": "execute_result"
    },
    {
     "data": {
      "image/png": "[encoded data removed]",
      "text/plain": [
       "<Figure size 360x360 with 1 Axes>"
      ]
     },
     "metadata": {
      "needs_background": "light"
     },
     "output_type": "display_data"
    }
   ],
   "source": [
    "# Number of links (not length) with specified speeds\n",
    "sm.road_links.hist(column='maxspeed', bins=50, figsize=(5,5))"
   ]
  },
  {
   "cell_type": "code",
   "execution_count": 13,
   "metadata": {},
   "outputs": [
    {
     "data": {
      "text/plain": [
       "array(['trunk', 'secondary', 'primary', 'motorway_link', 'trunk_link',\n",
       "       'primary_link', \"['trunk', 'primary']\", 'motorway',\n",
       "       'secondary_link', \"['secondary', 'trunk_link']\",\n",
       "       \"['secondary', 'secondary_link']\",\n",
       "       \"['secondary', 'motorway_link']\", \"['primary', 'trunk_link']\",\n",
       "       \"['primary_link', 'primary']\", \"['secondary', 'primary_link']\",\n",
       "       \"['motorway', 'trunk']\", \"['motorway', 'motorway_link']\",\n",
       "       \"['trunk_link', 'motorway_link']\", \"['motorway', 'primary']\",\n",
       "       \"['trunk', 'trunk_link']\", \"['trunk', 'motorway_link']\",\n",
       "       \"['primary', 'motorway_link']\", \"['secondary_link', 'trunk_link']\",\n",
       "       \"['trunk_link', 'primary']\", \"['primary_link', 'secondary_link']\",\n",
       "       \"['primary_link', 'trunk_link']\",\n",
       "       \"['secondary', 'primary_link', 'secondary_link']\",\n",
       "       \"['secondary', 'trunk']\", \"['secondary_link', 'motorway_link']\",\n",
       "       \"['secondary', 'primary']\", \"['motorway', 'trunk', 'primary']\",\n",
       "       \"['primary_link', 'motorway_link']\",\n",
       "       \"['trunk_link', 'secondary_link']\", \"['motorway', 'secondary']\",\n",
       "       \"['motorway', 'primary_link', 'motorway_link']\",\n",
       "       \"['secondary', 'secondary_link', 'motorway_link']\",\n",
       "       \"['secondary', 'trunk_link', 'secondary_link']\",\n",
       "       \"['secondary', 'trunk', 'motorway_link']\",\n",
       "       \"['secondary', 'primary_link', 'primary']\",\n",
       "       \"['secondary', 'secondary_link', 'primary']\",\n",
       "       \"['trunk', 'trunk_link', 'primary']\",\n",
       "       \"['secondary', 'secondary_link', 'trunk_link']\",\n",
       "       \"['primary_link', 'trunk', 'primary']\",\n",
       "       \"['primary_link', 'trunk_link', 'primary']\",\n",
       "       \"['secondary', 'motorway']\",\n",
       "       \"['motorway', 'trunk', 'motorway_link']\",\n",
       "       \"['secondary', 'trunk', 'trunk_link']\",\n",
       "       \"['primary_link', 'primary', 'trunk_link']\",\n",
       "       \"['trunk', 'primary', 'trunk_link']\",\n",
       "       \"['secondary', 'primary', 'secondary_link']\"], dtype=object)"
      ]
     },
     "execution_count": 13,
     "metadata": {},
     "output_type": "execute_result"
    }
   ],
   "source": [
    "sm.road_links['highway'].unique()"
   ]
  },
  {
   "cell_type": "code",
   "execution_count": 14,
   "metadata": {},
   "outputs": [
    {
     "data": {
      "text/plain": [
       "highway\n",
       "motorway          112\n",
       "motorway_link      80\n",
       "primary            68\n",
       "primary_link       68\n",
       "secondary          57\n",
       "secondary_link     60\n",
       "trunk              96\n",
       "trunk_link         70\n",
       "dtype: int64"
      ]
     },
     "execution_count": 14,
     "metadata": {},
     "output_type": "execute_result"
    }
   ],
   "source": [
    "main_types = [t for t in list(sm.road_links['highway'].unique()) if not t.startswith('[')]\n",
    "temp = sm.road_links.loc[(sm.road_links['maxspeed']!=default_speed) &\n",
    "                         (sm.road_links['highway'].isin(main_types))\n",
    "                        ].set_index('highway', drop=True)\n",
    "weighted_speeds = temp.groupby(temp.index).apply(\n",
    "    lambda x: int(np.average(x.maxspeed, weights=x.length)))\n",
    "weighted_speeds"
   ]
  },
  {
   "cell_type": "code",
   "execution_count": 15,
   "metadata": {},
   "outputs": [
    {
     "data": {
      "text/plain": [
       "76.375"
      ]
     },
     "execution_count": 15,
     "metadata": {},
     "output_type": "execute_result"
    }
   ],
   "source": [
    "weighted_speeds.mean()"
   ]
  },
  {
   "cell_type": "code",
   "execution_count": 16,
   "metadata": {},
   "outputs": [],
   "source": [
    "# On German motorways without speed limit MIV average speed is 125 km/h\n",
    "# https://www.zukunft-mobilitaet.net/171117/analyse/gefahrene-geschwindigkeiten-auf-autobahnen-ohne-tempolimit-verteilung-deutschland/\n",
    "sm.road_links.loc[(sm.road_links['maxspeed']==default_speed) &\n",
    "                  (sm.road_links['highway']=='motorway'), 'maxspeed'] = 125\n",
    "# All other road types are attributed according to the mean speed limit for their type\n",
    "main_types = [t for t in list(sm.road_links['highway'].unique()) if not t.startswith('[')]\n",
    "for t in main_types:\n",
    "    try:\n",
    "        sm.road_links.loc[(sm.road_links['maxspeed']==default_speed) &\n",
    "                          (sm.road_links['highway']==t), 'maxspeed'] = weighted_speeds[t]\n",
    "    except KeyError:\n",
    "        print('No benchmark speed for highway type ' + t)\n",
    "# The rest is a mix of all road types\n",
    "sm.road_links['maxspeed'] = sm.road_links['maxspeed'].replace(\n",
    "    default_speed, int(weighted_speeds.mean()))"
   ]
  },
  {
   "cell_type": "code",
   "execution_count": 17,
   "metadata": {},
   "outputs": [
    {
     "data": {
      "text/plain": [
       "array([[<AxesSubplot:title={'center':'maxspeed'}>]], dtype=object)"
      ]
     },
     "execution_count": 17,
     "metadata": {},
     "output_type": "execute_result"
    },
    {
     "data": {
      "image/png": "[encoded data removed]",
      "text/plain": [
       "<Figure size 288x288 with 1 Axes>"
      ]
     },
     "metadata": {
      "needs_background": "light"
     },
     "output_type": "display_data"
    }
   ],
   "source": [
    "# Number of links (not length) with specified speeds\n",
    "sm.road_links.hist(column='maxspeed', bins=50, figsize=(4,4))"
   ]
  },
  {
   "cell_type": "code",
   "execution_count": 18,
   "metadata": {},
   "outputs": [],
   "source": [
    "# Generate time for road links in seconds\n",
    "# Manual calibration with Google maps (see below)\n",
    "# shows that traffic flow is slower than the speed limits\n",
    "road_speed_calibration = 0.8\n",
    "sm.road_links[\"time\"] = sm.road_links[\"length\"] / 1000 / \\\n",
    "    (sm.road_links[\"maxspeed\"] * road_speed_calibration) * 3600"
   ]
  },
  {
   "cell_type": "code",
   "execution_count": 19,
   "metadata": {},
   "outputs": [
    {
     "data": {
      "text/html": [
       "<div>\n",
       "<style scoped>\n",
       "    .dataframe tbody tr th:only-of-type {\n",
       "        vertical-align: middle;\n",
       "    }\n",
       "\n",
       "    .dataframe tbody tr th {\n",
       "        vertical-align: top;\n",
       "    }\n",
       "\n",
       "    .dataframe thead th {\n",
       "        text-align: right;\n",
       "    }\n",
       "</style>\n",
       "<table border=\"1\" class=\"dataframe\">\n",
       "  <thead>\n",
       "    <tr style=\"text-align: right;\">\n",
       "      <th></th>\n",
       "      <th>a</th>\n",
       "      <th>b</th>\n",
       "      <th>geometry</th>\n",
       "      <th>maxspeed</th>\n",
       "      <th>lanes</th>\n",
       "      <th>highway</th>\n",
       "      <th>length</th>\n",
       "      <th>time</th>\n",
       "    </tr>\n",
       "    <tr>\n",
       "      <th>index</th>\n",
       "      <th></th>\n",
       "      <th></th>\n",
       "      <th></th>\n",
       "      <th></th>\n",
       "      <th></th>\n",
       "      <th></th>\n",
       "      <th></th>\n",
       "      <th></th>\n",
       "    </tr>\n",
       "  </thead>\n",
       "  <tbody>\n",
       "    <tr>\n",
       "      <th>rl_289707</th>\n",
       "      <td>457938</td>\n",
       "      <td>38443858</td>\n",
       "      <td>LINESTRING (6.91715 50.96925, 6.91776 50.96965)</td>\n",
       "      <td>50</td>\n",
       "      <td>3</td>\n",
       "      <td>secondary</td>\n",
       "      <td>61</td>\n",
       "      <td>5.490000</td>\n",
       "    </tr>\n",
       "    <tr>\n",
       "      <th>rl_467265</th>\n",
       "      <td>256141939</td>\n",
       "      <td>62316354</td>\n",
       "      <td>LINESTRING (9.95991 47.63598, 10.00203 47.61397)</td>\n",
       "      <td>57</td>\n",
       "      <td>None</td>\n",
       "      <td>secondary</td>\n",
       "      <td>5208</td>\n",
       "      <td>411.157895</td>\n",
       "    </tr>\n",
       "    <tr>\n",
       "      <th>rl_13744</th>\n",
       "      <td>1598050944</td>\n",
       "      <td>25777766</td>\n",
       "      <td>LINESTRING (7.17671 50.95697, 7.17071 50.95539)</td>\n",
       "      <td>80</td>\n",
       "      <td>1</td>\n",
       "      <td>motorway_link</td>\n",
       "      <td>462</td>\n",
       "      <td>25.987500</td>\n",
       "    </tr>\n",
       "    <tr>\n",
       "      <th>rl_461793</th>\n",
       "      <td>3265511745</td>\n",
       "      <td>1327929999</td>\n",
       "      <td>LINESTRING (12.33505 50.84673, 12.33439 50.84850)</td>\n",
       "      <td>70</td>\n",
       "      <td>[3, 2]</td>\n",
       "      <td>secondary</td>\n",
       "      <td>202</td>\n",
       "      <td>12.985714</td>\n",
       "    </tr>\n",
       "  </tbody>\n",
       "</table>\n",
       "</div>"
      ],
      "text/plain": [
       "                    a           b  \\\n",
       "index                               \n",
       "rl_289707      457938    38443858   \n",
       "rl_467265   256141939    62316354   \n",
       "rl_13744   1598050944    25777766   \n",
       "rl_461793  3265511745  1327929999   \n",
       "\n",
       "                                                    geometry  maxspeed  \\\n",
       "index                                                                    \n",
       "rl_289707    LINESTRING (6.91715 50.96925, 6.91776 50.96965)        50   \n",
       "rl_467265   LINESTRING (9.95991 47.63598, 10.00203 47.61397)        57   \n",
       "rl_13744     LINESTRING (7.17671 50.95697, 7.17071 50.95539)        80   \n",
       "rl_461793  LINESTRING (12.33505 50.84673, 12.33439 50.84850)        70   \n",
       "\n",
       "            lanes        highway  length        time  \n",
       "index                                                 \n",
       "rl_289707       3      secondary      61    5.490000  \n",
       "rl_467265    None      secondary    5208  411.157895  \n",
       "rl_13744        1  motorway_link     462   25.987500  \n",
       "rl_461793  [3, 2]      secondary     202   12.985714  "
      ]
     },
     "execution_count": 19,
     "metadata": {},
     "output_type": "execute_result"
    }
   ],
   "source": [
    "sm.road_links.sample(4)"
   ]
  },
  {
   "cell_type": "markdown",
   "metadata": {},
   "source": [
    "### Alter road access/egress links"
   ]
  },
  {
   "cell_type": "code",
   "execution_count": 20,
   "metadata": {},
   "outputs": [
    {
     "data": {
      "text/html": [
       "<div>\n",
       "<style scoped>\n",
       "    .dataframe tbody tr th:only-of-type {\n",
       "        vertical-align: middle;\n",
       "    }\n",
       "\n",
       "    .dataframe tbody tr th {\n",
       "        vertical-align: top;\n",
       "    }\n",
       "\n",
       "    .dataframe thead th {\n",
       "        text-align: right;\n",
       "    }\n",
       "</style>\n",
       "<table border=\"1\" class=\"dataframe\">\n",
       "  <thead>\n",
       "    <tr style=\"text-align: right;\">\n",
       "      <th></th>\n",
       "      <th>a</th>\n",
       "      <th>b</th>\n",
       "      <th>direction</th>\n",
       "      <th>distance</th>\n",
       "      <th>speed</th>\n",
       "      <th>time</th>\n",
       "      <th>geometry</th>\n",
       "    </tr>\n",
       "    <tr>\n",
       "      <th>index</th>\n",
       "      <th></th>\n",
       "      <th></th>\n",
       "      <th></th>\n",
       "      <th></th>\n",
       "      <th></th>\n",
       "      <th></th>\n",
       "      <th></th>\n",
       "    </tr>\n",
       "  </thead>\n",
       "  <tbody>\n",
       "    <tr>\n",
       "      <th>525</th>\n",
       "      <td>1634494213</td>\n",
       "      <td>DEG0K</td>\n",
       "      <td>eggress</td>\n",
       "      <td>0</td>\n",
       "      <td>17</td>\n",
       "      <td>0</td>\n",
       "      <td>LINESTRING (11.71058 50.58075, 11.73166 50.50189)</td>\n",
       "    </tr>\n",
       "  </tbody>\n",
       "</table>\n",
       "</div>"
      ],
      "text/plain": [
       "                a      b direction  distance  speed  time  \\\n",
       "index                                                       \n",
       "525    1634494213  DEG0K   eggress         0     17     0   \n",
       "\n",
       "                                                geometry  \n",
       "index                                                     \n",
       "525    LINESTRING (11.71058 50.58075, 11.73166 50.50189)  "
      ]
     },
     "execution_count": 20,
     "metadata": {},
     "output_type": "execute_result"
    }
   ],
   "source": [
    "# There has been assigned a static time value in prep20?\n",
    "sm.zone_to_road.sample()"
   ]
  },
  {
   "cell_type": "code",
   "execution_count": 21,
   "metadata": {},
   "outputs": [],
   "source": [
    "# ASSUMPTION: Assign a time\n",
    "sm.zone_to_road['time'] = int(5*60)"
   ]
  },
  {
   "cell_type": "code",
   "execution_count": 22,
   "metadata": {},
   "outputs": [],
   "source": [
    "# If zones have been split, there is no road connection\n",
    "# to the island of Sylt. However, there is a car train\n",
    "# https://www.autozug-sylt.de/de/preise/normaltarif/\n",
    "# https://www.syltshuttle.de/syltshuttle-de/fahrkarten/tarif_2021-2049320\n",
    "# Waiting time depends on the time of the day (10 minutes to 3 hours)\n",
    "p = 44\n",
    "t = int((35 + 60 + 10)*60)\n",
    "g = sm.road_nodes.loc['3911057351', 'geometry']\n",
    "c = sm.centroids.loc['DEF07_2', 'geometry']\n",
    "d = int(geodesic(g.coords, c.coords).m)\n",
    "sm.zone_to_road.loc[len(sm.zone_to_road)] = \\\n",
    "    ['DEF07_2', '3911057351', 'access', d, int(d/t*3.6), t, geometry.LineString([c, g])]\n",
    "sm.zone_to_road.loc[len(sm.zone_to_road)] = \\\n",
    "    ['3911057351', 'DEF07_2', 'eggress', d, int(d/t*3.6), t, geometry.LineString([g, c])]"
   ]
  },
  {
   "cell_type": "code",
   "execution_count": 23,
   "metadata": {},
   "outputs": [
    {
     "data": {
      "text/html": [
       "<div>\n",
       "<style scoped>\n",
       "    .dataframe tbody tr th:only-of-type {\n",
       "        vertical-align: middle;\n",
       "    }\n",
       "\n",
       "    .dataframe tbody tr th {\n",
       "        vertical-align: top;\n",
       "    }\n",
       "\n",
       "    .dataframe thead th {\n",
       "        text-align: right;\n",
       "    }\n",
       "</style>\n",
       "<table border=\"1\" class=\"dataframe\">\n",
       "  <thead>\n",
       "    <tr style=\"text-align: right;\">\n",
       "      <th></th>\n",
       "      <th>a</th>\n",
       "      <th>b</th>\n",
       "      <th>direction</th>\n",
       "      <th>distance</th>\n",
       "      <th>speed</th>\n",
       "      <th>time</th>\n",
       "      <th>geometry</th>\n",
       "    </tr>\n",
       "    <tr>\n",
       "      <th>index</th>\n",
       "      <th></th>\n",
       "      <th></th>\n",
       "      <th></th>\n",
       "      <th></th>\n",
       "      <th></th>\n",
       "      <th></th>\n",
       "      <th></th>\n",
       "    </tr>\n",
       "  </thead>\n",
       "  <tbody>\n",
       "    <tr>\n",
       "      <th>932</th>\n",
       "      <td>DEF07_2</td>\n",
       "      <td>3911057351</td>\n",
       "      <td>access</td>\n",
       "      <td>53595</td>\n",
       "      <td>30</td>\n",
       "      <td>6300</td>\n",
       "      <td>LINESTRING (8.361925876393382 54.9115089133736...</td>\n",
       "    </tr>\n",
       "    <tr>\n",
       "      <th>933</th>\n",
       "      <td>3911057351</td>\n",
       "      <td>DEF07_2</td>\n",
       "      <td>eggress</td>\n",
       "      <td>53595</td>\n",
       "      <td>30</td>\n",
       "      <td>6300</td>\n",
       "      <td>LINESTRING (8.828914899999999 54.7814695, 8.36...</td>\n",
       "    </tr>\n",
       "  </tbody>\n",
       "</table>\n",
       "</div>"
      ],
      "text/plain": [
       "                a           b direction  distance  speed  time  \\\n",
       "index                                                            \n",
       "932       DEF07_2  3911057351    access     53595     30  6300   \n",
       "933    3911057351     DEF07_2   eggress     53595     30  6300   \n",
       "\n",
       "                                                geometry  \n",
       "index                                                     \n",
       "932    LINESTRING (8.361925876393382 54.9115089133736...  \n",
       "933    LINESTRING (8.828914899999999 54.7814695, 8.36...  "
      ]
     },
     "execution_count": 23,
     "metadata": {},
     "output_type": "execute_result"
    }
   ],
   "source": [
    "sm.zone_to_road.loc[(sm.zone_to_road['b']=='DEF07_2')|(sm.zone_to_road['a']=='DEF07_2')]"
   ]
  },
  {
   "cell_type": "markdown",
   "metadata": {},
   "source": [
    "## Apply road pathfinder in order to generate LoS table"
   ]
  },
  {
   "cell_type": "code",
   "execution_count": 24,
   "metadata": {},
   "outputs": [
    {
     "name": "stdout",
     "output_type": "stream",
     "text": [
      "Generated OD set with 217335 pairs\n"
     ]
    }
   ],
   "source": [
    "# Load OD pairs from volumes if available\n",
    "od_set = None\n",
    "try:\n",
    "    v = stepmodel.read_json(model_path + 'de_volumes')\n",
    "    od_set = set([tuple(l) for l in v.volumes[['origin', 'destination']].values.tolist()])\n",
    "    print('Generated OD set with {} pairs'.format(len(od_set)))\n",
    "except:\n",
    "    print('The volumes file is not (yet) available')"
   ]
  },
  {
   "cell_type": "code",
   "execution_count": 25,
   "metadata": {
    "scrolled": true
   },
   "outputs": [],
   "source": [
    "sm.step_road_pathfinder(all_or_nothing=True,\n",
    "                        od_set=od_set)"
   ]
  },
  {
   "cell_type": "code",
   "execution_count": 26,
   "metadata": {},
   "outputs": [
    {
     "data": {
      "text/html": [
       "<div>\n",
       "<style scoped>\n",
       "    .dataframe tbody tr th:only-of-type {\n",
       "        vertical-align: middle;\n",
       "    }\n",
       "\n",
       "    .dataframe tbody tr th {\n",
       "        vertical-align: top;\n",
       "    }\n",
       "\n",
       "    .dataframe thead th {\n",
       "        text-align: right;\n",
       "    }\n",
       "</style>\n",
       "<table border=\"1\" class=\"dataframe\">\n",
       "  <thead>\n",
       "    <tr style=\"text-align: right;\">\n",
       "      <th></th>\n",
       "      <th>origin</th>\n",
       "      <th>destination</th>\n",
       "      <th>time</th>\n",
       "      <th>path</th>\n",
       "      <th>node_path</th>\n",
       "      <th>link_path</th>\n",
       "      <th>ntlegs</th>\n",
       "    </tr>\n",
       "  </thead>\n",
       "  <tbody>\n",
       "    <tr>\n",
       "      <th>68486</th>\n",
       "      <td>DE268</td>\n",
       "      <td>DEA26</td>\n",
       "      <td>14481.108379</td>\n",
       "      <td>[DE268, 29080012, 29080001, 29080000, 30166110...</td>\n",
       "      <td>[29080012, 29080001, 29080000, 3016611022, 227...</td>\n",
       "      <td>[rl_406842, rl_157407, rl_447020, rl_468012, r...</td>\n",
       "      <td>[(DE268, 29080012), (5931463741, DEA26)]</td>\n",
       "    </tr>\n",
       "    <tr>\n",
       "      <th>99785</th>\n",
       "      <td>DE731</td>\n",
       "      <td>DEA32</td>\n",
       "      <td>8568.330751</td>\n",
       "      <td>[DE731, 3987755952, 1959256947, 32856421, 3285...</td>\n",
       "      <td>[3987755952, 1959256947, 32856421, 32856416, 2...</td>\n",
       "      <td>[rl_13940, rl_328586, rl_437620, rl_422507, rl...</td>\n",
       "      <td>[(DE731, 3987755952), (1599916033, DEA32)]</td>\n",
       "    </tr>\n",
       "    <tr>\n",
       "      <th>6933</th>\n",
       "      <td>DE121</td>\n",
       "      <td>DED2C_2</td>\n",
       "      <td>24488.963158</td>\n",
       "      <td>[DE121, 32131210, 31261453, 17558612, 53479529...</td>\n",
       "      <td>[32131210, 31261453, 17558612, 5347952995, 193...</td>\n",
       "      <td>[rl_431242, rl_410709, rl_398021, rl_138529, r...</td>\n",
       "      <td>[(DE121, 32131210), (260806127, DED2C_2)]</td>\n",
       "    </tr>\n",
       "  </tbody>\n",
       "</table>\n",
       "</div>"
      ],
      "text/plain": [
       "      origin destination          time  \\\n",
       "68486  DE268       DEA26  14481.108379   \n",
       "99785  DE731       DEA32   8568.330751   \n",
       "6933   DE121     DED2C_2  24488.963158   \n",
       "\n",
       "                                                    path  \\\n",
       "68486  [DE268, 29080012, 29080001, 29080000, 30166110...   \n",
       "99785  [DE731, 3987755952, 1959256947, 32856421, 3285...   \n",
       "6933   [DE121, 32131210, 31261453, 17558612, 53479529...   \n",
       "\n",
       "                                               node_path  \\\n",
       "68486  [29080012, 29080001, 29080000, 3016611022, 227...   \n",
       "99785  [3987755952, 1959256947, 32856421, 32856416, 2...   \n",
       "6933   [32131210, 31261453, 17558612, 5347952995, 193...   \n",
       "\n",
       "                                               link_path  \\\n",
       "68486  [rl_406842, rl_157407, rl_447020, rl_468012, r...   \n",
       "99785  [rl_13940, rl_328586, rl_437620, rl_422507, rl...   \n",
       "6933   [rl_431242, rl_410709, rl_398021, rl_138529, r...   \n",
       "\n",
       "                                           ntlegs  \n",
       "68486    [(DE268, 29080012), (5931463741, DEA26)]  \n",
       "99785  [(DE731, 3987755952), (1599916033, DEA32)]  \n",
       "6933    [(DE121, 32131210), (260806127, DED2C_2)]  "
      ]
     },
     "execution_count": 26,
     "metadata": {},
     "output_type": "execute_result"
    }
   ],
   "source": [
    "sm.car_los.sample(3)"
   ]
  },
  {
   "cell_type": "code",
   "execution_count": 27,
   "metadata": {},
   "outputs": [
    {
     "data": {
      "text/plain": [
       "(217335, 7)"
      ]
     },
     "execution_count": 27,
     "metadata": {},
     "output_type": "execute_result"
    }
   ],
   "source": [
    "sm.car_los.shape"
   ]
  },
  {
   "cell_type": "code",
   "execution_count": 28,
   "metadata": {
    "scrolled": true
   },
   "outputs": [
    {
     "name": "stdout",
     "output_type": "stream",
     "text": [
      "DE111 - DE111: 0.0, 0km\n",
      "DE111 - DE300_1: 6.7, 623km\n",
      "DE111 - DE939: 7.7, 689km\n",
      "DE111 - DEE0D: 7.1, 576km\n",
      "DE300_1 - DE111: 6.7, 623km\n",
      "DE300_1 - DE300_1: 0.0, 0km\n",
      "DE300_1 - DE939: 4.1, 351km\n",
      "DE300_1 - DEE0D: 2.2, 113km\n",
      "DE939 - DE111: 7.7, 688km\n",
      "DE939 - DE300_1: 4.1, 351km\n",
      "DE939 - DE939: 0.0, 0km\n",
      "DE939 - DEE0D: 4.0, 290km\n",
      "DEE0D - DE111: 7.2, 587km\n",
      "DEE0D - DE300_1: 2.4, 124km\n",
      "DEE0D - DE939: 3.6, 273km\n",
      "DEE0D - DEE0D: 0.0, 0km\n"
     ]
    }
   ],
   "source": [
    "# Verify with Google maps routing\n",
    "# Berlin (DE300) - Stade (DE939): 4h22m, 354km\n",
    "# Berlin (DE300) - Stuttgart (DE111): 6h37m, 632km\n",
    "# Berlin (DE300) - Stendal (DEE0D): 2h08m, 125km\n",
    "# Stade - Stuttgart: 7h45m, 687km\n",
    "# Stendal - Stuttgart: 6h11m, 574km\n",
    "# Stendal - Stade: 3h22m, 231km\n",
    "od = ['DE300_1', 'DE939', 'DE111', 'DEE0D']\n",
    "for _, row in sm.car_los.loc[(sm.car_los['origin'].isin(od)) &\n",
    "                             (sm.car_los['destination'].isin(od))].iterrows():\n",
    "    print(row['origin'] + ' - ' + row['destination'] + ': '\n",
    "          + str(np.round(row['time']/3600,1)) + ', '\n",
    "          + str(int(sm.road_links.loc[row['link_path'], 'length'].sum()/1000)) + 'km')"
   ]
  },
  {
   "cell_type": "code",
   "execution_count": 29,
   "metadata": {},
   "outputs": [
    {
     "data": {
      "text/plain": [
       "array([[<AxesSubplot:title={'center':'time'}>]], dtype=object)"
      ]
     },
     "execution_count": 29,
     "metadata": {},
     "output_type": "execute_result"
    },
    {
     "data": {
      "image/png": "[encoded data removed]",
      "text/plain": [
       "<Figure size 288x288 with 1 Axes>"
      ]
     },
     "metadata": {
      "needs_background": "light"
     },
     "output_type": "display_data"
    }
   ],
   "source": [
    "sm.car_los.hist(column='time', bins=100, figsize=(4,4))"
   ]
  },
  {
   "cell_type": "code",
   "execution_count": 30,
   "metadata": {},
   "outputs": [
    {
     "data": {
      "text/plain": [
       "(216869, 7)"
      ]
     },
     "execution_count": 30,
     "metadata": {},
     "output_type": "execute_result"
    }
   ],
   "source": [
    "# Drop inner-cell connections\n",
    "sm.car_los = sm.car_los[sm.car_los['time']!=0]\n",
    "sm.car_los.shape"
   ]
  },
  {
   "cell_type": "markdown",
   "metadata": {},
   "source": [
    "## Add various attributes to LoS table"
   ]
  },
  {
   "cell_type": "code",
   "execution_count": 31,
   "metadata": {},
   "outputs": [
    {
     "name": "stdout",
     "output_type": "stream",
     "text": [
      "Index(['origin', 'destination', 'time', 'path', 'node_path', 'link_path',\n",
      "       'ntlegs', 'access_time', 'in_vehicle_time'],\n",
      "      dtype='object')\n"
     ]
    }
   ],
   "source": [
    "# Disaggregate into in-vehicle time and access/egress\n",
    "sm.analysis_car_time()\n",
    "print(sm.car_los.columns)"
   ]
  },
  {
   "cell_type": "code",
   "execution_count": 32,
   "metadata": {},
   "outputs": [],
   "source": [
    "# Add distances car\n",
    "len_dict = sm.road_links['length'].to_dict()\n",
    "sm.car_los['length'] = sm.car_los['link_path'].apply(lambda p: sum([len_dict[l] for l in p]))"
   ]
  },
  {
   "cell_type": "code",
   "execution_count": 33,
   "metadata": {},
   "outputs": [],
   "source": [
    "# Add route_type = 'car' in car_los\n",
    "sm.analysis_car_route_type()"
   ]
  },
  {
   "cell_type": "code",
   "execution_count": 34,
   "metadata": {},
   "outputs": [],
   "source": [
    "sm.car_los['ntransfers'] = 0"
   ]
  },
  {
   "cell_type": "code",
   "execution_count": 35,
   "metadata": {},
   "outputs": [],
   "source": [
    "# Car is always available\n",
    "sm.car_los['accessibility'] = 1"
   ]
  },
  {
   "cell_type": "markdown",
   "metadata": {},
   "source": [
    "### Car ownership and accessibility\n",
    "Car ownership from the German federal statistical office GENESIS data base table 46251-0006: \"Kraftfahrzeugbestand: Kreise, Stichtag, Kraftfahrzeugarten\". Download at Nov. 26th 2020. License: Datenlizenz by-2-0; www.govdata.de/dl-de/by-2-0"
   ]
  },
  {
   "cell_type": "code",
   "execution_count": 36,
   "metadata": {},
   "outputs": [
    {
     "data": {
      "text/html": [
       "<div>\n",
       "<style scoped>\n",
       "    .dataframe tbody tr th:only-of-type {\n",
       "        vertical-align: middle;\n",
       "    }\n",
       "\n",
       "    .dataframe tbody tr th {\n",
       "        vertical-align: top;\n",
       "    }\n",
       "\n",
       "    .dataframe thead th {\n",
       "        text-align: right;\n",
       "    }\n",
       "</style>\n",
       "<table border=\"1\" class=\"dataframe\">\n",
       "  <thead>\n",
       "    <tr style=\"text-align: right;\">\n",
       "      <th></th>\n",
       "      <th>CNTR_CODE</th>\n",
       "      <th>NUTS_NAME</th>\n",
       "      <th>LEVL_CODE</th>\n",
       "      <th>FID</th>\n",
       "      <th>NUTS_ID</th>\n",
       "      <th>population</th>\n",
       "      <th>area</th>\n",
       "      <th>urbanisation</th>\n",
       "      <th>lau_id</th>\n",
       "      <th>geometry</th>\n",
       "      <th>cars</th>\n",
       "    </tr>\n",
       "    <tr>\n",
       "      <th>index</th>\n",
       "      <th></th>\n",
       "      <th></th>\n",
       "      <th></th>\n",
       "      <th></th>\n",
       "      <th></th>\n",
       "      <th></th>\n",
       "      <th></th>\n",
       "      <th></th>\n",
       "      <th></th>\n",
       "      <th></th>\n",
       "      <th></th>\n",
       "    </tr>\n",
       "  </thead>\n",
       "  <tbody>\n",
       "    <tr>\n",
       "      <th>DE21C</th>\n",
       "      <td>DE</td>\n",
       "      <td>Fürstenfeldbruck</td>\n",
       "      <td>3</td>\n",
       "      <td>DE21C</td>\n",
       "      <td>DE21C</td>\n",
       "      <td>219320</td>\n",
       "      <td>434.81</td>\n",
       "      <td>3.0</td>\n",
       "      <td>9179</td>\n",
       "      <td>POLYGON ((11.40294 48.20312, 11.39299 48.20051...</td>\n",
       "      <td>132085.0</td>\n",
       "    </tr>\n",
       "    <tr>\n",
       "      <th>DED2F</th>\n",
       "      <td>DE</td>\n",
       "      <td>Sächsische Schweiz-Osterzgebirge</td>\n",
       "      <td>3</td>\n",
       "      <td>DED2F</td>\n",
       "      <td>DED2F</td>\n",
       "      <td>245611</td>\n",
       "      <td>1654.19</td>\n",
       "      <td>3.0</td>\n",
       "      <td>14628</td>\n",
       "      <td>POLYGON ((14.31787 51.05470, 14.30141 51.05442...</td>\n",
       "      <td>152170.0</td>\n",
       "    </tr>\n",
       "  </tbody>\n",
       "</table>\n",
       "</div>"
      ],
      "text/plain": [
       "      CNTR_CODE                         NUTS_NAME  LEVL_CODE    FID NUTS_ID  \\\n",
       "index                                                                         \n",
       "DE21C        DE                  Fürstenfeldbruck          3  DE21C   DE21C   \n",
       "DED2F        DE  Sächsische Schweiz-Osterzgebirge          3  DED2F   DED2F   \n",
       "\n",
       "       population     area  urbanisation lau_id  \\\n",
       "index                                             \n",
       "DE21C      219320   434.81           3.0   9179   \n",
       "DED2F      245611  1654.19           3.0  14628   \n",
       "\n",
       "                                                geometry      cars  \n",
       "index                                                               \n",
       "DE21C  POLYGON ((11.40294 48.20312, 11.39299 48.20051...  132085.0  \n",
       "DED2F  POLYGON ((14.31787 51.05470, 14.30141 51.05442...  152170.0  "
      ]
     },
     "execution_count": 36,
     "metadata": {},
     "output_type": "execute_result"
    }
   ],
   "source": [
    "# Load the table\n",
    "cars = pd.read_excel(input_path + 'spatial_car_ownership_2017_GENESIS.xlsx')\n",
    "cars['sum_MIT'] = cars['Krafträder'] + cars['Pkw']\n",
    "cars['lau_id'] = cars['lau_id'].astype(str)\n",
    "cars['sum_MIT'] = cars['sum_MIT'].replace({'--': 0}).astype(int)\n",
    "cars.set_index('lau_id', drop=True, inplace=True)\n",
    "lau_car_dict = cars['sum_MIT'].to_dict()\n",
    "sm.zones['cars'] = sm.zones['lau_id'].map(lau_car_dict)\n",
    "sm.zones.sample(2)"
   ]
  },
  {
   "cell_type": "code",
   "execution_count": 37,
   "metadata": {},
   "outputs": [],
   "source": [
    "# Weigh the number of cars by population if zone has been split\n",
    "def weighted_cars(g):\n",
    "    pop_sum = g['population'].sum()\n",
    "    cars = max(list(g['cars']))\n",
    "    pop = list(g['population'])\n",
    "    weighted_cars = [cars * pop[i] / pop_sum for i in range(len(pop))]\n",
    "    return pd.Series(index=g.index, data=weighted_cars)\n",
    "mask = sm.zones['NUTS_ID']!=sm.zones['FID']\n",
    "shares = sm.zones.loc[mask].groupby('NUTS_ID').apply(weighted_cars).reset_index(level=0, drop=True)\n",
    "sm.zones.loc[mask, 'cars'] = shares"
   ]
  },
  {
   "cell_type": "code",
   "execution_count": 38,
   "metadata": {},
   "outputs": [
    {
     "data": {
      "text/html": [
       "<div>\n",
       "<style scoped>\n",
       "    .dataframe tbody tr th:only-of-type {\n",
       "        vertical-align: middle;\n",
       "    }\n",
       "\n",
       "    .dataframe tbody tr th {\n",
       "        vertical-align: top;\n",
       "    }\n",
       "\n",
       "    .dataframe thead th {\n",
       "        text-align: right;\n",
       "    }\n",
       "</style>\n",
       "<table border=\"1\" class=\"dataframe\">\n",
       "  <thead>\n",
       "    <tr style=\"text-align: right;\">\n",
       "      <th></th>\n",
       "      <th>CNTR_CODE</th>\n",
       "      <th>NUTS_NAME</th>\n",
       "      <th>LEVL_CODE</th>\n",
       "      <th>FID</th>\n",
       "      <th>NUTS_ID</th>\n",
       "      <th>population</th>\n",
       "      <th>area</th>\n",
       "      <th>urbanisation</th>\n",
       "      <th>lau_id</th>\n",
       "      <th>geometry</th>\n",
       "      <th>cars</th>\n",
       "    </tr>\n",
       "    <tr>\n",
       "      <th>index</th>\n",
       "      <th></th>\n",
       "      <th></th>\n",
       "      <th></th>\n",
       "      <th></th>\n",
       "      <th></th>\n",
       "      <th></th>\n",
       "      <th></th>\n",
       "      <th></th>\n",
       "      <th></th>\n",
       "      <th></th>\n",
       "      <th></th>\n",
       "    </tr>\n",
       "  </thead>\n",
       "  <tbody>\n",
       "    <tr>\n",
       "      <th>DE929_city</th>\n",
       "      <td>DE</td>\n",
       "      <td>Hannover</td>\n",
       "      <td>3</td>\n",
       "      <td>DE929_city</td>\n",
       "      <td>DE929</td>\n",
       "      <td>268224</td>\n",
       "      <td>204.300000</td>\n",
       "      <td>1.0</td>\n",
       "      <td>3241001</td>\n",
       "      <td>POLYGON ((9.78861 52.37444, 9.78837 52.36954, ...</td>\n",
       "      <td>NaN</td>\n",
       "    </tr>\n",
       "    <tr>\n",
       "      <th>DE929_1</th>\n",
       "      <td>DE</td>\n",
       "      <td>Region Hannover 1</td>\n",
       "      <td>3</td>\n",
       "      <td>DE929_1</td>\n",
       "      <td>DE929</td>\n",
       "      <td>410987</td>\n",
       "      <td>1082.811956</td>\n",
       "      <td>2.0</td>\n",
       "      <td>3241</td>\n",
       "      <td>POLYGON ((9.71914 52.19921, 9.69952 52.19807, ...</td>\n",
       "      <td>NaN</td>\n",
       "    </tr>\n",
       "    <tr>\n",
       "      <th>DE929_2</th>\n",
       "      <td>DE</td>\n",
       "      <td>Region Hannover 2</td>\n",
       "      <td>3</td>\n",
       "      <td>DE929_2</td>\n",
       "      <td>DE929</td>\n",
       "      <td>478411</td>\n",
       "      <td>1010.018044</td>\n",
       "      <td>2.0</td>\n",
       "      <td>3241</td>\n",
       "      <td>POLYGON ((9.73462 52.63830, 9.74099 52.63166, ...</td>\n",
       "      <td>NaN</td>\n",
       "    </tr>\n",
       "  </tbody>\n",
       "</table>\n",
       "</div>"
      ],
      "text/plain": [
       "           CNTR_CODE          NUTS_NAME  LEVL_CODE         FID NUTS_ID  \\\n",
       "index                                                                    \n",
       "DE929_city        DE           Hannover          3  DE929_city   DE929   \n",
       "DE929_1           DE  Region Hannover 1          3     DE929_1   DE929   \n",
       "DE929_2           DE  Region Hannover 2          3     DE929_2   DE929   \n",
       "\n",
       "            population         area  urbanisation   lau_id  \\\n",
       "index                                                        \n",
       "DE929_city      268224   204.300000           1.0  3241001   \n",
       "DE929_1         410987  1082.811956           2.0     3241   \n",
       "DE929_2         478411  1010.018044           2.0     3241   \n",
       "\n",
       "                                                     geometry  cars  \n",
       "index                                                                \n",
       "DE929_city  POLYGON ((9.78861 52.37444, 9.78837 52.36954, ...   NaN  \n",
       "DE929_1     POLYGON ((9.71914 52.19921, 9.69952 52.19807, ...   NaN  \n",
       "DE929_2     POLYGON ((9.73462 52.63830, 9.74099 52.63166, ...   NaN  "
      ]
     },
     "execution_count": 38,
     "metadata": {},
     "output_type": "execute_result"
    }
   ],
   "source": [
    "# Empty rows\n",
    "sm.zones.loc[sm.zones['cars'].isna()]"
   ]
  },
  {
   "cell_type": "code",
   "execution_count": 39,
   "metadata": {},
   "outputs": [],
   "source": [
    "sm.zones.loc[sm.zones['cars'].isna(), 'cars'] = 0"
   ]
  },
  {
   "cell_type": "code",
   "execution_count": 40,
   "metadata": {},
   "outputs": [
    {
     "data": {
      "text/html": [
       "<div>\n",
       "<style scoped>\n",
       "    .dataframe tbody tr th:only-of-type {\n",
       "        vertical-align: middle;\n",
       "    }\n",
       "\n",
       "    .dataframe tbody tr th {\n",
       "        vertical-align: top;\n",
       "    }\n",
       "\n",
       "    .dataframe thead th {\n",
       "        text-align: right;\n",
       "    }\n",
       "</style>\n",
       "<table border=\"1\" class=\"dataframe\">\n",
       "  <thead>\n",
       "    <tr style=\"text-align: right;\">\n",
       "      <th></th>\n",
       "      <th>CNTR_CODE</th>\n",
       "      <th>NUTS_NAME</th>\n",
       "      <th>LEVL_CODE</th>\n",
       "      <th>FID</th>\n",
       "      <th>NUTS_ID</th>\n",
       "      <th>population</th>\n",
       "      <th>area</th>\n",
       "      <th>urbanisation</th>\n",
       "      <th>lau_id</th>\n",
       "      <th>geometry</th>\n",
       "      <th>cars</th>\n",
       "    </tr>\n",
       "    <tr>\n",
       "      <th>index</th>\n",
       "      <th></th>\n",
       "      <th></th>\n",
       "      <th></th>\n",
       "      <th></th>\n",
       "      <th></th>\n",
       "      <th></th>\n",
       "      <th></th>\n",
       "      <th></th>\n",
       "      <th></th>\n",
       "      <th></th>\n",
       "      <th></th>\n",
       "    </tr>\n",
       "  </thead>\n",
       "  <tbody>\n",
       "    <tr>\n",
       "      <th>DE929_city</th>\n",
       "      <td>DE</td>\n",
       "      <td>Hannover</td>\n",
       "      <td>3</td>\n",
       "      <td>DE929_city</td>\n",
       "      <td>DE929</td>\n",
       "      <td>268224</td>\n",
       "      <td>204.300000</td>\n",
       "      <td>1.0</td>\n",
       "      <td>3241001</td>\n",
       "      <td>POLYGON ((9.78861 52.37444, 9.78837 52.36954, ...</td>\n",
       "      <td>0.0</td>\n",
       "    </tr>\n",
       "    <tr>\n",
       "      <th>DE91C_1</th>\n",
       "      <td>DE</td>\n",
       "      <td>Göttingen 1</td>\n",
       "      <td>3</td>\n",
       "      <td>DE91C_1</td>\n",
       "      <td>DE91C</td>\n",
       "      <td>124686</td>\n",
       "      <td>985.217771</td>\n",
       "      <td>3.0</td>\n",
       "      <td>3159</td>\n",
       "      <td>POLYGON ((10.67728 51.63838, 10.67664 51.63294...</td>\n",
       "      <td>0.0</td>\n",
       "    </tr>\n",
       "    <tr>\n",
       "      <th>DE91C_2</th>\n",
       "      <td>DE</td>\n",
       "      <td>Göttingen 2</td>\n",
       "      <td>3</td>\n",
       "      <td>DE91C_2</td>\n",
       "      <td>DE91C</td>\n",
       "      <td>203387</td>\n",
       "      <td>770.172229</td>\n",
       "      <td>3.0</td>\n",
       "      <td>3159</td>\n",
       "      <td>POLYGON ((10.08480 51.43496, 10.08309 51.43485...</td>\n",
       "      <td>0.0</td>\n",
       "    </tr>\n",
       "    <tr>\n",
       "      <th>DE929_1</th>\n",
       "      <td>DE</td>\n",
       "      <td>Region Hannover 1</td>\n",
       "      <td>3</td>\n",
       "      <td>DE929_1</td>\n",
       "      <td>DE929</td>\n",
       "      <td>410987</td>\n",
       "      <td>1082.811956</td>\n",
       "      <td>2.0</td>\n",
       "      <td>3241</td>\n",
       "      <td>POLYGON ((9.71914 52.19921, 9.69952 52.19807, ...</td>\n",
       "      <td>0.0</td>\n",
       "    </tr>\n",
       "    <tr>\n",
       "      <th>DE929_2</th>\n",
       "      <td>DE</td>\n",
       "      <td>Region Hannover 2</td>\n",
       "      <td>3</td>\n",
       "      <td>DE929_2</td>\n",
       "      <td>DE929</td>\n",
       "      <td>478411</td>\n",
       "      <td>1010.018044</td>\n",
       "      <td>2.0</td>\n",
       "      <td>3241</td>\n",
       "      <td>POLYGON ((9.73462 52.63830, 9.74099 52.63166, ...</td>\n",
       "      <td>0.0</td>\n",
       "    </tr>\n",
       "    <tr>\n",
       "      <th>DEB25_1</th>\n",
       "      <td>DE</td>\n",
       "      <td>Trier-Saarburg 1</td>\n",
       "      <td>3</td>\n",
       "      <td>DEB25_1</td>\n",
       "      <td>DEB25</td>\n",
       "      <td>81269</td>\n",
       "      <td>580.745748</td>\n",
       "      <td>3.0</td>\n",
       "      <td>7235</td>\n",
       "      <td>POLYGON ((6.78257 49.57311, 6.78173 49.57253, ...</td>\n",
       "      <td>0.0</td>\n",
       "    </tr>\n",
       "    <tr>\n",
       "      <th>DEB25_2</th>\n",
       "      <td>DE</td>\n",
       "      <td>Trier-Saarburg 2</td>\n",
       "      <td>3</td>\n",
       "      <td>DEB25_2</td>\n",
       "      <td>DEB25</td>\n",
       "      <td>67675</td>\n",
       "      <td>521.474252</td>\n",
       "      <td>3.0</td>\n",
       "      <td>7235</td>\n",
       "      <td>POLYGON ((6.71195 49.90481, 6.72201 49.89223, ...</td>\n",
       "      <td>0.0</td>\n",
       "    </tr>\n",
       "  </tbody>\n",
       "</table>\n",
       "</div>"
      ],
      "text/plain": [
       "           CNTR_CODE          NUTS_NAME  LEVL_CODE         FID NUTS_ID  \\\n",
       "index                                                                    \n",
       "DE929_city        DE           Hannover          3  DE929_city   DE929   \n",
       "DE91C_1           DE        Göttingen 1          3     DE91C_1   DE91C   \n",
       "DE91C_2           DE        Göttingen 2          3     DE91C_2   DE91C   \n",
       "DE929_1           DE  Region Hannover 1          3     DE929_1   DE929   \n",
       "DE929_2           DE  Region Hannover 2          3     DE929_2   DE929   \n",
       "DEB25_1           DE   Trier-Saarburg 1          3     DEB25_1   DEB25   \n",
       "DEB25_2           DE   Trier-Saarburg 2          3     DEB25_2   DEB25   \n",
       "\n",
       "            population         area  urbanisation   lau_id  \\\n",
       "index                                                        \n",
       "DE929_city      268224   204.300000           1.0  3241001   \n",
       "DE91C_1         124686   985.217771           3.0     3159   \n",
       "DE91C_2         203387   770.172229           3.0     3159   \n",
       "DE929_1         410987  1082.811956           2.0     3241   \n",
       "DE929_2         478411  1010.018044           2.0     3241   \n",
       "DEB25_1          81269   580.745748           3.0     7235   \n",
       "DEB25_2          67675   521.474252           3.0     7235   \n",
       "\n",
       "                                                     geometry  cars  \n",
       "index                                                                \n",
       "DE929_city  POLYGON ((9.78861 52.37444, 9.78837 52.36954, ...   0.0  \n",
       "DE91C_1     POLYGON ((10.67728 51.63838, 10.67664 51.63294...   0.0  \n",
       "DE91C_2     POLYGON ((10.08480 51.43496, 10.08309 51.43485...   0.0  \n",
       "DE929_1     POLYGON ((9.71914 52.19921, 9.69952 52.19807, ...   0.0  \n",
       "DE929_2     POLYGON ((9.73462 52.63830, 9.74099 52.63166, ...   0.0  \n",
       "DEB25_1     POLYGON ((6.78257 49.57311, 6.78173 49.57253, ...   0.0  \n",
       "DEB25_2     POLYGON ((6.71195 49.90481, 6.72201 49.89223, ...   0.0  "
      ]
     },
     "execution_count": 40,
     "metadata": {},
     "output_type": "execute_result"
    }
   ],
   "source": [
    "# Unrealistic rows\n",
    "sm.zones.loc[sm.zones['cars']<sm.zones['population']/3]"
   ]
  },
  {
   "cell_type": "markdown",
   "metadata": {},
   "source": [
    "Accessibility of cars is important for only those people who drive them. If I wanted to calculate it using only the population between age 18 and 75, I had to use different numbers for population.\n",
    "\n",
    "Population by NUTS3 zone and age group from the German federal statistical office GENESIS data base table 12411-0017: \"Bevölkerung: Kreise, Stichtag, Altersgruppen\". Download at Jan. 29th 2021. License: Datenlizenz by-2-0; www.govdata.de/dl-de/by-2-0"
   ]
  },
  {
   "cell_type": "code",
   "execution_count": 41,
   "metadata": {},
   "outputs": [],
   "source": [
    "# Replace empty rows with average density\n",
    "sm.zones['car_density'] = sm.zones['cars'] / sm.zones['population']\n",
    "sm.zones.loc[sm.zones['cars']==0, 'cars'] = \\\n",
    "    sm.zones['car_density'].mean() * sm.zones.loc[sm.zones['cars']==0, 'population']\n",
    "sm.zones['car_density'] = sm.zones['cars'] / sm.zones['population']"
   ]
  },
  {
   "cell_type": "code",
   "execution_count": 42,
   "metadata": {},
   "outputs": [],
   "source": [
    "sm.zones['cars'] = sm.zones['cars'].astype(int)"
   ]
  },
  {
   "cell_type": "code",
   "execution_count": 43,
   "metadata": {},
   "outputs": [
    {
     "data": {
      "text/html": [
       "<div>\n",
       "<style scoped>\n",
       "    .dataframe tbody tr th:only-of-type {\n",
       "        vertical-align: middle;\n",
       "    }\n",
       "\n",
       "    .dataframe tbody tr th {\n",
       "        vertical-align: top;\n",
       "    }\n",
       "\n",
       "    .dataframe thead th {\n",
       "        text-align: right;\n",
       "    }\n",
       "</style>\n",
       "<table border=\"1\" class=\"dataframe\">\n",
       "  <thead>\n",
       "    <tr style=\"text-align: right;\">\n",
       "      <th></th>\n",
       "      <th>car_density</th>\n",
       "    </tr>\n",
       "    <tr>\n",
       "      <th>urbanisation</th>\n",
       "      <th></th>\n",
       "    </tr>\n",
       "  </thead>\n",
       "  <tbody>\n",
       "    <tr>\n",
       "      <th>1.0</th>\n",
       "      <td>0.534436</td>\n",
       "    </tr>\n",
       "    <tr>\n",
       "      <th>2.0</th>\n",
       "      <td>0.656584</td>\n",
       "    </tr>\n",
       "    <tr>\n",
       "      <th>3.0</th>\n",
       "      <td>0.672680</td>\n",
       "    </tr>\n",
       "  </tbody>\n",
       "</table>\n",
       "</div>"
      ],
      "text/plain": [
       "              car_density\n",
       "urbanisation             \n",
       "1.0              0.534436\n",
       "2.0              0.656584\n",
       "3.0              0.672680"
      ]
     },
     "execution_count": 43,
     "metadata": {},
     "output_type": "execute_result"
    }
   ],
   "source": [
    "sm.zones.groupby('urbanisation').agg({'car_density': 'mean'})"
   ]
  },
  {
   "cell_type": "code",
   "execution_count": 44,
   "metadata": {},
   "outputs": [],
   "source": [
    "# Set accessibility\n",
    "ac_dict = sm.zones['car_density'].to_dict()\n",
    "sm.car_los['accessibility'] = sm.car_los['origin'].map(ac_dict)"
   ]
  },
  {
   "cell_type": "code",
   "execution_count": 45,
   "metadata": {},
   "outputs": [],
   "source": [
    "# There are two cities with more cars than inhabitants\n",
    "# However, accessibility cannot be larger 1\n",
    "sm.car_los['accessibility'] = sm.car_los['accessibility'].apply(lambda a: min(1, a))"
   ]
  },
  {
   "cell_type": "code",
   "execution_count": 46,
   "metadata": {},
   "outputs": [
    {
     "data": {
      "text/plain": [
       "array([[<AxesSubplot:title={'center':'accessibility'}>]], dtype=object)"
      ]
     },
     "execution_count": 46,
     "metadata": {},
     "output_type": "execute_result"
    },
    {
     "data": {
      "image/png": "[encoded data removed]",
      "text/plain": [
       "<Figure size 288x288 with 1 Axes>"
      ]
     },
     "metadata": {
      "needs_background": "light"
     },
     "output_type": "display_data"
    }
   ],
   "source": [
    "sm.car_los.hist(column='accessibility', bins=100, figsize=(4,4), log=True)"
   ]
  },
  {
   "cell_type": "markdown",
   "metadata": {},
   "source": [
    "### Add cost to LoS table"
   ]
  },
  {
   "cell_type": "code",
   "execution_count": 47,
   "metadata": {},
   "outputs": [],
   "source": [
    "def monetary_cost(length, rf, vc, ac, al, ec, el, sf):\n",
    "    \"\"\" calculate monetary cost of travelling one O-D realtion within the LoS table\n",
    "    :param length: length of main leg in meter\n",
    "    :param df: regression factor for length (to be calibrated beforehand)\n",
    "    :param vc: distance-specific transport cost\n",
    "    :param ac: access cost\n",
    "    :param al: access link length (m)\n",
    "    :param ec: egress cost\n",
    "    :param el: egress link length (m)\n",
    "    :param sf: sharing factor (e.g. occupancy factor of a car)\n",
    "    :return: monetary cost\"\"\"\n",
    "    return (math.pow(length, rf) * vc + ac * al + ec * el) / sf"
   ]
  },
  {
   "cell_type": "code",
   "execution_count": 48,
   "metadata": {},
   "outputs": [
    {
     "data": {
      "text/html": [
       "<div>\n",
       "<style scoped>\n",
       "    .dataframe tbody tr th:only-of-type {\n",
       "        vertical-align: middle;\n",
       "    }\n",
       "\n",
       "    .dataframe tbody tr th {\n",
       "        vertical-align: top;\n",
       "    }\n",
       "\n",
       "    .dataframe thead th {\n",
       "        text-align: right;\n",
       "    }\n",
       "</style>\n",
       "<table border=\"1\" class=\"dataframe\">\n",
       "  <thead>\n",
       "    <tr style=\"text-align: right;\">\n",
       "      <th></th>\n",
       "      <th>fix_cost</th>\n",
       "      <th>repair_cost</th>\n",
       "      <th>var_cost</th>\n",
       "      <th>acquisition_cost</th>\n",
       "      <th>eur_per_month</th>\n",
       "      <th>ct_per_km</th>\n",
       "      <th>model</th>\n",
       "      <th>model.1</th>\n",
       "    </tr>\n",
       "  </thead>\n",
       "  <tbody>\n",
       "    <tr>\n",
       "      <th>868</th>\n",
       "      <td>167</td>\n",
       "      <td>134</td>\n",
       "      <td>189</td>\n",
       "      <td>717</td>\n",
       "      <td>1207</td>\n",
       "      <td>96.6</td>\n",
       "      <td>SLC 43 AMG 9G-TRONIC</td>\n",
       "      <td>SLC 43 AMG 9G-TRONIC</td>\n",
       "    </tr>\n",
       "    <tr>\n",
       "      <th>1377</th>\n",
       "      <td>95</td>\n",
       "      <td>47</td>\n",
       "      <td>115</td>\n",
       "      <td>190</td>\n",
       "      <td>447</td>\n",
       "      <td>35.8</td>\n",
       "      <td>Yaris 1.5 Comfort</td>\n",
       "      <td>Yaris 1.5 Comfort</td>\n",
       "    </tr>\n",
       "    <tr>\n",
       "      <th>1063</th>\n",
       "      <td>143</td>\n",
       "      <td>83</td>\n",
       "      <td>130</td>\n",
       "      <td>484</td>\n",
       "      <td>840</td>\n",
       "      <td>67.2</td>\n",
       "      <td>NV300 Kombi L1H1 dCi 120 Comfort</td>\n",
       "      <td>NV300 Kombi L1H1 dCi 120 Comfort</td>\n",
       "    </tr>\n",
       "    <tr>\n",
       "      <th>1238</th>\n",
       "      <td>126</td>\n",
       "      <td>71</td>\n",
       "      <td>104</td>\n",
       "      <td>326</td>\n",
       "      <td>627</td>\n",
       "      <td>50.2</td>\n",
       "      <td>Mégane Grandtour BLUE dCi 150 Business Edition...</td>\n",
       "      <td>Mégane Grandtour BLUE dCi 150 Business Edition...</td>\n",
       "    </tr>\n",
       "  </tbody>\n",
       "</table>\n",
       "</div>"
      ],
      "text/plain": [
       "      fix_cost  repair_cost  var_cost  acquisition_cost  eur_per_month  \\\n",
       "868        167          134       189               717           1207   \n",
       "1377        95           47       115               190            447   \n",
       "1063       143           83       130               484            840   \n",
       "1238       126           71       104               326            627   \n",
       "\n",
       "      ct_per_km                                              model  \\\n",
       "868        96.6                               SLC 43 AMG 9G-TRONIC   \n",
       "1377       35.8                                  Yaris 1.5 Comfort   \n",
       "1063       67.2                   NV300 Kombi L1H1 dCi 120 Comfort   \n",
       "1238       50.2  Mégane Grandtour BLUE dCi 150 Business Edition...   \n",
       "\n",
       "                                                model.1  \n",
       "868                                SLC 43 AMG 9G-TRONIC  \n",
       "1377                                  Yaris 1.5 Comfort  \n",
       "1063                   NV300 Kombi L1H1 dCi 120 Comfort  \n",
       "1238  Mégane Grandtour BLUE dCi 150 Business Edition...  "
      ]
     },
     "execution_count": 48,
     "metadata": {},
     "output_type": "execute_result"
    }
   ],
   "source": [
    "# Load list of cost elements\n",
    "cars = pd.read_csv(input_path + 'level_of_service_ADAC_2019_autokostenuebersicht_47085.csv')\n",
    "cars.sample(4)"
   ]
  },
  {
   "cell_type": "markdown",
   "metadata": {},
   "source": [
    "Take only perceived variable cost for distance-dependency.<br>\n",
    "Assume monthly mileage of 15,000km / 12<br>\n",
    "Additionally, there are fix cost which add up on every trip. Assume 3 trips per day as average."
   ]
  },
  {
   "cell_type": "code",
   "execution_count": 49,
   "metadata": {},
   "outputs": [
    {
     "name": "stdout",
     "output_type": "stream",
     "text": [
      "1.551890814081408\n",
      "0.00011439257425742574\n"
     ]
    }
   ],
   "source": [
    "# Prep\n",
    "sm.car_los['price'] = 0\n",
    "vc_car = cars['var_cost'].astype(int).mean() / (15000000/12) # in EUR/m\n",
    "fix_car = cars['fix_cost'].astype(int).mean() / 30 / 3\n",
    "parking_cost = {1: 5, 2: 1, 3: 0} # cost depending on urbanisation degree\n",
    "print(fix_car)\n",
    "print(vc_car)"
   ]
  },
  {
   "cell_type": "markdown",
   "metadata": {},
   "source": [
    "Car occupancy depends on distance\n",
    "\n",
    "The linear fit of MiD2017 car trips yields this function\n",
    "`car: n_persons = 0.0024 * distance[km] + 1.692`"
   ]
  },
  {
   "cell_type": "code",
   "execution_count": 50,
   "metadata": {},
   "outputs": [],
   "source": [
    "# Add prices\n",
    "sm.car_los['price'] = sm.car_los.apply(lambda df: monetary_cost(\n",
    "    df['length'], 1, vc_car,\n",
    "    0,0, #parking_cost[sm.zones.loc[df['origin']]['urbanisation']], 1,\n",
    "    0,0, #parking_cost[sm.zones.loc[df['destination']]['urbanisation']], 1,\n",
    "    0.0024*df['length']/1000+1.692) + fix_car, axis=1)"
   ]
  },
  {
   "cell_type": "code",
   "execution_count": 51,
   "metadata": {},
   "outputs": [],
   "source": [
    "# Alternative ASSUMPTION: Average car occupancy is 1.5 in Germany\n",
    "sm.car_los['price'] = sm.car_los.apply(lambda df: monetary_cost(\n",
    "    df['length'], 1, vc_car,\n",
    "    0,0, #parking_cost[sm.zones.loc[df['origin']]['urbanisation']], 1,\n",
    "    0,0, #parking_cost[sm.zones.loc[df['destination']]['urbanisation']], 1,\n",
    "    1.5) + fix_car, axis=1)"
   ]
  },
  {
   "cell_type": "code",
   "execution_count": 52,
   "metadata": {},
   "outputs": [
    {
     "data": {
      "text/html": [
       "<div>\n",
       "<style scoped>\n",
       "    .dataframe tbody tr th:only-of-type {\n",
       "        vertical-align: middle;\n",
       "    }\n",
       "\n",
       "    .dataframe tbody tr th {\n",
       "        vertical-align: top;\n",
       "    }\n",
       "\n",
       "    .dataframe thead th {\n",
       "        text-align: right;\n",
       "    }\n",
       "</style>\n",
       "<table border=\"1\" class=\"dataframe\">\n",
       "  <thead>\n",
       "    <tr style=\"text-align: right;\">\n",
       "      <th></th>\n",
       "      <th>origin</th>\n",
       "      <th>destination</th>\n",
       "      <th>time</th>\n",
       "      <th>path</th>\n",
       "      <th>node_path</th>\n",
       "      <th>link_path</th>\n",
       "      <th>ntlegs</th>\n",
       "      <th>access_time</th>\n",
       "      <th>in_vehicle_time</th>\n",
       "      <th>length</th>\n",
       "      <th>route_types</th>\n",
       "      <th>route_type</th>\n",
       "      <th>ntransfers</th>\n",
       "      <th>accessibility</th>\n",
       "      <th>price</th>\n",
       "    </tr>\n",
       "  </thead>\n",
       "  <tbody>\n",
       "    <tr>\n",
       "      <th>205738</th>\n",
       "      <td>DEF0F</td>\n",
       "      <td>DE933</td>\n",
       "      <td>2737.668696</td>\n",
       "      <td>[DEF0F, 90143523, 1921735924, 90143581, 901435...</td>\n",
       "      <td>[90143523, 1921735924, 90143581, 90143500, 901...</td>\n",
       "      <td>[rl_399403, rl_479638, rl_311106, rl_479604, r...</td>\n",
       "      <td>[(DEF0F, 90143523), (94103871, DE933)]</td>\n",
       "      <td>600</td>\n",
       "      <td>2137.668696</td>\n",
       "      <td>53053</td>\n",
       "      <td>(car,)</td>\n",
       "      <td>car</td>\n",
       "      <td>0</td>\n",
       "      <td>0.653333</td>\n",
       "      <td>5.597804</td>\n",
       "    </tr>\n",
       "    <tr>\n",
       "      <th>49169</th>\n",
       "      <td>DE239</td>\n",
       "      <td>DE259</td>\n",
       "      <td>4375.137472</td>\n",
       "      <td>[DE239, 475874278, 475874312, 270381204, 13878...</td>\n",
       "      <td>[475874278, 475874312, 270381204, 13878038, 47...</td>\n",
       "      <td>[rl_218766, rl_218780, rl_236388, rl_159139, r...</td>\n",
       "      <td>[(DE239, 475874278), (6106778973, DE259)]</td>\n",
       "      <td>600</td>\n",
       "      <td>3775.137472</td>\n",
       "      <td>93634</td>\n",
       "      <td>(car,)</td>\n",
       "      <td>car</td>\n",
       "      <td>0</td>\n",
       "      <td>0.739933</td>\n",
       "      <td>8.692580</td>\n",
       "    </tr>\n",
       "  </tbody>\n",
       "</table>\n",
       "</div>"
      ],
      "text/plain": [
       "       origin destination         time  \\\n",
       "205738  DEF0F       DE933  2737.668696   \n",
       "49169   DE239       DE259  4375.137472   \n",
       "\n",
       "                                                     path  \\\n",
       "205738  [DEF0F, 90143523, 1921735924, 90143581, 901435...   \n",
       "49169   [DE239, 475874278, 475874312, 270381204, 13878...   \n",
       "\n",
       "                                                node_path  \\\n",
       "205738  [90143523, 1921735924, 90143581, 90143500, 901...   \n",
       "49169   [475874278, 475874312, 270381204, 13878038, 47...   \n",
       "\n",
       "                                                link_path  \\\n",
       "205738  [rl_399403, rl_479638, rl_311106, rl_479604, r...   \n",
       "49169   [rl_218766, rl_218780, rl_236388, rl_159139, r...   \n",
       "\n",
       "                                           ntlegs  access_time  \\\n",
       "205738     [(DEF0F, 90143523), (94103871, DE933)]          600   \n",
       "49169   [(DE239, 475874278), (6106778973, DE259)]          600   \n",
       "\n",
       "        in_vehicle_time  length route_types route_type  ntransfers  \\\n",
       "205738      2137.668696   53053      (car,)        car           0   \n",
       "49169       3775.137472   93634      (car,)        car           0   \n",
       "\n",
       "        accessibility     price  \n",
       "205738       0.653333  5.597804  \n",
       "49169        0.739933  8.692580  "
      ]
     },
     "execution_count": 52,
     "metadata": {},
     "output_type": "execute_result"
    }
   ],
   "source": [
    "sm.car_los.sample(2)"
   ]
  },
  {
   "cell_type": "code",
   "execution_count": 53,
   "metadata": {},
   "outputs": [
    {
     "data": {
      "text/plain": [
       "<AxesSubplot:xlabel='length', ylabel='price'>"
      ]
     },
     "execution_count": 53,
     "metadata": {},
     "output_type": "execute_result"
    },
    {
     "data": {
      "image/png": "[encoded data removed]",
      "text/plain": [
       "<Figure size 432x288 with 1 Axes>"
      ]
     },
     "metadata": {
      "needs_background": "light"
     },
     "output_type": "display_data"
    }
   ],
   "source": [
    "sm.car_los.plot.scatter(x='length', y='price', alpha=.1)"
   ]
  },
  {
   "cell_type": "markdown",
   "metadata": {},
   "source": [
    "Instead of fix cost per trip, one can also assume ownership cost per hour of vehicle usage. This is also the approach chosen for the German federal governments transport study. In the methodical handbook gasoline cars have engine class weighted specific ownership cost of 0.71 EUR/h and diesel cars 0.99 EUR/h (other propulsion systems don't play a significant role). Multiplied with 2017's shares of gasoline and diesel cars (66.5%; 33.5%) this yields weighted average ownership cost of 0.8 EUR/h."
   ]
  },
  {
   "cell_type": "code",
   "execution_count": 54,
   "metadata": {},
   "outputs": [],
   "source": [
    "sm.car_los['price'] = sm.car_los['price'] - fix_car + \\\n",
    "    sm.car_los['time'].apply(lambda s: 0.8 * s / 3600)"
   ]
  },
  {
   "cell_type": "code",
   "execution_count": 55,
   "metadata": {},
   "outputs": [
    {
     "data": {
      "text/plain": [
       "<AxesSubplot:xlabel='length', ylabel='price'>"
      ]
     },
     "execution_count": 55,
     "metadata": {},
     "output_type": "execute_result"
    },
    {
     "data": {
      "image/png": "[encoded data removed]",
      "text/plain": [
       "<Figure size 432x288 with 1 Axes>"
      ]
     },
     "metadata": {
      "needs_background": "light"
     },
     "output_type": "display_data"
    }
   ],
   "source": [
    "sm.car_los.plot.scatter(x='length', y='price', alpha=.1)"
   ]
  },
  {
   "cell_type": "markdown",
   "metadata": {},
   "source": [
    "### Save model"
   ]
  },
  {
   "cell_type": "code",
   "execution_count": 56,
   "metadata": {},
   "outputs": [],
   "source": [
    "# Ditch unneccessary columns\n",
    "to_drop = ['alighting_links','alightings','all_walk','boarding_links','boardings',\n",
    "           'footpaths','length_link_path','node_path','ntlegs','time_link_path','transfers',\n",
    "           'pathfinder_session','gtime','reversed', 'broken_modes', 'path']\n",
    "sm.car_los = sm.car_los.drop(to_drop, axis=1, errors='ignore')"
   ]
  },
  {
   "cell_type": "code",
   "execution_count": 57,
   "metadata": {},
   "outputs": [],
   "source": [
    "# Make table smaller\n",
    "cols = ['time', 'access_time', 'in_vehicle_time', 'length']\n",
    "sm.car_los[cols] = sm.car_los[cols].astype(int)"
   ]
  },
  {
   "cell_type": "code",
   "execution_count": 58,
   "metadata": {},
   "outputs": [
    {
     "name": "stderr",
     "output_type": "stream",
     "text": [
      "to_hdf(overwriting): 100%|█████████████████████████████████████████████████████████████| 34/34 [00:16<00:00,  2.01it/s]\n"
     ]
    }
   ],
   "source": [
    "sm.to_json(model_path + 'de_road_los',\n",
    "           only_attributes=['car_los'], encoding='utf-8')"
   ]
  }
 ],
 "metadata": {
  "kernelspec": {
   "display_name": "Python 3",
   "language": "python",
   "name": "python3"
  },
  "language_info": {
   "codemirror_mode": {
    "name": "ipython",
    "version": 3
   },
   "file_extension": ".py",
   "mimetype": "text/x-python",
   "name": "python",
   "nbconvert_exporter": "python",
   "pygments_lexer": "ipython3",
   "version": "3.8.1"
  }
 },
 "nbformat": 4,
 "nbformat_minor": 2
}
