{
 "cells": [
  {
   "cell_type": "code",
   "execution_count": 1,
   "metadata": {},
   "outputs": [
    {
     "name": "stderr",
     "output_type": "stream",
     "text": [
      "In C:\\Users\\marlin.arnz\\AppData\\Local\\Continuum\\miniconda3\\envs\\quetzal\\lib\\site-packages\\matplotlib\\mpl-data\\stylelib\\_classic_test.mplstyle: \n",
      "The text.latex.preview rcparam was deprecated in Matplotlib 3.3 and will be removed two minor releases later.\n",
      "In C:\\Users\\marlin.arnz\\AppData\\Local\\Continuum\\miniconda3\\envs\\quetzal\\lib\\site-packages\\matplotlib\\mpl-data\\stylelib\\_classic_test.mplstyle: \n",
      "The mathtext.fallback_to_cm rcparam was deprecated in Matplotlib 3.3 and will be removed two minor releases later.\n",
      "In C:\\Users\\marlin.arnz\\AppData\\Local\\Continuum\\miniconda3\\envs\\quetzal\\lib\\site-packages\\matplotlib\\mpl-data\\stylelib\\_classic_test.mplstyle: Support for setting the 'mathtext.fallback_to_cm' rcParam is deprecated since 3.3 and will be removed two minor releases later; use 'mathtext.fallback : 'cm' instead.\n",
      "In C:\\Users\\marlin.arnz\\AppData\\Local\\Continuum\\miniconda3\\envs\\quetzal\\lib\\site-packages\\matplotlib\\mpl-data\\stylelib\\_classic_test.mplstyle: \n",
      "The validate_bool_maybe_none function was deprecated in Matplotlib 3.3 and will be removed two minor releases later.\n",
      "In C:\\Users\\marlin.arnz\\AppData\\Local\\Continuum\\miniconda3\\envs\\quetzal\\lib\\site-packages\\matplotlib\\mpl-data\\stylelib\\_classic_test.mplstyle: \n",
      "The savefig.jpeg_quality rcparam was deprecated in Matplotlib 3.3 and will be removed two minor releases later.\n",
      "In C:\\Users\\marlin.arnz\\AppData\\Local\\Continuum\\miniconda3\\envs\\quetzal\\lib\\site-packages\\matplotlib\\mpl-data\\stylelib\\_classic_test.mplstyle: \n",
      "The keymap.all_axes rcparam was deprecated in Matplotlib 3.3 and will be removed two minor releases later.\n",
      "In C:\\Users\\marlin.arnz\\AppData\\Local\\Continuum\\miniconda3\\envs\\quetzal\\lib\\site-packages\\matplotlib\\mpl-data\\stylelib\\_classic_test.mplstyle: \n",
      "The animation.avconv_path rcparam was deprecated in Matplotlib 3.3 and will be removed two minor releases later.\n",
      "In C:\\Users\\marlin.arnz\\AppData\\Local\\Continuum\\miniconda3\\envs\\quetzal\\lib\\site-packages\\matplotlib\\mpl-data\\stylelib\\_classic_test.mplstyle: \n",
      "The animation.avconv_args rcparam was deprecated in Matplotlib 3.3 and will be removed two minor releases later.\n"
     ]
    }
   ],
   "source": [
    "import numpy as np\n",
    "import pandas as pd\n",
    "import geopandas as gpd\n",
    "from shapely import geometry\n",
    "from quetzal.model import stepmodel\n",
    "from quetzal.engine import engine, connectivity"
   ]
  },
  {
   "cell_type": "markdown",
   "metadata": {},
   "source": [
    "# Preparation of the transport network.\n",
    "## Saves access and egress links for each zone.\n",
    "## Needs all networks.\n"
   ]
  },
  {
   "cell_type": "code",
   "execution_count": 2,
   "metadata": {},
   "outputs": [],
   "source": [
    "input_path = '../input/'\n",
    "output_path = '../output/'\n",
    "model_path = '../model/'"
   ]
  },
  {
   "cell_type": "code",
   "execution_count": 3,
   "metadata": {},
   "outputs": [],
   "source": [
    "sm = stepmodel.read_json(model_path + 'de_pt_network_agg')"
   ]
  },
  {
   "cell_type": "code",
   "execution_count": 4,
   "metadata": {
    "scrolled": true
   },
   "outputs": [],
   "source": [
    "road = stepmodel.read_json(model_path + 'de_road_network')"
   ]
  },
  {
   "cell_type": "code",
   "execution_count": 5,
   "metadata": {},
   "outputs": [
    {
     "name": "stdout",
     "output_type": "stream",
     "text": [
      "467\n",
      "467\n"
     ]
    }
   ],
   "source": [
    "# Drop unused zones for later steps to work \n",
    "print(len(sm.zones.index))\n",
    "sm.zones = sm.zones.loc[sm.zones['NUTS_ID'].str.startswith('DE')]\n",
    "sm.zones = sm.zones[sm.zones[\"LEVL_CODE\"]==3]\n",
    "print(len(sm.zones.index))"
   ]
  },
  {
   "cell_type": "markdown",
   "metadata": {},
   "source": [
    "## Assumptions"
   ]
  },
  {
   "cell_type": "code",
   "execution_count": 66,
   "metadata": {},
   "outputs": [],
   "source": [
    "# Walking vs. driving to the train station\n",
    "threshold = 500 # in m\n",
    "speed_non_motorised_modes = 17 # in km/h\n",
    "speed_car = 50 # in km/h\n",
    "speed_footpaths = 5 # in km/h, assumed\n",
    "# Max. distances for accessing the transport nodes\n",
    "# in m\n",
    "threshold_dict = {'road': 10000,\n",
    "                  'road_pt': 500,\n",
    "                  'pt': 25000,\n",
    "                  'footpaths': 5000,\n",
    "                  'footpaths_air': 10000,\n",
    "                  'cycling_zones': 20000}"
   ]
  },
  {
   "cell_type": "markdown",
   "metadata": {},
   "source": [
    "## Build access and egress links from zone centroids"
   ]
  },
  {
   "cell_type": "code",
   "execution_count": 11,
   "metadata": {},
   "outputs": [],
   "source": [
    "# Compute controids\n",
    "sm.preparation_ntlegs(\n",
    "    zone_to_transit=False,\n",
    "    zone_to_road=False)"
   ]
  },
  {
   "cell_type": "code",
   "execution_count": 12,
   "metadata": {},
   "outputs": [
    {
     "data": {
      "text/plain": [
       "1864"
      ]
     },
     "execution_count": 12,
     "metadata": {},
     "output_type": "execute_result"
    }
   ],
   "source": [
    "# Compute road access and egress links\n",
    "sm.zone_to_road = engine.ntlegs_from_centroids_and_nodes(\n",
    "    sm.centroids,\n",
    "    road.road_nodes,\n",
    "    short_leg_speed=speed_footpaths,\n",
    "    long_leg_speed=speed_non_motorised_modes,\n",
    "    threshold=threshold,\n",
    "    n_neighbors=2,\n",
    "    coordinates_unit=sm.coordinates_unit)\n",
    "sm.zone_to_road = sm.zone_to_road.loc[\n",
    "    sm.zone_to_road['distance']<=threshold_dict['road']]\n",
    "len(sm.zone_to_road.index)"
   ]
  },
  {
   "cell_type": "code",
   "execution_count": 13,
   "metadata": {},
   "outputs": [
    {
     "data": {
      "text/plain": [
       "3088"
      ]
     },
     "execution_count": 13,
     "metadata": {},
     "output_type": "execute_result"
    }
   ],
   "source": [
    "# Compute road - PT links\n",
    "sm.road_to_transit = engine.ntlegs_from_centroids_and_nodes(\n",
    "    sm.nodes,\n",
    "    road.road_nodes,\n",
    "    short_leg_speed=speed_footpaths,\n",
    "    long_leg_speed=speed_non_motorised_modes,\n",
    "    threshold=threshold,\n",
    "    n_neighbors=1,\n",
    "    coordinates_unit=sm.coordinates_unit)\n",
    "sm.road_to_transit = sm.road_to_transit.loc[\n",
    "    sm.road_to_transit['distance']<=threshold_dict['road_pt']]\n",
    "len(sm.road_to_transit.index)"
   ]
  },
  {
   "cell_type": "code",
   "execution_count": 14,
   "metadata": {},
   "outputs": [
    {
     "data": {
      "text/plain": [
       "['rail_long', 'rail_short', 'coach', 'air', 'bus']"
      ]
     },
     "execution_count": 14,
     "metadata": {},
     "output_type": "execute_result"
    }
   ],
   "source": [
    "# Build PT connectors by route type\n",
    "# Every route type is saved once in this attribute\n",
    "assert len(sm.pt_route_types) == len(sm.links['route_type'].unique())\n",
    "sm.pt_route_types"
   ]
  },
  {
   "cell_type": "code",
   "execution_count": 108,
   "metadata": {},
   "outputs": [
    {
     "data": {
      "text/plain": [
       "10502"
      ]
     },
     "execution_count": 108,
     "metadata": {},
     "output_type": "execute_result"
    }
   ],
   "source": [
    "sm.zone_to_transit = sm.zone_to_transit.iloc[0:0]\n",
    "for t in sm.pt_route_types:\n",
    "    ntlegs = engine.ntlegs_from_centroids_and_nodes(\n",
    "        sm.centroids,\n",
    "        sm.nodes.loc[sm.nodes['route_type']==t],\n",
    "        short_leg_speed=speed_footpaths,\n",
    "        long_leg_speed=speed_car, # Take the car for longer trips\n",
    "        threshold=threshold,\n",
    "        n_neighbors=4,\n",
    "        coordinates_unit=sm.coordinates_unit)\n",
    "    # Cut off long links\n",
    "    ntlegs = ntlegs.loc[ntlegs['distance']<=\n",
    "                        threshold_dict['pt']]\n",
    "    ntlegs['route_type'] = t\n",
    "    sm.zone_to_transit = sm.zone_to_transit.append(ntlegs)\n",
    "sm.zone_to_transit.reset_index(drop=True, inplace=True)\n",
    "len(sm.zone_to_transit)"
   ]
  },
  {
   "cell_type": "code",
   "execution_count": 109,
   "metadata": {},
   "outputs": [],
   "source": [
    "# Remove connectors to other zones, if this zone\n",
    "# has connection to the route type itself\n",
    "ac = sm.zone_to_transit.loc[sm.zone_to_transit['direction']=='access'].copy()\n",
    "eg = sm.zone_to_transit.loc[sm.zone_to_transit['direction']=='eggress'].copy()\n",
    "ac['node_FID'] = ac['b'].map(sm.nodes['FID'].to_dict())\n",
    "eg['node_FID'] = eg['a'].map(sm.nodes['FID'].to_dict())\n",
    "\n",
    "def filter_connectors(group, zone_col):\n",
    "    if len(group['node_FID'].unique()) > 1: # Connection to more than one zone\n",
    "        return group.loc[group['node_FID']==group[zone_col]]\n",
    "    else: # Only has this one (or zero) zone connection\n",
    "        return group\n",
    "ac = ac.groupby(['route_type', 'a']).apply(filter_connectors, zone_col='a').reset_index(drop=True)\n",
    "eg = eg.groupby(['route_type', 'b']).apply(filter_connectors, zone_col='b').reset_index(drop=True)\n",
    "\n",
    "sm.zone_to_transit = pd.concat([ac, eg]).reset_index(drop=True).drop('node_FID', axis=1)"
   ]
  },
  {
   "cell_type": "code",
   "execution_count": 110,
   "metadata": {},
   "outputs": [
    {
     "data": {
      "text/plain": [
       "6134"
      ]
     },
     "execution_count": 110,
     "metadata": {},
     "output_type": "execute_result"
    }
   ],
   "source": [
    "len(sm.zone_to_transit)"
   ]
  },
  {
   "cell_type": "markdown",
   "metadata": {},
   "source": [
    "## Generate footpaths table"
   ]
  },
  {
   "cell_type": "code",
   "execution_count": 71,
   "metadata": {},
   "outputs": [
    {
     "data": {
      "text/plain": [
       "(3218, 4)"
      ]
     },
     "execution_count": 71,
     "metadata": {},
     "output_type": "execute_result"
    }
   ],
   "source": [
    "sm.nodes.shape"
   ]
  },
  {
   "cell_type": "code",
   "execution_count": 83,
   "metadata": {},
   "outputs": [],
   "source": [
    "# Uses the Voronoi algorithm (slow for more nodes than 1000)\n",
    "# but good results\n",
    "sm.preparation_footpaths(\n",
    "    speed=speed_footpaths,\n",
    "    max_length=threshold_dict['footpaths'],\n",
    "    n_clusters=3000)"
   ]
  },
  {
   "cell_type": "code",
   "execution_count": null,
   "metadata": {},
   "outputs": [],
   "source": [
    "# Generate footpaths between modes manually\n",
    "'''sm.footpaths = sm.footpaths.iloc[0:0]\n",
    "for o in ['rail_short_distance', 'bus']:\n",
    "    for d in [t for t in sm.pt_route_types if t!='bus']:\n",
    "        if o != d:\n",
    "            ntlegs = engine.ntlegs_from_centroids_and_nodes(\n",
    "                sm.nodes.loc[sm.nodes['route_type']==o],\n",
    "                sm.nodes.loc[sm.nodes['route_type']==d],\n",
    "                short_leg_speed=speed_footpaths,\n",
    "                long_leg_speed=speed_non_motorised_modes,\n",
    "                threshold=threshold,\n",
    "                n_neighbors=1,\n",
    "                coordinates_unit=sm.coordinates_unit)\n",
    "            if d == 'air':\n",
    "                ntlegs = ntlegs.loc[ntlegs['distance']<=\n",
    "                                    threshold_dict['footpaths_air']]\n",
    "            else:\n",
    "                ntlegs = ntlegs.loc[ntlegs['distance']<=\n",
    "                                    threshold_dict['footpaths']]\n",
    "            sm.footpaths = sm.footpaths.append(ntlegs)'''\n",
    "print('Manual version')"
   ]
  },
  {
   "cell_type": "code",
   "execution_count": 84,
   "metadata": {},
   "outputs": [
    {
     "data": {
      "text/plain": [
       "9850"
      ]
     },
     "execution_count": 84,
     "metadata": {},
     "output_type": "execute_result"
    }
   ],
   "source": [
    "len(sm.footpaths)"
   ]
  },
  {
   "cell_type": "code",
   "execution_count": 85,
   "metadata": {},
   "outputs": [
    {
     "data": {
      "text/plain": [
       "(5520, 6)"
      ]
     },
     "execution_count": 85,
     "metadata": {},
     "output_type": "execute_result"
    }
   ],
   "source": [
    "# Number of nodes that overlay each other\n",
    "sm.footpaths.loc[sm.footpaths['length']==0].shape"
   ]
  },
  {
   "cell_type": "code",
   "execution_count": 79,
   "metadata": {},
   "outputs": [
    {
     "data": {
      "text/plain": [
       "(338, 11)"
      ]
     },
     "execution_count": 79,
     "metadata": {},
     "output_type": "execute_result"
    }
   ],
   "source": [
    "# Generate footpaths between centroids\n",
    "ntlegs = engine.ntlegs_from_centroids_and_nodes(\n",
    "    sm.centroids,\n",
    "    sm.centroids,\n",
    "    short_leg_speed=speed_non_motorised_modes,\n",
    "    long_leg_speed=speed_non_motorised_modes,\n",
    "    threshold=threshold,\n",
    "    n_neighbors=2,\n",
    "    coordinates_unit=sm.coordinates_unit)\n",
    "ntlegs = ntlegs.loc[ntlegs['distance']<=\n",
    "                    threshold_dict['cycling_zones']]\n",
    "ntlegs = ntlegs.loc[ntlegs['distance']!=0]\n",
    "ntlegs.drop_duplicates(['direction', 'distance', 'time'], inplace=True)\n",
    "ntlegs.shape"
   ]
  },
  {
   "cell_type": "code",
   "execution_count": 87,
   "metadata": {},
   "outputs": [],
   "source": [
    "sm.footpaths = sm.footpaths.append(ntlegs.rename(\n",
    "    columns={'distance':'length', 'rank':'voronoi'})[sm.footpaths.columns])"
   ]
  },
  {
   "cell_type": "code",
   "execution_count": 88,
   "metadata": {},
   "outputs": [],
   "source": [
    "# Reindex\n",
    "sm.footpaths.reset_index(drop=True, inplace=True)\n",
    "sm.footpaths.index = 'foot_' + pd.Series(sm.footpaths.index).astype(str)"
   ]
  },
  {
   "cell_type": "code",
   "execution_count": 89,
   "metadata": {},
   "outputs": [
    {
     "data": {
      "text/html": [
       "<div>\n",
       "<style scoped>\n",
       "    .dataframe tbody tr th:only-of-type {\n",
       "        vertical-align: middle;\n",
       "    }\n",
       "\n",
       "    .dataframe tbody tr th {\n",
       "        vertical-align: top;\n",
       "    }\n",
       "\n",
       "    .dataframe thead th {\n",
       "        text-align: right;\n",
       "    }\n",
       "</style>\n",
       "<table border=\"1\" class=\"dataframe\">\n",
       "  <thead>\n",
       "    <tr style=\"text-align: right;\">\n",
       "      <th></th>\n",
       "      <th>a</th>\n",
       "      <th>b</th>\n",
       "      <th>geometry</th>\n",
       "      <th>length</th>\n",
       "      <th>voronoi</th>\n",
       "      <th>time</th>\n",
       "    </tr>\n",
       "  </thead>\n",
       "  <tbody>\n",
       "    <tr>\n",
       "      <th>foot_7193</th>\n",
       "      <td>rail_long_node_10</td>\n",
       "      <td>rail_long_node_568</td>\n",
       "      <td>LINESTRING (8.25872 50.001118, 8.25872 50.001118)</td>\n",
       "      <td>0.000000</td>\n",
       "      <td>0</td>\n",
       "      <td>0.000000</td>\n",
       "    </tr>\n",
       "    <tr>\n",
       "      <th>foot_181</th>\n",
       "      <td>rail_long_node_491</td>\n",
       "      <td>coach_node_FLIXBUS:37</td>\n",
       "      <td>LINESTRING (10.062634 52.620964, 10.06316 52.6...</td>\n",
       "      <td>124.590335</td>\n",
       "      <td>1</td>\n",
       "      <td>89.705041</td>\n",
       "    </tr>\n",
       "  </tbody>\n",
       "</table>\n",
       "</div>"
      ],
      "text/plain": [
       "                            a                      b  \\\n",
       "foot_7193   rail_long_node_10     rail_long_node_568   \n",
       "foot_181   rail_long_node_491  coach_node_FLIXBUS:37   \n",
       "\n",
       "                                                    geometry      length  \\\n",
       "foot_7193  LINESTRING (8.25872 50.001118, 8.25872 50.001118)    0.000000   \n",
       "foot_181   LINESTRING (10.062634 52.620964, 10.06316 52.6...  124.590335   \n",
       "\n",
       "           voronoi       time  \n",
       "foot_7193        0   0.000000  \n",
       "foot_181         1  89.705041  "
      ]
     },
     "execution_count": 89,
     "metadata": {},
     "output_type": "execute_result"
    }
   ],
   "source": [
    "sm.footpaths.sample(2)"
   ]
  },
  {
   "cell_type": "markdown",
   "metadata": {},
   "source": [
    "## Parametrise access and egress links"
   ]
  },
  {
   "cell_type": "code",
   "execution_count": 90,
   "metadata": {},
   "outputs": [
    {
     "data": {
      "text/html": [
       "<div>\n",
       "<style scoped>\n",
       "    .dataframe tbody tr th:only-of-type {\n",
       "        vertical-align: middle;\n",
       "    }\n",
       "\n",
       "    .dataframe tbody tr th {\n",
       "        vertical-align: top;\n",
       "    }\n",
       "\n",
       "    .dataframe thead th {\n",
       "        text-align: right;\n",
       "    }\n",
       "</style>\n",
       "<table border=\"1\" class=\"dataframe\">\n",
       "  <thead>\n",
       "    <tr style=\"text-align: right;\">\n",
       "      <th></th>\n",
       "      <th>a</th>\n",
       "      <th>b</th>\n",
       "      <th>direction</th>\n",
       "      <th>distance</th>\n",
       "      <th>geometry</th>\n",
       "      <th>rank</th>\n",
       "      <th>speed_factor</th>\n",
       "      <th>short_leg_speed</th>\n",
       "      <th>long_leg_speed</th>\n",
       "      <th>speed</th>\n",
       "      <th>time</th>\n",
       "    </tr>\n",
       "  </thead>\n",
       "  <tbody>\n",
       "    <tr>\n",
       "      <th>6105</th>\n",
       "      <td>246898843</td>\n",
       "      <td>DEA32_bus_1</td>\n",
       "      <td>eggress</td>\n",
       "      <td>0</td>\n",
       "      <td>LINESTRING (7.082539480140458 51.5064848598143...</td>\n",
       "      <td>0</td>\n",
       "      <td>0.676066</td>\n",
       "      <td>5</td>\n",
       "      <td>17</td>\n",
       "      <td>5.0</td>\n",
       "      <td>300</td>\n",
       "    </tr>\n",
       "    <tr>\n",
       "      <th>6369</th>\n",
       "      <td>56315846</td>\n",
       "      <td>DE944_r_s_2</td>\n",
       "      <td>eggress</td>\n",
       "      <td>0</td>\n",
       "      <td>LINESTRING (8.045902 52.280933, 8.043416499999...</td>\n",
       "      <td>0</td>\n",
       "      <td>0.631417</td>\n",
       "      <td>5</td>\n",
       "      <td>17</td>\n",
       "      <td>5.0</td>\n",
       "      <td>300</td>\n",
       "    </tr>\n",
       "  </tbody>\n",
       "</table>\n",
       "</div>"
      ],
      "text/plain": [
       "              a            b direction  distance  \\\n",
       "6105  246898843  DEA32_bus_1   eggress         0   \n",
       "6369   56315846  DE944_r_s_2   eggress         0   \n",
       "\n",
       "                                               geometry  rank  speed_factor  \\\n",
       "6105  LINESTRING (7.082539480140458 51.5064848598143...     0      0.676066   \n",
       "6369  LINESTRING (8.045902 52.280933, 8.043416499999...     0      0.631417   \n",
       "\n",
       "      short_leg_speed  long_leg_speed  speed  time  \n",
       "6105                5              17    5.0   300  \n",
       "6369                5              17    5.0   300  "
      ]
     },
     "execution_count": 90,
     "metadata": {},
     "output_type": "execute_result"
    }
   ],
   "source": [
    "# Road - PT connectors\n",
    "sm.road_to_transit['distance'] = 0\n",
    "sm.road_to_transit['time'] = 5*60 # in seconds\n",
    "sm.road_to_transit.sample(n=2)"
   ]
  },
  {
   "cell_type": "code",
   "execution_count": 91,
   "metadata": {},
   "outputs": [
    {
     "data": {
      "text/html": [
       "<div>\n",
       "<style scoped>\n",
       "    .dataframe tbody tr th:only-of-type {\n",
       "        vertical-align: middle;\n",
       "    }\n",
       "\n",
       "    .dataframe tbody tr th {\n",
       "        vertical-align: top;\n",
       "    }\n",
       "\n",
       "    .dataframe thead th {\n",
       "        text-align: right;\n",
       "    }\n",
       "</style>\n",
       "<table border=\"1\" class=\"dataframe\">\n",
       "  <thead>\n",
       "    <tr style=\"text-align: right;\">\n",
       "      <th></th>\n",
       "      <th>a</th>\n",
       "      <th>b</th>\n",
       "      <th>direction</th>\n",
       "      <th>distance</th>\n",
       "      <th>geometry</th>\n",
       "      <th>rank</th>\n",
       "      <th>speed_factor</th>\n",
       "      <th>short_leg_speed</th>\n",
       "      <th>long_leg_speed</th>\n",
       "      <th>speed</th>\n",
       "      <th>time</th>\n",
       "    </tr>\n",
       "  </thead>\n",
       "  <tbody>\n",
       "    <tr>\n",
       "      <th>1587</th>\n",
       "      <td>1577186923</td>\n",
       "      <td>DEA22</td>\n",
       "      <td>eggress</td>\n",
       "      <td>0</td>\n",
       "      <td>LINESTRING (7.109821750887605 50.7058252224767...</td>\n",
       "      <td>1</td>\n",
       "      <td>1.796515</td>\n",
       "      <td>5</td>\n",
       "      <td>17</td>\n",
       "      <td>8.982573</td>\n",
       "      <td>0</td>\n",
       "    </tr>\n",
       "    <tr>\n",
       "      <th>756</th>\n",
       "      <td>DEA13</td>\n",
       "      <td>2372131880</td>\n",
       "      <td>access</td>\n",
       "      <td>0</td>\n",
       "      <td>LINESTRING (7.016953026028951 51.4339143034858...</td>\n",
       "      <td>1</td>\n",
       "      <td>0.673689</td>\n",
       "      <td>5</td>\n",
       "      <td>17</td>\n",
       "      <td>5.000000</td>\n",
       "      <td>0</td>\n",
       "    </tr>\n",
       "  </tbody>\n",
       "</table>\n",
       "</div>"
      ],
      "text/plain": [
       "               a           b direction  distance  \\\n",
       "1587  1577186923       DEA22   eggress         0   \n",
       "756        DEA13  2372131880    access         0   \n",
       "\n",
       "                                               geometry  rank  speed_factor  \\\n",
       "1587  LINESTRING (7.109821750887605 50.7058252224767...     1      1.796515   \n",
       "756   LINESTRING (7.016953026028951 51.4339143034858...     1      0.673689   \n",
       "\n",
       "      short_leg_speed  long_leg_speed     speed  time  \n",
       "1587                5              17  8.982573     0  \n",
       "756                 5              17  5.000000     0  "
      ]
     },
     "execution_count": 91,
     "metadata": {},
     "output_type": "execute_result"
    }
   ],
   "source": [
    "# Road - centroid connectors\n",
    "sm.zone_to_road['distance'] = 0\n",
    "sm.zone_to_road['time'] = 0\n",
    "sm.zone_to_road.sample(n=2)"
   ]
  },
  {
   "cell_type": "code",
   "execution_count": 92,
   "metadata": {},
   "outputs": [],
   "source": [
    "# Zone to PT:\n",
    "# Load distances to PT stops from census data\n",
    "clusters = pd.read_csv(input_path + 'spatial_census_refined_FID.csv')\n",
    "clusters.set_index('index', inplace=True)\n",
    "dist_col = 'weighted_dist'\n",
    "mean_dist_col = 'mean_weighted_dist'\n",
    "cent_col = 'cluster_center'\n",
    "#pop_col = 'population'\n",
    "node_col = 'node_id'"
   ]
  },
  {
   "cell_type": "code",
   "execution_count": 93,
   "metadata": {},
   "outputs": [],
   "source": [
    "clusters['NUTS_ID'] = clusters['FID'].apply(lambda s: str(s).split('_')[0])"
   ]
  },
  {
   "cell_type": "code",
   "execution_count": 94,
   "metadata": {},
   "outputs": [
    {
     "data": {
      "text/html": [
       "<div>\n",
       "<style scoped>\n",
       "    .dataframe tbody tr th:only-of-type {\n",
       "        vertical-align: middle;\n",
       "    }\n",
       "\n",
       "    .dataframe tbody tr th {\n",
       "        vertical-align: top;\n",
       "    }\n",
       "\n",
       "    .dataframe thead th {\n",
       "        text-align: right;\n",
       "    }\n",
       "</style>\n",
       "<table border=\"1\" class=\"dataframe\">\n",
       "  <thead>\n",
       "    <tr style=\"text-align: right;\">\n",
       "      <th></th>\n",
       "      <th></th>\n",
       "      <th>mean_weighted_dist</th>\n",
       "    </tr>\n",
       "    <tr>\n",
       "      <th>NUTS_ID</th>\n",
       "      <th>route_type</th>\n",
       "      <th></th>\n",
       "    </tr>\n",
       "  </thead>\n",
       "  <tbody>\n",
       "    <tr>\n",
       "      <th rowspan=\"4\" valign=\"top\">DE111</th>\n",
       "      <th>bus</th>\n",
       "      <td>7534.073525</td>\n",
       "    </tr>\n",
       "    <tr>\n",
       "      <th>coach</th>\n",
       "      <td>8431.291442</td>\n",
       "    </tr>\n",
       "    <tr>\n",
       "      <th>rail_long_distance</th>\n",
       "      <td>10573.888593</td>\n",
       "    </tr>\n",
       "    <tr>\n",
       "      <th>rail_short_distance</th>\n",
       "      <td>15243.095365</td>\n",
       "    </tr>\n",
       "    <tr>\n",
       "      <th>DE112</th>\n",
       "      <th>bus</th>\n",
       "      <td>26148.499516</td>\n",
       "    </tr>\n",
       "    <tr>\n",
       "      <th>...</th>\n",
       "      <th>...</th>\n",
       "      <td>...</td>\n",
       "    </tr>\n",
       "    <tr>\n",
       "      <th rowspan=\"3\" valign=\"top\">DEG0N</th>\n",
       "      <th>coach</th>\n",
       "      <td>5397.254430</td>\n",
       "    </tr>\n",
       "    <tr>\n",
       "      <th>rail_long_distance</th>\n",
       "      <td>4194.575713</td>\n",
       "    </tr>\n",
       "    <tr>\n",
       "      <th>rail_short_distance</th>\n",
       "      <td>5539.621888</td>\n",
       "    </tr>\n",
       "    <tr>\n",
       "      <th rowspan=\"2\" valign=\"top\">DEG0P</th>\n",
       "      <th>bus</th>\n",
       "      <td>10844.458205</td>\n",
       "    </tr>\n",
       "    <tr>\n",
       "      <th>rail_short_distance</th>\n",
       "      <td>23040.377472</td>\n",
       "    </tr>\n",
       "  </tbody>\n",
       "</table>\n",
       "<p>1248 rows × 1 columns</p>\n",
       "</div>"
      ],
      "text/plain": [
       "                             mean_weighted_dist\n",
       "NUTS_ID route_type                             \n",
       "DE111   bus                         7534.073525\n",
       "        coach                       8431.291442\n",
       "        rail_long_distance         10573.888593\n",
       "        rail_short_distance        15243.095365\n",
       "DE112   bus                        26148.499516\n",
       "...                                         ...\n",
       "DEG0N   coach                       5397.254430\n",
       "        rail_long_distance          4194.575713\n",
       "        rail_short_distance         5539.621888\n",
       "DEG0P   bus                        10844.458205\n",
       "        rail_short_distance        23040.377472\n",
       "\n",
       "[1248 rows x 1 columns]"
      ]
     },
     "execution_count": 94,
     "metadata": {},
     "output_type": "execute_result"
    }
   ],
   "source": [
    "# Create a zone - distance - type dict\n",
    "# Take the mean weighted distance, assume population shares are about equal\n",
    "zone_type_dist = clusters.groupby(['NUTS_ID', 'route_type']).agg(\n",
    "    {mean_dist_col: 'mean'})#.to_dict()[mean_dist_col]\n",
    "zone_type_dist"
   ]
  },
  {
   "cell_type": "code",
   "execution_count": 111,
   "metadata": {},
   "outputs": [],
   "source": [
    "# Split legs into access and egress\n",
    "access = sm.zone_to_transit.loc[sm.zone_to_transit['direction']=='access'].copy()\n",
    "egress = sm.zone_to_transit.loc[sm.zone_to_transit['direction']=='eggress'].copy()# name in quetzal"
   ]
  },
  {
   "cell_type": "code",
   "execution_count": 112,
   "metadata": {},
   "outputs": [],
   "source": [
    "# Alter the distance\n",
    "route_types = clusters['route_type'].unique()\n",
    "for t in route_types:\n",
    "    for zone in list(sm.zones['NUTS_ID']):\n",
    "        try:\n",
    "            access.loc[(access['route_type']==t) & (access['a']==zone),\n",
    "                       'distance'] = zone_type_dist.loc[(zone, t), mean_dist_col]\n",
    "        except KeyError:\n",
    "            # There is no such station in this zone\n",
    "            access.loc[(access['route_type']==t) & (access['a']==zone),\n",
    "                       'distance'] = np.nan\n",
    "for t in route_types:\n",
    "    for zone in list(sm.zones['NUTS_ID']):\n",
    "        try:\n",
    "            egress.loc[(egress['route_type']==t) & (egress['b']==zone),\n",
    "                       'distance'] = zone_type_dist.loc[(zone, t), mean_dist_col]\n",
    "        except KeyError:\n",
    "            # There is no such station in this zone\n",
    "            egress.loc[(egress['route_type']==t) & (egress['b']==zone),\n",
    "                       'distance'] = np.nan"
   ]
  },
  {
   "cell_type": "code",
   "execution_count": 113,
   "metadata": {},
   "outputs": [],
   "source": [
    "sm.zone_to_transit = access.append(egress)"
   ]
  },
  {
   "cell_type": "code",
   "execution_count": 114,
   "metadata": {},
   "outputs": [
    {
     "data": {
      "text/plain": [
       "176"
      ]
     },
     "execution_count": 114,
     "metadata": {},
     "output_type": "execute_result"
    }
   ],
   "source": [
    "len(sm.zone_to_transit.loc[sm.zone_to_transit['distance'].isna()])"
   ]
  },
  {
   "cell_type": "code",
   "execution_count": 115,
   "metadata": {},
   "outputs": [
    {
     "data": {
      "text/plain": [
       "<AxesSubplot:>"
      ]
     },
     "execution_count": 115,
     "metadata": {},
     "output_type": "execute_result"
    },
    {
     "data": {
      "image/png": "[encoded data removed]",
      "text/plain": [
       "<Figure size 432x288 with 1 Axes>"
      ]
     },
     "metadata": {
      "needs_background": "light"
     },
     "output_type": "display_data"
    }
   ],
   "source": [
    "sm.zone_to_transit['speed'].hist(bins=20)"
   ]
  },
  {
   "cell_type": "code",
   "execution_count": 116,
   "metadata": {},
   "outputs": [],
   "source": [
    "# Alter time of PT legs\n",
    "sm.zone_to_transit['time'] = sm.zone_to_transit['distance'] / \\\n",
    "    sm.zone_to_transit['speed'] * 3.6 # in s\n",
    "sm.zone_to_transit['time'].replace({np.nan: threshold_dict['pt']/speed_car}, inplace=True)"
   ]
  },
  {
   "cell_type": "code",
   "execution_count": 117,
   "metadata": {},
   "outputs": [],
   "source": [
    "# Replace NaN\n",
    "sm.zone_to_transit.loc[sm.zone_to_transit['distance'].isna(), 'distance'] = 0\n",
    "sm.zone_to_transit.loc[sm.zone_to_transit['speed'].isna(), 'speed'] = 0"
   ]
  },
  {
   "cell_type": "code",
   "execution_count": 118,
   "metadata": {},
   "outputs": [
    {
     "name": "stdout",
     "output_type": "stream",
     "text": [
      "6134\n"
     ]
    },
    {
     "data": {
      "text/html": [
       "<div>\n",
       "<style scoped>\n",
       "    .dataframe tbody tr th:only-of-type {\n",
       "        vertical-align: middle;\n",
       "    }\n",
       "\n",
       "    .dataframe tbody tr th {\n",
       "        vertical-align: top;\n",
       "    }\n",
       "\n",
       "    .dataframe thead th {\n",
       "        text-align: right;\n",
       "    }\n",
       "</style>\n",
       "<table border=\"1\" class=\"dataframe\">\n",
       "  <thead>\n",
       "    <tr style=\"text-align: right;\">\n",
       "      <th></th>\n",
       "      <th>a</th>\n",
       "      <th>b</th>\n",
       "      <th>direction</th>\n",
       "      <th>distance</th>\n",
       "      <th>geometry</th>\n",
       "      <th>long_leg_speed</th>\n",
       "      <th>rank</th>\n",
       "      <th>route_type</th>\n",
       "      <th>short_leg_speed</th>\n",
       "      <th>speed</th>\n",
       "      <th>speed_factor</th>\n",
       "      <th>time</th>\n",
       "      <th>walk_time</th>\n",
       "    </tr>\n",
       "  </thead>\n",
       "  <tbody>\n",
       "    <tr>\n",
       "      <th>3532</th>\n",
       "      <td>DE80J_1_bus_1</td>\n",
       "      <td>DE80J_1</td>\n",
       "      <td>eggress</td>\n",
       "      <td>22721.041801</td>\n",
       "      <td>LINESTRING (13.27547582863626 53.5880001954110...</td>\n",
       "      <td>50</td>\n",
       "      <td>1</td>\n",
       "      <td>bus</td>\n",
       "      <td>5</td>\n",
       "      <td>33.705372</td>\n",
       "      <td>6.741074</td>\n",
       "      <td>2426.786772</td>\n",
       "      <td>NaN</td>\n",
       "    </tr>\n",
       "  </tbody>\n",
       "</table>\n",
       "</div>"
      ],
      "text/plain": [
       "                  a        b direction      distance  \\\n",
       "3532  DE80J_1_bus_1  DE80J_1   eggress  22721.041801   \n",
       "\n",
       "                                               geometry  long_leg_speed  rank  \\\n",
       "3532  LINESTRING (13.27547582863626 53.5880001954110...              50     1   \n",
       "\n",
       "     route_type  short_leg_speed      speed  speed_factor         time  \\\n",
       "3532        bus                5  33.705372      6.741074  2426.786772   \n",
       "\n",
       "      walk_time  \n",
       "3532        NaN  "
      ]
     },
     "execution_count": 118,
     "metadata": {},
     "output_type": "execute_result"
    }
   ],
   "source": [
    "print(len(sm.zone_to_transit))\n",
    "sm.zone_to_transit.sample()"
   ]
  },
  {
   "cell_type": "code",
   "execution_count": 119,
   "metadata": {},
   "outputs": [
    {
     "data": {
      "text/plain": [
       "<AxesSubplot:>"
      ]
     },
     "execution_count": 119,
     "metadata": {},
     "output_type": "execute_result"
    },
    {
     "data": {
      "image/png": "[encoded data removed]",
      "text/plain": [
       "<Figure size 432x288 with 1 Axes>"
      ]
     },
     "metadata": {
      "needs_background": "light"
     },
     "output_type": "display_data"
    }
   ],
   "source": [
    "sm.zone_to_transit['time'].hist(bins=100)"
   ]
  },
  {
   "cell_type": "code",
   "execution_count": 120,
   "metadata": {},
   "outputs": [
    {
     "data": {
      "text/plain": [
       "5830"
      ]
     },
     "execution_count": 120,
     "metadata": {},
     "output_type": "execute_result"
    }
   ],
   "source": [
    "# Ditch all legs which take too long\n",
    "sm.zone_to_transit = sm.zone_to_transit.loc[sm.zone_to_transit['time']<5400]\n",
    "len(sm.zone_to_transit)"
   ]
  },
  {
   "cell_type": "markdown",
   "metadata": {},
   "source": [
    "## Save model"
   ]
  },
  {
   "cell_type": "code",
   "execution_count": 125,
   "metadata": {},
   "outputs": [],
   "source": [
    "# Drop unneccessary columns\n",
    "cols = ['speed_factor', 'short_leg_speed', 'long_leg_speed', 'rank', 'voronoi', 'walk_time']\n",
    "sm.footpaths.drop(cols, axis=1, inplace=True, errors='ignore')\n",
    "sm.zone_to_transit.drop(cols, axis=1, inplace=True, errors='ignore')"
   ]
  },
  {
   "cell_type": "code",
   "execution_count": 126,
   "metadata": {},
   "outputs": [],
   "source": [
    "sm.zone_to_road.drop(cols, axis=1, inplace=True, errors='ignore')\n",
    "sm.road_to_transit.drop(cols, axis=1, inplace=True, errors='ignore')"
   ]
  },
  {
   "cell_type": "code",
   "execution_count": 128,
   "metadata": {},
   "outputs": [],
   "source": [
    "# Make tables lighter\n",
    "cols = ['distance', 'speed', 'time']\n",
    "sm.zone_to_transit[cols] = sm.zone_to_transit[cols].astype(int)\n",
    "sm.zone_to_road[cols] = sm.zone_to_road[cols].astype(int)\n",
    "sm.road_to_transit[cols] = sm.road_to_transit[cols].astype(int)\n",
    "try:\n",
    "    sm.footpaths[cols] = sm.footpaths[cols].astype(int)\n",
    "except KeyError:\n",
    "    cols = ['length', 'time']\n",
    "    sm.footpaths[cols] = sm.footpaths[cols].astype(int)"
   ]
  },
  {
   "cell_type": "code",
   "execution_count": 129,
   "metadata": {},
   "outputs": [
    {
     "data": {
      "text/html": [
       "<div>\n",
       "<style scoped>\n",
       "    .dataframe tbody tr th:only-of-type {\n",
       "        vertical-align: middle;\n",
       "    }\n",
       "\n",
       "    .dataframe tbody tr th {\n",
       "        vertical-align: top;\n",
       "    }\n",
       "\n",
       "    .dataframe thead th {\n",
       "        text-align: right;\n",
       "    }\n",
       "</style>\n",
       "<table border=\"1\" class=\"dataframe\">\n",
       "  <thead>\n",
       "    <tr style=\"text-align: right;\">\n",
       "      <th></th>\n",
       "      <th>a</th>\n",
       "      <th>b</th>\n",
       "      <th>geometry</th>\n",
       "      <th>length</th>\n",
       "      <th>time</th>\n",
       "    </tr>\n",
       "  </thead>\n",
       "  <tbody>\n",
       "    <tr>\n",
       "      <th>foot_6623</th>\n",
       "      <td>rail_long_node_354</td>\n",
       "      <td>rail_long_node_1227</td>\n",
       "      <td>LINESTRING (13.388513 52.54896, 13.388513 52.5...</td>\n",
       "      <td>0</td>\n",
       "      <td>0</td>\n",
       "    </tr>\n",
       "  </tbody>\n",
       "</table>\n",
       "</div>"
      ],
      "text/plain": [
       "                            a                    b  \\\n",
       "foot_6623  rail_long_node_354  rail_long_node_1227   \n",
       "\n",
       "                                                    geometry  length  time  \n",
       "foot_6623  LINESTRING (13.388513 52.54896, 13.388513 52.5...       0     0  "
      ]
     },
     "execution_count": 129,
     "metadata": {},
     "output_type": "execute_result"
    }
   ],
   "source": [
    "sm.footpaths.sample()"
   ]
  },
  {
   "cell_type": "code",
   "execution_count": 131,
   "metadata": {},
   "outputs": [
    {
     "name": "stderr",
     "output_type": "stream",
     "text": [
      "\n",
      "to_hdf(overwriting):   0%|                                                                      | 0/34 [00:00<?, ?it/s]\u001b[A\n",
      "to_hdf(overwriting):  32%|███████████████████▋                                         | 11/34 [00:01<00:02,  8.59it/s]\u001b[A\n",
      "to_hdf(overwriting):  50%|██████████████████████████████▌                              | 17/34 [00:02<00:02,  7.80it/s]\u001b[A\n",
      "to_hdf(overwriting): 100%|█████████████████████████████████████████████████████████████| 34/34 [00:02<00:00, 14.56it/s]\u001b[A\n"
     ]
    }
   ],
   "source": [
    "# Saving model...\n",
    "tables = ['centroids', 'footpaths', 'zone_to_transit']\n",
    "sm.to_json(model_path + 'de_pt_access_egress',\n",
    "           only_attributes=tables, encoding='utf-8')"
   ]
  },
  {
   "cell_type": "code",
   "execution_count": 132,
   "metadata": {
    "scrolled": true
   },
   "outputs": [
    {
     "name": "stderr",
     "output_type": "stream",
     "text": [
      "\n",
      "to_hdf(overwriting):   0%|                                                                      | 0/34 [00:00<?, ?it/s]\u001b[A\n",
      "to_hdf(overwriting):  47%|████████████████████████████▋                                | 16/34 [00:00<00:00, 34.15it/s]\u001b[A\n",
      "to_hdf(overwriting):  53%|████████████████████████████████▎                            | 18/34 [00:00<00:01, 15.56it/s]\u001b[A\n",
      "to_hdf(overwriting): 100%|█████████████████████████████████████████████████████████████| 34/34 [00:00<00:00, 38.71it/s]\u001b[A\n"
     ]
    }
   ],
   "source": [
    "sm.to_json(model_path + 'de_road_access_egress',\n",
    "           only_attributes=['centroids', 'zone_to_road', 'road_to_transit'],\n",
    "           encoding='utf-8')"
   ]
  }
 ],
 "metadata": {
  "kernelspec": {
   "display_name": "Python 3",
   "language": "python",
   "name": "python3"
  },
  "language_info": {
   "codemirror_mode": {
    "name": "ipython",
    "version": 3
   },
   "file_extension": ".py",
   "mimetype": "text/x-python",
   "name": "python",
   "nbconvert_exporter": "python",
   "pygments_lexer": "ipython3",
   "version": "3.8.1"
  }
 },
 "nbformat": 4,
 "nbformat_minor": 2
}
