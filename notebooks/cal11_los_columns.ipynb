{
 "cells": [
  {
   "cell_type": "code",
   "execution_count": 1,
   "metadata": {},
   "outputs": [
    {
     "name": "stderr",
     "output_type": "stream",
     "text": [
      "In C:\\Users\\marlin.arnz\\AppData\\Local\\Continuum\\miniconda3\\envs\\quetzal\\lib\\site-packages\\matplotlib\\mpl-data\\stylelib\\_classic_test.mplstyle: \n",
      "The text.latex.preview rcparam was deprecated in Matplotlib 3.3 and will be removed two minor releases later.\n",
      "In C:\\Users\\marlin.arnz\\AppData\\Local\\Continuum\\miniconda3\\envs\\quetzal\\lib\\site-packages\\matplotlib\\mpl-data\\stylelib\\_classic_test.mplstyle: \n",
      "The mathtext.fallback_to_cm rcparam was deprecated in Matplotlib 3.3 and will be removed two minor releases later.\n",
      "In C:\\Users\\marlin.arnz\\AppData\\Local\\Continuum\\miniconda3\\envs\\quetzal\\lib\\site-packages\\matplotlib\\mpl-data\\stylelib\\_classic_test.mplstyle: Support for setting the 'mathtext.fallback_to_cm' rcParam is deprecated since 3.3 and will be removed two minor releases later; use 'mathtext.fallback : 'cm' instead.\n",
      "In C:\\Users\\marlin.arnz\\AppData\\Local\\Continuum\\miniconda3\\envs\\quetzal\\lib\\site-packages\\matplotlib\\mpl-data\\stylelib\\_classic_test.mplstyle: \n",
      "The validate_bool_maybe_none function was deprecated in Matplotlib 3.3 and will be removed two minor releases later.\n",
      "In C:\\Users\\marlin.arnz\\AppData\\Local\\Continuum\\miniconda3\\envs\\quetzal\\lib\\site-packages\\matplotlib\\mpl-data\\stylelib\\_classic_test.mplstyle: \n",
      "The savefig.jpeg_quality rcparam was deprecated in Matplotlib 3.3 and will be removed two minor releases later.\n",
      "In C:\\Users\\marlin.arnz\\AppData\\Local\\Continuum\\miniconda3\\envs\\quetzal\\lib\\site-packages\\matplotlib\\mpl-data\\stylelib\\_classic_test.mplstyle: \n",
      "The keymap.all_axes rcparam was deprecated in Matplotlib 3.3 and will be removed two minor releases later.\n",
      "In C:\\Users\\marlin.arnz\\AppData\\Local\\Continuum\\miniconda3\\envs\\quetzal\\lib\\site-packages\\matplotlib\\mpl-data\\stylelib\\_classic_test.mplstyle: \n",
      "The animation.avconv_path rcparam was deprecated in Matplotlib 3.3 and will be removed two minor releases later.\n",
      "In C:\\Users\\marlin.arnz\\AppData\\Local\\Continuum\\miniconda3\\envs\\quetzal\\lib\\site-packages\\matplotlib\\mpl-data\\stylelib\\_classic_test.mplstyle: \n",
      "The animation.avconv_args rcparam was deprecated in Matplotlib 3.3 and will be removed two minor releases later.\n"
     ]
    }
   ],
   "source": [
    "import math\n",
    "import pandas as pd\n",
    "import numpy as np\n",
    "from quetzal.model import stepmodel"
   ]
  },
  {
   "cell_type": "markdown",
   "metadata": {},
   "source": [
    "# Calibration\n",
    "## Preparation of input data\n",
    "Synthesise LoS columns with optimal paths from the model"
   ]
  },
  {
   "cell_type": "code",
   "execution_count": 2,
   "metadata": {},
   "outputs": [],
   "source": [
    "input_path = '../input/transport_demand/'\n",
    "model_path = '../model/'"
   ]
  },
  {
   "cell_type": "code",
   "execution_count": 3,
   "metadata": {},
   "outputs": [],
   "source": [
    "# Load StepModel with LOS table...\n",
    "sm = stepmodel.read_json(model_path + 'de_pt_access_egress')\n",
    "pt = stepmodel.read_json(model_path + 'de_pt_los')\n",
    "car = stepmodel.read_json(model_path + 'de_road_los')"
   ]
  },
  {
   "cell_type": "code",
   "execution_count": 4,
   "metadata": {},
   "outputs": [],
   "source": [
    "sm.pt_los = pt.pt_los\n",
    "sm.car_los = car.car_los"
   ]
  },
  {
   "cell_type": "code",
   "execution_count": 5,
   "metadata": {},
   "outputs": [
    {
     "name": "stdout",
     "output_type": "stream",
     "text": [
      "86544\n"
     ]
    }
   ],
   "source": [
    "# Load calibration dataset\n",
    "trips = pd.read_csv(input_path + 'calibration_inter-cellular_trips_MiD2017.csv')\n",
    "print(len(trips.index))"
   ]
  },
  {
   "cell_type": "code",
   "execution_count": 6,
   "metadata": {},
   "outputs": [],
   "source": [
    "trips = trips.drop(columns='Unnamed: 0')\n",
    "trips.reset_index(drop=True, inplace=True)\n",
    "#trips.head()"
   ]
  },
  {
   "cell_type": "code",
   "execution_count": 7,
   "metadata": {},
   "outputs": [],
   "source": [
    "# Replace LAU codes with NUTS IDs\n",
    "if not str(trips.loc[0, 'origin']).startswith('DE'):\n",
    "    z = stepmodel.read_json(model_path + 'de_zones')\n",
    "    lau_nuts_dict = z.zones.groupby('NUTS_ID').first().set_index('lau_id')['FID'].to_dict()\n",
    "    lau_nuts_dict.update({'3241': 'DE929_city'}) # Hannover\n",
    "    trips['origin'] = trips['origin'].astype(str).map(lau_nuts_dict)\n",
    "    trips['destination'] = trips['destination'].astype(str).map(lau_nuts_dict)\n",
    "\n",
    "    # Drop all other trips\n",
    "    trips = trips.loc[(trips['origin'].notna()) & (trips['destination'].notna())]\n",
    "    len(trips.index)"
   ]
  },
  {
   "cell_type": "code",
   "execution_count": 8,
   "metadata": {},
   "outputs": [
    {
     "data": {
      "text/html": [
       "<div>\n",
       "<style scoped>\n",
       "    .dataframe tbody tr th:only-of-type {\n",
       "        vertical-align: middle;\n",
       "    }\n",
       "\n",
       "    .dataframe tbody tr th {\n",
       "        vertical-align: top;\n",
       "    }\n",
       "\n",
       "    .dataframe thead th {\n",
       "        text-align: right;\n",
       "    }\n",
       "</style>\n",
       "<table border=\"1\" class=\"dataframe\">\n",
       "  <thead>\n",
       "    <tr style=\"text-align: right;\">\n",
       "      <th></th>\n",
       "      <th>origin</th>\n",
       "      <th>destination</th>\n",
       "      <th>SKTYP</th>\n",
       "      <th>distance</th>\n",
       "      <th>distance_routed</th>\n",
       "      <th>duration</th>\n",
       "      <th>purpose</th>\n",
       "      <th>mode</th>\n",
       "      <th>mode_combo</th>\n",
       "      <th>n_persons</th>\n",
       "      <th>...</th>\n",
       "      <th>cost_bus</th>\n",
       "      <th>cost_coach</th>\n",
       "      <th>cost_air</th>\n",
       "      <th>cost_rail</th>\n",
       "      <th>accessibility_walk</th>\n",
       "      <th>accessibility_car</th>\n",
       "      <th>accessibility_rail</th>\n",
       "      <th>accessibility_bus</th>\n",
       "      <th>accessibility_coach</th>\n",
       "      <th>accessibility_air</th>\n",
       "    </tr>\n",
       "  </thead>\n",
       "  <tbody>\n",
       "  </tbody>\n",
       "</table>\n",
       "<p>0 rows × 44 columns</p>\n",
       "</div>"
      ],
      "text/plain": [
       "Empty DataFrame\n",
       "Columns: [origin, destination, SKTYP, distance, distance_routed, duration, purpose, mode, mode_combo, n_persons, car_avail, ticket_type, mode_affinity, dist_train_origin, dist_bus_origin, dist_train_destination, dist_bus_destination, W_DETAIL, W_SO2, urbanisation, purpose_vp, mode_model, time_car, time_coach, time_rail_short, time_rail_long, time_bus, time_air, time_walk, time_rail, cost_walk, cost_car, cost_rail_short, cost_rail_long, cost_bus, cost_coach, cost_air, cost_rail, accessibility_walk, accessibility_car, accessibility_rail, accessibility_bus, accessibility_coach, accessibility_air]\n",
       "Index: []\n",
       "\n",
       "[0 rows x 44 columns]"
      ]
     },
     "execution_count": 8,
     "metadata": {},
     "output_type": "execute_result"
    }
   ],
   "source": [
    "trips.loc[trips.isna().any(axis=1)]"
   ]
  },
  {
   "cell_type": "code",
   "execution_count": 9,
   "metadata": {},
   "outputs": [
    {
     "data": {
      "text/plain": [
       "86544"
      ]
     },
     "execution_count": 9,
     "metadata": {},
     "output_type": "execute_result"
    }
   ],
   "source": [
    "len(trips)"
   ]
  },
  {
   "cell_type": "markdown",
   "metadata": {},
   "source": [
    "## Time\n",
    "\n",
    "All imputated time columns are needed for the MLE model. They do not replace duration statements in the survey but complement each trip with alternative travel times in modes that were not used for this trip."
   ]
  },
  {
   "cell_type": "code",
   "execution_count": 10,
   "metadata": {},
   "outputs": [],
   "source": [
    "# Create dictionaries from LoS tables\n",
    "# Take the fastest trips\n",
    "car_dict = sm.car_los.sort_values('time').groupby(\n",
    "    ['origin', 'destination']).first()['time'].to_dict()\n",
    "pt_dict = sm.pt_los.sort_values('time').groupby(\n",
    "    ['origin', 'destination', 'route_type']).first()['time'].to_dict()"
   ]
  },
  {
   "cell_type": "code",
   "execution_count": 11,
   "metadata": {},
   "outputs": [],
   "source": [
    "# Car\n",
    "# Directly from car LoS table, converted to minutes\n",
    "trips['time_car'] = [car_dict[a]/60\n",
    "                     if a in car_dict.keys() else np.nan\n",
    "                     for a in tuple(zip(trips['origin'], trips['destination']))]"
   ]
  },
  {
   "cell_type": "code",
   "execution_count": 12,
   "metadata": {},
   "outputs": [
    {
     "name": "stdout",
     "output_type": "stream",
     "text": [
      "0\n",
      "0.0\n"
     ]
    }
   ],
   "source": [
    "# Some OD pairs might not be in the volumes table\n",
    "# which results in missing values for the calibration dataset\n",
    "k = len(trips.loc[trips['time_car'].isna()])\n",
    "print(k)\n",
    "print(k / len(trips.loc[trips['mode_model']==6]))"
   ]
  },
  {
   "cell_type": "code",
   "execution_count": 13,
   "metadata": {},
   "outputs": [],
   "source": [
    "# Drop trips without time reference if its share is insignificant\n",
    "trips = trips.loc[trips['time_car'].notna()]"
   ]
  },
  {
   "cell_type": "code",
   "execution_count": 14,
   "metadata": {},
   "outputs": [],
   "source": [
    "# PT\n",
    "for t in sm.pt_los['route_type'].unique():\n",
    "    trips['route_type'] = t\n",
    "    trips['time_' + t] = [pt_dict[a]/60\n",
    "        if a in pt_dict.keys() else np.inf\n",
    "        for a in tuple(zip(trips['origin'], trips['destination'], trips['route_type']))]\n",
    "trips.drop('route_type', axis=1, inplace=True)"
   ]
  },
  {
   "cell_type": "code",
   "execution_count": 15,
   "metadata": {},
   "outputs": [],
   "source": [
    "# Replace time for the mode of choice\n",
    "mode_col_map = {1: 'time_rail_short', 2: 'time_rail_long',\n",
    "                3: 'time_coach', 4: 'time_bus', 5: 'time_air',\n",
    "                6: 'time_car', 7: 'time_walk'}\n",
    "for index, row in trips.iterrows():\n",
    "    trips.loc[index, mode_col_map[row['mode_model']]] = row['duration']"
   ]
  },
  {
   "cell_type": "code",
   "execution_count": 16,
   "metadata": {},
   "outputs": [],
   "source": [
    "# The fastest route determines time of rail service\n",
    "trips['time_rail'] = [min(t_s, t_l)\n",
    "                      for t_s, t_l in zip(trips['time_rail_short'],\n",
    "                                          trips['time_rail_long'])]\n",
    "trips.loc[trips['mode_model']==1, 'time_rail'] = \\\n",
    "    trips.loc[trips['mode_model']==1, 'time_rail_short']\n",
    "trips.loc[trips['mode_model']==2, 'time_rail'] = \\\n",
    "    trips.loc[trips['mode_model']==2, 'time_rail_long']"
   ]
  },
  {
   "cell_type": "code",
   "execution_count": 17,
   "metadata": {},
   "outputs": [
    {
     "data": {
      "text/html": [
       "<div>\n",
       "<style scoped>\n",
       "    .dataframe tbody tr th:only-of-type {\n",
       "        vertical-align: middle;\n",
       "    }\n",
       "\n",
       "    .dataframe tbody tr th {\n",
       "        vertical-align: top;\n",
       "    }\n",
       "\n",
       "    .dataframe thead th {\n",
       "        text-align: right;\n",
       "    }\n",
       "</style>\n",
       "<table border=\"1\" class=\"dataframe\">\n",
       "  <thead>\n",
       "    <tr style=\"text-align: right;\">\n",
       "      <th></th>\n",
       "      <th>time_rail_long</th>\n",
       "      <th>time_rail_short</th>\n",
       "      <th>time_rail</th>\n",
       "      <th>time_coach</th>\n",
       "      <th>time_bus</th>\n",
       "      <th>time_air</th>\n",
       "      <th>time_car</th>\n",
       "      <th>time_walk</th>\n",
       "    </tr>\n",
       "    <tr>\n",
       "      <th>mode_model</th>\n",
       "      <th></th>\n",
       "      <th></th>\n",
       "      <th></th>\n",
       "      <th></th>\n",
       "      <th></th>\n",
       "      <th></th>\n",
       "      <th></th>\n",
       "      <th></th>\n",
       "    </tr>\n",
       "  </thead>\n",
       "  <tbody>\n",
       "    <tr>\n",
       "      <th>1</th>\n",
       "      <td>inf</td>\n",
       "      <td>67.201345</td>\n",
       "      <td>67.201345</td>\n",
       "      <td>inf</td>\n",
       "      <td>inf</td>\n",
       "      <td>inf</td>\n",
       "      <td>56.261024</td>\n",
       "      <td>inf</td>\n",
       "    </tr>\n",
       "    <tr>\n",
       "      <th>2</th>\n",
       "      <td>167.347486</td>\n",
       "      <td>inf</td>\n",
       "      <td>167.347486</td>\n",
       "      <td>inf</td>\n",
       "      <td>inf</td>\n",
       "      <td>inf</td>\n",
       "      <td>163.657486</td>\n",
       "      <td>inf</td>\n",
       "    </tr>\n",
       "    <tr>\n",
       "      <th>3</th>\n",
       "      <td>inf</td>\n",
       "      <td>inf</td>\n",
       "      <td>inf</td>\n",
       "      <td>111.506912</td>\n",
       "      <td>inf</td>\n",
       "      <td>inf</td>\n",
       "      <td>112.914900</td>\n",
       "      <td>inf</td>\n",
       "    </tr>\n",
       "    <tr>\n",
       "      <th>4</th>\n",
       "      <td>inf</td>\n",
       "      <td>inf</td>\n",
       "      <td>inf</td>\n",
       "      <td>inf</td>\n",
       "      <td>47.680302</td>\n",
       "      <td>inf</td>\n",
       "      <td>87.871518</td>\n",
       "      <td>inf</td>\n",
       "    </tr>\n",
       "    <tr>\n",
       "      <th>5</th>\n",
       "      <td>inf</td>\n",
       "      <td>inf</td>\n",
       "      <td>inf</td>\n",
       "      <td>inf</td>\n",
       "      <td>inf</td>\n",
       "      <td>122.5</td>\n",
       "      <td>332.960897</td>\n",
       "      <td>inf</td>\n",
       "    </tr>\n",
       "    <tr>\n",
       "      <th>6</th>\n",
       "      <td>inf</td>\n",
       "      <td>inf</td>\n",
       "      <td>inf</td>\n",
       "      <td>inf</td>\n",
       "      <td>inf</td>\n",
       "      <td>inf</td>\n",
       "      <td>44.517260</td>\n",
       "      <td>inf</td>\n",
       "    </tr>\n",
       "    <tr>\n",
       "      <th>7</th>\n",
       "      <td>inf</td>\n",
       "      <td>inf</td>\n",
       "      <td>inf</td>\n",
       "      <td>inf</td>\n",
       "      <td>inf</td>\n",
       "      <td>inf</td>\n",
       "      <td>117.140852</td>\n",
       "      <td>27.127867</td>\n",
       "    </tr>\n",
       "  </tbody>\n",
       "</table>\n",
       "</div>"
      ],
      "text/plain": [
       "            time_rail_long  time_rail_short   time_rail  time_coach  \\\n",
       "mode_model                                                            \n",
       "1                      inf        67.201345   67.201345         inf   \n",
       "2               167.347486              inf  167.347486         inf   \n",
       "3                      inf              inf         inf  111.506912   \n",
       "4                      inf              inf         inf         inf   \n",
       "5                      inf              inf         inf         inf   \n",
       "6                      inf              inf         inf         inf   \n",
       "7                      inf              inf         inf         inf   \n",
       "\n",
       "             time_bus  time_air    time_car  time_walk  \n",
       "mode_model                                              \n",
       "1                 inf       inf   56.261024        inf  \n",
       "2                 inf       inf  163.657486        inf  \n",
       "3                 inf       inf  112.914900        inf  \n",
       "4           47.680302       inf   87.871518        inf  \n",
       "5                 inf     122.5  332.960897        inf  \n",
       "6                 inf       inf   44.517260        inf  \n",
       "7                 inf       inf  117.140852  27.127867  "
      ]
     },
     "execution_count": 17,
     "metadata": {},
     "output_type": "execute_result"
    }
   ],
   "source": [
    "trips.groupby('mode_model').agg(\n",
    "    {'time_rail_long': 'mean', 'time_rail_short': 'mean',\n",
    "     'time_rail': 'mean', 'time_coach': 'mean', 'time_bus': 'mean',\n",
    "     'time_air': 'mean', 'time_car': 'mean', 'time_walk': 'mean'})"
   ]
  },
  {
   "cell_type": "code",
   "execution_count": 18,
   "metadata": {},
   "outputs": [
    {
     "data": {
      "text/html": [
       "<div>\n",
       "<style scoped>\n",
       "    .dataframe tbody tr th:only-of-type {\n",
       "        vertical-align: middle;\n",
       "    }\n",
       "\n",
       "    .dataframe tbody tr th {\n",
       "        vertical-align: top;\n",
       "    }\n",
       "\n",
       "    .dataframe thead th {\n",
       "        text-align: right;\n",
       "    }\n",
       "</style>\n",
       "<table border=\"1\" class=\"dataframe\">\n",
       "  <thead>\n",
       "    <tr style=\"text-align: right;\">\n",
       "      <th></th>\n",
       "      <th>time_rail_long</th>\n",
       "      <th>time_rail_short</th>\n",
       "      <th>time_rail</th>\n",
       "      <th>time_coach</th>\n",
       "      <th>time_bus</th>\n",
       "      <th>time_air</th>\n",
       "      <th>time_car</th>\n",
       "      <th>time_walk</th>\n",
       "    </tr>\n",
       "    <tr>\n",
       "      <th>mode_model</th>\n",
       "      <th></th>\n",
       "      <th></th>\n",
       "      <th></th>\n",
       "      <th></th>\n",
       "      <th></th>\n",
       "      <th></th>\n",
       "      <th></th>\n",
       "      <th></th>\n",
       "    </tr>\n",
       "  </thead>\n",
       "  <tbody>\n",
       "    <tr>\n",
       "      <th>1</th>\n",
       "      <td>90.537398</td>\n",
       "      <td>67.201345</td>\n",
       "      <td>67.201345</td>\n",
       "      <td>131.864828</td>\n",
       "      <td>76.730834</td>\n",
       "      <td>232.088889</td>\n",
       "      <td>56.261024</td>\n",
       "      <td>85.135104</td>\n",
       "    </tr>\n",
       "    <tr>\n",
       "      <th>2</th>\n",
       "      <td>167.347486</td>\n",
       "      <td>140.544803</td>\n",
       "      <td>167.347486</td>\n",
       "      <td>194.796278</td>\n",
       "      <td>89.391095</td>\n",
       "      <td>216.046382</td>\n",
       "      <td>163.657486</td>\n",
       "      <td>79.162963</td>\n",
       "    </tr>\n",
       "    <tr>\n",
       "      <th>3</th>\n",
       "      <td>151.906958</td>\n",
       "      <td>117.980994</td>\n",
       "      <td>115.747797</td>\n",
       "      <td>111.506912</td>\n",
       "      <td>86.102299</td>\n",
       "      <td>235.327083</td>\n",
       "      <td>112.914900</td>\n",
       "      <td>79.483951</td>\n",
       "    </tr>\n",
       "    <tr>\n",
       "      <th>4</th>\n",
       "      <td>152.261345</td>\n",
       "      <td>108.221764</td>\n",
       "      <td>108.737227</td>\n",
       "      <td>172.317509</td>\n",
       "      <td>47.680302</td>\n",
       "      <td>221.842045</td>\n",
       "      <td>87.871518</td>\n",
       "      <td>86.212240</td>\n",
       "    </tr>\n",
       "    <tr>\n",
       "      <th>5</th>\n",
       "      <td>267.957639</td>\n",
       "      <td>274.085714</td>\n",
       "      <td>258.395833</td>\n",
       "      <td>331.022917</td>\n",
       "      <td>102.700000</td>\n",
       "      <td>122.500000</td>\n",
       "      <td>332.960897</td>\n",
       "      <td>60.183333</td>\n",
       "    </tr>\n",
       "    <tr>\n",
       "      <th>6</th>\n",
       "      <td>124.746568</td>\n",
       "      <td>90.579291</td>\n",
       "      <td>91.472086</td>\n",
       "      <td>155.145026</td>\n",
       "      <td>82.283611</td>\n",
       "      <td>252.141618</td>\n",
       "      <td>44.517260</td>\n",
       "      <td>88.029407</td>\n",
       "    </tr>\n",
       "    <tr>\n",
       "      <th>7</th>\n",
       "      <td>175.339395</td>\n",
       "      <td>131.219160</td>\n",
       "      <td>132.039054</td>\n",
       "      <td>193.256938</td>\n",
       "      <td>89.535611</td>\n",
       "      <td>242.705373</td>\n",
       "      <td>117.140852</td>\n",
       "      <td>27.127867</td>\n",
       "    </tr>\n",
       "  </tbody>\n",
       "</table>\n",
       "</div>"
      ],
      "text/plain": [
       "            time_rail_long  time_rail_short   time_rail  time_coach  \\\n",
       "mode_model                                                            \n",
       "1                90.537398        67.201345   67.201345  131.864828   \n",
       "2               167.347486       140.544803  167.347486  194.796278   \n",
       "3               151.906958       117.980994  115.747797  111.506912   \n",
       "4               152.261345       108.221764  108.737227  172.317509   \n",
       "5               267.957639       274.085714  258.395833  331.022917   \n",
       "6               124.746568        90.579291   91.472086  155.145026   \n",
       "7               175.339395       131.219160  132.039054  193.256938   \n",
       "\n",
       "              time_bus    time_air    time_car  time_walk  \n",
       "mode_model                                                 \n",
       "1            76.730834  232.088889   56.261024  85.135104  \n",
       "2            89.391095  216.046382  163.657486  79.162963  \n",
       "3            86.102299  235.327083  112.914900  79.483951  \n",
       "4            47.680302  221.842045   87.871518  86.212240  \n",
       "5           102.700000  122.500000  332.960897  60.183333  \n",
       "6            82.283611  252.141618   44.517260  88.029407  \n",
       "7            89.535611  242.705373  117.140852  27.127867  "
      ]
     },
     "execution_count": 18,
     "metadata": {},
     "output_type": "execute_result"
    }
   ],
   "source": [
    "trips.replace({np.inf:np.nan}).groupby('mode_model').agg(\n",
    "    {'time_rail_long': 'mean', 'time_rail_short': 'mean',\n",
    "     'time_rail': 'mean', 'time_coach': 'mean', 'time_bus': 'mean',\n",
    "     'time_air': 'mean', 'time_car': 'mean', 'time_walk': 'mean'})"
   ]
  },
  {
   "cell_type": "code",
   "execution_count": 19,
   "metadata": {},
   "outputs": [
    {
     "name": "stdout",
     "output_type": "stream",
     "text": [
      "rail_short: 0 observations have no model connection (0.0 percent)\n",
      "rail_long: 0 observations have no model connection (0.0 percent)\n",
      "coach: 0 observations have no model connection (0.0 percent)\n",
      "bus: 0 observations have no model connection (0.0 percent)\n",
      "air: 0 observations have no model connection (0.0 percent)\n",
      "car: 0 observations have no model connection (0.0 percent)\n",
      "walk: 0 observations have no model connection (0.0 percent)\n"
     ]
    }
   ],
   "source": [
    "# How many observations must be dropped later and what are their shares?\n",
    "mode_dict = {1: 'rail_short', 2: 'rail_long',\n",
    "             3: 'coach', 4: 'bus', 5: 'air', 6: 'car', 7: 'walk'}\n",
    "mode_dict = {v:k for k,v in mode_dict.items()}\n",
    "for t in mode_dict.keys():\n",
    "    k = len(trips.loc[((trips['mode_model']==mode_dict[t]) & (trips['time_'+t]==np.inf))])\n",
    "    print('{}: {} observations have no model connection ({} percent)'.format(\n",
    "        t, k, k/len(trips.loc[trips['mode_model']==mode_dict[t]])*100))"
   ]
  },
  {
   "cell_type": "markdown",
   "metadata": {},
   "source": [
    "## Price\n",
    "For model calibration we need cost data for each trip. This column is generated using the travel cost function from the model's LoS formulation. For PT, the type of ticket or subscription is being considered."
   ]
  },
  {
   "cell_type": "code",
   "execution_count": 20,
   "metadata": {},
   "outputs": [],
   "source": [
    "def monetary_cost(length, rf, vc, ac, al, ec, el, sf):\n",
    "    \"\"\" calculate monetary cost of travelling one O-D realtion within the LoS table\n",
    "    :param length: length of main leg in meter\n",
    "    :param df: regression factor for length (to be calibrated beforehand)\n",
    "    :param vc: distance-specific transport cost\n",
    "    :param ac: access cost\n",
    "    :param al: access link length (m)\n",
    "    :param ec: egress cost\n",
    "    :param el: egress link length (m)\n",
    "    :param sf: sharing factor (e.g. occupancy factor of a car)\n",
    "    :return: monetary cost\"\"\"\n",
    "    return (math.pow(length, rf) * vc + ac * al + ec * el) / sf"
   ]
  },
  {
   "cell_type": "code",
   "execution_count": 21,
   "metadata": {},
   "outputs": [],
   "source": [
    "trips['cost_walk'] = 0 # foot and bicycle trips are free of monetary cost"
   ]
  },
  {
   "cell_type": "code",
   "execution_count": 22,
   "metadata": {},
   "outputs": [],
   "source": [
    "# The same assumptions for car travel as in the car LoS generation (prep30)\n",
    "vc_car = 0.00011439257425742574 # in €/m\n",
    "fix_car = 1.551890814081408 # in € per trip"
   ]
  },
  {
   "cell_type": "code",
   "execution_count": 23,
   "metadata": {},
   "outputs": [],
   "source": [
    "# Car, see prep30_los_road\n",
    "trips['cost_car'] = [monetary_cost(d*1000, 1, vc_car, 0,0,0,0, n) + 0.8 * t/60\n",
    "                     for d, n, t in zip(trips['distance'], trips['n_persons'], trips['duration'])]"
   ]
  },
  {
   "cell_type": "code",
   "execution_count": 24,
   "metadata": {},
   "outputs": [],
   "source": [
    "# Ticket type determines the trip cost\n",
    "# Assume this dict with factors\n",
    "ticket_dict = {1:1, 2:0.9, 3:0.5, 4:0, 5:0, 6:1, 7:1, 99:1, 200:1}"
   ]
  },
  {
   "cell_type": "code",
   "execution_count": 25,
   "metadata": {},
   "outputs": [],
   "source": [
    "# Rail short-distance\n",
    "# Trips with subscriptions are free of charge\n",
    "rf_rail = 0.7 # for distance in km; see prep31\n",
    "trips['cost_rail_short'] = [monetary_cost(d, rf_rail, 1, 0,0,0,0, 1)\n",
    "                            * ticket_dict[t]\n",
    "                            for d, t in zip(trips['distance'], trips['ticket_type'])]"
   ]
  },
  {
   "cell_type": "code",
   "execution_count": 26,
   "metadata": {},
   "outputs": [],
   "source": [
    "# Rail long-distance\n",
    "# Take prices from the model (validated)\n",
    "rail_dict = sm.pt_los.sort_values(['time', 'length']).loc[\n",
    "    sm.pt_los['route_type'].isin(['rail_long', 'rail_short'])\n",
    "].groupby(['origin', 'destination']).first()['price'].to_dict()\n",
    "trips['cost_rail_long'] = [rail_dict[(o,d)] if (o,d) in rail_dict.keys()\n",
    "                           else np.inf for o, d in zip(trips['origin'], trips['destination'])]"
   ]
  },
  {
   "cell_type": "code",
   "execution_count": 27,
   "metadata": {},
   "outputs": [],
   "source": [
    "# Bus and tram\n",
    "# Trip cost depend on the ticket type and routed distance\n",
    "# The single ticket price is for long distance local transport\n",
    "# See prep31 for prices\n",
    "trips['cost_bus'] = trips['ticket_type'].map(ticket_dict) * 2.74"
   ]
  },
  {
   "cell_type": "code",
   "execution_count": 28,
   "metadata": {},
   "outputs": [],
   "source": [
    "# Coach\n",
    "# see prep31\n",
    "trips['cost_coach'] = trips['distance'].apply(\n",
    "    lambda d: monetary_cost(d, 1, 0.107, 0, 0, 0, 0, 1))"
   ]
  },
  {
   "cell_type": "code",
   "execution_count": 29,
   "metadata": {},
   "outputs": [],
   "source": [
    "# Air\n",
    "# Apply business price of German flight connections, see prep31\n",
    "# Take the fastest connections from the model\n",
    "air_dict = sm.pt_los.sort_values('time').loc[\n",
    "    sm.pt_los['route_type']=='air'].groupby(\n",
    "    ['origin', 'destination']).first()['price'].to_dict()"
   ]
  },
  {
   "cell_type": "code",
   "execution_count": 30,
   "metadata": {},
   "outputs": [],
   "source": [
    "trips['cost_air'] = [air_dict[(o,d)] if (o,d) in air_dict.keys() else np.inf\n",
    "                     for o, d in zip(trips['origin'], trips['destination'])]"
   ]
  },
  {
   "cell_type": "code",
   "execution_count": 31,
   "metadata": {},
   "outputs": [],
   "source": [
    "# The fastest route determines cost of rail service\n",
    "trips['cost_rail'] = [c_l if t_l<t_s else c_s\n",
    "                      for t_s, t_l, c_s, c_l in zip(\n",
    "    trips['time_rail_short'], trips['time_rail_long'],\n",
    "    trips['cost_rail_short'], trips['cost_rail_long'])]\n",
    "trips.loc[trips['mode_model']==1, 'cost_rail'] = \\\n",
    "    trips.loc[trips['mode_model']==1, 'cost_rail_short']\n",
    "trips.loc[trips['mode_model']==2, 'cost_rail'] = \\\n",
    "    trips.loc[trips['mode_model']==2, 'cost_rail_long']"
   ]
  },
  {
   "cell_type": "code",
   "execution_count": 32,
   "metadata": {},
   "outputs": [
    {
     "data": {
      "text/html": [
       "<div>\n",
       "<style scoped>\n",
       "    .dataframe tbody tr th:only-of-type {\n",
       "        vertical-align: middle;\n",
       "    }\n",
       "\n",
       "    .dataframe tbody tr th {\n",
       "        vertical-align: top;\n",
       "    }\n",
       "\n",
       "    .dataframe thead th {\n",
       "        text-align: right;\n",
       "    }\n",
       "</style>\n",
       "<table border=\"1\" class=\"dataframe\">\n",
       "  <thead>\n",
       "    <tr style=\"text-align: right;\">\n",
       "      <th></th>\n",
       "      <th>cost_car</th>\n",
       "      <th>cost_coach</th>\n",
       "      <th>cost_bus</th>\n",
       "      <th>cost_air</th>\n",
       "      <th>cost_rail_short</th>\n",
       "      <th>cost_rail_long</th>\n",
       "      <th>cost_rail</th>\n",
       "    </tr>\n",
       "    <tr>\n",
       "      <th>mode_model</th>\n",
       "      <th></th>\n",
       "      <th></th>\n",
       "      <th></th>\n",
       "      <th></th>\n",
       "      <th></th>\n",
       "      <th></th>\n",
       "      <th></th>\n",
       "    </tr>\n",
       "  </thead>\n",
       "  <tbody>\n",
       "    <tr>\n",
       "      <th>1</th>\n",
       "      <td>3.868328</td>\n",
       "      <td>3.403077</td>\n",
       "      <td>1.263253</td>\n",
       "      <td>inf</td>\n",
       "      <td>5.046577</td>\n",
       "      <td>inf</td>\n",
       "      <td>5.046577</td>\n",
       "    </tr>\n",
       "    <tr>\n",
       "      <th>2</th>\n",
       "      <td>19.479292</td>\n",
       "      <td>21.474828</td>\n",
       "      <td>1.776255</td>\n",
       "      <td>inf</td>\n",
       "      <td>26.105591</td>\n",
       "      <td>inf</td>\n",
       "      <td>inf</td>\n",
       "    </tr>\n",
       "    <tr>\n",
       "      <th>3</th>\n",
       "      <td>7.873581</td>\n",
       "      <td>11.868435</td>\n",
       "      <td>1.881382</td>\n",
       "      <td>inf</td>\n",
       "      <td>18.563668</td>\n",
       "      <td>inf</td>\n",
       "      <td>24.153419</td>\n",
       "    </tr>\n",
       "    <tr>\n",
       "      <th>4</th>\n",
       "      <td>1.992437</td>\n",
       "      <td>1.663309</td>\n",
       "      <td>1.520019</td>\n",
       "      <td>inf</td>\n",
       "      <td>3.629725</td>\n",
       "      <td>inf</td>\n",
       "      <td>13.460194</td>\n",
       "    </tr>\n",
       "    <tr>\n",
       "      <th>5</th>\n",
       "      <td>38.094602</td>\n",
       "      <td>53.268468</td>\n",
       "      <td>2.192000</td>\n",
       "      <td>inf</td>\n",
       "      <td>58.848923</td>\n",
       "      <td>inf</td>\n",
       "      <td>85.596391</td>\n",
       "    </tr>\n",
       "    <tr>\n",
       "      <th>6</th>\n",
       "      <td>3.588109</td>\n",
       "      <td>4.222830</td>\n",
       "      <td>2.512782</td>\n",
       "      <td>inf</td>\n",
       "      <td>10.713658</td>\n",
       "      <td>inf</td>\n",
       "      <td>15.950336</td>\n",
       "    </tr>\n",
       "    <tr>\n",
       "      <th>7</th>\n",
       "      <td>0.701736</td>\n",
       "      <td>0.454862</td>\n",
       "      <td>2.210042</td>\n",
       "      <td>inf</td>\n",
       "      <td>1.879464</td>\n",
       "      <td>inf</td>\n",
       "      <td>14.797389</td>\n",
       "    </tr>\n",
       "  </tbody>\n",
       "</table>\n",
       "</div>"
      ],
      "text/plain": [
       "             cost_car  cost_coach  cost_bus  cost_air  cost_rail_short  \\\n",
       "mode_model                                                               \n",
       "1            3.868328    3.403077  1.263253       inf         5.046577   \n",
       "2           19.479292   21.474828  1.776255       inf        26.105591   \n",
       "3            7.873581   11.868435  1.881382       inf        18.563668   \n",
       "4            1.992437    1.663309  1.520019       inf         3.629725   \n",
       "5           38.094602   53.268468  2.192000       inf        58.848923   \n",
       "6            3.588109    4.222830  2.512782       inf        10.713658   \n",
       "7            0.701736    0.454862  2.210042       inf         1.879464   \n",
       "\n",
       "            cost_rail_long  cost_rail  \n",
       "mode_model                             \n",
       "1                      inf   5.046577  \n",
       "2                      inf        inf  \n",
       "3                      inf  24.153419  \n",
       "4                      inf  13.460194  \n",
       "5                      inf  85.596391  \n",
       "6                      inf  15.950336  \n",
       "7                      inf  14.797389  "
      ]
     },
     "execution_count": 32,
     "metadata": {},
     "output_type": "execute_result"
    }
   ],
   "source": [
    "# Summary\n",
    "trips.groupby('mode_model').agg({'cost_car': 'mean', 'cost_coach': 'mean',\n",
    "                                 'cost_bus': 'mean', 'cost_air': 'mean',\n",
    "                                 'cost_rail_short': 'mean',\n",
    "                                 'cost_rail_long': 'mean',\n",
    "                                 'cost_rail': 'mean'})"
   ]
  },
  {
   "cell_type": "code",
   "execution_count": 33,
   "metadata": {},
   "outputs": [
    {
     "name": "stdout",
     "output_type": "stream",
     "text": [
      "rail_short: 0 observations have no model connection (0.0 percent)\n",
      "rail_long: 26 observations have no model connection (2.905027932960894 percent)\n",
      "coach: 0 observations have no model connection (0.0 percent)\n",
      "bus: 0 observations have no model connection (0.0 percent)\n",
      "air: 4 observations have no model connection (15.384615384615385 percent)\n",
      "car: 0 observations have no model connection (0.0 percent)\n",
      "walk: 0 observations have no model connection (0.0 percent)\n"
     ]
    }
   ],
   "source": [
    "# How many observations must be dropped later and what are their shares?\n",
    "mode_dict = {1: 'rail_short', 2: 'rail_long',\n",
    "             3: 'coach', 4: 'bus', 5: 'air', 6: 'car', 7: 'walk'}\n",
    "mode_dict = {v:k for k,v in mode_dict.items()}\n",
    "for t in mode_dict.keys():\n",
    "    k = len(trips.loc[((trips['mode_model']==mode_dict[t]) & (trips['cost_'+t]==np.inf))])\n",
    "    print('{}: {} observations have no model connection ({} percent)'.format(\n",
    "        t, k, k/len(trips.loc[trips['mode_model']==mode_dict[t]])*100))"
   ]
  },
  {
   "cell_type": "markdown",
   "metadata": {},
   "source": [
    "Dropping a few percent of rail observations will skew the calibration towards the car. Thus, the same share of car, bus, coach trips from the same distance categories should be dropped as well. Air transport has so few observations that correct calibration of air trips is not possible with dataset anyways."
   ]
  },
  {
   "cell_type": "code",
   "execution_count": 34,
   "metadata": {},
   "outputs": [
    {
     "data": {
      "text/plain": [
       "<AxesSubplot:xlabel='purpose_vp'>"
      ]
     },
     "execution_count": 34,
     "metadata": {},
     "output_type": "execute_result"
    },
    {
     "data": {
      "image/png": "[encoded data removed]",
      "text/plain": [
       "<Figure size 216x216 with 1 Axes>"
      ]
     },
     "metadata": {
      "needs_background": "light"
     },
     "output_type": "display_data"
    }
   ],
   "source": [
    "# Purpose distribution of trips that will be dropped\n",
    "trips.loc[((trips['mode_model']==2) & (trips['cost_rail_long']==np.inf))\n",
    "         ].groupby('purpose_vp').agg({'origin': 'count'}).plot.bar(figsize=(3,3))"
   ]
  },
  {
   "cell_type": "markdown",
   "metadata": {},
   "source": [
    "## Accessibility\n",
    "Another important variable for the mode choice model is the accessibility of transport modes. Cars are highly accessible (1), only if there is one available. We apply the formula from the model. \n",
    "It considers the distance to the next train/bus stop from the start and end position."
   ]
  },
  {
   "cell_type": "code",
   "execution_count": 35,
   "metadata": {},
   "outputs": [],
   "source": [
    "def accessibility(dist_origin, dist_destination, weight=20):\n",
    "    '''calculate an accessibility metric based on distances\n",
    "    :param dist_origin: distance to the next mean of transport from origin in km\n",
    "    :param dist_destination: distance from the used mean of transport to destination in km\n",
    "    :param weight: (optional) inverse weight of distances\n",
    "    :return: accessibility factor on a range from 0 to 1'''\n",
    "    return max(0, 1 - dist_origin/weight - dist_destination/weight)"
   ]
  },
  {
   "cell_type": "code",
   "execution_count": 36,
   "metadata": {},
   "outputs": [],
   "source": [
    "# The maximum accessibility for foot, bicycle and car is 1\n",
    "trips['accessibility_walk'] = 1\n",
    "trips['accessibility_car'] = trips['car_avail'].replace({9:0})"
   ]
  },
  {
   "cell_type": "code",
   "execution_count": 37,
   "metadata": {},
   "outputs": [],
   "source": [
    "# Rail\n",
    "# People don't differentiate between long and short distance accessibility\n",
    "# if there is at least one railway station nearby\n",
    "trips['accessibility_rail'] = [accessibility(o, d) for o, d in zip(\n",
    "    trips['dist_train_origin'], trips['dist_train_destination'])]"
   ]
  },
  {
   "cell_type": "code",
   "execution_count": 38,
   "metadata": {},
   "outputs": [],
   "source": [
    "# Bus\n",
    "trips['accessibility_bus'] = [accessibility(o, d) for o, d in zip(\n",
    "    trips['dist_bus_origin'], trips['dist_bus_destination'])]"
   ]
  },
  {
   "cell_type": "code",
   "execution_count": 39,
   "metadata": {},
   "outputs": [],
   "source": [
    "# Coach\n",
    "# Assume: It has the same accessibility as rail\n",
    "trips['accessibility_coach'] = trips['accessibility_rail']"
   ]
  },
  {
   "cell_type": "code",
   "execution_count": 40,
   "metadata": {},
   "outputs": [],
   "source": [
    "# Air\n",
    "# Take the model's accessibility from the shortest path\n",
    "air_dict = sm.pt_los.sort_values('length').loc[\n",
    "    sm.pt_los['route_type']=='air'].groupby(\n",
    "    ['origin', 'destination']).first()['accessibility'].to_dict()"
   ]
  },
  {
   "cell_type": "code",
   "execution_count": 41,
   "metadata": {},
   "outputs": [],
   "source": [
    "trips['accessibility_air'] = [air_dict[(o,d)]\n",
    "                              if (o,d) in air_dict.keys() else 0\n",
    "                              for o, d in zip(trips['origin'], trips['destination'])]"
   ]
  },
  {
   "cell_type": "code",
   "execution_count": 42,
   "metadata": {},
   "outputs": [
    {
     "data": {
      "text/html": [
       "<div>\n",
       "<style scoped>\n",
       "    .dataframe tbody tr th:only-of-type {\n",
       "        vertical-align: middle;\n",
       "    }\n",
       "\n",
       "    .dataframe tbody tr th {\n",
       "        vertical-align: top;\n",
       "    }\n",
       "\n",
       "    .dataframe thead th {\n",
       "        text-align: right;\n",
       "    }\n",
       "</style>\n",
       "<table border=\"1\" class=\"dataframe\">\n",
       "  <thead>\n",
       "    <tr style=\"text-align: right;\">\n",
       "      <th></th>\n",
       "      <th>accessibility_car</th>\n",
       "      <th>accessibility_rail</th>\n",
       "      <th>accessibility_coach</th>\n",
       "      <th>accessibility_bus</th>\n",
       "      <th>accessibility_air</th>\n",
       "    </tr>\n",
       "    <tr>\n",
       "      <th>mode_model</th>\n",
       "      <th></th>\n",
       "      <th></th>\n",
       "      <th></th>\n",
       "      <th></th>\n",
       "      <th></th>\n",
       "    </tr>\n",
       "  </thead>\n",
       "  <tbody>\n",
       "    <tr>\n",
       "      <th>1</th>\n",
       "      <td>0.813308</td>\n",
       "      <td>0.717954</td>\n",
       "      <td>0.717954</td>\n",
       "      <td>0.761731</td>\n",
       "      <td>0.000267</td>\n",
       "    </tr>\n",
       "    <tr>\n",
       "      <th>2</th>\n",
       "      <td>0.746369</td>\n",
       "      <td>0.708771</td>\n",
       "      <td>0.708771</td>\n",
       "      <td>0.774749</td>\n",
       "      <td>0.006570</td>\n",
       "    </tr>\n",
       "    <tr>\n",
       "      <th>3</th>\n",
       "      <td>0.815668</td>\n",
       "      <td>0.540553</td>\n",
       "      <td>0.540553</td>\n",
       "      <td>0.625576</td>\n",
       "      <td>0.000634</td>\n",
       "    </tr>\n",
       "    <tr>\n",
       "      <th>4</th>\n",
       "      <td>0.838263</td>\n",
       "      <td>0.581388</td>\n",
       "      <td>0.581388</td>\n",
       "      <td>0.698584</td>\n",
       "      <td>0.002042</td>\n",
       "    </tr>\n",
       "    <tr>\n",
       "      <th>5</th>\n",
       "      <td>0.961538</td>\n",
       "      <td>0.173077</td>\n",
       "      <td>0.173077</td>\n",
       "      <td>0.259615</td>\n",
       "      <td>0.025257</td>\n",
       "    </tr>\n",
       "    <tr>\n",
       "      <th>6</th>\n",
       "      <td>0.986149</td>\n",
       "      <td>0.619862</td>\n",
       "      <td>0.619862</td>\n",
       "      <td>0.734452</td>\n",
       "      <td>0.000475</td>\n",
       "    </tr>\n",
       "    <tr>\n",
       "      <th>7</th>\n",
       "      <td>0.893798</td>\n",
       "      <td>0.326508</td>\n",
       "      <td>0.326508</td>\n",
       "      <td>0.380331</td>\n",
       "      <td>0.000687</td>\n",
       "    </tr>\n",
       "  </tbody>\n",
       "</table>\n",
       "</div>"
      ],
      "text/plain": [
       "            accessibility_car  accessibility_rail  accessibility_coach  \\\n",
       "mode_model                                                               \n",
       "1                    0.813308            0.717954             0.717954   \n",
       "2                    0.746369            0.708771             0.708771   \n",
       "3                    0.815668            0.540553             0.540553   \n",
       "4                    0.838263            0.581388             0.581388   \n",
       "5                    0.961538            0.173077             0.173077   \n",
       "6                    0.986149            0.619862             0.619862   \n",
       "7                    0.893798            0.326508             0.326508   \n",
       "\n",
       "            accessibility_bus  accessibility_air  \n",
       "mode_model                                        \n",
       "1                    0.761731           0.000267  \n",
       "2                    0.774749           0.006570  \n",
       "3                    0.625576           0.000634  \n",
       "4                    0.698584           0.002042  \n",
       "5                    0.259615           0.025257  \n",
       "6                    0.734452           0.000475  \n",
       "7                    0.380331           0.000687  "
      ]
     },
     "execution_count": 42,
     "metadata": {},
     "output_type": "execute_result"
    }
   ],
   "source": [
    "# Summary\n",
    "trips.groupby('mode_model').agg(\n",
    "    {'accessibility_car': 'mean', 'accessibility_rail': 'mean',\n",
    "     'accessibility_coach': 'mean', 'accessibility_bus': 'mean',\n",
    "     'accessibility_air': 'mean'})"
   ]
  },
  {
   "cell_type": "code",
   "execution_count": 43,
   "metadata": {},
   "outputs": [
    {
     "data": {
      "text/plain": [
       "accessibility_car      0.963706\n",
       "accessibility_rail     0.617631\n",
       "accessibility_coach    0.617631\n",
       "accessibility_bus      0.725333\n",
       "accessibility_air      0.000595\n",
       "dtype: float64"
      ]
     },
     "execution_count": 43,
     "metadata": {},
     "output_type": "execute_result"
    }
   ],
   "source": [
    "trips[['accessibility_car', 'accessibility_rail', 'accessibility_coach',\n",
    "       'accessibility_bus', 'accessibility_air']].mean()"
   ]
  },
  {
   "cell_type": "code",
   "execution_count": 44,
   "metadata": {},
   "outputs": [
    {
     "name": "stdout",
     "output_type": "stream",
     "text": [
      "rail: 111 observations have zero accessibility (12.402234636871508 percent)\n",
      "coach: 58 observations have zero accessibility (26.72811059907834 percent)\n",
      "bus: 617 observations have zero accessibility (19.414726242920075 percent)\n",
      "air: 20 observations have zero accessibility (76.92307692307693 percent)\n",
      "car: 1026 observations have zero accessibility (1.3851200842412215 percent)\n",
      "walk: 0 observations have zero accessibility (0.0 percent)\n"
     ]
    }
   ],
   "source": [
    "# How many observations have zero accessibility even though they were chosen?\n",
    "mode_dict = {1: 'rail', 2: 'rail',\n",
    "             3: 'coach', 4: 'bus', 5: 'air', 6: 'car', 7: 'walk'}\n",
    "mode_dict = {v:k for k,v in mode_dict.items()}\n",
    "for t in mode_dict.keys():\n",
    "    k = len(trips.loc[((trips['mode_model']==mode_dict[t]) & (trips['accessibility_'+t]==0))])\n",
    "    print('{}: {} observations have zero accessibility ({} percent)'.format(\n",
    "        t, k, k/len(trips.loc[trips['mode_model']==mode_dict[t]])*100))"
   ]
  },
  {
   "cell_type": "markdown",
   "metadata": {},
   "source": [
    "### Save calibration dataset"
   ]
  },
  {
   "cell_type": "code",
   "execution_count": 45,
   "metadata": {},
   "outputs": [
    {
     "data": {
      "text/html": [
       "<div>\n",
       "<style scoped>\n",
       "    .dataframe tbody tr th:only-of-type {\n",
       "        vertical-align: middle;\n",
       "    }\n",
       "\n",
       "    .dataframe tbody tr th {\n",
       "        vertical-align: top;\n",
       "    }\n",
       "\n",
       "    .dataframe thead th {\n",
       "        text-align: right;\n",
       "    }\n",
       "</style>\n",
       "<table border=\"1\" class=\"dataframe\">\n",
       "  <thead>\n",
       "    <tr style=\"text-align: right;\">\n",
       "      <th></th>\n",
       "      <th>origin</th>\n",
       "      <th>destination</th>\n",
       "      <th>SKTYP</th>\n",
       "      <th>distance</th>\n",
       "      <th>distance_routed</th>\n",
       "      <th>duration</th>\n",
       "      <th>purpose</th>\n",
       "      <th>mode</th>\n",
       "      <th>mode_combo</th>\n",
       "      <th>n_persons</th>\n",
       "      <th>...</th>\n",
       "      <th>cost_bus</th>\n",
       "      <th>cost_coach</th>\n",
       "      <th>cost_air</th>\n",
       "      <th>cost_rail</th>\n",
       "      <th>accessibility_walk</th>\n",
       "      <th>accessibility_car</th>\n",
       "      <th>accessibility_rail</th>\n",
       "      <th>accessibility_bus</th>\n",
       "      <th>accessibility_coach</th>\n",
       "      <th>accessibility_air</th>\n",
       "    </tr>\n",
       "  </thead>\n",
       "  <tbody>\n",
       "  </tbody>\n",
       "</table>\n",
       "<p>0 rows × 44 columns</p>\n",
       "</div>"
      ],
      "text/plain": [
       "Empty DataFrame\n",
       "Columns: [origin, destination, SKTYP, distance, distance_routed, duration, purpose, mode, mode_combo, n_persons, car_avail, ticket_type, mode_affinity, dist_train_origin, dist_bus_origin, dist_train_destination, dist_bus_destination, W_DETAIL, W_SO2, urbanisation, purpose_vp, mode_model, time_car, time_coach, time_rail_short, time_rail_long, time_bus, time_air, time_walk, time_rail, cost_walk, cost_car, cost_rail_short, cost_rail_long, cost_bus, cost_coach, cost_air, cost_rail, accessibility_walk, accessibility_car, accessibility_rail, accessibility_bus, accessibility_coach, accessibility_air]\n",
       "Index: []\n",
       "\n",
       "[0 rows x 44 columns]"
      ]
     },
     "execution_count": 45,
     "metadata": {},
     "output_type": "execute_result"
    }
   ],
   "source": [
    "trips.loc[trips.isna().any(axis=1)]"
   ]
  },
  {
   "cell_type": "code",
   "execution_count": 46,
   "metadata": {},
   "outputs": [],
   "source": [
    "trips.to_csv(input_path + 'calibration_inter-cellular_trips_MiD2017.csv')"
   ]
  }
 ],
 "metadata": {
  "kernelspec": {
   "display_name": "Python 3",
   "language": "python",
   "name": "python3"
  },
  "language_info": {
   "codemirror_mode": {
    "name": "ipython",
    "version": 3
   },
   "file_extension": ".py",
   "mimetype": "text/x-python",
   "name": "python",
   "nbconvert_exporter": "python",
   "pygments_lexer": "ipython3",
   "version": "3.8.1"
  }
 },
 "nbformat": 4,
 "nbformat_minor": 4
}
