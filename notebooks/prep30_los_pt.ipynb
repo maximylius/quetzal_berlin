{
 "cells": [
  {
   "cell_type": "code",
   "execution_count": 1,
   "metadata": {},
   "outputs": [
    {
     "name": "stderr",
     "output_type": "stream",
     "text": [
      "In C:\\Users\\marlin.arnz\\AppData\\Local\\Continuum\\miniconda3\\envs\\quetzal\\lib\\site-packages\\matplotlib\\mpl-data\\stylelib\\_classic_test.mplstyle: \n",
      "The text.latex.preview rcparam was deprecated in Matplotlib 3.3 and will be removed two minor releases later.\n",
      "In C:\\Users\\marlin.arnz\\AppData\\Local\\Continuum\\miniconda3\\envs\\quetzal\\lib\\site-packages\\matplotlib\\mpl-data\\stylelib\\_classic_test.mplstyle: \n",
      "The mathtext.fallback_to_cm rcparam was deprecated in Matplotlib 3.3 and will be removed two minor releases later.\n",
      "In C:\\Users\\marlin.arnz\\AppData\\Local\\Continuum\\miniconda3\\envs\\quetzal\\lib\\site-packages\\matplotlib\\mpl-data\\stylelib\\_classic_test.mplstyle: Support for setting the 'mathtext.fallback_to_cm' rcParam is deprecated since 3.3 and will be removed two minor releases later; use 'mathtext.fallback : 'cm' instead.\n",
      "In C:\\Users\\marlin.arnz\\AppData\\Local\\Continuum\\miniconda3\\envs\\quetzal\\lib\\site-packages\\matplotlib\\mpl-data\\stylelib\\_classic_test.mplstyle: \n",
      "The validate_bool_maybe_none function was deprecated in Matplotlib 3.3 and will be removed two minor releases later.\n",
      "In C:\\Users\\marlin.arnz\\AppData\\Local\\Continuum\\miniconda3\\envs\\quetzal\\lib\\site-packages\\matplotlib\\mpl-data\\stylelib\\_classic_test.mplstyle: \n",
      "The savefig.jpeg_quality rcparam was deprecated in Matplotlib 3.3 and will be removed two minor releases later.\n",
      "In C:\\Users\\marlin.arnz\\AppData\\Local\\Continuum\\miniconda3\\envs\\quetzal\\lib\\site-packages\\matplotlib\\mpl-data\\stylelib\\_classic_test.mplstyle: \n",
      "The keymap.all_axes rcparam was deprecated in Matplotlib 3.3 and will be removed two minor releases later.\n",
      "In C:\\Users\\marlin.arnz\\AppData\\Local\\Continuum\\miniconda3\\envs\\quetzal\\lib\\site-packages\\matplotlib\\mpl-data\\stylelib\\_classic_test.mplstyle: \n",
      "The animation.avconv_path rcparam was deprecated in Matplotlib 3.3 and will be removed two minor releases later.\n",
      "In C:\\Users\\marlin.arnz\\AppData\\Local\\Continuum\\miniconda3\\envs\\quetzal\\lib\\site-packages\\matplotlib\\mpl-data\\stylelib\\_classic_test.mplstyle: \n",
      "The animation.avconv_args rcparam was deprecated in Matplotlib 3.3 and will be removed two minor releases later.\n"
     ]
    }
   ],
   "source": [
    "import numpy as np\n",
    "import pandas as pd\n",
    "from tqdm import tqdm\n",
    "from geopy.distance import geodesic\n",
    "from quetzal.model import stepmodel\n",
    "from quetzal.analysis import analysis"
   ]
  },
  {
   "cell_type": "markdown",
   "metadata": {},
   "source": [
    "# Preparation of the LoS tables\n",
    "## Saves a StepModel with shortest paths and LoS attributes for the PT network\n",
    "## Needs aggregated PT networks"
   ]
  },
  {
   "cell_type": "code",
   "execution_count": 2,
   "metadata": {},
   "outputs": [],
   "source": [
    "input_path = '../input/'\n",
    "output_path = '../output/'\n",
    "model_path = '../model/'"
   ]
  },
  {
   "cell_type": "code",
   "execution_count": 3,
   "metadata": {},
   "outputs": [],
   "source": [
    "sm = stepmodel.read_json(model_path + 'de_pt_network_agg')\n",
    "ae = stepmodel.read_json(model_path + 'de_pt_access_egress')"
   ]
  },
  {
   "cell_type": "code",
   "execution_count": 4,
   "metadata": {},
   "outputs": [],
   "source": [
    "sm.centroids = ae.centroids\n",
    "sm.footpaths = ae.footpaths\n",
    "sm.zone_to_transit = ae.zone_to_transit"
   ]
  },
  {
   "cell_type": "markdown",
   "metadata": {},
   "source": [
    "### Prepare links for pathfinder"
   ]
  },
  {
   "cell_type": "code",
   "execution_count": 5,
   "metadata": {},
   "outputs": [
    {
     "name": "stderr",
     "output_type": "stream",
     "text": [
      "100%|████████████████████████████████████████████████████████████████████████| 384918/384918 [01:51<00:00, 3457.24it/s]\n"
     ]
    }
   ],
   "source": [
    "# Generate length for PT links as the crow flies\n",
    "if 'length' not in sm.links.columns:\n",
    "    tqdm.pandas()\n",
    "    sm.links['length'] = sm.links['geometry'].progress_apply(\n",
    "        lambda l: int(geodesic(l.coords[0], l.coords[-1]).m))"
   ]
  },
  {
   "cell_type": "code",
   "execution_count": 6,
   "metadata": {},
   "outputs": [],
   "source": [
    "# Add average waiting time (half the headway) on links\n",
    "if True:#'headway' not in sm.links.columns:\n",
    "    sm.links['headway'] = 10*60*2\n",
    "    # Air trips require security checks and so on...\n",
    "    sm.links.loc[sm.links['route_type']=='air', 'headway'] = 45*60*2"
   ]
  },
  {
   "cell_type": "code",
   "execution_count": 7,
   "metadata": {},
   "outputs": [
    {
     "data": {
      "text/html": [
       "<div>\n",
       "<style scoped>\n",
       "    .dataframe tbody tr th:only-of-type {\n",
       "        vertical-align: middle;\n",
       "    }\n",
       "\n",
       "    .dataframe tbody tr th {\n",
       "        vertical-align: top;\n",
       "    }\n",
       "\n",
       "    .dataframe thead th {\n",
       "        text-align: right;\n",
       "    }\n",
       "</style>\n",
       "<table border=\"1\" class=\"dataframe\">\n",
       "  <thead>\n",
       "    <tr style=\"text-align: right;\">\n",
       "      <th></th>\n",
       "      <th>a</th>\n",
       "      <th>b</th>\n",
       "      <th>route_type</th>\n",
       "      <th>geometry</th>\n",
       "      <th>link_sequence</th>\n",
       "      <th>route_id</th>\n",
       "      <th>time</th>\n",
       "      <th>trip_id</th>\n",
       "      <th>length</th>\n",
       "      <th>headway</th>\n",
       "    </tr>\n",
       "    <tr>\n",
       "      <th>index</th>\n",
       "      <th></th>\n",
       "      <th></th>\n",
       "      <th></th>\n",
       "      <th></th>\n",
       "      <th></th>\n",
       "      <th></th>\n",
       "      <th></th>\n",
       "      <th></th>\n",
       "      <th></th>\n",
       "      <th></th>\n",
       "    </tr>\n",
       "  </thead>\n",
       "  <tbody>\n",
       "    <tr>\n",
       "      <th>coach_2651</th>\n",
       "      <td>coach_node_FLIXBUS:21</td>\n",
       "      <td>coach_node_FLIXBUS:28</td>\n",
       "      <td>coach</td>\n",
       "      <td>LINESTRING (11.08550 49.44772, 9.93432 49.80161)</td>\n",
       "      <td>2</td>\n",
       "      <td>coach_FLIXBUS:028</td>\n",
       "      <td>6000</td>\n",
       "      <td>coach_FLIXBUS:028:10:10:30:00Z</td>\n",
       "      <td>133095</td>\n",
       "      <td>1200</td>\n",
       "    </tr>\n",
       "  </tbody>\n",
       "</table>\n",
       "</div>"
      ],
      "text/plain": [
       "                                a                      b route_type  \\\n",
       "index                                                                 \n",
       "coach_2651  coach_node_FLIXBUS:21  coach_node_FLIXBUS:28      coach   \n",
       "\n",
       "                                                    geometry  link_sequence  \\\n",
       "index                                                                         \n",
       "coach_2651  LINESTRING (11.08550 49.44772, 9.93432 49.80161)              2   \n",
       "\n",
       "                     route_id  time                         trip_id  length  \\\n",
       "index                                                                         \n",
       "coach_2651  coach_FLIXBUS:028  6000  coach_FLIXBUS:028:10:10:30:00Z  133095   \n",
       "\n",
       "            headway  \n",
       "index                \n",
       "coach_2651     1200  "
      ]
     },
     "execution_count": 7,
     "metadata": {},
     "output_type": "execute_result"
    }
   ],
   "source": [
    "sm.links.sample()"
   ]
  },
  {
   "cell_type": "code",
   "execution_count": 8,
   "metadata": {},
   "outputs": [
    {
     "name": "stdout",
     "output_type": "stream",
     "text": [
      "Generated OD set with 217335 pairs\n"
     ]
    }
   ],
   "source": [
    "# Load OD pairs from volumes if available\n",
    "od_set = None\n",
    "try:\n",
    "    v = stepmodel.read_json(model_path + 'de_volumes')\n",
    "    od_set = set([tuple(l) for l in v.volumes[['origin', 'destination']].values.tolist()])\n",
    "    print('Generated OD set with {} pairs'.format(len(od_set)))\n",
    "except:\n",
    "    print('The volumes file is not (yet) available')"
   ]
  },
  {
   "cell_type": "markdown",
   "metadata": {},
   "source": [
    "### Apply PT pathfinder\n",
    "It generates the LoS table with shortest paths for each origin destination pair"
   ]
  },
  {
   "cell_type": "code",
   "execution_count": 9,
   "metadata": {
    "scrolled": false
   },
   "outputs": [
    {
     "data": {
      "text/plain": [
       "\"This cell would run all possible mode combinations\\nsm.step_pt_pathfinder(\\n    broken_routes=False,\\n    broken_modes=True, # Allow different mode combinations\\n    route_column='route_id',\\n    mode_column='route_type',\\n    boarding_time=0, # Assumption\\n    alighting_time=0,\\n    speedup=True,\\n    walk_on_road=False,\\n    keep_pathfinder=False, # Saves it as attribute for multiple iterations\\n    force=False, # If indices are inconsistent\\n    path_analysis=True, # Create path, time and length columns\\n    drop_duplicates=True, # Considering duplicate paths\\n    cutoff=np.inf, # distance limit between points for Dijkstra algorithm\\n    od_set=od_set) # Exclude OD pairs that are not used\""
      ]
     },
     "execution_count": 9,
     "metadata": {},
     "output_type": "execute_result"
    }
   ],
   "source": [
    "'''This cell would run all possible mode combinations\n",
    "sm.step_pt_pathfinder(\n",
    "    broken_routes=False,\n",
    "    broken_modes=True, # Allow different mode combinations\n",
    "    route_column='route_id',\n",
    "    mode_column='route_type',\n",
    "    boarding_time=0, # Assumption\n",
    "    alighting_time=0,\n",
    "    speedup=True,\n",
    "    walk_on_road=False,\n",
    "    keep_pathfinder=False, # Saves it as attribute for multiple iterations\n",
    "    force=False, # If indices are inconsistent\n",
    "    path_analysis=True, # Create path, time and length columns\n",
    "    drop_duplicates=True, # Considering duplicate paths\n",
    "    cutoff=np.inf, # distance limit between points for Dijkstra algorithm\n",
    "    od_set=od_set) # Exclude OD pairs that are not used'''"
   ]
  },
  {
   "cell_type": "code",
   "execution_count": 10,
   "metadata": {},
   "outputs": [],
   "source": [
    "# We don't want the algorithm to search paths for all mode combinations.\n",
    "# Thus, we have to extract the pathfinder and search them manually.\n",
    "# This step yields shortest paths regardless of the mode combination.\n",
    "sm.step_pt_pathfinder(\n",
    "    broken_routes=False,\n",
    "    broken_modes=False,\n",
    "    keep_pathfinder=True, # get the PPF\n",
    "    mode_column='route_type',\n",
    "    route_column='route_id',\n",
    "    speedup=True,\n",
    "    cutoff=np.inf,\n",
    "    walk_on_road=False,\n",
    "    od_set=od_set,\n",
    "    path_analysis=False,\n",
    ")\n",
    "ppf = sm.publicpathfinder"
   ]
  },
  {
   "cell_type": "code",
   "execution_count": 11,
   "metadata": {},
   "outputs": [
    {
     "data": {
      "text/plain": [
       "214089"
      ]
     },
     "execution_count": 11,
     "metadata": {},
     "output_type": "execute_result"
    }
   ],
   "source": [
    "len(sm.pt_los)"
   ]
  },
  {
   "cell_type": "code",
   "execution_count": 12,
   "metadata": {},
   "outputs": [
    {
     "data": {
      "text/plain": [
       "[{'air', 'bus', 'rail_long_distance', 'rail_short_distance'},\n",
       " {'air', 'bus', 'rail_long_distance'},\n",
       " {'air', 'bus', 'rail_short_distance'},\n",
       " {'air', 'bus'},\n",
       " {'air', 'rail_long_distance', 'rail_short_distance'},\n",
       " {'air', 'rail_long_distance'},\n",
       " {'air', 'rail_short_distance'},\n",
       " {'air'},\n",
       " {'bus', 'coach'},\n",
       " {'bus', 'rail_long_distance', 'rail_short_distance'},\n",
       " {'bus', 'rail_long_distance'},\n",
       " {'bus', 'rail_short_distance'},\n",
       " {'bus'},\n",
       " {'coach'},\n",
       " {'rail_long_distance', 'rail_short_distance'},\n",
       " {'rail_long_distance'},\n",
       " {'rail_short_distance'},\n",
       " set()]"
      ]
     },
     "execution_count": 12,
     "metadata": {},
     "output_type": "execute_result"
    }
   ],
   "source": [
    "# Now, build custom mode combinations\n",
    "# People just don't go by coach and then switch to rail or airplane within Germany\n",
    "ppf.build_mode_combinations(mode_column='route_type')\n",
    "ppf.mode_combinations = [x for x in ppf.mode_combinations\n",
    "                         if not ('coach' in x and\n",
    "                         ('rail_long_distance' in x or\n",
    "                          'rail_short_distance' in x or\n",
    "                          'air' in x))]\n",
    "ppf.mode_combinations"
   ]
  },
  {
   "cell_type": "code",
   "execution_count": 13,
   "metadata": {},
   "outputs": [
    {
     "name": "stderr",
     "output_type": "stream",
     "text": [
      "breaking modes: set() : 100%|█████████████████████████████████████████████████████████| 18/18 [42:12<00:00, 140.68s/it]\n"
     ]
    }
   ],
   "source": [
    "# Run the pathfinder for all mode combinations\n",
    "ppf.find_broken_mode_paths(workers=3, # CPU cores\n",
    "                           cutoff=np.inf,\n",
    "                           od_set=od_set,\n",
    "                           mode_column='route_type')"
   ]
  },
  {
   "cell_type": "code",
   "execution_count": 14,
   "metadata": {},
   "outputs": [
    {
     "data": {
      "text/html": [
       "<div>\n",
       "<style scoped>\n",
       "    .dataframe tbody tr th:only-of-type {\n",
       "        vertical-align: middle;\n",
       "    }\n",
       "\n",
       "    .dataframe tbody tr th {\n",
       "        vertical-align: top;\n",
       "    }\n",
       "\n",
       "    .dataframe thead th {\n",
       "        text-align: right;\n",
       "    }\n",
       "</style>\n",
       "<table border=\"1\" class=\"dataframe\">\n",
       "  <thead>\n",
       "    <tr style=\"text-align: right;\">\n",
       "      <th></th>\n",
       "      <th>origin</th>\n",
       "      <th>destination</th>\n",
       "      <th>gtime</th>\n",
       "      <th>path</th>\n",
       "      <th>reversed</th>\n",
       "      <th>pathfinder_session</th>\n",
       "      <th>broken_modes</th>\n",
       "    </tr>\n",
       "  </thead>\n",
       "  <tbody>\n",
       "    <tr>\n",
       "      <th>118369</th>\n",
       "      <td>DE929_1</td>\n",
       "      <td>DE735</td>\n",
       "      <td>14327.694118</td>\n",
       "      <td>[DE929_1, rail_short_node_14970, rail_short_43...</td>\n",
       "      <td>False</td>\n",
       "      <td>mode_breaker</td>\n",
       "      <td>{rail_long_distance}</td>\n",
       "    </tr>\n",
       "  </tbody>\n",
       "</table>\n",
       "</div>"
      ],
      "text/plain": [
       "         origin destination         gtime  \\\n",
       "118369  DE929_1       DE735  14327.694118   \n",
       "\n",
       "                                                     path  reversed  \\\n",
       "118369  [DE929_1, rail_short_node_14970, rail_short_43...     False   \n",
       "\n",
       "       pathfinder_session          broken_modes  \n",
       "118369       mode_breaker  {rail_long_distance}  "
      ]
     },
     "execution_count": 14,
     "metadata": {},
     "output_type": "execute_result"
    }
   ],
   "source": [
    "ppf.broken_mode_paths.sample()"
   ]
  },
  {
   "cell_type": "code",
   "execution_count": 15,
   "metadata": {},
   "outputs": [
    {
     "name": "stderr",
     "output_type": "stream",
     "text": [
      "path_analysis: 100%|███████████████████████████████████████████████████████| 3313481/3313481 [06:26<00:00, 8575.33it/s]\n"
     ]
    }
   ],
   "source": [
    "# Run the path analysis and assign paths as LoS table\n",
    "sm.pt_los = analysis.path_analysis_od_matrix(\n",
    "    od_matrix=ppf.broken_mode_paths,\n",
    "    links=sm.links,\n",
    "    nodes=sm.nodes,\n",
    "    centroids=sm.centroids)"
   ]
  },
  {
   "cell_type": "code",
   "execution_count": 16,
   "metadata": {},
   "outputs": [
    {
     "name": "stdout",
     "output_type": "stream",
     "text": [
      "3313481\n"
     ]
    },
    {
     "data": {
      "text/html": [
       "<div>\n",
       "<style scoped>\n",
       "    .dataframe tbody tr th:only-of-type {\n",
       "        vertical-align: middle;\n",
       "    }\n",
       "\n",
       "    .dataframe tbody tr th {\n",
       "        vertical-align: top;\n",
       "    }\n",
       "\n",
       "    .dataframe thead th {\n",
       "        text-align: right;\n",
       "    }\n",
       "</style>\n",
       "<table border=\"1\" class=\"dataframe\">\n",
       "  <thead>\n",
       "    <tr style=\"text-align: right;\">\n",
       "      <th></th>\n",
       "      <th>origin</th>\n",
       "      <th>destination</th>\n",
       "      <th>gtime</th>\n",
       "      <th>path</th>\n",
       "      <th>reversed</th>\n",
       "      <th>pathfinder_session</th>\n",
       "      <th>broken_modes</th>\n",
       "      <th>boardings</th>\n",
       "      <th>alightings</th>\n",
       "      <th>node_path</th>\n",
       "      <th>link_path</th>\n",
       "      <th>footpaths</th>\n",
       "      <th>ntlegs</th>\n",
       "      <th>transfers</th>\n",
       "      <th>boarding_links</th>\n",
       "      <th>alighting_links</th>\n",
       "      <th>all_walk</th>\n",
       "      <th>ntransfers</th>\n",
       "      <th>time_link_path</th>\n",
       "      <th>length_link_path</th>\n",
       "    </tr>\n",
       "  </thead>\n",
       "  <tbody>\n",
       "    <tr>\n",
       "      <th>98588</th>\n",
       "      <td>DE724</td>\n",
       "      <td>DE147</td>\n",
       "      <td>15792.317647</td>\n",
       "      <td>[DE724, rail_long_node_120, rail_short_node_10...</td>\n",
       "      <td>False</td>\n",
       "      <td>mode_breaker</td>\n",
       "      <td>{rail_short_distance, rail_long_distance}</td>\n",
       "      <td>[coach_node_FLIXBUS:1564, FRA]</td>\n",
       "      <td>[coach_node_FLIXBUS:38, FDH]</td>\n",
       "      <td>[rail_long_node_120, rail_short_node_10059, co...</td>\n",
       "      <td>[coach_6289, coach_6290, air_32]</td>\n",
       "      <td>[(rail_long_node_120, rail_short_node_10059), ...</td>\n",
       "      <td>[(DE724, rail_long_node_120), (FDH, DE147)]</td>\n",
       "      <td>[]</td>\n",
       "      <td>[coach_6289, air_32]</td>\n",
       "      <td>[coach_6290, air_32]</td>\n",
       "      <td>False</td>\n",
       "      <td>1</td>\n",
       "      <td>8400</td>\n",
       "      <td>370189</td>\n",
       "    </tr>\n",
       "    <tr>\n",
       "      <th>85490</th>\n",
       "      <td>DE40F</td>\n",
       "      <td>DE12A</td>\n",
       "      <td>34756.658824</td>\n",
       "      <td>[DE40F, rail_short_node_13029, rail_short_1200...</td>\n",
       "      <td>False</td>\n",
       "      <td>mode_breaker</td>\n",
       "      <td>{rail_long_distance, air, bus}</td>\n",
       "      <td>[rail_short_node_13029, rail_short_node_7084, ...</td>\n",
       "      <td>[rail_short_node_7084, rail_short_node_257, co...</td>\n",
       "      <td>[rail_short_node_13029, rail_short_node_7084, ...</td>\n",
       "      <td>[rail_short_120011, rail_short_120012, rail_sh...</td>\n",
       "      <td>[(rail_short_node_257, coach_node_FLIXBUS:2068...</td>\n",
       "      <td>[(DE40F, rail_short_node_13029), (rail_short_n...</td>\n",
       "      <td>[rail_short_node_7084, coach_node_FLIXBUS:37111]</td>\n",
       "      <td>[rail_short_120011, rail_short_10073, coach_11...</td>\n",
       "      <td>[rail_short_120013, rail_short_10083, coach_11...</td>\n",
       "      <td>False</td>\n",
       "      <td>6</td>\n",
       "      <td>27360</td>\n",
       "      <td>1008104</td>\n",
       "    </tr>\n",
       "    <tr>\n",
       "      <th>215044</th>\n",
       "      <td>DEG0J</td>\n",
       "      <td>DE80J_2</td>\n",
       "      <td>16366.270588</td>\n",
       "      <td>[DEG0J, bus_n_118350, bus_1000677, bus_n_4789,...</td>\n",
       "      <td>False</td>\n",
       "      <td>mode_breaker</td>\n",
       "      <td>{air}</td>\n",
       "      <td>[bus_n_118350, bus_n_119999, rail_long_node_50...</td>\n",
       "      <td>[bus_n_4789, bus_n_46513, rail_long_node_143, ...</td>\n",
       "      <td>[bus_n_118350, bus_n_4789, rail_long_node_1316...</td>\n",
       "      <td>[bus_1000677, bus_195187, rail_long_5210, rail...</td>\n",
       "      <td>[(bus_n_4789, rail_long_node_1316), (rail_long...</td>\n",
       "      <td>[(DEG0J, bus_n_118350), (rail_long_node_714, D...</td>\n",
       "      <td>[rail_long_node_143, rail_long_node_313]</td>\n",
       "      <td>[bus_1000677, bus_195187, rail_long_5210, rail...</td>\n",
       "      <td>[bus_1000677, bus_195187, rail_long_5210, rail...</td>\n",
       "      <td>False</td>\n",
       "      <td>4</td>\n",
       "      <td>12300</td>\n",
       "      <td>464708</td>\n",
       "    </tr>\n",
       "  </tbody>\n",
       "</table>\n",
       "</div>"
      ],
      "text/plain": [
       "       origin destination         gtime  \\\n",
       "98588   DE724       DE147  15792.317647   \n",
       "85490   DE40F       DE12A  34756.658824   \n",
       "215044  DEG0J     DE80J_2  16366.270588   \n",
       "\n",
       "                                                     path  reversed  \\\n",
       "98588   [DE724, rail_long_node_120, rail_short_node_10...     False   \n",
       "85490   [DE40F, rail_short_node_13029, rail_short_1200...     False   \n",
       "215044  [DEG0J, bus_n_118350, bus_1000677, bus_n_4789,...     False   \n",
       "\n",
       "       pathfinder_session                               broken_modes  \\\n",
       "98588        mode_breaker  {rail_short_distance, rail_long_distance}   \n",
       "85490        mode_breaker             {rail_long_distance, air, bus}   \n",
       "215044       mode_breaker                                      {air}   \n",
       "\n",
       "                                                boardings  \\\n",
       "98588                      [coach_node_FLIXBUS:1564, FRA]   \n",
       "85490   [rail_short_node_13029, rail_short_node_7084, ...   \n",
       "215044  [bus_n_118350, bus_n_119999, rail_long_node_50...   \n",
       "\n",
       "                                               alightings  \\\n",
       "98588                        [coach_node_FLIXBUS:38, FDH]   \n",
       "85490   [rail_short_node_7084, rail_short_node_257, co...   \n",
       "215044  [bus_n_4789, bus_n_46513, rail_long_node_143, ...   \n",
       "\n",
       "                                                node_path  \\\n",
       "98588   [rail_long_node_120, rail_short_node_10059, co...   \n",
       "85490   [rail_short_node_13029, rail_short_node_7084, ...   \n",
       "215044  [bus_n_118350, bus_n_4789, rail_long_node_1316...   \n",
       "\n",
       "                                                link_path  \\\n",
       "98588                    [coach_6289, coach_6290, air_32]   \n",
       "85490   [rail_short_120011, rail_short_120012, rail_sh...   \n",
       "215044  [bus_1000677, bus_195187, rail_long_5210, rail...   \n",
       "\n",
       "                                                footpaths  \\\n",
       "98588   [(rail_long_node_120, rail_short_node_10059), ...   \n",
       "85490   [(rail_short_node_257, coach_node_FLIXBUS:2068...   \n",
       "215044  [(bus_n_4789, rail_long_node_1316), (rail_long...   \n",
       "\n",
       "                                                   ntlegs  \\\n",
       "98588         [(DE724, rail_long_node_120), (FDH, DE147)]   \n",
       "85490   [(DE40F, rail_short_node_13029), (rail_short_n...   \n",
       "215044  [(DEG0J, bus_n_118350), (rail_long_node_714, D...   \n",
       "\n",
       "                                               transfers  \\\n",
       "98588                                                 []   \n",
       "85490   [rail_short_node_7084, coach_node_FLIXBUS:37111]   \n",
       "215044          [rail_long_node_143, rail_long_node_313]   \n",
       "\n",
       "                                           boarding_links  \\\n",
       "98588                                [coach_6289, air_32]   \n",
       "85490   [rail_short_120011, rail_short_10073, coach_11...   \n",
       "215044  [bus_1000677, bus_195187, rail_long_5210, rail...   \n",
       "\n",
       "                                          alighting_links  all_walk  \\\n",
       "98588                                [coach_6290, air_32]     False   \n",
       "85490   [rail_short_120013, rail_short_10083, coach_11...     False   \n",
       "215044  [bus_1000677, bus_195187, rail_long_5210, rail...     False   \n",
       "\n",
       "        ntransfers  time_link_path  length_link_path  \n",
       "98588            1            8400            370189  \n",
       "85490            6           27360           1008104  \n",
       "215044           4           12300            464708  "
      ]
     },
     "execution_count": 16,
     "metadata": {},
     "output_type": "execute_result"
    }
   ],
   "source": [
    "print(len(sm.pt_los.index))\n",
    "sm.pt_los.loc[sm.pt_los['origin']!=sm.pt_los['destination']].sample(3)"
   ]
  },
  {
   "cell_type": "markdown",
   "metadata": {},
   "source": [
    "### Add attributes to LoS table"
   ]
  },
  {
   "cell_type": "code",
   "execution_count": 17,
   "metadata": {},
   "outputs": [
    {
     "name": "stdout",
     "output_type": "stream",
     "text": [
      "Index(['origin', 'destination', 'gtime', 'path', 'reversed',\n",
      "       'pathfinder_session', 'broken_modes', 'boardings', 'alightings',\n",
      "       'node_path', 'link_path', 'footpaths', 'ntlegs', 'transfers',\n",
      "       'boarding_links', 'alighting_links', 'all_walk', 'ntransfers',\n",
      "       'time_link_path', 'length_link_path', 'access_time', 'footpath_time',\n",
      "       'in_vehicle_time', 'waiting_time', 'boarding_time', 'time'],\n",
      "      dtype='object')\n"
     ]
    }
   ],
   "source": [
    "# Disaggregate time into in-vehicle and access/egress\n",
    "sm.analysis_pt_time(boarding_time=0)\n",
    "print(sm.pt_los.columns)"
   ]
  },
  {
   "cell_type": "code",
   "execution_count": 18,
   "metadata": {},
   "outputs": [],
   "source": [
    "# Add price, parametrisation comes later\n",
    "sm.pt_los['price'] = 0"
   ]
  },
  {
   "cell_type": "code",
   "execution_count": 19,
   "metadata": {},
   "outputs": [],
   "source": [
    "# Add distances\n",
    "len_dict = sm.links['length'].to_dict()\n",
    "sm.pt_los['length'] = sm.pt_los['link_path'].apply(lambda p: sum([len_dict[l] for l in p]))"
   ]
  },
  {
   "cell_type": "code",
   "execution_count": 20,
   "metadata": {},
   "outputs": [],
   "source": [
    "# Add route_types\n",
    "type_dict = sm.links['route_type'].to_dict()\n",
    "sm.pt_los['route_types'] = [set([type_dict[link] for link in l])\n",
    "                            for l in list(sm.pt_los['link_path'])]"
   ]
  },
  {
   "cell_type": "code",
   "execution_count": 21,
   "metadata": {},
   "outputs": [],
   "source": [
    "# Add main route_type based on a hierarchy\n",
    "hierarchy = ['air', 'coach', 'rail_long_distance', 'rail_short_distance', 'bus', 'walk']\n",
    "def main_type(types):\n",
    "    t = hierarchy[-1]\n",
    "    try:\n",
    "        t = hierarchy[min([hierarchy.index(t) for t in types])]\n",
    "    except ValueError: # empty types set\n",
    "        pass\n",
    "    return t\n",
    "sm.pt_los['route_type'] = sm.pt_los['route_types'].apply(main_type)"
   ]
  },
  {
   "cell_type": "code",
   "execution_count": 22,
   "metadata": {},
   "outputs": [],
   "source": [
    "# Add number of transfers\n",
    "#sm.pt_los['ntransfers'] = sm.pt_los['boardings'].apply(lambda l: max(0, len(l) - 1))"
   ]
  },
  {
   "cell_type": "code",
   "execution_count": 23,
   "metadata": {},
   "outputs": [
    {
     "data": {
      "text/html": [
       "<div>\n",
       "<style scoped>\n",
       "    .dataframe tbody tr th:only-of-type {\n",
       "        vertical-align: middle;\n",
       "    }\n",
       "\n",
       "    .dataframe tbody tr th {\n",
       "        vertical-align: top;\n",
       "    }\n",
       "\n",
       "    .dataframe thead th {\n",
       "        text-align: right;\n",
       "    }\n",
       "</style>\n",
       "<table border=\"1\" class=\"dataframe\">\n",
       "  <thead>\n",
       "    <tr style=\"text-align: right;\">\n",
       "      <th></th>\n",
       "      <th>origin</th>\n",
       "      <th>destination</th>\n",
       "      <th>gtime</th>\n",
       "      <th>path</th>\n",
       "      <th>reversed</th>\n",
       "      <th>pathfinder_session</th>\n",
       "      <th>broken_modes</th>\n",
       "      <th>boardings</th>\n",
       "      <th>alightings</th>\n",
       "      <th>node_path</th>\n",
       "      <th>...</th>\n",
       "      <th>access_time</th>\n",
       "      <th>footpath_time</th>\n",
       "      <th>in_vehicle_time</th>\n",
       "      <th>waiting_time</th>\n",
       "      <th>boarding_time</th>\n",
       "      <th>time</th>\n",
       "      <th>price</th>\n",
       "      <th>length</th>\n",
       "      <th>route_types</th>\n",
       "      <th>route_type</th>\n",
       "    </tr>\n",
       "  </thead>\n",
       "  <tbody>\n",
       "    <tr>\n",
       "      <th>133912</th>\n",
       "      <td>DEA11</td>\n",
       "      <td>DEB18</td>\n",
       "      <td>13616.623529</td>\n",
       "      <td>[DEA11, rail_long_node_731, rail_long_200, rai...</td>\n",
       "      <td>False</td>\n",
       "      <td>mode_breaker</td>\n",
       "      <td>{coach, bus}</td>\n",
       "      <td>[rail_long_node_731, rail_short_node_2446, rai...</td>\n",
       "      <td>[rail_long_node_238, rail_short_node_13151, ra...</td>\n",
       "      <td>[rail_long_node_731, rail_long_node_238, rail_...</td>\n",
       "      <td>...</td>\n",
       "      <td>1267.623529</td>\n",
       "      <td>0</td>\n",
       "      <td>6540</td>\n",
       "      <td>2400.0</td>\n",
       "      <td>0</td>\n",
       "      <td>10207.623529</td>\n",
       "      <td>0</td>\n",
       "      <td>179840</td>\n",
       "      <td>{rail_short_distance, rail_long_distance}</td>\n",
       "      <td>rail_long_distance</td>\n",
       "    </tr>\n",
       "    <tr>\n",
       "      <th>184257</th>\n",
       "      <td>DED2C_1</td>\n",
       "      <td>DE934</td>\n",
       "      <td>19725.000000</td>\n",
       "      <td>[DED2C_1, bus_n_49163, bus_1529523, bus_152952...</td>\n",
       "      <td>False</td>\n",
       "      <td>mode_breaker</td>\n",
       "      <td>{air}</td>\n",
       "      <td>[bus_n_49163, bus_n_19090, bus_n_126421, bus_n...</td>\n",
       "      <td>[bus_n_23918, bus_n_126421, bus_n_300075, bus_...</td>\n",
       "      <td>[bus_n_49163, bus_n_23918, coach_node_FLIXBUS:...</td>\n",
       "      <td>...</td>\n",
       "      <td>504.000000</td>\n",
       "      <td>861</td>\n",
       "      <td>12960</td>\n",
       "      <td>5400.0</td>\n",
       "      <td>0</td>\n",
       "      <td>19725.000000</td>\n",
       "      <td>0</td>\n",
       "      <td>642189</td>\n",
       "      <td>{rail_short_distance, bus}</td>\n",
       "      <td>rail_short_distance</td>\n",
       "    </tr>\n",
       "  </tbody>\n",
       "</table>\n",
       "<p>2 rows × 30 columns</p>\n",
       "</div>"
      ],
      "text/plain": [
       "         origin destination         gtime  \\\n",
       "133912    DEA11       DEB18  13616.623529   \n",
       "184257  DED2C_1       DE934  19725.000000   \n",
       "\n",
       "                                                     path  reversed  \\\n",
       "133912  [DEA11, rail_long_node_731, rail_long_200, rai...     False   \n",
       "184257  [DED2C_1, bus_n_49163, bus_1529523, bus_152952...     False   \n",
       "\n",
       "       pathfinder_session  broken_modes  \\\n",
       "133912       mode_breaker  {coach, bus}   \n",
       "184257       mode_breaker         {air}   \n",
       "\n",
       "                                                boardings  \\\n",
       "133912  [rail_long_node_731, rail_short_node_2446, rai...   \n",
       "184257  [bus_n_49163, bus_n_19090, bus_n_126421, bus_n...   \n",
       "\n",
       "                                               alightings  \\\n",
       "133912  [rail_long_node_238, rail_short_node_13151, ra...   \n",
       "184257  [bus_n_23918, bus_n_126421, bus_n_300075, bus_...   \n",
       "\n",
       "                                                node_path  ...  access_time  \\\n",
       "133912  [rail_long_node_731, rail_long_node_238, rail_...  ...  1267.623529   \n",
       "184257  [bus_n_49163, bus_n_23918, coach_node_FLIXBUS:...  ...   504.000000   \n",
       "\n",
       "       footpath_time in_vehicle_time waiting_time boarding_time          time  \\\n",
       "133912             0            6540       2400.0             0  10207.623529   \n",
       "184257           861           12960       5400.0             0  19725.000000   \n",
       "\n",
       "        price  length                                route_types  \\\n",
       "133912      0  179840  {rail_short_distance, rail_long_distance}   \n",
       "184257      0  642189                 {rail_short_distance, bus}   \n",
       "\n",
       "                 route_type  \n",
       "133912   rail_long_distance  \n",
       "184257  rail_short_distance  \n",
       "\n",
       "[2 rows x 30 columns]"
      ]
     },
     "execution_count": 23,
     "metadata": {},
     "output_type": "execute_result"
    }
   ],
   "source": [
    "sm.pt_los.sample(2)"
   ]
  },
  {
   "cell_type": "code",
   "execution_count": 24,
   "metadata": {},
   "outputs": [],
   "source": [
    "# Make a copy before restricting results\n",
    "los = sm.pt_los.copy()"
   ]
  },
  {
   "cell_type": "markdown",
   "metadata": {},
   "source": [
    "### Clean PT LOS"
   ]
  },
  {
   "cell_type": "code",
   "execution_count": 25,
   "metadata": {},
   "outputs": [
    {
     "data": {
      "text/plain": [
       "(2484391, 30)"
      ]
     },
     "execution_count": 25,
     "metadata": {},
     "output_type": "execute_result"
    }
   ],
   "source": [
    "# Drop trips with coach-rail or coach-air combinations\n",
    "sm.pt_los = sm.pt_los.loc[~sm.pt_los['route_types'].apply(\n",
    "    lambda x: 'coach' in x and ('rail_long_distance' in x or 'rail_short_distance' in x or 'air' in x))]\n",
    "sm.pt_los.shape"
   ]
  },
  {
   "cell_type": "code",
   "execution_count": 26,
   "metadata": {},
   "outputs": [
    {
     "data": {
      "text/plain": [
       "(2475807, 30)"
      ]
     },
     "execution_count": 26,
     "metadata": {},
     "output_type": "execute_result"
    }
   ],
   "source": [
    "# Drop unrealistically long trips\n",
    "sm.pt_los = sm.pt_los.loc[sm.pt_los['in_vehicle_time']<10*3600]\n",
    "sm.pt_los.shape"
   ]
  },
  {
   "cell_type": "code",
   "execution_count": 27,
   "metadata": {},
   "outputs": [
    {
     "data": {
      "text/plain": [
       "array([[<AxesSubplot:title={'center':'time'}>]], dtype=object)"
      ]
     },
     "execution_count": 27,
     "metadata": {},
     "output_type": "execute_result"
    },
    {
     "data": {
      "image/png": "[encoded data removed]",
      "text/plain": [
       "<Figure size 288x288 with 1 Axes>"
      ]
     },
     "metadata": {
      "needs_background": "light"
     },
     "output_type": "display_data"
    }
   ],
   "source": [
    "# Time distribution\n",
    "sm.pt_los.hist(column='time', bins=100, figsize=(4,4), log=True)"
   ]
  },
  {
   "cell_type": "code",
   "execution_count": 28,
   "metadata": {},
   "outputs": [
    {
     "data": {
      "text/plain": [
       "(1948478, 31)"
      ]
     },
     "execution_count": 28,
     "metadata": {},
     "output_type": "execute_result"
    }
   ],
   "source": [
    "'''# Keep only the fastest trip(s)\n",
    "sm.pt_los['route_types'] = sm.pt_los['route_types'].apply(tuple)\n",
    "sm.pt_los = sm.pt_los.sort_values('time').groupby(\n",
    "    ['origin', 'destination', 'route_types']).nth(0)'''\n",
    "# Drop duplicates\n",
    "sm.pt_los['path'] = sm.pt_los['path'].apply(tuple)\n",
    "sm.pt_los.drop_duplicates('path', inplace=True)\n",
    "sm.pt_los.reset_index(inplace=True)\n",
    "sm.pt_los.shape"
   ]
  },
  {
   "cell_type": "code",
   "execution_count": 29,
   "metadata": {},
   "outputs": [
    {
     "data": {
      "text/plain": [
       "array([[<AxesSubplot:title={'center':'time'}>]], dtype=object)"
      ]
     },
     "execution_count": 29,
     "metadata": {},
     "output_type": "execute_result"
    },
    {
     "data": {
      "image/png": "[encoded data removed]",
      "text/plain": [
       "<Figure size 288x288 with 1 Axes>"
      ]
     },
     "metadata": {
      "needs_background": "light"
     },
     "output_type": "display_data"
    }
   ],
   "source": [
    "sm.pt_los.hist(column='time', bins=100, figsize=(4,4), log=True)"
   ]
  },
  {
   "cell_type": "code",
   "execution_count": 30,
   "metadata": {},
   "outputs": [
    {
     "data": {
      "text/plain": [
       "array([[<AxesSubplot:title={'center':'ntransfers'}>]], dtype=object)"
      ]
     },
     "execution_count": 30,
     "metadata": {},
     "output_type": "execute_result"
    },
    {
     "data": {
      "image/png": "[encoded data removed]",
      "text/plain": [
       "<Figure size 288x288 with 1 Axes>"
      ]
     },
     "metadata": {
      "needs_background": "light"
     },
     "output_type": "display_data"
    }
   ],
   "source": [
    "sm.pt_los.hist(column='ntransfers', figsize=(4,4))"
   ]
  },
  {
   "cell_type": "code",
   "execution_count": 31,
   "metadata": {},
   "outputs": [
    {
     "data": {
      "text/plain": [
       "<matplotlib.legend.Legend at 0x28347346c70>"
      ]
     },
     "execution_count": 31,
     "metadata": {},
     "output_type": "execute_result"
    },
    {
     "data": {
      "image/png": "[encoded data removed]",
      "text/plain": [
       "<Figure size 1152x216 with 6 Axes>"
      ]
     },
     "metadata": {},
     "output_type": "display_data"
    }
   ],
   "source": [
    "# Main mode distribution\n",
    "t = sm.pt_los.copy()\n",
    "t['bins'] = pd.cut(t['ntransfers'], bins=[0,1,3,5,10,20,100],\n",
    "                   labels=[\"0-1\", \"2-3\",\"4-5\",\"6-10\",\"11-20\",\"21+\"])\n",
    "axs = t.groupby(['route_type','bins']).size().unstack(fill_value=0).plot.pie(\n",
    "    subplots=True, figsize=(16, 3),\n",
    "    startangle=0, counterclock=False, title='Main mode by number of transfers',\n",
    "    legend=False, labeldistance=None)\n",
    "axs[0].legend(loc='lower left')"
   ]
  },
  {
   "cell_type": "code",
   "execution_count": 32,
   "metadata": {},
   "outputs": [
    {
     "name": "stdout",
     "output_type": "stream",
     "text": [
      "(1947259, 31)\n"
     ]
    }
   ],
   "source": [
    "# Drop unnecessary long connections\n",
    "if sm.links['headway'].mean() > 5*60:\n",
    "    sm.pt_los = sm.pt_los.loc[sm.pt_los['ntransfers']<20]\n",
    "    print(sm.pt_los.shape)"
   ]
  },
  {
   "cell_type": "code",
   "execution_count": 33,
   "metadata": {},
   "outputs": [
    {
     "data": {
      "text/plain": [
       "<matplotlib.legend.Legend at 0x2836b9b44f0>"
      ]
     },
     "execution_count": 33,
     "metadata": {},
     "output_type": "execute_result"
    },
    {
     "data": {
      "image/png": "[encoded data removed]",
      "text/plain": [
       "<Figure size 1152x216 with 5 Axes>"
      ]
     },
     "metadata": {},
     "output_type": "display_data"
    }
   ],
   "source": [
    "t['time'] = t['time'] / 60\n",
    "t['bins'] = pd.cut(t['time'], bins=[0,15,30,60,120,360,500],\n",
    "                   labels=[\"0-15\", \"16-30\",\"31-60\",\"61-120\",\"120-360\",\"361+\"])\n",
    "axs = t.groupby(['route_type','bins']).size().unstack(fill_value=0).plot.pie(\n",
    "    subplots=True, figsize=(16, 3),\n",
    "    startangle=0, counterclock=False, title='Main mode by trip duration',\n",
    "    legend=False, labeldistance=None)\n",
    "axs[-2].legend()"
   ]
  },
  {
   "cell_type": "code",
   "execution_count": 34,
   "metadata": {},
   "outputs": [],
   "source": [
    "t = None"
   ]
  },
  {
   "cell_type": "code",
   "execution_count": 35,
   "metadata": {},
   "outputs": [],
   "source": [
    "# Ditch unneccessary columns\n",
    "to_drop = ['gtime', 'path', 'reversed', 'pathfinder_session',\n",
    "           'broken_modes', 'boardings', 'alightings', 'node_path',\n",
    "           'footpaths', 'ntlegs', 'transfers', 'boarding_links',\n",
    "           'alighting_links', 'all_walk', 'time_link_path',\n",
    "           'length_link_path', 'boarding_time']\n",
    "sm.pt_los = sm.pt_los.drop(to_drop, axis=1, errors='ignore')"
   ]
  },
  {
   "cell_type": "code",
   "execution_count": 36,
   "metadata": {},
   "outputs": [],
   "source": [
    "# Clean links table\n",
    "to_drop = ['duration', 'cost', 'origin', 'destination']\n",
    "sm.links = sm.links.drop(to_drop, axis=1, errors='ignore')"
   ]
  },
  {
   "cell_type": "code",
   "execution_count": 37,
   "metadata": {},
   "outputs": [],
   "source": [
    "# Make table smaller\n",
    "cols = ['time', 'access_time', 'in_vehicle_time', 'footpath_time',\n",
    "        'waiting_time', 'length']\n",
    "sm.pt_los[cols] = sm.pt_los[cols].astype(int)"
   ]
  },
  {
   "cell_type": "code",
   "execution_count": 38,
   "metadata": {},
   "outputs": [
    {
     "data": {
      "text/html": [
       "<div>\n",
       "<style scoped>\n",
       "    .dataframe tbody tr th:only-of-type {\n",
       "        vertical-align: middle;\n",
       "    }\n",
       "\n",
       "    .dataframe tbody tr th {\n",
       "        vertical-align: top;\n",
       "    }\n",
       "\n",
       "    .dataframe thead th {\n",
       "        text-align: right;\n",
       "    }\n",
       "</style>\n",
       "<table border=\"1\" class=\"dataframe\">\n",
       "  <thead>\n",
       "    <tr style=\"text-align: right;\">\n",
       "      <th></th>\n",
       "      <th>index</th>\n",
       "      <th>origin</th>\n",
       "      <th>destination</th>\n",
       "      <th>link_path</th>\n",
       "      <th>ntransfers</th>\n",
       "      <th>access_time</th>\n",
       "      <th>footpath_time</th>\n",
       "      <th>in_vehicle_time</th>\n",
       "      <th>waiting_time</th>\n",
       "      <th>time</th>\n",
       "      <th>price</th>\n",
       "      <th>length</th>\n",
       "      <th>route_types</th>\n",
       "      <th>route_type</th>\n",
       "    </tr>\n",
       "  </thead>\n",
       "  <tbody>\n",
       "    <tr>\n",
       "      <th>173009</th>\n",
       "      <td>138885</td>\n",
       "      <td>DEA1C</td>\n",
       "      <td>DE40H</td>\n",
       "      <td>[rail_short_73417, rail_short_73418, rail_shor...</td>\n",
       "      <td>3</td>\n",
       "      <td>2450</td>\n",
       "      <td>0</td>\n",
       "      <td>20040</td>\n",
       "      <td>2400</td>\n",
       "      <td>24890</td>\n",
       "      <td>0</td>\n",
       "      <td>874007</td>\n",
       "      <td>{rail_short_distance}</td>\n",
       "      <td>rail_short_distance</td>\n",
       "    </tr>\n",
       "  </tbody>\n",
       "</table>\n",
       "</div>"
      ],
      "text/plain": [
       "         index origin destination  \\\n",
       "173009  138885  DEA1C       DE40H   \n",
       "\n",
       "                                                link_path  ntransfers  \\\n",
       "173009  [rail_short_73417, rail_short_73418, rail_shor...           3   \n",
       "\n",
       "        access_time  footpath_time  in_vehicle_time  waiting_time   time  \\\n",
       "173009         2450              0            20040          2400  24890   \n",
       "\n",
       "        price  length            route_types           route_type  \n",
       "173009      0  874007  {rail_short_distance}  rail_short_distance  "
      ]
     },
     "execution_count": 38,
     "metadata": {},
     "output_type": "execute_result"
    }
   ],
   "source": [
    "sm.pt_los.sample()"
   ]
  },
  {
   "cell_type": "markdown",
   "metadata": {},
   "source": [
    "### Save model"
   ]
  },
  {
   "cell_type": "code",
   "execution_count": 39,
   "metadata": {},
   "outputs": [
    {
     "name": "stderr",
     "output_type": "stream",
     "text": [
      "to_hdf(overwriting): 100%|█████████████████████████████████████████████████████████████| 36/36 [01:03<00:00,  1.77s/it]\n"
     ]
    }
   ],
   "source": [
    "# Saving LoS...\n",
    "sm.to_json(model_path + 'de_pt_los', only_attributes=['pt_los'],\n",
    "           encoding='utf-8')"
   ]
  },
  {
   "cell_type": "code",
   "execution_count": 40,
   "metadata": {},
   "outputs": [],
   "source": [
    "# Split links in graph and auxiliary information\n",
    "# for file sizes being compatible with github's size limit\n",
    "cols = ['link_sequence', 'route_id', 'time', 'trip_id', 'length', 'headway']\n",
    "auxiliary = sm.links[cols]\n",
    "sm.links.drop(cols, axis=1, inplace=True)"
   ]
  },
  {
   "cell_type": "code",
   "execution_count": 41,
   "metadata": {},
   "outputs": [
    {
     "name": "stderr",
     "output_type": "stream",
     "text": [
      "to_hdf(overwriting): 100%|█████████████████████████████████████████████████████████████| 36/36 [00:55<00:00,  1.55s/it]\n"
     ]
    }
   ],
   "source": [
    "sm.to_json(model_path + 'de_pt_network_agg', only_attributes=[\n",
    "    'zones', 'links', 'nodes', 'pt_route_types'],\n",
    "           encoding='utf-8')"
   ]
  },
  {
   "cell_type": "code",
   "execution_count": 42,
   "metadata": {},
   "outputs": [],
   "source": [
    "# Save auxiliary information seperately\n",
    "auxiliary['index'] = auxiliary.index\n",
    "auxiliary.reset_index(drop=True, inplace=True)\n",
    "auxiliary.to_json(model_path + 'de_pt_network_agg/links_quetzaldata.json')"
   ]
  }
 ],
 "metadata": {
  "kernelspec": {
   "display_name": "Python 3",
   "language": "python",
   "name": "python3"
  },
  "language_info": {
   "codemirror_mode": {
    "name": "ipython",
    "version": 3
   },
   "file_extension": ".py",
   "mimetype": "text/x-python",
   "name": "python",
   "nbconvert_exporter": "python",
   "pygments_lexer": "ipython3",
   "version": "3.8.1"
  }
 },
 "nbformat": 4,
 "nbformat_minor": 2
}
