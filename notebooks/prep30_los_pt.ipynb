{
 "cells": [
  {
   "cell_type": "code",
   "execution_count": 1,
   "metadata": {},
   "outputs": [
    {
     "name": "stderr",
     "output_type": "stream",
     "text": [
      "In C:\\Users\\marlin.arnz\\AppData\\Local\\Continuum\\miniconda3\\envs\\quetzal\\lib\\site-packages\\matplotlib\\mpl-data\\stylelib\\_classic_test.mplstyle: \n",
      "The text.latex.preview rcparam was deprecated in Matplotlib 3.3 and will be removed two minor releases later.\n",
      "In C:\\Users\\marlin.arnz\\AppData\\Local\\Continuum\\miniconda3\\envs\\quetzal\\lib\\site-packages\\matplotlib\\mpl-data\\stylelib\\_classic_test.mplstyle: \n",
      "The mathtext.fallback_to_cm rcparam was deprecated in Matplotlib 3.3 and will be removed two minor releases later.\n",
      "In C:\\Users\\marlin.arnz\\AppData\\Local\\Continuum\\miniconda3\\envs\\quetzal\\lib\\site-packages\\matplotlib\\mpl-data\\stylelib\\_classic_test.mplstyle: Support for setting the 'mathtext.fallback_to_cm' rcParam is deprecated since 3.3 and will be removed two minor releases later; use 'mathtext.fallback : 'cm' instead.\n",
      "In C:\\Users\\marlin.arnz\\AppData\\Local\\Continuum\\miniconda3\\envs\\quetzal\\lib\\site-packages\\matplotlib\\mpl-data\\stylelib\\_classic_test.mplstyle: \n",
      "The validate_bool_maybe_none function was deprecated in Matplotlib 3.3 and will be removed two minor releases later.\n",
      "In C:\\Users\\marlin.arnz\\AppData\\Local\\Continuum\\miniconda3\\envs\\quetzal\\lib\\site-packages\\matplotlib\\mpl-data\\stylelib\\_classic_test.mplstyle: \n",
      "The savefig.jpeg_quality rcparam was deprecated in Matplotlib 3.3 and will be removed two minor releases later.\n",
      "In C:\\Users\\marlin.arnz\\AppData\\Local\\Continuum\\miniconda3\\envs\\quetzal\\lib\\site-packages\\matplotlib\\mpl-data\\stylelib\\_classic_test.mplstyle: \n",
      "The keymap.all_axes rcparam was deprecated in Matplotlib 3.3 and will be removed two minor releases later.\n",
      "In C:\\Users\\marlin.arnz\\AppData\\Local\\Continuum\\miniconda3\\envs\\quetzal\\lib\\site-packages\\matplotlib\\mpl-data\\stylelib\\_classic_test.mplstyle: \n",
      "The animation.avconv_path rcparam was deprecated in Matplotlib 3.3 and will be removed two minor releases later.\n",
      "In C:\\Users\\marlin.arnz\\AppData\\Local\\Continuum\\miniconda3\\envs\\quetzal\\lib\\site-packages\\matplotlib\\mpl-data\\stylelib\\_classic_test.mplstyle: \n",
      "The animation.avconv_args rcparam was deprecated in Matplotlib 3.3 and will be removed two minor releases later.\n"
     ]
    }
   ],
   "source": [
    "import numpy as np\n",
    "import pandas as pd\n",
    "from tqdm import tqdm\n",
    "from geopy.distance import geodesic\n",
    "from quetzal.model import stepmodel\n",
    "from quetzal.analysis import analysis\n",
    "from quetzal.engine.pathfinder import PublicPathFinder"
   ]
  },
  {
   "cell_type": "markdown",
   "metadata": {},
   "source": [
    "# Preparation of the LoS tables\n",
    "## Saves a StepModel with shortest paths and LoS attributes for the PT network\n",
    "## Needs aggregated PT networks"
   ]
  },
  {
   "cell_type": "code",
   "execution_count": 2,
   "metadata": {},
   "outputs": [],
   "source": [
    "input_path = '../input/'\n",
    "output_path = '../output/'\n",
    "model_path = '../model/'"
   ]
  },
  {
   "cell_type": "code",
   "execution_count": 3,
   "metadata": {},
   "outputs": [],
   "source": [
    "sm = stepmodel.read_json(model_path + 'de_pt_network_agg')\n",
    "ae = stepmodel.read_json(model_path + 'de_pt_access_egress')\n",
    "aux = stepmodel.read_json(model_path + 'de_pt_network_ancillary')"
   ]
  },
  {
   "cell_type": "code",
   "execution_count": 4,
   "metadata": {},
   "outputs": [],
   "source": [
    "sm.centroids = ae.centroids\n",
    "sm.footpaths = ae.footpaths\n",
    "sm.zone_to_transit = ae.zone_to_transit"
   ]
  },
  {
   "cell_type": "code",
   "execution_count": 5,
   "metadata": {},
   "outputs": [
    {
     "data": {
      "text/plain": [
       "(206192, 9)"
      ]
     },
     "execution_count": 5,
     "metadata": {},
     "output_type": "execute_result"
    }
   ],
   "source": [
    "sm.links.shape"
   ]
  },
  {
   "cell_type": "markdown",
   "metadata": {},
   "source": [
    "### Prepare links for pathfinder"
   ]
  },
  {
   "cell_type": "code",
   "execution_count": 6,
   "metadata": {},
   "outputs": [],
   "source": [
    "# Generate headways (two times the waiting time at a stop when changing between trips)\n",
    "# ASSUMPTION: Take average headways for core hours between 6 a.m. and 8 p.m.\n",
    "freq = aux.frequencies.loc[(aux.frequencies['hour']>=6) &\n",
    "                           (aux.frequencies['hour']<=19)\n",
    "                          ].groupby('stop_id').agg({'trip_id': 'sum'})\n",
    "freq['trip_id'] = 14*3600 / freq['trip_id'] # 14 hours"
   ]
  },
  {
   "cell_type": "code",
   "execution_count": 7,
   "metadata": {},
   "outputs": [],
   "source": [
    "headway_dict = freq['trip_id'].to_dict()"
   ]
  },
  {
   "cell_type": "code",
   "execution_count": 8,
   "metadata": {},
   "outputs": [],
   "source": [
    "# ASSUMPTION: Maximum waiting time is 15 minutes, minumum is 5 minutes\n",
    "sm.links['headway'] = sm.links['a'].map(headway_dict)\n",
    "sm.links['headway'] = sm.links['headway'].replace(\n",
    "    {np.nan: 15*60*2}).clip(lower=5*60*2, upper=15*60*2)"
   ]
  },
  {
   "cell_type": "code",
   "execution_count": 9,
   "metadata": {},
   "outputs": [],
   "source": [
    "# ASSUMPTION: Air trips require security checks and so on...\n",
    "sm.links.loc[sm.links['route_type']=='air', 'headway'] = 45*60*2\n",
    "sm.links['headway'] = sm.links['headway'].astype(int)"
   ]
  },
  {
   "cell_type": "code",
   "execution_count": 10,
   "metadata": {},
   "outputs": [
    {
     "data": {
      "text/plain": [
       "<AxesSubplot:>"
      ]
     },
     "execution_count": 10,
     "metadata": {},
     "output_type": "execute_result"
    },
    {
     "data": {
      "image/png": "[encoded data removed]",
      "text/plain": [
       "<Figure size 288x288 with 1 Axes>"
      ]
     },
     "metadata": {
      "needs_background": "light"
     },
     "output_type": "display_data"
    }
   ],
   "source": [
    "sm.links['headway'].hist(bins=100, figsize=(4,4), log=True)"
   ]
  },
  {
   "cell_type": "code",
   "execution_count": 11,
   "metadata": {},
   "outputs": [],
   "source": [
    "# Reset access/egress time to zero\n",
    "# Because it should not be a mode choice decision factor.\n",
    "# LoS attribute accessibility will handle this.\n",
    "#sm.zone_to_transit['time'] = 0"
   ]
  },
  {
   "cell_type": "code",
   "execution_count": 11,
   "metadata": {},
   "outputs": [],
   "source": [
    "# Generate length for PT links as the crow flies\n",
    "if 'length' not in sm.links.columns:\n",
    "    tqdm.pandas()\n",
    "    sm.links['length'] = sm.links['geometry'].progress_apply(\n",
    "        lambda l: int(geodesic(l.coords[0], l.coords[-1]).m))"
   ]
  },
  {
   "cell_type": "code",
   "execution_count": 12,
   "metadata": {},
   "outputs": [
    {
     "data": {
      "text/html": [
       "<div>\n",
       "<style scoped>\n",
       "    .dataframe tbody tr th:only-of-type {\n",
       "        vertical-align: middle;\n",
       "    }\n",
       "\n",
       "    .dataframe tbody tr th {\n",
       "        vertical-align: top;\n",
       "    }\n",
       "\n",
       "    .dataframe thead th {\n",
       "        text-align: right;\n",
       "    }\n",
       "</style>\n",
       "<table border=\"1\" class=\"dataframe\">\n",
       "  <thead>\n",
       "    <tr style=\"text-align: right;\">\n",
       "      <th></th>\n",
       "      <th>a</th>\n",
       "      <th>b</th>\n",
       "      <th>length</th>\n",
       "      <th>route_type</th>\n",
       "      <th>geometry</th>\n",
       "      <th>link_sequence</th>\n",
       "      <th>route_id</th>\n",
       "      <th>time</th>\n",
       "      <th>trip_id</th>\n",
       "      <th>headway</th>\n",
       "    </tr>\n",
       "    <tr>\n",
       "      <th>index</th>\n",
       "      <th></th>\n",
       "      <th></th>\n",
       "      <th></th>\n",
       "      <th></th>\n",
       "      <th></th>\n",
       "      <th></th>\n",
       "      <th></th>\n",
       "      <th></th>\n",
       "      <th></th>\n",
       "      <th></th>\n",
       "    </tr>\n",
       "  </thead>\n",
       "  <tbody>\n",
       "    <tr>\n",
       "      <th>bus_247651</th>\n",
       "      <td>DE146_bus_0</td>\n",
       "      <td>DE145_1_bus_0</td>\n",
       "      <td>21261</td>\n",
       "      <td>bus</td>\n",
       "      <td>LINESTRING (9.75289 48.11706, 9.77332 48.30974)</td>\n",
       "      <td>1</td>\n",
       "      <td>bus_1980</td>\n",
       "      <td>120</td>\n",
       "      <td>bus_20945</td>\n",
       "      <td>600</td>\n",
       "    </tr>\n",
       "  </tbody>\n",
       "</table>\n",
       "</div>"
      ],
      "text/plain": [
       "                      a              b  length route_type  \\\n",
       "index                                                       \n",
       "bus_247651  DE146_bus_0  DE145_1_bus_0   21261        bus   \n",
       "\n",
       "                                                   geometry  link_sequence  \\\n",
       "index                                                                        \n",
       "bus_247651  LINESTRING (9.75289 48.11706, 9.77332 48.30974)              1   \n",
       "\n",
       "            route_id  time    trip_id  headway  \n",
       "index                                           \n",
       "bus_247651  bus_1980   120  bus_20945      600  "
      ]
     },
     "execution_count": 12,
     "metadata": {},
     "output_type": "execute_result"
    }
   ],
   "source": [
    "sm.links.sample()"
   ]
  },
  {
   "cell_type": "code",
   "execution_count": 13,
   "metadata": {},
   "outputs": [
    {
     "name": "stdout",
     "output_type": "stream",
     "text": [
      "Generated OD set with 217335 pairs\n"
     ]
    }
   ],
   "source": [
    "# Load OD pairs from volumes if available\n",
    "od_set = None\n",
    "try:\n",
    "    v = stepmodel.read_json(model_path + 'de_volumes')\n",
    "    od_set = set([tuple(l) for l in v.volumes[['origin', 'destination']].values.tolist()])\n",
    "    print('Generated OD set with {} pairs'.format(len(od_set)))\n",
    "except:\n",
    "    print('The volumes file is not (yet) available')"
   ]
  },
  {
   "cell_type": "markdown",
   "metadata": {},
   "source": [
    "### Apply PT pathfinder\n",
    "It generates the LoS table with shortest paths for each origin destination pair"
   ]
  },
  {
   "cell_type": "code",
   "execution_count": 15,
   "metadata": {
    "scrolled": false
   },
   "outputs": [
    {
     "data": {
      "text/plain": [
       "\"This cell would run all possible mode combinations\\nsm.step_pt_pathfinder(\\n    broken_routes=False,\\n    broken_modes=True, # Allow different mode combinations\\n    route_column='route_id',\\n    mode_column='route_type',\\n    boarding_time=0, # Assumption\\n    alighting_time=0,\\n    speedup=True,\\n    walk_on_road=False,\\n    keep_pathfinder=False, # Saves it as attribute for multiple iterations\\n    force=False, # If indices are inconsistent\\n    path_analysis=True, # Create path, time and length columns\\n    drop_duplicates=True, # Considering duplicate paths\\n    cutoff=np.inf, # distance limit between points for Dijkstra algorithm\\n    od_set=od_set) # Exclude OD pairs that are not used\""
      ]
     },
     "execution_count": 15,
     "metadata": {},
     "output_type": "execute_result"
    }
   ],
   "source": [
    "'''This cell would run all possible mode combinations\n",
    "sm.step_pt_pathfinder(\n",
    "    broken_routes=False,\n",
    "    broken_modes=True, # Allow different mode combinations\n",
    "    route_column='route_id',\n",
    "    mode_column='route_type',\n",
    "    boarding_time=0, # Assumption\n",
    "    alighting_time=0,\n",
    "    speedup=True,\n",
    "    walk_on_road=False,\n",
    "    keep_pathfinder=False, # Saves it as attribute for multiple iterations\n",
    "    force=False, # If indices are inconsistent\n",
    "    path_analysis=True, # Create path, time and length columns\n",
    "    drop_duplicates=True, # Considering duplicate paths\n",
    "    cutoff=np.inf, # distance limit between points for Dijkstra algorithm\n",
    "    od_set=od_set) # Exclude OD pairs that are not used'''"
   ]
  },
  {
   "cell_type": "code",
   "execution_count": 14,
   "metadata": {},
   "outputs": [],
   "source": [
    "# We don't want the algorithm to search paths for all mode combinations.\n",
    "# Thus, we have to extract the pathfinder and search them manually.\n",
    "# This step yields shortest paths regardless of the mode combination.\n",
    "'''sm.step_pt_pathfinder(\n",
    "    broken_routes=False,\n",
    "    broken_modes=False,\n",
    "    keep_pathfinder=True, # get the PPF\n",
    "    mode_column='route_type',\n",
    "    route_column='route_id',\n",
    "    speedup=True,\n",
    "    cutoff=np.inf,\n",
    "    walk_on_road=False,\n",
    "    od_set=od_set,\n",
    "    path_analysis=False,\n",
    ")\n",
    "ppf = sm.publicpathfinder\n",
    "len(sm.pt_los)'''\n",
    "ppf = PublicPathFinder(sm)"
   ]
  },
  {
   "cell_type": "code",
   "execution_count": 15,
   "metadata": {},
   "outputs": [
    {
     "data": {
      "text/plain": [
       "[{'air', 'bus', 'rail_long', 'rail_short'},\n",
       " {'air', 'bus', 'rail_long'},\n",
       " {'air', 'bus', 'rail_short'},\n",
       " {'air', 'bus'},\n",
       " {'air', 'rail_long', 'rail_short'},\n",
       " {'air', 'rail_long'},\n",
       " {'air', 'rail_short'},\n",
       " {'air'},\n",
       " {'bus', 'coach'},\n",
       " {'bus', 'rail_long', 'rail_short'},\n",
       " {'bus', 'rail_long'},\n",
       " {'bus', 'rail_short'},\n",
       " {'bus'},\n",
       " {'coach'},\n",
       " {'rail_long', 'rail_short'},\n",
       " {'rail_long'},\n",
       " {'rail_short'},\n",
       " set()]"
      ]
     },
     "execution_count": 15,
     "metadata": {},
     "output_type": "execute_result"
    }
   ],
   "source": [
    "# Now, build custom mode combinations\n",
    "# People just don't go by coach and then switch to rail or airplane within Germany\n",
    "ppf.build_mode_combinations(mode_column='route_type')\n",
    "ppf.mode_combinations = [x for x in ppf.mode_combinations\n",
    "                         if not ('coach' in x and\n",
    "                         ('rail_long' in x or\n",
    "                          'rail_short' in x or\n",
    "                          'air' in x))]\n",
    "ppf.mode_combinations"
   ]
  },
  {
   "cell_type": "code",
   "execution_count": 16,
   "metadata": {},
   "outputs": [
    {
     "name": "stderr",
     "output_type": "stream",
     "text": [
      "breaking modes: set() : 100%|██████████████████████████████████████████████████████████| 18/18 [25:05<00:00, 83.64s/it]\n"
     ]
    }
   ],
   "source": [
    "# Run the pathfinder for all mode combinations\n",
    "# ASSUMPTION: Include a penalty for people to choose less transfers\n",
    "transfer_penalty = 0#20*60\n",
    "ppf.find_broken_mode_paths(workers=3, # CPU cores\n",
    "                           cutoff=np.inf,\n",
    "                           od_set=od_set,\n",
    "                           mode_column='route_type',\n",
    "                           boarding_time=transfer_penalty)"
   ]
  },
  {
   "cell_type": "code",
   "execution_count": 17,
   "metadata": {},
   "outputs": [
    {
     "data": {
      "text/html": [
       "<div>\n",
       "<style scoped>\n",
       "    .dataframe tbody tr th:only-of-type {\n",
       "        vertical-align: middle;\n",
       "    }\n",
       "\n",
       "    .dataframe tbody tr th {\n",
       "        vertical-align: top;\n",
       "    }\n",
       "\n",
       "    .dataframe thead th {\n",
       "        text-align: right;\n",
       "    }\n",
       "</style>\n",
       "<table border=\"1\" class=\"dataframe\">\n",
       "  <thead>\n",
       "    <tr style=\"text-align: right;\">\n",
       "      <th></th>\n",
       "      <th>origin</th>\n",
       "      <th>destination</th>\n",
       "      <th>gtime</th>\n",
       "      <th>path</th>\n",
       "      <th>reversed</th>\n",
       "      <th>pathfinder_session</th>\n",
       "      <th>broken_modes</th>\n",
       "    </tr>\n",
       "  </thead>\n",
       "  <tbody>\n",
       "    <tr>\n",
       "      <th>150446</th>\n",
       "      <td>DEA41</td>\n",
       "      <td>DE21I</td>\n",
       "      <td>7738.0</td>\n",
       "      <td>[DEA41, DEA41_bus_1, bus_1577022, DEA45_bus_0,...</td>\n",
       "      <td>False</td>\n",
       "      <td>mode_breaker</td>\n",
       "      <td>{rail_short}</td>\n",
       "    </tr>\n",
       "  </tbody>\n",
       "</table>\n",
       "</div>"
      ],
      "text/plain": [
       "       origin destination   gtime  \\\n",
       "150446  DEA41       DE21I  7738.0   \n",
       "\n",
       "                                                     path  reversed  \\\n",
       "150446  [DEA41, DEA41_bus_1, bus_1577022, DEA45_bus_0,...     False   \n",
       "\n",
       "       pathfinder_session  broken_modes  \n",
       "150446       mode_breaker  {rail_short}  "
      ]
     },
     "execution_count": 17,
     "metadata": {},
     "output_type": "execute_result"
    }
   ],
   "source": [
    "ppf.broken_mode_paths.sample()"
   ]
  },
  {
   "cell_type": "code",
   "execution_count": 18,
   "metadata": {},
   "outputs": [
    {
     "name": "stderr",
     "output_type": "stream",
     "text": [
      "path_analysis: 100%|██████████████████████████████████████████████████████| 3699320/3699320 [02:18<00:00, 26640.93it/s]\n"
     ]
    }
   ],
   "source": [
    "# Run the path analysis and assign paths as LoS table\n",
    "sm.pt_los = analysis.path_analysis_od_matrix(\n",
    "    od_matrix=ppf.broken_mode_paths,\n",
    "    links=sm.links,\n",
    "    nodes=sm.nodes,\n",
    "    centroids=sm.centroids)"
   ]
  },
  {
   "cell_type": "code",
   "execution_count": 19,
   "metadata": {},
   "outputs": [
    {
     "name": "stdout",
     "output_type": "stream",
     "text": [
      "3699320\n"
     ]
    },
    {
     "data": {
      "text/html": [
       "<div>\n",
       "<style scoped>\n",
       "    .dataframe tbody tr th:only-of-type {\n",
       "        vertical-align: middle;\n",
       "    }\n",
       "\n",
       "    .dataframe tbody tr th {\n",
       "        vertical-align: top;\n",
       "    }\n",
       "\n",
       "    .dataframe thead th {\n",
       "        text-align: right;\n",
       "    }\n",
       "</style>\n",
       "<table border=\"1\" class=\"dataframe\">\n",
       "  <thead>\n",
       "    <tr style=\"text-align: right;\">\n",
       "      <th></th>\n",
       "      <th>origin</th>\n",
       "      <th>destination</th>\n",
       "      <th>gtime</th>\n",
       "      <th>path</th>\n",
       "      <th>reversed</th>\n",
       "      <th>pathfinder_session</th>\n",
       "      <th>broken_modes</th>\n",
       "      <th>boardings</th>\n",
       "      <th>alightings</th>\n",
       "      <th>node_path</th>\n",
       "      <th>link_path</th>\n",
       "      <th>footpaths</th>\n",
       "      <th>ntlegs</th>\n",
       "      <th>transfers</th>\n",
       "      <th>boarding_links</th>\n",
       "      <th>alighting_links</th>\n",
       "      <th>all_walk</th>\n",
       "      <th>ntransfers</th>\n",
       "      <th>time_link_path</th>\n",
       "      <th>length_link_path</th>\n",
       "    </tr>\n",
       "  </thead>\n",
       "  <tbody>\n",
       "    <tr>\n",
       "      <th>147323</th>\n",
       "      <td>DEA33</td>\n",
       "      <td>DE735</td>\n",
       "      <td>5624.0</td>\n",
       "      <td>[DEA33, DEA33_bus_0, bus_828144, DEA38_bus_0, ...</td>\n",
       "      <td>False</td>\n",
       "      <td>mode_breaker</td>\n",
       "      <td>{air, rail_short}</td>\n",
       "      <td>[DEA33_bus_0, DEA38_bus_0, DEA5B_bus_1, DEA57_...</td>\n",
       "      <td>[DEA38_bus_0, DEA5B_bus_1, DEA57_1_bus_0, DE73...</td>\n",
       "      <td>[DEA33_bus_0, DEA38_bus_0, DEA5B_bus_1, DEA57_...</td>\n",
       "      <td>[bus_828144, bus_2765001, bus_1375702, bus_984...</td>\n",
       "      <td>[]</td>\n",
       "      <td>[(DEA33, DEA33_bus_0), (DE735_bus_2, DE735)]</td>\n",
       "      <td>[DEA38_bus_0, DEA5B_bus_1, DEA57_1_bus_0, DE73...</td>\n",
       "      <td>[bus_828144, bus_2765001, bus_1375702, bus_984...</td>\n",
       "      <td>[bus_828144, bus_2765001, bus_1375702, bus_984...</td>\n",
       "      <td>False</td>\n",
       "      <td>4</td>\n",
       "      <td>540</td>\n",
       "      <td>217680</td>\n",
       "    </tr>\n",
       "    <tr>\n",
       "      <th>134951</th>\n",
       "      <td>DEA13</td>\n",
       "      <td>DEG0F</td>\n",
       "      <td>8421.0</td>\n",
       "      <td>[DEA13, DEA13_bus_4, bus_708680, DEA56_bus_0, ...</td>\n",
       "      <td>False</td>\n",
       "      <td>mode_breaker</td>\n",
       "      <td>{coach}</td>\n",
       "      <td>[DEA13_bus_4, DEA56_bus_0, DEA2A_bus_0, DEA58_...</td>\n",
       "      <td>[DEA56_bus_0, DEA2A_bus_0, DEA58_bus_0, DEA57_...</td>\n",
       "      <td>[DEA13_bus_4, DEA56_bus_0, DEA2A_bus_0, DEA58_...</td>\n",
       "      <td>[bus_708680, bus_1022334, bus_1873643, bus_999...</td>\n",
       "      <td>[(DEG0N_bus_0, rail_long_node_1273), (rail_lon...</td>\n",
       "      <td>[(DEA13, DEA13_bus_4), (DEG0F_r_s_0, DEG0F)]</td>\n",
       "      <td>[DEA56_bus_0, DEA2A_bus_0, DEA58_bus_0, DEA57_...</td>\n",
       "      <td>[bus_708680, bus_1022334, bus_1873643, bus_999...</td>\n",
       "      <td>[bus_708680, bus_1022334, bus_1873643, bus_999...</td>\n",
       "      <td>False</td>\n",
       "      <td>10</td>\n",
       "      <td>2460</td>\n",
       "      <td>517744</td>\n",
       "    </tr>\n",
       "    <tr>\n",
       "      <th>47006</th>\n",
       "      <td>DE236</td>\n",
       "      <td>DEA28</td>\n",
       "      <td>9259.0</td>\n",
       "      <td>[DE236, DE236_r_s_0, DE236_bus_0, bus_2943521,...</td>\n",
       "      <td>False</td>\n",
       "      <td>mode_breaker</td>\n",
       "      <td>{air, rail_long}</td>\n",
       "      <td>[DE236_bus_0, DE25B_bus_0, DE256_2_bus_0, DE25...</td>\n",
       "      <td>[DE25B_bus_0, DE256_2_bus_0, DE256_1_bus_0, DE...</td>\n",
       "      <td>[DE236_r_s_0, DE236_bus_0, DE25B_bus_0, DE256_...</td>\n",
       "      <td>[bus_2943521, bus_1519696, bus_1109874, bus_20...</td>\n",
       "      <td>[(DE236_r_s_0, DE236_bus_0), (DEA27_bus_0, DEA...</td>\n",
       "      <td>[(DE236, DE236_r_s_0), (DEA28_r_s_0, DEA28)]</td>\n",
       "      <td>[DE25B_bus_0, DE256_2_bus_0, DE256_1_bus_0, DE...</td>\n",
       "      <td>[bus_2943521, bus_1519696, bus_1109874, bus_20...</td>\n",
       "      <td>[bus_2943521, bus_1519696, bus_1109874, bus_20...</td>\n",
       "      <td>False</td>\n",
       "      <td>11</td>\n",
       "      <td>1560</td>\n",
       "      <td>688367</td>\n",
       "    </tr>\n",
       "  </tbody>\n",
       "</table>\n",
       "</div>"
      ],
      "text/plain": [
       "       origin destination   gtime  \\\n",
       "147323  DEA33       DE735  5624.0   \n",
       "134951  DEA13       DEG0F  8421.0   \n",
       "47006   DE236       DEA28  9259.0   \n",
       "\n",
       "                                                     path  reversed  \\\n",
       "147323  [DEA33, DEA33_bus_0, bus_828144, DEA38_bus_0, ...     False   \n",
       "134951  [DEA13, DEA13_bus_4, bus_708680, DEA56_bus_0, ...     False   \n",
       "47006   [DE236, DE236_r_s_0, DE236_bus_0, bus_2943521,...     False   \n",
       "\n",
       "       pathfinder_session       broken_modes  \\\n",
       "147323       mode_breaker  {air, rail_short}   \n",
       "134951       mode_breaker            {coach}   \n",
       "47006        mode_breaker   {air, rail_long}   \n",
       "\n",
       "                                                boardings  \\\n",
       "147323  [DEA33_bus_0, DEA38_bus_0, DEA5B_bus_1, DEA57_...   \n",
       "134951  [DEA13_bus_4, DEA56_bus_0, DEA2A_bus_0, DEA58_...   \n",
       "47006   [DE236_bus_0, DE25B_bus_0, DE256_2_bus_0, DE25...   \n",
       "\n",
       "                                               alightings  \\\n",
       "147323  [DEA38_bus_0, DEA5B_bus_1, DEA57_1_bus_0, DE73...   \n",
       "134951  [DEA56_bus_0, DEA2A_bus_0, DEA58_bus_0, DEA57_...   \n",
       "47006   [DE25B_bus_0, DE256_2_bus_0, DE256_1_bus_0, DE...   \n",
       "\n",
       "                                                node_path  \\\n",
       "147323  [DEA33_bus_0, DEA38_bus_0, DEA5B_bus_1, DEA57_...   \n",
       "134951  [DEA13_bus_4, DEA56_bus_0, DEA2A_bus_0, DEA58_...   \n",
       "47006   [DE236_r_s_0, DE236_bus_0, DE25B_bus_0, DE256_...   \n",
       "\n",
       "                                                link_path  \\\n",
       "147323  [bus_828144, bus_2765001, bus_1375702, bus_984...   \n",
       "134951  [bus_708680, bus_1022334, bus_1873643, bus_999...   \n",
       "47006   [bus_2943521, bus_1519696, bus_1109874, bus_20...   \n",
       "\n",
       "                                                footpaths  \\\n",
       "147323                                                 []   \n",
       "134951  [(DEG0N_bus_0, rail_long_node_1273), (rail_lon...   \n",
       "47006   [(DE236_r_s_0, DE236_bus_0), (DEA27_bus_0, DEA...   \n",
       "\n",
       "                                              ntlegs  \\\n",
       "147323  [(DEA33, DEA33_bus_0), (DE735_bus_2, DE735)]   \n",
       "134951  [(DEA13, DEA13_bus_4), (DEG0F_r_s_0, DEG0F)]   \n",
       "47006   [(DE236, DE236_r_s_0), (DEA28_r_s_0, DEA28)]   \n",
       "\n",
       "                                                transfers  \\\n",
       "147323  [DEA38_bus_0, DEA5B_bus_1, DEA57_1_bus_0, DE73...   \n",
       "134951  [DEA56_bus_0, DEA2A_bus_0, DEA58_bus_0, DEA57_...   \n",
       "47006   [DE25B_bus_0, DE256_2_bus_0, DE256_1_bus_0, DE...   \n",
       "\n",
       "                                           boarding_links  \\\n",
       "147323  [bus_828144, bus_2765001, bus_1375702, bus_984...   \n",
       "134951  [bus_708680, bus_1022334, bus_1873643, bus_999...   \n",
       "47006   [bus_2943521, bus_1519696, bus_1109874, bus_20...   \n",
       "\n",
       "                                          alighting_links  all_walk  \\\n",
       "147323  [bus_828144, bus_2765001, bus_1375702, bus_984...     False   \n",
       "134951  [bus_708680, bus_1022334, bus_1873643, bus_999...     False   \n",
       "47006   [bus_2943521, bus_1519696, bus_1109874, bus_20...     False   \n",
       "\n",
       "        ntransfers  time_link_path  length_link_path  \n",
       "147323           4             540            217680  \n",
       "134951          10            2460            517744  \n",
       "47006           11            1560            688367  "
      ]
     },
     "execution_count": 19,
     "metadata": {},
     "output_type": "execute_result"
    }
   ],
   "source": [
    "print(len(sm.pt_los.index))\n",
    "sm.pt_los.loc[sm.pt_los['origin']!=sm.pt_los['destination']].sample(3)"
   ]
  },
  {
   "cell_type": "markdown",
   "metadata": {},
   "source": [
    "### Add attributes to LoS table"
   ]
  },
  {
   "cell_type": "code",
   "execution_count": 20,
   "metadata": {},
   "outputs": [
    {
     "name": "stdout",
     "output_type": "stream",
     "text": [
      "Index(['origin', 'destination', 'gtime', 'path', 'reversed',\n",
      "       'pathfinder_session', 'broken_modes', 'boardings', 'alightings',\n",
      "       'node_path', 'link_path', 'footpaths', 'ntlegs', 'transfers',\n",
      "       'boarding_links', 'alighting_links', 'all_walk', 'ntransfers',\n",
      "       'time_link_path', 'length_link_path', 'access_time', 'footpath_time',\n",
      "       'in_vehicle_time', 'waiting_time', 'boarding_time', 'time'],\n",
      "      dtype='object')\n"
     ]
    }
   ],
   "source": [
    "# Disaggregate time into in-vehicle and access/egress\n",
    "sm.analysis_pt_time(boarding_time=0)\n",
    "print(sm.pt_los.columns)"
   ]
  },
  {
   "cell_type": "code",
   "execution_count": 21,
   "metadata": {},
   "outputs": [
    {
     "data": {
      "text/html": [
       "<div>\n",
       "<style scoped>\n",
       "    .dataframe tbody tr th:only-of-type {\n",
       "        vertical-align: middle;\n",
       "    }\n",
       "\n",
       "    .dataframe tbody tr th {\n",
       "        vertical-align: top;\n",
       "    }\n",
       "\n",
       "    .dataframe thead th {\n",
       "        text-align: right;\n",
       "    }\n",
       "</style>\n",
       "<table border=\"1\" class=\"dataframe\">\n",
       "  <thead>\n",
       "    <tr style=\"text-align: right;\">\n",
       "      <th></th>\n",
       "      <th>ntransfers</th>\n",
       "      <th>gtime</th>\n",
       "      <th>access_time</th>\n",
       "      <th>footpath_time</th>\n",
       "      <th>in_vehicle_time</th>\n",
       "      <th>waiting_time</th>\n",
       "      <th>boarding_time</th>\n",
       "      <th>time</th>\n",
       "    </tr>\n",
       "  </thead>\n",
       "  <tbody>\n",
       "    <tr>\n",
       "      <th>25523</th>\n",
       "      <td>11</td>\n",
       "      <td>7494.0</td>\n",
       "      <td>1579</td>\n",
       "      <td>935</td>\n",
       "      <td>1380</td>\n",
       "      <td>3600.0</td>\n",
       "      <td>0</td>\n",
       "      <td>7494.0</td>\n",
       "    </tr>\n",
       "    <tr>\n",
       "      <th>211451</th>\n",
       "      <td>7</td>\n",
       "      <td>4956.0</td>\n",
       "      <td>1536</td>\n",
       "      <td>0</td>\n",
       "      <td>1020</td>\n",
       "      <td>2400.0</td>\n",
       "      <td>0</td>\n",
       "      <td>4956.0</td>\n",
       "    </tr>\n",
       "  </tbody>\n",
       "</table>\n",
       "</div>"
      ],
      "text/plain": [
       "        ntransfers   gtime  access_time  footpath_time  in_vehicle_time  \\\n",
       "25523           11  7494.0         1579            935             1380   \n",
       "211451           7  4956.0         1536              0             1020   \n",
       "\n",
       "        waiting_time  boarding_time    time  \n",
       "25523         3600.0              0  7494.0  \n",
       "211451        2400.0              0  4956.0  "
      ]
     },
     "execution_count": 21,
     "metadata": {},
     "output_type": "execute_result"
    }
   ],
   "source": [
    "sm.pt_los[['ntransfers']+[c for c in sm.pt_los.columns if c[-4:]=='time']].sample(2)"
   ]
  },
  {
   "cell_type": "code",
   "execution_count": 22,
   "metadata": {},
   "outputs": [],
   "source": [
    "# Add price, parametrisation comes later\n",
    "sm.pt_los['price'] = 0"
   ]
  },
  {
   "cell_type": "code",
   "execution_count": 23,
   "metadata": {},
   "outputs": [],
   "source": [
    "# Add distances\n",
    "len_dict = sm.links['length'].to_dict()\n",
    "sm.pt_los['length'] = sm.pt_los['link_path'].apply(lambda p: sum([len_dict[l] for l in p]))"
   ]
  },
  {
   "cell_type": "code",
   "execution_count": 24,
   "metadata": {},
   "outputs": [],
   "source": [
    "# Add route_types\n",
    "type_dict = sm.links['route_type'].to_dict()\n",
    "sm.pt_los['route_types'] = [set([type_dict[link] for link in l])\n",
    "                            for l in list(sm.pt_los['link_path'])]"
   ]
  },
  {
   "cell_type": "code",
   "execution_count": 25,
   "metadata": {},
   "outputs": [],
   "source": [
    "# Add main route_type based on a hierarchy\n",
    "hierarchy = ['air', 'coach', 'rail_long', 'rail_short', 'bus', 'walk']\n",
    "def main_type(types):\n",
    "    t = hierarchy[-1]\n",
    "    try:\n",
    "        t = hierarchy[min([hierarchy.index(t) for t in types])]\n",
    "    except ValueError: # empty types set\n",
    "        pass\n",
    "    return t\n",
    "sm.pt_los['route_type'] = sm.pt_los['route_types'].apply(main_type)"
   ]
  },
  {
   "cell_type": "code",
   "execution_count": 28,
   "metadata": {},
   "outputs": [],
   "source": [
    "# Add number of transfers\n",
    "#sm.pt_los['ntransfers'] = sm.pt_los['boardings'].apply(lambda l: max(0, len(l) - 1))"
   ]
  },
  {
   "cell_type": "code",
   "execution_count": 26,
   "metadata": {},
   "outputs": [
    {
     "data": {
      "text/html": [
       "<div>\n",
       "<style scoped>\n",
       "    .dataframe tbody tr th:only-of-type {\n",
       "        vertical-align: middle;\n",
       "    }\n",
       "\n",
       "    .dataframe tbody tr th {\n",
       "        vertical-align: top;\n",
       "    }\n",
       "\n",
       "    .dataframe thead th {\n",
       "        text-align: right;\n",
       "    }\n",
       "</style>\n",
       "<table border=\"1\" class=\"dataframe\">\n",
       "  <thead>\n",
       "    <tr style=\"text-align: right;\">\n",
       "      <th></th>\n",
       "      <th>origin</th>\n",
       "      <th>destination</th>\n",
       "      <th>gtime</th>\n",
       "      <th>path</th>\n",
       "      <th>reversed</th>\n",
       "      <th>pathfinder_session</th>\n",
       "      <th>broken_modes</th>\n",
       "      <th>boardings</th>\n",
       "      <th>alightings</th>\n",
       "      <th>node_path</th>\n",
       "      <th>...</th>\n",
       "      <th>access_time</th>\n",
       "      <th>footpath_time</th>\n",
       "      <th>in_vehicle_time</th>\n",
       "      <th>waiting_time</th>\n",
       "      <th>boarding_time</th>\n",
       "      <th>time</th>\n",
       "      <th>price</th>\n",
       "      <th>length</th>\n",
       "      <th>route_types</th>\n",
       "      <th>route_type</th>\n",
       "    </tr>\n",
       "  </thead>\n",
       "  <tbody>\n",
       "    <tr>\n",
       "      <th>114140</th>\n",
       "      <td>DE91B_2</td>\n",
       "      <td>DE712</td>\n",
       "      <td>20873.0</td>\n",
       "      <td>[DE91B_2, rail_long_node_599, coach_node_FLIXB...</td>\n",
       "      <td>False</td>\n",
       "      <td>mode_breaker</td>\n",
       "      <td>{bus, rail_short, rail_long}</td>\n",
       "      <td>[coach_node_FLIXBUS:47]</td>\n",
       "      <td>[coach_node_FLIXBUS:12]</td>\n",
       "      <td>[rail_long_node_599, coach_node_FLIXBUS:47, co...</td>\n",
       "      <td>...</td>\n",
       "      <td>3067</td>\n",
       "      <td>406</td>\n",
       "      <td>16500</td>\n",
       "      <td>900.0</td>\n",
       "      <td>0</td>\n",
       "      <td>20873.0</td>\n",
       "      <td>0</td>\n",
       "      <td>278822</td>\n",
       "      <td>{coach}</td>\n",
       "      <td>coach</td>\n",
       "    </tr>\n",
       "    <tr>\n",
       "      <th>189369</th>\n",
       "      <td>DED52</td>\n",
       "      <td>DE80O_2</td>\n",
       "      <td>14119.0</td>\n",
       "      <td>[DED52, rail_long_node_82, rail_long_node_704,...</td>\n",
       "      <td>False</td>\n",
       "      <td>mode_breaker</td>\n",
       "      <td>{bus, rail_short}</td>\n",
       "      <td>[rail_long_node_704, rail_long_node_671]</td>\n",
       "      <td>[rail_long_node_863, rail_long_node_452]</td>\n",
       "      <td>[rail_long_node_82, rail_long_node_704, rail_l...</td>\n",
       "      <td>...</td>\n",
       "      <td>4699</td>\n",
       "      <td>0</td>\n",
       "      <td>7620</td>\n",
       "      <td>1800.0</td>\n",
       "      <td>0</td>\n",
       "      <td>14119.0</td>\n",
       "      <td>0</td>\n",
       "      <td>398683</td>\n",
       "      <td>{rail_long}</td>\n",
       "      <td>rail_long</td>\n",
       "    </tr>\n",
       "  </tbody>\n",
       "</table>\n",
       "<p>2 rows × 30 columns</p>\n",
       "</div>"
      ],
      "text/plain": [
       "         origin destination    gtime  \\\n",
       "114140  DE91B_2       DE712  20873.0   \n",
       "189369    DED52     DE80O_2  14119.0   \n",
       "\n",
       "                                                     path  reversed  \\\n",
       "114140  [DE91B_2, rail_long_node_599, coach_node_FLIXB...     False   \n",
       "189369  [DED52, rail_long_node_82, rail_long_node_704,...     False   \n",
       "\n",
       "       pathfinder_session                  broken_modes  \\\n",
       "114140       mode_breaker  {bus, rail_short, rail_long}   \n",
       "189369       mode_breaker             {bus, rail_short}   \n",
       "\n",
       "                                       boardings  \\\n",
       "114140                   [coach_node_FLIXBUS:47]   \n",
       "189369  [rail_long_node_704, rail_long_node_671]   \n",
       "\n",
       "                                      alightings  \\\n",
       "114140                   [coach_node_FLIXBUS:12]   \n",
       "189369  [rail_long_node_863, rail_long_node_452]   \n",
       "\n",
       "                                                node_path  ... access_time  \\\n",
       "114140  [rail_long_node_599, coach_node_FLIXBUS:47, co...  ...        3067   \n",
       "189369  [rail_long_node_82, rail_long_node_704, rail_l...  ...        4699   \n",
       "\n",
       "       footpath_time in_vehicle_time waiting_time boarding_time     time  \\\n",
       "114140           406           16500        900.0             0  20873.0   \n",
       "189369             0            7620       1800.0             0  14119.0   \n",
       "\n",
       "        price  length  route_types  route_type  \n",
       "114140      0  278822      {coach}       coach  \n",
       "189369      0  398683  {rail_long}   rail_long  \n",
       "\n",
       "[2 rows x 30 columns]"
      ]
     },
     "execution_count": 26,
     "metadata": {},
     "output_type": "execute_result"
    }
   ],
   "source": [
    "sm.pt_los.sample(2)"
   ]
  },
  {
   "cell_type": "code",
   "execution_count": 27,
   "metadata": {},
   "outputs": [],
   "source": [
    "# Make a copy before restricting results\n",
    "los = sm.pt_los.copy()"
   ]
  },
  {
   "cell_type": "code",
   "execution_count": 71,
   "metadata": {},
   "outputs": [],
   "source": [
    "#sm.pt_los = los.copy()"
   ]
  },
  {
   "cell_type": "markdown",
   "metadata": {},
   "source": [
    "### Clean PT LOS"
   ]
  },
  {
   "cell_type": "code",
   "execution_count": 72,
   "metadata": {},
   "outputs": [
    {
     "data": {
      "text/plain": [
       "(3439788, 30)"
      ]
     },
     "execution_count": 72,
     "metadata": {},
     "output_type": "execute_result"
    }
   ],
   "source": [
    "# Drop trips with coach-rail or coach-air combinations\n",
    "sm.pt_los = sm.pt_los.loc[~sm.pt_los['route_types'].apply(\n",
    "    lambda x: 'coach' in x and ('rail_long' in x or 'rail_short' in x or 'air' in x))]\n",
    "sm.pt_los.shape"
   ]
  },
  {
   "cell_type": "code",
   "execution_count": 73,
   "metadata": {},
   "outputs": [
    {
     "data": {
      "text/plain": [
       "(3432391, 30)"
      ]
     },
     "execution_count": 73,
     "metadata": {},
     "output_type": "execute_result"
    }
   ],
   "source": [
    "# Drop unrealistically long trips\n",
    "sm.pt_los = sm.pt_los.loc[sm.pt_los['in_vehicle_time']<10*3600]\n",
    "sm.pt_los.shape"
   ]
  },
  {
   "cell_type": "code",
   "execution_count": 75,
   "metadata": {},
   "outputs": [
    {
     "data": {
      "text/plain": [
       "(2767052, 31)"
      ]
     },
     "execution_count": 75,
     "metadata": {},
     "output_type": "execute_result"
    }
   ],
   "source": [
    "# Drop duplicates\n",
    "sm.pt_los['path'] = sm.pt_los['path'].apply(tuple)\n",
    "sm.pt_los.drop_duplicates('path', inplace=True)\n",
    "sm.pt_los.reset_index(inplace=True)\n",
    "sm.pt_los.shape"
   ]
  },
  {
   "cell_type": "code",
   "execution_count": 74,
   "metadata": {},
   "outputs": [
    {
     "data": {
      "text/plain": [
       "array([[<AxesSubplot:title={'center':'time'}>]], dtype=object)"
      ]
     },
     "execution_count": 74,
     "metadata": {},
     "output_type": "execute_result"
    },
    {
     "data": {
      "image/png": "[encoded data removed]",
      "text/plain": [
       "<Figure size 288x288 with 1 Axes>"
      ]
     },
     "metadata": {
      "needs_background": "light"
     },
     "output_type": "display_data"
    }
   ],
   "source": [
    "# Time distribution\n",
    "sm.pt_los.hist(column='time', bins=100, figsize=(4,4), log=True)"
   ]
  },
  {
   "cell_type": "code",
   "execution_count": 76,
   "metadata": {},
   "outputs": [
    {
     "data": {
      "text/plain": [
       "array([[<AxesSubplot:title={'center':'ntransfers'}>]], dtype=object)"
      ]
     },
     "execution_count": 76,
     "metadata": {},
     "output_type": "execute_result"
    },
    {
     "data": {
      "image/png": "[encoded data removed]",
      "text/plain": [
       "<Figure size 288x288 with 1 Axes>"
      ]
     },
     "metadata": {
      "needs_background": "light"
     },
     "output_type": "display_data"
    }
   ],
   "source": [
    "sm.pt_los.hist(column='ntransfers', figsize=(4,4))"
   ]
  },
  {
   "cell_type": "code",
   "execution_count": 77,
   "metadata": {},
   "outputs": [
    {
     "data": {
      "text/plain": [
       "<matplotlib.legend.Legend at 0x293b5d0ff70>"
      ]
     },
     "execution_count": 77,
     "metadata": {},
     "output_type": "execute_result"
    },
    {
     "data": {
      "image/png": "[encoded data removed]",
      "text/plain": [
       "<Figure size 1152x216 with 6 Axes>"
      ]
     },
     "metadata": {},
     "output_type": "display_data"
    }
   ],
   "source": [
    "# Main mode distribution by transfers\n",
    "t = sm.pt_los.copy()\n",
    "t['bins'] = pd.cut(t['ntransfers'], bins=[0,1,3,5,10,20,100],\n",
    "                   labels=[\"0-1\", \"2-3\",\"4-5\",\"6-10\",\"11-20\",\"21+\"])\n",
    "axs = t.groupby(['route_type','bins']).size().unstack(fill_value=0).plot.pie(\n",
    "    subplots=True, figsize=(16, 3),\n",
    "    startangle=0, counterclock=False, title='Main mode by number of transfers',\n",
    "    legend=False, labeldistance=None)\n",
    "axs[0].legend(loc='lower left')"
   ]
  },
  {
   "cell_type": "code",
   "execution_count": 78,
   "metadata": {},
   "outputs": [
    {
     "data": {
      "text/plain": [
       "<AxesSubplot:xlabel='route_types'>"
      ]
     },
     "execution_count": 78,
     "metadata": {},
     "output_type": "execute_result"
    },
    {
     "data": {
      "image/png": "[encoded data removed]",
      "text/plain": [
       "<Figure size 432x288 with 1 Axes>"
      ]
     },
     "metadata": {
      "needs_background": "light"
     },
     "output_type": "display_data"
    }
   ],
   "source": [
    "# Distribution of mode combinations\n",
    "t['route_types'] = t['route_types'].apply(tuple)\n",
    "t.groupby('route_types').count()['route_type'].plot(kind='bar')"
   ]
  },
  {
   "cell_type": "code",
   "execution_count": 79,
   "metadata": {},
   "outputs": [
    {
     "data": {
      "text/plain": [
       "<matplotlib.legend.Legend at 0x293818608b0>"
      ]
     },
     "execution_count": 79,
     "metadata": {},
     "output_type": "execute_result"
    },
    {
     "data": {
      "image/png": "[encoded data removed]",
      "text/plain": [
       "<Figure size 1152x216 with 6 Axes>"
      ]
     },
     "metadata": {},
     "output_type": "display_data"
    }
   ],
   "source": [
    "t['time'] = t['time'] / 60\n",
    "t['bins'] = pd.cut(t['time'], bins=[0,15,30,60,120,360,500],\n",
    "                   labels=[\"0-15\", \"16-30\",\"31-60\",\"61-120\",\"120-360\",\"361+\"])\n",
    "axs = t.groupby(['route_type','bins']).size().unstack(fill_value=0).plot.pie(\n",
    "    subplots=True, figsize=(16, 3),\n",
    "    startangle=0, counterclock=False, title='Main mode by trip duration',\n",
    "    legend=False, labeldistance=None)\n",
    "axs[-2].legend()"
   ]
  },
  {
   "cell_type": "code",
   "execution_count": 80,
   "metadata": {},
   "outputs": [],
   "source": [
    "t = None"
   ]
  },
  {
   "cell_type": "code",
   "execution_count": 82,
   "metadata": {},
   "outputs": [
    {
     "name": "stdout",
     "output_type": "stream",
     "text": [
      "(1204532, 31)\n",
      "(1067297, 31)\n"
     ]
    }
   ],
   "source": [
    "# Drop unnecessary long connections if there is a waiting time applied\n",
    "if sm.links['headway'].mean() > 5*60:\n",
    "    sm.pt_los = sm.pt_los.loc[sm.pt_los['ntransfers']<=10]\n",
    "    print(sm.pt_los.shape)\n",
    "    # Drop coach connections with more than one transfer\n",
    "    sm.pt_los = sm.pt_los.loc[~((sm.pt_los['route_type']=='coach') &\n",
    "                                (sm.pt_los['boardings'].apply(\n",
    "                                    lambda l: len([n for n in l if n.startswith('coach')])>2)\n",
    "                                ))]\n",
    "    print(sm.pt_los.shape)"
   ]
  },
  {
   "cell_type": "code",
   "execution_count": 81,
   "metadata": {},
   "outputs": [
    {
     "data": {
      "text/plain": [
       "(1461204, 31)"
      ]
     },
     "execution_count": 81,
     "metadata": {},
     "output_type": "execute_result"
    }
   ],
   "source": [
    "# Keep only the fastest trip(s)\n",
    "sm.pt_los['route_types'] = sm.pt_los['route_types'].apply(tuple)\n",
    "sm.pt_los = sm.pt_los.sort_values('time').groupby(\n",
    "    ['origin', 'destination', 'route_types']).nth([0, 1]).reset_index()\n",
    "sm.pt_los.shape"
   ]
  },
  {
   "cell_type": "code",
   "execution_count": 83,
   "metadata": {},
   "outputs": [
    {
     "data": {
      "text/plain": [
       "<AxesSubplot:xlabel='route_types'>"
      ]
     },
     "execution_count": 83,
     "metadata": {},
     "output_type": "execute_result"
    },
    {
     "data": {
      "image/png": "[encoded data removed]",
      "text/plain": [
       "<Figure size 432x288 with 1 Axes>"
      ]
     },
     "metadata": {
      "needs_background": "light"
     },
     "output_type": "display_data"
    }
   ],
   "source": [
    "sm.pt_los.groupby('route_types').count()['route_type'].plot(kind='bar')"
   ]
  },
  {
   "cell_type": "markdown",
   "metadata": {},
   "source": [
    "### Save model"
   ]
  },
  {
   "cell_type": "code",
   "execution_count": 85,
   "metadata": {},
   "outputs": [],
   "source": [
    "# Ditch unneccessary columns\n",
    "to_drop = ['gtime', 'path', 'reversed', 'pathfinder_session',\n",
    "           'broken_modes', 'boardings', 'alightings', 'node_path',\n",
    "           'footpaths', 'ntlegs', 'transfers', 'boarding_links',\n",
    "           'alighting_links', 'all_walk', 'time_link_path',\n",
    "           'length_link_path', 'boarding_time', 'index']\n",
    "sm.pt_los = sm.pt_los.drop(to_drop, axis=1, errors='ignore')"
   ]
  },
  {
   "cell_type": "code",
   "execution_count": 86,
   "metadata": {},
   "outputs": [],
   "source": [
    "# Clean links table\n",
    "to_drop = ['duration', 'cost', 'origin', 'destination']\n",
    "sm.links = sm.links.drop(to_drop, axis=1, errors='ignore')"
   ]
  },
  {
   "cell_type": "code",
   "execution_count": 87,
   "metadata": {},
   "outputs": [],
   "source": [
    "# Make table smaller\n",
    "cols = ['time', 'access_time', 'in_vehicle_time', 'footpath_time',\n",
    "        'waiting_time', 'length']\n",
    "sm.pt_los[cols] = sm.pt_los[cols].astype(int)"
   ]
  },
  {
   "cell_type": "code",
   "execution_count": 88,
   "metadata": {},
   "outputs": [
    {
     "data": {
      "text/html": [
       "<div>\n",
       "<style scoped>\n",
       "    .dataframe tbody tr th:only-of-type {\n",
       "        vertical-align: middle;\n",
       "    }\n",
       "\n",
       "    .dataframe tbody tr th {\n",
       "        vertical-align: top;\n",
       "    }\n",
       "\n",
       "    .dataframe thead th {\n",
       "        text-align: right;\n",
       "    }\n",
       "</style>\n",
       "<table border=\"1\" class=\"dataframe\">\n",
       "  <thead>\n",
       "    <tr style=\"text-align: right;\">\n",
       "      <th></th>\n",
       "      <th>origin</th>\n",
       "      <th>destination</th>\n",
       "      <th>route_types</th>\n",
       "      <th>link_path</th>\n",
       "      <th>ntransfers</th>\n",
       "      <th>access_time</th>\n",
       "      <th>footpath_time</th>\n",
       "      <th>in_vehicle_time</th>\n",
       "      <th>waiting_time</th>\n",
       "      <th>time</th>\n",
       "      <th>price</th>\n",
       "      <th>length</th>\n",
       "      <th>route_type</th>\n",
       "    </tr>\n",
       "  </thead>\n",
       "  <tbody>\n",
       "    <tr>\n",
       "      <th>1304466</th>\n",
       "      <td>DEE07</td>\n",
       "      <td>DEA27</td>\n",
       "      <td>(rail_short,)</td>\n",
       "      <td>[r_s_178534, r_s_100722, r_s_143233, r_s_14323...</td>\n",
       "      <td>7</td>\n",
       "      <td>1618</td>\n",
       "      <td>0</td>\n",
       "      <td>6580</td>\n",
       "      <td>7200</td>\n",
       "      <td>15398</td>\n",
       "      <td>0</td>\n",
       "      <td>607540</td>\n",
       "      <td>rail_short</td>\n",
       "    </tr>\n",
       "  </tbody>\n",
       "</table>\n",
       "</div>"
      ],
      "text/plain": [
       "        origin destination    route_types  \\\n",
       "1304466  DEE07       DEA27  (rail_short,)   \n",
       "\n",
       "                                                 link_path  ntransfers  \\\n",
       "1304466  [r_s_178534, r_s_100722, r_s_143233, r_s_14323...           7   \n",
       "\n",
       "         access_time  footpath_time  in_vehicle_time  waiting_time   time  \\\n",
       "1304466         1618              0             6580          7200  15398   \n",
       "\n",
       "         price  length  route_type  \n",
       "1304466      0  607540  rail_short  "
      ]
     },
     "execution_count": 88,
     "metadata": {},
     "output_type": "execute_result"
    }
   ],
   "source": [
    "sm.pt_los.sample()"
   ]
  },
  {
   "cell_type": "code",
   "execution_count": 89,
   "metadata": {},
   "outputs": [
    {
     "name": "stderr",
     "output_type": "stream",
     "text": [
      "to_hdf(overwriting): 100%|█████████████████████████████████████████████████████████████| 35/35 [00:16<00:00,  2.06it/s]\n"
     ]
    }
   ],
   "source": [
    "# Saving LoS...\n",
    "sm.to_json(model_path + 'de_pt_los', only_attributes=['pt_los'],\n",
    "           encoding='utf-8')"
   ]
  },
  {
   "cell_type": "code",
   "execution_count": 90,
   "metadata": {},
   "outputs": [],
   "source": [
    "# Split links in graph and auxiliary information\n",
    "# for file sizes being compatible with github's size limit\n",
    "cols = ['link_sequence', 'route_id', 'time', 'trip_id', 'length', 'headway']\n",
    "auxiliary = sm.links[cols]\n",
    "sm.links.drop(cols, axis=1, inplace=True)"
   ]
  },
  {
   "cell_type": "code",
   "execution_count": 91,
   "metadata": {},
   "outputs": [
    {
     "name": "stderr",
     "output_type": "stream",
     "text": [
      "to_hdf(overwriting): 100%|█████████████████████████████████████████████████████████████| 35/35 [00:31<00:00,  1.10it/s]\n"
     ]
    }
   ],
   "source": [
    "sm.to_json(model_path + 'de_pt_network_agg', only_attributes=[\n",
    "    'zones', 'links', 'nodes', 'pt_route_types'],\n",
    "           encoding='utf-8')"
   ]
  },
  {
   "cell_type": "code",
   "execution_count": 92,
   "metadata": {},
   "outputs": [],
   "source": [
    "# Save auxiliary information seperately\n",
    "auxiliary['index'] = auxiliary.index\n",
    "auxiliary.reset_index(drop=True, inplace=True)\n",
    "auxiliary.to_json(model_path + 'de_pt_network_agg/links_quetzaldata.json')"
   ]
  }
 ],
 "metadata": {
  "kernelspec": {
   "display_name": "Python 3",
   "language": "python",
   "name": "python3"
  },
  "language_info": {
   "codemirror_mode": {
    "name": "ipython",
    "version": 3
   },
   "file_extension": ".py",
   "mimetype": "text/x-python",
   "name": "python",
   "nbconvert_exporter": "python",
   "pygments_lexer": "ipython3",
   "version": "3.8.1"
  }
 },
 "nbformat": 4,
 "nbformat_minor": 2
}
