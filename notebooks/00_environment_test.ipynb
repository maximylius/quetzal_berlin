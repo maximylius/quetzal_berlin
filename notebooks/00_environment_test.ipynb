{
 "cells": [
  {
   "cell_type": "markdown",
   "metadata": {},
   "source": [
    "# Test your virtual environment\n",
    "\n",
    "If the following package imports run without errors, your environment is good to go. Otherwise, try to deal with the errors or install the corresponding library again. You can contribute your solution to this issue on github and also read others' solutions: https://github.com/systragroup/quetzal/issues/45"
   ]
  },
  {
   "cell_type": "code",
   "execution_count": null,
   "metadata": {},
   "outputs": [],
   "source": [
    "import sys # for automation and parallelisation"
   ]
  },
  {
   "cell_type": "code",
   "execution_count": 1,
   "metadata": {},
   "outputs": [],
   "source": [
    "# Most people have trouble with the GDAL library or rtree,\n",
    "# which connects to geopandas\n",
    "import geopandas"
   ]
  },
  {
   "cell_type": "code",
   "execution_count": 2,
   "metadata": {},
   "outputs": [],
   "source": [
    "# Another critical library\n",
    "import osmnx"
   ]
  },
  {
   "cell_type": "code",
   "execution_count": 3,
   "metadata": {},
   "outputs": [
    {
     "name": "stdout",
     "output_type": "stream",
     "text": [
      "SQLalchemy is not installed. No support for SQL output.\n"
     ]
    }
   ],
   "source": [
    "# Is the quetzal library installed properly?\n",
    "from quetzal.model import stepmodel\n",
    "from syspy.skims import skims"
   ]
  },
  {
   "cell_type": "code",
   "execution_count": 7,
   "metadata": {},
   "outputs": [
    {
     "name": "stdout",
     "output_type": "stream",
     "text": [
      "['c:\\\\ProgramData\\\\Anaconda3\\\\envs\\\\quetzal_env\\\\lib\\\\site-packages\\\\ipykernel_launcher.py', '--ip=127.0.0.1', '--stdin=9028', '--control=9026', '--hb=9025', '--Session.signature_scheme=\"hmac-sha256\"', '--Session.key=b\"f55d02b0-0b7f-40ff-afdb-c6db526b4f20\"', '--shell=9027', '--transport=\"tcp\"', '--iopub=9029', '--f=c:\\\\Users\\\\BSE\\\\AppData\\\\Roaming\\\\jupyter\\\\runtime\\\\kernel-v2-6416b2uP9f29m34Z.json']\n"
     ]
    }
   ],
   "source": [
    "print(sys.argv)"
   ]
  },
  {
   "cell_type": "code",
   "execution_count": null,
   "metadata": {},
   "outputs": [],
   "source": [
    "# If you want to work on the estimation, biogeme must be installed\n",
    "# import biogeme"
   ]
  }
 ],
 "metadata": {
  "kernelspec": {
   "display_name": "Python 3.8.12 ('quetzal_env')",
   "language": "python",
   "name": "python3"
  },
  "language_info": {
   "codemirror_mode": {
    "name": "ipython",
    "version": 3
   },
   "file_extension": ".py",
   "mimetype": "text/x-python",
   "name": "python",
   "nbconvert_exporter": "python",
   "pygments_lexer": "ipython3",
   "version": "3.8.12"
  },
  "vscode": {
   "interpreter": {
    "hash": "3cc4bcfe731f2ee019f386507748d81bde603c38f633cd56cfe2936f38177aa1"
   }
  }
 },
 "nbformat": 4,
 "nbformat_minor": 4
}
