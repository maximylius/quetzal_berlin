{
 "cells": [
  {
   "cell_type": "code",
   "execution_count": 1,
   "metadata": {
    "scrolled": true
   },
   "outputs": [
    {
     "name": "stderr",
     "output_type": "stream",
     "text": [
      "In C:\\Users\\marlin.arnz\\AppData\\Local\\Continuum\\miniconda3\\envs\\quetzal\\lib\\site-packages\\matplotlib\\mpl-data\\stylelib\\_classic_test.mplstyle: \n",
      "The text.latex.preview rcparam was deprecated in Matplotlib 3.3 and will be removed two minor releases later.\n",
      "In C:\\Users\\marlin.arnz\\AppData\\Local\\Continuum\\miniconda3\\envs\\quetzal\\lib\\site-packages\\matplotlib\\mpl-data\\stylelib\\_classic_test.mplstyle: \n",
      "The mathtext.fallback_to_cm rcparam was deprecated in Matplotlib 3.3 and will be removed two minor releases later.\n",
      "In C:\\Users\\marlin.arnz\\AppData\\Local\\Continuum\\miniconda3\\envs\\quetzal\\lib\\site-packages\\matplotlib\\mpl-data\\stylelib\\_classic_test.mplstyle: Support for setting the 'mathtext.fallback_to_cm' rcParam is deprecated since 3.3 and will be removed two minor releases later; use 'mathtext.fallback : 'cm' instead.\n",
      "In C:\\Users\\marlin.arnz\\AppData\\Local\\Continuum\\miniconda3\\envs\\quetzal\\lib\\site-packages\\matplotlib\\mpl-data\\stylelib\\_classic_test.mplstyle: \n",
      "The validate_bool_maybe_none function was deprecated in Matplotlib 3.3 and will be removed two minor releases later.\n",
      "In C:\\Users\\marlin.arnz\\AppData\\Local\\Continuum\\miniconda3\\envs\\quetzal\\lib\\site-packages\\matplotlib\\mpl-data\\stylelib\\_classic_test.mplstyle: \n",
      "The savefig.jpeg_quality rcparam was deprecated in Matplotlib 3.3 and will be removed two minor releases later.\n",
      "In C:\\Users\\marlin.arnz\\AppData\\Local\\Continuum\\miniconda3\\envs\\quetzal\\lib\\site-packages\\matplotlib\\mpl-data\\stylelib\\_classic_test.mplstyle: \n",
      "The keymap.all_axes rcparam was deprecated in Matplotlib 3.3 and will be removed two minor releases later.\n",
      "In C:\\Users\\marlin.arnz\\AppData\\Local\\Continuum\\miniconda3\\envs\\quetzal\\lib\\site-packages\\matplotlib\\mpl-data\\stylelib\\_classic_test.mplstyle: \n",
      "The animation.avconv_path rcparam was deprecated in Matplotlib 3.3 and will be removed two minor releases later.\n",
      "In C:\\Users\\marlin.arnz\\AppData\\Local\\Continuum\\miniconda3\\envs\\quetzal\\lib\\site-packages\\matplotlib\\mpl-data\\stylelib\\_classic_test.mplstyle: \n",
      "The animation.avconv_args rcparam was deprecated in Matplotlib 3.3 and will be removed two minor releases later.\n"
     ]
    }
   ],
   "source": [
    "import os\n",
    "import pandas as pd\n",
    "import geopandas as gpd\n",
    "import numpy as np\n",
    "from shapely import geometry\n",
    "import shapely.speedups\n",
    "from geopy.distance import geodesic\n",
    "from tqdm import tqdm\n",
    "from sklearn.cluster import KMeans\n",
    "from quetzal.model import stepmodel"
   ]
  },
  {
   "cell_type": "markdown",
   "metadata": {},
   "source": [
    "# Preparation of input data\n",
    "## Generates a DataFrame of PT stops with mean weighted distances to population cells\n",
    "## Needs all PT nodes"
   ]
  },
  {
   "cell_type": "code",
   "execution_count": 2,
   "metadata": {},
   "outputs": [],
   "source": [
    "input_path = '../input_static/spatial_'\n",
    "output_path = '../output/'\n",
    "model_path = '../model/'"
   ]
  },
  {
   "cell_type": "code",
   "execution_count": 3,
   "metadata": {},
   "outputs": [],
   "source": [
    "sm = stepmodel.read_json(model_path + 'de_pt_network')"
   ]
  },
  {
   "cell_type": "code",
   "execution_count": 4,
   "metadata": {},
   "outputs": [
    {
     "name": "stderr",
     "output_type": "stream",
     "text": [
      "100%|████████████████████████████████████████████████████████████████████████████████| 467/467 [00:43<00:00, 10.63it/s]\n",
      "to_hdf(overwriting): 100%|█████████████████████████████████████████████████████████████| 36/36 [00:31<00:00,  1.13it/s]\n"
     ]
    }
   ],
   "source": [
    "# Map nodes to zones\n",
    "if 'FID' not in sm.nodes.columns:\n",
    "    shapely.speedups.enable()\n",
    "    sm.nodes['FID'] = np.nan\n",
    "    sm.nodes = gpd.GeoDataFrame(sm.nodes, crs=sm.epsg)\n",
    "    for _, zone in tqdm(sm.zones.iterrows(), total=sm.zones.shape[0]):\n",
    "        sm.nodes.loc[sm.nodes['geometry'].within(zone['geometry']), 'FID'] = zone['FID']\n",
    "    sm.to_json(model_path + 'de_pt_network',\n",
    "          only_attributes=['zones', 'links', 'nodes',\n",
    "                           'pt_routes', 'agencies',\n",
    "                           'pt_route_types'], encoding='utf-8')"
   ]
  },
  {
   "cell_type": "code",
   "execution_count": 5,
   "metadata": {},
   "outputs": [],
   "source": [
    "bus = stepmodel.read_json(model_path + 'de_pt_network_bus')"
   ]
  },
  {
   "cell_type": "code",
   "execution_count": 6,
   "metadata": {},
   "outputs": [
    {
     "name": "stderr",
     "output_type": "stream",
     "text": [
      "100%|████████████████████████████████████████████████████████████████████████████████| 467/467 [16:12<00:00,  2.08s/it]\n",
      "to_hdf(overwriting): 100%|█████████████████████████████████████████████████████████████| 36/36 [07:02<00:00, 11.74s/it]\n"
     ]
    }
   ],
   "source": [
    "# Map bus nodes to zones\n",
    "if 'FID' not in bus.nodes.columns:\n",
    "    shapely.speedups.enable()\n",
    "    bus.nodes['FID'] = np.nan\n",
    "    bus.nodes = gpd.GeoDataFrame(bus.nodes, crs=sm.epsg)\n",
    "    for _, zone in tqdm(bus.zones.iterrows(), total=bus.zones.shape[0]):\n",
    "        bus.nodes.loc[bus.nodes['geometry'].within(zone['geometry']), 'FID'] = zone['FID']\n",
    "    bus.to_json(model_path + 'de_pt_network_bus',\n",
    "          only_attributes=['zones', 'links', 'nodes',\n",
    "                           'pt_route_types', 'agencies',\n",
    "                           'pt_routes'], encoding='utf-8')"
   ]
  },
  {
   "cell_type": "code",
   "execution_count": 7,
   "metadata": {},
   "outputs": [],
   "source": [
    "# Merge\n",
    "sm.nodes = sm.nodes.append(bus.nodes)"
   ]
  },
  {
   "cell_type": "markdown",
   "metadata": {},
   "source": [
    "## Use census data\n",
    "The important question for mode choice problems: How long/inconvenient is it from home to the next PT stop? </br>\n",
    "Approach: Build population densities from census data and calculate the mean weighted distance to the next PT stop."
   ]
  },
  {
   "cell_type": "code",
   "execution_count": 8,
   "metadata": {},
   "outputs": [],
   "source": [
    "# Load census data: Zensus 2011 - Einwohnerzahl je Hektar\n",
    "# Copyright: © Statistisches Bundesamt, Wiesbaden 2015\n",
    "# (im Auftrag der Herausgebergemeinschaft)\n",
    "# Vervielfältigung und Verbreitung, auch auszugsweise, mit Quellenangabe gestattet\n",
    "if os.path.isfile(input_path + 'Zensus_2011.geojson'):\n",
    "    pop = gpd.read_file(input_path + 'Zensus_2011.geojson', driver='GeoJSON')\n",
    "else:\n",
    "    pop = pd.read_csv(input_path + 'Zensus_2011.csv', sep=';')\n",
    "    # Restrict to entries that hold information\n",
    "    pop = pop.loc[pop['Einwohner']!=-1]\n",
    "    pop = gpd.GeoDataFrame(pop[['Einwohner']],\n",
    "                          geometry=gpd.points_from_xy(pop['x_mp_100m'], pop['y_mp_100m']))\n",
    "    pop.crs = 3035\n",
    "    pop.to_crs(sm.epsg, inplace=True)"
   ]
  },
  {
   "cell_type": "code",
   "execution_count": 9,
   "metadata": {},
   "outputs": [
    {
     "name": "stdout",
     "output_type": "stream",
     "text": [
      "(3177723, 4)\n"
     ]
    },
    {
     "data": {
      "text/html": [
       "<div>\n",
       "<style scoped>\n",
       "    .dataframe tbody tr th:only-of-type {\n",
       "        vertical-align: middle;\n",
       "    }\n",
       "\n",
       "    .dataframe tbody tr th {\n",
       "        vertical-align: top;\n",
       "    }\n",
       "\n",
       "    .dataframe thead th {\n",
       "        text-align: right;\n",
       "    }\n",
       "</style>\n",
       "<table border=\"1\" class=\"dataframe\">\n",
       "  <thead>\n",
       "    <tr style=\"text-align: right;\">\n",
       "      <th></th>\n",
       "      <th>Einwohner</th>\n",
       "      <th>NUTS_ID</th>\n",
       "      <th>FID</th>\n",
       "      <th>geometry</th>\n",
       "    </tr>\n",
       "  </thead>\n",
       "  <tbody>\n",
       "    <tr>\n",
       "      <th>0</th>\n",
       "      <td>8</td>\n",
       "      <td>DE27E</td>\n",
       "      <td>DE27E</td>\n",
       "      <td>POINT (10.21212 47.31574)</td>\n",
       "    </tr>\n",
       "    <tr>\n",
       "      <th>1</th>\n",
       "      <td>7</td>\n",
       "      <td>DE27E</td>\n",
       "      <td>DE27E</td>\n",
       "      <td>POINT (10.26631 47.31562)</td>\n",
       "    </tr>\n",
       "  </tbody>\n",
       "</table>\n",
       "</div>"
      ],
      "text/plain": [
       "   Einwohner NUTS_ID    FID                   geometry\n",
       "0          8   DE27E  DE27E  POINT (10.21212 47.31574)\n",
       "1          7   DE27E  DE27E  POINT (10.26631 47.31562)"
      ]
     },
     "execution_count": 9,
     "metadata": {},
     "output_type": "execute_result"
    }
   ],
   "source": [
    "print(pop.shape)\n",
    "pop.head(2)"
   ]
  },
  {
   "cell_type": "code",
   "execution_count": 10,
   "metadata": {},
   "outputs": [],
   "source": [
    "pop_r = pop"
   ]
  },
  {
   "cell_type": "code",
   "execution_count": 11,
   "metadata": {},
   "outputs": [],
   "source": [
    "# Restrict to a geometric hull\n",
    "#zones = gpd.read_file(\"../input/network/zones/NUTS_RG_01M_2016_4326.geojson\")\n",
    "#zones = zones[zones[\"CNTR_CODE\"] == \"DE\"]\n",
    "#zones = zones[zones[\"id\"].str.startswith(\"DE73\")] # only Kassel and surrounding\n",
    "#hull = zones[\"geometry\"].values[0].buffer(1e-3) # index 0 for Germany; 12 for Berlin\n",
    "# Restrict to the geometric hull if the latter is not Germany\n",
    "#pop_r = pop.loc[pop['geometry'].apply(lambda p: p.within(hull))]\n",
    "#print(pop_r.shape)"
   ]
  },
  {
   "cell_type": "code",
   "execution_count": 12,
   "metadata": {},
   "outputs": [
    {
     "name": "stderr",
     "output_type": "stream",
     "text": [
      "100%|██████████████████████████████████████████████████████████████████████████████| 467/467 [2:04:04<00:00, 15.94s/it]\n"
     ]
    }
   ],
   "source": [
    "# Map to zones\n",
    "if 'FID' not in pop_r.columns:\n",
    "    shapely.speedups.enable()\n",
    "    pop_r['FID'] = np.nan\n",
    "    for _, zone in tqdm(sm.zones.iterrows(), total=sm.zones.shape[0]):\n",
    "        pop_r.loc[pop_r['geometry'].within(zone['geometry']), 'FID'] = zone['FID']\n",
    "    pop_r.to_file(input_path + 'Zensus_2011.geojson', driver='GeoJSON')"
   ]
  },
  {
   "cell_type": "code",
   "execution_count": 13,
   "metadata": {},
   "outputs": [
    {
     "data": {
      "text/html": [
       "<div>\n",
       "<style scoped>\n",
       "    .dataframe tbody tr th:only-of-type {\n",
       "        vertical-align: middle;\n",
       "    }\n",
       "\n",
       "    .dataframe tbody tr th {\n",
       "        vertical-align: top;\n",
       "    }\n",
       "\n",
       "    .dataframe thead th {\n",
       "        text-align: right;\n",
       "    }\n",
       "</style>\n",
       "<table border=\"1\" class=\"dataframe\">\n",
       "  <thead>\n",
       "    <tr style=\"text-align: right;\">\n",
       "      <th></th>\n",
       "      <th>Einwohner</th>\n",
       "      <th>NUTS_ID</th>\n",
       "      <th>FID</th>\n",
       "      <th>geometry</th>\n",
       "    </tr>\n",
       "  </thead>\n",
       "  <tbody>\n",
       "    <tr>\n",
       "      <th>3816</th>\n",
       "      <td>5</td>\n",
       "      <td>None</td>\n",
       "      <td>None</td>\n",
       "      <td>POINT (9.91838 47.53103)</td>\n",
       "    </tr>\n",
       "    <tr>\n",
       "      <th>3962</th>\n",
       "      <td>13</td>\n",
       "      <td>None</td>\n",
       "      <td>None</td>\n",
       "      <td>POINT (9.73521 47.53524)</td>\n",
       "    </tr>\n",
       "    <tr>\n",
       "      <th>3994</th>\n",
       "      <td>13</td>\n",
       "      <td>None</td>\n",
       "      <td>None</td>\n",
       "      <td>POINT (9.73654 47.53615)</td>\n",
       "    </tr>\n",
       "    <tr>\n",
       "      <th>5554</th>\n",
       "      <td>19</td>\n",
       "      <td>None</td>\n",
       "      <td>None</td>\n",
       "      <td>POINT (9.74703 47.56137)</td>\n",
       "    </tr>\n",
       "    <tr>\n",
       "      <th>7497</th>\n",
       "      <td>5</td>\n",
       "      <td>None</td>\n",
       "      <td>None</td>\n",
       "      <td>POINT (8.08700 47.55841)</td>\n",
       "    </tr>\n",
       "    <tr>\n",
       "      <th>...</th>\n",
       "      <td>...</td>\n",
       "      <td>...</td>\n",
       "      <td>...</td>\n",
       "      <td>...</td>\n",
       "    </tr>\n",
       "    <tr>\n",
       "      <th>3177060</th>\n",
       "      <td>3</td>\n",
       "      <td>None</td>\n",
       "      <td>None</td>\n",
       "      <td>POINT (8.69160 54.90699)</td>\n",
       "    </tr>\n",
       "    <tr>\n",
       "      <th>3177077</th>\n",
       "      <td>3</td>\n",
       "      <td>None</td>\n",
       "      <td>None</td>\n",
       "      <td>POINT (8.69001 54.90787)</td>\n",
       "    </tr>\n",
       "    <tr>\n",
       "      <th>3177148</th>\n",
       "      <td>9</td>\n",
       "      <td>None</td>\n",
       "      <td>None</td>\n",
       "      <td>POINT (8.67119 54.91127)</td>\n",
       "    </tr>\n",
       "    <tr>\n",
       "      <th>3177149</th>\n",
       "      <td>3</td>\n",
       "      <td>None</td>\n",
       "      <td>None</td>\n",
       "      <td>POINT (8.67275 54.91129)</td>\n",
       "    </tr>\n",
       "    <tr>\n",
       "      <th>3177636</th>\n",
       "      <td>6</td>\n",
       "      <td>None</td>\n",
       "      <td>None</td>\n",
       "      <td>POINT (8.42414 55.01087)</td>\n",
       "    </tr>\n",
       "  </tbody>\n",
       "</table>\n",
       "<p>1876 rows × 4 columns</p>\n",
       "</div>"
      ],
      "text/plain": [
       "         Einwohner NUTS_ID   FID                  geometry\n",
       "3816             5    None  None  POINT (9.91838 47.53103)\n",
       "3962            13    None  None  POINT (9.73521 47.53524)\n",
       "3994            13    None  None  POINT (9.73654 47.53615)\n",
       "5554            19    None  None  POINT (9.74703 47.56137)\n",
       "7497             5    None  None  POINT (8.08700 47.55841)\n",
       "...            ...     ...   ...                       ...\n",
       "3177060          3    None  None  POINT (8.69160 54.90699)\n",
       "3177077          3    None  None  POINT (8.69001 54.90787)\n",
       "3177148          9    None  None  POINT (8.67119 54.91127)\n",
       "3177149          3    None  None  POINT (8.67275 54.91129)\n",
       "3177636          6    None  None  POINT (8.42414 55.01087)\n",
       "\n",
       "[1876 rows x 4 columns]"
      ]
     },
     "execution_count": 13,
     "metadata": {},
     "output_type": "execute_result"
    }
   ],
   "source": [
    "pop_r.loc[pop_r['FID'].isna()]"
   ]
  },
  {
   "cell_type": "code",
   "execution_count": 14,
   "metadata": {},
   "outputs": [
    {
     "data": {
      "text/plain": [
       "<AxesSubplot:>"
      ]
     },
     "execution_count": 14,
     "metadata": {},
     "output_type": "execute_result"
    },
    {
     "data": {
      "image/png": "[encoded data removed]",
      "text/plain": [
       "<Figure size 432x288 with 1 Axes>"
      ]
     },
     "metadata": {
      "needs_background": "light"
     },
     "output_type": "display_data"
    }
   ],
   "source": [
    "# Visualise\n",
    "#zones_plot = sm.plot('zones', alpha=0.1, figsize=[16, 9], color='green')\n",
    "pop_r.plot(markersize=list(pop_r['Einwohner']/150), alpha=0.2)#, ax=zones_plot)"
   ]
  },
  {
   "cell_type": "markdown",
   "metadata": {},
   "source": [
    "### Apply K-Means to find weighted distances of PT stops"
   ]
  },
  {
   "cell_type": "code",
   "execution_count": 15,
   "metadata": {},
   "outputs": [
    {
     "data": {
      "text/plain": [
       "(417977, 4)"
      ]
     },
     "execution_count": 15,
     "metadata": {},
     "output_type": "execute_result"
    }
   ],
   "source": [
    "sm.nodes.shape"
   ]
  },
  {
   "cell_type": "code",
   "execution_count": 16,
   "metadata": {},
   "outputs": [],
   "source": [
    "# Settings:\n",
    "dist_col = 'weighted_dist'\n",
    "mean_dist_col = 'mean_weighted_dist'\n",
    "cent_col = 'cluster_center'\n",
    "pop_col = 'population'\n",
    "max_iter_per_group = 10"
   ]
  },
  {
   "cell_type": "code",
   "execution_count": 17,
   "metadata": {},
   "outputs": [],
   "source": [
    "def weighted_dist(zone):\n",
    "    nuts_id = zone['FID'].unique()[0]\n",
    "    # Get the population points\n",
    "    pop_p = pop_r.loc[pop_r['FID']==nuts_id]\n",
    "    # Count the number of PT stops in the zone and make it the number of clusters\n",
    "    n_clusters = len(zone.index)\n",
    "    if n_clusters > 0:\n",
    "        # Prepare sample\n",
    "        X = np.array([[p.x, p.y] for p in list(pop_p['geometry'])])\n",
    "        # Prepare initial starting points\n",
    "        nodes_coords = np.array([[p.x, p.y] for p in list(zone['geometry'])])\n",
    "        # Apply weighted K-Means\n",
    "        kmeans = KMeans(n_clusters=n_clusters,\n",
    "                        random_state=0,\n",
    "                        init=nodes_coords,\n",
    "                        max_iter=max_iter_per_group)\n",
    "        kmeans.fit(X, sample_weight=np.array(list(pop_p['Einwohner'])))\n",
    "        # Create results DataFrame\n",
    "        zone[cent_col] = [geometry.Point(c[0], c[1]) for c in kmeans.cluster_centers_]\n",
    "        # Add population to calculate the mean weighted distance for each zone later\n",
    "        #pop_p['label'] = list(kmeans.labels_)\n",
    "        #zone[pop_col] = list(pop_p.groupby('label').agg({'Einwohner': 'sum'})['Einwohner'])\n",
    "        #zone[pop_col] = sm.zones.loc[nuts_id, 'population']\n",
    "        # Calculate distance between centroid and PT node\n",
    "        zone[dist_col] = [geodesic(kmeans.cluster_centers_[i], nodes_coords[i]).km * 1000\n",
    "                          for i in range(n_clusters)]\n",
    "        # Add mean weighted distance\n",
    "        zone[mean_dist_col] = zone[dist_col].mean()\n",
    "        return zone\n",
    "    else:\n",
    "        return"
   ]
  },
  {
   "cell_type": "code",
   "execution_count": 18,
   "metadata": {
    "scrolled": true
   },
   "outputs": [
    {
     "name": "stderr",
     "output_type": "stream",
     "text": [
      "100%|██████████████████████████████████████████████████████████████████████████████| 1379/1379 [24:26<00:00,  1.06s/it]\n"
     ]
    }
   ],
   "source": [
    "# Generate clusters for every route type\n",
    "tqdm.pandas()\n",
    "clusters = sm.nodes.groupby(['route_type', 'FID']).progress_apply(weighted_dist)"
   ]
  },
  {
   "cell_type": "code",
   "execution_count": 19,
   "metadata": {},
   "outputs": [
    {
     "data": {
      "text/html": [
       "<div>\n",
       "<style scoped>\n",
       "    .dataframe tbody tr th:only-of-type {\n",
       "        vertical-align: middle;\n",
       "    }\n",
       "\n",
       "    .dataframe tbody tr th {\n",
       "        vertical-align: top;\n",
       "    }\n",
       "\n",
       "    .dataframe thead th {\n",
       "        text-align: right;\n",
       "    }\n",
       "</style>\n",
       "<table border=\"1\" class=\"dataframe\">\n",
       "  <thead>\n",
       "    <tr style=\"text-align: right;\">\n",
       "      <th></th>\n",
       "      <th>FID</th>\n",
       "      <th>geometry</th>\n",
       "      <th>route_type</th>\n",
       "      <th>stop_name</th>\n",
       "      <th>cluster_center</th>\n",
       "      <th>weighted_dist</th>\n",
       "      <th>mean_weighted_dist</th>\n",
       "    </tr>\n",
       "    <tr>\n",
       "      <th>index</th>\n",
       "      <th></th>\n",
       "      <th></th>\n",
       "      <th></th>\n",
       "      <th></th>\n",
       "      <th></th>\n",
       "      <th></th>\n",
       "      <th></th>\n",
       "    </tr>\n",
       "  </thead>\n",
       "  <tbody>\n",
       "    <tr>\n",
       "      <th>bus_n_27570</th>\n",
       "      <td>DE948</td>\n",
       "      <td>POINT (8.07261 52.99701)</td>\n",
       "      <td>bus</td>\n",
       "      <td>Barkentange, Trafo, Mast 1</td>\n",
       "      <td>POINT (8.068083444720617 52.99724778031489)</td>\n",
       "      <td>501.415692</td>\n",
       "      <td>5613.773657</td>\n",
       "    </tr>\n",
       "    <tr>\n",
       "      <th>bus_n_216323</th>\n",
       "      <td>DE939</td>\n",
       "      <td>POINT (9.25877 53.78105)</td>\n",
       "      <td>bus</td>\n",
       "      <td>Oederquart, Freiburger Weg</td>\n",
       "      <td>POINT (9.253938096934 53.78142290952833)</td>\n",
       "      <td>536.432656</td>\n",
       "      <td>4312.640242</td>\n",
       "    </tr>\n",
       "    <tr>\n",
       "      <th>bus_n_171954</th>\n",
       "      <td>DE94C</td>\n",
       "      <td>POINT (7.57219 53.09209)</td>\n",
       "      <td>bus</td>\n",
       "      <td>Burlage, Landesstr. Nr. 4, Mast 1</td>\n",
       "      <td>POINT (7.559265163507112 53.09799823748125)</td>\n",
       "      <td>1571.426215</td>\n",
       "      <td>3047.127481</td>\n",
       "    </tr>\n",
       "    <tr>\n",
       "      <th>bus_n_201756</th>\n",
       "      <td>DE271</td>\n",
       "      <td>POINT (10.92797 48.39986)</td>\n",
       "      <td>bus</td>\n",
       "      <td>Endorferstraße</td>\n",
       "      <td>POINT (10.83386863279725 48.37919051784885)</td>\n",
       "      <td>10651.545037</td>\n",
       "      <td>2019.698551</td>\n",
       "    </tr>\n",
       "  </tbody>\n",
       "</table>\n",
       "</div>"
      ],
      "text/plain": [
       "                FID                   geometry route_type  \\\n",
       "index                                                       \n",
       "bus_n_27570   DE948   POINT (8.07261 52.99701)        bus   \n",
       "bus_n_216323  DE939   POINT (9.25877 53.78105)        bus   \n",
       "bus_n_171954  DE94C   POINT (7.57219 53.09209)        bus   \n",
       "bus_n_201756  DE271  POINT (10.92797 48.39986)        bus   \n",
       "\n",
       "                                      stop_name  \\\n",
       "index                                             \n",
       "bus_n_27570          Barkentange, Trafo, Mast 1   \n",
       "bus_n_216323         Oederquart, Freiburger Weg   \n",
       "bus_n_171954  Burlage, Landesstr. Nr. 4, Mast 1   \n",
       "bus_n_201756                     Endorferstraße   \n",
       "\n",
       "                                           cluster_center  weighted_dist  \\\n",
       "index                                                                      \n",
       "bus_n_27570   POINT (8.068083444720617 52.99724778031489)     501.415692   \n",
       "bus_n_216323     POINT (9.253938096934 53.78142290952833)     536.432656   \n",
       "bus_n_171954  POINT (7.559265163507112 53.09799823748125)    1571.426215   \n",
       "bus_n_201756  POINT (10.83386863279725 48.37919051784885)   10651.545037   \n",
       "\n",
       "              mean_weighted_dist  \n",
       "index                             \n",
       "bus_n_27570          5613.773657  \n",
       "bus_n_216323         4312.640242  \n",
       "bus_n_171954         3047.127481  \n",
       "bus_n_201756         2019.698551  "
      ]
     },
     "execution_count": 19,
     "metadata": {},
     "output_type": "execute_result"
    }
   ],
   "source": [
    "clusters.sample(4)"
   ]
  },
  {
   "cell_type": "code",
   "execution_count": 20,
   "metadata": {},
   "outputs": [
    {
     "data": {
      "text/plain": [
       "route_type\n",
       "air                    [[AxesSubplot(0.125,0.125;0.775x0.755)]]\n",
       "bus                    [[AxesSubplot(0.125,0.125;0.775x0.755)]]\n",
       "coach                  [[AxesSubplot(0.125,0.125;0.775x0.755)]]\n",
       "rail_long_distance     [[AxesSubplot(0.125,0.125;0.775x0.755)]]\n",
       "rail_short_distance    [[AxesSubplot(0.125,0.125;0.775x0.755)]]\n",
       "dtype: object"
      ]
     },
     "execution_count": 20,
     "metadata": {},
     "output_type": "execute_result"
    },
    {
     "data": {
      "image/png": "[encoded data removed]",
      "text/plain": [
       "<Figure size 432x288 with 1 Axes>"
      ]
     },
     "metadata": {
      "needs_background": "light"
     },
     "output_type": "display_data"
    },
    {
     "data": {
      "image/png": "[encoded data removed]",
      "text/plain": [
       "<Figure size 432x288 with 1 Axes>"
      ]
     },
     "metadata": {
      "needs_background": "light"
     },
     "output_type": "display_data"
    },
    {
     "data": {
      "image/png": "[encoded data removed]",
      "text/plain": [
       "<Figure size 432x288 with 1 Axes>"
      ]
     },
     "metadata": {
      "needs_background": "light"
     },
     "output_type": "display_data"
    },
    {
     "data": {
      "image/png": "[encoded data removed]",
      "text/plain": [
       "<Figure size 432x288 with 1 Axes>"
      ]
     },
     "metadata": {
      "needs_background": "light"
     },
     "output_type": "display_data"
    },
    {
     "data": {
      "image/png": "[encoded data removed]",
      "text/plain": [
       "<Figure size 432x288 with 1 Axes>"
      ]
     },
     "metadata": {
      "needs_background": "light"
     },
     "output_type": "display_data"
    }
   ],
   "source": [
    "clusters.groupby('route_type').hist(column=dist_col, bins=100)"
   ]
  },
  {
   "cell_type": "code",
   "execution_count": 21,
   "metadata": {},
   "outputs": [],
   "source": [
    "# Save the population centroids\n",
    "clusters.to_csv('../input/spatial_census_refined_FID.csv')"
   ]
  },
  {
   "cell_type": "code",
   "execution_count": 22,
   "metadata": {},
   "outputs": [],
   "source": [
    "# Correct population numbers in model zones\n",
    "def weighted_pop(g):\n",
    "    pop_sum_census = pop_r.loc[pop_r['NUTS_ID']==g['NUTS_ID'].unique()[0], 'Einwohner'].sum()\n",
    "    for zone in g.index:\n",
    "        pop_census = pop_r.loc[pop_r['FID']==g.loc[zone, 'FID'], 'Einwohner'].sum()\n",
    "        g.loc[zone, 'population'] = int(g.loc[zone, 'population'] * (pop_census / pop_sum_census))\n",
    "    return g\n",
    "sm.zones.loc[sm.zones['NUTS_ID']!=sm.zones['FID'], 'population'] = \\\n",
    "    sm.zones.loc[sm.zones['NUTS_ID']!=sm.zones['FID']].groupby('NUTS_ID').apply(weighted_pop)"
   ]
  },
  {
   "cell_type": "code",
   "execution_count": 23,
   "metadata": {},
   "outputs": [
    {
     "data": {
      "text/html": [
       "<div>\n",
       "<style scoped>\n",
       "    .dataframe tbody tr th:only-of-type {\n",
       "        vertical-align: middle;\n",
       "    }\n",
       "\n",
       "    .dataframe tbody tr th {\n",
       "        vertical-align: top;\n",
       "    }\n",
       "\n",
       "    .dataframe thead th {\n",
       "        text-align: right;\n",
       "    }\n",
       "</style>\n",
       "<table border=\"1\" class=\"dataframe\">\n",
       "  <thead>\n",
       "    <tr style=\"text-align: right;\">\n",
       "      <th></th>\n",
       "      <th>CNTR_CODE</th>\n",
       "      <th>NUTS_NAME</th>\n",
       "      <th>LEVL_CODE</th>\n",
       "      <th>FID</th>\n",
       "      <th>NUTS_ID</th>\n",
       "      <th>population</th>\n",
       "      <th>area</th>\n",
       "      <th>urbanisation</th>\n",
       "      <th>lau_id</th>\n",
       "      <th>geometry</th>\n",
       "    </tr>\n",
       "    <tr>\n",
       "      <th>index</th>\n",
       "      <th></th>\n",
       "      <th></th>\n",
       "      <th></th>\n",
       "      <th></th>\n",
       "      <th></th>\n",
       "      <th></th>\n",
       "      <th></th>\n",
       "      <th></th>\n",
       "      <th></th>\n",
       "      <th></th>\n",
       "    </tr>\n",
       "  </thead>\n",
       "  <tbody>\n",
       "    <tr>\n",
       "      <th>DE929_city</th>\n",
       "      <td>DE</td>\n",
       "      <td>Hannover</td>\n",
       "      <td>3</td>\n",
       "      <td>DE929_city</td>\n",
       "      <td>DE929</td>\n",
       "      <td>268224</td>\n",
       "      <td>204.300000</td>\n",
       "      <td>1.0</td>\n",
       "      <td>3241001</td>\n",
       "      <td>POLYGON ((9.78861 52.37444, 9.78837 52.36954, ...</td>\n",
       "    </tr>\n",
       "    <tr>\n",
       "      <th>DE80J_1</th>\n",
       "      <td>DE</td>\n",
       "      <td>Mecklenburgische Seenplatte 1</td>\n",
       "      <td>3</td>\n",
       "      <td>DE80J_1</td>\n",
       "      <td>DE80J</td>\n",
       "      <td>165293</td>\n",
       "      <td>2798.508584</td>\n",
       "      <td>3.0</td>\n",
       "      <td>13071</td>\n",
       "      <td>POLYGON ((12.98671 54.00397, 13.01458 53.99296...</td>\n",
       "    </tr>\n",
       "    <tr>\n",
       "      <th>DE80J_2</th>\n",
       "      <td>DE</td>\n",
       "      <td>Mecklenburgische Seenplatte 2</td>\n",
       "      <td>3</td>\n",
       "      <td>DE80J_2</td>\n",
       "      <td>DE80J</td>\n",
       "      <td>93836</td>\n",
       "      <td>2697.101416</td>\n",
       "      <td>3.0</td>\n",
       "      <td>13071</td>\n",
       "      <td>POLYGON ((13.08455 53.20969, 13.07811 53.20102...</td>\n",
       "    </tr>\n",
       "    <tr>\n",
       "      <th>DE80O_1</th>\n",
       "      <td>DE</td>\n",
       "      <td>Ludwigslust-Parchim 1</td>\n",
       "      <td>3</td>\n",
       "      <td>DE80O_1</td>\n",
       "      <td>DE80O</td>\n",
       "      <td>104552</td>\n",
       "      <td>2551.553354</td>\n",
       "      <td>3.0</td>\n",
       "      <td>13076</td>\n",
       "      <td>POLYGON ((11.79735 53.77078, 11.80594 53.76725...</td>\n",
       "    </tr>\n",
       "  </tbody>\n",
       "</table>\n",
       "</div>"
      ],
      "text/plain": [
       "           CNTR_CODE                      NUTS_NAME  LEVL_CODE         FID  \\\n",
       "index                                                                        \n",
       "DE929_city        DE                       Hannover          3  DE929_city   \n",
       "DE80J_1           DE  Mecklenburgische Seenplatte 1          3     DE80J_1   \n",
       "DE80J_2           DE  Mecklenburgische Seenplatte 2          3     DE80J_2   \n",
       "DE80O_1           DE          Ludwigslust-Parchim 1          3     DE80O_1   \n",
       "\n",
       "           NUTS_ID  population         area  urbanisation   lau_id  \\\n",
       "index                                                                \n",
       "DE929_city   DE929      268224   204.300000           1.0  3241001   \n",
       "DE80J_1      DE80J      165293  2798.508584           3.0    13071   \n",
       "DE80J_2      DE80J       93836  2697.101416           3.0    13071   \n",
       "DE80O_1      DE80O      104552  2551.553354           3.0    13076   \n",
       "\n",
       "                                                     geometry  \n",
       "index                                                          \n",
       "DE929_city  POLYGON ((9.78861 52.37444, 9.78837 52.36954, ...  \n",
       "DE80J_1     POLYGON ((12.98671 54.00397, 13.01458 53.99296...  \n",
       "DE80J_2     POLYGON ((13.08455 53.20969, 13.07811 53.20102...  \n",
       "DE80O_1     POLYGON ((11.79735 53.77078, 11.80594 53.76725...  "
      ]
     },
     "execution_count": 23,
     "metadata": {},
     "output_type": "execute_result"
    }
   ],
   "source": [
    "sm.zones.loc[sm.zones['NUTS_ID']!=sm.zones['FID']].head(4)"
   ]
  },
  {
   "cell_type": "code",
   "execution_count": 24,
   "metadata": {},
   "outputs": [
    {
     "name": "stderr",
     "output_type": "stream",
     "text": [
      "to_hdf(overwriting): 100%|█████████████████████████████████████████████████████████████| 36/36 [00:01<00:00, 27.77it/s]\n"
     ]
    }
   ],
   "source": [
    "# Save corrected zones\n",
    "sm.to_json(model_path + 'de_zones',\n",
    "      only_attributes=['zones'], encoding='utf-8')"
   ]
  }
 ],
 "metadata": {
  "kernelspec": {
   "display_name": "Python 3",
   "language": "python",
   "name": "python3"
  },
  "language_info": {
   "codemirror_mode": {
    "name": "ipython",
    "version": 3
   },
   "file_extension": ".py",
   "mimetype": "text/x-python",
   "name": "python",
   "nbconvert_exporter": "python",
   "pygments_lexer": "ipython3",
   "version": "3.8.1"
  }
 },
 "nbformat": 4,
 "nbformat_minor": 4
}
