{
 "cells": [
  {
   "cell_type": "code",
   "execution_count": 1,
   "metadata": {},
   "outputs": [
    {
     "name": "stderr",
     "output_type": "stream",
     "text": [
      "In C:\\Users\\marlin.arnz\\AppData\\Local\\Continuum\\miniconda3\\envs\\quetzal\\lib\\site-packages\\matplotlib\\mpl-data\\stylelib\\_classic_test.mplstyle: \n",
      "The text.latex.preview rcparam was deprecated in Matplotlib 3.3 and will be removed two minor releases later.\n",
      "In C:\\Users\\marlin.arnz\\AppData\\Local\\Continuum\\miniconda3\\envs\\quetzal\\lib\\site-packages\\matplotlib\\mpl-data\\stylelib\\_classic_test.mplstyle: \n",
      "The mathtext.fallback_to_cm rcparam was deprecated in Matplotlib 3.3 and will be removed two minor releases later.\n",
      "In C:\\Users\\marlin.arnz\\AppData\\Local\\Continuum\\miniconda3\\envs\\quetzal\\lib\\site-packages\\matplotlib\\mpl-data\\stylelib\\_classic_test.mplstyle: Support for setting the 'mathtext.fallback_to_cm' rcParam is deprecated since 3.3 and will be removed two minor releases later; use 'mathtext.fallback : 'cm' instead.\n",
      "In C:\\Users\\marlin.arnz\\AppData\\Local\\Continuum\\miniconda3\\envs\\quetzal\\lib\\site-packages\\matplotlib\\mpl-data\\stylelib\\_classic_test.mplstyle: \n",
      "The validate_bool_maybe_none function was deprecated in Matplotlib 3.3 and will be removed two minor releases later.\n",
      "In C:\\Users\\marlin.arnz\\AppData\\Local\\Continuum\\miniconda3\\envs\\quetzal\\lib\\site-packages\\matplotlib\\mpl-data\\stylelib\\_classic_test.mplstyle: \n",
      "The savefig.jpeg_quality rcparam was deprecated in Matplotlib 3.3 and will be removed two minor releases later.\n",
      "In C:\\Users\\marlin.arnz\\AppData\\Local\\Continuum\\miniconda3\\envs\\quetzal\\lib\\site-packages\\matplotlib\\mpl-data\\stylelib\\_classic_test.mplstyle: \n",
      "The keymap.all_axes rcparam was deprecated in Matplotlib 3.3 and will be removed two minor releases later.\n",
      "In C:\\Users\\marlin.arnz\\AppData\\Local\\Continuum\\miniconda3\\envs\\quetzal\\lib\\site-packages\\matplotlib\\mpl-data\\stylelib\\_classic_test.mplstyle: \n",
      "The animation.avconv_path rcparam was deprecated in Matplotlib 3.3 and will be removed two minor releases later.\n",
      "In C:\\Users\\marlin.arnz\\AppData\\Local\\Continuum\\miniconda3\\envs\\quetzal\\lib\\site-packages\\matplotlib\\mpl-data\\stylelib\\_classic_test.mplstyle: \n",
      "The animation.avconv_args rcparam was deprecated in Matplotlib 3.3 and will be removed two minor releases later.\n"
     ]
    }
   ],
   "source": [
    "import numpy as np\n",
    "import pandas as pd\n",
    "import geopandas as gpd\n",
    "from shapely import geometry\n",
    "from quetzal.model import stepmodel\n",
    "from quetzal.engine import engine, connectivity"
   ]
  },
  {
   "cell_type": "markdown",
   "metadata": {},
   "source": [
    "# Preparation of the transport network.\n",
    "## Saves access and egress links for each zone.\n",
    "## Needs all networks.\n"
   ]
  },
  {
   "cell_type": "code",
   "execution_count": 2,
   "metadata": {},
   "outputs": [],
   "source": [
    "input_path = '../input/'\n",
    "output_path = '../output/'\n",
    "model_path = '../model/'"
   ]
  },
  {
   "cell_type": "code",
   "execution_count": 3,
   "metadata": {
    "scrolled": true
   },
   "outputs": [],
   "source": [
    "sm = stepmodel.read_json(model_path + 'de_pt_network')\n",
    "bus = stepmodel.read_json(model_path + 'de_pt_network_bus')\n",
    "road = stepmodel.read_json(model_path + 'de_road_network')"
   ]
  },
  {
   "cell_type": "markdown",
   "metadata": {},
   "source": [
    "### Clean zones"
   ]
  },
  {
   "cell_type": "code",
   "execution_count": 4,
   "metadata": {},
   "outputs": [
    {
     "name": "stdout",
     "output_type": "stream",
     "text": [
      "467\n",
      "467\n"
     ]
    }
   ],
   "source": [
    "# Drop unused zones for later steps to work \n",
    "print(len(sm.zones.index))\n",
    "sm.zones = sm.zones.loc[sm.zones['NUTS_ID'].str.startswith('DE')]\n",
    "sm.zones = sm.zones[sm.zones[\"LEVL_CODE\"]==3]\n",
    "print(len(sm.zones.index))"
   ]
  },
  {
   "cell_type": "code",
   "execution_count": 5,
   "metadata": {},
   "outputs": [],
   "source": [
    "# Compute controids\n",
    "sm.preparation_ntlegs(\n",
    "    zone_to_transit=False,\n",
    "    zone_to_road=False)"
   ]
  },
  {
   "cell_type": "markdown",
   "metadata": {},
   "source": [
    "## Assumptions"
   ]
  },
  {
   "cell_type": "code",
   "execution_count": 6,
   "metadata": {},
   "outputs": [],
   "source": [
    "# Walking vs. driving to the train station\n",
    "threshold = 500 # in m\n",
    "# Average speeds from MiD calibration data\n",
    "speed_non_motorised_modes = 17 # in km/h\n",
    "speed_car = 44 # in km/h\n",
    "speed_footpaths = 5 # in km/h, assumed\n",
    "# Max. distances for accessing the transport nodes\n",
    "# in m\n",
    "threshold_dict = {'road': 10000,\n",
    "                  'road_pt': 500,\n",
    "                  'pt': 12000,\n",
    "                  'footpaths': 500,\n",
    "                  'footpaths_air': 2200,\n",
    "                  'cycling_zones': 20000}"
   ]
  },
  {
   "cell_type": "markdown",
   "metadata": {},
   "source": [
    "## Generate footpaths table"
   ]
  },
  {
   "cell_type": "code",
   "execution_count": 7,
   "metadata": {},
   "outputs": [
    {
     "data": {
      "text/plain": [
       "(14990, 4)"
      ]
     },
     "execution_count": 7,
     "metadata": {},
     "output_type": "execute_result"
    }
   ],
   "source": [
    "sm.nodes.shape"
   ]
  },
  {
   "cell_type": "code",
   "execution_count": 8,
   "metadata": {},
   "outputs": [],
   "source": [
    "# The Voronoi algorithm is too slow for this amount of nodes\n",
    "#sm.footpaths = connectivity.build_footpaths(\n",
    "#    sm.nodes,\n",
    "#    speed=speed_footpaths,\n",
    "#    max_length=threshold_dict['footpaths'],\n",
    "#    n_clusters=1000,\n",
    "#    coordinates_unit=sm.coordinates_unit)"
   ]
  },
  {
   "cell_type": "code",
   "execution_count": 9,
   "metadata": {},
   "outputs": [
    {
     "data": {
      "text/plain": [
       "6632"
      ]
     },
     "execution_count": 9,
     "metadata": {},
     "output_type": "execute_result"
    }
   ],
   "source": [
    "# Generate footpaths between modes\n",
    "sm.footpaths = sm.footpaths.iloc[0:0]\n",
    "for o in ['rail_short_distance']:\n",
    "    for d in [t for t in sm.pt_route_types if t!='bus']:\n",
    "        if o != d:\n",
    "            ntlegs = engine.ntlegs_from_centroids_and_nodes(\n",
    "                sm.nodes.loc[sm.nodes['route_type']==o],\n",
    "                sm.nodes.loc[sm.nodes['route_type']==d],\n",
    "                short_leg_speed=speed_footpaths,\n",
    "                long_leg_speed=speed_non_motorised_modes,\n",
    "                threshold=threshold,\n",
    "                n_neighbors=1,\n",
    "                coordinates_unit=sm.coordinates_unit)\n",
    "            if d == 'air':\n",
    "                ntlegs = ntlegs.loc[ntlegs['distance']<=\n",
    "                                    threshold_dict['footpaths_air']]\n",
    "            else:\n",
    "                ntlegs = ntlegs.loc[ntlegs['distance']<=\n",
    "                                    threshold_dict['footpaths']]\n",
    "            sm.footpaths = sm.footpaths.append(ntlegs)\n",
    "len(sm.footpaths.index)"
   ]
  },
  {
   "cell_type": "code",
   "execution_count": 10,
   "metadata": {},
   "outputs": [
    {
     "data": {
      "text/plain": [
       "104830"
      ]
     },
     "execution_count": 10,
     "metadata": {},
     "output_type": "execute_result"
    }
   ],
   "source": [
    "# Add bus connections\n",
    "for d in [t for t in sm.pt_route_types if t!='bus']:\n",
    "    ntlegs = engine.ntlegs_from_centroids_and_nodes(\n",
    "        bus.nodes,\n",
    "        sm.nodes.loc[sm.nodes['route_type']==d],\n",
    "        short_leg_speed=speed_footpaths,\n",
    "        long_leg_speed=speed_non_motorised_modes,\n",
    "        threshold=threshold,\n",
    "        n_neighbors=1,\n",
    "        coordinates_unit=sm.coordinates_unit)\n",
    "    if d == 'air':\n",
    "        ntlegs = ntlegs.loc[ntlegs['distance']<=\n",
    "                            threshold_dict['footpaths_air']]\n",
    "    else:\n",
    "        ntlegs = ntlegs.loc[ntlegs['distance']<=\n",
    "                            threshold_dict['footpaths']]\n",
    "    sm.footpaths = sm.footpaths.append(ntlegs)\n",
    "len(sm.footpaths.index)"
   ]
  },
  {
   "cell_type": "code",
   "execution_count": 11,
   "metadata": {},
   "outputs": [
    {
     "data": {
      "text/plain": [
       "(3700, 11)"
      ]
     },
     "execution_count": 11,
     "metadata": {},
     "output_type": "execute_result"
    }
   ],
   "source": [
    "# Number of nodes that overlay each other\n",
    "sm.footpaths.loc[sm.footpaths['distance']==0].shape"
   ]
  },
  {
   "cell_type": "code",
   "execution_count": 12,
   "metadata": {},
   "outputs": [],
   "source": [
    "# Keep only one footpath to stops of the same trip\n",
    "# List of footpath nodes\n",
    "node_list = list(sm.footpaths[['a', 'b']].stack())\n",
    "n_foot_dict = sm.footpaths[['a', 'b']].stack().value_counts().to_dict()\n",
    "# Reduce list by keeping the most connected stops of each trip\n",
    "links = sm.links.append(bus.links)\n",
    "links = links.loc[\n",
    "    (links['a'].isin(node_list)) | (links['b'].isin(node_list))]\n",
    "links['n_foot'] = links['a'].map(n_foot_dict) + links['b'].map(n_foot_dict)\n",
    "node_list = set(list(links.sort_values('n_foot').drop_duplicates(\n",
    "    'trip_id')[['a', 'b']].stack()))"
   ]
  },
  {
   "cell_type": "code",
   "execution_count": 13,
   "metadata": {},
   "outputs": [
    {
     "data": {
      "text/plain": [
       "56521"
      ]
     },
     "execution_count": 13,
     "metadata": {},
     "output_type": "execute_result"
    }
   ],
   "source": [
    "len(node_list)"
   ]
  },
  {
   "cell_type": "code",
   "execution_count": 14,
   "metadata": {},
   "outputs": [
    {
     "data": {
      "text/plain": [
       "(97232, 11)"
      ]
     },
     "execution_count": 14,
     "metadata": {},
     "output_type": "execute_result"
    }
   ],
   "source": [
    "# Restrict footpaths to one to two connections between stops of every two trip_ids\n",
    "sm.footpaths = sm.footpaths.loc[(sm.footpaths['a'].isin(node_list)) |\n",
    "                                (sm.footpaths['b'].isin(node_list))]\n",
    "sm.footpaths.shape"
   ]
  },
  {
   "cell_type": "code",
   "execution_count": 15,
   "metadata": {},
   "outputs": [
    {
     "data": {
      "text/plain": [
       "(338, 11)"
      ]
     },
     "execution_count": 15,
     "metadata": {},
     "output_type": "execute_result"
    }
   ],
   "source": [
    "# Generate footpaths between centroids\n",
    "ntlegs = engine.ntlegs_from_centroids_and_nodes(\n",
    "    sm.centroids,\n",
    "    sm.centroids,\n",
    "    short_leg_speed=speed_non_motorised_modes,\n",
    "    long_leg_speed=speed_non_motorised_modes,\n",
    "    threshold=threshold,\n",
    "    n_neighbors=2,\n",
    "    coordinates_unit=sm.coordinates_unit)\n",
    "ntlegs = ntlegs.loc[ntlegs['distance']<=\n",
    "                    threshold_dict['cycling_zones']]\n",
    "ntlegs = ntlegs.loc[ntlegs['distance']!=0]\n",
    "ntlegs.drop_duplicates(['direction', 'distance', 'time'], inplace=True)\n",
    "sm.footpaths = sm.footpaths.append(ntlegs)\n",
    "ntlegs.shape"
   ]
  },
  {
   "cell_type": "code",
   "execution_count": 16,
   "metadata": {},
   "outputs": [],
   "source": [
    "# Reindex\n",
    "sm.footpaths.reset_index(drop=True, inplace=True)\n",
    "sm.footpaths.index = 'foot_' + pd.Series(sm.footpaths.index).astype(str)"
   ]
  },
  {
   "cell_type": "code",
   "execution_count": 17,
   "metadata": {},
   "outputs": [
    {
     "data": {
      "text/html": [
       "<div>\n",
       "<style scoped>\n",
       "    .dataframe tbody tr th:only-of-type {\n",
       "        vertical-align: middle;\n",
       "    }\n",
       "\n",
       "    .dataframe tbody tr th {\n",
       "        vertical-align: top;\n",
       "    }\n",
       "\n",
       "    .dataframe thead th {\n",
       "        text-align: right;\n",
       "    }\n",
       "</style>\n",
       "<table border=\"1\" class=\"dataframe\">\n",
       "  <thead>\n",
       "    <tr style=\"text-align: right;\">\n",
       "      <th></th>\n",
       "      <th>a</th>\n",
       "      <th>b</th>\n",
       "      <th>direction</th>\n",
       "      <th>distance</th>\n",
       "      <th>geometry</th>\n",
       "      <th>long_leg_speed</th>\n",
       "      <th>rank</th>\n",
       "      <th>short_leg_speed</th>\n",
       "      <th>speed</th>\n",
       "      <th>speed_factor</th>\n",
       "      <th>time</th>\n",
       "    </tr>\n",
       "  </thead>\n",
       "  <tbody>\n",
       "    <tr>\n",
       "      <th>foot_1062</th>\n",
       "      <td>rail_short_node_7421</td>\n",
       "      <td>rail_long_node_190</td>\n",
       "      <td>access</td>\n",
       "      <td>111.713867</td>\n",
       "      <td>LINESTRING (13.24843 52.75436, 13.24961 52.75365)</td>\n",
       "      <td>17.0</td>\n",
       "      <td>0.0</td>\n",
       "      <td>5.0</td>\n",
       "      <td>5.0</td>\n",
       "      <td>0.472681</td>\n",
       "      <td>80.433985</td>\n",
       "    </tr>\n",
       "    <tr>\n",
       "      <th>foot_65473</th>\n",
       "      <td>rail_short_node_10042</td>\n",
       "      <td>bus_n_38271</td>\n",
       "      <td>eggress</td>\n",
       "      <td>350.366201</td>\n",
       "      <td>LINESTRING (7.02101 52.21208, 7.02244 52.21511)</td>\n",
       "      <td>17.0</td>\n",
       "      <td>0.0</td>\n",
       "      <td>5.0</td>\n",
       "      <td>5.0</td>\n",
       "      <td>0.837098</td>\n",
       "      <td>252.263665</td>\n",
       "    </tr>\n",
       "    <tr>\n",
       "      <th>foot_68644</th>\n",
       "      <td>rail_short_node_13786</td>\n",
       "      <td>bus_n_360682</td>\n",
       "      <td>eggress</td>\n",
       "      <td>76.042036</td>\n",
       "      <td>LINESTRING (12.80869 49.16356, 12.80792 49.16403)</td>\n",
       "      <td>17.0</td>\n",
       "      <td>0.0</td>\n",
       "      <td>5.0</td>\n",
       "      <td>5.0</td>\n",
       "      <td>0.389980</td>\n",
       "      <td>54.750266</td>\n",
       "    </tr>\n",
       "  </tbody>\n",
       "</table>\n",
       "</div>"
      ],
      "text/plain": [
       "                                a                   b direction    distance  \\\n",
       "foot_1062    rail_short_node_7421  rail_long_node_190    access  111.713867   \n",
       "foot_65473  rail_short_node_10042         bus_n_38271   eggress  350.366201   \n",
       "foot_68644  rail_short_node_13786        bus_n_360682   eggress   76.042036   \n",
       "\n",
       "                                                     geometry  long_leg_speed  \\\n",
       "foot_1062   LINESTRING (13.24843 52.75436, 13.24961 52.75365)            17.0   \n",
       "foot_65473    LINESTRING (7.02101 52.21208, 7.02244 52.21511)            17.0   \n",
       "foot_68644  LINESTRING (12.80869 49.16356, 12.80792 49.16403)            17.0   \n",
       "\n",
       "            rank  short_leg_speed  speed  speed_factor        time  \n",
       "foot_1062    0.0              5.0    5.0      0.472681   80.433985  \n",
       "foot_65473   0.0              5.0    5.0      0.837098  252.263665  \n",
       "foot_68644   0.0              5.0    5.0      0.389980   54.750266  "
      ]
     },
     "execution_count": 17,
     "metadata": {},
     "output_type": "execute_result"
    }
   ],
   "source": [
    "sm.footpaths.sample(n=3)"
   ]
  },
  {
   "cell_type": "markdown",
   "metadata": {},
   "source": [
    "## Add access and egress links from zone centroids"
   ]
  },
  {
   "cell_type": "code",
   "execution_count": 18,
   "metadata": {},
   "outputs": [],
   "source": [
    "# When having centroids computed as geometric centers of\n",
    "# political zones, it can happen that centroids come very\n",
    "# close to each other. This requires special filtering\n",
    "# of connectors for not making routes unrealistically short\n",
    "def filter_connectors(df, keep=2, length_weight=None, dist_centr_weight=None,\n",
    "                      conn_weight=None, conn_dict=None):\n",
    "    # Each link exists as both access and egress\n",
    "    ac = df.loc[df['direction']=='access']\n",
    "    eg = df.loc[df['direction']=='eggress']\n",
    "    analysis_cols = []\n",
    "    if length_weight:\n",
    "        # Link length (in km) weighted\n",
    "        ac['length'] = - np.power(ac['distance'] / 1e3, length_weight)\n",
    "        eg['length'] = - np.power(eg['distance'] / 1e3, length_weight)\n",
    "        analysis_cols.append('length')\n",
    "    if dist_centr_weight:\n",
    "        # Calculate distance to the nearest centroid (except own one)\n",
    "        ac['centr_dist'] = np.power([min([p.distance(c) for c in list(\n",
    "            sm.centroids.loc[sm.centroids['FID']!=own_c, 'geometry'])]\n",
    "                                        ) / 1.4e-2 for own_c, p in zip(\n",
    "            list(ac['a']), [geometry.Point(l.coords[-1]) for l in ac['geometry']])],\n",
    "                                    dist_centr_weight)\n",
    "        eg['centr_dist'] = np.power([min([p.distance(c) for c in list(\n",
    "            sm.centroids.loc[sm.centroids['FID']!=own_c, 'geometry'])]\n",
    "                                        ) / 1.4e-2 for own_c, p in zip(\n",
    "            list(eg['b']), [geometry.Point(l.coords[0]) for l in eg['geometry']])],\n",
    "                                    dist_centr_weight)\n",
    "        analysis_cols.append('centr_dist')\n",
    "    if conn_weight:\n",
    "        # Calculate connectivity\n",
    "        ac['connectivity'] = np.power(ac['b'].map(n_links_dict), conn_weight)\n",
    "        eg['connectivity'] = np.power(eg['a'].map(n_links_dict), conn_weight)\n",
    "        analysis_cols.append('connectivity')\n",
    "    # Calculate link performance with given attributes\n",
    "    ac['sum'] = ac[analysis_cols].sum(axis=1)\n",
    "    eg['sum'] = eg[analysis_cols].sum(axis=1)\n",
    "    # Get the n most wanted links\n",
    "    ac = ac.sort_values('sum', ascending=False).groupby('a').head(keep)\n",
    "    eg = eg.sort_values('sum', ascending=False).groupby('b').head(keep)\n",
    "    return ac.append(eg).reset_index()[df.columns]"
   ]
  },
  {
   "cell_type": "code",
   "execution_count": 19,
   "metadata": {},
   "outputs": [
    {
     "data": {
      "text/plain": [
       "18238"
      ]
     },
     "execution_count": 19,
     "metadata": {},
     "output_type": "execute_result"
    }
   ],
   "source": [
    "# Compute road access and egress links\n",
    "sm.zone_to_road = engine.ntlegs_from_centroids_and_nodes(\n",
    "    sm.centroids,\n",
    "    road.road_nodes,\n",
    "    short_leg_speed=speed_footpaths,\n",
    "    long_leg_speed=speed_non_motorised_modes,\n",
    "    threshold=threshold,\n",
    "    n_neighbors=20,\n",
    "    coordinates_unit=sm.coordinates_unit)\n",
    "sm.zone_to_road = sm.zone_to_road.loc[\n",
    "    sm.zone_to_road['distance']<=threshold_dict['road']]\n",
    "len(sm.zone_to_road.index)"
   ]
  },
  {
   "cell_type": "code",
   "execution_count": 20,
   "metadata": {},
   "outputs": [
    {
     "data": {
      "text/plain": [
       "932"
      ]
     },
     "execution_count": 20,
     "metadata": {},
     "output_type": "execute_result"
    }
   ],
   "source": [
    "sm.zone_to_road = filter_connectors(sm.zone_to_road, keep=1,\n",
    "                                    length_weight=None,\n",
    "                                    dist_centr_weight=1)\n",
    "len(sm.zone_to_road.index)"
   ]
  },
  {
   "cell_type": "code",
   "execution_count": 21,
   "metadata": {},
   "outputs": [
    {
     "data": {
      "text/html": [
       "<div>\n",
       "<style scoped>\n",
       "    .dataframe tbody tr th:only-of-type {\n",
       "        vertical-align: middle;\n",
       "    }\n",
       "\n",
       "    .dataframe tbody tr th {\n",
       "        vertical-align: top;\n",
       "    }\n",
       "\n",
       "    .dataframe thead th {\n",
       "        text-align: right;\n",
       "    }\n",
       "</style>\n",
       "<table border=\"1\" class=\"dataframe\">\n",
       "  <thead>\n",
       "    <tr style=\"text-align: right;\">\n",
       "      <th></th>\n",
       "      <th>CNTR_CODE</th>\n",
       "      <th>NUTS_NAME</th>\n",
       "      <th>LEVL_CODE</th>\n",
       "      <th>FID</th>\n",
       "      <th>NUTS_ID</th>\n",
       "      <th>population</th>\n",
       "      <th>area</th>\n",
       "      <th>urbanisation</th>\n",
       "      <th>lau_id</th>\n",
       "      <th>geometry</th>\n",
       "    </tr>\n",
       "    <tr>\n",
       "      <th>index</th>\n",
       "      <th></th>\n",
       "      <th></th>\n",
       "      <th></th>\n",
       "      <th></th>\n",
       "      <th></th>\n",
       "      <th></th>\n",
       "      <th></th>\n",
       "      <th></th>\n",
       "      <th></th>\n",
       "      <th></th>\n",
       "    </tr>\n",
       "  </thead>\n",
       "  <tbody>\n",
       "    <tr>\n",
       "      <th>DEF07_2</th>\n",
       "      <td>DE</td>\n",
       "      <td>Nordfriesland 2</td>\n",
       "      <td>3</td>\n",
       "      <td>DEF07_2</td>\n",
       "      <td>DEF07</td>\n",
       "      <td>18317</td>\n",
       "      <td>100.145861</td>\n",
       "      <td>3.0</td>\n",
       "      <td>1054</td>\n",
       "      <td>POLYGON ((8.57200 54.88428, 8.56424 54.88393, ...</td>\n",
       "    </tr>\n",
       "  </tbody>\n",
       "</table>\n",
       "</div>"
      ],
      "text/plain": [
       "        CNTR_CODE        NUTS_NAME  LEVL_CODE      FID NUTS_ID  population  \\\n",
       "index                                                                        \n",
       "DEF07_2        DE  Nordfriesland 2          3  DEF07_2   DEF07       18317   \n",
       "\n",
       "               area  urbanisation lau_id  \\\n",
       "index                                      \n",
       "DEF07_2  100.145861           3.0   1054   \n",
       "\n",
       "                                                  geometry  \n",
       "index                                                       \n",
       "DEF07_2  POLYGON ((8.57200 54.88428, 8.56424 54.88393, ...  "
      ]
     },
     "execution_count": 21,
     "metadata": {},
     "output_type": "execute_result"
    }
   ],
   "source": [
    "sm.zones.loc[~sm.zones['FID'].isin(list(sm.zone_to_road['a']))]"
   ]
  },
  {
   "cell_type": "code",
   "execution_count": 22,
   "metadata": {},
   "outputs": [
    {
     "data": {
      "text/plain": [
       "15584"
      ]
     },
     "execution_count": 22,
     "metadata": {},
     "output_type": "execute_result"
    }
   ],
   "source": [
    "# Compute road - PT links\n",
    "sm.road_to_transit = engine.ntlegs_from_centroids_and_nodes(\n",
    "    sm.nodes,\n",
    "    road.road_nodes,\n",
    "    short_leg_speed=speed_footpaths,\n",
    "    long_leg_speed=speed_non_motorised_modes,\n",
    "    threshold=threshold,\n",
    "    n_neighbors=1,\n",
    "    coordinates_unit=sm.coordinates_unit)\n",
    "sm.road_to_transit = sm.road_to_transit.loc[\n",
    "    sm.road_to_transit['distance']<=threshold_dict['road_pt']]\n",
    "len(sm.road_to_transit.index)"
   ]
  },
  {
   "cell_type": "code",
   "execution_count": 23,
   "metadata": {},
   "outputs": [
    {
     "data": {
      "text/plain": [
       "['rail_long_distance', 'rail_short_distance', 'coach', 'air']"
      ]
     },
     "execution_count": 23,
     "metadata": {},
     "output_type": "execute_result"
    }
   ],
   "source": [
    "# Every route type is saved once in this attribute\n",
    "assert len(sm.pt_route_types) == len(sm.links['route_type'].unique())\n",
    "sm.pt_route_types"
   ]
  },
  {
   "cell_type": "code",
   "execution_count": 24,
   "metadata": {},
   "outputs": [],
   "source": [
    "# How many links does every node have?\n",
    "n_links_dict = sm.links[['a', 'b']].append(bus.links[['a', 'b']]).append(\n",
    "    sm.footpaths[['a', 'b']]).stack().value_counts().to_dict()"
   ]
  },
  {
   "cell_type": "code",
   "execution_count": 25,
   "metadata": {},
   "outputs": [
    {
     "data": {
      "text/plain": [
       "1846"
      ]
     },
     "execution_count": 25,
     "metadata": {},
     "output_type": "execute_result"
    }
   ],
   "source": [
    "# Compute PT access and egress links by route type\n",
    "sm.zone_to_transit = sm.zone_to_transit.iloc[0:0]\n",
    "for t in sm.pt_route_types:\n",
    "    ntlegs = engine.ntlegs_from_centroids_and_nodes(\n",
    "        sm.centroids,\n",
    "        sm.nodes.loc[sm.nodes['route_type']==t],\n",
    "        short_leg_speed=speed_footpaths,\n",
    "        long_leg_speed=speed_non_motorised_modes,\n",
    "        threshold=threshold,\n",
    "        n_neighbors=5,\n",
    "        coordinates_unit=sm.coordinates_unit)\n",
    "    # Cut off long links\n",
    "    ntlegs = ntlegs.loc[ntlegs['distance']<=\n",
    "                        threshold_dict['pt']]\n",
    "    ntlegs['route_type'] = t\n",
    "    sm.zone_to_transit = sm.zone_to_transit.append(filter_connectors(\n",
    "        ntlegs, keep=1, length_weight=1, dist_centr_weight=2,\n",
    "        conn_weight=.5, conn_dict=n_links_dict))\n",
    "sm.zone_to_transit.reset_index(drop=True, inplace=True)\n",
    "len(sm.zone_to_transit.index)"
   ]
  },
  {
   "cell_type": "code",
   "execution_count": 26,
   "metadata": {},
   "outputs": [
    {
     "data": {
      "text/plain": [
       "4652"
      ]
     },
     "execution_count": 26,
     "metadata": {},
     "output_type": "execute_result"
    }
   ],
   "source": [
    "# Add bus connections\n",
    "ntlegs = engine.ntlegs_from_centroids_and_nodes(\n",
    "    sm.centroids,\n",
    "    bus.nodes,\n",
    "    short_leg_speed=speed_footpaths,\n",
    "    long_leg_speed=speed_non_motorised_modes,\n",
    "    threshold=threshold,\n",
    "    n_neighbors=5, # Generate a bunch and clean later\n",
    "    coordinates_unit=sm.coordinates_unit)\n",
    "# Cut off long links\n",
    "ntlegs = ntlegs.loc[ntlegs['distance']<=\n",
    "                    threshold_dict['pt']]\n",
    "ntlegs['route_type'] = 'bus'\n",
    "len(ntlegs.index)"
   ]
  },
  {
   "cell_type": "code",
   "execution_count": 27,
   "metadata": {},
   "outputs": [
    {
     "data": {
      "text/plain": [
       "2778"
      ]
     },
     "execution_count": 27,
     "metadata": {},
     "output_type": "execute_result"
    }
   ],
   "source": [
    "sm.zone_to_transit = sm.zone_to_transit.append(filter_connectors(\n",
    "    ntlegs, keep=1, length_weight=1, dist_centr_weight=2,\n",
    "    conn_weight=.5, conn_dict=n_links_dict))\n",
    "sm.zone_to_transit.reset_index(drop=True, inplace=True)\n",
    "len(sm.zone_to_transit.index)"
   ]
  },
  {
   "cell_type": "code",
   "execution_count": 28,
   "metadata": {},
   "outputs": [
    {
     "data": {
      "text/plain": [
       "route_type           direction\n",
       "air                  access        27\n",
       "                     eggress       27\n",
       "bus                  access       466\n",
       "                     eggress      466\n",
       "coach                access       241\n",
       "                     eggress      241\n",
       "rail_long_distance   access       202\n",
       "                     eggress      202\n",
       "rail_short_distance  access       453\n",
       "                     eggress      453\n",
       "Name: a, dtype: int64"
      ]
     },
     "execution_count": 28,
     "metadata": {},
     "output_type": "execute_result"
    }
   ],
   "source": [
    "# Number of legs by route type\n",
    "sm.zone_to_transit.groupby(['route_type', 'direction'])['a'].count()"
   ]
  },
  {
   "cell_type": "code",
   "execution_count": 29,
   "metadata": {},
   "outputs": [],
   "source": [
    "# Every zone must have an access and an egress link to PT\n",
    "#sm.zones.loc[sm.zones['FID'].isin(list(sm.zone_to_transit['a']))==False]\n",
    "assert sm.zones['FID'].isin(list(sm.zone_to_transit['a'])).all()\n",
    "assert sm.zones['FID'].isin(list(sm.zone_to_transit['b'])).all()"
   ]
  },
  {
   "cell_type": "markdown",
   "metadata": {},
   "source": [
    "### Parametrise access and egress links\n",
    "Only zone-PT connectors will be handled in a seperate step"
   ]
  },
  {
   "cell_type": "code",
   "execution_count": 30,
   "metadata": {},
   "outputs": [
    {
     "data": {
      "text/html": [
       "<div>\n",
       "<style scoped>\n",
       "    .dataframe tbody tr th:only-of-type {\n",
       "        vertical-align: middle;\n",
       "    }\n",
       "\n",
       "    .dataframe tbody tr th {\n",
       "        vertical-align: top;\n",
       "    }\n",
       "\n",
       "    .dataframe thead th {\n",
       "        text-align: right;\n",
       "    }\n",
       "</style>\n",
       "<table border=\"1\" class=\"dataframe\">\n",
       "  <thead>\n",
       "    <tr style=\"text-align: right;\">\n",
       "      <th></th>\n",
       "      <th>a</th>\n",
       "      <th>b</th>\n",
       "      <th>direction</th>\n",
       "      <th>distance</th>\n",
       "      <th>geometry</th>\n",
       "      <th>rank</th>\n",
       "      <th>speed_factor</th>\n",
       "      <th>short_leg_speed</th>\n",
       "      <th>long_leg_speed</th>\n",
       "      <th>speed</th>\n",
       "      <th>time</th>\n",
       "    </tr>\n",
       "  </thead>\n",
       "  <tbody>\n",
       "    <tr>\n",
       "      <th>15399</th>\n",
       "      <td>1016581884</td>\n",
       "      <td>rail_long_node_806</td>\n",
       "      <td>eggress</td>\n",
       "      <td>0</td>\n",
       "      <td>LINESTRING (8.813834 53.08348, 8.8142817 53.08...</td>\n",
       "      <td>0</td>\n",
       "      <td>0.662769</td>\n",
       "      <td>5</td>\n",
       "      <td>17</td>\n",
       "      <td>5.0</td>\n",
       "      <td>300</td>\n",
       "    </tr>\n",
       "    <tr>\n",
       "      <th>7237</th>\n",
       "      <td>rail_short_node_9579</td>\n",
       "      <td>8402879880</td>\n",
       "      <td>access</td>\n",
       "      <td>0</td>\n",
       "      <td>LINESTRING (12.172836 53.8006, 12.1723647 53.7...</td>\n",
       "      <td>0</td>\n",
       "      <td>0.918741</td>\n",
       "      <td>5</td>\n",
       "      <td>17</td>\n",
       "      <td>5.0</td>\n",
       "      <td>300</td>\n",
       "    </tr>\n",
       "  </tbody>\n",
       "</table>\n",
       "</div>"
      ],
      "text/plain": [
       "                          a                   b direction  distance  \\\n",
       "15399            1016581884  rail_long_node_806   eggress         0   \n",
       "7237   rail_short_node_9579          8402879880    access         0   \n",
       "\n",
       "                                                geometry  rank  speed_factor  \\\n",
       "15399  LINESTRING (8.813834 53.08348, 8.8142817 53.08...     0      0.662769   \n",
       "7237   LINESTRING (12.172836 53.8006, 12.1723647 53.7...     0      0.918741   \n",
       "\n",
       "       short_leg_speed  long_leg_speed  speed  time  \n",
       "15399                5              17    5.0   300  \n",
       "7237                 5              17    5.0   300  "
      ]
     },
     "execution_count": 30,
     "metadata": {},
     "output_type": "execute_result"
    }
   ],
   "source": [
    "# Road - PT connectors\n",
    "sm.road_to_transit['distance'] = 0\n",
    "sm.road_to_transit['time'] = 5*60 # in seconds\n",
    "sm.road_to_transit.sample(n=2)"
   ]
  },
  {
   "cell_type": "code",
   "execution_count": 31,
   "metadata": {},
   "outputs": [
    {
     "data": {
      "text/html": [
       "<div>\n",
       "<style scoped>\n",
       "    .dataframe tbody tr th:only-of-type {\n",
       "        vertical-align: middle;\n",
       "    }\n",
       "\n",
       "    .dataframe tbody tr th {\n",
       "        vertical-align: top;\n",
       "    }\n",
       "\n",
       "    .dataframe thead th {\n",
       "        text-align: right;\n",
       "    }\n",
       "</style>\n",
       "<table border=\"1\" class=\"dataframe\">\n",
       "  <thead>\n",
       "    <tr style=\"text-align: right;\">\n",
       "      <th></th>\n",
       "      <th>a</th>\n",
       "      <th>b</th>\n",
       "      <th>direction</th>\n",
       "      <th>distance</th>\n",
       "      <th>geometry</th>\n",
       "      <th>rank</th>\n",
       "      <th>speed_factor</th>\n",
       "      <th>short_leg_speed</th>\n",
       "      <th>long_leg_speed</th>\n",
       "      <th>speed</th>\n",
       "      <th>time</th>\n",
       "    </tr>\n",
       "  </thead>\n",
       "  <tbody>\n",
       "    <tr>\n",
       "      <th>90</th>\n",
       "      <td>DE918</td>\n",
       "      <td>2947094557</td>\n",
       "      <td>access</td>\n",
       "      <td>0</td>\n",
       "      <td>LINESTRING (9.847955045776768 51.7426266240809...</td>\n",
       "      <td>12</td>\n",
       "      <td>3.431438</td>\n",
       "      <td>5</td>\n",
       "      <td>17</td>\n",
       "      <td>17.000000</td>\n",
       "      <td>0</td>\n",
       "    </tr>\n",
       "    <tr>\n",
       "      <th>145</th>\n",
       "      <td>DE137</td>\n",
       "      <td>1993022069</td>\n",
       "      <td>access</td>\n",
       "      <td>0</td>\n",
       "      <td>LINESTRING (8.794348494480698 48.0112772596507...</td>\n",
       "      <td>11</td>\n",
       "      <td>2.247207</td>\n",
       "      <td>5</td>\n",
       "      <td>17</td>\n",
       "      <td>11.236034</td>\n",
       "      <td>0</td>\n",
       "    </tr>\n",
       "  </tbody>\n",
       "</table>\n",
       "</div>"
      ],
      "text/plain": [
       "         a           b direction  distance  \\\n",
       "90   DE918  2947094557    access         0   \n",
       "145  DE137  1993022069    access         0   \n",
       "\n",
       "                                              geometry  rank  speed_factor  \\\n",
       "90   LINESTRING (9.847955045776768 51.7426266240809...    12      3.431438   \n",
       "145  LINESTRING (8.794348494480698 48.0112772596507...    11      2.247207   \n",
       "\n",
       "     short_leg_speed  long_leg_speed      speed  time  \n",
       "90                 5              17  17.000000     0  \n",
       "145                5              17  11.236034     0  "
      ]
     },
     "execution_count": 31,
     "metadata": {},
     "output_type": "execute_result"
    }
   ],
   "source": [
    "# Road - centroid connectors\n",
    "sm.zone_to_road['distance'] = 0\n",
    "sm.zone_to_road['time'] = 0\n",
    "sm.zone_to_road.sample(n=2)"
   ]
  },
  {
   "cell_type": "code",
   "execution_count": 32,
   "metadata": {},
   "outputs": [
    {
     "data": {
      "text/html": [
       "<div>\n",
       "<style scoped>\n",
       "    .dataframe tbody tr th:only-of-type {\n",
       "        vertical-align: middle;\n",
       "    }\n",
       "\n",
       "    .dataframe tbody tr th {\n",
       "        vertical-align: top;\n",
       "    }\n",
       "\n",
       "    .dataframe thead th {\n",
       "        text-align: right;\n",
       "    }\n",
       "</style>\n",
       "<table border=\"1\" class=\"dataframe\">\n",
       "  <thead>\n",
       "    <tr style=\"text-align: right;\">\n",
       "      <th></th>\n",
       "      <th>a</th>\n",
       "      <th>b</th>\n",
       "      <th>direction</th>\n",
       "      <th>distance</th>\n",
       "      <th>geometry</th>\n",
       "      <th>long_leg_speed</th>\n",
       "      <th>rank</th>\n",
       "      <th>route_type</th>\n",
       "      <th>short_leg_speed</th>\n",
       "      <th>speed</th>\n",
       "      <th>speed_factor</th>\n",
       "      <th>time</th>\n",
       "    </tr>\n",
       "  </thead>\n",
       "  <tbody>\n",
       "    <tr>\n",
       "      <th>1619</th>\n",
       "      <td>coach_node_FLIXBUS:36</td>\n",
       "      <td>DE600</td>\n",
       "      <td>eggress</td>\n",
       "      <td>454.492932</td>\n",
       "      <td>LINESTRING (10.01186 53.54768, 10.01166 53.55177)</td>\n",
       "      <td>17.0</td>\n",
       "      <td>0.0</td>\n",
       "      <td>coach</td>\n",
       "      <td>5.0</td>\n",
       "      <td>5.0</td>\n",
       "      <td>0.953408</td>\n",
       "      <td>327.234911</td>\n",
       "    </tr>\n",
       "    <tr>\n",
       "      <th>38</th>\n",
       "      <td>DE224</td>\n",
       "      <td>rail_long_node_802</td>\n",
       "      <td>access</td>\n",
       "      <td>10017.995201</td>\n",
       "      <td>LINESTRING (13.00065 48.77867, 12.86394 48.77962)</td>\n",
       "      <td>17.0</td>\n",
       "      <td>0.0</td>\n",
       "      <td>rail_long_distance</td>\n",
       "      <td>5.0</td>\n",
       "      <td>17.0</td>\n",
       "      <td>4.476158</td>\n",
       "      <td>2121.457807</td>\n",
       "    </tr>\n",
       "  </tbody>\n",
       "</table>\n",
       "</div>"
      ],
      "text/plain": [
       "                          a                   b direction      distance  \\\n",
       "1619  coach_node_FLIXBUS:36               DE600   eggress    454.492932   \n",
       "38                    DE224  rail_long_node_802    access  10017.995201   \n",
       "\n",
       "                                               geometry  long_leg_speed  rank  \\\n",
       "1619  LINESTRING (10.01186 53.54768, 10.01166 53.55177)            17.0   0.0   \n",
       "38    LINESTRING (13.00065 48.77867, 12.86394 48.77962)            17.0   0.0   \n",
       "\n",
       "              route_type  short_leg_speed  speed  speed_factor         time  \n",
       "1619               coach              5.0    5.0      0.953408   327.234911  \n",
       "38    rail_long_distance              5.0   17.0      4.476158  2121.457807  "
      ]
     },
     "execution_count": 32,
     "metadata": {},
     "output_type": "execute_result"
    }
   ],
   "source": [
    "# Parameterisation comes later for PT\n",
    "sm.zone_to_transit.sample(n=2)"
   ]
  },
  {
   "cell_type": "markdown",
   "metadata": {},
   "source": [
    "## Save model"
   ]
  },
  {
   "cell_type": "code",
   "execution_count": 33,
   "metadata": {},
   "outputs": [],
   "source": [
    "# Drop unneccessary columns\n",
    "cols = ['speed_factor', 'short_leg_speed', 'long_leg_speed', 'rank']\n",
    "sm.footpaths.drop(cols, axis=1, inplace=True)\n",
    "sm.zone_to_transit.drop(cols, axis=1, inplace=True)\n",
    "sm.zone_to_road.drop(cols, axis=1, inplace=True)\n",
    "sm.road_to_transit.drop(cols, axis=1, inplace=True)\n",
    "sm.zone_to_transit.drop(['n_links'], axis=1, inplace=True, errors='ignore')"
   ]
  },
  {
   "cell_type": "code",
   "execution_count": 34,
   "metadata": {},
   "outputs": [],
   "source": [
    "# Make tables lighter\n",
    "cols = ['distance', 'speed', 'time']\n",
    "sm.footpaths[cols] = sm.footpaths[cols].astype(int)\n",
    "sm.zone_to_transit[cols] = sm.zone_to_transit[cols].astype(int)\n",
    "sm.zone_to_road[cols] = sm.zone_to_road[cols].astype(int)\n",
    "sm.road_to_transit[cols] = sm.road_to_transit[cols].astype(int)"
   ]
  },
  {
   "cell_type": "code",
   "execution_count": 35,
   "metadata": {},
   "outputs": [
    {
     "data": {
      "text/html": [
       "<div>\n",
       "<style scoped>\n",
       "    .dataframe tbody tr th:only-of-type {\n",
       "        vertical-align: middle;\n",
       "    }\n",
       "\n",
       "    .dataframe tbody tr th {\n",
       "        vertical-align: top;\n",
       "    }\n",
       "\n",
       "    .dataframe thead th {\n",
       "        text-align: right;\n",
       "    }\n",
       "</style>\n",
       "<table border=\"1\" class=\"dataframe\">\n",
       "  <thead>\n",
       "    <tr style=\"text-align: right;\">\n",
       "      <th></th>\n",
       "      <th>a</th>\n",
       "      <th>b</th>\n",
       "      <th>direction</th>\n",
       "      <th>distance</th>\n",
       "      <th>geometry</th>\n",
       "      <th>speed</th>\n",
       "      <th>time</th>\n",
       "    </tr>\n",
       "  </thead>\n",
       "  <tbody>\n",
       "    <tr>\n",
       "      <th>foot_70855</th>\n",
       "      <td>rail_short_node_4911</td>\n",
       "      <td>bus_n_177899</td>\n",
       "      <td>eggress</td>\n",
       "      <td>453</td>\n",
       "      <td>LINESTRING (7.01732 51.72119, 7.01158 51.71919)</td>\n",
       "      <td>5</td>\n",
       "      <td>326</td>\n",
       "    </tr>\n",
       "  </tbody>\n",
       "</table>\n",
       "</div>"
      ],
      "text/plain": [
       "                               a             b direction  distance  \\\n",
       "foot_70855  rail_short_node_4911  bus_n_177899   eggress       453   \n",
       "\n",
       "                                                   geometry  speed  time  \n",
       "foot_70855  LINESTRING (7.01732 51.72119, 7.01158 51.71919)      5   326  "
      ]
     },
     "execution_count": 35,
     "metadata": {},
     "output_type": "execute_result"
    }
   ],
   "source": [
    "sm.footpaths.sample()"
   ]
  },
  {
   "cell_type": "code",
   "execution_count": 36,
   "metadata": {
    "scrolled": true
   },
   "outputs": [
    {
     "name": "stderr",
     "output_type": "stream",
     "text": [
      "to_hdf(overwriting): 100%|█████████████████████████████████████████████████████████████| 36/36 [00:14<00:00,  2.43it/s]\n",
      "to_hdf(overwriting): 100%|█████████████████████████████████████████████████████████████| 36/36 [00:02<00:00, 13.96it/s]\n"
     ]
    }
   ],
   "source": [
    "# Saving model...\n",
    "tables = ['centroids', 'footpaths', 'zone_to_transit']\n",
    "sm.to_json(model_path + 'de_pt_access_egress',\n",
    "           only_attributes=tables, encoding='utf-8')\n",
    "sm.to_json(model_path + 'de_road_access_egress',\n",
    "           only_attributes=['centroids', 'zone_to_road', 'road_to_transit'],\n",
    "           encoding='utf-8')"
   ]
  }
 ],
 "metadata": {
  "kernelspec": {
   "display_name": "Python 3",
   "language": "python",
   "name": "python3"
  },
  "language_info": {
   "codemirror_mode": {
    "name": "ipython",
    "version": 3
   },
   "file_extension": ".py",
   "mimetype": "text/x-python",
   "name": "python",
   "nbconvert_exporter": "python",
   "pygments_lexer": "ipython3",
   "version": "3.8.1"
  }
 },
 "nbformat": 4,
 "nbformat_minor": 2
}
